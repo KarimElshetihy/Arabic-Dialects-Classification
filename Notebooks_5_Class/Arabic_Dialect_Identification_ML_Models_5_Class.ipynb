{
 "cells": [
  {
   "cell_type": "markdown",
   "id": "766b507e",
   "metadata": {
    "id": "766b507e"
   },
   "source": [
    "# Arabic Dialect Identification - Applying Machine Learning\n",
    "## By Karim Elshetihy\n",
    "- [Github](https://github.com/KarimElshetihy)\n",
    "- [Linkedin](https://www.linkedin.com/in/karim-el-shetihy/)"
   ]
  },
  {
   "cell_type": "markdown",
   "id": "c9d2ec3d",
   "metadata": {
    "id": "c9d2ec3d"
   },
   "source": [
    "#### Referances:\n",
    "- [Arabic Dialict Identification in the Wild Paper](https://arxiv.org/pdf/2005.06557.pdf)\n",
    "- [Flask Tutorial](https://programminghistorian.org/en/lessons/creating-apis-with-python-and-flask)\n",
    "- [Multinomial Classification](https://towardsdatascience.com/the-complete-guide-to-neural-networks-multinomial-classification-4fe88bde7839)\n",
    "- [Multi-class text classification model with Keras](https://www.design-ai.de/blog-posts/multi-class-text-classification-model-with-keras)\n",
    "- [Word Embedding and Text Vectorization](https://www.analyticsvidhya.com/blog/2021/06/part-5-step-by-step-guide-to-master-nlp-text-vectorization-approaches/)\n",
    "\n",
    "\n",
    "#### The Dataset:\n",
    "The dataset and the dialect identification problem were addressed by Qatar Computing Research Institute, moreover, they published a paper, feel free to get more insights from it [Here](https://arxiv.org/pdf/2005.06557.pdf).\n",
    "\n",
    "We are given a dataset which has 2 columns, **id** and **dialect**.\n",
    "- Target label column is the **dialect***, which has 18 classes.\n",
    "- The **id** column will be used to retrieve the text, to do that, you need to call this API by a\n",
    "POST request. https://recruitment.aimtechnologies.co/ai-tasks.\n",
    "- The request body must be a JSON as a list of strings, and the size of the list must NOT exceed 1000.\n",
    "- The API will return a dictionary where the keys are the ids, and the values are the text, here is a request and response sample."
   ]
  },
  {
   "cell_type": "markdown",
   "id": "82531fb0",
   "metadata": {
    "id": "82531fb0"
   },
   "source": [
    "### Importing Packages"
   ]
  },
  {
   "cell_type": "code",
   "execution_count": 1,
   "id": "HqRN9O1YSj85",
   "metadata": {
    "colab": {
     "base_uri": "https://localhost:8080/"
    },
    "id": "HqRN9O1YSj85",
    "outputId": "7cfc8098-07e6-4cd8-b08a-0f7d221b715e"
   },
   "outputs": [
    {
     "name": "stdout",
     "output_type": "stream",
     "text": [
      "Drive already mounted at /content/drive; to attempt to forcibly remount, call drive.mount(\"/content/drive\", force_remount=True).\n"
     ]
    }
   ],
   "source": [
    "from google.colab import drive\n",
    "drive.mount('/content/drive')"
   ]
  },
  {
   "cell_type": "code",
   "execution_count": 2,
   "id": "ee3deac9",
   "metadata": {
    "id": "ee3deac9"
   },
   "outputs": [],
   "source": [
    "import numpy as np\n",
    "import pandas as pd\n",
    "import matplotlib.pyplot as plt\n",
    "from matplotlib import rcParams\n",
    "import seaborn as sb\n",
    "\n",
    "# Data Preparing Tools\n",
    "from sklearn.model_selection import train_test_split\n",
    "from sklearn.feature_extraction.text import CountVectorizer\n",
    "from sklearn.feature_extraction.text import TfidfVectorizer\n",
    "from sklearn.feature_extraction.text import TfidfTransformer\n",
    "from sklearn.feature_selection import chi2\n",
    "from sklearn.metrics import classification_report\n",
    "\n",
    "# Machine Learning Algorithms\n",
    "from sklearn.naive_bayes import MultinomialNB\n",
    "from sklearn.linear_model import LogisticRegression\n",
    "from sklearn.ensemble import RandomForestClassifier\n",
    "from sklearn.svm import LinearSVC\n",
    "\n",
    "# To save the models\n",
    "import pickle\n",
    "import joblib\n",
    "\n",
    "np.random.seed(1)\n",
    "%matplotlib inline\n",
    "sb.set_theme()\n",
    "\n",
    "import warnings\n",
    "warnings.simplefilter(\"ignore\")"
   ]
  },
  {
   "cell_type": "markdown",
   "id": "fa928eb0",
   "metadata": {
    "id": "fa928eb0"
   },
   "source": [
    "### Importing the Cleaned Dataset"
   ]
  },
  {
   "cell_type": "code",
   "execution_count": 3,
   "id": "05c6b538",
   "metadata": {
    "id": "05c6b538"
   },
   "outputs": [],
   "source": [
    "clean_df = pd.read_csv(\"/content/drive/MyDrive/Colab/Arabic Dialect Classifier/5_class_dialects.csv\")\n",
    "df = clean_df.copy()\n",
    "df = df.sample(frac=1).reset_index(drop=True)"
   ]
  },
  {
   "cell_type": "code",
   "execution_count": 4,
   "id": "76514a4e",
   "metadata": {
    "colab": {
     "base_uri": "https://localhost:8080/",
     "height": 206
    },
    "id": "76514a4e",
    "outputId": "e6140651-5f74-4f94-a729-bc2e6d7baa7e"
   },
   "outputs": [
    {
     "data": {
      "text/html": [
       "\n",
       "  <div id=\"df-e5860899-ff77-464e-b4da-5281f1bc506b\">\n",
       "    <div class=\"colab-df-container\">\n",
       "      <div>\n",
       "<style scoped>\n",
       "    .dataframe tbody tr th:only-of-type {\n",
       "        vertical-align: middle;\n",
       "    }\n",
       "\n",
       "    .dataframe tbody tr th {\n",
       "        vertical-align: top;\n",
       "    }\n",
       "\n",
       "    .dataframe thead th {\n",
       "        text-align: right;\n",
       "    }\n",
       "</style>\n",
       "<table border=\"1\" class=\"dataframe\">\n",
       "  <thead>\n",
       "    <tr style=\"text-align: right;\">\n",
       "      <th></th>\n",
       "      <th>id</th>\n",
       "      <th>dialect</th>\n",
       "      <th>text</th>\n",
       "    </tr>\n",
       "  </thead>\n",
       "  <tbody>\n",
       "    <tr>\n",
       "      <th>0</th>\n",
       "      <td>1137076371669311616</td>\n",
       "      <td>GULF</td>\n",
       "      <td>يالله محصلين حد يرد عليهم خلوا حد يقول رأيه لا...</td>\n",
       "    </tr>\n",
       "    <tr>\n",
       "      <th>1</th>\n",
       "      <td>1163759504154083328</td>\n",
       "      <td>SHAM</td>\n",
       "      <td>صحيح غالي متوفر فترة محلات السوبرماركت الكبيرة...</td>\n",
       "    </tr>\n",
       "    <tr>\n",
       "      <th>2</th>\n",
       "      <td>1176996529388883968</td>\n",
       "      <td>SHAM</td>\n",
       "      <td>عالم تعبانة صاحبي</td>\n",
       "    </tr>\n",
       "    <tr>\n",
       "      <th>3</th>\n",
       "      <td>1171858945000054784</td>\n",
       "      <td>SHAM</td>\n",
       "      <td>طيب بلكي بدهم اياه منصب آخر</td>\n",
       "    </tr>\n",
       "    <tr>\n",
       "      <th>4</th>\n",
       "      <td>1079860536605585408</td>\n",
       "      <td>SHAM</td>\n",
       "      <td>ينعاد رفيق جاد سنة خير انشالله</td>\n",
       "    </tr>\n",
       "  </tbody>\n",
       "</table>\n",
       "</div>\n",
       "      <button class=\"colab-df-convert\" onclick=\"convertToInteractive('df-e5860899-ff77-464e-b4da-5281f1bc506b')\"\n",
       "              title=\"Convert this dataframe to an interactive table.\"\n",
       "              style=\"display:none;\">\n",
       "        \n",
       "  <svg xmlns=\"http://www.w3.org/2000/svg\" height=\"24px\"viewBox=\"0 0 24 24\"\n",
       "       width=\"24px\">\n",
       "    <path d=\"M0 0h24v24H0V0z\" fill=\"none\"/>\n",
       "    <path d=\"M18.56 5.44l.94 2.06.94-2.06 2.06-.94-2.06-.94-.94-2.06-.94 2.06-2.06.94zm-11 1L8.5 8.5l.94-2.06 2.06-.94-2.06-.94L8.5 2.5l-.94 2.06-2.06.94zm10 10l.94 2.06.94-2.06 2.06-.94-2.06-.94-.94-2.06-.94 2.06-2.06.94z\"/><path d=\"M17.41 7.96l-1.37-1.37c-.4-.4-.92-.59-1.43-.59-.52 0-1.04.2-1.43.59L10.3 9.45l-7.72 7.72c-.78.78-.78 2.05 0 2.83L4 21.41c.39.39.9.59 1.41.59.51 0 1.02-.2 1.41-.59l7.78-7.78 2.81-2.81c.8-.78.8-2.07 0-2.86zM5.41 20L4 18.59l7.72-7.72 1.47 1.35L5.41 20z\"/>\n",
       "  </svg>\n",
       "      </button>\n",
       "      \n",
       "  <style>\n",
       "    .colab-df-container {\n",
       "      display:flex;\n",
       "      flex-wrap:wrap;\n",
       "      gap: 12px;\n",
       "    }\n",
       "\n",
       "    .colab-df-convert {\n",
       "      background-color: #E8F0FE;\n",
       "      border: none;\n",
       "      border-radius: 50%;\n",
       "      cursor: pointer;\n",
       "      display: none;\n",
       "      fill: #1967D2;\n",
       "      height: 32px;\n",
       "      padding: 0 0 0 0;\n",
       "      width: 32px;\n",
       "    }\n",
       "\n",
       "    .colab-df-convert:hover {\n",
       "      background-color: #E2EBFA;\n",
       "      box-shadow: 0px 1px 2px rgba(60, 64, 67, 0.3), 0px 1px 3px 1px rgba(60, 64, 67, 0.15);\n",
       "      fill: #174EA6;\n",
       "    }\n",
       "\n",
       "    [theme=dark] .colab-df-convert {\n",
       "      background-color: #3B4455;\n",
       "      fill: #D2E3FC;\n",
       "    }\n",
       "\n",
       "    [theme=dark] .colab-df-convert:hover {\n",
       "      background-color: #434B5C;\n",
       "      box-shadow: 0px 1px 3px 1px rgba(0, 0, 0, 0.15);\n",
       "      filter: drop-shadow(0px 1px 2px rgba(0, 0, 0, 0.3));\n",
       "      fill: #FFFFFF;\n",
       "    }\n",
       "  </style>\n",
       "\n",
       "      <script>\n",
       "        const buttonEl =\n",
       "          document.querySelector('#df-e5860899-ff77-464e-b4da-5281f1bc506b button.colab-df-convert');\n",
       "        buttonEl.style.display =\n",
       "          google.colab.kernel.accessAllowed ? 'block' : 'none';\n",
       "\n",
       "        async function convertToInteractive(key) {\n",
       "          const element = document.querySelector('#df-e5860899-ff77-464e-b4da-5281f1bc506b');\n",
       "          const dataTable =\n",
       "            await google.colab.kernel.invokeFunction('convertToInteractive',\n",
       "                                                     [key], {});\n",
       "          if (!dataTable) return;\n",
       "\n",
       "          const docLinkHtml = 'Like what you see? Visit the ' +\n",
       "            '<a target=\"_blank\" href=https://colab.research.google.com/notebooks/data_table.ipynb>data table notebook</a>'\n",
       "            + ' to learn more about interactive tables.';\n",
       "          element.innerHTML = '';\n",
       "          dataTable['output_type'] = 'display_data';\n",
       "          await google.colab.output.renderOutput(dataTable, element);\n",
       "          const docLink = document.createElement('div');\n",
       "          docLink.innerHTML = docLinkHtml;\n",
       "          element.appendChild(docLink);\n",
       "        }\n",
       "      </script>\n",
       "    </div>\n",
       "  </div>\n",
       "  "
      ],
      "text/plain": [
       "                    id dialect  \\\n",
       "0  1137076371669311616    GULF   \n",
       "1  1163759504154083328    SHAM   \n",
       "2  1176996529388883968    SHAM   \n",
       "3  1171858945000054784    SHAM   \n",
       "4  1079860536605585408    SHAM   \n",
       "\n",
       "                                                text  \n",
       "0  يالله محصلين حد يرد عليهم خلوا حد يقول رأيه لا...  \n",
       "1  صحيح غالي متوفر فترة محلات السوبرماركت الكبيرة...  \n",
       "2                                  عالم تعبانة صاحبي  \n",
       "3                        طيب بلكي بدهم اياه منصب آخر  \n",
       "4                     ينعاد رفيق جاد سنة خير انشالله  "
      ]
     },
     "execution_count": 4,
     "metadata": {},
     "output_type": "execute_result"
    }
   ],
   "source": [
    "df.head()"
   ]
  },
  {
   "cell_type": "code",
   "execution_count": 5,
   "id": "f95CIaVjTJKu",
   "metadata": {
    "colab": {
     "base_uri": "https://localhost:8080/"
    },
    "id": "f95CIaVjTJKu",
    "outputId": "4c5881a7-4d36-4020-9f2a-5a71c70071a8"
   },
   "outputs": [
    {
     "data": {
      "text/plain": [
       "(458197, 3)"
      ]
     },
     "execution_count": 5,
     "metadata": {},
     "output_type": "execute_result"
    }
   ],
   "source": [
    "df.shape"
   ]
  },
  {
   "cell_type": "code",
   "execution_count": 6,
   "id": "mxazuIgW9T61",
   "metadata": {
    "colab": {
     "base_uri": "https://localhost:8080/"
    },
    "id": "mxazuIgW9T61",
    "outputId": "7dba6689-0380-4152-b3f4-66f4f29b6ff6"
   },
   "outputs": [
    {
     "name": "stdout",
     "output_type": "stream",
     "text": [
      "<class 'pandas.core.frame.DataFrame'>\n",
      "RangeIndex: 458197 entries, 0 to 458196\n",
      "Data columns (total 3 columns):\n",
      " #   Column   Non-Null Count   Dtype \n",
      "---  ------   --------------   ----- \n",
      " 0   id       458197 non-null  int64 \n",
      " 1   dialect  458197 non-null  object\n",
      " 2   text     458197 non-null  object\n",
      "dtypes: int64(1), object(2)\n",
      "memory usage: 10.5+ MB\n"
     ]
    }
   ],
   "source": [
    "df.info()"
   ]
  },
  {
   "cell_type": "markdown",
   "id": "Lsa61dK2clwD",
   "metadata": {
    "id": "Lsa61dK2clwD"
   },
   "source": [
    "### Applying TFIDF"
   ]
  },
  {
   "cell_type": "code",
   "execution_count": 8,
   "id": "apjujpRcKpXJ",
   "metadata": {
    "colab": {
     "base_uri": "https://localhost:8080/"
    },
    "id": "apjujpRcKpXJ",
    "outputId": "7319bafe-ad89-4b75-b7fd-49d4b79e5627"
   },
   "outputs": [
    {
     "name": "stdout",
     "output_type": "stream",
     "text": [
      "Features Shape: (458197, 2029)\n"
     ]
    }
   ],
   "source": [
    "tfidf = TfidfVectorizer(min_df=300, norm='l1', ngram_range=(1, 1))\n",
    "features = tfidf.fit_transform(df['text']).toarray()\n",
    "print('Features Shape: {}'.format(features.shape))"
   ]
  },
  {
   "cell_type": "markdown",
   "id": "294d6440",
   "metadata": {
    "id": "294d6440"
   },
   "source": [
    "### Encoding Columns"
   ]
  },
  {
   "cell_type": "code",
   "execution_count": 9,
   "id": "53b24853",
   "metadata": {
    "id": "53b24853"
   },
   "outputs": [],
   "source": [
    "df['dialect_id'] = df['dialect'].factorize()[0]\n",
    "targets = df['dialect_id']\n",
    "\n",
    "dialect_to_id = dict(zip(df['dialect'].unique(), df['dialect_id'].unique()))\n",
    "id_to_dialect = dict(zip(df['dialect_id'].unique(), df['dialect'].unique()))"
   ]
  },
  {
   "cell_type": "code",
   "execution_count": 10,
   "id": "sjuGtw2_KpZv",
   "metadata": {
    "colab": {
     "base_uri": "https://localhost:8080/"
    },
    "id": "sjuGtw2_KpZv",
    "outputId": "f8dfe2f0-0886-483f-9c1c-8a0119edfa67"
   },
   "outputs": [
    {
     "name": "stdout",
     "output_type": "stream",
     "text": [
      "# 'EGYPT':\n",
      "  . Most correlated unigrams:\n",
      ". فى\n",
      ". ده\n",
      "# 'GULF':\n",
      "  . Most correlated unigrams:\n",
      ". ده\n",
      ". مش\n",
      "# 'MAGHREB':\n",
      "  . Most correlated unigrams:\n",
      ". شن\n",
      ". باش\n",
      "# 'SHAM':\n",
      "  . Most correlated unigrams:\n",
      ". هيك\n",
      ". شو\n",
      "# 'SODAN':\n",
      "  . Most correlated unigrams:\n",
      ". دي\n",
      ". دا\n"
     ]
    }
   ],
   "source": [
    "# Printing some TFIDF Results &\n",
    "# Applying chi-sequared test to the TFIDF features\n",
    "N = 2\n",
    "\n",
    "for dialect, dialect_id in sorted(dialect_to_id.items()):\n",
    "    features_chi2 = chi2(features, targets == dialect_id)\n",
    "    indices = np.argsort(features_chi2[0])\n",
    "    feature_names = np.array(tfidf.get_feature_names())[indices]\n",
    "    unigrams = [v for v in feature_names if len(v.split(' ')) == 1]\n",
    "    # bigrams = [v for v in feature_names if len(v.split(' ')) == 2]\n",
    "\n",
    "    print(\"# '{}':\".format(dialect))\n",
    "    print(\"  . Most correlated unigrams:\\n. {}\".format('\\n. '.join(unigrams[-N:])))\n",
    "    # print(\"  . Most correlated bigrams:\\n. {}\".format('\\n. '.join(bigrams[-N:])))"
   ]
  },
  {
   "cell_type": "markdown",
   "id": "rWky-C9kdS2V",
   "metadata": {
    "id": "rWky-C9kdS2V"
   },
   "source": [
    "### Splitting the Data"
   ]
  },
  {
   "cell_type": "code",
   "execution_count": 11,
   "id": "BWREWjuNc6i3",
   "metadata": {
    "id": "BWREWjuNc6i3"
   },
   "outputs": [],
   "source": [
    "X_train, X_test, y_train, y_test = train_test_split(df['text'], df['dialect'], test_size = 0.15, random_state = 1)"
   ]
  },
  {
   "cell_type": "markdown",
   "id": "2Ct0GDEUhCyQ",
   "metadata": {
    "id": "2Ct0GDEUhCyQ"
   },
   "source": [
    "### Applying Count Vectorizer"
   ]
  },
  {
   "cell_type": "code",
   "execution_count": 12,
   "id": "EIfDr5DMg-Vp",
   "metadata": {
    "id": "EIfDr5DMg-Vp"
   },
   "outputs": [],
   "source": [
    "count_vect = CountVectorizer()\n",
    "X_train_counts = count_vect.fit_transform(X_train)"
   ]
  },
  {
   "cell_type": "markdown",
   "id": "PEybhFKihDfe",
   "metadata": {
    "id": "PEybhFKihDfe"
   },
   "source": [
    "### Applying TFIDF Transformation"
   ]
  },
  {
   "cell_type": "code",
   "execution_count": 13,
   "id": "g_fSpd9UKpb_",
   "metadata": {
    "id": "g_fSpd9UKpb_"
   },
   "outputs": [],
   "source": [
    "tfidf_transformer = TfidfTransformer()\n",
    "X_train_tfidf = tfidf_transformer.fit_transform(X_train_counts)"
   ]
  },
  {
   "cell_type": "markdown",
   "id": "89c4b964",
   "metadata": {
    "id": "89c4b964"
   },
   "source": [
    "----"
   ]
  },
  {
   "cell_type": "markdown",
   "id": "fl9rq2X_hGTU",
   "metadata": {
    "id": "fl9rq2X_hGTU"
   },
   "source": [
    "### Training the Naive Bayse Model"
   ]
  },
  {
   "cell_type": "code",
   "execution_count": 14,
   "id": "tHwslKpuhGHf",
   "metadata": {
    "id": "tHwslKpuhGHf"
   },
   "outputs": [],
   "source": [
    "NB = MultinomialNB().fit(X_train_tfidf, y_train)"
   ]
  },
  {
   "cell_type": "markdown",
   "id": "Yh3WvAVhhd11",
   "metadata": {
    "id": "Yh3WvAVhhd11"
   },
   "source": [
    "### Printing some Results"
   ]
  },
  {
   "cell_type": "code",
   "execution_count": 15,
   "id": "tFCQWHSUKpfE",
   "metadata": {
    "colab": {
     "base_uri": "https://localhost:8080/"
    },
    "id": "tFCQWHSUKpfE",
    "outputId": "ba87a4e7-5a02-4299-d730-58536f23624e"
   },
   "outputs": [
    {
     "name": "stdout",
     "output_type": "stream",
     "text": [
      "['EGYPT']\n"
     ]
    }
   ],
   "source": [
    "sample = \"عايز اشوف السيدة ال كانت بتجادل باسم عودة وبتقوله الرز غالى انا ممكن اقدر اشترية بس ف مواطنيين ماتقدرش تشترى وقتها ب جنيه.و قنينه الزيت عباد كانت ب جنيه واللحمه كانت ب جنيه .ياترى عامله اية دلوقتى ف جنة السيسي ال الزيت ب  جنية واللحمة ب جنيه\"\n",
    "print(NB.predict(count_vect.transform([sample])))"
   ]
  },
  {
   "cell_type": "code",
   "execution_count": 16,
   "id": "kcaYF5W3Sy19",
   "metadata": {
    "colab": {
     "base_uri": "https://localhost:8080/"
    },
    "id": "kcaYF5W3Sy19",
    "outputId": "e888ce24-84be-486a-8129-2c5494ad0aa4"
   },
   "outputs": [
    {
     "name": "stdout",
     "output_type": "stream",
     "text": [
      "['SHAM']\n"
     ]
    }
   ],
   "source": [
    "sample = \"فيه اشي راح يصير من شان لبنان من الدول العربية مشان ينعدل وينزبط حالون لانّوا ما بينفع معّن الا هيك\"\n",
    "print(NB.predict(count_vect.transform([sample])))"
   ]
  },
  {
   "cell_type": "code",
   "execution_count": 17,
   "id": "RaWaKjeGUjP3",
   "metadata": {
    "colab": {
     "base_uri": "https://localhost:8080/"
    },
    "id": "RaWaKjeGUjP3",
    "outputId": "54379bdc-31bd-482d-d085-360f5cd06e76"
   },
   "outputs": [
    {
     "name": "stdout",
     "output_type": "stream",
     "text": [
      "['GULF']\n"
     ]
    }
   ],
   "source": [
    "sample = \"إبن عمك عراقي ، من زمن لابس نطاقي. والله أسويها ويشيبلها الرضيع\"\n",
    "print(NB.predict(count_vect.transform([sample])))"
   ]
  },
  {
   "cell_type": "markdown",
   "id": "0ceefffa",
   "metadata": {
    "id": "0ceefffa"
   },
   "source": [
    "### Training Report"
   ]
  },
  {
   "cell_type": "code",
   "execution_count": 18,
   "id": "4t6sBd0El_ah",
   "metadata": {
    "id": "4t6sBd0El_ah"
   },
   "outputs": [],
   "source": [
    "NB_predictions = NB.predict(X_train_tfidf)"
   ]
  },
  {
   "cell_type": "code",
   "execution_count": 19,
   "id": "aTJmpxU2kxXU",
   "metadata": {
    "colab": {
     "base_uri": "https://localhost:8080/"
    },
    "id": "aTJmpxU2kxXU",
    "outputId": "1144107f-d773-4862-df7f-03dfcbe055c6"
   },
   "outputs": [
    {
     "name": "stdout",
     "output_type": "stream",
     "text": [
      "              precision    recall  f1-score   support\n",
      "\n",
      "       EGYPT       0.91      0.59      0.72     48899\n",
      "        GULF       0.70      0.99      0.82    167494\n",
      "     MAGHREB       0.98      0.50      0.66     62590\n",
      "        SHAM       0.84      0.75      0.79     98264\n",
      "       SODAN       1.00      0.03      0.06     12220\n",
      "\n",
      "    accuracy                           0.77    389467\n",
      "   macro avg       0.89      0.57      0.61    389467\n",
      "weighted avg       0.81      0.77      0.75    389467\n",
      "\n"
     ]
    }
   ],
   "source": [
    "print(classification_report(y_train, NB_predictions))"
   ]
  },
  {
   "cell_type": "markdown",
   "id": "a5ba1534",
   "metadata": {
    "id": "a5ba1534"
   },
   "source": [
    "### Testing Report"
   ]
  },
  {
   "cell_type": "code",
   "execution_count": 20,
   "id": "3IEbtW_VmMhs",
   "metadata": {
    "id": "3IEbtW_VmMhs"
   },
   "outputs": [],
   "source": [
    "# Applying Count Vectorizer\n",
    "NB_test_predictions = []\n",
    "for text in X_test.values:\n",
    "    X_test_counts = count_vect.transform([text])\n",
    "    pred = NB.predict(X_test_counts)\n",
    "    NB_test_predictions.append(pred)"
   ]
  },
  {
   "cell_type": "code",
   "execution_count": 21,
   "id": "-dd5Bfehkxe_",
   "metadata": {
    "colab": {
     "base_uri": "https://localhost:8080/"
    },
    "id": "-dd5Bfehkxe_",
    "outputId": "5b86e8ec-3b3b-49a3-d766-692c6fcbbdfe"
   },
   "outputs": [
    {
     "name": "stdout",
     "output_type": "stream",
     "text": [
      "              precision    recall  f1-score   support\n",
      "\n",
      "       EGYPT       0.83      0.65      0.73      8737\n",
      "        GULF       0.71      0.96      0.82     29644\n",
      "     MAGHREB       0.94      0.47      0.62     10877\n",
      "        SHAM       0.77      0.72      0.74     17258\n",
      "       SODAN       0.96      0.06      0.12      2214\n",
      "\n",
      "    accuracy                           0.75     68730\n",
      "   macro avg       0.84      0.57      0.61     68730\n",
      "weighted avg       0.79      0.75      0.73     68730\n",
      "\n"
     ]
    }
   ],
   "source": [
    "print(classification_report(y_test, NB_test_predictions))"
   ]
  },
  {
   "cell_type": "markdown",
   "id": "5cd19689",
   "metadata": {
    "id": "5cd19689"
   },
   "source": [
    "---"
   ]
  },
  {
   "cell_type": "markdown",
   "id": "TCO0pF3F7CZb",
   "metadata": {
    "id": "TCO0pF3F7CZb"
   },
   "source": [
    "## Support Vector Machines Classifier"
   ]
  },
  {
   "cell_type": "markdown",
   "id": "7FW6KDOM69rJ",
   "metadata": {
    "id": "7FW6KDOM69rJ"
   },
   "source": [
    "### Training SVM Model"
   ]
  },
  {
   "cell_type": "code",
   "execution_count": 22,
   "id": "KJZq3Wm769rK",
   "metadata": {
    "id": "KJZq3Wm769rK"
   },
   "outputs": [],
   "source": [
    "SVM = LinearSVC().fit(X_train_tfidf, y_train)"
   ]
  },
  {
   "cell_type": "markdown",
   "id": "Y6dCkc_Q69rK",
   "metadata": {
    "id": "Y6dCkc_Q69rK"
   },
   "source": [
    "### Printing some Results"
   ]
  },
  {
   "cell_type": "code",
   "execution_count": 23,
   "id": "4e_jbAgK69rK",
   "metadata": {
    "colab": {
     "base_uri": "https://localhost:8080/"
    },
    "id": "4e_jbAgK69rK",
    "outputId": "b4fb0601-2847-41ae-9ae7-246b9265ef3d"
   },
   "outputs": [
    {
     "name": "stdout",
     "output_type": "stream",
     "text": [
      "['EGYPT']\n"
     ]
    }
   ],
   "source": [
    "sample = \"عايز اشوف السيدة ال كانت بتجادل باسم عودة وبتقوله الرز غالى انا ممكن اقدر اشترية بس ف مواطنيين ماتقدرش تشترى وقتها ب جنيه.و قنينه الزيت عباد كانت ب جنيه واللحمه كانت ب جنيه .ياترى عامله اية دلوقتى ف جنة السيسي ال الزيت ب  جنية واللحمة ب جنيه\"\n",
    "print(SVM.predict(count_vect.transform([sample])))"
   ]
  },
  {
   "cell_type": "code",
   "execution_count": 24,
   "id": "AxdTJfSv69rK",
   "metadata": {
    "colab": {
     "base_uri": "https://localhost:8080/"
    },
    "id": "AxdTJfSv69rK",
    "outputId": "bc4d9931-b83f-4cb5-dd6c-731b6a74db40"
   },
   "outputs": [
    {
     "name": "stdout",
     "output_type": "stream",
     "text": [
      "['SHAM']\n"
     ]
    }
   ],
   "source": [
    "sample = \"فيه اشي راح يصير من شان لبنان من الدول العربية مشان ينعدل وينزبط حالون لانّوا ما بينفع معّن الا هيك\"\n",
    "print(SVM.predict(count_vect.transform([sample])))"
   ]
  },
  {
   "cell_type": "code",
   "execution_count": 25,
   "id": "esmYw_CR69rL",
   "metadata": {
    "colab": {
     "base_uri": "https://localhost:8080/"
    },
    "id": "esmYw_CR69rL",
    "outputId": "b1c1ab46-a839-4067-e388-8f4fb2771c56"
   },
   "outputs": [
    {
     "name": "stdout",
     "output_type": "stream",
     "text": [
      "['GULF']\n"
     ]
    }
   ],
   "source": [
    "sample = \"إبن عمك عراقي ، من زمن لابس نطاقي. والله أسويها ويشيبلها الرضيع\"\n",
    "print(SVM.predict(count_vect.transform([sample])))"
   ]
  },
  {
   "cell_type": "markdown",
   "id": "ec01f06e",
   "metadata": {
    "id": "ec01f06e"
   },
   "source": [
    "### Training Report"
   ]
  },
  {
   "cell_type": "code",
   "execution_count": 26,
   "id": "I812svkY69rL",
   "metadata": {
    "id": "I812svkY69rL"
   },
   "outputs": [],
   "source": [
    "SVM_predictions = SVM.predict(X_train_tfidf)"
   ]
  },
  {
   "cell_type": "code",
   "execution_count": 27,
   "id": "a8v7ltSA69rL",
   "metadata": {
    "colab": {
     "base_uri": "https://localhost:8080/"
    },
    "id": "a8v7ltSA69rL",
    "outputId": "54e12a60-feba-4c69-ab6c-8f6d6a5879de"
   },
   "outputs": [
    {
     "name": "stdout",
     "output_type": "stream",
     "text": [
      "              precision    recall  f1-score   support\n",
      "\n",
      "       EGYPT       0.94      0.96      0.95     48899\n",
      "        GULF       0.94      0.98      0.96    167494\n",
      "     MAGHREB       0.97      0.91      0.94     62590\n",
      "        SHAM       0.95      0.93      0.94     98264\n",
      "       SODAN       0.99      0.89      0.94     12220\n",
      "\n",
      "    accuracy                           0.95    389467\n",
      "   macro avg       0.96      0.93      0.95    389467\n",
      "weighted avg       0.95      0.95      0.95    389467\n",
      "\n"
     ]
    }
   ],
   "source": [
    "print(classification_report(y_train, SVM_predictions))"
   ]
  },
  {
   "cell_type": "markdown",
   "id": "933bedd3",
   "metadata": {
    "id": "933bedd3"
   },
   "source": [
    "### Testing Report"
   ]
  },
  {
   "cell_type": "code",
   "execution_count": 28,
   "id": "BA-KcROY801c",
   "metadata": {
    "id": "BA-KcROY801c"
   },
   "outputs": [],
   "source": [
    "# Applying Count Vectorizer\n",
    "SVM_test_predictions = []\n",
    "for text in X_test.values:\n",
    "    X_test_counts = count_vect.transform([text])\n",
    "    pred = SVM.predict(X_test_counts)\n",
    "    SVM_test_predictions.append(pred)"
   ]
  },
  {
   "cell_type": "code",
   "execution_count": 29,
   "id": "Acld90PJ801d",
   "metadata": {
    "colab": {
     "base_uri": "https://localhost:8080/"
    },
    "id": "Acld90PJ801d",
    "outputId": "409253fe-7eb1-4a71-ccad-6b6f35f7535c"
   },
   "outputs": [
    {
     "name": "stdout",
     "output_type": "stream",
     "text": [
      "              precision    recall  f1-score   support\n",
      "\n",
      "       EGYPT       0.69      0.86      0.76      8737\n",
      "        GULF       0.85      0.83      0.84     29644\n",
      "     MAGHREB       0.76      0.68      0.72     10877\n",
      "        SHAM       0.76      0.76      0.76     17258\n",
      "       SODAN       0.62      0.59      0.61      2214\n",
      "\n",
      "    accuracy                           0.79     68730\n",
      "   macro avg       0.74      0.74      0.74     68730\n",
      "weighted avg       0.79      0.79      0.79     68730\n",
      "\n"
     ]
    }
   ],
   "source": [
    "print(classification_report(y_test, SVM_test_predictions))"
   ]
  },
  {
   "cell_type": "markdown",
   "id": "6a69ddbf",
   "metadata": {
    "id": "6a69ddbf"
   },
   "source": [
    "---"
   ]
  },
  {
   "cell_type": "markdown",
   "id": "geZKAXTxWyfY",
   "metadata": {
    "id": "geZKAXTxWyfY"
   },
   "source": [
    "### Logistic Regression Classifier"
   ]
  },
  {
   "cell_type": "markdown",
   "id": "5RSIUjesWyfm",
   "metadata": {
    "id": "5RSIUjesWyfm"
   },
   "source": [
    "### Training the Logestic Regression Model"
   ]
  },
  {
   "cell_type": "code",
   "execution_count": 30,
   "id": "pxq4cewVWyfm",
   "metadata": {
    "id": "pxq4cewVWyfm"
   },
   "outputs": [],
   "source": [
    "LR = LogisticRegression().fit(X_train_tfidf, y_train)"
   ]
  },
  {
   "cell_type": "markdown",
   "id": "Vs7rT14TWyfn",
   "metadata": {
    "id": "Vs7rT14TWyfn"
   },
   "source": [
    "### Printing some Results"
   ]
  },
  {
   "cell_type": "code",
   "execution_count": 31,
   "id": "xb9VPDngWyfn",
   "metadata": {
    "colab": {
     "base_uri": "https://localhost:8080/"
    },
    "id": "xb9VPDngWyfn",
    "outputId": "a90f77d3-54fa-4746-b3ad-4124c23328a3"
   },
   "outputs": [
    {
     "name": "stdout",
     "output_type": "stream",
     "text": [
      "['EGYPT']\n"
     ]
    }
   ],
   "source": [
    "sample = \"عايز اشوف السيدة ال كانت بتجادل باسم عودة وبتقوله الرز غالى انا ممكن اقدر اشترية بس ف مواطنيين ماتقدرش تشترى وقتها ب جنيه.و قنينه الزيت عباد كانت ب جنيه واللحمه كانت ب جنيه .ياترى عامله اية دلوقتى ف جنة السيسي ال الزيت ب  جنية واللحمة ب جنيه\"\n",
    "print(LR.predict(count_vect.transform([sample])))"
   ]
  },
  {
   "cell_type": "code",
   "execution_count": 32,
   "id": "LFO-YxrCWyfo",
   "metadata": {
    "colab": {
     "base_uri": "https://localhost:8080/"
    },
    "id": "LFO-YxrCWyfo",
    "outputId": "20a4a5e3-c0b5-4f9b-a13c-3722281b497c"
   },
   "outputs": [
    {
     "name": "stdout",
     "output_type": "stream",
     "text": [
      "['SHAM']\n"
     ]
    }
   ],
   "source": [
    "sample = \"فيه اشي راح يصير من شان لبنان من الدول العربية مشان ينعدل وينزبط حالون لانّوا ما بينفع معّن الا هيك\"\n",
    "print(LR.predict(count_vect.transform([sample])))"
   ]
  },
  {
   "cell_type": "code",
   "execution_count": 33,
   "id": "sTkKh-Q0Wyfq",
   "metadata": {
    "colab": {
     "base_uri": "https://localhost:8080/"
    },
    "id": "sTkKh-Q0Wyfq",
    "outputId": "a9408672-b43b-482d-e452-4f27cde11e81"
   },
   "outputs": [
    {
     "name": "stdout",
     "output_type": "stream",
     "text": [
      "['GULF']\n"
     ]
    }
   ],
   "source": [
    "sample = \"إبن عمك عراقي ، من زمن لابس نطاقي. والله أسويها ويشيبلها الرضيع\"\n",
    "print(LR.predict(count_vect.transform([sample])))"
   ]
  },
  {
   "cell_type": "markdown",
   "id": "8f78878f",
   "metadata": {
    "id": "8f78878f"
   },
   "source": [
    "### Training Report"
   ]
  },
  {
   "cell_type": "code",
   "execution_count": 34,
   "id": "kld0TZ2CWyfr",
   "metadata": {
    "id": "kld0TZ2CWyfr"
   },
   "outputs": [],
   "source": [
    "LR_predictions = LR.predict(X_train_tfidf)"
   ]
  },
  {
   "cell_type": "code",
   "execution_count": 35,
   "id": "jSu5V0urWyfs",
   "metadata": {
    "colab": {
     "base_uri": "https://localhost:8080/"
    },
    "id": "jSu5V0urWyfs",
    "outputId": "02b93029-2356-46c0-85b4-1c7e752c3b35"
   },
   "outputs": [
    {
     "name": "stdout",
     "output_type": "stream",
     "text": [
      "              precision    recall  f1-score   support\n",
      "\n",
      "       EGYPT       0.82      0.78      0.80     48899\n",
      "        GULF       0.79      0.94      0.86    167494\n",
      "     MAGHREB       0.87      0.64      0.73     62590\n",
      "        SHAM       0.82      0.76      0.79     98264\n",
      "       SODAN       0.86      0.44      0.58     12220\n",
      "\n",
      "    accuracy                           0.81    389467\n",
      "   macro avg       0.83      0.71      0.75    389467\n",
      "weighted avg       0.82      0.81      0.81    389467\n",
      "\n"
     ]
    }
   ],
   "source": [
    "print(classification_report(y_train, LR_predictions))"
   ]
  },
  {
   "cell_type": "markdown",
   "id": "dfece755",
   "metadata": {
    "id": "dfece755"
   },
   "source": [
    "### Testing Report"
   ]
  },
  {
   "cell_type": "code",
   "execution_count": 36,
   "id": "c-z2dBvZWyft",
   "metadata": {
    "id": "c-z2dBvZWyft"
   },
   "outputs": [],
   "source": [
    "# Applying Count Vectorizer\n",
    "LR_test_predictions = []\n",
    "for text in X_test.values:\n",
    "    X_test_counts = count_vect.transform([text])\n",
    "    pred = LR.predict(X_test_counts)\n",
    "    LR_test_predictions.append(pred)"
   ]
  },
  {
   "cell_type": "code",
   "execution_count": 37,
   "id": "QzkiW4DZWyft",
   "metadata": {
    "colab": {
     "base_uri": "https://localhost:8080/"
    },
    "id": "QzkiW4DZWyft",
    "outputId": "2af9c7f4-6063-41e6-929f-066af5b33baf"
   },
   "outputs": [
    {
     "name": "stdout",
     "output_type": "stream",
     "text": [
      "              precision    recall  f1-score   support\n",
      "\n",
      "       EGYPT       0.65      0.80      0.72      8737\n",
      "        GULF       0.82      0.81      0.82     29644\n",
      "     MAGHREB       0.73      0.63      0.68     10877\n",
      "        SHAM       0.74      0.72      0.73     17258\n",
      "       SODAN       0.46      0.58      0.51      2214\n",
      "\n",
      "    accuracy                           0.75     68730\n",
      "   macro avg       0.68      0.71      0.69     68730\n",
      "weighted avg       0.76      0.75      0.75     68730\n",
      "\n"
     ]
    }
   ],
   "source": [
    "print(classification_report(y_test, LR_test_predictions))"
   ]
  },
  {
   "cell_type": "markdown",
   "id": "df257837",
   "metadata": {
    "id": "df257837"
   },
   "source": [
    "---"
   ]
  },
  {
   "cell_type": "markdown",
   "id": "Q7FFvnDFeRPF",
   "metadata": {
    "id": "Q7FFvnDFeRPF"
   },
   "source": [
    "## Random Forests Classifier "
   ]
  },
  {
   "cell_type": "markdown",
   "id": "3f9p5jNyeRPJ",
   "metadata": {
    "id": "3f9p5jNyeRPJ"
   },
   "source": [
    "### Training the Random Forests Model"
   ]
  },
  {
   "cell_type": "code",
   "execution_count": 53,
   "id": "SCbIdjgMeRPJ",
   "metadata": {
    "id": "SCbIdjgMeRPJ"
   },
   "outputs": [],
   "source": [
    "RF = RandomForestClassifier(n_estimators=2000, max_depth=20, random_state=0).fit(X_train_tfidf, y_train)"
   ]
  },
  {
   "cell_type": "markdown",
   "id": "NxeFT9fweRPK",
   "metadata": {
    "id": "NxeFT9fweRPK"
   },
   "source": [
    "### Printing some Results"
   ]
  },
  {
   "cell_type": "code",
   "execution_count": 54,
   "id": "LRCArBZseRPK",
   "metadata": {
    "colab": {
     "base_uri": "https://localhost:8080/"
    },
    "id": "LRCArBZseRPK",
    "outputId": "b9e23266-3836-4170-d30d-430c1f3b7652"
   },
   "outputs": [
    {
     "name": "stdout",
     "output_type": "stream",
     "text": [
      "['GULF']\n"
     ]
    }
   ],
   "source": [
    "sample = \"عايز اشوف السيدة ال كانت بتجادل باسم عودة وبتقوله الرز غالى انا ممكن اقدر اشترية بس ف مواطنيين ماتقدرش تشترى وقتها ب جنيه.و قنينه الزيت عباد كانت ب جنيه واللحمه كانت ب جنيه .ياترى عامله اية دلوقتى ف جنة السيسي ال الزيت ب  جنية واللحمة ب جنيه\"\n",
    "print(RF.predict(count_vect.transform([sample])))"
   ]
  },
  {
   "cell_type": "code",
   "execution_count": 55,
   "id": "pHCuaivteRPL",
   "metadata": {
    "colab": {
     "base_uri": "https://localhost:8080/"
    },
    "id": "pHCuaivteRPL",
    "outputId": "f65c5c02-896a-43a0-c452-78edf99d8972"
   },
   "outputs": [
    {
     "name": "stdout",
     "output_type": "stream",
     "text": [
      "['GULF']\n"
     ]
    }
   ],
   "source": [
    "sample = \"فيه اشي راح يصير من شان لبنان من الدول العربية مشان ينعدل وينزبط حالون لانّوا ما بينفع معّن الا هيك\"\n",
    "print(RF.predict(count_vect.transform([sample])))"
   ]
  },
  {
   "cell_type": "code",
   "execution_count": 56,
   "id": "x8YC7HMkeRPN",
   "metadata": {
    "colab": {
     "base_uri": "https://localhost:8080/"
    },
    "id": "x8YC7HMkeRPN",
    "outputId": "e666ffb9-f988-4165-a83b-7a9acddb5969"
   },
   "outputs": [
    {
     "name": "stdout",
     "output_type": "stream",
     "text": [
      "['GULF']\n"
     ]
    }
   ],
   "source": [
    "sample = \"إبن عمك عراقي ، من زمن لابس نطاقي. والله أسويها ويشيبلها الرضيع\"\n",
    "print(RF.predict(count_vect.transform([sample])))"
   ]
  },
  {
   "cell_type": "markdown",
   "id": "e3800bb8",
   "metadata": {
    "id": "e3800bb8"
   },
   "source": [
    "### Training Report"
   ]
  },
  {
   "cell_type": "code",
   "execution_count": 51,
   "id": "1615dff6",
   "metadata": {
    "id": "1615dff6"
   },
   "outputs": [],
   "source": [
    "RF_predictions = RF.predict(X_train_tfidf)"
   ]
  },
  {
   "cell_type": "code",
   "execution_count": 52,
   "id": "UbwjfG1reRPO",
   "metadata": {
    "colab": {
     "base_uri": "https://localhost:8080/"
    },
    "id": "UbwjfG1reRPO",
    "outputId": "c53a4aee-d539-4c1e-f893-333ec9dbe14e"
   },
   "outputs": [
    {
     "name": "stdout",
     "output_type": "stream",
     "text": [
      "              precision    recall  f1-score   support\n",
      "\n",
      "       EGYPT       1.00      0.00      0.00     48899\n",
      "        GULF       0.43      1.00      0.60    167494\n",
      "     MAGHREB       1.00      0.00      0.00     62590\n",
      "        SHAM       1.00      0.01      0.02     98264\n",
      "       SODAN       0.00      0.00      0.00     12220\n",
      "\n",
      "    accuracy                           0.43    389467\n",
      "   macro avg       0.69      0.20      0.13    389467\n",
      "weighted avg       0.72      0.43      0.26    389467\n",
      "\n"
     ]
    }
   ],
   "source": [
    "print(classification_report(y_train, RF_predictions))"
   ]
  },
  {
   "cell_type": "markdown",
   "id": "5bee9a89",
   "metadata": {
    "id": "5bee9a89"
   },
   "source": [
    "### Testing Report"
   ]
  },
  {
   "cell_type": "code",
   "execution_count": 57,
   "id": "dPCoOzfTeRPP",
   "metadata": {
    "id": "dPCoOzfTeRPP"
   },
   "outputs": [],
   "source": [
    "# # Applying Count Vectorizer\n",
    "# RF_test_predictions = []\n",
    "# for text in X_test.values:\n",
    "#     X_test_counts = count_vect.transform([text])\n",
    "#     pred = RF.predict(X_test_counts)\n",
    "#     RF_test_predictions.append(pred)"
   ]
  },
  {
   "cell_type": "code",
   "execution_count": 58,
   "id": "DMlyqLMqeRPP",
   "metadata": {
    "id": "DMlyqLMqeRPP"
   },
   "outputs": [],
   "source": [
    "# print(classification_report(y_test, RF_test_predictions))"
   ]
  },
  {
   "cell_type": "markdown",
   "id": "cd401c97",
   "metadata": {
    "id": "cd401c97"
   },
   "source": [
    "---"
   ]
  },
  {
   "cell_type": "markdown",
   "id": "23605a14",
   "metadata": {
    "id": "23605a14"
   },
   "source": [
    "### Saving the Models"
   ]
  },
  {
   "cell_type": "markdown",
   "id": "78227942",
   "metadata": {
    "id": "78227942"
   },
   "source": [
    "#### TFIDF Features"
   ]
  },
  {
   "cell_type": "code",
   "execution_count": 59,
   "id": "PEvOWMXoW0SA",
   "metadata": {
    "id": "PEvOWMXoW0SA"
   },
   "outputs": [],
   "source": [
    "# Saving TFIDF Transformer Features\n",
    "pickle.dump(tfidf, open(\"/content/drive/MyDrive/Colab/Arabic Dialect Classifier/tfidf3005.pickle\", \"wb\"))\n",
    "pickle.dump(X_train_tfidf, open(\"/content/drive/MyDrive/Colab/Arabic Dialect Classifier/train_features3005.pickle\", \"wb\"))"
   ]
  },
  {
   "cell_type": "markdown",
   "id": "c387ddd7",
   "metadata": {
    "id": "c387ddd7"
   },
   "source": [
    "#### Machine Learning Models"
   ]
  },
  {
   "cell_type": "code",
   "execution_count": 60,
   "id": "6YBlINtNy5y-",
   "metadata": {
    "colab": {
     "base_uri": "https://localhost:8080/"
    },
    "id": "6YBlINtNy5y-",
    "outputId": "e187af12-3944-4e99-c82a-6e7b43a5db03"
   },
   "outputs": [
    {
     "data": {
      "text/plain": [
       "['/content/drive/MyDrive/Colab/Arabic Dialect Classifier/SVM_Model.sav']"
      ]
     },
     "execution_count": 60,
     "metadata": {},
     "output_type": "execute_result"
    }
   ],
   "source": [
    "# save the models\n",
    "filename = '/content/drive/MyDrive/Colab/Arabic Dialect Classifier/SVM_Model.sav'\n",
    "joblib.dump(SVM, filename)"
   ]
  },
  {
   "cell_type": "code",
   "execution_count": 61,
   "id": "EUkdzFEUgxM6",
   "metadata": {
    "colab": {
     "base_uri": "https://localhost:8080/"
    },
    "id": "EUkdzFEUgxM6",
    "outputId": "09cd88dd-5714-4b2b-dc3a-34620ca03dbc"
   },
   "outputs": [
    {
     "data": {
      "text/plain": [
       "['/content/drive/MyDrive/Colab/Arabic Dialect Classifier/NB5_Model.sav']"
      ]
     },
     "execution_count": 61,
     "metadata": {},
     "output_type": "execute_result"
    }
   ],
   "source": [
    "# save the model to disk\n",
    "filename = '/content/drive/MyDrive/Colab/Arabic Dialect Classifier/NB5_Model.sav'\n",
    "joblib.dump(NB, filename)"
   ]
  },
  {
   "cell_type": "code",
   "execution_count": 62,
   "id": "eyUF7rQzgxPz",
   "metadata": {
    "colab": {
     "base_uri": "https://localhost:8080/"
    },
    "id": "eyUF7rQzgxPz",
    "outputId": "2e1288ea-08ef-47a5-e860-e8d4d4429159"
   },
   "outputs": [
    {
     "data": {
      "text/plain": [
       "['/content/drive/MyDrive/Colab/Arabic Dialect Classifier/LR5_Model.sav']"
      ]
     },
     "execution_count": 62,
     "metadata": {},
     "output_type": "execute_result"
    }
   ],
   "source": [
    "# save the model to disk\n",
    "filename = '/content/drive/MyDrive/Colab/Arabic Dialect Classifier/LR5_Model.sav'\n",
    "joblib.dump(LR, filename)"
   ]
  },
  {
   "cell_type": "code",
   "execution_count": 63,
   "id": "ZH9zdh80gxTl",
   "metadata": {
    "colab": {
     "base_uri": "https://localhost:8080/"
    },
    "id": "ZH9zdh80gxTl",
    "outputId": "804852b7-b210-434e-f72b-748ba53a5225"
   },
   "outputs": [
    {
     "data": {
      "text/plain": [
       "['/content/drive/MyDrive/Colab/Arabic Dialect Classifier/RF5_Model.sav']"
      ]
     },
     "execution_count": 63,
     "metadata": {},
     "output_type": "execute_result"
    }
   ],
   "source": [
    "# save the model to disk\n",
    "filename = '/content/drive/MyDrive/Colab/Arabic Dialect Classifier/RF5_Model.sav'\n",
    "joblib.dump(RF, filename)"
   ]
  },
  {
   "cell_type": "markdown",
   "id": "3b243e62",
   "metadata": {
    "id": "3b243e62"
   },
   "source": [
    "### Viewing some Statistics"
   ]
  },
  {
   "cell_type": "code",
   "execution_count": 64,
   "id": "ZKKJjvxWKpif",
   "metadata": {
    "id": "ZKKJjvxWKpif"
   },
   "outputs": [],
   "source": [
    "NB_CR = classification_report(y_test, NB_test_predictions, output_dict=True)\n",
    "SVM_CR = classification_report(y_test, SVM_test_predictions, output_dict=True)\n",
    "LR_CR = classification_report(y_test, LR_test_predictions, output_dict=True)"
   ]
  },
  {
   "cell_type": "markdown",
   "id": "d60a3848",
   "metadata": {},
   "source": [
    "#### Naive Bayes Model"
   ]
  },
  {
   "cell_type": "code",
   "execution_count": 65,
   "id": "rNJMSkskbI-J",
   "metadata": {
    "colab": {
     "base_uri": "https://localhost:8080/",
     "height": 485
    },
    "id": "rNJMSkskbI-J",
    "outputId": "56be6ad1-3457-485d-b89d-21b1486ee532",
    "scrolled": false
   },
   "outputs": [
    {
     "data": {
      "image/png": "[encoded data removed]",
      "text/plain": [
       "<Figure size 1080x576 with 2 Axes>"
      ]
     },
     "metadata": {},
     "output_type": "display_data"
    }
   ],
   "source": [
    "plt.figure(figsize=(15,8));\n",
    "sb.heatmap(pd.DataFrame(NB_CR).iloc[:-1, :].T, annot=True);"
   ]
  },
  {
   "cell_type": "markdown",
   "id": "f87c5b35",
   "metadata": {},
   "source": [
    "#### Support Vector Machines Model"
   ]
  },
  {
   "cell_type": "code",
   "execution_count": 66,
   "id": "g2AH_TuiR6W1",
   "metadata": {
    "colab": {
     "base_uri": "https://localhost:8080/",
     "height": 485
    },
    "id": "g2AH_TuiR6W1",
    "outputId": "31e0bc19-74b3-492b-f20c-fdb8129f6aa1"
   },
   "outputs": [
    {
     "data": {
      "image/png": "[encoded data removed]",
      "text/plain": [
       "<Figure size 1080x576 with 2 Axes>"
      ]
     },
     "metadata": {},
     "output_type": "display_data"
    }
   ],
   "source": [
    "plt.figure(figsize=(15,8));\n",
    "sb.heatmap(pd.DataFrame(SVM_CR).iloc[:-1, :].T, annot=True);"
   ]
  },
  {
   "cell_type": "markdown",
   "id": "1837b956",
   "metadata": {},
   "source": [
    "#### Logestic Regression Model"
   ]
  },
  {
   "cell_type": "code",
   "execution_count": 67,
   "id": "4qD5apfrR6Tr",
   "metadata": {
    "colab": {
     "base_uri": "https://localhost:8080/",
     "height": 485
    },
    "id": "4qD5apfrR6Tr",
    "outputId": "c4cbf486-44f8-41fc-dc76-9b76a9f01810"
   },
   "outputs": [
    {
     "data": {
      "image/png": "[encoded data removed]",
      "text/plain": [
       "<Figure size 1080x576 with 2 Axes>"
      ]
     },
     "metadata": {},
     "output_type": "display_data"
    }
   ],
   "source": [
    "plt.figure(figsize=(15,8));\n",
    "sb.heatmap(pd.DataFrame(LR_CR).iloc[:-1, :].T, annot=True);"
   ]
  },
  {
   "cell_type": "code",
   "execution_count": null,
   "id": "Z4qwxo1ekIM-",
   "metadata": {
    "id": "Z4qwxo1ekIM-"
   },
   "outputs": [],
   "source": []
  }
 ],
 "metadata": {
  "colab": {
   "collapsed_sections": [],
   "name": "Arabic_Dialect_Identification_ML_Models_5_Class.ipynb",
   "provenance": []
  },
  "kernelspec": {
   "display_name": "Python 3 (ipykernel)",
   "language": "python",
   "name": "python3"
  },
  "language_info": {
   "codemirror_mode": {
    "name": "ipython",
    "version": 3
   },
   "file_extension": ".py",
   "mimetype": "text/x-python",
   "name": "python",
   "nbconvert_exporter": "python",
   "pygments_lexer": "ipython3",
   "version": "3.9.5"
  }
 },
 "nbformat": 4,
 "nbformat_minor": 5
}
