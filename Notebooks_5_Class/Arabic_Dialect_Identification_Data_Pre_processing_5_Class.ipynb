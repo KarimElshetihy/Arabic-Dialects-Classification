{
 "cells": [
  {
   "cell_type": "markdown",
   "id": "9c356b95",
   "metadata": {
    "id": "9c356b95"
   },
   "source": [
    "# Arabic Dialect Identification - Exploratory Analysis & Data Pre-processing\n",
    "## By Karim Elshetihy\n",
    "- [Github](https://github.com/KarimElshetihy)\n",
    "- [Linkedin](https://www.linkedin.com/in/karim-el-shetihy/)"
   ]
  },
  {
   "cell_type": "markdown",
   "id": "ce71545a",
   "metadata": {
    "id": "ce71545a"
   },
   "source": [
    "#### Referances:\n",
    "- [Arabic Dialict Identification in the Wild Paper](https://arxiv.org/pdf/2005.06557.pdf)\n",
    "- [Flask Tutorial](https://programminghistorian.org/en/lessons/creating-apis-with-python-and-flask)\n",
    "- [Multinomial Classification](https://towardsdatascience.com/the-complete-guide-to-neural-networks-multinomial-classification-4fe88bde7839)\n",
    "\n",
    "#### The Dataset:\n",
    "The dataset and the dialect identification problem were addressed by Qatar Computing Research Institute, moreover, they published a paper, feel free to get more insights from it [Here](https://arxiv.org/pdf/2005.06557.pdf).\n",
    "\n",
    "We are given a dataset which has 2 columns, **id** and **dialect**.\n",
    "- Target label column is the **dialect***, which has 18 classes.\n",
    "- The **id** column will be used to retrieve the text, to do that, you need to call this API by a\n",
    "POST request. https://recruitment.aimtechnologies.co/ai-tasks.\n",
    "- The request body must be a JSON as a list of strings, and the size of the list must NOT exceed 1000.\n",
    "- The API will return a dictionary where the keys are the ids, and the values are the text, here is a request and response sample."
   ]
  },
  {
   "cell_type": "markdown",
   "id": "a06e2794",
   "metadata": {
    "id": "a06e2794"
   },
   "source": [
    "### Importing Packages"
   ]
  },
  {
   "cell_type": "code",
   "execution_count": 2,
   "id": "6f960151",
   "metadata": {
    "id": "6f960151"
   },
   "outputs": [
    {
     "data": {
      "text/html": [
       "\n",
       "    <div class=\"bk-root\">\n",
       "        <a href=\"https://bokeh.org\" target=\"_blank\" class=\"bk-logo bk-logo-small bk-logo-notebook\"></a>\n",
       "        <span id=\"1002\">Loading BokehJS ...</span>\n",
       "    </div>"
      ]
     },
     "metadata": {},
     "output_type": "display_data"
    },
    {
     "data": {
      "application/javascript": [
       "\n",
       "(function(root) {\n",
       "  function now() {\n",
       "    return new Date();\n",
       "  }\n",
       "\n",
       "  const force = true;\n",
       "\n",
       "  if (typeof root._bokeh_onload_callbacks === \"undefined\" || force === true) {\n",
       "    root._bokeh_onload_callbacks = [];\n",
       "    root._bokeh_is_loading = undefined;\n",
       "  }\n",
       "\n",
       "  const JS_MIME_TYPE = 'application/javascript';\n",
       "  const HTML_MIME_TYPE = 'text/html';\n",
       "  const EXEC_MIME_TYPE = 'application/vnd.bokehjs_exec.v0+json';\n",
       "  const CLASS_NAME = 'output_bokeh rendered_html';\n",
       "\n",
       "  /**\n",
       "   * Render data to the DOM node\n",
       "   */\n",
       "  function render(props, node) {\n",
       "    const script = document.createElement(\"script\");\n",
       "    node.appendChild(script);\n",
       "  }\n",
       "\n",
       "  /**\n",
       "   * Handle when an output is cleared or removed\n",
       "   */\n",
       "  function handleClearOutput(event, handle) {\n",
       "    const cell = handle.cell;\n",
       "\n",
       "    const id = cell.output_area._bokeh_element_id;\n",
       "    const server_id = cell.output_area._bokeh_server_id;\n",
       "    // Clean up Bokeh references\n",
       "    if (id != null && id in Bokeh.index) {\n",
       "      Bokeh.index[id].model.document.clear();\n",
       "      delete Bokeh.index[id];\n",
       "    }\n",
       "\n",
       "    if (server_id !== undefined) {\n",
       "      // Clean up Bokeh references\n",
       "      const cmd_clean = \"from bokeh.io.state import curstate; print(curstate().uuid_to_server['\" + server_id + \"'].get_sessions()[0].document.roots[0]._id)\";\n",
       "      cell.notebook.kernel.execute(cmd_clean, {\n",
       "        iopub: {\n",
       "          output: function(msg) {\n",
       "            const id = msg.content.text.trim();\n",
       "            if (id in Bokeh.index) {\n",
       "              Bokeh.index[id].model.document.clear();\n",
       "              delete Bokeh.index[id];\n",
       "            }\n",
       "          }\n",
       "        }\n",
       "      });\n",
       "      // Destroy server and session\n",
       "      const cmd_destroy = \"import bokeh.io.notebook as ion; ion.destroy_server('\" + server_id + \"')\";\n",
       "      cell.notebook.kernel.execute(cmd_destroy);\n",
       "    }\n",
       "  }\n",
       "\n",
       "  /**\n",
       "   * Handle when a new output is added\n",
       "   */\n",
       "  function handleAddOutput(event, handle) {\n",
       "    const output_area = handle.output_area;\n",
       "    const output = handle.output;\n",
       "\n",
       "    // limit handleAddOutput to display_data with EXEC_MIME_TYPE content only\n",
       "    if ((output.output_type != \"display_data\") || (!Object.prototype.hasOwnProperty.call(output.data, EXEC_MIME_TYPE))) {\n",
       "      return\n",
       "    }\n",
       "\n",
       "    const toinsert = output_area.element.find(\".\" + CLASS_NAME.split(' ')[0]);\n",
       "\n",
       "    if (output.metadata[EXEC_MIME_TYPE][\"id\"] !== undefined) {\n",
       "      toinsert[toinsert.length - 1].firstChild.textContent = output.data[JS_MIME_TYPE];\n",
       "      // store reference to embed id on output_area\n",
       "      output_area._bokeh_element_id = output.metadata[EXEC_MIME_TYPE][\"id\"];\n",
       "    }\n",
       "    if (output.metadata[EXEC_MIME_TYPE][\"server_id\"] !== undefined) {\n",
       "      const bk_div = document.createElement(\"div\");\n",
       "      bk_div.innerHTML = output.data[HTML_MIME_TYPE];\n",
       "      const script_attrs = bk_div.children[0].attributes;\n",
       "      for (let i = 0; i < script_attrs.length; i++) {\n",
       "        toinsert[toinsert.length - 1].firstChild.setAttribute(script_attrs[i].name, script_attrs[i].value);\n",
       "        toinsert[toinsert.length - 1].firstChild.textContent = bk_div.children[0].textContent\n",
       "      }\n",
       "      // store reference to server id on output_area\n",
       "      output_area._bokeh_server_id = output.metadata[EXEC_MIME_TYPE][\"server_id\"];\n",
       "    }\n",
       "  }\n",
       "\n",
       "  function register_renderer(events, OutputArea) {\n",
       "\n",
       "    function append_mime(data, metadata, element) {\n",
       "      // create a DOM node to render to\n",
       "      const toinsert = this.create_output_subarea(\n",
       "        metadata,\n",
       "        CLASS_NAME,\n",
       "        EXEC_MIME_TYPE\n",
       "      );\n",
       "      this.keyboard_manager.register_events(toinsert);\n",
       "      // Render to node\n",
       "      const props = {data: data, metadata: metadata[EXEC_MIME_TYPE]};\n",
       "      render(props, toinsert[toinsert.length - 1]);\n",
       "      element.append(toinsert);\n",
       "      return toinsert\n",
       "    }\n",
       "\n",
       "    /* Handle when an output is cleared or removed */\n",
       "    events.on('clear_output.CodeCell', handleClearOutput);\n",
       "    events.on('delete.Cell', handleClearOutput);\n",
       "\n",
       "    /* Handle when a new output is added */\n",
       "    events.on('output_added.OutputArea', handleAddOutput);\n",
       "\n",
       "    /**\n",
       "     * Register the mime type and append_mime function with output_area\n",
       "     */\n",
       "    OutputArea.prototype.register_mime_type(EXEC_MIME_TYPE, append_mime, {\n",
       "      /* Is output safe? */\n",
       "      safe: true,\n",
       "      /* Index of renderer in `output_area.display_order` */\n",
       "      index: 0\n",
       "    });\n",
       "  }\n",
       "\n",
       "  // register the mime type if in Jupyter Notebook environment and previously unregistered\n",
       "  if (root.Jupyter !== undefined) {\n",
       "    const events = require('base/js/events');\n",
       "    const OutputArea = require('notebook/js/outputarea').OutputArea;\n",
       "\n",
       "    if (OutputArea.prototype.mime_types().indexOf(EXEC_MIME_TYPE) == -1) {\n",
       "      register_renderer(events, OutputArea);\n",
       "    }\n",
       "  }\n",
       "\n",
       "  \n",
       "  if (typeof (root._bokeh_timeout) === \"undefined\" || force === true) {\n",
       "    root._bokeh_timeout = Date.now() + 5000;\n",
       "    root._bokeh_failed_load = false;\n",
       "  }\n",
       "\n",
       "  const NB_LOAD_WARNING = {'data': {'text/html':\n",
       "     \"<div style='background-color: #fdd'>\\n\"+\n",
       "     \"<p>\\n\"+\n",
       "     \"BokehJS does not appear to have successfully loaded. If loading BokehJS from CDN, this \\n\"+\n",
       "     \"may be due to a slow or bad network connection. Possible fixes:\\n\"+\n",
       "     \"</p>\\n\"+\n",
       "     \"<ul>\\n\"+\n",
       "     \"<li>re-rerun `output_notebook()` to attempt to load from CDN again, or</li>\\n\"+\n",
       "     \"<li>use INLINE resources instead, as so:</li>\\n\"+\n",
       "     \"</ul>\\n\"+\n",
       "     \"<code>\\n\"+\n",
       "     \"from bokeh.resources import INLINE\\n\"+\n",
       "     \"output_notebook(resources=INLINE)\\n\"+\n",
       "     \"</code>\\n\"+\n",
       "     \"</div>\"}};\n",
       "\n",
       "  function display_loaded() {\n",
       "    const el = document.getElementById(\"1002\");\n",
       "    if (el != null) {\n",
       "      el.textContent = \"BokehJS is loading...\";\n",
       "    }\n",
       "    if (root.Bokeh !== undefined) {\n",
       "      if (el != null) {\n",
       "        el.textContent = \"BokehJS \" + root.Bokeh.version + \" successfully loaded.\";\n",
       "      }\n",
       "    } else if (Date.now() < root._bokeh_timeout) {\n",
       "      setTimeout(display_loaded, 100)\n",
       "    }\n",
       "  }\n",
       "\n",
       "\n",
       "  function run_callbacks() {\n",
       "    try {\n",
       "      root._bokeh_onload_callbacks.forEach(function(callback) {\n",
       "        if (callback != null)\n",
       "          callback();\n",
       "      });\n",
       "    } finally {\n",
       "      delete root._bokeh_onload_callbacks\n",
       "    }\n",
       "    console.debug(\"Bokeh: all callbacks have finished\");\n",
       "  }\n",
       "\n",
       "  function load_libs(css_urls, js_urls, callback) {\n",
       "    if (css_urls == null) css_urls = [];\n",
       "    if (js_urls == null) js_urls = [];\n",
       "\n",
       "    root._bokeh_onload_callbacks.push(callback);\n",
       "    if (root._bokeh_is_loading > 0) {\n",
       "      console.debug(\"Bokeh: BokehJS is being loaded, scheduling callback at\", now());\n",
       "      return null;\n",
       "    }\n",
       "    if (js_urls == null || js_urls.length === 0) {\n",
       "      run_callbacks();\n",
       "      return null;\n",
       "    }\n",
       "    console.debug(\"Bokeh: BokehJS not loaded, scheduling load and callback at\", now());\n",
       "    root._bokeh_is_loading = css_urls.length + js_urls.length;\n",
       "\n",
       "    function on_load() {\n",
       "      root._bokeh_is_loading--;\n",
       "      if (root._bokeh_is_loading === 0) {\n",
       "        console.debug(\"Bokeh: all BokehJS libraries/stylesheets loaded\");\n",
       "        run_callbacks()\n",
       "      }\n",
       "    }\n",
       "\n",
       "    function on_error(url) {\n",
       "      console.error(\"failed to load \" + url);\n",
       "    }\n",
       "\n",
       "    for (let i = 0; i < css_urls.length; i++) {\n",
       "      const url = css_urls[i];\n",
       "      const element = document.createElement(\"link\");\n",
       "      element.onload = on_load;\n",
       "      element.onerror = on_error.bind(null, url);\n",
       "      element.rel = \"stylesheet\";\n",
       "      element.type = \"text/css\";\n",
       "      element.href = url;\n",
       "      console.debug(\"Bokeh: injecting link tag for BokehJS stylesheet: \", url);\n",
       "      document.body.appendChild(element);\n",
       "    }\n",
       "\n",
       "    for (let i = 0; i < js_urls.length; i++) {\n",
       "      const url = js_urls[i];\n",
       "      const element = document.createElement('script');\n",
       "      element.onload = on_load;\n",
       "      element.onerror = on_error.bind(null, url);\n",
       "      element.async = false;\n",
       "      element.src = url;\n",
       "      console.debug(\"Bokeh: injecting script tag for BokehJS library: \", url);\n",
       "      document.head.appendChild(element);\n",
       "    }\n",
       "  };\n",
       "\n",
       "  function inject_raw_css(css) {\n",
       "    const element = document.createElement(\"style\");\n",
       "    element.appendChild(document.createTextNode(css));\n",
       "    document.body.appendChild(element);\n",
       "  }\n",
       "\n",
       "  \n",
       "  const js_urls = [\"https://cdn.bokeh.org/bokeh/release/bokeh-2.4.2.min.js\", \"https://cdn.bokeh.org/bokeh/release/bokeh-gl-2.4.2.min.js\", \"https://cdn.bokeh.org/bokeh/release/bokeh-widgets-2.4.2.min.js\", \"https://cdn.bokeh.org/bokeh/release/bokeh-tables-2.4.2.min.js\", \"https://cdn.bokeh.org/bokeh/release/bokeh-mathjax-2.4.2.min.js\"];\n",
       "  const css_urls = [];\n",
       "  \n",
       "\n",
       "  const inline_js = [\n",
       "    function(Bokeh) {\n",
       "      Bokeh.set_log_level(\"info\");\n",
       "    },\n",
       "    function(Bokeh) {\n",
       "    \n",
       "    \n",
       "    }\n",
       "  ];\n",
       "\n",
       "  function run_inline_js() {\n",
       "    \n",
       "    if (root.Bokeh !== undefined || force === true) {\n",
       "      \n",
       "    for (let i = 0; i < inline_js.length; i++) {\n",
       "      inline_js[i].call(root, root.Bokeh);\n",
       "    }\n",
       "    if (force === true) {\n",
       "        display_loaded();\n",
       "      }} else if (Date.now() < root._bokeh_timeout) {\n",
       "      setTimeout(run_inline_js, 100);\n",
       "    } else if (!root._bokeh_failed_load) {\n",
       "      console.log(\"Bokeh: BokehJS failed to load within specified timeout.\");\n",
       "      root._bokeh_failed_load = true;\n",
       "    } else if (force !== true) {\n",
       "      const cell = $(document.getElementById(\"1002\")).parents('.cell').data().cell;\n",
       "      cell.output_area.append_execute_result(NB_LOAD_WARNING)\n",
       "    }\n",
       "\n",
       "  }\n",
       "\n",
       "  if (root._bokeh_is_loading === 0) {\n",
       "    console.debug(\"Bokeh: BokehJS loaded, going straight to plotting\");\n",
       "    run_inline_js();\n",
       "  } else {\n",
       "    load_libs(css_urls, js_urls, function() {\n",
       "      console.debug(\"Bokeh: BokehJS plotting callback run at\", now());\n",
       "      run_inline_js();\n",
       "    });\n",
       "  }\n",
       "}(window));"
      ],
      "application/vnd.bokehjs_load.v0+json": "\n(function(root) {\n  function now() {\n    return new Date();\n  }\n\n  const force = true;\n\n  if (typeof root._bokeh_onload_callbacks === \"undefined\" || force === true) {\n    root._bokeh_onload_callbacks = [];\n    root._bokeh_is_loading = undefined;\n  }\n\n  \n\n  \n  if (typeof (root._bokeh_timeout) === \"undefined\" || force === true) {\n    root._bokeh_timeout = Date.now() + 5000;\n    root._bokeh_failed_load = false;\n  }\n\n  const NB_LOAD_WARNING = {'data': {'text/html':\n     \"<div style='background-color: #fdd'>\\n\"+\n     \"<p>\\n\"+\n     \"BokehJS does not appear to have successfully loaded. If loading BokehJS from CDN, this \\n\"+\n     \"may be due to a slow or bad network connection. Possible fixes:\\n\"+\n     \"</p>\\n\"+\n     \"<ul>\\n\"+\n     \"<li>re-rerun `output_notebook()` to attempt to load from CDN again, or</li>\\n\"+\n     \"<li>use INLINE resources instead, as so:</li>\\n\"+\n     \"</ul>\\n\"+\n     \"<code>\\n\"+\n     \"from bokeh.resources import INLINE\\n\"+\n     \"output_notebook(resources=INLINE)\\n\"+\n     \"</code>\\n\"+\n     \"</div>\"}};\n\n  function display_loaded() {\n    const el = document.getElementById(\"1002\");\n    if (el != null) {\n      el.textContent = \"BokehJS is loading...\";\n    }\n    if (root.Bokeh !== undefined) {\n      if (el != null) {\n        el.textContent = \"BokehJS \" + root.Bokeh.version + \" successfully loaded.\";\n      }\n    } else if (Date.now() < root._bokeh_timeout) {\n      setTimeout(display_loaded, 100)\n    }\n  }\n\n\n  function run_callbacks() {\n    try {\n      root._bokeh_onload_callbacks.forEach(function(callback) {\n        if (callback != null)\n          callback();\n      });\n    } finally {\n      delete root._bokeh_onload_callbacks\n    }\n    console.debug(\"Bokeh: all callbacks have finished\");\n  }\n\n  function load_libs(css_urls, js_urls, callback) {\n    if (css_urls == null) css_urls = [];\n    if (js_urls == null) js_urls = [];\n\n    root._bokeh_onload_callbacks.push(callback);\n    if (root._bokeh_is_loading > 0) {\n      console.debug(\"Bokeh: BokehJS is being loaded, scheduling callback at\", now());\n      return null;\n    }\n    if (js_urls == null || js_urls.length === 0) {\n      run_callbacks();\n      return null;\n    }\n    console.debug(\"Bokeh: BokehJS not loaded, scheduling load and callback at\", now());\n    root._bokeh_is_loading = css_urls.length + js_urls.length;\n\n    function on_load() {\n      root._bokeh_is_loading--;\n      if (root._bokeh_is_loading === 0) {\n        console.debug(\"Bokeh: all BokehJS libraries/stylesheets loaded\");\n        run_callbacks()\n      }\n    }\n\n    function on_error(url) {\n      console.error(\"failed to load \" + url);\n    }\n\n    for (let i = 0; i < css_urls.length; i++) {\n      const url = css_urls[i];\n      const element = document.createElement(\"link\");\n      element.onload = on_load;\n      element.onerror = on_error.bind(null, url);\n      element.rel = \"stylesheet\";\n      element.type = \"text/css\";\n      element.href = url;\n      console.debug(\"Bokeh: injecting link tag for BokehJS stylesheet: \", url);\n      document.body.appendChild(element);\n    }\n\n    for (let i = 0; i < js_urls.length; i++) {\n      const url = js_urls[i];\n      const element = document.createElement('script');\n      element.onload = on_load;\n      element.onerror = on_error.bind(null, url);\n      element.async = false;\n      element.src = url;\n      console.debug(\"Bokeh: injecting script tag for BokehJS library: \", url);\n      document.head.appendChild(element);\n    }\n  };\n\n  function inject_raw_css(css) {\n    const element = document.createElement(\"style\");\n    element.appendChild(document.createTextNode(css));\n    document.body.appendChild(element);\n  }\n\n  \n  const js_urls = [\"https://cdn.bokeh.org/bokeh/release/bokeh-2.4.2.min.js\", \"https://cdn.bokeh.org/bokeh/release/bokeh-gl-2.4.2.min.js\", \"https://cdn.bokeh.org/bokeh/release/bokeh-widgets-2.4.2.min.js\", \"https://cdn.bokeh.org/bokeh/release/bokeh-tables-2.4.2.min.js\", \"https://cdn.bokeh.org/bokeh/release/bokeh-mathjax-2.4.2.min.js\"];\n  const css_urls = [];\n  \n\n  const inline_js = [\n    function(Bokeh) {\n      Bokeh.set_log_level(\"info\");\n    },\n    function(Bokeh) {\n    \n    \n    }\n  ];\n\n  function run_inline_js() {\n    \n    if (root.Bokeh !== undefined || force === true) {\n      \n    for (let i = 0; i < inline_js.length; i++) {\n      inline_js[i].call(root, root.Bokeh);\n    }\n    if (force === true) {\n        display_loaded();\n      }} else if (Date.now() < root._bokeh_timeout) {\n      setTimeout(run_inline_js, 100);\n    } else if (!root._bokeh_failed_load) {\n      console.log(\"Bokeh: BokehJS failed to load within specified timeout.\");\n      root._bokeh_failed_load = true;\n    } else if (force !== true) {\n      const cell = $(document.getElementById(\"1002\")).parents('.cell').data().cell;\n      cell.output_area.append_execute_result(NB_LOAD_WARNING)\n    }\n\n  }\n\n  if (root._bokeh_is_loading === 0) {\n    console.debug(\"Bokeh: BokehJS loaded, going straight to plotting\");\n    run_inline_js();\n  } else {\n    load_libs(css_urls, js_urls, function() {\n      console.debug(\"Bokeh: BokehJS plotting callback run at\", now());\n      run_inline_js();\n    });\n  }\n}(window));"
     },
     "metadata": {},
     "output_type": "display_data"
    }
   ],
   "source": [
    "import time\n",
    "import sys\n",
    "\n",
    "import re\n",
    "# import nltk\n",
    "# from nltk.corpus import stopwords\n",
    "import json\n",
    "import unicodedata as ud\n",
    "from collections import Counter\n",
    "import numpy as np\n",
    "\n",
    "import numpy as np\n",
    "import pandas as pd\n",
    "import matplotlib.pyplot as plt\n",
    "from matplotlib import rcParams\n",
    "import seaborn as sb\n",
    "from bokeh.plotting import figure, show, output_file\n",
    "from bokeh.io import output_notebook\n",
    "\n",
    "np.random.seed(1)\n",
    "%matplotlib inline\n",
    "sb.set_theme()\n",
    "output_notebook()\n",
    "\n",
    "import warnings\n",
    "warnings.simplefilter(\"ignore\")"
   ]
  },
  {
   "cell_type": "markdown",
   "id": "c1401793",
   "metadata": {
    "id": "c1401793"
   },
   "source": [
    "### Importing the Dataset"
   ]
  },
  {
   "cell_type": "code",
   "execution_count": 3,
   "id": "2c73056a",
   "metadata": {
    "id": "2c73056a"
   },
   "outputs": [],
   "source": [
    "dialects = pd.read_csv(\"../Data/dialect_dataset.csv\")\n",
    "targets = dialects.copy()\n",
    "# targets = targets.sample(frac=1).reset_index(drop=True)"
   ]
  },
  {
   "cell_type": "markdown",
   "id": "e3a8ddbb",
   "metadata": {
    "id": "e3a8ddbb"
   },
   "source": [
    "### Exploring the Data"
   ]
  },
  {
   "cell_type": "code",
   "execution_count": 4,
   "id": "219d70d7",
   "metadata": {
    "id": "219d70d7",
    "outputId": "0982fc96-73cf-4590-d498-260071370299"
   },
   "outputs": [
    {
     "data": {
      "text/html": [
       "<div>\n",
       "<style scoped>\n",
       "    .dataframe tbody tr th:only-of-type {\n",
       "        vertical-align: middle;\n",
       "    }\n",
       "\n",
       "    .dataframe tbody tr th {\n",
       "        vertical-align: top;\n",
       "    }\n",
       "\n",
       "    .dataframe thead th {\n",
       "        text-align: right;\n",
       "    }\n",
       "</style>\n",
       "<table border=\"1\" class=\"dataframe\">\n",
       "  <thead>\n",
       "    <tr style=\"text-align: right;\">\n",
       "      <th></th>\n",
       "      <th>id</th>\n",
       "      <th>dialect</th>\n",
       "    </tr>\n",
       "  </thead>\n",
       "  <tbody>\n",
       "    <tr>\n",
       "      <th>0</th>\n",
       "      <td>1175358310087892992</td>\n",
       "      <td>IQ</td>\n",
       "    </tr>\n",
       "    <tr>\n",
       "      <th>1</th>\n",
       "      <td>1175416117793349632</td>\n",
       "      <td>IQ</td>\n",
       "    </tr>\n",
       "    <tr>\n",
       "      <th>2</th>\n",
       "      <td>1175450108898565888</td>\n",
       "      <td>IQ</td>\n",
       "    </tr>\n",
       "    <tr>\n",
       "      <th>3</th>\n",
       "      <td>1175471073770573824</td>\n",
       "      <td>IQ</td>\n",
       "    </tr>\n",
       "    <tr>\n",
       "      <th>4</th>\n",
       "      <td>1175496913145217024</td>\n",
       "      <td>IQ</td>\n",
       "    </tr>\n",
       "  </tbody>\n",
       "</table>\n",
       "</div>"
      ],
      "text/plain": [
       "                    id dialect\n",
       "0  1175358310087892992      IQ\n",
       "1  1175416117793349632      IQ\n",
       "2  1175450108898565888      IQ\n",
       "3  1175471073770573824      IQ\n",
       "4  1175496913145217024      IQ"
      ]
     },
     "execution_count": 4,
     "metadata": {},
     "output_type": "execute_result"
    }
   ],
   "source": [
    "targets.head()"
   ]
  },
  {
   "cell_type": "code",
   "execution_count": 5,
   "id": "c92a2a8b",
   "metadata": {
    "id": "c92a2a8b",
    "outputId": "e2b97113-2c43-4db4-bb8c-bb13a00f150f"
   },
   "outputs": [
    {
     "data": {
      "text/plain": [
       "(458197, 2)"
      ]
     },
     "execution_count": 5,
     "metadata": {},
     "output_type": "execute_result"
    }
   ],
   "source": [
    "targets.shape"
   ]
  },
  {
   "cell_type": "code",
   "execution_count": 6,
   "id": "2044ab2b",
   "metadata": {
    "id": "2044ab2b",
    "outputId": "ef83d8a1-47cb-4eb6-ba12-2df11b0308fc"
   },
   "outputs": [
    {
     "name": "stdout",
     "output_type": "stream",
     "text": [
      "<class 'pandas.core.frame.DataFrame'>\n",
      "RangeIndex: 458197 entries, 0 to 458196\n",
      "Data columns (total 2 columns):\n",
      " #   Column   Non-Null Count   Dtype \n",
      "---  ------   --------------   ----- \n",
      " 0   id       458197 non-null  int64 \n",
      " 1   dialect  458197 non-null  object\n",
      "dtypes: int64(1), object(1)\n",
      "memory usage: 7.0+ MB\n"
     ]
    }
   ],
   "source": [
    "targets.info()"
   ]
  },
  {
   "cell_type": "code",
   "execution_count": 7,
   "id": "00ebca76",
   "metadata": {
    "id": "00ebca76",
    "outputId": "2a20f64e-df81-4cbc-edf9-bef401c2cc34"
   },
   "outputs": [
    {
     "data": {
      "text/plain": [
       "0"
      ]
     },
     "execution_count": 7,
     "metadata": {},
     "output_type": "execute_result"
    }
   ],
   "source": [
    "targets.duplicated().sum()"
   ]
  },
  {
   "cell_type": "code",
   "execution_count": 8,
   "id": "dfc36d6d",
   "metadata": {
    "id": "dfc36d6d",
    "outputId": "94cf4a3b-09c7-43a4-930d-a4cf16c23906"
   },
   "outputs": [
    {
     "data": {
      "text/plain": [
       "id         458197\n",
       "dialect        18\n",
       "dtype: int64"
      ]
     },
     "execution_count": 8,
     "metadata": {},
     "output_type": "execute_result"
    }
   ],
   "source": [
    "targets.nunique()"
   ]
  },
  {
   "cell_type": "code",
   "execution_count": 9,
   "id": "b18a187a",
   "metadata": {
    "id": "b18a187a",
    "outputId": "961bb1fb-a3e1-463f-b7b2-f0d90065dff6"
   },
   "outputs": [
    {
     "data": {
      "text/plain": [
       "array(['IQ', 'LY', 'QA', 'PL', 'SY', 'TN', 'JO', 'MA', 'SA', 'YE', 'DZ',\n",
       "       'EG', 'LB', 'KW', 'OM', 'SD', 'AE', 'BH'], dtype=object)"
      ]
     },
     "execution_count": 9,
     "metadata": {},
     "output_type": "execute_result"
    }
   ],
   "source": [
    "targets['dialect'].unique()"
   ]
  },
  {
   "cell_type": "code",
   "execution_count": 10,
   "id": "50b95e48",
   "metadata": {
    "id": "50b95e48",
    "outputId": "b169c725-b7ea-432a-88cd-f408ba2c672c"
   },
   "outputs": [
    {
     "data": {
      "image/png": "[encoded data removed]",
      "text/plain": [
       "<Figure size 1080x576 with 1 Axes>"
      ]
     },
     "metadata": {},
     "output_type": "display_data"
    }
   ],
   "source": [
    "font_size1 = 16\n",
    "font_size2 = 12\n",
    "\n",
    "# Setting up figure sizes\n",
    "rcParams['figure.figsize'] = 15,6\n",
    "colors=['#4c72b0','#d44e52']\n",
    "\n",
    "# sb.countplot(df['dialect']);\n",
    "targets['dialect'].value_counts().plot(kind='barh', figsize=(15,8), color=['b','r']);\n",
    "plt.title('Dialects', fontsize=font_size1);\n",
    "\n",
    "plt.yticks(fontsize= font_size2+2);\n",
    "plt.ylabel('');\n",
    "\n",
    "Sum = targets['dialect'].value_counts().sum()\n",
    "for num, value in enumerate(targets['dialect'].value_counts()):\n",
    "    plt.text(value+400,num,str(np.round(value/Sum*100, decimals = 1))+'%', fontweight='bold',va='center');"
   ]
  },
  {
   "cell_type": "markdown",
   "id": "8854a521",
   "metadata": {
    "id": "8854a521"
   },
   "source": [
    "---"
   ]
  },
  {
   "cell_type": "markdown",
   "id": "2eb1e2fd",
   "metadata": {
    "id": "2eb1e2fd"
   },
   "source": [
    "### Text Pre-processing"
   ]
  },
  {
   "cell_type": "code",
   "execution_count": 11,
   "id": "24049d03",
   "metadata": {
    "id": "24049d03"
   },
   "outputs": [],
   "source": [
    "file = open(\"../Data/text_data.txt\", \"r\", encoding='utf-8')\n",
    "file = json.loads('{'+ file.read().rsplit(\",\", 1)[0] + '}')"
   ]
  },
  {
   "cell_type": "code",
   "execution_count": 12,
   "id": "4230b934",
   "metadata": {
    "id": "4230b934",
    "outputId": "2d1bcf83-eca4-47ba-e5b5-51974bf8bce8"
   },
   "outputs": [
    {
     "name": "stdout",
     "output_type": "stream",
     "text": [
      "Number of Text Cells (Tweets): 458197\n"
     ]
    }
   ],
   "source": [
    "print('Number of Text Cells (Tweets): {}'.format(len(file.keys())))"
   ]
  },
  {
   "cell_type": "markdown",
   "id": "715ff0e7",
   "metadata": {
    "id": "715ff0e7"
   },
   "source": [
    "### Converting the Fetched Text to DataFrame"
   ]
  },
  {
   "cell_type": "code",
   "execution_count": 13,
   "id": "58eed80a",
   "metadata": {
    "id": "58eed80a"
   },
   "outputs": [],
   "source": [
    "data_items = file.items()\n",
    "data_list = list(data_items)"
   ]
  },
  {
   "cell_type": "code",
   "execution_count": 14,
   "id": "899c24b5",
   "metadata": {
    "id": "899c24b5"
   },
   "outputs": [],
   "source": [
    "text_df = pd.DataFrame(data_list, columns=[\"id\", \"text\"])\n",
    "txt = text_df.copy()"
   ]
  },
  {
   "cell_type": "code",
   "execution_count": 15,
   "id": "9482654c",
   "metadata": {
    "id": "9482654c",
    "outputId": "a283872a-4618-45bb-bb33-876e464180fa"
   },
   "outputs": [
    {
     "data": {
      "text/html": [
       "<div>\n",
       "<style scoped>\n",
       "    .dataframe tbody tr th:only-of-type {\n",
       "        vertical-align: middle;\n",
       "    }\n",
       "\n",
       "    .dataframe tbody tr th {\n",
       "        vertical-align: top;\n",
       "    }\n",
       "\n",
       "    .dataframe thead th {\n",
       "        text-align: right;\n",
       "    }\n",
       "</style>\n",
       "<table border=\"1\" class=\"dataframe\">\n",
       "  <thead>\n",
       "    <tr style=\"text-align: right;\">\n",
       "      <th></th>\n",
       "      <th>id</th>\n",
       "      <th>text</th>\n",
       "    </tr>\n",
       "  </thead>\n",
       "  <tbody>\n",
       "    <tr>\n",
       "      <th>0</th>\n",
       "      <td>1175358310087892992</td>\n",
       "      <td>@Nw8ieJUwaCAAreT لكن بالنهاية .. ينتفض .. يغير .</td>\n",
       "    </tr>\n",
       "    <tr>\n",
       "      <th>1</th>\n",
       "      <td>1175416117793349632</td>\n",
       "      <td>@7zNqXP0yrODdRjK يعني هذا محسوب على البشر .. ح...</td>\n",
       "    </tr>\n",
       "    <tr>\n",
       "      <th>2</th>\n",
       "      <td>1175450108898565888</td>\n",
       "      <td>@KanaanRema مبين من كلامه خليجي</td>\n",
       "    </tr>\n",
       "    <tr>\n",
       "      <th>3</th>\n",
       "      <td>1175471073770573824</td>\n",
       "      <td>@HAIDER76128900 يسلملي مرورك وروحك الحلوه💐</td>\n",
       "    </tr>\n",
       "    <tr>\n",
       "      <th>4</th>\n",
       "      <td>1175496913145217024</td>\n",
       "      <td>@hmo2406 وين هل الغيبه  اخ محمد 🌸🌺</td>\n",
       "    </tr>\n",
       "  </tbody>\n",
       "</table>\n",
       "</div>"
      ],
      "text/plain": [
       "                    id                                               text\n",
       "0  1175358310087892992   @Nw8ieJUwaCAAreT لكن بالنهاية .. ينتفض .. يغير .\n",
       "1  1175416117793349632  @7zNqXP0yrODdRjK يعني هذا محسوب على البشر .. ح...\n",
       "2  1175450108898565888                    @KanaanRema مبين من كلامه خليجي\n",
       "3  1175471073770573824         @HAIDER76128900 يسلملي مرورك وروحك الحلوه💐\n",
       "4  1175496913145217024                 @hmo2406 وين هل الغيبه  اخ محمد 🌸🌺"
      ]
     },
     "execution_count": 15,
     "metadata": {},
     "output_type": "execute_result"
    }
   ],
   "source": [
    "txt.head()"
   ]
  },
  {
   "cell_type": "code",
   "execution_count": 16,
   "id": "8d7d8e23",
   "metadata": {
    "id": "8d7d8e23",
    "outputId": "7f953424-8add-44a2-94d9-445ec82469da"
   },
   "outputs": [
    {
     "name": "stdout",
     "output_type": "stream",
     "text": [
      "<class 'pandas.core.frame.DataFrame'>\n",
      "RangeIndex: 458197 entries, 0 to 458196\n",
      "Data columns (total 2 columns):\n",
      " #   Column  Non-Null Count   Dtype \n",
      "---  ------  --------------   ----- \n",
      " 0   id      458197 non-null  object\n",
      " 1   text    458197 non-null  object\n",
      "dtypes: object(2)\n",
      "memory usage: 7.0+ MB\n"
     ]
    }
   ],
   "source": [
    "txt.info()"
   ]
  },
  {
   "cell_type": "code",
   "execution_count": 17,
   "id": "86b793f7",
   "metadata": {
    "id": "86b793f7",
    "outputId": "fdf842c0-da7a-4933-e861-d3d2b0dfdabd"
   },
   "outputs": [
    {
     "data": {
      "text/plain": [
       "'@Nw8ieJUwaCAAreT لكن بالنهاية .. ينتفض .. يغير .'"
      ]
     },
     "execution_count": 17,
     "metadata": {},
     "output_type": "execute_result"
    }
   ],
   "source": [
    "txt['text'][0]"
   ]
  },
  {
   "cell_type": "code",
   "execution_count": 18,
   "id": "741ace85",
   "metadata": {
    "id": "741ace85",
    "outputId": "2c62bf40-cfab-42c0-d313-b12503c5c766"
   },
   "outputs": [
    {
     "data": {
      "text/plain": [
       "0"
      ]
     },
     "execution_count": 18,
     "metadata": {},
     "output_type": "execute_result"
    }
   ],
   "source": [
    "sum(txt['id'].duplicated())"
   ]
  },
  {
   "cell_type": "code",
   "execution_count": null,
   "id": "5e2adfe5",
   "metadata": {
    "id": "5e2adfe5"
   },
   "outputs": [],
   "source": [
    "def clean_text(text):\n",
    "    \"\"\"\n",
    "    This function is made to clean the tweets using regex or regular expressions,\n",
    "    it removes:\n",
    "        - stop_words:   Arabic stop words\n",
    "        - stop_wow:     Arabic stop words\n",
    "        - stop_extra:   Arabic stop words\n",
    "        - mentions:     @arabic_dialect_identifiecation\n",
    "        - hashtags:     #arabic_dialect_identifiecation\n",
    "        - underscores:  ______arabic_dialect_identifiecation_____\n",
    "        - urls:         www.arabicdialectidentifiecation.com\n",
    "        - numbers:      923\n",
    "        - laughs :      ههههههه\n",
    "        - extra_noise : Emotions & Puncituations\n",
    "    \"\"\"\n",
    "    # Noise we want to remove \n",
    "    stop_words = ' | '.join(stopwords.words('arabic'))\n",
    "    stop_wow = ' | و'.join(stopwords.words('arabic'))\n",
    "    stop_extra = ' | '.join(['_','٠٠','فيه','وفي','الى','لمن','فقط','على','انا','لان','وانا','يا','الی','الي','اللي','اللى','ヽ'])\n",
    "    mentions = '(@[A-Za-z0-9]+)'\n",
    "    hashtags = '(#[A-Za-z0-9_]+)'\n",
    "    underscores = '(_[_\\w_]+)'\n",
    "    urls = '(\\w+:\\/\\/\\S+)'\n",
    "    numbers = '([0-9]+)'\n",
    "    extra_noise = '(\\s*[A-Za-z]+\\b)|([^\\w])'\n",
    "    laughs = '(ه[ه^ه])'\n",
    "    \n",
    "    \n",
    "    # Removing Process\n",
    "    text = ' '.join(re.sub(stop_words,\" \",text).split())\n",
    "    text = ' '.join(re.sub(stop_wow,\" \",text).split())\n",
    "    text = ' '.join(re.sub(stop_extra,\" \",text).split())\n",
    "    text = ' '.join(re.sub(laughs,\" \",text).split())\n",
    "    text = ' '.join(re.sub(urls,\" \",text).split())\n",
    "    text = ' '.join(re.sub(mentions,\" \",text).split())\n",
    "    text = ' '.join(re.sub(hashtags,\" \",text).split())\n",
    "    text = ' '.join(re.sub(numbers,\" \",text).split())\n",
    "    text = ' '.join(re.sub(underscores,\" \",text).split())\n",
    "    text = ' '.join(re.sub(extra_noise,\" \",text).split())\n",
    "\n",
    "    return text"
   ]
  },
  {
   "cell_type": "markdown",
   "id": "e367f544",
   "metadata": {
    "id": "e367f544"
   },
   "source": [
    "### Printing Cleaned Example"
   ]
  },
  {
   "cell_type": "code",
   "execution_count": null,
   "id": "e4d7989f",
   "metadata": {
    "id": "e4d7989f",
    "outputId": "eb287f0c-34e6-4d1e-844c-b0152f14547c"
   },
   "outputs": [
    {
     "name": "stdout",
     "output_type": "stream",
     "text": [
      "Before Cleaning: @ha___m___ed لان الماضي دائماً فيه ريحة خيانه😂\n",
      "After Cleaning: لان الماضي دائما ريحة خيانه\n"
     ]
    }
   ],
   "source": [
    "print('Before Cleaning: {}\\nAfter Cleaning: {}'.format(text_df['text'][22], Clean(txt['text'][22])))"
   ]
  },
  {
   "cell_type": "code",
   "execution_count": null,
   "id": "fa657e20",
   "metadata": {
    "id": "fa657e20",
    "outputId": "caa87c5d-82e8-4272-b04c-651316efe217"
   },
   "outputs": [
    {
     "name": "stdout",
     "output_type": "stream",
     "text": [
      "Before Cleaning: سنة وانا انتظر\n",
      "طال إنتظاري والوكت محسوب\n",
      "وانا ادري العمر\n",
      "يا عمري ساري يا صبر الگلوب\n",
      "وانا عمري حسابه.. حسابه لما اشوفك\n",
      "يا زين الدنيا وعيوني تحوفك\n",
      "\n",
      "#مرني https://t.co/HekL210nOv\n",
      "\n",
      "After Cleaning: سنة وانا انتظر طال إنتظاري والوكت محسوب وانا ادري العمر يا عمري ساري يا صبر الگلوب وانا عمري حسابه حسابه لما اشوفك يا زين الدنيا وعيوني تحوفك مرني\n"
     ]
    }
   ],
   "source": [
    "print('Before Cleaning: {}\\n\\nAfter Cleaning: {}'.format(text_df['text'][4594], Clean(txt['text'][4594])))"
   ]
  },
  {
   "cell_type": "markdown",
   "id": "857fd500",
   "metadata": {
    "id": "857fd500"
   },
   "source": [
    "### Apply Filter to the Dataset"
   ]
  },
  {
   "cell_type": "code",
   "execution_count": null,
   "id": "99ce4920",
   "metadata": {
    "id": "99ce4920"
   },
   "outputs": [],
   "source": [
    "txt['text'] = txt['text'].apply(lambda text: Clean(text))"
   ]
  },
  {
   "cell_type": "markdown",
   "id": "f014bca8",
   "metadata": {
    "id": "f014bca8"
   },
   "source": [
    "### Printing an Example after Cleaning"
   ]
  },
  {
   "cell_type": "code",
   "execution_count": null,
   "id": "f5e8286e",
   "metadata": {
    "id": "f5e8286e",
    "outputId": "7499d9cb-0b78-4137-d11a-f0ac8817f1a6"
   },
   "outputs": [
    {
     "name": "stdout",
     "output_type": "stream",
     "text": [
      "Example 1: لكن بالنهاية ينتفض يغير\n",
      "Example 2: يمكن سؤال فات الكثير اللي يصور شنو موقفه وكأنه يوثق بطوله المفروض حتى المصور يحال للقضاء لان نظرات الطفله تستنجد باتجاه الكاميرا\n"
     ]
    }
   ],
   "source": [
    "print('Example 1: {}\\nExample 2: {}'.format(txt['text'][0], txt['text'][8]))"
   ]
  },
  {
   "cell_type": "markdown",
   "id": "af453885",
   "metadata": {
    "id": "af453885"
   },
   "source": [
    "---"
   ]
  },
  {
   "cell_type": "markdown",
   "id": "14b68916",
   "metadata": {
    "id": "14b68916"
   },
   "source": [
    "### Merging both DataFrames"
   ]
  },
  {
   "cell_type": "code",
   "execution_count": null,
   "id": "a63ace07",
   "metadata": {
    "id": "a63ace07"
   },
   "outputs": [],
   "source": [
    "txt['id'] = txt['id'].astype('int64')"
   ]
  },
  {
   "cell_type": "code",
   "execution_count": null,
   "id": "48a2f733",
   "metadata": {
    "id": "48a2f733"
   },
   "outputs": [],
   "source": [
    "df = pd.merge(targets, txt, on='id')"
   ]
  },
  {
   "cell_type": "code",
   "execution_count": null,
   "id": "0c59c5d3",
   "metadata": {
    "id": "0c59c5d3",
    "outputId": "1db8f0fb-efb5-4bfa-b1c0-58b4fcb22117",
    "scrolled": true
   },
   "outputs": [
    {
     "data": {
      "text/html": [
       "<div>\n",
       "<style scoped>\n",
       "    .dataframe tbody tr th:only-of-type {\n",
       "        vertical-align: middle;\n",
       "    }\n",
       "\n",
       "    .dataframe tbody tr th {\n",
       "        vertical-align: top;\n",
       "    }\n",
       "\n",
       "    .dataframe thead th {\n",
       "        text-align: right;\n",
       "    }\n",
       "</style>\n",
       "<table border=\"1\" class=\"dataframe\">\n",
       "  <thead>\n",
       "    <tr style=\"text-align: right;\">\n",
       "      <th></th>\n",
       "      <th>id</th>\n",
       "      <th>dialect</th>\n",
       "      <th>text</th>\n",
       "    </tr>\n",
       "  </thead>\n",
       "  <tbody>\n",
       "    <tr>\n",
       "      <th>0</th>\n",
       "      <td>962645561252904960</td>\n",
       "      <td>MA</td>\n",
       "      <td>الشيخ ماهر المعيقلي وسعد الغامدي</td>\n",
       "    </tr>\n",
       "    <tr>\n",
       "      <th>1</th>\n",
       "      <td>947438652761804800</td>\n",
       "      <td>DZ</td>\n",
       "      <td>البنت تركية مافاهمة عليكي مش زي فانزك كلو عربي</td>\n",
       "    </tr>\n",
       "    <tr>\n",
       "      <th>2</th>\n",
       "      <td>799985073168617472</td>\n",
       "      <td>BH</td>\n",
       "      <td>اللهم إرزقنا حظ الدنيا</td>\n",
       "    </tr>\n",
       "    <tr>\n",
       "      <th>3</th>\n",
       "      <td>1170952919820177408</td>\n",
       "      <td>LB</td>\n",
       "      <td>اكيد من حقك حبيت ماحبيت الشي بيرجع الك بس كمان...</td>\n",
       "    </tr>\n",
       "    <tr>\n",
       "      <th>4</th>\n",
       "      <td>1152726364891561984</td>\n",
       "      <td>EG</td>\n",
       "      <td>لا شوف الفيديو تانى كان متعمد و بيستهبل</td>\n",
       "    </tr>\n",
       "  </tbody>\n",
       "</table>\n",
       "</div>"
      ],
      "text/plain": [
       "                    id dialect  \\\n",
       "0   962645561252904960      MA   \n",
       "1   947438652761804800      DZ   \n",
       "2   799985073168617472      BH   \n",
       "3  1170952919820177408      LB   \n",
       "4  1152726364891561984      EG   \n",
       "\n",
       "                                                text  \n",
       "0                   الشيخ ماهر المعيقلي وسعد الغامدي  \n",
       "1     البنت تركية مافاهمة عليكي مش زي فانزك كلو عربي  \n",
       "2                             اللهم إرزقنا حظ الدنيا  \n",
       "3  اكيد من حقك حبيت ماحبيت الشي بيرجع الك بس كمان...  \n",
       "4            لا شوف الفيديو تانى كان متعمد و بيستهبل  "
      ]
     },
     "execution_count": 63,
     "metadata": {},
     "output_type": "execute_result"
    }
   ],
   "source": [
    "df.head()"
   ]
  },
  {
   "cell_type": "code",
   "execution_count": null,
   "id": "e1223414",
   "metadata": {
    "id": "e1223414"
   },
   "outputs": [],
   "source": [
    "df.info()"
   ]
  },
  {
   "cell_type": "markdown",
   "id": "c851672b",
   "metadata": {
    "id": "c851672b"
   },
   "source": [
    "---"
   ]
  },
  {
   "cell_type": "markdown",
   "id": "0f9fb11f",
   "metadata": {
    "id": "0f9fb11f"
   },
   "source": [
    "### Grouping Dialects"
   ]
  },
  {
   "cell_type": "markdown",
   "id": "0b731a20",
   "metadata": {
    "id": "0b731a20"
   },
   "source": [
    "<img src='../Images/Geographical distribution of Arabic dialects.PNG'>"
   ]
  },
  {
   "cell_type": "code",
   "execution_count": 4,
   "id": "34219939",
   "metadata": {
    "colab": {
     "base_uri": "https://localhost:8080/"
    },
    "id": "34219939",
    "outputId": "f6b39d60-c176-412b-ee0d-080e0c1c1bbb"
   },
   "outputs": [
    {
     "data": {
      "text/plain": [
       "array(['EG', 'PL', 'JO', 'LY', 'BH', 'QA', 'IQ', 'SA', 'OM', 'SD', 'SY',\n",
       "       'LB', 'AE', 'KW', 'DZ', 'YE', 'TN', 'MA'], dtype=object)"
      ]
     },
     "execution_count": 4,
     "metadata": {},
     "output_type": "execute_result"
    }
   ],
   "source": [
    "df['dialect'].unique()"
   ]
  },
  {
   "cell_type": "markdown",
   "id": "f29f2426",
   "metadata": {
    "id": "f29f2426"
   },
   "source": [
    "### Grouping by Geographical location"
   ]
  },
  {
   "cell_type": "code",
   "execution_count": 5,
   "id": "456f85e6",
   "metadata": {
    "id": "456f85e6"
   },
   "outputs": [],
   "source": [
    "Sham = ['PL', 'JO', 'SY', 'LB']\n",
    "Maghreb = ['DZ', 'LY', 'TN', 'MA']\n",
    "Gulf = ['BH', 'QA', 'IQ', 'SA', 'OM', 'AE', 'KW','YE']"
   ]
  },
  {
   "cell_type": "markdown",
   "id": "bdb93964",
   "metadata": {
    "id": "bdb93964"
   },
   "source": [
    "### Defining Grouping Function"
   ]
  },
  {
   "cell_type": "code",
   "execution_count": 6,
   "id": "64ed7e67",
   "metadata": {
    "id": "64ed7e67"
   },
   "outputs": [],
   "source": [
    "def change_dialect(dialect):\n",
    "\n",
    "    Gulf_dialects = ['BH', 'QA', 'IQ', 'SA', 'OM', 'AE', 'KW','YE']\n",
    "    Maghreb_dialects = ['DZ', 'LY', 'TN', 'MA']\n",
    "    Sham_dialects = ['PL', 'JO', 'SY', 'LB']\n",
    "    \n",
    "    \n",
    "    Gulf = ' | '.join(Gulf_dialects)\n",
    "    Maghreb = ' | '.join(Maghreb_dialects)\n",
    "    Sham = ' | '.join(Sham_dialects)\n",
    "    \n",
    "    # Removing Process\n",
    "    if dialect in Gulf_dialects:\n",
    "        dialect = ''.join(re.sub(Gulf,\" \",\"GULF\").split())\n",
    "    \n",
    "    elif dialect in Maghreb_dialects:\n",
    "        dialect = ''.join(re.sub(Maghreb,\" \",\"MAGHREB\").split())\n",
    "    \n",
    "    elif dialect in Sham_dialects:\n",
    "        dialect = ''.join(re.sub(Sham,\" \",\"SHAM\").split())\n",
    "        \n",
    "    elif dialect == 'EG':\n",
    "        dialect = 'EGYPT'\n",
    "        \n",
    "    elif dialect == 'SD':\n",
    "        dialect = 'SODAN'\n",
    "\n",
    "    return dialect"
   ]
  },
  {
   "cell_type": "code",
   "execution_count": 7,
   "id": "4c9cc9e7",
   "metadata": {
    "id": "4c9cc9e7"
   },
   "outputs": [],
   "source": [
    "df['dialect'] = df['dialect'].apply(lambda dialect: change_dialect(dialect))"
   ]
  },
  {
   "cell_type": "code",
   "execution_count": 8,
   "id": "8277f0eb",
   "metadata": {
    "colab": {
     "base_uri": "https://localhost:8080/",
     "height": 206
    },
    "id": "8277f0eb",
    "outputId": "d2af8c3f-56c5-496b-b36d-115a61a7ad18"
   },
   "outputs": [
    {
     "data": {
      "text/html": [
       "\n",
       "  <div id=\"df-68bda51d-a4b2-444d-80d1-5a2a41ced931\">\n",
       "    <div class=\"colab-df-container\">\n",
       "      <div>\n",
       "<style scoped>\n",
       "    .dataframe tbody tr th:only-of-type {\n",
       "        vertical-align: middle;\n",
       "    }\n",
       "\n",
       "    .dataframe tbody tr th {\n",
       "        vertical-align: top;\n",
       "    }\n",
       "\n",
       "    .dataframe thead th {\n",
       "        text-align: right;\n",
       "    }\n",
       "</style>\n",
       "<table border=\"1\" class=\"dataframe\">\n",
       "  <thead>\n",
       "    <tr style=\"text-align: right;\">\n",
       "      <th></th>\n",
       "      <th>id</th>\n",
       "      <th>dialect</th>\n",
       "      <th>text</th>\n",
       "    </tr>\n",
       "  </thead>\n",
       "  <tbody>\n",
       "    <tr>\n",
       "      <th>0</th>\n",
       "      <td>934055133171912832</td>\n",
       "      <td>EGYPT</td>\n",
       "      <td>سؤال يفهم بتوتر الناس بالكوارث بيدوروا علي هشت...</td>\n",
       "    </tr>\n",
       "    <tr>\n",
       "      <th>1</th>\n",
       "      <td>1171407436814721024</td>\n",
       "      <td>SHAM</td>\n",
       "      <td>هادا الصحن تخصصه حمص فول حاطين لبنة</td>\n",
       "    </tr>\n",
       "    <tr>\n",
       "      <th>2</th>\n",
       "      <td>1054942138985791616</td>\n",
       "      <td>SHAM</td>\n",
       "      <td>رايحه اداوم بدون نوم الخير</td>\n",
       "    </tr>\n",
       "    <tr>\n",
       "      <th>3</th>\n",
       "      <td>863396710063722496</td>\n",
       "      <td>MAGHREB</td>\n",
       "      <td>انا السبعة الصبح للواحد الظهر</td>\n",
       "    </tr>\n",
       "    <tr>\n",
       "      <th>4</th>\n",
       "      <td>721682683580039168</td>\n",
       "      <td>GULF</td>\n",
       "      <td>الخبر الصحيح وجه الدقة شوهد حامل سماعات موكب ع...</td>\n",
       "    </tr>\n",
       "  </tbody>\n",
       "</table>\n",
       "</div>\n",
       "      <button class=\"colab-df-convert\" onclick=\"convertToInteractive('df-68bda51d-a4b2-444d-80d1-5a2a41ced931')\"\n",
       "              title=\"Convert this dataframe to an interactive table.\"\n",
       "              style=\"display:none;\">\n",
       "        \n",
       "  <svg xmlns=\"http://www.w3.org/2000/svg\" height=\"24px\"viewBox=\"0 0 24 24\"\n",
       "       width=\"24px\">\n",
       "    <path d=\"M0 0h24v24H0V0z\" fill=\"none\"/>\n",
       "    <path d=\"M18.56 5.44l.94 2.06.94-2.06 2.06-.94-2.06-.94-.94-2.06-.94 2.06-2.06.94zm-11 1L8.5 8.5l.94-2.06 2.06-.94-2.06-.94L8.5 2.5l-.94 2.06-2.06.94zm10 10l.94 2.06.94-2.06 2.06-.94-2.06-.94-.94-2.06-.94 2.06-2.06.94z\"/><path d=\"M17.41 7.96l-1.37-1.37c-.4-.4-.92-.59-1.43-.59-.52 0-1.04.2-1.43.59L10.3 9.45l-7.72 7.72c-.78.78-.78 2.05 0 2.83L4 21.41c.39.39.9.59 1.41.59.51 0 1.02-.2 1.41-.59l7.78-7.78 2.81-2.81c.8-.78.8-2.07 0-2.86zM5.41 20L4 18.59l7.72-7.72 1.47 1.35L5.41 20z\"/>\n",
       "  </svg>\n",
       "      </button>\n",
       "      \n",
       "  <style>\n",
       "    .colab-df-container {\n",
       "      display:flex;\n",
       "      flex-wrap:wrap;\n",
       "      gap: 12px;\n",
       "    }\n",
       "\n",
       "    .colab-df-convert {\n",
       "      background-color: #E8F0FE;\n",
       "      border: none;\n",
       "      border-radius: 50%;\n",
       "      cursor: pointer;\n",
       "      display: none;\n",
       "      fill: #1967D2;\n",
       "      height: 32px;\n",
       "      padding: 0 0 0 0;\n",
       "      width: 32px;\n",
       "    }\n",
       "\n",
       "    .colab-df-convert:hover {\n",
       "      background-color: #E2EBFA;\n",
       "      box-shadow: 0px 1px 2px rgba(60, 64, 67, 0.3), 0px 1px 3px 1px rgba(60, 64, 67, 0.15);\n",
       "      fill: #174EA6;\n",
       "    }\n",
       "\n",
       "    [theme=dark] .colab-df-convert {\n",
       "      background-color: #3B4455;\n",
       "      fill: #D2E3FC;\n",
       "    }\n",
       "\n",
       "    [theme=dark] .colab-df-convert:hover {\n",
       "      background-color: #434B5C;\n",
       "      box-shadow: 0px 1px 3px 1px rgba(0, 0, 0, 0.15);\n",
       "      filter: drop-shadow(0px 1px 2px rgba(0, 0, 0, 0.3));\n",
       "      fill: #FFFFFF;\n",
       "    }\n",
       "  </style>\n",
       "\n",
       "      <script>\n",
       "        const buttonEl =\n",
       "          document.querySelector('#df-68bda51d-a4b2-444d-80d1-5a2a41ced931 button.colab-df-convert');\n",
       "        buttonEl.style.display =\n",
       "          google.colab.kernel.accessAllowed ? 'block' : 'none';\n",
       "\n",
       "        async function convertToInteractive(key) {\n",
       "          const element = document.querySelector('#df-68bda51d-a4b2-444d-80d1-5a2a41ced931');\n",
       "          const dataTable =\n",
       "            await google.colab.kernel.invokeFunction('convertToInteractive',\n",
       "                                                     [key], {});\n",
       "          if (!dataTable) return;\n",
       "\n",
       "          const docLinkHtml = 'Like what you see? Visit the ' +\n",
       "            '<a target=\"_blank\" href=https://colab.research.google.com/notebooks/data_table.ipynb>data table notebook</a>'\n",
       "            + ' to learn more about interactive tables.';\n",
       "          element.innerHTML = '';\n",
       "          dataTable['output_type'] = 'display_data';\n",
       "          await google.colab.output.renderOutput(dataTable, element);\n",
       "          const docLink = document.createElement('div');\n",
       "          docLink.innerHTML = docLinkHtml;\n",
       "          element.appendChild(docLink);\n",
       "        }\n",
       "      </script>\n",
       "    </div>\n",
       "  </div>\n",
       "  "
      ],
      "text/plain": [
       "                    id  dialect  \\\n",
       "0   934055133171912832    EGYPT   \n",
       "1  1171407436814721024     SHAM   \n",
       "2  1054942138985791616     SHAM   \n",
       "3   863396710063722496  MAGHREB   \n",
       "4   721682683580039168     GULF   \n",
       "\n",
       "                                                text  \n",
       "0  سؤال يفهم بتوتر الناس بالكوارث بيدوروا علي هشت...  \n",
       "1                هادا الصحن تخصصه حمص فول حاطين لبنة  \n",
       "2                         رايحه اداوم بدون نوم الخير  \n",
       "3                      انا السبعة الصبح للواحد الظهر  \n",
       "4  الخبر الصحيح وجه الدقة شوهد حامل سماعات موكب ع...  "
      ]
     },
     "execution_count": 8,
     "metadata": {},
     "output_type": "execute_result"
    }
   ],
   "source": [
    "df.head()"
   ]
  },
  {
   "cell_type": "code",
   "execution_count": 9,
   "id": "13196ebc",
   "metadata": {
    "colab": {
     "base_uri": "https://localhost:8080/"
    },
    "id": "13196ebc",
    "outputId": "0a9f9747-2b88-426f-f552-de34aab46dc1"
   },
   "outputs": [
    {
     "data": {
      "text/plain": [
       "array(['EGYPT', 'SHAM', 'MAGHREB', 'GULF', 'SODAN'], dtype=object)"
      ]
     },
     "execution_count": 9,
     "metadata": {},
     "output_type": "execute_result"
    }
   ],
   "source": [
    "df['dialect'].unique()"
   ]
  },
  {
   "cell_type": "markdown",
   "id": "413d8ff3",
   "metadata": {
    "id": "413d8ff3"
   },
   "source": [
    "### Visualizing Grouped Dialects"
   ]
  },
  {
   "cell_type": "code",
   "execution_count": 10,
   "id": "aae5dc26",
   "metadata": {
    "colab": {
     "base_uri": "https://localhost:8080/",
     "height": 340
    },
    "id": "aae5dc26",
    "outputId": "bb001354-6b20-4c14-8474-1e11b1ec7e4c"
   },
   "outputs": [
    {
     "data": {
      "image/png": "[encoded data removed]",
      "text/plain": [
       "<Figure size 1080x360 with 1 Axes>"
      ]
     },
     "metadata": {},
     "output_type": "display_data"
    }
   ],
   "source": [
    "font_size1 = 16\n",
    "font_size2 = 12\n",
    "\n",
    "# Setting up figure sizes\n",
    "rcParams['figure.figsize'] = 15,5\n",
    "colors=['#4c72b0','#d44e52']\n",
    "\n",
    "# sb.countplot(df['dialect']);\n",
    "df['dialect'].value_counts().plot(kind='barh', figsize=(15,5), color=['b','r']);\n",
    "plt.title('Dialects', fontsize=font_size1);\n",
    "\n",
    "plt.yticks(fontsize= font_size2+2);\n",
    "plt.ylabel('');\n",
    "\n",
    "Sum = df['dialect'].value_counts().sum()\n",
    "for num, value in enumerate(df['dialect'].value_counts()):\n",
    "    plt.text(value+400,num,str(np.round(value/Sum*100, decimals = 1))+'%', fontweight='bold',va='center');"
   ]
  },
  {
   "cell_type": "markdown",
   "id": "0d5c4e60",
   "metadata": {
    "id": "0d5c4e60"
   },
   "source": [
    "### Saving The Cleaned Dataset"
   ]
  },
  {
   "cell_type": "code",
   "execution_count": 11,
   "id": "c5ab1c1d",
   "metadata": {
    "id": "c5ab1c1d"
   },
   "outputs": [],
   "source": [
    "df.to_csv('/content/drive/MyDrive/Colab/Arabic Dialect Classifier/5_class_dialects.csv', index = False)"
   ]
  },
  {
   "cell_type": "markdown",
   "id": "1de9fcab",
   "metadata": {
    "id": "1de9fcab"
   },
   "source": [
    "---"
   ]
  },
  {
   "cell_type": "markdown",
   "id": "f1449611",
   "metadata": {
    "id": "f1449611"
   },
   "source": [
    "### Converting the words into Numbers (Counts, Ratios, Logs) & Noise Reduction"
   ]
  },
  {
   "cell_type": "markdown",
   "id": "81a46be8",
   "metadata": {
    "id": "81a46be8"
   },
   "source": [
    "### Count of each Term"
   ]
  },
  {
   "cell_type": "code",
   "execution_count": 12,
   "id": "2593c0b7",
   "metadata": {
    "id": "2593c0b7"
   },
   "outputs": [],
   "source": [
    "def count_words(dialect):\n",
    "    \n",
    "    global total_words_count\n",
    "    dialect_words = Counter()\n",
    "    dialect_df = df[df['dialect'] == dialect]\n",
    "\n",
    "    for num, text in enumerate(df['text']):\n",
    "        if df['dialect'][num] == dialect:\n",
    "            for word in text.split(\" \"):\n",
    "                dialect_words[word] += 1\n",
    "                total_words_counts[word] += 1\n",
    "                    \n",
    "    return dialect_words, total_words_counts"
   ]
  },
  {
   "cell_type": "markdown",
   "id": "328132a6",
   "metadata": {
    "id": "328132a6"
   },
   "source": [
    "### Calculate the Ratio (Weight) of each Term for each Dialect"
   ]
  },
  {
   "cell_type": "code",
   "execution_count": 13,
   "id": "786588b7",
   "metadata": {
    "id": "786588b7"
   },
   "outputs": [],
   "source": [
    "def calculate_ratio(dialect_words):\n",
    "    global total_words_counts\n",
    "    global margin\n",
    "    \n",
    "    dialect_ratios = Counter()\n",
    "\n",
    "    for term, count in list(total_words_counts.most_common()):\n",
    "        ratio = dialect_words[term] / total_words_counts[term]+1 # Avoiding Zero Division\n",
    "        dialect_ratios[term] = ratio\n",
    "    return dialect_ratios"
   ]
  },
  {
   "cell_type": "markdown",
   "id": "f5cab79f",
   "metadata": {
    "id": "f5cab79f"
   },
   "source": [
    "### Calculate the Log of each Ratio & Applying Cut-off Margin"
   ]
  },
  {
   "cell_type": "code",
   "execution_count": 14,
   "id": "a4c37a04",
   "metadata": {
    "id": "a4c37a04"
   },
   "outputs": [],
   "source": [
    "def log_of_ratios(ratios_of_dialect_words):\n",
    "    \n",
    "    global ratio_margin\n",
    "    dialect_logs = Counter()\n",
    "    \n",
    "    for term, ratio in list(ratios_of_dialect_words.most_common()):\n",
    "        if ratio > ratio_margin:\n",
    "            dialect_logs[term] = np.log(ratio)\n",
    "    return dialect_logs"
   ]
  },
  {
   "cell_type": "markdown",
   "id": "4500fef8",
   "metadata": {
    "id": "4500fef8"
   },
   "source": [
    "### Calculating Counts"
   ]
  },
  {
   "cell_type": "code",
   "execution_count": 15,
   "id": "563e73c2",
   "metadata": {
    "id": "563e73c2"
   },
   "outputs": [],
   "source": [
    "total_words_counts = Counter()\n",
    "count_of_dialect_words = Counter()\n",
    "\n",
    "for dialect in df['dialect'].unique():\n",
    "    count_of_dialect_words[dialect], total_words_count = count_words(dialect)"
   ]
  },
  {
   "cell_type": "code",
   "execution_count": 16,
   "id": "c30d280b",
   "metadata": {
    "colab": {
     "base_uri": "https://localhost:8080/"
    },
    "id": "c30d280b",
    "outputId": "2f9f8b6c-21cb-4d5f-db03-3e4b3a87a3fd",
    "scrolled": true
   },
   "outputs": [
    {
     "data": {
      "text/plain": [
       "[('الله', 49707),\n",
       " ('مش', 31120),\n",
       " ('والله', 24778),\n",
       " ('شي', 19784),\n",
       " ('ما', 17275),\n",
       " ('انت', 16834),\n",
       " ('ان', 16260),\n",
       " ('عشان', 13396),\n",
       " ('يعني', 13297),\n",
       " ('الناس', 13255)]"
      ]
     },
     "execution_count": 16,
     "metadata": {},
     "output_type": "execute_result"
    }
   ],
   "source": [
    "total_words_counts.most_common(10)"
   ]
  },
  {
   "cell_type": "code",
   "execution_count": 17,
   "id": "58630815",
   "metadata": {
    "colab": {
     "base_uri": "https://localhost:8080/"
    },
    "id": "58630815",
    "outputId": "75648e0b-dc44-4e42-f3a4-52952005b68f"
   },
   "outputs": [
    {
     "data": {
      "text/plain": [
       "[('ماتغسلي', 1),\n",
       " ('الماديرنها', 1),\n",
       " ('الجعانين', 1),\n",
       " ('الامنجين', 1),\n",
       " ('حيعتقولنا', 1),\n",
       " ('ممارساتك', 1),\n",
       " ('تتزوجى', 1),\n",
       " ('عشقى', 1),\n",
       " ('ولاحوش', 1),\n",
       " ('ماصوروها', 1)]"
      ]
     },
     "execution_count": 17,
     "metadata": {},
     "output_type": "execute_result"
    }
   ],
   "source": [
    "list(reversed(total_words_counts.most_common()))[0:10]"
   ]
  },
  {
   "cell_type": "markdown",
   "id": "11d7e39f",
   "metadata": {
    "id": "11d7e39f"
   },
   "source": [
    "### Calculating Ratios"
   ]
  },
  {
   "cell_type": "code",
   "execution_count": 18,
   "id": "10404d50",
   "metadata": {
    "id": "10404d50"
   },
   "outputs": [],
   "source": [
    "ratios_of_dialect_words = Counter()\n",
    "\n",
    "for dialect in df['dialect'].unique():\n",
    "    ratios_of_dialect_words[dialect] = calculate_ratio(count_of_dialect_words[dialect])"
   ]
  },
  {
   "cell_type": "code",
   "execution_count": 19,
   "id": "bed1733a",
   "metadata": {
    "colab": {
     "base_uri": "https://localhost:8080/"
    },
    "id": "bed1733a",
    "outputId": "11c2b285-8f0e-4220-b517-286a9b27fc55"
   },
   "outputs": [
    {
     "data": {
      "text/plain": [
       "[('البدون', 2.0),\n",
       " ('الرويحي', 2.0),\n",
       " ('هذيلا', 2.0),\n",
       " ('المهلكه', 2.0),\n",
       " ('همثون', 2.0),\n",
       " ('الغرافه', 2.0),\n",
       " ('احين', 2.0),\n",
       " ('هذوله', 2.0),\n",
       " ('بوخالد', 2.0),\n",
       " ('هذيل', 2.0)]"
      ]
     },
     "execution_count": 19,
     "metadata": {},
     "output_type": "execute_result"
    }
   ],
   "source": [
    "ratios_of_dialect_words[\"GULF\"].most_common(10)"
   ]
  },
  {
   "cell_type": "code",
   "execution_count": 20,
   "id": "cbd7f84f",
   "metadata": {
    "colab": {
     "base_uri": "https://localhost:8080/"
    },
    "id": "cbd7f84f",
    "outputId": "5e3b0d4f-53e8-4b17-e862-712ad02b52b3"
   },
   "outputs": [
    {
     "data": {
      "text/plain": [
       "[('الأهلى', 2.0),\n",
       " ('الهلي', 2.0),\n",
       " ('اوووى', 2.0),\n",
       " ('هتلاقى', 2.0),\n",
       " ('الزملكاويه', 2.0),\n",
       " ('معاكوا', 2.0),\n",
       " ('الموبيل', 2.0),\n",
       " ('مورتا', 2.0),\n",
       " ('السبوبة', 2.0),\n",
       " ('هبقي', 2.0)]"
      ]
     },
     "execution_count": 20,
     "metadata": {},
     "output_type": "execute_result"
    }
   ],
   "source": [
    "ratios_of_dialect_words[\"EGYPT\"].most_common(10)"
   ]
  },
  {
   "cell_type": "code",
   "execution_count": 21,
   "id": "f43c84eb",
   "metadata": {
    "colab": {
     "base_uri": "https://localhost:8080/"
    },
    "id": "f43c84eb",
    "outputId": "44a71bcf-c1dd-4f7b-ca4a-f49f29757f74"
   },
   "outputs": [
    {
     "data": {
      "text/plain": [
       "[('ياااحرية', 2.0),\n",
       " ('هلقيت', 2.0),\n",
       " ('بغزة', 2.0),\n",
       " ('هيني', 2.0),\n",
       " ('هلقد', 2.0),\n",
       " ('بديش', 2.0),\n",
       " ('هلاء', 2.0),\n",
       " ('انداري', 2.0),\n",
       " ('يااحرية', 2.0),\n",
       " ('وفش', 2.0)]"
      ]
     },
     "execution_count": 21,
     "metadata": {},
     "output_type": "execute_result"
    }
   ],
   "source": [
    "ratios_of_dialect_words[\"SHAM\"].most_common(10)"
   ]
  },
  {
   "cell_type": "code",
   "execution_count": 22,
   "id": "42c4ceca",
   "metadata": {
    "colab": {
     "base_uri": "https://localhost:8080/"
    },
    "id": "42c4ceca",
    "outputId": "81499928-db3a-4201-bbfa-a5d4db02a77c"
   },
   "outputs": [
    {
     "data": {
      "text/plain": [
       "[('علاش', 2.0),\n",
       " ('هلبا', 2.0),\n",
       " ('هوما', 2.0),\n",
       " ('هضا', 2.0),\n",
       " ('دابا', 2.0),\n",
       " ('راهم', 2.0),\n",
       " ('كيفاش', 2.0),\n",
       " ('هادشي', 2.0),\n",
       " ('قداش', 2.0),\n",
       " ('ihabamir', 2.0)]"
      ]
     },
     "execution_count": 22,
     "metadata": {},
     "output_type": "execute_result"
    }
   ],
   "source": [
    "ratios_of_dialect_words[\"MAGHREB\"].most_common(10)"
   ]
  },
  {
   "cell_type": "markdown",
   "id": "ab722d63",
   "metadata": {
    "id": "ab722d63"
   },
   "source": [
    "### Calculating Logs"
   ]
  },
  {
   "cell_type": "code",
   "execution_count": 23,
   "id": "0244a2c8",
   "metadata": {
    "id": "0244a2c8"
   },
   "outputs": [],
   "source": [
    "ratio_margin = 1\n",
    "logs_of_dialect_words = Counter()\n",
    "\n",
    "for dialect in df['dialect'].unique():\n",
    "    logs_of_dialect_words[dialect] = log_of_ratios(ratios_of_dialect_words[dialect])"
   ]
  },
  {
   "cell_type": "code",
   "execution_count": 24,
   "id": "6a4def20",
   "metadata": {
    "colab": {
     "base_uri": "https://localhost:8080/"
    },
    "id": "6a4def20",
    "outputId": "1ee3dd68-168b-44d9-e006-c09c4a7f0e4e"
   },
   "outputs": [
    {
     "data": {
      "text/plain": [
       "[('البدون', 0.6931471805599453),\n",
       " ('الرويحي', 0.6931471805599453),\n",
       " ('هذيلا', 0.6931471805599453),\n",
       " ('المهلكه', 0.6931471805599453),\n",
       " ('همثون', 0.6931471805599453),\n",
       " ('الغرافه', 0.6931471805599453),\n",
       " ('احين', 0.6931471805599453),\n",
       " ('هذوله', 0.6931471805599453),\n",
       " ('بوخالد', 0.6931471805599453),\n",
       " ('هذيل', 0.6931471805599453)]"
      ]
     },
     "execution_count": 24,
     "metadata": {},
     "output_type": "execute_result"
    }
   ],
   "source": [
    "logs_of_dialect_words['GULF'].most_common(10)"
   ]
  },
  {
   "cell_type": "code",
   "execution_count": 25,
   "id": "8d17df6c",
   "metadata": {
    "colab": {
     "base_uri": "https://localhost:8080/"
    },
    "id": "8d17df6c",
    "outputId": "08cb46a8-2b74-4f3f-e0c6-8b3b478748db"
   },
   "outputs": [
    {
     "data": {
      "text/plain": [
       "[('الأهلى', 0.6931471805599453),\n",
       " ('الهلي', 0.6931471805599453),\n",
       " ('اوووى', 0.6931471805599453),\n",
       " ('هتلاقى', 0.6931471805599453),\n",
       " ('الزملكاويه', 0.6931471805599453),\n",
       " ('معاكوا', 0.6931471805599453),\n",
       " ('الموبيل', 0.6931471805599453),\n",
       " ('مورتا', 0.6931471805599453),\n",
       " ('السبوبة', 0.6931471805599453),\n",
       " ('هبقي', 0.6931471805599453)]"
      ]
     },
     "execution_count": 25,
     "metadata": {},
     "output_type": "execute_result"
    }
   ],
   "source": [
    "logs_of_dialect_words['EGYPT'].most_common(10)"
   ]
  },
  {
   "cell_type": "code",
   "execution_count": 26,
   "id": "253ae542",
   "metadata": {
    "colab": {
     "base_uri": "https://localhost:8080/"
    },
    "id": "253ae542",
    "outputId": "00d4d237-a6b6-41d5-df92-75aa5ca4518c"
   },
   "outputs": [
    {
     "data": {
      "text/plain": [
       "[('ياااحرية', 0.6931471805599453),\n",
       " ('هلقيت', 0.6931471805599453),\n",
       " ('بغزة', 0.6931471805599453),\n",
       " ('هيني', 0.6931471805599453),\n",
       " ('هلقد', 0.6931471805599453),\n",
       " ('بديش', 0.6931471805599453),\n",
       " ('هلاء', 0.6931471805599453),\n",
       " ('انداري', 0.6931471805599453),\n",
       " ('يااحرية', 0.6931471805599453),\n",
       " ('وفش', 0.6931471805599453)]"
      ]
     },
     "execution_count": 26,
     "metadata": {},
     "output_type": "execute_result"
    }
   ],
   "source": [
    "logs_of_dialect_words['SHAM'].most_common(10)"
   ]
  },
  {
   "cell_type": "code",
   "execution_count": 27,
   "id": "74ccf3f7",
   "metadata": {
    "colab": {
     "base_uri": "https://localhost:8080/"
    },
    "id": "74ccf3f7",
    "outputId": "a6c6bb43-e3db-4d92-c047-f6adfd8fca3b"
   },
   "outputs": [
    {
     "data": {
      "text/plain": [
       "[('علاش', 0.6931471805599453),\n",
       " ('هلبا', 0.6931471805599453),\n",
       " ('هوما', 0.6931471805599453),\n",
       " ('هضا', 0.6931471805599453),\n",
       " ('دابا', 0.6931471805599453),\n",
       " ('راهم', 0.6931471805599453),\n",
       " ('كيفاش', 0.6931471805599453),\n",
       " ('هادشي', 0.6931471805599453),\n",
       " ('قداش', 0.6931471805599453),\n",
       " ('ihabamir', 0.6931471805599453)]"
      ]
     },
     "execution_count": 27,
     "metadata": {},
     "output_type": "execute_result"
    }
   ],
   "source": [
    "logs_of_dialect_words['MAGHREB'].most_common(10)"
   ]
  },
  {
   "cell_type": "code",
   "execution_count": 28,
   "id": "0f8b3b3a",
   "metadata": {
    "colab": {
     "base_uri": "https://localhost:8080/"
    },
    "id": "0f8b3b3a",
    "outputId": "fc009217-4ff2-4726-9f48-b7f294d304ef"
   },
   "outputs": [
    {
     "data": {
      "text/plain": [
       "[('ليهو', 0.6931471805599453),\n",
       " ('هسي', 0.6931471805599453),\n",
       " ('الكيزان', 0.6931471805599453),\n",
       " ('قحت', 0.6931471805599453),\n",
       " ('عليهو', 0.6931471805599453),\n",
       " ('لحدي', 0.6931471805599453),\n",
       " ('معاهو', 0.6931471805599453),\n",
       " ('امدرمان', 0.6931471805599453),\n",
       " ('ياتو', 0.6931471805599453),\n",
       " ('حمدوك', 0.6931471805599453)]"
      ]
     },
     "execution_count": 28,
     "metadata": {},
     "output_type": "execute_result"
    }
   ],
   "source": [
    "logs_of_dialect_words['SODAN'].most_common(10)"
   ]
  },
  {
   "cell_type": "markdown",
   "id": "6070446b",
   "metadata": {
    "id": "6070446b"
   },
   "source": [
    "----"
   ]
  },
  {
   "cell_type": "markdown",
   "id": "490e1a03",
   "metadata": {
    "id": "490e1a03"
   },
   "source": [
    "### Further Noise Reduction"
   ]
  },
  {
   "cell_type": "markdown",
   "id": "fa916552",
   "metadata": {
    "id": "fa916552"
   },
   "source": [
    "#### Visualizing the Ratios"
   ]
  },
  {
   "cell_type": "code",
   "execution_count": 29,
   "id": "6b151935",
   "metadata": {
    "colab": {
     "base_uri": "https://localhost:8080/",
     "height": 1000
    },
    "id": "6b151935",
    "outputId": "a21ecadb-b50f-464e-ff27-a6fec29159b5",
    "scrolled": true
   },
   "outputs": [
    {
     "data": {
      "application/javascript": [
       "\n",
       "(function(root) {\n",
       "  function now() {\n",
       "    return new Date();\n",
       "  }\n",
       "\n",
       "  var force = true;\n",
       "\n",
       "  if (typeof root._bokeh_onload_callbacks === \"undefined\" || force === true) {\n",
       "    root._bokeh_onload_callbacks = [];\n",
       "    root._bokeh_is_loading = undefined;\n",
       "  }\n",
       "\n",
       "  var JS_MIME_TYPE = 'application/javascript';\n",
       "  var HTML_MIME_TYPE = 'text/html';\n",
       "  var EXEC_MIME_TYPE = 'application/vnd.bokehjs_exec.v0+json';\n",
       "  var CLASS_NAME = 'output_bokeh rendered_html';\n",
       "\n",
       "  /**\n",
       "   * Render data to the DOM node\n",
       "   */\n",
       "  function render(props, node) {\n",
       "    var script = document.createElement(\"script\");\n",
       "    node.appendChild(script);\n",
       "  }\n",
       "\n",
       "  /**\n",
       "   * Handle when an output is cleared or removed\n",
       "   */\n",
       "  function handleClearOutput(event, handle) {\n",
       "    var cell = handle.cell;\n",
       "\n",
       "    var id = cell.output_area._bokeh_element_id;\n",
       "    var server_id = cell.output_area._bokeh_server_id;\n",
       "    // Clean up Bokeh references\n",
       "    if (id != null && id in Bokeh.index) {\n",
       "      Bokeh.index[id].model.document.clear();\n",
       "      delete Bokeh.index[id];\n",
       "    }\n",
       "\n",
       "    if (server_id !== undefined) {\n",
       "      // Clean up Bokeh references\n",
       "      var cmd = \"from bokeh.io.state import curstate; print(curstate().uuid_to_server['\" + server_id + \"'].get_sessions()[0].document.roots[0]._id)\";\n",
       "      cell.notebook.kernel.execute(cmd, {\n",
       "        iopub: {\n",
       "          output: function(msg) {\n",
       "            var id = msg.content.text.trim();\n",
       "            if (id in Bokeh.index) {\n",
       "              Bokeh.index[id].model.document.clear();\n",
       "              delete Bokeh.index[id];\n",
       "            }\n",
       "          }\n",
       "        }\n",
       "      });\n",
       "      // Destroy server and session\n",
       "      var cmd = \"import bokeh.io.notebook as ion; ion.destroy_server('\" + server_id + \"')\";\n",
       "      cell.notebook.kernel.execute(cmd);\n",
       "    }\n",
       "  }\n",
       "\n",
       "  /**\n",
       "   * Handle when a new output is added\n",
       "   */\n",
       "  function handleAddOutput(event, handle) {\n",
       "    var output_area = handle.output_area;\n",
       "    var output = handle.output;\n",
       "\n",
       "    // limit handleAddOutput to display_data with EXEC_MIME_TYPE content only\n",
       "    if ((output.output_type != \"display_data\") || (!Object.prototype.hasOwnProperty.call(output.data, EXEC_MIME_TYPE))) {\n",
       "      return\n",
       "    }\n",
       "\n",
       "    var toinsert = output_area.element.find(\".\" + CLASS_NAME.split(' ')[0]);\n",
       "\n",
       "    if (output.metadata[EXEC_MIME_TYPE][\"id\"] !== undefined) {\n",
       "      toinsert[toinsert.length - 1].firstChild.textContent = output.data[JS_MIME_TYPE];\n",
       "      // store reference to embed id on output_area\n",
       "      output_area._bokeh_element_id = output.metadata[EXEC_MIME_TYPE][\"id\"];\n",
       "    }\n",
       "    if (output.metadata[EXEC_MIME_TYPE][\"server_id\"] !== undefined) {\n",
       "      var bk_div = document.createElement(\"div\");\n",
       "      bk_div.innerHTML = output.data[HTML_MIME_TYPE];\n",
       "      var script_attrs = bk_div.children[0].attributes;\n",
       "      for (var i = 0; i < script_attrs.length; i++) {\n",
       "        toinsert[toinsert.length - 1].firstChild.setAttribute(script_attrs[i].name, script_attrs[i].value);\n",
       "        toinsert[toinsert.length - 1].firstChild.textContent = bk_div.children[0].textContent\n",
       "      }\n",
       "      // store reference to server id on output_area\n",
       "      output_area._bokeh_server_id = output.metadata[EXEC_MIME_TYPE][\"server_id\"];\n",
       "    }\n",
       "  }\n",
       "\n",
       "  function register_renderer(events, OutputArea) {\n",
       "\n",
       "    function append_mime(data, metadata, element) {\n",
       "      // create a DOM node to render to\n",
       "      var toinsert = this.create_output_subarea(\n",
       "        metadata,\n",
       "        CLASS_NAME,\n",
       "        EXEC_MIME_TYPE\n",
       "      );\n",
       "      this.keyboard_manager.register_events(toinsert);\n",
       "      // Render to node\n",
       "      var props = {data: data, metadata: metadata[EXEC_MIME_TYPE]};\n",
       "      render(props, toinsert[toinsert.length - 1]);\n",
       "      element.append(toinsert);\n",
       "      return toinsert\n",
       "    }\n",
       "\n",
       "    /* Handle when an output is cleared or removed */\n",
       "    events.on('clear_output.CodeCell', handleClearOutput);\n",
       "    events.on('delete.Cell', handleClearOutput);\n",
       "\n",
       "    /* Handle when a new output is added */\n",
       "    events.on('output_added.OutputArea', handleAddOutput);\n",
       "\n",
       "    /**\n",
       "     * Register the mime type and append_mime function with output_area\n",
       "     */\n",
       "    OutputArea.prototype.register_mime_type(EXEC_MIME_TYPE, append_mime, {\n",
       "      /* Is output safe? */\n",
       "      safe: true,\n",
       "      /* Index of renderer in `output_area.display_order` */\n",
       "      index: 0\n",
       "    });\n",
       "  }\n",
       "\n",
       "  // register the mime type if in Jupyter Notebook environment and previously unregistered\n",
       "  if (root.Jupyter !== undefined) {\n",
       "    var events = require('base/js/events');\n",
       "    var OutputArea = require('notebook/js/outputarea').OutputArea;\n",
       "\n",
       "    if (OutputArea.prototype.mime_types().indexOf(EXEC_MIME_TYPE) == -1) {\n",
       "      register_renderer(events, OutputArea);\n",
       "    }\n",
       "  }\n",
       "\n",
       "  \n",
       "  if (typeof (root._bokeh_timeout) === \"undefined\" || force === true) {\n",
       "    root._bokeh_timeout = Date.now() + 5000;\n",
       "    root._bokeh_failed_load = false;\n",
       "  }\n",
       "\n",
       "  var NB_LOAD_WARNING = {'data': {'text/html':\n",
       "     \"<div style='background-color: #fdd'>\\n\"+\n",
       "     \"<p>\\n\"+\n",
       "     \"BokehJS does not appear to have successfully loaded. If loading BokehJS from CDN, this \\n\"+\n",
       "     \"may be due to a slow or bad network connection. Possible fixes:\\n\"+\n",
       "     \"</p>\\n\"+\n",
       "     \"<ul>\\n\"+\n",
       "     \"<li>re-rerun `output_notebook()` to attempt to load from CDN again, or</li>\\n\"+\n",
       "     \"<li>use INLINE resources instead, as so:</li>\\n\"+\n",
       "     \"</ul>\\n\"+\n",
       "     \"<code>\\n\"+\n",
       "     \"from bokeh.resources import INLINE\\n\"+\n",
       "     \"output_notebook(resources=INLINE)\\n\"+\n",
       "     \"</code>\\n\"+\n",
       "     \"</div>\"}};\n",
       "\n",
       "  function display_loaded() {\n",
       "    var el = document.getElementById(null);\n",
       "    if (el != null) {\n",
       "      el.textContent = \"BokehJS is loading...\";\n",
       "    }\n",
       "    if (root.Bokeh !== undefined) {\n",
       "      if (el != null) {\n",
       "        el.textContent = \"BokehJS \" + root.Bokeh.version + \" successfully loaded.\";\n",
       "      }\n",
       "    } else if (Date.now() < root._bokeh_timeout) {\n",
       "      setTimeout(display_loaded, 100)\n",
       "    }\n",
       "  }\n",
       "\n",
       "\n",
       "  function run_callbacks() {\n",
       "    try {\n",
       "      root._bokeh_onload_callbacks.forEach(function(callback) {\n",
       "        if (callback != null)\n",
       "          callback();\n",
       "      });\n",
       "    } finally {\n",
       "      delete root._bokeh_onload_callbacks\n",
       "    }\n",
       "    console.debug(\"Bokeh: all callbacks have finished\");\n",
       "  }\n",
       "\n",
       "  function load_libs(css_urls, js_urls, callback) {\n",
       "    if (css_urls == null) css_urls = [];\n",
       "    if (js_urls == null) js_urls = [];\n",
       "\n",
       "    root._bokeh_onload_callbacks.push(callback);\n",
       "    if (root._bokeh_is_loading > 0) {\n",
       "      console.debug(\"Bokeh: BokehJS is being loaded, scheduling callback at\", now());\n",
       "      return null;\n",
       "    }\n",
       "    if (js_urls == null || js_urls.length === 0) {\n",
       "      run_callbacks();\n",
       "      return null;\n",
       "    }\n",
       "    console.debug(\"Bokeh: BokehJS not loaded, scheduling load and callback at\", now());\n",
       "    root._bokeh_is_loading = css_urls.length + js_urls.length;\n",
       "\n",
       "    function on_load() {\n",
       "      root._bokeh_is_loading--;\n",
       "      if (root._bokeh_is_loading === 0) {\n",
       "        console.debug(\"Bokeh: all BokehJS libraries/stylesheets loaded\");\n",
       "        run_callbacks()\n",
       "      }\n",
       "    }\n",
       "\n",
       "    function on_error(url) {\n",
       "      console.error(\"failed to load \" + url);\n",
       "    }\n",
       "\n",
       "    for (let i = 0; i < css_urls.length; i++) {\n",
       "      const url = css_urls[i];\n",
       "      const element = document.createElement(\"link\");\n",
       "      element.onload = on_load;\n",
       "      element.onerror = on_error.bind(null, url);\n",
       "      element.rel = \"stylesheet\";\n",
       "      element.type = \"text/css\";\n",
       "      element.href = url;\n",
       "      console.debug(\"Bokeh: injecting link tag for BokehJS stylesheet: \", url);\n",
       "      document.body.appendChild(element);\n",
       "    }\n",
       "\n",
       "    const hashes = {\"https://cdn.bokeh.org/bokeh/release/bokeh-2.3.3.min.js\": \"dM3QQsP+wXdHg42wTqW85BjZQdLNNIXqlPw/BgKoExPmTG7ZLML4EGqLMfqHT6ON\", \"https://cdn.bokeh.org/bokeh/release/bokeh-tables-2.3.3.min.js\": \"8x57I4YuIfu8XyZfFo0XVr2WAT8EK4rh/uDe3wF7YuW2FNUSNEpJbsPaB1nJ2fz2\", \"https://cdn.bokeh.org/bokeh/release/bokeh-widgets-2.3.3.min.js\": \"3QTqdz9LyAm2i0sG5XTePsHec3UHWwVsrOL68SYRoAXsafvfAyqtQ+h440+qIBhS\"};\n",
       "\n",
       "    for (let i = 0; i < js_urls.length; i++) {\n",
       "      const url = js_urls[i];\n",
       "      const element = document.createElement('script');\n",
       "      element.onload = on_load;\n",
       "      element.onerror = on_error.bind(null, url);\n",
       "      element.async = false;\n",
       "      element.src = url;\n",
       "      if (url in hashes) {\n",
       "        element.crossOrigin = \"anonymous\";\n",
       "        element.integrity = \"sha384-\" + hashes[url];\n",
       "      }\n",
       "      console.debug(\"Bokeh: injecting script tag for BokehJS library: \", url);\n",
       "      document.head.appendChild(element);\n",
       "    }\n",
       "  };\n",
       "\n",
       "  function inject_raw_css(css) {\n",
       "    const element = document.createElement(\"style\");\n",
       "    element.appendChild(document.createTextNode(css));\n",
       "    document.body.appendChild(element);\n",
       "  }\n",
       "\n",
       "  \n",
       "  var js_urls = [\"https://cdn.bokeh.org/bokeh/release/bokeh-2.3.3.min.js\", \"https://cdn.bokeh.org/bokeh/release/bokeh-widgets-2.3.3.min.js\", \"https://cdn.bokeh.org/bokeh/release/bokeh-tables-2.3.3.min.js\"];\n",
       "  var css_urls = [];\n",
       "  \n",
       "\n",
       "  var inline_js = [\n",
       "    function(Bokeh) {\n",
       "      Bokeh.set_log_level(\"info\");\n",
       "    },\n",
       "    function(Bokeh) {\n",
       "    \n",
       "    \n",
       "    }\n",
       "  ];\n",
       "\n",
       "  function run_inline_js() {\n",
       "    \n",
       "    if (root.Bokeh !== undefined || force === true) {\n",
       "      \n",
       "    for (var i = 0; i < inline_js.length; i++) {\n",
       "      inline_js[i].call(root, root.Bokeh);\n",
       "    }\n",
       "    } else if (Date.now() < root._bokeh_timeout) {\n",
       "      setTimeout(run_inline_js, 100);\n",
       "    } else if (!root._bokeh_failed_load) {\n",
       "      console.log(\"Bokeh: BokehJS failed to load within specified timeout.\");\n",
       "      root._bokeh_failed_load = true;\n",
       "    } else if (force !== true) {\n",
       "      var cell = $(document.getElementById(null)).parents('.cell').data().cell;\n",
       "      cell.output_area.append_execute_result(NB_LOAD_WARNING)\n",
       "    }\n",
       "\n",
       "  }\n",
       "\n",
       "  if (root._bokeh_is_loading === 0) {\n",
       "    console.debug(\"Bokeh: BokehJS loaded, going straight to plotting\");\n",
       "    run_inline_js();\n",
       "  } else {\n",
       "    load_libs(css_urls, js_urls, function() {\n",
       "      console.debug(\"Bokeh: BokehJS plotting callback run at\", now());\n",
       "      run_inline_js();\n",
       "    });\n",
       "  }\n",
       "}(window));"
      ],
      "application/vnd.bokehjs_load.v0+json": "\n(function(root) {\n  function now() {\n    return new Date();\n  }\n\n  var force = true;\n\n  if (typeof root._bokeh_onload_callbacks === \"undefined\" || force === true) {\n    root._bokeh_onload_callbacks = [];\n    root._bokeh_is_loading = undefined;\n  }\n\n  \n\n  \n  if (typeof (root._bokeh_timeout) === \"undefined\" || force === true) {\n    root._bokeh_timeout = Date.now() + 5000;\n    root._bokeh_failed_load = false;\n  }\n\n  var NB_LOAD_WARNING = {'data': {'text/html':\n     \"<div style='background-color: #fdd'>\\n\"+\n     \"<p>\\n\"+\n     \"BokehJS does not appear to have successfully loaded. If loading BokehJS from CDN, this \\n\"+\n     \"may be due to a slow or bad network connection. Possible fixes:\\n\"+\n     \"</p>\\n\"+\n     \"<ul>\\n\"+\n     \"<li>re-rerun `output_notebook()` to attempt to load from CDN again, or</li>\\n\"+\n     \"<li>use INLINE resources instead, as so:</li>\\n\"+\n     \"</ul>\\n\"+\n     \"<code>\\n\"+\n     \"from bokeh.resources import INLINE\\n\"+\n     \"output_notebook(resources=INLINE)\\n\"+\n     \"</code>\\n\"+\n     \"</div>\"}};\n\n  function display_loaded() {\n    var el = document.getElementById(null);\n    if (el != null) {\n      el.textContent = \"BokehJS is loading...\";\n    }\n    if (root.Bokeh !== undefined) {\n      if (el != null) {\n        el.textContent = \"BokehJS \" + root.Bokeh.version + \" successfully loaded.\";\n      }\n    } else if (Date.now() < root._bokeh_timeout) {\n      setTimeout(display_loaded, 100)\n    }\n  }\n\n\n  function run_callbacks() {\n    try {\n      root._bokeh_onload_callbacks.forEach(function(callback) {\n        if (callback != null)\n          callback();\n      });\n    } finally {\n      delete root._bokeh_onload_callbacks\n    }\n    console.debug(\"Bokeh: all callbacks have finished\");\n  }\n\n  function load_libs(css_urls, js_urls, callback) {\n    if (css_urls == null) css_urls = [];\n    if (js_urls == null) js_urls = [];\n\n    root._bokeh_onload_callbacks.push(callback);\n    if (root._bokeh_is_loading > 0) {\n      console.debug(\"Bokeh: BokehJS is being loaded, scheduling callback at\", now());\n      return null;\n    }\n    if (js_urls == null || js_urls.length === 0) {\n      run_callbacks();\n      return null;\n    }\n    console.debug(\"Bokeh: BokehJS not loaded, scheduling load and callback at\", now());\n    root._bokeh_is_loading = css_urls.length + js_urls.length;\n\n    function on_load() {\n      root._bokeh_is_loading--;\n      if (root._bokeh_is_loading === 0) {\n        console.debug(\"Bokeh: all BokehJS libraries/stylesheets loaded\");\n        run_callbacks()\n      }\n    }\n\n    function on_error(url) {\n      console.error(\"failed to load \" + url);\n    }\n\n    for (let i = 0; i < css_urls.length; i++) {\n      const url = css_urls[i];\n      const element = document.createElement(\"link\");\n      element.onload = on_load;\n      element.onerror = on_error.bind(null, url);\n      element.rel = \"stylesheet\";\n      element.type = \"text/css\";\n      element.href = url;\n      console.debug(\"Bokeh: injecting link tag for BokehJS stylesheet: \", url);\n      document.body.appendChild(element);\n    }\n\n    const hashes = {\"https://cdn.bokeh.org/bokeh/release/bokeh-2.3.3.min.js\": \"dM3QQsP+wXdHg42wTqW85BjZQdLNNIXqlPw/BgKoExPmTG7ZLML4EGqLMfqHT6ON\", \"https://cdn.bokeh.org/bokeh/release/bokeh-tables-2.3.3.min.js\": \"8x57I4YuIfu8XyZfFo0XVr2WAT8EK4rh/uDe3wF7YuW2FNUSNEpJbsPaB1nJ2fz2\", \"https://cdn.bokeh.org/bokeh/release/bokeh-widgets-2.3.3.min.js\": \"3QTqdz9LyAm2i0sG5XTePsHec3UHWwVsrOL68SYRoAXsafvfAyqtQ+h440+qIBhS\"};\n\n    for (let i = 0; i < js_urls.length; i++) {\n      const url = js_urls[i];\n      const element = document.createElement('script');\n      element.onload = on_load;\n      element.onerror = on_error.bind(null, url);\n      element.async = false;\n      element.src = url;\n      if (url in hashes) {\n        element.crossOrigin = \"anonymous\";\n        element.integrity = \"sha384-\" + hashes[url];\n      }\n      console.debug(\"Bokeh: injecting script tag for BokehJS library: \", url);\n      document.head.appendChild(element);\n    }\n  };\n\n  function inject_raw_css(css) {\n    const element = document.createElement(\"style\");\n    element.appendChild(document.createTextNode(css));\n    document.body.appendChild(element);\n  }\n\n  \n  var js_urls = [\"https://cdn.bokeh.org/bokeh/release/bokeh-2.3.3.min.js\", \"https://cdn.bokeh.org/bokeh/release/bokeh-widgets-2.3.3.min.js\", \"https://cdn.bokeh.org/bokeh/release/bokeh-tables-2.3.3.min.js\"];\n  var css_urls = [];\n  \n\n  var inline_js = [\n    function(Bokeh) {\n      Bokeh.set_log_level(\"info\");\n    },\n    function(Bokeh) {\n    \n    \n    }\n  ];\n\n  function run_inline_js() {\n    \n    if (root.Bokeh !== undefined || force === true) {\n      \n    for (var i = 0; i < inline_js.length; i++) {\n      inline_js[i].call(root, root.Bokeh);\n    }\n    } else if (Date.now() < root._bokeh_timeout) {\n      setTimeout(run_inline_js, 100);\n    } else if (!root._bokeh_failed_load) {\n      console.log(\"Bokeh: BokehJS failed to load within specified timeout.\");\n      root._bokeh_failed_load = true;\n    } else if (force !== true) {\n      var cell = $(document.getElementById(null)).parents('.cell').data().cell;\n      cell.output_area.append_execute_result(NB_LOAD_WARNING)\n    }\n\n  }\n\n  if (root._bokeh_is_loading === 0) {\n    console.debug(\"Bokeh: BokehJS loaded, going straight to plotting\");\n    run_inline_js();\n  } else {\n    load_libs(css_urls, js_urls, function() {\n      console.debug(\"Bokeh: BokehJS plotting callback run at\", now());\n      run_inline_js();\n    });\n  }\n}(window));"
     },
     "metadata": {},
     "output_type": "display_data"
    },
    {
     "data": {
      "text/html": [
       "\n",
       "\n",
       "\n",
       "\n",
       "\n",
       "\n",
       "  <div class=\"bk-root\" id=\"38a4ea80-99db-417a-943c-2b55dd7cb7d7\" data-root-id=\"1002\"></div>\n"
      ]
     },
     "metadata": {},
     "output_type": "display_data"
    },
    {
     "data": {
      "application/javascript": [
       "(function(root) {\n",
       "  function embed_document(root) {\n",
       "    \n",
       "  var docs_json = {\"463e720f-1710-4c59-a616-b012b3fa2b8c\":{\"defs\":[],\"roots\":{\"references\":[{\"attributes\":{\"below\":[{\"id\":\"1013\"}],\"center\":[{\"id\":\"1016\"},{\"id\":\"1020\"}],\"left\":[{\"id\":\"1017\"}],\"renderers\":[{\"id\":\"1033\"}],\"title\":{\"id\":\"1003\"},\"toolbar\":{\"id\":\"1025\"},\"toolbar_location\":\"above\",\"x_range\":{\"id\":\"1005\"},\"x_scale\":{\"id\":\"1009\"},\"y_range\":{\"id\":\"1007\"},\"y_scale\":{\"id\":\"1011\"}},\"id\":\"1002\",\"subtype\":\"Figure\",\"type\":\"Plot\"},{\"attributes\":{},\"id\":\"1042\",\"type\":\"Selection\"},{\"attributes\":{\"formatter\":{\"id\":\"1040\"},\"major_label_policy\":{\"id\":\"1041\"},\"ticker\":{\"id\":\"1014\"}},\"id\":\"1013\",\"type\":\"LinearAxis\"},{\"attributes\":{\"axis\":{\"id\":\"1017\"},\"dimension\":1,\"ticker\":null},\"id\":\"1020\",\"type\":\"Grid\"},{\"attributes\":{},\"id\":\"1007\",\"type\":\"DataRange1d\"},{\"attributes\":{},\"id\":\"1005\",\"type\":\"DataRange1d\"},{\"attributes\":{},\"id\":\"1011\",\"type\":\"LinearScale\"},{\"attributes\":{},\"id\":\"1038\",\"type\":\"AllLabels\"},{\"attributes\":{},\"id\":\"1040\",\"type\":\"BasicTickFormatter\"},{\"attributes\":{},\"id\":\"1022\",\"type\":\"WheelZoomTool\"},{\"attributes\":{\"source\":{\"id\":\"1030\"}},\"id\":\"1034\",\"type\":\"CDSView\"},{\"attributes\":{},\"id\":\"1037\",\"type\":\"BasicTickFormatter\"},{\"attributes\":{\"formatter\":{\"id\":\"1037\"},\"major_label_policy\":{\"id\":\"1038\"},\"ticker\":{\"id\":\"1018\"}},\"id\":\"1017\",\"type\":\"LinearAxis\"},{\"attributes\":{},\"id\":\"1021\",\"type\":\"PanTool\"},{\"attributes\":{},\"id\":\"1041\",\"type\":\"AllLabels\"},{\"attributes\":{\"text\":\"EGYPT Terms Ratios Affinity Distribution\"},\"id\":\"1003\",\"type\":\"Title\"},{\"attributes\":{},\"id\":\"1014\",\"type\":\"BasicTicker\"},{\"attributes\":{},\"id\":\"1024\",\"type\":\"SaveTool\"},{\"attributes\":{\"data_source\":{\"id\":\"1030\"},\"glyph\":{\"id\":\"1031\"},\"hover_glyph\":null,\"muted_glyph\":null,\"nonselection_glyph\":{\"id\":\"1032\"},\"view\":{\"id\":\"1034\"}},\"id\":\"1033\",\"type\":\"GlyphRenderer\"},{\"attributes\":{\"active_multi\":null,\"tools\":[{\"id\":\"1021\"},{\"id\":\"1022\"},{\"id\":\"1023\"},{\"id\":\"1024\"}]},\"id\":\"1025\",\"type\":\"Toolbar\"},{\"attributes\":{},\"id\":\"1018\",\"type\":\"BasicTicker\"},{\"attributes\":{\"axis\":{\"id\":\"1013\"},\"ticker\":null},\"id\":\"1016\",\"type\":\"Grid\"},{\"attributes\":{\"bottom\":{\"value\":0},\"fill_alpha\":{\"value\":0.1},\"fill_color\":{\"value\":\"#1f77b4\"},\"left\":{\"field\":\"left\"},\"line_alpha\":{\"value\":0.1},\"line_color\":{\"value\":\"#555555\"},\"right\":{\"field\":\"right\"},\"top\":{\"field\":\"top\"}},\"id\":\"1032\",\"type\":\"Quad\"},{\"attributes\":{\"data\":{\"left\":{\"__ndarray__\":\"AAAAAAAA8D8pXI/C9SjwP1K4HoXrUfA/exSuR+F68D+kcD0K16PwP83MzMzMzPA/9ihcj8L18D8fhetRuB7xP0jhehSuR/E/cT0K16Nw8T+amZmZmZnxP8P1KFyPwvE/7FG4HoXr8T8UrkfhehTyPz4K16NwPfI/ZmZmZmZm8j+PwvUoXI/yP7gehetRuPI/4XoUrkfh8j8K16NwPQrzPzMzMzMzM/M/XI/C9Shc8z+F61G4HoXzP65H4XoUrvM/16NwPQrX8z8AAAAAAAD0Pylcj8L1KPQ/UrgehetR9D97FK5H4Xr0P6RwPQrXo/Q/zczMzMzM9D/2KFyPwvX0Px+F61G4HvU/SOF6FK5H9T9xPQrXo3D1P5qZmZmZmfU/wvUoXI/C9T/sUbgehev1PxSuR+F6FPY/PgrXo3A99j9mZmZmZmb2P5DC9Shcj/Y/uB6F61G49j/hehSuR+H2PwrXo3A9Cvc/MzMzMzMz9z9cj8L1KFz3P4XrUbgehfc/rkfhehSu9z/Xo3A9Ctf3PwAAAAAAAPg/KVyPwvUo+D9SuB6F61H4P3sUrkfhevg/pHA9Ctej+D/NzMzMzMz4P/YoXI/C9fg/H4XrUbge+T9I4XoUrkf5P3A9CtejcPk/mpmZmZmZ+T/C9Shcj8L5P+xRuB6F6/k/FK5H4XoU+j8+CtejcD36P2ZmZmZmZvo/kML1KFyP+j+4HoXrUbj6P+J6FK5H4fo/CtejcD0K+z80MzMzMzP7P1yPwvUoXPs/hetRuB6F+z+uR+F6FK77P9ejcD0K1/s/AAAAAAAA/D8pXI/C9Sj8P1K4HoXrUfw/exSuR+F6/D+kcD0K16P8P83MzMzMzPw/9ihcj8L1/D8fhetRuB79P0jhehSuR/0/cD0K16Nw/T+amZmZmZn9P8L1KFyPwv0/7FG4HoXr/T8UrkfhehT+Pz4K16NwPf4/ZmZmZmZm/j+QwvUoXI/+P7gehetRuP4/4noUrkfh/j8K16NwPQr/PzQzMzMzM/8/XI/C9Shc/z+F61G4HoX/P65H4XoUrv8/16NwPQrX/z8=\",\"dtype\":\"float64\",\"order\":\"little\",\"shape\":[100]},\"right\":{\"__ndarray__\":\"KVyPwvUo8D9SuB6F61HwP3sUrkfhevA/pHA9Ctej8D/NzMzMzMzwP/YoXI/C9fA/H4XrUbge8T9I4XoUrkfxP3E9CtejcPE/mpmZmZmZ8T/D9Shcj8LxP+xRuB6F6/E/FK5H4XoU8j8+CtejcD3yP2ZmZmZmZvI/j8L1KFyP8j+4HoXrUbjyP+F6FK5H4fI/CtejcD0K8z8zMzMzMzPzP1yPwvUoXPM/hetRuB6F8z+uR+F6FK7zP9ejcD0K1/M/AAAAAAAA9D8pXI/C9Sj0P1K4HoXrUfQ/exSuR+F69D+kcD0K16P0P83MzMzMzPQ/9ihcj8L19D8fhetRuB71P0jhehSuR/U/cT0K16Nw9T+amZmZmZn1P8L1KFyPwvU/7FG4HoXr9T8UrkfhehT2Pz4K16NwPfY/ZmZmZmZm9j+QwvUoXI/2P7gehetRuPY/4XoUrkfh9j8K16NwPQr3PzMzMzMzM/c/XI/C9Shc9z+F61G4HoX3P65H4XoUrvc/16NwPQrX9z8AAAAAAAD4Pylcj8L1KPg/UrgehetR+D97FK5H4Xr4P6RwPQrXo/g/zczMzMzM+D/2KFyPwvX4Px+F61G4Hvk/SOF6FK5H+T9wPQrXo3D5P5qZmZmZmfk/wvUoXI/C+T/sUbgehev5PxSuR+F6FPo/PgrXo3A9+j9mZmZmZmb6P5DC9Shcj/o/uB6F61G4+j/iehSuR+H6PwrXo3A9Cvs/NDMzMzMz+z9cj8L1KFz7P4XrUbgehfs/rkfhehSu+z/Xo3A9Ctf7PwAAAAAAAPw/KVyPwvUo/D9SuB6F61H8P3sUrkfhevw/pHA9Ctej/D/NzMzMzMz8P/YoXI/C9fw/H4XrUbge/T9I4XoUrkf9P3A9CtejcP0/mpmZmZmZ/T/C9Shcj8L9P+xRuB6F6/0/FK5H4XoU/j8+CtejcD3+P2ZmZmZmZv4/kML1KFyP/j+4HoXrUbj+P+J6FK5H4f4/CtejcD0K/z80MzMzMzP/P1yPwvUoXP8/hetRuB6F/z+uR+F6FK7/P9ejcD0K1/8/AAAAAAAAAEA=\",\"dtype\":\"float64\",\"order\":\"little\",\"shape\":[100]},\"top\":{\"__ndarray__\":\"p5C0rXoZU0DfpQobYRTAP1UiWYCyBMk/5tSho3RCzD8Lxrjfkj7RPzYdqBo5AdU/WH7p92lI0z8DC5xh5Y/WPwzIYJS8WNU/3BONB0pF1T8MyghJ5nLZP6kDKQMg7to/eBXUv02Q3T+JqCP1GIDNP6+hXLw+0d8/kitncZD+zj+Zfn4ur8vjP48lb1MTsMI/urVHuVclzT9O+GU7Bxi3P/oX6pKuO+c/DM0E2CSavz/Qw/bmRqDJP/W1Yf15qcA/VSJZgLIEqT+KnGr6lFftP32r5e1kHrU/zTAl+RrEvD8ViXUw51XMP0U7oQgwT6g/GR9DrVFZvz87ftzVWIapP9bt6SvyjJs/+rGMhkl09T+BQF+QuhSWP1zdPm/E6qg/WInJCvxirj97FjW8c1+5P0FFHRhF2qM/f3RgxkP7jT9/YyMoTerQP7mkf7GwPqM/JW/ZzVT+uj9ooDJPtMqOP9DD9uZGoKk/nXetKEBvoj+tYrUJFlmbP0Gkf7GwPpM/RTuhCDBPiD/YfGuwyjRgP9Y2azzsdAJA2HxrsMo0gD/pZ3ORoB6JPxcZS4/UCpM/xgLiShyjkj/Ec2DGQ/udP8YC4koco4I/7f6U6B8vrj+C7ukr8oyLPw4Oz3+/f3c/qDdRn9wawD87qq5eyVWKP1TpK6Rnx50/OjRyWxc4kT/dO6EIME+IP4rAF6OBvXo//Fg5+gDO3z+onzJPtMpuP4glOMR354c/uOa6ftl1lD+Sk9T0gpyAP+hjIyhN6qA/KARTcKr0iz+ziFjlbRGFP9bt6SvyjGs/kCbDLSi9xD+qy5OylkiGP2Fy76C1qZQ/K5PU9IKcgD9ooDJPtMpuPxuuxDEqAbQ/RTuhCDBPiD9qL7TTjHJzP/gWbEsPKKQ/8C6004xygz8CkIeShiicP8kZvLRiXHw/Drvo9Wimkz/gce+gtamUPz59a7DKNHA/c3xrsMo0kD/SzQTYJJp/P3N8a7DKNIA/4bUqbt7gdT+KwBejgb16P+QvtNOMcmM/2HxrsMo0cD9qL7TTjHJTP46URRoR7jk/CwjC1/MYIkA=\",\"dtype\":\"float64\",\"order\":\"little\",\"shape\":[100]}},\"selected\":{\"id\":\"1042\"},\"selection_policy\":{\"id\":\"1043\"}},\"id\":\"1030\",\"type\":\"ColumnDataSource\"},{\"attributes\":{\"bottom\":{\"value\":0},\"fill_color\":{\"value\":\"#1f77b4\"},\"left\":{\"field\":\"left\"},\"line_color\":{\"value\":\"#555555\"},\"right\":{\"field\":\"right\"},\"top\":{\"field\":\"top\"}},\"id\":\"1031\",\"type\":\"Quad\"},{\"attributes\":{},\"id\":\"1023\",\"type\":\"ResetTool\"},{\"attributes\":{},\"id\":\"1043\",\"type\":\"UnionRenderers\"},{\"attributes\":{},\"id\":\"1009\",\"type\":\"LinearScale\"}],\"root_ids\":[\"1002\"]},\"title\":\"Bokeh Application\",\"version\":\"2.3.3\"}};\n",
       "  var render_items = [{\"docid\":\"463e720f-1710-4c59-a616-b012b3fa2b8c\",\"root_ids\":[\"1002\"],\"roots\":{\"1002\":\"38a4ea80-99db-417a-943c-2b55dd7cb7d7\"}}];\n",
       "  root.Bokeh.embed.embed_items_notebook(docs_json, render_items);\n",
       "\n",
       "  }\n",
       "  if (root.Bokeh !== undefined) {\n",
       "    embed_document(root);\n",
       "  } else {\n",
       "    var attempts = 0;\n",
       "    var timer = setInterval(function(root) {\n",
       "      if (root.Bokeh !== undefined) {\n",
       "        clearInterval(timer);\n",
       "        embed_document(root);\n",
       "      } else {\n",
       "        attempts++;\n",
       "        if (attempts > 100) {\n",
       "          clearInterval(timer);\n",
       "          console.log(\"Bokeh: ERROR: Unable to run BokehJS code because BokehJS library is missing\");\n",
       "        }\n",
       "      }\n",
       "    }, 10, root)\n",
       "  }\n",
       "})(window);"
      ],
      "application/vnd.bokehjs_exec.v0+json": ""
     },
     "metadata": {
      "application/vnd.bokehjs_exec.v0+json": {
       "id": "1002"
      }
     },
     "output_type": "display_data"
    },
    {
     "data": {
      "text/html": [
       "\n",
       "\n",
       "\n",
       "\n",
       "\n",
       "\n",
       "  <div class=\"bk-root\" id=\"bb3edb32-3c85-4d58-90d9-e52f073fd67b\" data-root-id=\"1089\"></div>\n"
      ]
     },
     "metadata": {},
     "output_type": "display_data"
    },
    {
     "data": {
      "application/javascript": [
       "(function(root) {\n",
       "  function embed_document(root) {\n",
       "    \n",
       "  var docs_json = {\"c794107e-f60a-44b5-9c49-cbd3d8cc9b99\":{\"defs\":[],\"roots\":{\"references\":[{\"attributes\":{\"below\":[{\"id\":\"1100\"}],\"center\":[{\"id\":\"1103\"},{\"id\":\"1107\"}],\"left\":[{\"id\":\"1104\"}],\"renderers\":[{\"id\":\"1120\"}],\"title\":{\"id\":\"1090\"},\"toolbar\":{\"id\":\"1112\"},\"toolbar_location\":\"above\",\"x_range\":{\"id\":\"1092\"},\"x_scale\":{\"id\":\"1096\"},\"y_range\":{\"id\":\"1094\"},\"y_scale\":{\"id\":\"1098\"}},\"id\":\"1089\",\"subtype\":\"Figure\",\"type\":\"Plot\"},{\"attributes\":{},\"id\":\"1109\",\"type\":\"WheelZoomTool\"},{\"attributes\":{\"axis\":{\"id\":\"1104\"},\"dimension\":1,\"ticker\":null},\"id\":\"1107\",\"type\":\"Grid\"},{\"attributes\":{\"data\":{\"left\":{\"__ndarray__\":\"AAAAAAAA8D8pXI/C9SjwP1K4HoXrUfA/exSuR+F68D+kcD0K16PwP83MzMzMzPA/9ihcj8L18D8fhetRuB7xP0jhehSuR/E/cT0K16Nw8T+amZmZmZnxP8P1KFyPwvE/7FG4HoXr8T8UrkfhehTyPz4K16NwPfI/ZmZmZmZm8j+PwvUoXI/yP7gehetRuPI/4XoUrkfh8j8K16NwPQrzPzMzMzMzM/M/XI/C9Shc8z+F61G4HoXzP65H4XoUrvM/16NwPQrX8z8AAAAAAAD0Pylcj8L1KPQ/UrgehetR9D97FK5H4Xr0P6RwPQrXo/Q/zczMzMzM9D/2KFyPwvX0Px+F61G4HvU/SOF6FK5H9T9xPQrXo3D1P5qZmZmZmfU/wvUoXI/C9T/sUbgehev1PxSuR+F6FPY/PgrXo3A99j9mZmZmZmb2P5DC9Shcj/Y/uB6F61G49j/hehSuR+H2PwrXo3A9Cvc/MzMzMzMz9z9cj8L1KFz3P4XrUbgehfc/rkfhehSu9z/Xo3A9Ctf3PwAAAAAAAPg/KVyPwvUo+D9SuB6F61H4P3sUrkfhevg/pHA9Ctej+D/NzMzMzMz4P/YoXI/C9fg/H4XrUbge+T9I4XoUrkf5P3A9CtejcPk/mpmZmZmZ+T/C9Shcj8L5P+xRuB6F6/k/FK5H4XoU+j8+CtejcD36P2ZmZmZmZvo/kML1KFyP+j+4HoXrUbj6P+J6FK5H4fo/CtejcD0K+z80MzMzMzP7P1yPwvUoXPs/hetRuB6F+z+uR+F6FK77P9ejcD0K1/s/AAAAAAAA/D8pXI/C9Sj8P1K4HoXrUfw/exSuR+F6/D+kcD0K16P8P83MzMzMzPw/9ihcj8L1/D8fhetRuB79P0jhehSuR/0/cD0K16Nw/T+amZmZmZn9P8L1KFyPwv0/7FG4HoXr/T8UrkfhehT+Pz4K16NwPf4/ZmZmZmZm/j+QwvUoXI/+P7gehetRuP4/4noUrkfh/j8K16NwPQr/PzQzMzMzM/8/XI/C9Shc/z+F61G4HoX/P65H4XoUrv8/16NwPQrX/z8=\",\"dtype\":\"float64\",\"order\":\"little\",\"shape\":[100]},\"right\":{\"__ndarray__\":\"KVyPwvUo8D9SuB6F61HwP3sUrkfhevA/pHA9Ctej8D/NzMzMzMzwP/YoXI/C9fA/H4XrUbge8T9I4XoUrkfxP3E9CtejcPE/mpmZmZmZ8T/D9Shcj8LxP+xRuB6F6/E/FK5H4XoU8j8+CtejcD3yP2ZmZmZmZvI/j8L1KFyP8j+4HoXrUbjyP+F6FK5H4fI/CtejcD0K8z8zMzMzMzPzP1yPwvUoXPM/hetRuB6F8z+uR+F6FK7zP9ejcD0K1/M/AAAAAAAA9D8pXI/C9Sj0P1K4HoXrUfQ/exSuR+F69D+kcD0K16P0P83MzMzMzPQ/9ihcj8L19D8fhetRuB71P0jhehSuR/U/cT0K16Nw9T+amZmZmZn1P8L1KFyPwvU/7FG4HoXr9T8UrkfhehT2Pz4K16NwPfY/ZmZmZmZm9j+QwvUoXI/2P7gehetRuPY/4XoUrkfh9j8K16NwPQr3PzMzMzMzM/c/XI/C9Shc9z+F61G4HoX3P65H4XoUrvc/16NwPQrX9z8AAAAAAAD4Pylcj8L1KPg/UrgehetR+D97FK5H4Xr4P6RwPQrXo/g/zczMzMzM+D/2KFyPwvX4Px+F61G4Hvk/SOF6FK5H+T9wPQrXo3D5P5qZmZmZmfk/wvUoXI/C+T/sUbgehev5PxSuR+F6FPo/PgrXo3A9+j9mZmZmZmb6P5DC9Shcj/o/uB6F61G4+j/iehSuR+H6PwrXo3A9Cvs/NDMzMzMz+z9cj8L1KFz7P4XrUbgehfs/rkfhehSu+z/Xo3A9Ctf7PwAAAAAAAPw/KVyPwvUo/D9SuB6F61H8P3sUrkfhevw/pHA9Ctej/D/NzMzMzMz8P/YoXI/C9fw/H4XrUbge/T9I4XoUrkf9P3A9CtejcP0/mpmZmZmZ/T/C9Shcj8L9P+xRuB6F6/0/FK5H4XoU/j8+CtejcD3+P2ZmZmZmZv4/kML1KFyP/j+4HoXrUbj+P+J6FK5H4f4/CtejcD0K/z80MzMzMzP/P1yPwvUoXP8/hetRuB6F/z+uR+F6FK7/P9ejcD0K1/8/AAAAAAAAAEA=\",\"dtype\":\"float64\",\"order\":\"little\",\"shape\":[100]},\"top\":{\"__ndarray__\":\"BSiO7VNIUECrz+Mb6nyuP8DcPm/E6rg/7f6U6B8vvj9hcu+gtanEPwzMsP0Pjc0/tyDOFgIvzD9LYUTkhwfSP2eZ5lYib9A/BZ5tTxFs0z86siG9jvfVPwds0BwFFds/rfJGt1aD3T+l+Q3wMDLLP3B7SxDV2+I/bPhyXRja0D8W7NatDfbnP+lnc5GgHsk/1B+HXv7j0z/MKi3bnXXAP6Of+LjBQfA/8ybgeKEBzD96FmxLDyjUP/zk+IWN18w/GB2b+Cc/uz/zI+TpYtr1PwzIYJS8WMU/7fzsM/YUyj9MLlPXZqPXP8cGMrRv17o/azWs8QnBzz+Olu3OOgi+P6xeZaDCJLM/o6sUFcOQAEBwV/9jDkWxP4AxJfkaxLw/pTSs8QnBvz+ysGzmUxvIP7V7NCEvbLU/Zkvbn8+foT/3tZuTbDLfP8vOcvZbK7U/qs07Z8Biyj+a5Ns6FJOlP+Cqrl7JVbo/BZ0ZdfxesT+6tpuTbDKvP0Gkf7GwPqM/yZkDopuzlz8fR4490yt9P6AFr7L8Vw1AH0eOPdMrjT87eoxsBVKhPzt6jGwFUqE/OOe6ftl1pD9gcEfsi4+wP3eDml3jS5c/rWK1CRZZuz8ooTJPtMqeP27h/PZOsIY/j+89BgeazT87qq5eyVWaPyihMk+0yq4/QbtZG/f3nD+R1g/Cq9ORP+Bx76C1qYQ/4IWt28fi6j9pRo490yt9P2gIoNKmaJA/Yr+mffNroT+Ln8EpJnmFPz8V/izYlq4/WLUqbt7glT87ftzVWIaJP2ovtNOMcnM/YXGbxqCc0j+mNHJbFziRP0jSwl+vX50/O37c1ViGiT+ziFjlbRF1P9bvkeAbp78/VB4JF1/QkD/YfGuwyjSAP122Yf15qbA/buH89k6whj+hQz7Uf/ekP2K/pn3za4E/1keOPdMrnT9NZ3ORoB6ZPz59a7DKNIA/8aTw1j6QnD/UiskK/GKOPxKpPTk7BJE/Mw/Pf79/hz8Ic2DGQ/uNPzlGHRhF2oM/4KquXslVij/84fz2TrB2PyLWD8Kr03E/6KIPOerXLUA=\",\"dtype\":\"float64\",\"order\":\"little\",\"shape\":[100]}},\"selected\":{\"id\":\"1138\"},\"selection_policy\":{\"id\":\"1139\"}},\"id\":\"1117\",\"type\":\"ColumnDataSource\"},{\"attributes\":{\"text\":\"SHAM Terms Ratios Affinity Distribution\"},\"id\":\"1090\",\"type\":\"Title\"},{\"attributes\":{\"formatter\":{\"id\":\"1133\"},\"major_label_policy\":{\"id\":\"1134\"},\"ticker\":{\"id\":\"1105\"}},\"id\":\"1104\",\"type\":\"LinearAxis\"},{\"attributes\":{\"active_multi\":null,\"tools\":[{\"id\":\"1108\"},{\"id\":\"1109\"},{\"id\":\"1110\"},{\"id\":\"1111\"}]},\"id\":\"1112\",\"type\":\"Toolbar\"},{\"attributes\":{\"source\":{\"id\":\"1117\"}},\"id\":\"1121\",\"type\":\"CDSView\"},{\"attributes\":{},\"id\":\"1098\",\"type\":\"LinearScale\"},{\"attributes\":{},\"id\":\"1105\",\"type\":\"BasicTicker\"},{\"attributes\":{},\"id\":\"1092\",\"type\":\"DataRange1d\"},{\"attributes\":{},\"id\":\"1138\",\"type\":\"Selection\"},{\"attributes\":{},\"id\":\"1137\",\"type\":\"AllLabels\"},{\"attributes\":{\"axis\":{\"id\":\"1100\"},\"ticker\":null},\"id\":\"1103\",\"type\":\"Grid\"},{\"attributes\":{},\"id\":\"1094\",\"type\":\"DataRange1d\"},{\"attributes\":{\"data_source\":{\"id\":\"1117\"},\"glyph\":{\"id\":\"1118\"},\"hover_glyph\":null,\"muted_glyph\":null,\"nonselection_glyph\":{\"id\":\"1119\"},\"view\":{\"id\":\"1121\"}},\"id\":\"1120\",\"type\":\"GlyphRenderer\"},{\"attributes\":{},\"id\":\"1133\",\"type\":\"BasicTickFormatter\"},{\"attributes\":{\"bottom\":{\"value\":0},\"fill_color\":{\"value\":\"#1f77b4\"},\"left\":{\"field\":\"left\"},\"line_color\":{\"value\":\"#555555\"},\"right\":{\"field\":\"right\"},\"top\":{\"field\":\"top\"}},\"id\":\"1118\",\"type\":\"Quad\"},{\"attributes\":{\"formatter\":{\"id\":\"1136\"},\"major_label_policy\":{\"id\":\"1137\"},\"ticker\":{\"id\":\"1101\"}},\"id\":\"1100\",\"type\":\"LinearAxis\"},{\"attributes\":{},\"id\":\"1134\",\"type\":\"AllLabels\"},{\"attributes\":{},\"id\":\"1136\",\"type\":\"BasicTickFormatter\"},{\"attributes\":{},\"id\":\"1111\",\"type\":\"SaveTool\"},{\"attributes\":{\"bottom\":{\"value\":0},\"fill_alpha\":{\"value\":0.1},\"fill_color\":{\"value\":\"#1f77b4\"},\"left\":{\"field\":\"left\"},\"line_alpha\":{\"value\":0.1},\"line_color\":{\"value\":\"#555555\"},\"right\":{\"field\":\"right\"},\"top\":{\"field\":\"top\"}},\"id\":\"1119\",\"type\":\"Quad\"},{\"attributes\":{},\"id\":\"1101\",\"type\":\"BasicTicker\"},{\"attributes\":{},\"id\":\"1110\",\"type\":\"ResetTool\"},{\"attributes\":{},\"id\":\"1139\",\"type\":\"UnionRenderers\"},{\"attributes\":{},\"id\":\"1096\",\"type\":\"LinearScale\"},{\"attributes\":{},\"id\":\"1108\",\"type\":\"PanTool\"}],\"root_ids\":[\"1089\"]},\"title\":\"Bokeh Application\",\"version\":\"2.3.3\"}};\n",
       "  var render_items = [{\"docid\":\"c794107e-f60a-44b5-9c49-cbd3d8cc9b99\",\"root_ids\":[\"1089\"],\"roots\":{\"1089\":\"bb3edb32-3c85-4d58-90d9-e52f073fd67b\"}}];\n",
       "  root.Bokeh.embed.embed_items_notebook(docs_json, render_items);\n",
       "\n",
       "  }\n",
       "  if (root.Bokeh !== undefined) {\n",
       "    embed_document(root);\n",
       "  } else {\n",
       "    var attempts = 0;\n",
       "    var timer = setInterval(function(root) {\n",
       "      if (root.Bokeh !== undefined) {\n",
       "        clearInterval(timer);\n",
       "        embed_document(root);\n",
       "      } else {\n",
       "        attempts++;\n",
       "        if (attempts > 100) {\n",
       "          clearInterval(timer);\n",
       "          console.log(\"Bokeh: ERROR: Unable to run BokehJS code because BokehJS library is missing\");\n",
       "        }\n",
       "      }\n",
       "    }, 10, root)\n",
       "  }\n",
       "})(window);"
      ],
      "application/vnd.bokehjs_exec.v0+json": ""
     },
     "metadata": {
      "application/vnd.bokehjs_exec.v0+json": {
       "id": "1089"
      }
     },
     "output_type": "display_data"
    },
    {
     "data": {
      "text/html": [
       "\n",
       "\n",
       "\n",
       "\n",
       "\n",
       "\n",
       "  <div class=\"bk-root\" id=\"86a19b8e-948a-4e4a-9c30-e5dfa69a2ce6\" data-root-id=\"1185\"></div>\n"
      ]
     },
     "metadata": {},
     "output_type": "display_data"
    },
    {
     "data": {
      "application/javascript": [
       "(function(root) {\n",
       "  function embed_document(root) {\n",
       "    \n",
       "  var docs_json = {\"2e5077b6-6900-4a74-8afc-4e66111ab5a3\":{\"defs\":[],\"roots\":{\"references\":[{\"attributes\":{\"below\":[{\"id\":\"1196\"}],\"center\":[{\"id\":\"1199\"},{\"id\":\"1203\"}],\"left\":[{\"id\":\"1200\"}],\"renderers\":[{\"id\":\"1216\"}],\"title\":{\"id\":\"1186\"},\"toolbar\":{\"id\":\"1208\"},\"toolbar_location\":\"above\",\"x_range\":{\"id\":\"1188\"},\"x_scale\":{\"id\":\"1192\"},\"y_range\":{\"id\":\"1190\"},\"y_scale\":{\"id\":\"1194\"}},\"id\":\"1185\",\"subtype\":\"Figure\",\"type\":\"Plot\"},{\"attributes\":{},\"id\":\"1190\",\"type\":\"DataRange1d\"},{\"attributes\":{},\"id\":\"1204\",\"type\":\"PanTool\"},{\"attributes\":{\"axis\":{\"id\":\"1196\"},\"ticker\":null},\"id\":\"1199\",\"type\":\"Grid\"},{\"attributes\":{},\"id\":\"1194\",\"type\":\"LinearScale\"},{\"attributes\":{},\"id\":\"1201\",\"type\":\"BasicTicker\"},{\"attributes\":{\"formatter\":{\"id\":\"1241\"},\"major_label_policy\":{\"id\":\"1242\"},\"ticker\":{\"id\":\"1197\"}},\"id\":\"1196\",\"type\":\"LinearAxis\"},{\"attributes\":{},\"id\":\"1206\",\"type\":\"ResetTool\"},{\"attributes\":{\"active_multi\":null,\"tools\":[{\"id\":\"1204\"},{\"id\":\"1205\"},{\"id\":\"1206\"},{\"id\":\"1207\"}]},\"id\":\"1208\",\"type\":\"Toolbar\"},{\"attributes\":{},\"id\":\"1239\",\"type\":\"AllLabels\"},{\"attributes\":{},\"id\":\"1205\",\"type\":\"WheelZoomTool\"},{\"attributes\":{},\"id\":\"1238\",\"type\":\"BasicTickFormatter\"},{\"attributes\":{\"text\":\"MAGHREB Terms Ratios Affinity Distribution\"},\"id\":\"1186\",\"type\":\"Title\"},{\"attributes\":{\"data\":{\"left\":{\"__ndarray__\":\"AAAAAAAA8D8pXI/C9SjwP1K4HoXrUfA/exSuR+F68D+kcD0K16PwP83MzMzMzPA/9ihcj8L18D8fhetRuB7xP0jhehSuR/E/cT0K16Nw8T+amZmZmZnxP8P1KFyPwvE/7FG4HoXr8T8UrkfhehTyPz4K16NwPfI/ZmZmZmZm8j+PwvUoXI/yP7gehetRuPI/4XoUrkfh8j8K16NwPQrzPzMzMzMzM/M/XI/C9Shc8z+F61G4HoXzP65H4XoUrvM/16NwPQrX8z8AAAAAAAD0Pylcj8L1KPQ/UrgehetR9D97FK5H4Xr0P6RwPQrXo/Q/zczMzMzM9D/2KFyPwvX0Px+F61G4HvU/SOF6FK5H9T9xPQrXo3D1P5qZmZmZmfU/wvUoXI/C9T/sUbgehev1PxSuR+F6FPY/PgrXo3A99j9mZmZmZmb2P5DC9Shcj/Y/uB6F61G49j/hehSuR+H2PwrXo3A9Cvc/MzMzMzMz9z9cj8L1KFz3P4XrUbgehfc/rkfhehSu9z/Xo3A9Ctf3PwAAAAAAAPg/KVyPwvUo+D9SuB6F61H4P3sUrkfhevg/pHA9Ctej+D/NzMzMzMz4P/YoXI/C9fg/H4XrUbge+T9I4XoUrkf5P3A9CtejcPk/mpmZmZmZ+T/C9Shcj8L5P+xRuB6F6/k/FK5H4XoU+j8+CtejcD36P2ZmZmZmZvo/kML1KFyP+j+4HoXrUbj6P+J6FK5H4fo/CtejcD0K+z80MzMzMzP7P1yPwvUoXPs/hetRuB6F+z+uR+F6FK77P9ejcD0K1/s/AAAAAAAA/D8pXI/C9Sj8P1K4HoXrUfw/exSuR+F6/D+kcD0K16P8P83MzMzMzPw/9ihcj8L1/D8fhetRuB79P0jhehSuR/0/cD0K16Nw/T+amZmZmZn9P8L1KFyPwv0/7FG4HoXr/T8UrkfhehT+Pz4K16NwPf4/ZmZmZmZm/j+QwvUoXI/+P7gehetRuP4/4noUrkfh/j8K16NwPQr/PzQzMzMzM/8/XI/C9Shc/z+F61G4HoX/P65H4XoUrv8/16NwPQrX/z8=\",\"dtype\":\"float64\",\"order\":\"little\",\"shape\":[100]},\"right\":{\"__ndarray__\":\"KVyPwvUo8D9SuB6F61HwP3sUrkfhevA/pHA9Ctej8D/NzMzMzMzwP/YoXI/C9fA/H4XrUbge8T9I4XoUrkfxP3E9CtejcPE/mpmZmZmZ8T/D9Shcj8LxP+xRuB6F6/E/FK5H4XoU8j8+CtejcD3yP2ZmZmZmZvI/j8L1KFyP8j+4HoXrUbjyP+F6FK5H4fI/CtejcD0K8z8zMzMzMzPzP1yPwvUoXPM/hetRuB6F8z+uR+F6FK7zP9ejcD0K1/M/AAAAAAAA9D8pXI/C9Sj0P1K4HoXrUfQ/exSuR+F69D+kcD0K16P0P83MzMzMzPQ/9ihcj8L19D8fhetRuB71P0jhehSuR/U/cT0K16Nw9T+amZmZmZn1P8L1KFyPwvU/7FG4HoXr9T8UrkfhehT2Pz4K16NwPfY/ZmZmZmZm9j+QwvUoXI/2P7gehetRuPY/4XoUrkfh9j8K16NwPQr3PzMzMzMzM/c/XI/C9Shc9z+F61G4HoX3P65H4XoUrvc/16NwPQrX9z8AAAAAAAD4Pylcj8L1KPg/UrgehetR+D97FK5H4Xr4P6RwPQrXo/g/zczMzMzM+D/2KFyPwvX4Px+F61G4Hvk/SOF6FK5H+T9wPQrXo3D5P5qZmZmZmfk/wvUoXI/C+T/sUbgehev5PxSuR+F6FPo/PgrXo3A9+j9mZmZmZmb6P5DC9Shcj/o/uB6F61G4+j/iehSuR+H6PwrXo3A9Cvs/NDMzMzMz+z9cj8L1KFz7P4XrUbgehfs/rkfhehSu+z/Xo3A9Ctf7PwAAAAAAAPw/KVyPwvUo/D9SuB6F61H8P3sUrkfhevw/pHA9Ctej/D/NzMzMzMz8P/YoXI/C9fw/H4XrUbge/T9I4XoUrkf9P3A9CtejcP0/mpmZmZmZ/T/C9Shcj8L9P+xRuB6F6/0/FK5H4XoU/j8+CtejcD3+P2ZmZmZmZv4/kML1KFyP/j+4HoXrUbj+P+J6FK5H4f4/CtejcD0K/z80MzMzMzP/P1yPwvUoXP8/hetRuB6F/z+uR+F6FK7/P9ejcD0K1/8/AAAAAAAAAEA=\",\"dtype\":\"float64\",\"order\":\"little\",\"shape\":[100]},\"top\":{\"__ndarray__\":\"EP7eskK8UUB7Gry0Yly8PyVuhfM/8cg/b8nRuUqqzj+/2ULghcPSP5ywllPeIdk/6zAyGyyG1j+vLMhtts3aPxuwbOZTG9g/+U4rCSPU2T+/FNS/TZDdP7/Y7gVxtuA/fiVF5oip4T9+VynRmEvSPyFss9GL0OM/ymFuURIO0z/RjLVw0gfnP++PviEi8cY/sPKKaAMO0j9BqM8aBHO7P/oZkkfYVes/ubH3TwTxxD8ZHu/SPEzNP/zfVEIllsI/K5ckXtbQqD+1A/Ial0/xPygCq7uA2rc/I9wH4Cgivj8QYSqgZYPOP/lOKwkj1Kk/xgGOcAeWwD8JNuOApYmqP+3+lOgfL54/ldTIYpVe+D9O+GU7BxiXP3KBuxkeaag/kdHCX69frT+nXi4RJ1y4Py+IWOVtEaU/LBu8tGJcjD8ICR4aRnzTP7thROSHB6I/XExMxV3xuj+mNHJbFziRPygEU3Cq9Ks/r/E2ju4AoD9cTEzFXfGaP80wJfkaxIw/xgLiShyjgj8i1g/Cq9NxP0HypAUTaARAItYPwqvTcT+gDs9/v3+HP4TXgOc5JYs/FxlLj9QKkz87ftzVWIaZP7xFHRhF2oM/C8m0btFlpz/SzQTYJJqPPyrt6SvyjGs/3R9DrVFZvz9zfGuwyjSAP9gEU3Cq9Js/nH3c1ViGiT88wKZ982uBPyrt6SvyjGs/Y6dEsVOd3j/wLrTTjHJTP4Lu6SvyjHs/29aA5zkliz/kL7TTjHJzP3Jd94GLk50/qsuTspZIhj+ziFjlbRF1P/zh/PZOsGY/BZ5tTxFswz97Gry0Ylx8P+lnc5GgHok//OH89k6wdj8fR4490ytdPy4oTpfYkrE/2HxrsMo0gD9ooDJPtMpuP3zvV0opHqE/kFuGXP1BdD81zJOylkiWPy+IWOVtEXU/LBu8tGJcjD9HzATYJJqPPzCVRRoR7mk/Yr+mffNrkT+C7ukr8ox7P/AutNOMcoM/0s0E2CSafz+y1Q/Cq9OBP4ni/PZOsHY/WLUqbt7gdT99qT05OwRxP+lnc5GgHnk/c8x0W7OCKUA=\",\"dtype\":\"float64\",\"order\":\"little\",\"shape\":[100]}},\"selected\":{\"id\":\"1243\"},\"selection_policy\":{\"id\":\"1244\"}},\"id\":\"1213\",\"type\":\"ColumnDataSource\"},{\"attributes\":{\"axis\":{\"id\":\"1200\"},\"dimension\":1,\"ticker\":null},\"id\":\"1203\",\"type\":\"Grid\"},{\"attributes\":{},\"id\":\"1197\",\"type\":\"BasicTicker\"},{\"attributes\":{},\"id\":\"1242\",\"type\":\"AllLabels\"},{\"attributes\":{},\"id\":\"1207\",\"type\":\"SaveTool\"},{\"attributes\":{\"source\":{\"id\":\"1213\"}},\"id\":\"1217\",\"type\":\"CDSView\"},{\"attributes\":{\"bottom\":{\"value\":0},\"fill_color\":{\"value\":\"#1f77b4\"},\"left\":{\"field\":\"left\"},\"line_color\":{\"value\":\"#555555\"},\"right\":{\"field\":\"right\"},\"top\":{\"field\":\"top\"}},\"id\":\"1214\",\"type\":\"Quad\"},{\"attributes\":{},\"id\":\"1192\",\"type\":\"LinearScale\"},{\"attributes\":{\"formatter\":{\"id\":\"1238\"},\"major_label_policy\":{\"id\":\"1239\"},\"ticker\":{\"id\":\"1201\"}},\"id\":\"1200\",\"type\":\"LinearAxis\"},{\"attributes\":{},\"id\":\"1188\",\"type\":\"DataRange1d\"},{\"attributes\":{\"bottom\":{\"value\":0},\"fill_alpha\":{\"value\":0.1},\"fill_color\":{\"value\":\"#1f77b4\"},\"left\":{\"field\":\"left\"},\"line_alpha\":{\"value\":0.1},\"line_color\":{\"value\":\"#555555\"},\"right\":{\"field\":\"right\"},\"top\":{\"field\":\"top\"}},\"id\":\"1215\",\"type\":\"Quad\"},{\"attributes\":{},\"id\":\"1244\",\"type\":\"UnionRenderers\"},{\"attributes\":{\"data_source\":{\"id\":\"1213\"},\"glyph\":{\"id\":\"1214\"},\"hover_glyph\":null,\"muted_glyph\":null,\"nonselection_glyph\":{\"id\":\"1215\"},\"view\":{\"id\":\"1217\"}},\"id\":\"1216\",\"type\":\"GlyphRenderer\"},{\"attributes\":{},\"id\":\"1241\",\"type\":\"BasicTickFormatter\"},{\"attributes\":{},\"id\":\"1243\",\"type\":\"Selection\"}],\"root_ids\":[\"1185\"]},\"title\":\"Bokeh Application\",\"version\":\"2.3.3\"}};\n",
       "  var render_items = [{\"docid\":\"2e5077b6-6900-4a74-8afc-4e66111ab5a3\",\"root_ids\":[\"1185\"],\"roots\":{\"1185\":\"86a19b8e-948a-4e4a-9c30-e5dfa69a2ce6\"}}];\n",
       "  root.Bokeh.embed.embed_items_notebook(docs_json, render_items);\n",
       "\n",
       "  }\n",
       "  if (root.Bokeh !== undefined) {\n",
       "    embed_document(root);\n",
       "  } else {\n",
       "    var attempts = 0;\n",
       "    var timer = setInterval(function(root) {\n",
       "      if (root.Bokeh !== undefined) {\n",
       "        clearInterval(timer);\n",
       "        embed_document(root);\n",
       "      } else {\n",
       "        attempts++;\n",
       "        if (attempts > 100) {\n",
       "          clearInterval(timer);\n",
       "          console.log(\"Bokeh: ERROR: Unable to run BokehJS code because BokehJS library is missing\");\n",
       "        }\n",
       "      }\n",
       "    }, 10, root)\n",
       "  }\n",
       "})(window);"
      ],
      "application/vnd.bokehjs_exec.v0+json": ""
     },
     "metadata": {
      "application/vnd.bokehjs_exec.v0+json": {
       "id": "1185"
      }
     },
     "output_type": "display_data"
    },
    {
     "data": {
      "text/html": [
       "\n",
       "\n",
       "\n",
       "\n",
       "\n",
       "\n",
       "  <div class=\"bk-root\" id=\"9bc590f9-8c28-452e-870d-9a454a1c559a\" data-root-id=\"1290\"></div>\n"
      ]
     },
     "metadata": {},
     "output_type": "display_data"
    },
    {
     "data": {
      "application/javascript": [
       "(function(root) {\n",
       "  function embed_document(root) {\n",
       "    \n",
       "  var docs_json = {\"063caced-67de-439e-af8e-3907c1ace714\":{\"defs\":[],\"roots\":{\"references\":[{\"attributes\":{\"below\":[{\"id\":\"1301\"}],\"center\":[{\"id\":\"1304\"},{\"id\":\"1308\"}],\"left\":[{\"id\":\"1305\"}],\"renderers\":[{\"id\":\"1321\"}],\"title\":{\"id\":\"1291\"},\"toolbar\":{\"id\":\"1313\"},\"toolbar_location\":\"above\",\"x_range\":{\"id\":\"1293\"},\"x_scale\":{\"id\":\"1297\"},\"y_range\":{\"id\":\"1295\"},\"y_scale\":{\"id\":\"1299\"}},\"id\":\"1290\",\"subtype\":\"Figure\",\"type\":\"Plot\"},{\"attributes\":{},\"id\":\"1352\",\"type\":\"BasicTickFormatter\"},{\"attributes\":{},\"id\":\"1306\",\"type\":\"BasicTicker\"},{\"attributes\":{\"bottom\":{\"value\":0},\"fill_color\":{\"value\":\"#1f77b4\"},\"left\":{\"field\":\"left\"},\"line_color\":{\"value\":\"#555555\"},\"right\":{\"field\":\"right\"},\"top\":{\"field\":\"top\"}},\"id\":\"1319\",\"type\":\"Quad\"},{\"attributes\":{},\"id\":\"1353\",\"type\":\"AllLabels\"},{\"attributes\":{},\"id\":\"1309\",\"type\":\"PanTool\"},{\"attributes\":{\"text\":\"GULF Terms Ratios Affinity Distribution\"},\"id\":\"1291\",\"type\":\"Title\"},{\"attributes\":{},\"id\":\"1355\",\"type\":\"BasicTickFormatter\"},{\"attributes\":{\"axis\":{\"id\":\"1305\"},\"dimension\":1,\"ticker\":null},\"id\":\"1308\",\"type\":\"Grid\"},{\"attributes\":{},\"id\":\"1356\",\"type\":\"AllLabels\"},{\"attributes\":{},\"id\":\"1299\",\"type\":\"LinearScale\"},{\"attributes\":{\"active_multi\":null,\"tools\":[{\"id\":\"1309\"},{\"id\":\"1310\"},{\"id\":\"1311\"},{\"id\":\"1312\"}]},\"id\":\"1313\",\"type\":\"Toolbar\"},{\"attributes\":{},\"id\":\"1357\",\"type\":\"Selection\"},{\"attributes\":{\"source\":{\"id\":\"1318\"}},\"id\":\"1322\",\"type\":\"CDSView\"},{\"attributes\":{},\"id\":\"1310\",\"type\":\"WheelZoomTool\"},{\"attributes\":{},\"id\":\"1358\",\"type\":\"UnionRenderers\"},{\"attributes\":{\"data\":{\"left\":{\"__ndarray__\":\"AAAAAAAA8D8pXI/C9SjwP1K4HoXrUfA/exSuR+F68D+kcD0K16PwP83MzMzMzPA/9ihcj8L18D8fhetRuB7xP0jhehSuR/E/cT0K16Nw8T+amZmZmZnxP8P1KFyPwvE/7FG4HoXr8T8UrkfhehTyPz4K16NwPfI/ZmZmZmZm8j+PwvUoXI/yP7gehetRuPI/4XoUrkfh8j8K16NwPQrzPzMzMzMzM/M/XI/C9Shc8z+F61G4HoXzP65H4XoUrvM/16NwPQrX8z8AAAAAAAD0Pylcj8L1KPQ/UrgehetR9D97FK5H4Xr0P6RwPQrXo/Q/zczMzMzM9D/2KFyPwvX0Px+F61G4HvU/SOF6FK5H9T9xPQrXo3D1P5qZmZmZmfU/wvUoXI/C9T/sUbgehev1PxSuR+F6FPY/PgrXo3A99j9mZmZmZmb2P5DC9Shcj/Y/uB6F61G49j/hehSuR+H2PwrXo3A9Cvc/MzMzMzMz9z9cj8L1KFz3P4XrUbgehfc/rkfhehSu9z/Xo3A9Ctf3PwAAAAAAAPg/KVyPwvUo+D9SuB6F61H4P3sUrkfhevg/pHA9Ctej+D/NzMzMzMz4P/YoXI/C9fg/H4XrUbge+T9I4XoUrkf5P3A9CtejcPk/mpmZmZmZ+T/C9Shcj8L5P+xRuB6F6/k/FK5H4XoU+j8+CtejcD36P2ZmZmZmZvo/kML1KFyP+j+4HoXrUbj6P+J6FK5H4fo/CtejcD0K+z80MzMzMzP7P1yPwvUoXPs/hetRuB6F+z+uR+F6FK77P9ejcD0K1/s/AAAAAAAA/D8pXI/C9Sj8P1K4HoXrUfw/exSuR+F6/D+kcD0K16P8P83MzMzMzPw/9ihcj8L1/D8fhetRuB79P0jhehSuR/0/cD0K16Nw/T+amZmZmZn9P8L1KFyPwv0/7FG4HoXr/T8UrkfhehT+Pz4K16NwPf4/ZmZmZmZm/j+QwvUoXI/+P7gehetRuP4/4noUrkfh/j8K16NwPQr/PzQzMzMzM/8/XI/C9Shc/z+F61G4HoX/P65H4XoUrv8/16NwPQrX/z8=\",\"dtype\":\"float64\",\"order\":\"little\",\"shape\":[100]},\"right\":{\"__ndarray__\":\"KVyPwvUo8D9SuB6F61HwP3sUrkfhevA/pHA9Ctej8D/NzMzMzMzwP/YoXI/C9fA/H4XrUbge8T9I4XoUrkfxP3E9CtejcPE/mpmZmZmZ8T/D9Shcj8LxP+xRuB6F6/E/FK5H4XoU8j8+CtejcD3yP2ZmZmZmZvI/j8L1KFyP8j+4HoXrUbjyP+F6FK5H4fI/CtejcD0K8z8zMzMzMzPzP1yPwvUoXPM/hetRuB6F8z+uR+F6FK7zP9ejcD0K1/M/AAAAAAAA9D8pXI/C9Sj0P1K4HoXrUfQ/exSuR+F69D+kcD0K16P0P83MzMzMzPQ/9ihcj8L19D8fhetRuB71P0jhehSuR/U/cT0K16Nw9T+amZmZmZn1P8L1KFyPwvU/7FG4HoXr9T8UrkfhehT2Pz4K16NwPfY/ZmZmZmZm9j+QwvUoXI/2P7gehetRuPY/4XoUrkfh9j8K16NwPQr3PzMzMzMzM/c/XI/C9Shc9z+F61G4HoX3P65H4XoUrvc/16NwPQrX9z8AAAAAAAD4Pylcj8L1KPg/UrgehetR+D97FK5H4Xr4P6RwPQrXo/g/zczMzMzM+D/2KFyPwvX4Px+F61G4Hvk/SOF6FK5H+T9wPQrXo3D5P5qZmZmZmfk/wvUoXI/C+T/sUbgehev5PxSuR+F6FPo/PgrXo3A9+j9mZmZmZmb6P5DC9Shcj/o/uB6F61G4+j/iehSuR+H6PwrXo3A9Cvs/NDMzMzMz+z9cj8L1KFz7P4XrUbgehfs/rkfhehSu+z/Xo3A9Ctf7PwAAAAAAAPw/KVyPwvUo/D9SuB6F61H8P3sUrkfhevw/pHA9Ctej/D/NzMzMzMz8P/YoXI/C9fw/H4XrUbge/T9I4XoUrkf9P3A9CtejcP0/mpmZmZmZ/T/C9Shcj8L9P+xRuB6F6/0/FK5H4XoU/j8+CtejcD3+P2ZmZmZmZv4/kML1KFyP/j+4HoXrUbj+P+J6FK5H4f4/CtejcD0K/z80MzMzMzP/P1yPwvUoXP8/hetRuB6F/z+uR+F6FK7/P9ejcD0K1/8/AAAAAAAAAEA=\",\"dtype\":\"float64\",\"order\":\"little\",\"shape\":[100]},\"top\":{\"__ndarray__\":\"s7kywIszRkAeQz7Uf/ekP+lnc5GgHqk/JnGBgn4Yrz9gcEfsi4+wP7cd0ofDB7Y/Z5o6MTd8sj8/Ea7DhGK2PxLx//5SOLU/iv/Ld7v3uD+CRK/5DUm+P3aB8qi5McM//+4gu41Vxj9/FP4s2JauP4Wd/zDa2s0/NFJB3IN/sz/m0aUUNhvWP3XwyG+3b6o/azMEPeCmuz96FmxLDyikP+hjIyhN6uA/74++ISLxtj9BpH+xsD7DP8mZA6Kbs7c/36Ze9XUhoj+AepyVbdTuP6xgDVXsPrc/Z5nmViJvwD/twq8uQ1XRP/50zuR6jLM/ehgUADlCyD8/E1Z4rny6PwIIoNKmaLA/oXcoG2Nu/z/831RCJZayPy0CjnAHlsA/eHUiv4+ZxT/SzQTYJJrPP5rvqyQ+K8M/hoTR7H4Usj+QW4Zc/UHkPw676PVopsM/745qRw3k1D+RKb+8ZuS6P/94Hk7OwMs/01bI1HJ8xj9xWacYOF/FPz0OsjRGO8A/4KquXslVuj/l0FE6IQ6kP7Dz3kIYGxRABZ/BKSZ5tT+/2O4FcbbAP4A+t9uQ+sE/qco/2IE7xD8vLJ4ALMfJPzyAhIqCoL0/b45A2oLd0z+7YUTkhwfCP0fMBNgkmq8/WaHhyRvS4j9eAY5wB5bAP3JzDOwu7ss/DuskLE8uwD9jtfPeQhi7Pxslb1MTsLI/ImR0reXi/D8CJxcIPcqmPwmEml3jS7c/ZBI5LTU4wz8ooTJPtMquP8qc/zDa2s0/LyyeACzHuT+dd60oQG+yP5voK6Rnx50/V1LJ8LdA6j+D0zB+5vCyPxkfQ61RWb8/RDdRn9wasD+ziFjlbRGVPx59e9kyt90/K5V8qay2tD8kbTEZK+SmPzeXBxNdjNE/rXU/CgnerD/6t9IiCPvJP+Bx76C1qaQ/2OskLE8uwD8IOMLEamy5P7Dzp7N8Upk/pTSs8QnBvz/CYNbFUHasP+sdCRdf0LA/XN0+b8TqqD8IOMLEamypP7thROSHB6I/5dBROiEOpD+tYrUJFlmbPygEU3Cq9Is/8FzjpARmQEA=\",\"dtype\":\"float64\",\"order\":\"little\",\"shape\":[100]}},\"selected\":{\"id\":\"1357\"},\"selection_policy\":{\"id\":\"1358\"}},\"id\":\"1318\",\"type\":\"ColumnDataSource\"},{\"attributes\":{},\"id\":\"1312\",\"type\":\"SaveTool\"},{\"attributes\":{\"bottom\":{\"value\":0},\"fill_alpha\":{\"value\":0.1},\"fill_color\":{\"value\":\"#1f77b4\"},\"left\":{\"field\":\"left\"},\"line_alpha\":{\"value\":0.1},\"line_color\":{\"value\":\"#555555\"},\"right\":{\"field\":\"right\"},\"top\":{\"field\":\"top\"}},\"id\":\"1320\",\"type\":\"Quad\"},{\"attributes\":{},\"id\":\"1302\",\"type\":\"BasicTicker\"},{\"attributes\":{},\"id\":\"1297\",\"type\":\"LinearScale\"},{\"attributes\":{\"formatter\":{\"id\":\"1355\"},\"major_label_policy\":{\"id\":\"1356\"},\"ticker\":{\"id\":\"1302\"}},\"id\":\"1301\",\"type\":\"LinearAxis\"},{\"attributes\":{},\"id\":\"1293\",\"type\":\"DataRange1d\"},{\"attributes\":{},\"id\":\"1311\",\"type\":\"ResetTool\"},{\"attributes\":{\"data_source\":{\"id\":\"1318\"},\"glyph\":{\"id\":\"1319\"},\"hover_glyph\":null,\"muted_glyph\":null,\"nonselection_glyph\":{\"id\":\"1320\"},\"view\":{\"id\":\"1322\"}},\"id\":\"1321\",\"type\":\"GlyphRenderer\"},{\"attributes\":{\"formatter\":{\"id\":\"1352\"},\"major_label_policy\":{\"id\":\"1353\"},\"ticker\":{\"id\":\"1306\"}},\"id\":\"1305\",\"type\":\"LinearAxis\"},{\"attributes\":{},\"id\":\"1295\",\"type\":\"DataRange1d\"},{\"attributes\":{\"axis\":{\"id\":\"1301\"},\"ticker\":null},\"id\":\"1304\",\"type\":\"Grid\"}],\"root_ids\":[\"1290\"]},\"title\":\"Bokeh Application\",\"version\":\"2.3.3\"}};\n",
       "  var render_items = [{\"docid\":\"063caced-67de-439e-af8e-3907c1ace714\",\"root_ids\":[\"1290\"],\"roots\":{\"1290\":\"9bc590f9-8c28-452e-870d-9a454a1c559a\"}}];\n",
       "  root.Bokeh.embed.embed_items_notebook(docs_json, render_items);\n",
       "\n",
       "  }\n",
       "  if (root.Bokeh !== undefined) {\n",
       "    embed_document(root);\n",
       "  } else {\n",
       "    var attempts = 0;\n",
       "    var timer = setInterval(function(root) {\n",
       "      if (root.Bokeh !== undefined) {\n",
       "        clearInterval(timer);\n",
       "        embed_document(root);\n",
       "      } else {\n",
       "        attempts++;\n",
       "        if (attempts > 100) {\n",
       "          clearInterval(timer);\n",
       "          console.log(\"Bokeh: ERROR: Unable to run BokehJS code because BokehJS library is missing\");\n",
       "        }\n",
       "      }\n",
       "    }, 10, root)\n",
       "  }\n",
       "})(window);"
      ],
      "application/vnd.bokehjs_exec.v0+json": ""
     },
     "metadata": {
      "application/vnd.bokehjs_exec.v0+json": {
       "id": "1290"
      }
     },
     "output_type": "display_data"
    },
    {
     "data": {
      "text/html": [
       "\n",
       "\n",
       "\n",
       "\n",
       "\n",
       "\n",
       "  <div class=\"bk-root\" id=\"7de157c1-84b9-446a-91c2-1239f4b53a81\" data-root-id=\"1404\"></div>\n"
      ]
     },
     "metadata": {},
     "output_type": "display_data"
    },
    {
     "data": {
      "application/javascript": [
       "(function(root) {\n",
       "  function embed_document(root) {\n",
       "    \n",
       "  var docs_json = {\"df777b50-f340-4051-95a2-8cfa8e3e03be\":{\"defs\":[],\"roots\":{\"references\":[{\"attributes\":{\"below\":[{\"id\":\"1415\"}],\"center\":[{\"id\":\"1418\"},{\"id\":\"1422\"}],\"left\":[{\"id\":\"1419\"}],\"renderers\":[{\"id\":\"1435\"}],\"title\":{\"id\":\"1405\"},\"toolbar\":{\"id\":\"1427\"},\"toolbar_location\":\"above\",\"x_range\":{\"id\":\"1407\"},\"x_scale\":{\"id\":\"1411\"},\"y_range\":{\"id\":\"1409\"},\"y_scale\":{\"id\":\"1413\"}},\"id\":\"1404\",\"subtype\":\"Figure\",\"type\":\"Plot\"},{\"attributes\":{\"bottom\":{\"value\":0},\"fill_alpha\":{\"value\":0.1},\"fill_color\":{\"value\":\"#1f77b4\"},\"left\":{\"field\":\"left\"},\"line_alpha\":{\"value\":0.1},\"line_color\":{\"value\":\"#555555\"},\"right\":{\"field\":\"right\"},\"top\":{\"field\":\"top\"}},\"id\":\"1434\",\"type\":\"Quad\"},{\"attributes\":{},\"id\":\"1425\",\"type\":\"ResetTool\"},{\"attributes\":{},\"id\":\"1475\",\"type\":\"BasicTickFormatter\"},{\"attributes\":{},\"id\":\"1420\",\"type\":\"BasicTicker\"},{\"attributes\":{},\"id\":\"1476\",\"type\":\"AllLabels\"},{\"attributes\":{},\"id\":\"1416\",\"type\":\"BasicTicker\"},{\"attributes\":{},\"id\":\"1413\",\"type\":\"LinearScale\"},{\"attributes\":{},\"id\":\"1478\",\"type\":\"BasicTickFormatter\"},{\"attributes\":{\"formatter\":{\"id\":\"1478\"},\"major_label_policy\":{\"id\":\"1479\"},\"ticker\":{\"id\":\"1416\"}},\"id\":\"1415\",\"type\":\"LinearAxis\"},{\"attributes\":{},\"id\":\"1479\",\"type\":\"AllLabels\"},{\"attributes\":{},\"id\":\"1480\",\"type\":\"Selection\"},{\"attributes\":{},\"id\":\"1411\",\"type\":\"LinearScale\"},{\"attributes\":{},\"id\":\"1481\",\"type\":\"UnionRenderers\"},{\"attributes\":{\"source\":{\"id\":\"1432\"}},\"id\":\"1436\",\"type\":\"CDSView\"},{\"attributes\":{},\"id\":\"1409\",\"type\":\"DataRange1d\"},{\"attributes\":{},\"id\":\"1407\",\"type\":\"DataRange1d\"},{\"attributes\":{\"text\":\"SODAN Terms Ratios Affinity Distribution\"},\"id\":\"1405\",\"type\":\"Title\"},{\"attributes\":{\"active_multi\":null,\"tools\":[{\"id\":\"1423\"},{\"id\":\"1424\"},{\"id\":\"1425\"},{\"id\":\"1426\"}]},\"id\":\"1427\",\"type\":\"Toolbar\"},{\"attributes\":{\"data\":{\"left\":{\"__ndarray__\":\"AAAAAAAA8D8pXI/C9SjwP1K4HoXrUfA/exSuR+F68D+kcD0K16PwP83MzMzMzPA/9ihcj8L18D8fhetRuB7xP0jhehSuR/E/cT0K16Nw8T+amZmZmZnxP8P1KFyPwvE/7FG4HoXr8T8UrkfhehTyPz4K16NwPfI/ZmZmZmZm8j+PwvUoXI/yP7gehetRuPI/4XoUrkfh8j8K16NwPQrzPzMzMzMzM/M/XI/C9Shc8z+F61G4HoXzP65H4XoUrvM/16NwPQrX8z8AAAAAAAD0Pylcj8L1KPQ/UrgehetR9D97FK5H4Xr0P6RwPQrXo/Q/zczMzMzM9D/2KFyPwvX0Px+F61G4HvU/SOF6FK5H9T9xPQrXo3D1P5qZmZmZmfU/wvUoXI/C9T/sUbgehev1PxSuR+F6FPY/PgrXo3A99j9mZmZmZmb2P5DC9Shcj/Y/uB6F61G49j/hehSuR+H2PwrXo3A9Cvc/MzMzMzMz9z9cj8L1KFz3P4XrUbgehfc/rkfhehSu9z/Xo3A9Ctf3PwAAAAAAAPg/KVyPwvUo+D9SuB6F61H4P3sUrkfhevg/pHA9Ctej+D/NzMzMzMz4P/YoXI/C9fg/H4XrUbge+T9I4XoUrkf5P3A9CtejcPk/mpmZmZmZ+T/C9Shcj8L5P+xRuB6F6/k/FK5H4XoU+j8+CtejcD36P2ZmZmZmZvo/kML1KFyP+j+4HoXrUbj6P+J6FK5H4fo/CtejcD0K+z80MzMzMzP7P1yPwvUoXPs/hetRuB6F+z+uR+F6FK77P9ejcD0K1/s/AAAAAAAA/D8pXI/C9Sj8P1K4HoXrUfw/exSuR+F6/D+kcD0K16P8P83MzMzMzPw/9ihcj8L1/D8fhetRuB79P0jhehSuR/0/cD0K16Nw/T+amZmZmZn9P8L1KFyPwv0/7FG4HoXr/T8UrkfhehT+Pz4K16NwPf4/ZmZmZmZm/j+QwvUoXI/+P7gehetRuP4/4noUrkfh/j8K16NwPQr/PzQzMzMzM/8/XI/C9Shc/z+F61G4HoX/P65H4XoUrv8/16NwPQrX/z8=\",\"dtype\":\"float64\",\"order\":\"little\",\"shape\":[100]},\"right\":{\"__ndarray__\":\"KVyPwvUo8D9SuB6F61HwP3sUrkfhevA/pHA9Ctej8D/NzMzMzMzwP/YoXI/C9fA/H4XrUbge8T9I4XoUrkfxP3E9CtejcPE/mpmZmZmZ8T/D9Shcj8LxP+xRuB6F6/E/FK5H4XoU8j8+CtejcD3yP2ZmZmZmZvI/j8L1KFyP8j+4HoXrUbjyP+F6FK5H4fI/CtejcD0K8z8zMzMzMzPzP1yPwvUoXPM/hetRuB6F8z+uR+F6FK7zP9ejcD0K1/M/AAAAAAAA9D8pXI/C9Sj0P1K4HoXrUfQ/exSuR+F69D+kcD0K16P0P83MzMzMzPQ/9ihcj8L19D8fhetRuB71P0jhehSuR/U/cT0K16Nw9T+amZmZmZn1P8L1KFyPwvU/7FG4HoXr9T8UrkfhehT2Pz4K16NwPfY/ZmZmZmZm9j+QwvUoXI/2P7gehetRuPY/4XoUrkfh9j8K16NwPQr3PzMzMzMzM/c/XI/C9Shc9z+F61G4HoX3P65H4XoUrvc/16NwPQrX9z8AAAAAAAD4Pylcj8L1KPg/UrgehetR+D97FK5H4Xr4P6RwPQrXo/g/zczMzMzM+D/2KFyPwvX4Px+F61G4Hvk/SOF6FK5H+T9wPQrXo3D5P5qZmZmZmfk/wvUoXI/C+T/sUbgehev5PxSuR+F6FPo/PgrXo3A9+j9mZmZmZmb6P5DC9Shcj/o/uB6F61G4+j/iehSuR+H6PwrXo3A9Cvs/NDMzMzMz+z9cj8L1KFz7P4XrUbgehfs/rkfhehSu+z/Xo3A9Ctf7PwAAAAAAAPw/KVyPwvUo/D9SuB6F61H8P3sUrkfhevw/pHA9Ctej/D/NzMzMzMz8P/YoXI/C9fw/H4XrUbge/T9I4XoUrkf9P3A9CtejcP0/mpmZmZmZ/T/C9Shcj8L9P+xRuB6F6/0/FK5H4XoU/j8+CtejcD3+P2ZmZmZmZv4/kML1KFyP/j+4HoXrUbj+P+J6FK5H4f4/CtejcD0K/z80MzMzMzP/P1yPwvUoXP8/hetRuB6F/z+uR+F6FK7/P9ejcD0K1/8/AAAAAAAAAEA=\",\"dtype\":\"float64\",\"order\":\"little\",\"shape\":[100]},\"top\":{\"__ndarray__\":\"6t9eXd+XVkDkBJchV3/gPxGLovLtcOM/+3n3NcDO4D/FPXMq5G/dPxvnrVzIs9o/Ux9d8XPd0j9Xs4K5tMbRP3XwyG+3b8o/h2pS1WUByD8fRjpjvh7LP+M+1CYKP8k/QBAjWtSMyT/sk0UaEe6pP6dQf+M34cs/qsuTspZIpj8j3AfgKCLOPxcZS4/UCpM/cVmnGDhfpT8XGUuP1AqDP4dnVkYn2tE/S2FE5IcHkj/fpl71dSGiP8+/pn3za5E/H0eOPdMrbT+w9DIdLSjWPzLBF6OBvXo/RTuhCDBPiD9qL7TTjHKjP9h8a7DKNHA/H0eOPdMrjT+OlEUaEe5pP46URRoR7lk/T/thykU/3T+OlEUaEe5ZPzeJWOVtEWU/L4hY5W0RdT83iVjlbRGFP27h/PZOsGY/Pn1rsMo0UD9NZ3ORoB6pPz59a7DKNHA/O37c1ViGiT/YfGuwyjRQP8YC4koco3I/2HxrsMo0YD8fR4490ytdPyLWD8Kr02E/jpRFGhHuST+OlEUaEe4pPxEn7Zqyw+U/ai+004xyQz+OlEUaEe5JP46URRoR7ik//OH89k6wVj9FO6EIME9oP46URRoR7ik/ItYPwqvTcT/kL7TTjHJTP+yTRRoR7ik/kpPU9IKckD9u4fz2TrBWPzeJWOVtEWU/8C6004xyUz/kL7TTjHJDP+yTRRoR7ik/Zkvbn8+fsT/sk0UaEe45PzCVRRoR7ik/c3xrsMo0UD8wlUUaEe45P2igMk+0ym4/ai+004xyQz+OlEUaEe5JP46URRoR7ik/ItYPwqvTkT+OlEUaEe5JP/zh/PZOsFY/2HxrsMo0UD+OlEUaEe4pP9bt6SvyjHs/2HxrsMo0UD+OlEUaEe45PyihMk+0ym4/7JNFGhHuKT8wlUUaEe5pP+yTRRoR7ik/5C+004xyUz/wLrTTjHJTPwAAAAAAAAAA8C6004xyUz/WR4490ytdP2lGjj3TK10/MJVFGhHuKT9u4fz2TrBWPzCVRRoR7kk/ai+004xyQz8AAAAAAAAAAI6URRoR7ik/3ivFv0zjBUA=\",\"dtype\":\"float64\",\"order\":\"little\",\"shape\":[100]}},\"selected\":{\"id\":\"1480\"},\"selection_policy\":{\"id\":\"1481\"}},\"id\":\"1432\",\"type\":\"ColumnDataSource\"},{\"attributes\":{\"bottom\":{\"value\":0},\"fill_color\":{\"value\":\"#1f77b4\"},\"left\":{\"field\":\"left\"},\"line_color\":{\"value\":\"#555555\"},\"right\":{\"field\":\"right\"},\"top\":{\"field\":\"top\"}},\"id\":\"1433\",\"type\":\"Quad\"},{\"attributes\":{},\"id\":\"1423\",\"type\":\"PanTool\"},{\"attributes\":{\"formatter\":{\"id\":\"1475\"},\"major_label_policy\":{\"id\":\"1476\"},\"ticker\":{\"id\":\"1420\"}},\"id\":\"1419\",\"type\":\"LinearAxis\"},{\"attributes\":{},\"id\":\"1426\",\"type\":\"SaveTool\"},{\"attributes\":{\"axis\":{\"id\":\"1419\"},\"dimension\":1,\"ticker\":null},\"id\":\"1422\",\"type\":\"Grid\"},{\"attributes\":{},\"id\":\"1424\",\"type\":\"WheelZoomTool\"},{\"attributes\":{\"data_source\":{\"id\":\"1432\"},\"glyph\":{\"id\":\"1433\"},\"hover_glyph\":null,\"muted_glyph\":null,\"nonselection_glyph\":{\"id\":\"1434\"},\"view\":{\"id\":\"1436\"}},\"id\":\"1435\",\"type\":\"GlyphRenderer\"},{\"attributes\":{\"axis\":{\"id\":\"1415\"},\"ticker\":null},\"id\":\"1418\",\"type\":\"Grid\"}],\"root_ids\":[\"1404\"]},\"title\":\"Bokeh Application\",\"version\":\"2.3.3\"}};\n",
       "  var render_items = [{\"docid\":\"df777b50-f340-4051-95a2-8cfa8e3e03be\",\"root_ids\":[\"1404\"],\"roots\":{\"1404\":\"7de157c1-84b9-446a-91c2-1239f4b53a81\"}}];\n",
       "  root.Bokeh.embed.embed_items_notebook(docs_json, render_items);\n",
       "\n",
       "  }\n",
       "  if (root.Bokeh !== undefined) {\n",
       "    embed_document(root);\n",
       "  } else {\n",
       "    var attempts = 0;\n",
       "    var timer = setInterval(function(root) {\n",
       "      if (root.Bokeh !== undefined) {\n",
       "        clearInterval(timer);\n",
       "        embed_document(root);\n",
       "      } else {\n",
       "        attempts++;\n",
       "        if (attempts > 100) {\n",
       "          clearInterval(timer);\n",
       "          console.log(\"Bokeh: ERROR: Unable to run BokehJS code because BokehJS library is missing\");\n",
       "        }\n",
       "      }\n",
       "    }, 10, root)\n",
       "  }\n",
       "})(window);"
      ],
      "application/vnd.bokehjs_exec.v0+json": ""
     },
     "metadata": {
      "application/vnd.bokehjs_exec.v0+json": {
       "id": "1404"
      }
     },
     "output_type": "display_data"
    }
   ],
   "source": [
    "for dialect in df['dialect'].unique():\n",
    "    hist, edges = np.histogram(list(map(lambda x:x[1], reversed(ratios_of_dialect_words[dialect].most_common()))), \n",
    "                              density=True, bins=100,normed=True)\n",
    "\n",
    "    p = figure(tools='pan,wheel_zoom,reset,save', \n",
    "               toolbar_location='above',\n",
    "               title = dialect+' Terms Ratios Affinity Distribution')\n",
    "\n",
    "    p.quad(top=hist, bottom=0, left=edges[:-1], right=edges[1:], line_color='#555555')\n",
    "    show(p)"
   ]
  },
  {
   "cell_type": "markdown",
   "id": "754b5a2a",
   "metadata": {
    "id": "754b5a2a"
   },
   "source": [
    ">**According to the above gaphs we can see that the most noise ratio lies between 1 and 1.2. Let's explore some...**"
   ]
  },
  {
   "cell_type": "code",
   "execution_count": 30,
   "id": "12f6495d",
   "metadata": {
    "colab": {
     "base_uri": "https://localhost:8080/"
    },
    "id": "12f6495d",
    "outputId": "8fe68053-a5f1-482f-b268-50a1808235e2",
    "scrolled": true
   },
   "outputs": [
    {
     "data": {
      "text/plain": [
       "[('ماتغسلي', 1.0),\n",
       " ('الماديرنها', 1.0),\n",
       " ('الجعانين', 1.0),\n",
       " ('الامنجين', 1.0),\n",
       " ('حيعتقولنا', 1.0),\n",
       " ('ممارساتك', 1.0),\n",
       " ('تتزوجى', 1.0),\n",
       " ('عشقى', 1.0),\n",
       " ('ولاحوش', 1.0),\n",
       " ('ماصوروها', 1.0)]"
      ]
     },
     "execution_count": 30,
     "metadata": {},
     "output_type": "execute_result"
    }
   ],
   "source": [
    "list(reversed(ratios_of_dialect_words['EGYPT'].most_common()))[0:10]"
   ]
  },
  {
   "cell_type": "code",
   "execution_count": 31,
   "id": "72a2a34d",
   "metadata": {
    "colab": {
     "base_uri": "https://localhost:8080/"
    },
    "id": "72a2a34d",
    "outputId": "20d7dc6f-d376-44fc-9b66-3fedc2ac4d1c",
    "scrolled": true
   },
   "outputs": [
    {
     "data": {
      "text/plain": [
       "[('ماتغسلي', 1.0),\n",
       " ('الماديرنها', 1.0),\n",
       " ('الجعانين', 1.0),\n",
       " ('الامنجين', 1.0),\n",
       " ('حيعتقولنا', 1.0),\n",
       " ('ممارساتك', 1.0),\n",
       " ('تتزوجى', 1.0),\n",
       " ('عشقى', 1.0),\n",
       " ('ولاحوش', 1.0),\n",
       " ('ماصوروها', 1.0)]"
      ]
     },
     "execution_count": 31,
     "metadata": {},
     "output_type": "execute_result"
    }
   ],
   "source": [
    "list(reversed(ratios_of_dialect_words['GULF'].most_common()))[0:10]"
   ]
  },
  {
   "cell_type": "code",
   "execution_count": 32,
   "id": "ed000f73",
   "metadata": {
    "colab": {
     "base_uri": "https://localhost:8080/"
    },
    "id": "ed000f73",
    "outputId": "ef907363-e563-4a08-c99a-3baf76bfa36d",
    "scrolled": true
   },
   "outputs": [
    {
     "data": {
      "text/plain": [
       "[('ماتغسلي', 1.0),\n",
       " ('الماديرنها', 1.0),\n",
       " ('الجعانين', 1.0),\n",
       " ('الامنجين', 1.0),\n",
       " ('حيعتقولنا', 1.0),\n",
       " ('ممارساتك', 1.0),\n",
       " ('تتزوجى', 1.0),\n",
       " ('عشقى', 1.0),\n",
       " ('ولاحوش', 1.0),\n",
       " ('ماصوروها', 1.0)]"
      ]
     },
     "execution_count": 32,
     "metadata": {},
     "output_type": "execute_result"
    }
   ],
   "source": [
    "list(reversed(ratios_of_dialect_words['SHAM'].most_common()))[0:10]"
   ]
  },
  {
   "cell_type": "code",
   "execution_count": 33,
   "id": "6e9ba896",
   "metadata": {
    "colab": {
     "base_uri": "https://localhost:8080/"
    },
    "id": "6e9ba896",
    "outputId": "0a18d8d8-aff0-42fb-816c-5e078c6c5786",
    "scrolled": true
   },
   "outputs": [
    {
     "data": {
      "text/plain": [
       "[('ماتغسلي', 1.0),\n",
       " ('الماديرنها', 1.0),\n",
       " ('الجعانين', 1.0),\n",
       " ('الامنجين', 1.0),\n",
       " ('حيعتقولنا', 1.0),\n",
       " ('ممارساتك', 1.0),\n",
       " ('تتزوجى', 1.0),\n",
       " ('عشقى', 1.0),\n",
       " ('ولاحوش', 1.0),\n",
       " ('ماصوروها', 1.0)]"
      ]
     },
     "execution_count": 33,
     "metadata": {},
     "output_type": "execute_result"
    }
   ],
   "source": [
    "list(reversed(ratios_of_dialect_words['MAGHREB'].most_common()))[0:10]"
   ]
  },
  {
   "cell_type": "code",
   "execution_count": 34,
   "id": "22d24899",
   "metadata": {
    "colab": {
     "base_uri": "https://localhost:8080/"
    },
    "id": "22d24899",
    "outputId": "cab19bd5-395a-41b5-a41f-096a074f9951"
   },
   "outputs": [
    {
     "data": {
      "text/plain": [
       "(505485, 505485)"
      ]
     },
     "execution_count": 34,
     "metadata": {},
     "output_type": "execute_result"
    }
   ],
   "source": [
    "len(ratios_of_dialect_words['EGYPT']), len(ratios_of_dialect_words['GULF'])"
   ]
  },
  {
   "cell_type": "markdown",
   "id": "40a16809",
   "metadata": {
    "id": "40a16809"
   },
   "source": [
    ">Here we can find that there are alot of terms that are not related to the ```EG``` or **Egyptian Dialect**. So we will apply a cutoff margin to the terms that have ratio less than 1.2 or we can apply a little bit higher."
   ]
  },
  {
   "cell_type": "markdown",
   "id": "194f6901",
   "metadata": {
    "id": "194f6901"
   },
   "source": [
    "### Applying Cut-off Margin"
   ]
  },
  {
   "cell_type": "code",
   "execution_count": 35,
   "id": "e7f8b9dd",
   "metadata": {
    "id": "e7f8b9dd"
   },
   "outputs": [],
   "source": [
    "ratio_margin = 1.3\n",
    "logs_of_dialect_words = Counter()\n",
    "\n",
    "for dialect in df['dialect'].unique():\n",
    "    logs_of_dialect_words[dialect] = log_of_ratios(ratios_of_dialect_words[dialect])"
   ]
  },
  {
   "cell_type": "code",
   "execution_count": 36,
   "id": "971d8db1",
   "metadata": {
    "colab": {
     "base_uri": "https://localhost:8080/"
    },
    "id": "971d8db1",
    "outputId": "4a178563-68d8-480e-8b2b-41a4a80dc03d",
    "scrolled": true
   },
   "outputs": [
    {
     "data": {
      "text/plain": [
       "[('قدامه', 0.262866903332057),\n",
       " ('آه', 0.26290204345329393),\n",
       " ('قفل', 0.2634174504521496),\n",
       " ('إنهم', 0.2634174504521496),\n",
       " ('مصلحته', 0.26358452087272044),\n",
       " ('جنبها', 0.26358452087272044),\n",
       " ('الفرقة', 0.2638145910451375),\n",
       " ('ورئيس', 0.2638145910451375),\n",
       " ('طيبة', 0.2638145910451375),\n",
       " ('أحداث', 0.2641515750415869)]"
      ]
     },
     "execution_count": 36,
     "metadata": {},
     "output_type": "execute_result"
    }
   ],
   "source": [
    "list(reversed(logs_of_dialect_words['EGYPT'].most_common()))[0:10]"
   ]
  },
  {
   "cell_type": "code",
   "execution_count": 37,
   "id": "1e4d4c72",
   "metadata": {
    "colab": {
     "base_uri": "https://localhost:8080/"
    },
    "id": "1e4d4c72",
    "outputId": "38de7e32-c26c-41bc-df15-3e909f7bf7f1",
    "scrolled": true
   },
   "outputs": [
    {
     "data": {
      "text/plain": [
       "[('ميديا', 0.2625340581685527),\n",
       " ('النت', 0.2627310799023066),\n",
       " ('خليه', 0.2627627502268983),\n",
       " ('غبية', 0.26283607386525015),\n",
       " ('أسوأ', 0.26290204345329393),\n",
       " ('فلو', 0.2629424662760252),\n",
       " ('كمية', 0.2629424662760252),\n",
       " ('الانستا', 0.2631108117212755),\n",
       " ('تعليقات', 0.2631910524434851),\n",
       " ('الحدث', 0.2631910524434851)]"
      ]
     },
     "execution_count": 37,
     "metadata": {},
     "output_type": "execute_result"
    }
   ],
   "source": [
    "list(reversed(logs_of_dialect_words['GULF'].most_common()))[0:10]"
   ]
  },
  {
   "cell_type": "code",
   "execution_count": 38,
   "id": "9f3db1ef",
   "metadata": {
    "colab": {
     "base_uri": "https://localhost:8080/"
    },
    "id": "9f3db1ef",
    "outputId": "efd5528a-31b1-460e-afc3-1fb6976407b6",
    "scrolled": true
   },
   "outputs": [
    {
     "data": {
      "text/plain": [
       "[('بكل', 0.2626117517850293),\n",
       " ('هات', 0.26261810378856465),\n",
       " ('موقف', 0.26263132282132834),\n",
       " ('تفسير', 0.2628088077066412),\n",
       " ('الحب', 0.2628088077066412),\n",
       " ('عطر', 0.26290204345329393),\n",
       " ('بالملعب', 0.2629894598614094),\n",
       " ('بكلمة', 0.26304476806639576),\n",
       " ('شربت', 0.2631108117212755),\n",
       " ('يشوفو', 0.2631910524434851)]"
      ]
     },
     "execution_count": 38,
     "metadata": {},
     "output_type": "execute_result"
    }
   ],
   "source": [
    "list(reversed(logs_of_dialect_words['SHAM'].most_common()))[0:10]"
   ]
  },
  {
   "cell_type": "code",
   "execution_count": 39,
   "id": "1a599076",
   "metadata": {
    "colab": {
     "base_uri": "https://localhost:8080/"
    },
    "id": "1a599076",
    "outputId": "55ef67d7-7d92-49f5-a038-9c03633f24bb"
   },
   "outputs": [
    {
     "data": {
      "text/plain": [
       "[('يحميك', 0.2626567048848406),\n",
       " ('بديت', 0.2626682620378517),\n",
       " ('معاها', 0.26269914196127186),\n",
       " ('المجرم', 0.2631108117212755),\n",
       " ('يسهل', 0.263238008516088),\n",
       " ('حبيبة', 0.26329061932762177),\n",
       " ('فرحنا', 0.2634174504521496),\n",
       " ('عصام', 0.2634174504521496),\n",
       " ('عصابة', 0.2634174504521496),\n",
       " ('مفروض', 0.26356860022124695)]"
      ]
     },
     "execution_count": 39,
     "metadata": {},
     "output_type": "execute_result"
    }
   ],
   "source": [
    "list(reversed(logs_of_dialect_words['MAGHREB'].most_common()))[0:10]"
   ]
  },
  {
   "cell_type": "code",
   "execution_count": 40,
   "id": "5692e5aa",
   "metadata": {
    "colab": {
     "base_uri": "https://localhost:8080/"
    },
    "id": "5692e5aa",
    "outputId": "128dab9d-1118-4857-d507-ffd60e174166"
   },
   "outputs": [
    {
     "data": {
      "text/plain": [
       "(76487, 258178, 127646, 96822, 20936)"
      ]
     },
     "execution_count": 40,
     "metadata": {},
     "output_type": "execute_result"
    }
   ],
   "source": [
    "len(logs_of_dialect_words['EGYPT']), len(logs_of_dialect_words['GULF']), len(logs_of_dialect_words['SHAM']), len(logs_of_dialect_words['MAGHREB']), len(logs_of_dialect_words['SODAN'])"
   ]
  },
  {
   "cell_type": "markdown",
   "id": "99d6c05b",
   "metadata": {
    "id": "99d6c05b"
   },
   "source": [
    ">We can see now that the terms are more related to the dialect."
   ]
  },
  {
   "cell_type": "markdown",
   "id": "67eecac0",
   "metadata": {
    "id": "67eecac0"
   },
   "source": [
    "### Visualizing the Logs"
   ]
  },
  {
   "cell_type": "code",
   "execution_count": 41,
   "id": "5e8deb7e",
   "metadata": {
    "colab": {
     "base_uri": "https://localhost:8080/",
     "height": 1000
    },
    "id": "5e8deb7e",
    "outputId": "93626b08-e502-461e-ed35-801acccbafcf",
    "scrolled": true
   },
   "outputs": [
    {
     "data": {
      "application/javascript": [
       "\n",
       "(function(root) {\n",
       "  function now() {\n",
       "    return new Date();\n",
       "  }\n",
       "\n",
       "  var force = true;\n",
       "\n",
       "  if (typeof root._bokeh_onload_callbacks === \"undefined\" || force === true) {\n",
       "    root._bokeh_onload_callbacks = [];\n",
       "    root._bokeh_is_loading = undefined;\n",
       "  }\n",
       "\n",
       "  var JS_MIME_TYPE = 'application/javascript';\n",
       "  var HTML_MIME_TYPE = 'text/html';\n",
       "  var EXEC_MIME_TYPE = 'application/vnd.bokehjs_exec.v0+json';\n",
       "  var CLASS_NAME = 'output_bokeh rendered_html';\n",
       "\n",
       "  /**\n",
       "   * Render data to the DOM node\n",
       "   */\n",
       "  function render(props, node) {\n",
       "    var script = document.createElement(\"script\");\n",
       "    node.appendChild(script);\n",
       "  }\n",
       "\n",
       "  /**\n",
       "   * Handle when an output is cleared or removed\n",
       "   */\n",
       "  function handleClearOutput(event, handle) {\n",
       "    var cell = handle.cell;\n",
       "\n",
       "    var id = cell.output_area._bokeh_element_id;\n",
       "    var server_id = cell.output_area._bokeh_server_id;\n",
       "    // Clean up Bokeh references\n",
       "    if (id != null && id in Bokeh.index) {\n",
       "      Bokeh.index[id].model.document.clear();\n",
       "      delete Bokeh.index[id];\n",
       "    }\n",
       "\n",
       "    if (server_id !== undefined) {\n",
       "      // Clean up Bokeh references\n",
       "      var cmd = \"from bokeh.io.state import curstate; print(curstate().uuid_to_server['\" + server_id + \"'].get_sessions()[0].document.roots[0]._id)\";\n",
       "      cell.notebook.kernel.execute(cmd, {\n",
       "        iopub: {\n",
       "          output: function(msg) {\n",
       "            var id = msg.content.text.trim();\n",
       "            if (id in Bokeh.index) {\n",
       "              Bokeh.index[id].model.document.clear();\n",
       "              delete Bokeh.index[id];\n",
       "            }\n",
       "          }\n",
       "        }\n",
       "      });\n",
       "      // Destroy server and session\n",
       "      var cmd = \"import bokeh.io.notebook as ion; ion.destroy_server('\" + server_id + \"')\";\n",
       "      cell.notebook.kernel.execute(cmd);\n",
       "    }\n",
       "  }\n",
       "\n",
       "  /**\n",
       "   * Handle when a new output is added\n",
       "   */\n",
       "  function handleAddOutput(event, handle) {\n",
       "    var output_area = handle.output_area;\n",
       "    var output = handle.output;\n",
       "\n",
       "    // limit handleAddOutput to display_data with EXEC_MIME_TYPE content only\n",
       "    if ((output.output_type != \"display_data\") || (!Object.prototype.hasOwnProperty.call(output.data, EXEC_MIME_TYPE))) {\n",
       "      return\n",
       "    }\n",
       "\n",
       "    var toinsert = output_area.element.find(\".\" + CLASS_NAME.split(' ')[0]);\n",
       "\n",
       "    if (output.metadata[EXEC_MIME_TYPE][\"id\"] !== undefined) {\n",
       "      toinsert[toinsert.length - 1].firstChild.textContent = output.data[JS_MIME_TYPE];\n",
       "      // store reference to embed id on output_area\n",
       "      output_area._bokeh_element_id = output.metadata[EXEC_MIME_TYPE][\"id\"];\n",
       "    }\n",
       "    if (output.metadata[EXEC_MIME_TYPE][\"server_id\"] !== undefined) {\n",
       "      var bk_div = document.createElement(\"div\");\n",
       "      bk_div.innerHTML = output.data[HTML_MIME_TYPE];\n",
       "      var script_attrs = bk_div.children[0].attributes;\n",
       "      for (var i = 0; i < script_attrs.length; i++) {\n",
       "        toinsert[toinsert.length - 1].firstChild.setAttribute(script_attrs[i].name, script_attrs[i].value);\n",
       "        toinsert[toinsert.length - 1].firstChild.textContent = bk_div.children[0].textContent\n",
       "      }\n",
       "      // store reference to server id on output_area\n",
       "      output_area._bokeh_server_id = output.metadata[EXEC_MIME_TYPE][\"server_id\"];\n",
       "    }\n",
       "  }\n",
       "\n",
       "  function register_renderer(events, OutputArea) {\n",
       "\n",
       "    function append_mime(data, metadata, element) {\n",
       "      // create a DOM node to render to\n",
       "      var toinsert = this.create_output_subarea(\n",
       "        metadata,\n",
       "        CLASS_NAME,\n",
       "        EXEC_MIME_TYPE\n",
       "      );\n",
       "      this.keyboard_manager.register_events(toinsert);\n",
       "      // Render to node\n",
       "      var props = {data: data, metadata: metadata[EXEC_MIME_TYPE]};\n",
       "      render(props, toinsert[toinsert.length - 1]);\n",
       "      element.append(toinsert);\n",
       "      return toinsert\n",
       "    }\n",
       "\n",
       "    /* Handle when an output is cleared or removed */\n",
       "    events.on('clear_output.CodeCell', handleClearOutput);\n",
       "    events.on('delete.Cell', handleClearOutput);\n",
       "\n",
       "    /* Handle when a new output is added */\n",
       "    events.on('output_added.OutputArea', handleAddOutput);\n",
       "\n",
       "    /**\n",
       "     * Register the mime type and append_mime function with output_area\n",
       "     */\n",
       "    OutputArea.prototype.register_mime_type(EXEC_MIME_TYPE, append_mime, {\n",
       "      /* Is output safe? */\n",
       "      safe: true,\n",
       "      /* Index of renderer in `output_area.display_order` */\n",
       "      index: 0\n",
       "    });\n",
       "  }\n",
       "\n",
       "  // register the mime type if in Jupyter Notebook environment and previously unregistered\n",
       "  if (root.Jupyter !== undefined) {\n",
       "    var events = require('base/js/events');\n",
       "    var OutputArea = require('notebook/js/outputarea').OutputArea;\n",
       "\n",
       "    if (OutputArea.prototype.mime_types().indexOf(EXEC_MIME_TYPE) == -1) {\n",
       "      register_renderer(events, OutputArea);\n",
       "    }\n",
       "  }\n",
       "\n",
       "  \n",
       "  if (typeof (root._bokeh_timeout) === \"undefined\" || force === true) {\n",
       "    root._bokeh_timeout = Date.now() + 5000;\n",
       "    root._bokeh_failed_load = false;\n",
       "  }\n",
       "\n",
       "  var NB_LOAD_WARNING = {'data': {'text/html':\n",
       "     \"<div style='background-color: #fdd'>\\n\"+\n",
       "     \"<p>\\n\"+\n",
       "     \"BokehJS does not appear to have successfully loaded. If loading BokehJS from CDN, this \\n\"+\n",
       "     \"may be due to a slow or bad network connection. Possible fixes:\\n\"+\n",
       "     \"</p>\\n\"+\n",
       "     \"<ul>\\n\"+\n",
       "     \"<li>re-rerun `output_notebook()` to attempt to load from CDN again, or</li>\\n\"+\n",
       "     \"<li>use INLINE resources instead, as so:</li>\\n\"+\n",
       "     \"</ul>\\n\"+\n",
       "     \"<code>\\n\"+\n",
       "     \"from bokeh.resources import INLINE\\n\"+\n",
       "     \"output_notebook(resources=INLINE)\\n\"+\n",
       "     \"</code>\\n\"+\n",
       "     \"</div>\"}};\n",
       "\n",
       "  function display_loaded() {\n",
       "    var el = document.getElementById(null);\n",
       "    if (el != null) {\n",
       "      el.textContent = \"BokehJS is loading...\";\n",
       "    }\n",
       "    if (root.Bokeh !== undefined) {\n",
       "      if (el != null) {\n",
       "        el.textContent = \"BokehJS \" + root.Bokeh.version + \" successfully loaded.\";\n",
       "      }\n",
       "    } else if (Date.now() < root._bokeh_timeout) {\n",
       "      setTimeout(display_loaded, 100)\n",
       "    }\n",
       "  }\n",
       "\n",
       "\n",
       "  function run_callbacks() {\n",
       "    try {\n",
       "      root._bokeh_onload_callbacks.forEach(function(callback) {\n",
       "        if (callback != null)\n",
       "          callback();\n",
       "      });\n",
       "    } finally {\n",
       "      delete root._bokeh_onload_callbacks\n",
       "    }\n",
       "    console.debug(\"Bokeh: all callbacks have finished\");\n",
       "  }\n",
       "\n",
       "  function load_libs(css_urls, js_urls, callback) {\n",
       "    if (css_urls == null) css_urls = [];\n",
       "    if (js_urls == null) js_urls = [];\n",
       "\n",
       "    root._bokeh_onload_callbacks.push(callback);\n",
       "    if (root._bokeh_is_loading > 0) {\n",
       "      console.debug(\"Bokeh: BokehJS is being loaded, scheduling callback at\", now());\n",
       "      return null;\n",
       "    }\n",
       "    if (js_urls == null || js_urls.length === 0) {\n",
       "      run_callbacks();\n",
       "      return null;\n",
       "    }\n",
       "    console.debug(\"Bokeh: BokehJS not loaded, scheduling load and callback at\", now());\n",
       "    root._bokeh_is_loading = css_urls.length + js_urls.length;\n",
       "\n",
       "    function on_load() {\n",
       "      root._bokeh_is_loading--;\n",
       "      if (root._bokeh_is_loading === 0) {\n",
       "        console.debug(\"Bokeh: all BokehJS libraries/stylesheets loaded\");\n",
       "        run_callbacks()\n",
       "      }\n",
       "    }\n",
       "\n",
       "    function on_error(url) {\n",
       "      console.error(\"failed to load \" + url);\n",
       "    }\n",
       "\n",
       "    for (let i = 0; i < css_urls.length; i++) {\n",
       "      const url = css_urls[i];\n",
       "      const element = document.createElement(\"link\");\n",
       "      element.onload = on_load;\n",
       "      element.onerror = on_error.bind(null, url);\n",
       "      element.rel = \"stylesheet\";\n",
       "      element.type = \"text/css\";\n",
       "      element.href = url;\n",
       "      console.debug(\"Bokeh: injecting link tag for BokehJS stylesheet: \", url);\n",
       "      document.body.appendChild(element);\n",
       "    }\n",
       "\n",
       "    const hashes = {\"https://cdn.bokeh.org/bokeh/release/bokeh-2.3.3.min.js\": \"dM3QQsP+wXdHg42wTqW85BjZQdLNNIXqlPw/BgKoExPmTG7ZLML4EGqLMfqHT6ON\", \"https://cdn.bokeh.org/bokeh/release/bokeh-tables-2.3.3.min.js\": \"8x57I4YuIfu8XyZfFo0XVr2WAT8EK4rh/uDe3wF7YuW2FNUSNEpJbsPaB1nJ2fz2\", \"https://cdn.bokeh.org/bokeh/release/bokeh-widgets-2.3.3.min.js\": \"3QTqdz9LyAm2i0sG5XTePsHec3UHWwVsrOL68SYRoAXsafvfAyqtQ+h440+qIBhS\"};\n",
       "\n",
       "    for (let i = 0; i < js_urls.length; i++) {\n",
       "      const url = js_urls[i];\n",
       "      const element = document.createElement('script');\n",
       "      element.onload = on_load;\n",
       "      element.onerror = on_error.bind(null, url);\n",
       "      element.async = false;\n",
       "      element.src = url;\n",
       "      if (url in hashes) {\n",
       "        element.crossOrigin = \"anonymous\";\n",
       "        element.integrity = \"sha384-\" + hashes[url];\n",
       "      }\n",
       "      console.debug(\"Bokeh: injecting script tag for BokehJS library: \", url);\n",
       "      document.head.appendChild(element);\n",
       "    }\n",
       "  };\n",
       "\n",
       "  function inject_raw_css(css) {\n",
       "    const element = document.createElement(\"style\");\n",
       "    element.appendChild(document.createTextNode(css));\n",
       "    document.body.appendChild(element);\n",
       "  }\n",
       "\n",
       "  \n",
       "  var js_urls = [\"https://cdn.bokeh.org/bokeh/release/bokeh-2.3.3.min.js\", \"https://cdn.bokeh.org/bokeh/release/bokeh-widgets-2.3.3.min.js\", \"https://cdn.bokeh.org/bokeh/release/bokeh-tables-2.3.3.min.js\"];\n",
       "  var css_urls = [];\n",
       "  \n",
       "\n",
       "  var inline_js = [\n",
       "    function(Bokeh) {\n",
       "      Bokeh.set_log_level(\"info\");\n",
       "    },\n",
       "    function(Bokeh) {\n",
       "    \n",
       "    \n",
       "    }\n",
       "  ];\n",
       "\n",
       "  function run_inline_js() {\n",
       "    \n",
       "    if (root.Bokeh !== undefined || force === true) {\n",
       "      \n",
       "    for (var i = 0; i < inline_js.length; i++) {\n",
       "      inline_js[i].call(root, root.Bokeh);\n",
       "    }\n",
       "    } else if (Date.now() < root._bokeh_timeout) {\n",
       "      setTimeout(run_inline_js, 100);\n",
       "    } else if (!root._bokeh_failed_load) {\n",
       "      console.log(\"Bokeh: BokehJS failed to load within specified timeout.\");\n",
       "      root._bokeh_failed_load = true;\n",
       "    } else if (force !== true) {\n",
       "      var cell = $(document.getElementById(null)).parents('.cell').data().cell;\n",
       "      cell.output_area.append_execute_result(NB_LOAD_WARNING)\n",
       "    }\n",
       "\n",
       "  }\n",
       "\n",
       "  if (root._bokeh_is_loading === 0) {\n",
       "    console.debug(\"Bokeh: BokehJS loaded, going straight to plotting\");\n",
       "    run_inline_js();\n",
       "  } else {\n",
       "    load_libs(css_urls, js_urls, function() {\n",
       "      console.debug(\"Bokeh: BokehJS plotting callback run at\", now());\n",
       "      run_inline_js();\n",
       "    });\n",
       "  }\n",
       "}(window));"
      ],
      "application/vnd.bokehjs_load.v0+json": "\n(function(root) {\n  function now() {\n    return new Date();\n  }\n\n  var force = true;\n\n  if (typeof root._bokeh_onload_callbacks === \"undefined\" || force === true) {\n    root._bokeh_onload_callbacks = [];\n    root._bokeh_is_loading = undefined;\n  }\n\n  \n\n  \n  if (typeof (root._bokeh_timeout) === \"undefined\" || force === true) {\n    root._bokeh_timeout = Date.now() + 5000;\n    root._bokeh_failed_load = false;\n  }\n\n  var NB_LOAD_WARNING = {'data': {'text/html':\n     \"<div style='background-color: #fdd'>\\n\"+\n     \"<p>\\n\"+\n     \"BokehJS does not appear to have successfully loaded. If loading BokehJS from CDN, this \\n\"+\n     \"may be due to a slow or bad network connection. Possible fixes:\\n\"+\n     \"</p>\\n\"+\n     \"<ul>\\n\"+\n     \"<li>re-rerun `output_notebook()` to attempt to load from CDN again, or</li>\\n\"+\n     \"<li>use INLINE resources instead, as so:</li>\\n\"+\n     \"</ul>\\n\"+\n     \"<code>\\n\"+\n     \"from bokeh.resources import INLINE\\n\"+\n     \"output_notebook(resources=INLINE)\\n\"+\n     \"</code>\\n\"+\n     \"</div>\"}};\n\n  function display_loaded() {\n    var el = document.getElementById(null);\n    if (el != null) {\n      el.textContent = \"BokehJS is loading...\";\n    }\n    if (root.Bokeh !== undefined) {\n      if (el != null) {\n        el.textContent = \"BokehJS \" + root.Bokeh.version + \" successfully loaded.\";\n      }\n    } else if (Date.now() < root._bokeh_timeout) {\n      setTimeout(display_loaded, 100)\n    }\n  }\n\n\n  function run_callbacks() {\n    try {\n      root._bokeh_onload_callbacks.forEach(function(callback) {\n        if (callback != null)\n          callback();\n      });\n    } finally {\n      delete root._bokeh_onload_callbacks\n    }\n    console.debug(\"Bokeh: all callbacks have finished\");\n  }\n\n  function load_libs(css_urls, js_urls, callback) {\n    if (css_urls == null) css_urls = [];\n    if (js_urls == null) js_urls = [];\n\n    root._bokeh_onload_callbacks.push(callback);\n    if (root._bokeh_is_loading > 0) {\n      console.debug(\"Bokeh: BokehJS is being loaded, scheduling callback at\", now());\n      return null;\n    }\n    if (js_urls == null || js_urls.length === 0) {\n      run_callbacks();\n      return null;\n    }\n    console.debug(\"Bokeh: BokehJS not loaded, scheduling load and callback at\", now());\n    root._bokeh_is_loading = css_urls.length + js_urls.length;\n\n    function on_load() {\n      root._bokeh_is_loading--;\n      if (root._bokeh_is_loading === 0) {\n        console.debug(\"Bokeh: all BokehJS libraries/stylesheets loaded\");\n        run_callbacks()\n      }\n    }\n\n    function on_error(url) {\n      console.error(\"failed to load \" + url);\n    }\n\n    for (let i = 0; i < css_urls.length; i++) {\n      const url = css_urls[i];\n      const element = document.createElement(\"link\");\n      element.onload = on_load;\n      element.onerror = on_error.bind(null, url);\n      element.rel = \"stylesheet\";\n      element.type = \"text/css\";\n      element.href = url;\n      console.debug(\"Bokeh: injecting link tag for BokehJS stylesheet: \", url);\n      document.body.appendChild(element);\n    }\n\n    const hashes = {\"https://cdn.bokeh.org/bokeh/release/bokeh-2.3.3.min.js\": \"dM3QQsP+wXdHg42wTqW85BjZQdLNNIXqlPw/BgKoExPmTG7ZLML4EGqLMfqHT6ON\", \"https://cdn.bokeh.org/bokeh/release/bokeh-tables-2.3.3.min.js\": \"8x57I4YuIfu8XyZfFo0XVr2WAT8EK4rh/uDe3wF7YuW2FNUSNEpJbsPaB1nJ2fz2\", \"https://cdn.bokeh.org/bokeh/release/bokeh-widgets-2.3.3.min.js\": \"3QTqdz9LyAm2i0sG5XTePsHec3UHWwVsrOL68SYRoAXsafvfAyqtQ+h440+qIBhS\"};\n\n    for (let i = 0; i < js_urls.length; i++) {\n      const url = js_urls[i];\n      const element = document.createElement('script');\n      element.onload = on_load;\n      element.onerror = on_error.bind(null, url);\n      element.async = false;\n      element.src = url;\n      if (url in hashes) {\n        element.crossOrigin = \"anonymous\";\n        element.integrity = \"sha384-\" + hashes[url];\n      }\n      console.debug(\"Bokeh: injecting script tag for BokehJS library: \", url);\n      document.head.appendChild(element);\n    }\n  };\n\n  function inject_raw_css(css) {\n    const element = document.createElement(\"style\");\n    element.appendChild(document.createTextNode(css));\n    document.body.appendChild(element);\n  }\n\n  \n  var js_urls = [\"https://cdn.bokeh.org/bokeh/release/bokeh-2.3.3.min.js\", \"https://cdn.bokeh.org/bokeh/release/bokeh-widgets-2.3.3.min.js\", \"https://cdn.bokeh.org/bokeh/release/bokeh-tables-2.3.3.min.js\"];\n  var css_urls = [];\n  \n\n  var inline_js = [\n    function(Bokeh) {\n      Bokeh.set_log_level(\"info\");\n    },\n    function(Bokeh) {\n    \n    \n    }\n  ];\n\n  function run_inline_js() {\n    \n    if (root.Bokeh !== undefined || force === true) {\n      \n    for (var i = 0; i < inline_js.length; i++) {\n      inline_js[i].call(root, root.Bokeh);\n    }\n    } else if (Date.now() < root._bokeh_timeout) {\n      setTimeout(run_inline_js, 100);\n    } else if (!root._bokeh_failed_load) {\n      console.log(\"Bokeh: BokehJS failed to load within specified timeout.\");\n      root._bokeh_failed_load = true;\n    } else if (force !== true) {\n      var cell = $(document.getElementById(null)).parents('.cell').data().cell;\n      cell.output_area.append_execute_result(NB_LOAD_WARNING)\n    }\n\n  }\n\n  if (root._bokeh_is_loading === 0) {\n    console.debug(\"Bokeh: BokehJS loaded, going straight to plotting\");\n    run_inline_js();\n  } else {\n    load_libs(css_urls, js_urls, function() {\n      console.debug(\"Bokeh: BokehJS plotting callback run at\", now());\n      run_inline_js();\n    });\n  }\n}(window));"
     },
     "metadata": {},
     "output_type": "display_data"
    },
    {
     "data": {
      "text/html": [
       "\n",
       "\n",
       "\n",
       "\n",
       "\n",
       "\n",
       "  <div class=\"bk-root\" id=\"6d7d4912-6bfd-40e4-a2f1-90f1fcb53a71\" data-root-id=\"1527\"></div>\n"
      ]
     },
     "metadata": {},
     "output_type": "display_data"
    },
    {
     "data": {
      "application/javascript": [
       "(function(root) {\n",
       "  function embed_document(root) {\n",
       "    \n",
       "  var docs_json = {\"bd048889-721c-4280-b1fc-f8a64263bd67\":{\"defs\":[],\"roots\":{\"references\":[{\"attributes\":{\"below\":[{\"id\":\"1538\"}],\"center\":[{\"id\":\"1541\"},{\"id\":\"1545\"}],\"left\":[{\"id\":\"1542\"}],\"renderers\":[{\"id\":\"1558\"}],\"title\":{\"id\":\"1528\"},\"toolbar\":{\"id\":\"1550\"},\"toolbar_location\":\"above\",\"x_range\":{\"id\":\"1530\"},\"x_scale\":{\"id\":\"1534\"},\"y_range\":{\"id\":\"1532\"},\"y_scale\":{\"id\":\"1536\"}},\"id\":\"1527\",\"subtype\":\"Figure\",\"type\":\"Plot\"},{\"attributes\":{},\"id\":\"1546\",\"type\":\"PanTool\"},{\"attributes\":{\"bottom\":{\"value\":0},\"fill_alpha\":{\"value\":0.1},\"fill_color\":{\"value\":\"#1f77b4\"},\"left\":{\"field\":\"left\"},\"line_alpha\":{\"value\":0.1},\"line_color\":{\"value\":\"#555555\"},\"right\":{\"field\":\"right\"},\"top\":{\"field\":\"top\"}},\"id\":\"1557\",\"type\":\"Quad\"},{\"attributes\":{\"active_multi\":null,\"tools\":[{\"id\":\"1546\"},{\"id\":\"1547\"},{\"id\":\"1548\"},{\"id\":\"1549\"}]},\"id\":\"1550\",\"type\":\"Toolbar\"},{\"attributes\":{},\"id\":\"1547\",\"type\":\"WheelZoomTool\"},{\"attributes\":{},\"id\":\"1539\",\"type\":\"BasicTicker\"},{\"attributes\":{\"formatter\":{\"id\":\"1607\"},\"major_label_policy\":{\"id\":\"1608\"},\"ticker\":{\"id\":\"1543\"}},\"id\":\"1542\",\"type\":\"LinearAxis\"},{\"attributes\":{},\"id\":\"1530\",\"type\":\"DataRange1d\"},{\"attributes\":{\"bottom\":{\"value\":0},\"fill_color\":{\"value\":\"#1f77b4\"},\"left\":{\"field\":\"left\"},\"line_color\":{\"value\":\"#555555\"},\"right\":{\"field\":\"right\"},\"top\":{\"field\":\"top\"}},\"id\":\"1556\",\"type\":\"Quad\"},{\"attributes\":{},\"id\":\"1534\",\"type\":\"LinearScale\"},{\"attributes\":{},\"id\":\"1610\",\"type\":\"BasicTickFormatter\"},{\"attributes\":{\"data\":{\"left\":{\"__ndarray__\":\"QMRAtM/S0D+wzYz3ThnRPx/X2DrOX9E/j+Akfk2m0T//6XDBzOzRP27zvARMM9I/3vwISMt50j9OBlWLSsDSP70Poc7JBtM/LRntEUlN0z+cIjlVyJPTPwwshZhH2tM/fDXR28Yg1D/sPh0fRmfUP1tIaWLFrdQ/y1G1pUT01D86WwHpwzrVP6pkTSxDgdU/Gm6Zb8LH1T+Kd+WyQQ7WP/mAMfbAVNY/aYp9OUCb1j/Yk8l8v+HWP0idFcA+KNc/uKZhA75u1z8osK1GPbXXP5e5+Ym8+9c/B8NFzTtC2D92zJEQu4jYP+bV3VM6z9g/Vt8pl7kV2T/G6HXaOFzZPzXywR24otk/pPsNYTfp2T8UBVqkti/aP4QOpuc1dto/9BfyKrW82j9kIT5uNAPbP9MqirGzSds/QjTW9DKQ2z+yPSI4stbbPyJHbnsxHdw/klC6vrBj3D8BWgYCMKrcP3FjUkWv8Nw/4GyeiC433T9QdurLrX3dP8B/Ng8txN0/MImCUqwK3j+fks6VK1HePw+cGtmql94/fqVmHCre3j/urrJfqSTfP164/qIoa98/zsFK5qex3z89y5YpJ/jfP1ZqcTZTH+A/Dm8X2JJC4D/Gc7150mXgP354YxsSieA/Nn0JvVGs4D/uga9ekc/gP6aGVQDR8uA/XYv7oRAW4T8VkKFDUDnhP82UR+WPXOE/hJnths9/4T88npMoD6PhP/SiOcpOxuE/rKffa47p4T9krIUNzgziPxyxK68NMOI/1LXRUE1T4j+MunfyjHbiP0S/HZTMmeI/+8PDNQy94j+zyGnXS+DiP2vND3mLA+M/ItK1Gssm4z/a1lu8CkrjP5LbAV5KbeM/SuCn/4mQ4z8C5U2hybPjP7rp80IJ1+M/cu6Z5Ej64z8q8z+GiB3kP+H35SfIQOQ/mfyLyQdk5D9RATJrR4fkPwgG2AyHquQ/wAp+rsbN5D94DyRQBvHkPzAUyvFFFOU/6Bhwk4U35T+gHRY1xVrlP1givNYEfuU/ECdieESh5T/IKwgahMTlP38wrrvD5+U/NzVUXQML5j8=\",\"dtype\":\"float64\",\"order\":\"little\",\"shape\":[100]},\"right\":{\"__ndarray__\":\"sM2M904Z0T8f19g6zl/RP4/gJH5NptE//+lwwczs0T9u87wETDPSP978CEjLedI/TgZVi0rA0j+9D6HOyQbTPy0Z7RFJTdM/nCI5VciT0z8MLIWYR9rTP3w10dvGINQ/7D4dH0Zn1D9bSGlixa3UP8tRtaVE9NQ/OlsB6cM61T+qZE0sQ4HVPxpumW/Cx9U/inflskEO1j/5gDH2wFTWP2mKfTlAm9Y/2JPJfL/h1j9InRXAPijXP7imYQO+btc/KLCtRj211z+XufmJvPvXPwfDRc07Qtg/dsyRELuI2D/m1d1TOs/YP1bfKZe5Fdk/xuh12jhc2T818sEduKLZP6T7DWE36dk/FAVapLYv2j+EDqbnNXbaP/QX8iq1vNo/ZCE+bjQD2z/TKoqxs0nbP0I01vQykNs/sj0iOLLW2z8iR257MR3cP5JQur6wY9w/AVoGAjCq3D9xY1JFr/DcP+BsnoguN90/UHbqy6193T/AfzYPLcTdPzCJglKsCt4/n5LOlStR3j8PnBrZqpfeP36lZhwq3t4/7q6yX6kk3z9euP6iKGvfP87BSuansd8/PcuWKSf43z9WanE2Ux/gPw5vF9iSQuA/xnO9edJl4D9+eGMbEongPzZ9Cb1RrOA/7oGvXpHP4D+mhlUA0fLgP12L+6EQFuE/FZChQ1A54T/NlEflj1zhP4SZ7YbPf+E/PJ6TKA+j4T/0ojnKTsbhP6yn32uO6eE/ZKyFDc4M4j8csSuvDTDiP9S10VBNU+I/jLp38ox24j9Evx2UzJniP/vDwzUMveI/s8hp10vg4j9rzQ95iwPjPyLStRrLJuM/2tZbvApK4z+S2wFeSm3jP0rgp/+JkOM/AuVNocmz4z+66fNCCdfjP3LumeRI+uM/KvM/hogd5D/h9+UnyEDkP5n8i8kHZOQ/UQEya0eH5D8IBtgMh6rkP8AKfq7GzeQ/eA8kUAbx5D8wFMrxRRTlP+gYcJOFN+U/oB0WNcVa5T9YIrzWBH7lPxAnYnhEoeU/yCsIGoTE5T9/MK67w+flPzc1VF0DC+Y/7zn6/kIu5j8=\",\"dtype\":\"float64\",\"order\":\"little\",\"shape\":[100]},\"top\":{\"__ndarray__\":\"3VxLjGjkzz+lFiTEleDlP7Y3+3kky+E/9tqRPExy0z8VOPW8p4DIP4nQpolTgzRAJsxl7p05uz/CO4BQ047GPzvxxzdYMtU/ve1CYalu4D/AqpT1i5noP61rd9oWHcg/bMjgF+919j+JzGXunTnLP9vP8IHJR9k/zPxceOHHzD8INGopfHK6P45t9bcQhw9Aq94c0HeAwT+wlGS3/CPgPzaY49Auncs/ZY3LMWdi9z9wO4BQ0462PzaY49Auncs/VhYkxJXg5T8WE5Nz7YfeP+mbbmRaq7k/2+08pCwk1z9D1wapIGTFPxVzjQFuOcQ/q94c0HeAwT9oNGopfHKqPyYEc5845Jg/e7eqppW0QUBEZGGzvwCsP3A7gFDTjrY/v8RPx0Ydrz8925E8THLDPy7FT8dGHb8/+GfsRusOyj+MRiELVrnQP/GBrdUi3dk/zPxceOHHvD8TjUjTKL3qP7h6oyjFVbA/BqcPH93Vwz+/xE/HRh2/P0RkYbO/AKw/EqDzOglv/j+O03sV9VW3P+reHNB3gME/CDRqKXxy2j9wO4BQ0462PzaY49Auncs/gAuJxo8AxT/7qpqyCOSxP9lClncqq6I/pxKTc+2HHkBSo4SLscelP5wSn+3mHLE/q94c0HeAwT99eqMoxVXAP6ScbmRaq8k/CDRqKXxyuj9yIcV+GAvgP6ScbmRaq8k/nyxUAiVWvj/22pE8THKzP4B6IMqGsANAnBKf7eYcoT/pm25kWqu5P4GUWD0Dj70/5w4UWrsO0z/22pE8THKzP4TbkTxMcrM/1c/2PkaS8j+/xE/HRh2vP8wLicaPAMU/ywNznzjkqD8CNHDm+LzjP0RkYbO/AKw/jEYhC1a5wD/itS/zkXnZPzQLicaPALU/UqOEi7HHpT+6Pwvk/pzUP5wSn+3mHNE/v8RPx0Ydrz+6Pwvk/pzEPybMZe6dObs/JD8L5P6cxD/ZQpZ3KquyP7qqmrII5LE/UqOEi7HHtT+cEp/t5hyhP7/ET8dGHa8/UqOEi7HHlT+fxU/HRh2PPwAAAAAAAAAA6hnptGhfYUA=\",\"dtype\":\"float64\",\"order\":\"little\",\"shape\":[100]}},\"selected\":{\"id\":\"1612\"},\"selection_policy\":{\"id\":\"1613\"}},\"id\":\"1555\",\"type\":\"ColumnDataSource\"},{\"attributes\":{},\"id\":\"1607\",\"type\":\"BasicTickFormatter\"},{\"attributes\":{},\"id\":\"1612\",\"type\":\"Selection\"},{\"attributes\":{},\"id\":\"1532\",\"type\":\"DataRange1d\"},{\"attributes\":{\"data_source\":{\"id\":\"1555\"},\"glyph\":{\"id\":\"1556\"},\"hover_glyph\":null,\"muted_glyph\":null,\"nonselection_glyph\":{\"id\":\"1557\"},\"view\":{\"id\":\"1559\"}},\"id\":\"1558\",\"type\":\"GlyphRenderer\"},{\"attributes\":{},\"id\":\"1548\",\"type\":\"ResetTool\"},{\"attributes\":{},\"id\":\"1543\",\"type\":\"BasicTicker\"},{\"attributes\":{},\"id\":\"1549\",\"type\":\"SaveTool\"},{\"attributes\":{\"axis\":{\"id\":\"1542\"},\"dimension\":1,\"ticker\":null},\"id\":\"1545\",\"type\":\"Grid\"},{\"attributes\":{},\"id\":\"1608\",\"type\":\"AllLabels\"},{\"attributes\":{},\"id\":\"1613\",\"type\":\"UnionRenderers\"},{\"attributes\":{\"text\":\"EGYPT Terms Ratios Affinity Distribution\"},\"id\":\"1528\",\"type\":\"Title\"},{\"attributes\":{},\"id\":\"1536\",\"type\":\"LinearScale\"},{\"attributes\":{\"source\":{\"id\":\"1555\"}},\"id\":\"1559\",\"type\":\"CDSView\"},{\"attributes\":{\"formatter\":{\"id\":\"1610\"},\"major_label_policy\":{\"id\":\"1611\"},\"ticker\":{\"id\":\"1539\"}},\"id\":\"1538\",\"type\":\"LinearAxis\"},{\"attributes\":{},\"id\":\"1611\",\"type\":\"AllLabels\"},{\"attributes\":{\"axis\":{\"id\":\"1538\"},\"ticker\":null},\"id\":\"1541\",\"type\":\"Grid\"}],\"root_ids\":[\"1527\"]},\"title\":\"Bokeh Application\",\"version\":\"2.3.3\"}};\n",
       "  var render_items = [{\"docid\":\"bd048889-721c-4280-b1fc-f8a64263bd67\",\"root_ids\":[\"1527\"],\"roots\":{\"1527\":\"6d7d4912-6bfd-40e4-a2f1-90f1fcb53a71\"}}];\n",
       "  root.Bokeh.embed.embed_items_notebook(docs_json, render_items);\n",
       "\n",
       "  }\n",
       "  if (root.Bokeh !== undefined) {\n",
       "    embed_document(root);\n",
       "  } else {\n",
       "    var attempts = 0;\n",
       "    var timer = setInterval(function(root) {\n",
       "      if (root.Bokeh !== undefined) {\n",
       "        clearInterval(timer);\n",
       "        embed_document(root);\n",
       "      } else {\n",
       "        attempts++;\n",
       "        if (attempts > 100) {\n",
       "          clearInterval(timer);\n",
       "          console.log(\"Bokeh: ERROR: Unable to run BokehJS code because BokehJS library is missing\");\n",
       "        }\n",
       "      }\n",
       "    }, 10, root)\n",
       "  }\n",
       "})(window);"
      ],
      "application/vnd.bokehjs_exec.v0+json": ""
     },
     "metadata": {
      "application/vnd.bokehjs_exec.v0+json": {
       "id": "1527"
      }
     },
     "output_type": "display_data"
    },
    {
     "data": {
      "text/html": [
       "\n",
       "\n",
       "\n",
       "\n",
       "\n",
       "\n",
       "  <div class=\"bk-root\" id=\"78351030-0d8c-475a-9aaf-50a2556a9fe1\" data-root-id=\"1659\"></div>\n"
      ]
     },
     "metadata": {},
     "output_type": "display_data"
    },
    {
     "data": {
      "application/javascript": [
       "(function(root) {\n",
       "  function embed_document(root) {\n",
       "    \n",
       "  var docs_json = {\"5c8d3544-c739-4adb-8a43-faaf060672b0\":{\"defs\":[],\"roots\":{\"references\":[{\"attributes\":{\"below\":[{\"id\":\"1670\"}],\"center\":[{\"id\":\"1673\"},{\"id\":\"1677\"}],\"left\":[{\"id\":\"1674\"}],\"renderers\":[{\"id\":\"1690\"}],\"title\":{\"id\":\"1660\"},\"toolbar\":{\"id\":\"1682\"},\"toolbar_location\":\"above\",\"x_range\":{\"id\":\"1662\"},\"x_scale\":{\"id\":\"1666\"},\"y_range\":{\"id\":\"1664\"},\"y_scale\":{\"id\":\"1668\"}},\"id\":\"1659\",\"subtype\":\"Figure\",\"type\":\"Plot\"},{\"attributes\":{\"active_multi\":null,\"tools\":[{\"id\":\"1678\"},{\"id\":\"1679\"},{\"id\":\"1680\"},{\"id\":\"1681\"}]},\"id\":\"1682\",\"type\":\"Toolbar\"},{\"attributes\":{},\"id\":\"1664\",\"type\":\"DataRange1d\"},{\"attributes\":{},\"id\":\"1680\",\"type\":\"ResetTool\"},{\"attributes\":{},\"id\":\"1666\",\"type\":\"LinearScale\"},{\"attributes\":{},\"id\":\"1751\",\"type\":\"BasicTickFormatter\"},{\"attributes\":{\"bottom\":{\"value\":0},\"fill_alpha\":{\"value\":0.1},\"fill_color\":{\"value\":\"#1f77b4\"},\"left\":{\"field\":\"left\"},\"line_alpha\":{\"value\":0.1},\"line_color\":{\"value\":\"#555555\"},\"right\":{\"field\":\"right\"},\"top\":{\"field\":\"top\"}},\"id\":\"1689\",\"type\":\"Quad\"},{\"attributes\":{},\"id\":\"1753\",\"type\":\"Selection\"},{\"attributes\":{\"data_source\":{\"id\":\"1687\"},\"glyph\":{\"id\":\"1688\"},\"hover_glyph\":null,\"muted_glyph\":null,\"nonselection_glyph\":{\"id\":\"1689\"},\"view\":{\"id\":\"1691\"}},\"id\":\"1690\",\"type\":\"GlyphRenderer\"},{\"attributes\":{},\"id\":\"1679\",\"type\":\"WheelZoomTool\"},{\"attributes\":{\"data\":{\"left\":{\"__ndarray__\":\"7ZBdhaHO0D/B1VR8KxXRP5YaTHO1W9E/al9Daj+i0T8+pDphyejRPxPpMVhTL9I/5y0pT9110j+7ciBGZ7zSP5C3Fz3xAtM/ZPwONHtJ0z84QQYrBZDTPw2G/SGP1tM/4cr0GBkd1D+1D+wPo2PUP4pU4wYtqtQ/Xpna/bbw1D8y3tH0QDfVPwYjyevKfdU/22fA4lTE1T+vrLfZ3grWP4TxrtBoUdY/WDamx/KX1j8se52+fN7WPwDAlLUGJdc/1QSMrJBr1z+pSYOjGrLXP36Oepqk+Nc/UtNxkS4/2D8mGGmIuIXYP/pcYH9CzNg/z6FXdswS2T+j5k5tVlnZP3grRmTgn9k/THA9W2rm2T8gtTRS9CzaP/T5K0l+c9o/yT4jQAi62j+dgxo3kgDbP3LIES4cR9s/Rg0JJaaN2z8aUgAcMNTbP+6W9xK6Gtw/w9vuCURh3D+XIOYAzqfcP2xl3fdX7tw/QKrU7uE03T8U78vla3vdP+gzw9z1wd0/vXi6038I3j+RvbHKCU/eP2YCqcGTld4/OkeguB3c3j8OjJevpyLfP+LQjqYxad8/thWGnbuv3z+LWn2URfbfP7BPusVnHuA/GvI1waxB4D+ElLG88WTgP+42Lbg2iOA/WNmos3ur4D/CeySvwM7gPyweoKoF8uA/l8AbpkoV4T8BY5ehjzjhP2sFE53UW+E/1qeOmBl/4T9ASgqUXqLhP6rshY+jxeE/FI8Bi+jo4T9+MX2GLQziP+jT+IFyL+I/UnZ0fbdS4j+8GPB4/HXiPya7a3RBmeI/kV3nb4a84j/7/2Jry9/iP2Wi3mYQA+M/0ERaYlUm4z8659VdmknjP6SJUVnfbOM/DizNVCSQ4z94zkhQabPjP+JwxEuu1uM/TBNAR/P54z+2tbtCOB3kPyBYNz59QOQ/i/qyOcJj5D/1nC41B4fkP18/qjBMquQ/yuElLJHN5D80hKEn1vDkP54mHSMbFOU/CMmYHmA35T9yaxQapVrlP9wNkBXqfeU/RrALES+h5T+wUocMdMTlPxr1Agi55+U/hJd+A/4K5j8=\",\"dtype\":\"float64\",\"order\":\"little\",\"shape\":[100]},\"right\":{\"__ndarray__\":\"wdVUfCsV0T+WGkxztVvRP2pfQ2o/otE/PqQ6Ycno0T8T6TFYUy/SP+ctKU/dddI/u3IgRme80j+Qtxc98QLTP2T8DjR7SdM/OEEGKwWQ0z8Nhv0hj9bTP+HK9BgZHdQ/tQ/sD6Nj1D+KVOMGLarUP16Z2v228NQ/Mt7R9EA31T8GI8nryn3VP9tnwOJUxNU/r6y32d4K1j+E8a7QaFHWP1g2psfyl9Y/LHudvnze1j8AwJS1BiXXP9UEjKyQa9c/qUmDoxqy1z9+jnqapPjXP1LTcZEuP9g/JhhpiLiF2D/6XGB/QszYP8+hV3bMEtk/o+ZObVZZ2T94K0Zk4J/ZP0xwPVtq5tk/ILU0UvQs2j/0+StJfnPaP8k+I0AIuto/nYMaN5IA2z9yyBEuHEfbP0YNCSWmjds/GlIAHDDU2z/ulvcSuhrcP8Pb7glEYdw/lyDmAM6n3D9sZd33V+7cP0Cq1O7hNN0/FO/L5Wt73T/oM8Pc9cHdP714utN/CN4/kb2xyglP3j9mAqnBk5XePzpHoLgd3N4/DoyXr6ci3z/i0I6mMWnfP7YVhp27r98/i1p9lEX23z+wT7rFZx7gPxryNcGsQeA/hJSxvPFk4D/uNi24NojgP1jZqLN7q+A/wnskr8DO4D8sHqCqBfLgP5fAG6ZKFeE/AWOXoY844T9rBROd1FvhP9anjpgZf+E/QEoKlF6i4T+q7IWPo8XhPxSPAYvo6OE/fjF9hi0M4j/o0/iBci/iP1J2dH23UuI/vBjwePx14j8mu2t0QZniP5Fd52+GvOI/+/9ia8vf4j9lot5mEAPjP9BEWmJVJuM/OufVXZpJ4z+kiVFZ32zjPw4szVQkkOM/eM5IUGmz4z/icMRLrtbjP0wTQEfz+eM/trW7Qjgd5D8gWDc+fUDkP4v6sjnCY+Q/9ZwuNQeH5D9fP6owTKrkP8rhJSyRzeQ/NIShJ9bw5D+eJh0jGxTlPwjJmB5gN+U/cmsUGqVa5T/cDZAV6n3lP0awCxEvoeU/sFKHDHTE5T8a9QIIueflP4SXfgP+CuY/7zn6/kIu5j8=\",\"dtype\":\"float64\",\"order\":\"little\",\"shape\":[100]},\"top\":{\"__ndarray__\":\"9rpHaSeI3D8DiIHWRtXrP1P7ZU0zhuc/REa7YM1N4D+hfHbeAcfVP0kbQI0L9DJAAMzA3O9Uwz+hfHbeAcfVP8sGcUV4lN0/WQYH4Rxy6T/U06qyl+HMP/3F6PwQdO4/G2R9+eyP+T+Fis4vLRLQP3H/WjiHTNw/4S0s4BM52D+XdWDREH/EP8GkYQfnGBFAR0uEFNhYzT+SjsMagdjkP9QX6rhAYdQ/0d7h4SWr+j/FyJ+6UtPGP2XEqs/+DNI/fuJsaB5P6z9NdWDREH/EP3Sew/0Zrd8/+VmwLrro3z+pYxOVkW3FP2AGcUV4lM0/oOw5M1H2xD9NdWDREH+0P2CrR4aOs6E/S0QEkxXZQEBoIiHoziqyP1TsOTNR9rQ/hYetDZCQwz+QpAVCVLDIP4WHrQ2QkMM/r6HkH7cuzD+8UcZYElzWP4wBqJFtieA/ErpzoHBDxD/rODfYWEfuP029lMINxbA/pioLvna3yz9ERrtgzU3APzUQ1KtPGbM/bI5ZtiW2AECYG9+jlCe5P8XIn7pS08Y/yAGokW2J4D/OP3kck0q3P6+h5B+3Lsw/GDRuJE48wT8JRrtgzU2wP+EtLOATOag/uT8dVwDiHkBNvZTCDcWgP4WHrQ2QkLM/D4FryVWNuj/ReIHzrQDBP0gJkmcVFso/strs9tHktT+8HpZh1obhPx/In7pS08Y/strs9tHktT9isBA6mb6uP5U/RGplOQVABgqSZxUWmj+Fh60NkJCzP0RGu2DNTcA/WTk32FhHzj+XdWDREH+0P9S8lMINxbA/S4d4W2J/8T891Kqyl+GsP25U53qv3cI/YrAQOpm+rj+5sl2Tf/viP84/eRyTSqc/6aQFQlSwuD/FyJ+6UtPWP3Sew/0Zra8/YKtHho6zoT8iCb6eXtHRP7ToGBG0dMg/aCIh6M4qsj+g7DkzUfbEP4OvEDqZvr4/4S0s4BM5yD+g7DkzUfa0PwYKkmcVFro/Im8ejdZ7uz/FyJ+6UtO2PwYKkmcVFro/VjRuJE48sT/OP3kck0qnP7xRxlgSXJY/kw6p+90nYUA=\",\"dtype\":\"float64\",\"order\":\"little\",\"shape\":[100]}},\"selected\":{\"id\":\"1753\"},\"selection_policy\":{\"id\":\"1754\"}},\"id\":\"1687\",\"type\":\"ColumnDataSource\"},{\"attributes\":{},\"id\":\"1748\",\"type\":\"BasicTickFormatter\"},{\"attributes\":{},\"id\":\"1671\",\"type\":\"BasicTicker\"},{\"attributes\":{},\"id\":\"1681\",\"type\":\"SaveTool\"},{\"attributes\":{\"formatter\":{\"id\":\"1748\"},\"major_label_policy\":{\"id\":\"1749\"},\"ticker\":{\"id\":\"1675\"}},\"id\":\"1674\",\"type\":\"LinearAxis\"},{\"attributes\":{},\"id\":\"1754\",\"type\":\"UnionRenderers\"},{\"attributes\":{},\"id\":\"1675\",\"type\":\"BasicTicker\"},{\"attributes\":{},\"id\":\"1668\",\"type\":\"LinearScale\"},{\"attributes\":{\"formatter\":{\"id\":\"1751\"},\"major_label_policy\":{\"id\":\"1752\"},\"ticker\":{\"id\":\"1671\"}},\"id\":\"1670\",\"type\":\"LinearAxis\"},{\"attributes\":{},\"id\":\"1752\",\"type\":\"AllLabels\"},{\"attributes\":{\"text\":\"SHAM Terms Ratios Affinity Distribution\"},\"id\":\"1660\",\"type\":\"Title\"},{\"attributes\":{},\"id\":\"1749\",\"type\":\"AllLabels\"},{\"attributes\":{},\"id\":\"1662\",\"type\":\"DataRange1d\"},{\"attributes\":{\"bottom\":{\"value\":0},\"fill_color\":{\"value\":\"#1f77b4\"},\"left\":{\"field\":\"left\"},\"line_color\":{\"value\":\"#555555\"},\"right\":{\"field\":\"right\"},\"top\":{\"field\":\"top\"}},\"id\":\"1688\",\"type\":\"Quad\"},{\"attributes\":{},\"id\":\"1678\",\"type\":\"PanTool\"},{\"attributes\":{\"axis\":{\"id\":\"1674\"},\"dimension\":1,\"ticker\":null},\"id\":\"1677\",\"type\":\"Grid\"},{\"attributes\":{\"axis\":{\"id\":\"1670\"},\"ticker\":null},\"id\":\"1673\",\"type\":\"Grid\"},{\"attributes\":{\"source\":{\"id\":\"1687\"}},\"id\":\"1691\",\"type\":\"CDSView\"}],\"root_ids\":[\"1659\"]},\"title\":\"Bokeh Application\",\"version\":\"2.3.3\"}};\n",
       "  var render_items = [{\"docid\":\"5c8d3544-c739-4adb-8a43-faaf060672b0\",\"root_ids\":[\"1659\"],\"roots\":{\"1659\":\"78351030-0d8c-475a-9aaf-50a2556a9fe1\"}}];\n",
       "  root.Bokeh.embed.embed_items_notebook(docs_json, render_items);\n",
       "\n",
       "  }\n",
       "  if (root.Bokeh !== undefined) {\n",
       "    embed_document(root);\n",
       "  } else {\n",
       "    var attempts = 0;\n",
       "    var timer = setInterval(function(root) {\n",
       "      if (root.Bokeh !== undefined) {\n",
       "        clearInterval(timer);\n",
       "        embed_document(root);\n",
       "      } else {\n",
       "        attempts++;\n",
       "        if (attempts > 100) {\n",
       "          clearInterval(timer);\n",
       "          console.log(\"Bokeh: ERROR: Unable to run BokehJS code because BokehJS library is missing\");\n",
       "        }\n",
       "      }\n",
       "    }, 10, root)\n",
       "  }\n",
       "})(window);"
      ],
      "application/vnd.bokehjs_exec.v0+json": ""
     },
     "metadata": {
      "application/vnd.bokehjs_exec.v0+json": {
       "id": "1659"
      }
     },
     "output_type": "display_data"
    },
    {
     "data": {
      "text/html": [
       "\n",
       "\n",
       "\n",
       "\n",
       "\n",
       "\n",
       "  <div class=\"bk-root\" id=\"a422ce0a-7947-4856-9da7-88e0c8872eca\" data-root-id=\"1800\"></div>\n"
      ]
     },
     "metadata": {},
     "output_type": "display_data"
    },
    {
     "data": {
      "application/javascript": [
       "(function(root) {\n",
       "  function embed_document(root) {\n",
       "    \n",
       "  var docs_json = {\"8bee4f93-a1c6-4a58-8a8e-bfefe52f06be\":{\"defs\":[],\"roots\":{\"references\":[{\"attributes\":{\"below\":[{\"id\":\"1811\"}],\"center\":[{\"id\":\"1814\"},{\"id\":\"1818\"}],\"left\":[{\"id\":\"1815\"}],\"renderers\":[{\"id\":\"1831\"}],\"title\":{\"id\":\"1801\"},\"toolbar\":{\"id\":\"1823\"},\"toolbar_location\":\"above\",\"x_range\":{\"id\":\"1803\"},\"x_scale\":{\"id\":\"1807\"},\"y_range\":{\"id\":\"1805\"},\"y_scale\":{\"id\":\"1809\"}},\"id\":\"1800\",\"subtype\":\"Figure\",\"type\":\"Plot\"},{\"attributes\":{},\"id\":\"1812\",\"type\":\"BasicTicker\"},{\"attributes\":{},\"id\":\"1904\",\"type\":\"UnionRenderers\"},{\"attributes\":{\"bottom\":{\"value\":0},\"fill_alpha\":{\"value\":0.1},\"fill_color\":{\"value\":\"#1f77b4\"},\"left\":{\"field\":\"left\"},\"line_alpha\":{\"value\":0.1},\"line_color\":{\"value\":\"#555555\"},\"right\":{\"field\":\"right\"},\"top\":{\"field\":\"top\"}},\"id\":\"1830\",\"type\":\"Quad\"},{\"attributes\":{\"data\":{\"left\":{\"__ndarray__\":\"io1jEV7P0D+Qrqwl5hXRP5bP9TluXNE/nPA+Tvai0T+iEYhifunRP6gy0XYGMNI/rlMai4520j+0dGOfFr3SP7qVrLOeA9M/wLb1xyZK0z/G1z7crpDTP8z4h/A219M/0hnRBL8d1D/XOhoZR2TUP91bYy3PqtQ/43ysQVfx1D/pnfVV3zfVP+++PmpnftU/9d+Hfu/E1T/7ANGSdwvWPwEiGqf/UdY/B0Nju4eY1j8NZKzPD9/WPxOF9eOXJdc/GaY++B9s1z8fx4cMqLLXPyXo0CAw+dc/KwkaNbg/2D8xKmNJQIbYPzdLrF3IzNg/PGz1cVAT2T9CjT6G2FnZP0iuh5pgoNk/Ts/Qrujm2T9U8BnDcC3aP1oRY9f4c9o/YDKs64C62j9mU/X/CAHbP2x0PhSRR9s/cpWHKBmO2z94ttA8odTbP37XGVEpG9w/hPhiZbFh3D+KGax5OajcP5A69Y3B7tw/lls+okk13T+cfIe20XvdP6Kd0MpZwt0/qL4Z3+EI3j+u32LzaU/eP7QArAfyld4/uiH1G3rc3j/AQj4wAiPfP8Zjh0SKad8/zITQWBKw3z/SpRltmvbfP2xjsUCRHuA/7/PVStVB4D9yhPpUGWXgP/QUH19diOA/eKVDaaGr4D/6NWhz5c7gP37GjH0p8uA/AFexh20V4T+E59WRsTjhPwZ4+pv1W+E/iggfpjl/4T8MmUOwfaLhP5ApaLrBxeE/ErqMxAXp4T+WSrHOSQziPxjb1diNL+I/nGv64tFS4j8e/B7tFXbiP6KMQ/dZmeI/JB1oAZ684j+nrYwL4t/iPyo+sRUmA+M/rc7VH2om4z8wX/oprknjP7PvHjTybOM/NoBDPjaQ4z+5EGhIerPjPzyhjFK+1uM/vzGxXAL64z9CwtVmRh3kP8VS+nCKQOQ/SOMee85j5D/Lc0OFEofkP04EaI9WquQ/0ZSMmZrN5D9UJbGj3vDkP9e11a0iFOU/Wkb6t2Y35T/d1h7CqlrlP2BnQ8zufeU/4/dn1jKh5T9miIzgdsTlP+gYseq65+U/bKnV9P4K5j8=\",\"dtype\":\"float64\",\"order\":\"little\",\"shape\":[100]},\"right\":{\"__ndarray__\":\"kK6sJeYV0T+Wz/U5blzRP5zwPk72otE/ohGIYn7p0T+oMtF2BjDSP65TGouOdtI/tHRjnxa90j+6layzngPTP8C29ccmStM/xtc+3K6Q0z/M+IfwNtfTP9IZ0QS/HdQ/1zoaGUdk1D/dW2Mtz6rUP+N8rEFX8dQ/6Z31Vd831T/vvj5qZ37VP/Xfh37vxNU/+wDRkncL1j8BIhqn/1HWPwdDY7uHmNY/DWSszw/f1j8ThfXjlyXXPxmmPvgfbNc/H8eHDKiy1z8l6NAgMPnXPysJGjW4P9g/MSpjSUCG2D83S6xdyMzYPzxs9XFQE9k/Qo0+hthZ2T9IroeaYKDZP07P0K7o5tk/VPAZw3At2j9aEWPX+HPaP2AyrOuAuto/ZlP1/wgB2z9sdD4UkUfbP3KVhygZjts/eLbQPKHU2z9+1xlRKRvcP4T4YmWxYdw/ihmseTmo3D+QOvWNwe7cP5ZbPqJJNd0/nHyHttF73T+indDKWcLdP6i+Gd/hCN4/rt9i82lP3j+0AKwH8pXeP7oh9Rt63N4/wEI+MAIj3z/GY4dEimnfP8yE0FgSsN8/0qUZbZr23z9sY7FAkR7gP+/z1UrVQeA/coT6VBll4D/0FB9fXYjgP3ilQ2mhq+A/+jVoc+XO4D9+xox9KfLgPwBXsYdtFeE/hOfVkbE44T8GePqb9VvhP4oIH6Y5f+E/DJlDsH2i4T+QKWi6wcXhPxK6jMQF6eE/lkqxzkkM4j8Y29XYjS/iP5xr+uLRUuI/Hvwe7RV24j+ijEP3WZniPyQdaAGevOI/p62MC+Lf4j8qPrEVJgPjP63O1R9qJuM/MF/6Ka5J4z+z7x408mzjPzaAQz42kOM/uRBoSHqz4z88oYxSvtbjP78xsVwC+uM/QsLVZkYd5D/FUvpwikDkP0jjHnvOY+Q/y3NDhRKH5D9OBGiPVqrkP9GUjJmazeQ/VCWxo97w5D/XtdWtIhTlP1pG+rdmN+U/3dYewqpa5T9gZ0PM7n3lP+P3Z9YyoeU/ZoiM4HbE5T/oGLHquuflP2yp1fT+CuY/7zn6/kIu5j8=\",\"dtype\":\"float64\",\"order\":\"little\",\"shape\":[100]},\"top\":{\"__ndarray__\":\"TuTFBSl7zT9HWJz0lbzgP1GtOtwAaNw/tHcQetFZ0T8OGFMiJn3JP1NSC/EhazJAKCOuEKC1rj+xrpuj+WzCP9hvs5iCMtE/MUeBav9o2j/Yb7OYgjLBP7Gum6P5bOI/TxszcLQK8j9sUD8TR5XAP2qHyjxvqNE/KCOuEKC1zj93pd36sUCsPxbacQrhpwxAtkCFUKlGwD8R4cf4/WnYP0WPJx6+z8E/cHz+rcOx8j+nishJmrm2P4VbmgHBzcU/ejqn9e+n4j/PS+A+I3+1P4gkD9iYutQ/aL5VZpe70j8TqjzP1Va3P5JHgWr/aLo/iu2DrnCnsz9O5MUFKXutP07kxQUpe50/dz14mDfpPkDYb7OYgjKhPwBilhsX8J8/Hc4PKTUKsz/2DPgzrES0P4rtg65wp7M/xScN5cPLuT8oI64QoLXOPyJg+dXk49A/Hc4PKTUKsz+Pf21bIIHhP07kxQUpe50/9gz4M6xExD+xrpuj+WyyP+zoJNpMkZg/77GZsCR+9z8TqjzP1VanP9hvs5iCMrE/9gz4M6xE1D+K7YOucKejP/ue4eBbHsI/9gz4M6xEtD8AYpYbF/CfP4rtg65wp5M/M0MLynA0F0Ak5cUFKXuNP/vsg65wp5M/VnCzmIIysT9cb7OYgjKxP2Jn9e86Brs/2WX17zoGqz//Y/fiD/XVP0BAhVCpRsA/N6+bo/lsoj+aalTEXhymP0ndaCTaU/0/++yDrnCnkz/ba1TEXhymP0girhCgta4/VnCzmIIywT9548UFKXutP5/pJNpMkZg/Vj8kibBB6j/s6CTaTJGYPxOqPM/VVrc/sa6bo/lsoj/qH7ADdaTZP7Gum6P5bKI/7Ogk2kyRqD8AYpYbF/DPP3el3fqxQKw/2G+zmIIykT+AybBUEfTHP2MsbLnn4cQ/iu2DrnCnoz+xrpuj+WzCP6eKyEmaubY/d6Xd+rFAvD+xrpuj+WyyPztrVMReHLY/sa6bo/lssj87a1TEXhy2P51m9e86Bqs/O2tUxF4cpj83r5uj+WyyP8srbLnn4aQ/N5kuwsBVY0A=\",\"dtype\":\"float64\",\"order\":\"little\",\"shape\":[100]}},\"selected\":{\"id\":\"1903\"},\"selection_policy\":{\"id\":\"1904\"}},\"id\":\"1828\",\"type\":\"ColumnDataSource\"},{\"attributes\":{\"data_source\":{\"id\":\"1828\"},\"glyph\":{\"id\":\"1829\"},\"hover_glyph\":null,\"muted_glyph\":null,\"nonselection_glyph\":{\"id\":\"1830\"},\"view\":{\"id\":\"1832\"}},\"id\":\"1831\",\"type\":\"GlyphRenderer\"},{\"attributes\":{},\"id\":\"1807\",\"type\":\"LinearScale\"},{\"attributes\":{},\"id\":\"1819\",\"type\":\"PanTool\"},{\"attributes\":{\"axis\":{\"id\":\"1815\"},\"dimension\":1,\"ticker\":null},\"id\":\"1818\",\"type\":\"Grid\"},{\"attributes\":{},\"id\":\"1816\",\"type\":\"BasicTicker\"},{\"attributes\":{\"axis\":{\"id\":\"1811\"},\"ticker\":null},\"id\":\"1814\",\"type\":\"Grid\"},{\"attributes\":{\"formatter\":{\"id\":\"1898\"},\"major_label_policy\":{\"id\":\"1899\"},\"ticker\":{\"id\":\"1816\"}},\"id\":\"1815\",\"type\":\"LinearAxis\"},{\"attributes\":{\"source\":{\"id\":\"1828\"}},\"id\":\"1832\",\"type\":\"CDSView\"},{\"attributes\":{},\"id\":\"1805\",\"type\":\"DataRange1d\"},{\"attributes\":{\"formatter\":{\"id\":\"1901\"},\"major_label_policy\":{\"id\":\"1902\"},\"ticker\":{\"id\":\"1812\"}},\"id\":\"1811\",\"type\":\"LinearAxis\"},{\"attributes\":{},\"id\":\"1809\",\"type\":\"LinearScale\"},{\"attributes\":{},\"id\":\"1820\",\"type\":\"WheelZoomTool\"},{\"attributes\":{},\"id\":\"1898\",\"type\":\"BasicTickFormatter\"},{\"attributes\":{},\"id\":\"1899\",\"type\":\"AllLabels\"},{\"attributes\":{\"bottom\":{\"value\":0},\"fill_color\":{\"value\":\"#1f77b4\"},\"left\":{\"field\":\"left\"},\"line_color\":{\"value\":\"#555555\"},\"right\":{\"field\":\"right\"},\"top\":{\"field\":\"top\"}},\"id\":\"1829\",\"type\":\"Quad\"},{\"attributes\":{\"text\":\"MAGHREB Terms Ratios Affinity Distribution\"},\"id\":\"1801\",\"type\":\"Title\"},{\"attributes\":{\"active_multi\":null,\"tools\":[{\"id\":\"1819\"},{\"id\":\"1820\"},{\"id\":\"1821\"},{\"id\":\"1822\"}]},\"id\":\"1823\",\"type\":\"Toolbar\"},{\"attributes\":{},\"id\":\"1901\",\"type\":\"BasicTickFormatter\"},{\"attributes\":{},\"id\":\"1803\",\"type\":\"DataRange1d\"},{\"attributes\":{},\"id\":\"1821\",\"type\":\"ResetTool\"},{\"attributes\":{},\"id\":\"1902\",\"type\":\"AllLabels\"},{\"attributes\":{},\"id\":\"1822\",\"type\":\"SaveTool\"},{\"attributes\":{},\"id\":\"1903\",\"type\":\"Selection\"}],\"root_ids\":[\"1800\"]},\"title\":\"Bokeh Application\",\"version\":\"2.3.3\"}};\n",
       "  var render_items = [{\"docid\":\"8bee4f93-a1c6-4a58-8a8e-bfefe52f06be\",\"root_ids\":[\"1800\"],\"roots\":{\"1800\":\"a422ce0a-7947-4856-9da7-88e0c8872eca\"}}];\n",
       "  root.Bokeh.embed.embed_items_notebook(docs_json, render_items);\n",
       "\n",
       "  }\n",
       "  if (root.Bokeh !== undefined) {\n",
       "    embed_document(root);\n",
       "  } else {\n",
       "    var attempts = 0;\n",
       "    var timer = setInterval(function(root) {\n",
       "      if (root.Bokeh !== undefined) {\n",
       "        clearInterval(timer);\n",
       "        embed_document(root);\n",
       "      } else {\n",
       "        attempts++;\n",
       "        if (attempts > 100) {\n",
       "          clearInterval(timer);\n",
       "          console.log(\"Bokeh: ERROR: Unable to run BokehJS code because BokehJS library is missing\");\n",
       "        }\n",
       "      }\n",
       "    }, 10, root)\n",
       "  }\n",
       "})(window);"
      ],
      "application/vnd.bokehjs_exec.v0+json": ""
     },
     "metadata": {
      "application/vnd.bokehjs_exec.v0+json": {
       "id": "1800"
      }
     },
     "output_type": "display_data"
    },
    {
     "data": {
      "text/html": [
       "\n",
       "\n",
       "\n",
       "\n",
       "\n",
       "\n",
       "  <div class=\"bk-root\" id=\"eeba1e05-5a02-492f-bc21-2976228e07ba\" data-root-id=\"1950\"></div>\n"
      ]
     },
     "metadata": {},
     "output_type": "display_data"
    },
    {
     "data": {
      "application/javascript": [
       "(function(root) {\n",
       "  function embed_document(root) {\n",
       "    \n",
       "  var docs_json = {\"28943087-07e4-4985-8b92-0a88a64ab589\":{\"defs\":[],\"roots\":{\"references\":[{\"attributes\":{\"below\":[{\"id\":\"1961\"}],\"center\":[{\"id\":\"1964\"},{\"id\":\"1968\"}],\"left\":[{\"id\":\"1965\"}],\"renderers\":[{\"id\":\"1981\"}],\"title\":{\"id\":\"1951\"},\"toolbar\":{\"id\":\"1973\"},\"toolbar_location\":\"above\",\"x_range\":{\"id\":\"1953\"},\"x_scale\":{\"id\":\"1957\"},\"y_range\":{\"id\":\"1955\"},\"y_scale\":{\"id\":\"1959\"}},\"id\":\"1950\",\"subtype\":\"Figure\",\"type\":\"Plot\"},{\"attributes\":{\"bottom\":{\"value\":0},\"fill_alpha\":{\"value\":0.1},\"fill_color\":{\"value\":\"#1f77b4\"},\"left\":{\"field\":\"left\"},\"line_alpha\":{\"value\":0.1},\"line_color\":{\"value\":\"#555555\"},\"right\":{\"field\":\"right\"},\"top\":{\"field\":\"top\"}},\"id\":\"1980\",\"type\":\"Quad\"},{\"attributes\":{\"data\":{\"left\":{\"__ndarray__\":\"2OJ6plvN0D/lvazf6BPRP/KY3hh2WtE//3MQUgOh0T8LT0KLkOfRPxgqdMQdLtI/JQWm/ap00j8y4Nc2OLvSPz+7CXDFAdM/TJY7qVJI0z9ZcW3i347TP2ZMnxtt1dM/cifRVPob1D9/AgOOh2LUP4zdNMcUqdQ/mbhmAKLv1D+mk5g5LzbVP7JuynK8fNU/wEn8q0nD1T/MJC7l1gnWP9n/Xx5kUNY/5tqRV/GW1j/ztcOQft3WPwCR9ckLJNc/DGwnA5lq1z8aR1k8JrHXPyYii3Wz99c/M/28rkA+2D9A2O7nzYTYP02zICFby9g/Wo5SWugR2T9maYSTdVjZP3REtswCn9k/gB/oBZDl2T+N+hk/HSzaP5rVS3iqcto/p7B9sTe52j+0i6/qxP/aP8Bm4SNSRts/zkETXd+M2z/aHEWWbNPbP+f3ds/5Gdw/9NKoCIdg3D8BrtpBFKfcPw6JDHuh7dw/GmQ+tC403T8oP3Dtu3rdPzQaoiZJwd0/QfXTX9YH3j9O0AWZY07eP1urN9LwlN4/aIZpC37b3j90YZtECyLfP4I8zX2YaN8/jhf/tiWv3z+c8jDwsvXfP9RmsRQgHuA/WlRKsWZB4D/hQeNNrWTgP2gvfOrzh+A/7hwVhzqr4D90Cq4jgc7gP/r3RsDH8eA/geXfXA4V4T8I03j5VDjhP47AEZabW+E/FK6qMuJ+4T+bm0PPKKLhPyGJ3GtvxeE/qHZ1CLbo4T8uZA6l/AviP7RRp0FDL+I/Oz9A3olS4j/CLNl60HXiP0gachcXmeI/zgcLtF284j9U9aNQpN/iP9viPO3qAuM/YtDViTEm4z/ovW4meEnjP26rB8O+bOM/9ZigXwWQ4z97hjn8S7PjPwJ00piS1uM/iGFrNdn54z8OTwTSHx3kP5U8nW5mQOQ/HCo2C61j5D+iF8+n84bkPygFaEQ6quQ/rvIA4YDN5D814Jl9x/DkP7zNMhoOFOU/QrvLtlQ35T/IqGRTm1rlP0+W/e/hfeU/1YOWjCih5T9ccS8pb8TlP+JeyMW15+U/aExhYvwK5j8=\",\"dtype\":\"float64\",\"order\":\"little\",\"shape\":[100]},\"right\":{\"__ndarray__\":\"5b2s3+gT0T/ymN4YdlrRP/9zEFIDodE/C09Ci5Dn0T8YKnTEHS7SPyUFpv2qdNI/MuDXNji70j8/uwlwxQHTP0yWO6lSSNM/WXFt4t+O0z9mTJ8bbdXTP3In0VT6G9Q/fwIDjodi1D+M3TTHFKnUP5m4ZgCi79Q/ppOYOS821T+ybspyvHzVP8BJ/KtJw9U/zCQu5dYJ1j/Z/18eZFDWP+bakVfxltY/87XDkH7d1j8AkfXJCyTXPwxsJwOZatc/GkdZPCax1z8mIot1s/fXPzP9vK5APtg/QNju582E2D9NsyAhW8vYP1qOUlroEdk/ZmmEk3VY2T90RLbMAp/ZP4Af6AWQ5dk/jfoZPx0s2j+a1Ut4qnLaP6ewfbE3udo/tIuv6sT/2j/AZuEjUkbbP85BE13fjNs/2hxFlmzT2z/n93bP+RncP/TSqAiHYNw/Aa7aQRSn3D8OiQx7oe3cPxpkPrQuNN0/KD9w7bt63T80GqImScHdP0H101/WB94/TtAFmWNO3j9bqzfS8JTeP2iGaQt+294/dGGbRAsi3z+CPM19mGjfP44X/7Ylr98/nPIw8LL13z/UZrEUIB7gP1pUSrFmQeA/4UHjTa1k4D9oL3zq84fgP+4cFYc6q+A/dAquI4HO4D/690bAx/HgP4Hl31wOFeE/CNN4+VQ44T+OwBGWm1vhPxSuqjLifuE/m5tDzyii4T8hidxrb8XhP6h2dQi26OE/LmQOpfwL4j+0UadBQy/iPzs/QN6JUuI/wizZetB14j9IGnIXF5niP84HC7RdvOI/VPWjUKTf4j/b4jzt6gLjP2LQ1YkxJuM/6L1uJnhJ4z9uqwfDvmzjP/WYoF8FkOM/e4Y5/Euz4z8CdNKYktbjP4hhazXZ+eM/Dk8E0h8d5D+VPJ1uZkDkPxwqNgutY+Q/ohfPp/OG5D8oBWhEOqrkP67yAOGAzeQ/NeCZfcfw5D+8zTIaDhTlP0K7y7ZUN+U/yKhkU5ta5T9Plv3v4X3lP9WDlowooeU/XHEvKW/E5T/iXsjFteflP2hMYWL8CuY/7zn6/kIu5j8=\",\"dtype\":\"float64\",\"order\":\"little\",\"shape\":[100]},\"top\":{\"__ndarray__\":\"2tspsLscwz+qDyvTyxHVP5tguepQ3NM/FH+ZoXg+zT8UcnR9/fXBP+4PcERHuCFAWEF5CT7KuT/d7meaEBvGP5dNewD83dA/OvbTIp1d2j/ry/F0t+fJPzdZtZfJbeM/6GBRtUsI8D/nJyJZDxbPP4zynd5WPNg/qD1Dxfeo1z+mnFYr42vCP0BFOTB7OAVA2zKh+CRF0T/mjmmnd5/iPwPDApWCwNA/pioF26Kq9D/u3i9fDObMP/89Q8X3qNc/Lgmq1+yH6T8KLbjHQOfRP9QNELEoAeQ/1A0QsSgB5D/qipuYNlLUP1kTYRcSM9c/GfcDuJK10j+cyOvFZh7QP3+rLjz88Lo/dVGexY+7NkBULjsf6cvGP+d3Xa7hU9E/3e5nmhAb1j+M45U4SF/XP1ZF3+J5Q9Q/Zal7T1603T9FaL092ErkPzzIuzBxxuc/nnP31KXa1j8Zg0vgsc31P/dYHc3OQcc/L1NkMeA74D/BMO4LhwjUP8ttDqTBfMc/VgAjLb00BEAUcnR9/fXRP4dOzsKuat0/YZJvVsho7D+cyOvFZh7QP+yymsSIM98/z0ZiOiIo2T+aP8YcoI3MP89DLPbbBsc/GwgSpL5UIEBPEjGCHNu+P+tpqMqFA80/6fzs6HYT0j+mnFYr42vSP2aTinhred0/vIe4FqO9zj+LCL9KP8/wP/+GNb/62Nk/nV+JVVuEyz9JzPF0t+fJP59A4T5Dng1ALF2Dpgq7sT9+GUpI9pDGP5Vyxz+wgs4/w93cnFlZ4D8hAPOXx9zLP7MdsCEyCsE/V6jOP6oyAEC0vWwmUe+9PyReBv6yn9Y/Le9nmhAbxj9O1kB/177zP1f/8pfH3Ls/LxMxghzbzj+gRK9NhOvrP/fGONnI4cI/98Y42cjhsj+qWLWXyW3jP4UBpoRlGdk/f6suPPzwuj/cxIXsKqXVPzknz5ZcidI/iQlCouez1T/ymaM+RS/FP6jAHxPvK8s/Y86kYVUkxz84+jn82NbEP37QV07zYMQ/CdUQ6uFmuz+areEomi24Py3vZ5oQG6Y/H4KGupyjYkA=\",\"dtype\":\"float64\",\"order\":\"little\",\"shape\":[100]}},\"selected\":{\"id\":\"2062\"},\"selection_policy\":{\"id\":\"2063\"}},\"id\":\"1978\",\"type\":\"ColumnDataSource\"},{\"attributes\":{\"bottom\":{\"value\":0},\"fill_color\":{\"value\":\"#1f77b4\"},\"left\":{\"field\":\"left\"},\"line_color\":{\"value\":\"#555555\"},\"right\":{\"field\":\"right\"},\"top\":{\"field\":\"top\"}},\"id\":\"1979\",\"type\":\"Quad\"},{\"attributes\":{},\"id\":\"1955\",\"type\":\"DataRange1d\"},{\"attributes\":{},\"id\":\"1953\",\"type\":\"DataRange1d\"},{\"attributes\":{},\"id\":\"1969\",\"type\":\"PanTool\"},{\"attributes\":{},\"id\":\"1972\",\"type\":\"SaveTool\"},{\"attributes\":{\"source\":{\"id\":\"1978\"}},\"id\":\"1982\",\"type\":\"CDSView\"},{\"attributes\":{\"formatter\":{\"id\":\"2057\"},\"major_label_policy\":{\"id\":\"2058\"},\"ticker\":{\"id\":\"1966\"}},\"id\":\"1965\",\"type\":\"LinearAxis\"},{\"attributes\":{},\"id\":\"1970\",\"type\":\"WheelZoomTool\"},{\"attributes\":{\"data_source\":{\"id\":\"1978\"},\"glyph\":{\"id\":\"1979\"},\"hover_glyph\":null,\"muted_glyph\":null,\"nonselection_glyph\":{\"id\":\"1980\"},\"view\":{\"id\":\"1982\"}},\"id\":\"1981\",\"type\":\"GlyphRenderer\"},{\"attributes\":{},\"id\":\"2057\",\"type\":\"BasicTickFormatter\"},{\"attributes\":{\"text\":\"GULF Terms Ratios Affinity Distribution\"},\"id\":\"1951\",\"type\":\"Title\"},{\"attributes\":{\"axis\":{\"id\":\"1965\"},\"dimension\":1,\"ticker\":null},\"id\":\"1968\",\"type\":\"Grid\"},{\"attributes\":{\"axis\":{\"id\":\"1961\"},\"ticker\":null},\"id\":\"1964\",\"type\":\"Grid\"},{\"attributes\":{},\"id\":\"1971\",\"type\":\"ResetTool\"},{\"attributes\":{},\"id\":\"2058\",\"type\":\"AllLabels\"},{\"attributes\":{},\"id\":\"1962\",\"type\":\"BasicTicker\"},{\"attributes\":{},\"id\":\"2063\",\"type\":\"UnionRenderers\"},{\"attributes\":{},\"id\":\"1966\",\"type\":\"BasicTicker\"},{\"attributes\":{},\"id\":\"2060\",\"type\":\"BasicTickFormatter\"},{\"attributes\":{\"formatter\":{\"id\":\"2060\"},\"major_label_policy\":{\"id\":\"2061\"},\"ticker\":{\"id\":\"1962\"}},\"id\":\"1961\",\"type\":\"LinearAxis\"},{\"attributes\":{},\"id\":\"2061\",\"type\":\"AllLabels\"},{\"attributes\":{\"active_multi\":null,\"tools\":[{\"id\":\"1969\"},{\"id\":\"1970\"},{\"id\":\"1971\"},{\"id\":\"1972\"}]},\"id\":\"1973\",\"type\":\"Toolbar\"},{\"attributes\":{},\"id\":\"2062\",\"type\":\"Selection\"},{\"attributes\":{},\"id\":\"1959\",\"type\":\"LinearScale\"},{\"attributes\":{},\"id\":\"1957\",\"type\":\"LinearScale\"}],\"root_ids\":[\"1950\"]},\"title\":\"Bokeh Application\",\"version\":\"2.3.3\"}};\n",
       "  var render_items = [{\"docid\":\"28943087-07e4-4985-8b92-0a88a64ab589\",\"root_ids\":[\"1950\"],\"roots\":{\"1950\":\"eeba1e05-5a02-492f-bc21-2976228e07ba\"}}];\n",
       "  root.Bokeh.embed.embed_items_notebook(docs_json, render_items);\n",
       "\n",
       "  }\n",
       "  if (root.Bokeh !== undefined) {\n",
       "    embed_document(root);\n",
       "  } else {\n",
       "    var attempts = 0;\n",
       "    var timer = setInterval(function(root) {\n",
       "      if (root.Bokeh !== undefined) {\n",
       "        clearInterval(timer);\n",
       "        embed_document(root);\n",
       "      } else {\n",
       "        attempts++;\n",
       "        if (attempts > 100) {\n",
       "          clearInterval(timer);\n",
       "          console.log(\"Bokeh: ERROR: Unable to run BokehJS code because BokehJS library is missing\");\n",
       "        }\n",
       "      }\n",
       "    }, 10, root)\n",
       "  }\n",
       "})(window);"
      ],
      "application/vnd.bokehjs_exec.v0+json": ""
     },
     "metadata": {
      "application/vnd.bokehjs_exec.v0+json": {
       "id": "1950"
      }
     },
     "output_type": "display_data"
    },
    {
     "data": {
      "text/html": [
       "\n",
       "\n",
       "\n",
       "\n",
       "\n",
       "\n",
       "  <div class=\"bk-root\" id=\"8f17b868-445b-4e65-b17c-b9f3214bf7c0\" data-root-id=\"2109\"></div>\n"
      ]
     },
     "metadata": {},
     "output_type": "display_data"
    },
    {
     "data": {
      "application/javascript": [
       "(function(root) {\n",
       "  function embed_document(root) {\n",
       "    \n",
       "  var docs_json = {\"fe61dc17-4b0e-4d1a-97c8-c0a0a0e62cdd\":{\"defs\":[],\"roots\":{\"references\":[{\"attributes\":{\"below\":[{\"id\":\"2120\"}],\"center\":[{\"id\":\"2123\"},{\"id\":\"2127\"}],\"left\":[{\"id\":\"2124\"}],\"renderers\":[{\"id\":\"2140\"}],\"title\":{\"id\":\"2110\"},\"toolbar\":{\"id\":\"2132\"},\"toolbar_location\":\"above\",\"x_range\":{\"id\":\"2112\"},\"x_scale\":{\"id\":\"2116\"},\"y_range\":{\"id\":\"2114\"},\"y_scale\":{\"id\":\"2118\"}},\"id\":\"2109\",\"subtype\":\"Figure\",\"type\":\"Plot\"},{\"attributes\":{\"axis\":{\"id\":\"2124\"},\"dimension\":1,\"ticker\":null},\"id\":\"2127\",\"type\":\"Grid\"},{\"attributes\":{\"bottom\":{\"value\":0},\"fill_color\":{\"value\":\"#1f77b4\"},\"left\":{\"field\":\"left\"},\"line_color\":{\"value\":\"#555555\"},\"right\":{\"field\":\"right\"},\"top\":{\"field\":\"top\"}},\"id\":\"2138\",\"type\":\"Quad\"},{\"attributes\":{},\"id\":\"2131\",\"type\":\"SaveTool\"},{\"attributes\":{},\"id\":\"2128\",\"type\":\"PanTool\"},{\"attributes\":{\"active_multi\":null,\"tools\":[{\"id\":\"2128\"},{\"id\":\"2129\"},{\"id\":\"2130\"},{\"id\":\"2131\"}]},\"id\":\"2132\",\"type\":\"Toolbar\"},{\"attributes\":{\"formatter\":{\"id\":\"2225\"},\"major_label_policy\":{\"id\":\"2226\"},\"ticker\":{\"id\":\"2125\"}},\"id\":\"2124\",\"type\":\"LinearAxis\"},{\"attributes\":{},\"id\":\"2130\",\"type\":\"ResetTool\"},{\"attributes\":{\"data\":{\"left\":{\"__ndarray__\":\"wQ22SB/Y0D83zHvzkB7RP62KQZ4CZdE/I0kHSXSr0T+ZB83z5fHRPw/Gkp5XONI/hYRYScl+0j/7Qh70OsXSP3EB5J6sC9M/57+pSR5S0z9efm/0j5jTP9Q8NZ8B39M/Svv6SXMl1D/AucD05GvUPzZ4hp9WstQ/rDZMSsj41D8i9RH1OT/VP5iz15+rhdU/DnKdSh3M1T+EMGP1jhLWP/ruKKAAWdY/cK3uSnKf1j/ma7T14+XWP1wqeqBVLNc/0ug/S8dy1z9IpwX2OLnXP75ly6Cq/9c/NCSRSxxG2D+q4lb2jYzYPyChHKH/0tg/ll/iS3EZ2T8MHqj24l/ZP4LcbaFUptk/+JozTMbs2T9uWfn2NzPaP+QXv6Gpedo/WtaETBvA2j/QlEr3jAbbP0dTEKL+TNs/vRHWTHCT2z8z0Jv34dnbP6mOYaJTINw/H00nTcVm3D+VC+33Nq3cPwvKsqKo89w/gYh4TRo63T/3Rj74i4DdP20FBKP9xt0/48PJTW8N3j9ago/44FPeP9BAVaNSmt4/Rv8aTsTg3j+8veD4NSffPzJ8pqOnbd8/qDpsThm03z8e+TH5ivrfP8rb+1F+IOA/BbteJ7dD4D9AmsH872bgP3t5JNIoiuA/tliHp2Gt4D/xN+p8mtDgPywXTVLT8+A/Z/avJwwX4T+i1RL9RDrhP920ddJ9XeE/GJTYp7aA4T9Tczt976PhP45SnlIox+E/yTEBKGHq4T8EEWT9mQ3iPz/wxtLSMOI/es8pqAtU4j+1rox9RHfiP/CN71J9muI/LG1SKLa94j9mTLX97uDiP6IrGNMnBOM/3Ap7qGAn4z8Y6t19mUrjP1LJQFPSbeM/jqijKAuR4z/Ihwb+Q7TjPwRnadN81+M/PkbMqLX64z96JS9+7h3kP7QEklMnQeQ/8OP0KGBk5D8qw1f+mIfkP2aiutPRquQ/oIEdqQrO5D/cYIB+Q/HkPxZA41N8FOU/Uh9GKbU35T+M/qj+7VrlP8jdC9QmfuU/Ar1uqV+h5T8+nNF+mMTlP3l7NFTR5+U/tFqXKQoL5j8=\",\"dtype\":\"float64\",\"order\":\"little\",\"shape\":[100]},\"right\":{\"__ndarray__\":\"N8x785Ae0T+tikGeAmXRPyNJB0l0q9E/mQfN8+Xx0T8PxpKeVzjSP4WEWEnJftI/+0Ie9DrF0j9xAeSerAvTP+e/qUkeUtM/Xn5v9I+Y0z/UPDWfAd/TP0r7+klzJdQ/wLnA9ORr1D82eIafVrLUP6w2TErI+NQ/IvUR9Tk/1T+Ys9efq4XVPw5ynUodzNU/hDBj9Y4S1j/67iigAFnWP3Ct7kpyn9Y/5mu09ePl1j9cKnqgVSzXP9LoP0vHctc/SKcF9ji51z++Zcugqv/XPzQkkUscRtg/quJW9o2M2D8goRyh/9LYP5Zf4ktxGdk/DB6o9uJf2T+C3G2hVKbZP/iaM0zG7Nk/bln59jcz2j/kF7+hqXnaP1rWhEwbwNo/0JRK94wG2z9HUxCi/kzbP70R1kxwk9s/M9Cb9+HZ2z+pjmGiUyDcPx9NJ03FZtw/lQvt9zat3D8LyrKiqPPcP4GIeE0aOt0/90Y++IuA3T9tBQSj/cbdP+PDyU1vDd4/WoKP+OBT3j/QQFWjUpreP0b/Gk7E4N4/vL3g+DUn3z8yfKajp23fP6g6bE4ZtN8/Hvkx+Yr63z/K2/tRfiDgPwW7Xie3Q+A/QJrB/O9m4D97eSTSKIrgP7ZYh6dhreA/8TfqfJrQ4D8sF01S0/PgP2f2rycMF+E/otUS/UQ64T/dtHXSfV3hPxiU2Ke2gOE/U3M7fe+j4T+OUp5SKMfhP8kxAShh6uE/BBFk/ZkN4j8/8MbS0jDiP3rPKagLVOI/ta6MfUR34j/wje9SfZriPyxtUii2veI/Zky1/e7g4j+iKxjTJwTjP9wKe6hgJ+M/GOrdfZlK4z9SyUBT0m3jP46ooygLkeM/yIcG/kO04z8EZ2nTfNfjPz5GzKi1+uM/eiUvfu4d5D+0BJJTJ0HkP/Dj9ChgZOQ/KsNX/piH5D9morrT0arkP6CBHakKzuQ/3GCAfkPx5D8WQONTfBTlP1IfRim1N+U/jP6o/u1a5T/I3QvUJn7lPwK9bqlfoeU/PpzRfpjE5T95ezRU0eflP7RalykKC+Y/7zn6/kIu5j8=\",\"dtype\":\"float64\",\"order\":\"little\",\"shape\":[100]},\"top\":{\"__ndarray__\":\"tVBhZGnAtj+TEY+hVXzSP4f8SAtPEME/h/xIC08QsT+1UGFkacCWP3Srn8XWozlAh/xIC08QoT/hpHm9g3CsP+Gkeb2DcKw/eqR5vYNwvD/3zgXqkEjPP7VQYWRpwKY/kxGPoVV84j8AAAAAAAAAAJ4m1Tdc6MM/tVBhZGnApj+1UGFkacCGPz0iEd0kxgVA4aR5vYNwvD+TEY+hVXzCP7VQYWRpwKY/Z7aJKGH55D+1UGFkacCmP4f8SAtPEKE/7Lm/U4rczT/Keu2Qdpi5P7VQYWRpwIY/ynrtkHaYuT+eJtU3XOizP+Gkeb2DcKw/h/xIC08QoT+1UGFkacCGPwAAAAAAAAAAiOiKb1QXQ0C1UGFkacCGP4f8SAtPEKE/tVBhZGnAhj9J/EgLTxChP7VQYWRpwIY/tVBhZGnAhj+1UGFkacC2P5MRj6FVfMI/tVBhZGnAhj/sub9TitzNP7VQYWRpwIY/h/xIC08QoT+H/EgLTxChP7VQYWRpwIY/vCkLY4XL7D+1UGFkacCmP7VQYWRpwKY/h/xIC08QwT+1UGFkacCmP4f8SAtPEKE/h/xIC08QoT+1UGFkacCGP7VQYWRpwIY/ZegP287WDkAAAAAAAAAAALVQYWRpwJY/tVBhZGnAhj+1UGFkacCmP7VQYWRpwJY/tVBhZGnAhj/WjzMnfQTLP4f8SAtPEKE/tVBhZGnApj8AAAAAAAAAADtUl4+So+8/AAAAAAAAAAC1UGFkacCWP7VQYWRpwJY/tVBhZGnAtj+H/EgLTxChPw9QYWRpwJY/5VuEr2x21z8PUGFkacCWP1pRYWRpwKY/D1BhZGnAlj+bkDMnfQTLPwAAAAAAAAAAWlFhZGnAlj8POxvOYlTFP1pRYWRpwIY/EqR5vYNwrD9aUWFkacCWPxKkeb2DcKw/AAAAAAAAAAAPUGFkacCmP1pRYWRpwKY/EqR5vYNwvD8uJ9U3XOizPwAAAAAAAAAALifVN1zosz8PUGFkacCmP1pRYWRpwJY/D1BhZGnAhj8AAAAAAAAAALVQYWRpwIY/OIWT9no0Y0A=\",\"dtype\":\"float64\",\"order\":\"little\",\"shape\":[100]}},\"selected\":{\"id\":\"2230\"},\"selection_policy\":{\"id\":\"2231\"}},\"id\":\"2137\",\"type\":\"ColumnDataSource\"},{\"attributes\":{\"source\":{\"id\":\"2137\"}},\"id\":\"2141\",\"type\":\"CDSView\"},{\"attributes\":{\"text\":\"SODAN Terms Ratios Affinity Distribution\"},\"id\":\"2110\",\"type\":\"Title\"},{\"attributes\":{\"bottom\":{\"value\":0},\"fill_alpha\":{\"value\":0.1},\"fill_color\":{\"value\":\"#1f77b4\"},\"left\":{\"field\":\"left\"},\"line_alpha\":{\"value\":0.1},\"line_color\":{\"value\":\"#555555\"},\"right\":{\"field\":\"right\"},\"top\":{\"field\":\"top\"}},\"id\":\"2139\",\"type\":\"Quad\"},{\"attributes\":{\"axis\":{\"id\":\"2120\"},\"ticker\":null},\"id\":\"2123\",\"type\":\"Grid\"},{\"attributes\":{},\"id\":\"2129\",\"type\":\"WheelZoomTool\"},{\"attributes\":{},\"id\":\"2125\",\"type\":\"BasicTicker\"},{\"attributes\":{},\"id\":\"2121\",\"type\":\"BasicTicker\"},{\"attributes\":{},\"id\":\"2225\",\"type\":\"BasicTickFormatter\"},{\"attributes\":{\"formatter\":{\"id\":\"2228\"},\"major_label_policy\":{\"id\":\"2229\"},\"ticker\":{\"id\":\"2121\"}},\"id\":\"2120\",\"type\":\"LinearAxis\"},{\"attributes\":{},\"id\":\"2226\",\"type\":\"AllLabels\"},{\"attributes\":{},\"id\":\"2118\",\"type\":\"LinearScale\"},{\"attributes\":{},\"id\":\"2228\",\"type\":\"BasicTickFormatter\"},{\"attributes\":{},\"id\":\"2112\",\"type\":\"DataRange1d\"},{\"attributes\":{},\"id\":\"2116\",\"type\":\"LinearScale\"},{\"attributes\":{},\"id\":\"2229\",\"type\":\"AllLabels\"},{\"attributes\":{},\"id\":\"2230\",\"type\":\"Selection\"},{\"attributes\":{},\"id\":\"2231\",\"type\":\"UnionRenderers\"},{\"attributes\":{},\"id\":\"2114\",\"type\":\"DataRange1d\"},{\"attributes\":{\"data_source\":{\"id\":\"2137\"},\"glyph\":{\"id\":\"2138\"},\"hover_glyph\":null,\"muted_glyph\":null,\"nonselection_glyph\":{\"id\":\"2139\"},\"view\":{\"id\":\"2141\"}},\"id\":\"2140\",\"type\":\"GlyphRenderer\"}],\"root_ids\":[\"2109\"]},\"title\":\"Bokeh Application\",\"version\":\"2.3.3\"}};\n",
       "  var render_items = [{\"docid\":\"fe61dc17-4b0e-4d1a-97c8-c0a0a0e62cdd\",\"root_ids\":[\"2109\"],\"roots\":{\"2109\":\"8f17b868-445b-4e65-b17c-b9f3214bf7c0\"}}];\n",
       "  root.Bokeh.embed.embed_items_notebook(docs_json, render_items);\n",
       "\n",
       "  }\n",
       "  if (root.Bokeh !== undefined) {\n",
       "    embed_document(root);\n",
       "  } else {\n",
       "    var attempts = 0;\n",
       "    var timer = setInterval(function(root) {\n",
       "      if (root.Bokeh !== undefined) {\n",
       "        clearInterval(timer);\n",
       "        embed_document(root);\n",
       "      } else {\n",
       "        attempts++;\n",
       "        if (attempts > 100) {\n",
       "          clearInterval(timer);\n",
       "          console.log(\"Bokeh: ERROR: Unable to run BokehJS code because BokehJS library is missing\");\n",
       "        }\n",
       "      }\n",
       "    }, 10, root)\n",
       "  }\n",
       "})(window);"
      ],
      "application/vnd.bokehjs_exec.v0+json": ""
     },
     "metadata": {
      "application/vnd.bokehjs_exec.v0+json": {
       "id": "2109"
      }
     },
     "output_type": "display_data"
    }
   ],
   "source": [
    "for dialect in df['dialect'].unique():\n",
    "    hist, edges = np.histogram(list(map(lambda x:x[1], reversed(logs_of_dialect_words[dialect].most_common()))), \n",
    "                              density=True, bins=100,normed=True)\n",
    "\n",
    "    p = figure(tools='pan,wheel_zoom,reset,save', \n",
    "               toolbar_location='above',\n",
    "               title = dialect+' Terms Ratios Affinity Distribution')\n",
    "\n",
    "    p.quad(top=hist, bottom=0, left=edges[:-1], right=edges[1:], line_color='#555555')\n",
    "    show(p)"
   ]
  },
  {
   "cell_type": "code",
   "execution_count": 42,
   "id": "cf318557",
   "metadata": {
    "id": "cf318557"
   },
   "outputs": [],
   "source": [
    "terms_in_ratio = set()\n",
    "for dialect in df['dialect'].unique():\n",
    "    for term in ratios_of_dialect_words[dialect].keys():\n",
    "        terms_in_ratio.add(term)\n",
    "        \n",
    "terms_in_ratio = list(terms_in_ratio)"
   ]
  },
  {
   "cell_type": "code",
   "execution_count": 43,
   "id": "3600b2d8",
   "metadata": {
    "colab": {
     "base_uri": "https://localhost:8080/"
    },
    "id": "3600b2d8",
    "outputId": "fc6379eb-0eb3-49df-f904-2861adc01e6c"
   },
   "outputs": [
    {
     "data": {
      "text/plain": [
       "505485"
      ]
     },
     "execution_count": 43,
     "metadata": {},
     "output_type": "execute_result"
    }
   ],
   "source": [
    "len(terms_in_ratio)"
   ]
  },
  {
   "cell_type": "code",
   "execution_count": 44,
   "id": "ff1adb56",
   "metadata": {
    "id": "ff1adb56"
   },
   "outputs": [],
   "source": [
    "high_weight_terms = set()\n",
    "for dialect in df['dialect'].unique():\n",
    "    for term in logs_of_dialect_words[dialect].keys():\n",
    "        high_weight_terms.add(term)\n",
    "        \n",
    "high_weight_terms = list(high_weight_terms)"
   ]
  },
  {
   "cell_type": "code",
   "execution_count": 45,
   "id": "c4c6061b",
   "metadata": {
    "colab": {
     "base_uri": "https://localhost:8080/"
    },
    "id": "c4c6061b",
    "outputId": "1bdb93b2-66e7-44d9-fdfe-467be55249b9"
   },
   "outputs": [
    {
     "data": {
      "text/plain": [
       "503711"
      ]
     },
     "execution_count": 45,
     "metadata": {},
     "output_type": "execute_result"
    }
   ],
   "source": [
    "len(high_weight_terms)"
   ]
  },
  {
   "cell_type": "markdown",
   "id": "8bb5cab8",
   "metadata": {
    "id": "8bb5cab8"
   },
   "source": [
    ">We can see that before using we had 503490 unique terms but now 422793 unique terms. And now we removed the Arabic stop words that we could not remove before."
   ]
  },
  {
   "cell_type": "markdown",
   "id": "34e97a30",
   "metadata": {
    "id": "34e97a30"
   },
   "source": [
    "---"
   ]
  }
 ],
 "metadata": {
  "colab": {
   "collapsed_sections": [
    "715ff0e7",
    "e367f544",
    "857fd500",
    "f014bca8",
    "14b68916",
    "f1449611"
   ],
   "name": "Arabic Dialect Identification - Data Pre-processing 5 Class.ipynb",
   "provenance": []
  },
  "kernelspec": {
   "display_name": "Python 3 (ipykernel)",
   "language": "python",
   "name": "python3"
  },
  "language_info": {
   "codemirror_mode": {
    "name": "ipython",
    "version": 3
   },
   "file_extension": ".py",
   "mimetype": "text/x-python",
   "name": "python",
   "nbconvert_exporter": "python",
   "pygments_lexer": "ipython3",
   "version": "3.9.5"
  }
 },
 "nbformat": 4,
 "nbformat_minor": 5
}
