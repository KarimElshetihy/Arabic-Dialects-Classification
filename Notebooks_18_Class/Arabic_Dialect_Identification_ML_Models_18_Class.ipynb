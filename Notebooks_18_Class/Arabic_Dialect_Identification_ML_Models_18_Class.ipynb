{
 "cells": [
  {
   "cell_type": "markdown",
   "id": "766b507e",
   "metadata": {
    "id": "766b507e"
   },
   "source": [
    "# Arabic Dialect Identification - Applying Machine Learning\n",
    "## By Karim Elshetihy\n",
    "- [Github](https://github.com/KarimElshetihy)\n",
    "- [Linkedin](https://www.linkedin.com/in/karim-el-shetihy/)"
   ]
  },
  {
   "cell_type": "markdown",
   "id": "c9d2ec3d",
   "metadata": {
    "id": "c9d2ec3d"
   },
   "source": [
    "#### Referances:\n",
    "- [Arabic Dialict Identification in the Wild Paper](https://arxiv.org/pdf/2005.06557.pdf)\n",
    "- [Flask Tutorial](https://programminghistorian.org/en/lessons/creating-apis-with-python-and-flask)\n",
    "- [Multinomial Classification](https://towardsdatascience.com/the-complete-guide-to-neural-networks-multinomial-classification-4fe88bde7839)\n",
    "- [Multi-class text classification model with Keras](https://www.design-ai.de/blog-posts/multi-class-text-classification-model-with-keras)\n",
    "- [Word Embedding and Text Vectorization](https://www.analyticsvidhya.com/blog/2021/06/part-5-step-by-step-guide-to-master-nlp-text-vectorization-approaches/)\n",
    "\n",
    "\n",
    "#### The Dataset:\n",
    "The dataset and the dialect identification problem were addressed by Qatar Computing Research Institute, moreover, they published a paper, feel free to get more insights from it [Here](https://arxiv.org/pdf/2005.06557.pdf).\n",
    "\n",
    "We are given a dataset which has 2 columns, **id** and **dialect**.\n",
    "- Target label column is the **dialect***, which has 18 classes.\n",
    "- The **id** column will be used to retrieve the text, to do that, you need to call this API by a\n",
    "POST request. https://recruitment.aimtechnologies.co/ai-tasks.\n",
    "- The request body must be a JSON as a list of strings, and the size of the list must NOT exceed 1000.\n",
    "- The API will return a dictionary where the keys are the ids, and the values are the text, here is a request and response sample."
   ]
  },
  {
   "cell_type": "markdown",
   "id": "82531fb0",
   "metadata": {
    "id": "82531fb0"
   },
   "source": [
    "### Importing Packages"
   ]
  },
  {
   "cell_type": "code",
   "execution_count": 1,
   "id": "Bdq4nCHEadoo",
   "metadata": {
    "colab": {
     "base_uri": "https://localhost:8080/"
    },
    "id": "Bdq4nCHEadoo",
    "outputId": "2f75be07-c888-4f3f-e695-b0d9a0ed6989"
   },
   "outputs": [
    {
     "name": "stdout",
     "output_type": "stream",
     "text": [
      "Mounted at /content/drive\n"
     ]
    }
   ],
   "source": [
    "from google.colab import drive\n",
    "drive.mount('/content/drive')"
   ]
  },
  {
   "cell_type": "code",
   "execution_count": 2,
   "id": "ee3deac9",
   "metadata": {
    "id": "ee3deac9"
   },
   "outputs": [],
   "source": [
    "import numpy as np\n",
    "import pandas as pd\n",
    "import matplotlib.pyplot as plt\n",
    "from matplotlib import rcParams\n",
    "import seaborn as sb\n",
    "\n",
    "# Data Preparing Tools\n",
    "from sklearn.model_selection import train_test_split\n",
    "from sklearn.feature_extraction.text import CountVectorizer\n",
    "from sklearn.feature_extraction.text import TfidfVectorizer\n",
    "from sklearn.feature_extraction.text import TfidfTransformer\n",
    "from sklearn.feature_selection import chi2\n",
    "from sklearn.metrics import classification_report\n",
    "\n",
    "# Machine Learning Algorithms\n",
    "from sklearn.naive_bayes import MultinomialNB\n",
    "from sklearn.linear_model import LogisticRegression\n",
    "from sklearn.ensemble import RandomForestClassifier\n",
    "from sklearn.svm import LinearSVC\n",
    "\n",
    "# To save the models\n",
    "import pickle\n",
    "import joblib\n",
    "\n",
    "np.random.seed(1)\n",
    "%matplotlib inline\n",
    "sb.set_theme()\n",
    "\n",
    "import warnings\n",
    "warnings.simplefilter(\"ignore\")"
   ]
  },
  {
   "cell_type": "markdown",
   "id": "fa928eb0",
   "metadata": {
    "id": "fa928eb0"
   },
   "source": [
    "### Importing the Cleaned Dataset"
   ]
  },
  {
   "cell_type": "code",
   "execution_count": 38,
   "id": "05c6b538",
   "metadata": {
    "id": "05c6b538"
   },
   "outputs": [],
   "source": [
    "clean_df = pd.read_csv(\"/content/drive/MyDrive/Colab/Arabic Dialect Classifier/clean_text.csv\")\n",
    "df = clean_df.copy()\n",
    "df = df.sample(frac=1).reset_index(drop=True)"
   ]
  },
  {
   "cell_type": "code",
   "execution_count": 39,
   "id": "76514a4e",
   "metadata": {
    "colab": {
     "base_uri": "https://localhost:8080/",
     "height": 206
    },
    "id": "76514a4e",
    "outputId": "be6d1252-9a98-4c5c-fc0c-9296ddaf16c3"
   },
   "outputs": [
    {
     "data": {
      "text/html": [
       "\n",
       "  <div id=\"df-f4433951-312c-4bae-be16-18e838bcfd10\">\n",
       "    <div class=\"colab-df-container\">\n",
       "      <div>\n",
       "<style scoped>\n",
       "    .dataframe tbody tr th:only-of-type {\n",
       "        vertical-align: middle;\n",
       "    }\n",
       "\n",
       "    .dataframe tbody tr th {\n",
       "        vertical-align: top;\n",
       "    }\n",
       "\n",
       "    .dataframe thead th {\n",
       "        text-align: right;\n",
       "    }\n",
       "</style>\n",
       "<table border=\"1\" class=\"dataframe\">\n",
       "  <thead>\n",
       "    <tr style=\"text-align: right;\">\n",
       "      <th></th>\n",
       "      <th>id</th>\n",
       "      <th>dialect</th>\n",
       "      <th>text</th>\n",
       "    </tr>\n",
       "  </thead>\n",
       "  <tbody>\n",
       "    <tr>\n",
       "      <th>0</th>\n",
       "      <td>875655807819407360</td>\n",
       "      <td>DZ</td>\n",
       "      <td>اكيد اصير هيك اصلا مصورينو بتونس</td>\n",
       "    </tr>\n",
       "    <tr>\n",
       "      <th>1</th>\n",
       "      <td>513606860906061824</td>\n",
       "      <td>AE</td>\n",
       "      <td>وش حيلة شاف عينك بلد غابت عيونك يحس أنه غريب ف...</td>\n",
       "    </tr>\n",
       "    <tr>\n",
       "      <th>2</th>\n",
       "      <td>1176187287639605248</td>\n",
       "      <td>LB</td>\n",
       "      <td>اي طبعا السقعه بالليل صرلها فتره بلبنان اكتر ا...</td>\n",
       "    </tr>\n",
       "    <tr>\n",
       "      <th>3</th>\n",
       "      <td>1185510058500804608</td>\n",
       "      <td>YE</td>\n",
       "      <td>الترفيه والوناسه مالها دخل بالعادات واغلب الشع...</td>\n",
       "    </tr>\n",
       "    <tr>\n",
       "      <th>4</th>\n",
       "      <td>1153990462795112448</td>\n",
       "      <td>OM</td>\n",
       "      <td>مأجورة الأستاذة الدكتورة أنوس يلا خططي العالم ...</td>\n",
       "    </tr>\n",
       "  </tbody>\n",
       "</table>\n",
       "</div>\n",
       "      <button class=\"colab-df-convert\" onclick=\"convertToInteractive('df-f4433951-312c-4bae-be16-18e838bcfd10')\"\n",
       "              title=\"Convert this dataframe to an interactive table.\"\n",
       "              style=\"display:none;\">\n",
       "        \n",
       "  <svg xmlns=\"http://www.w3.org/2000/svg\" height=\"24px\"viewBox=\"0 0 24 24\"\n",
       "       width=\"24px\">\n",
       "    <path d=\"M0 0h24v24H0V0z\" fill=\"none\"/>\n",
       "    <path d=\"M18.56 5.44l.94 2.06.94-2.06 2.06-.94-2.06-.94-.94-2.06-.94 2.06-2.06.94zm-11 1L8.5 8.5l.94-2.06 2.06-.94-2.06-.94L8.5 2.5l-.94 2.06-2.06.94zm10 10l.94 2.06.94-2.06 2.06-.94-2.06-.94-.94-2.06-.94 2.06-2.06.94z\"/><path d=\"M17.41 7.96l-1.37-1.37c-.4-.4-.92-.59-1.43-.59-.52 0-1.04.2-1.43.59L10.3 9.45l-7.72 7.72c-.78.78-.78 2.05 0 2.83L4 21.41c.39.39.9.59 1.41.59.51 0 1.02-.2 1.41-.59l7.78-7.78 2.81-2.81c.8-.78.8-2.07 0-2.86zM5.41 20L4 18.59l7.72-7.72 1.47 1.35L5.41 20z\"/>\n",
       "  </svg>\n",
       "      </button>\n",
       "      \n",
       "  <style>\n",
       "    .colab-df-container {\n",
       "      display:flex;\n",
       "      flex-wrap:wrap;\n",
       "      gap: 12px;\n",
       "    }\n",
       "\n",
       "    .colab-df-convert {\n",
       "      background-color: #E8F0FE;\n",
       "      border: none;\n",
       "      border-radius: 50%;\n",
       "      cursor: pointer;\n",
       "      display: none;\n",
       "      fill: #1967D2;\n",
       "      height: 32px;\n",
       "      padding: 0 0 0 0;\n",
       "      width: 32px;\n",
       "    }\n",
       "\n",
       "    .colab-df-convert:hover {\n",
       "      background-color: #E2EBFA;\n",
       "      box-shadow: 0px 1px 2px rgba(60, 64, 67, 0.3), 0px 1px 3px 1px rgba(60, 64, 67, 0.15);\n",
       "      fill: #174EA6;\n",
       "    }\n",
       "\n",
       "    [theme=dark] .colab-df-convert {\n",
       "      background-color: #3B4455;\n",
       "      fill: #D2E3FC;\n",
       "    }\n",
       "\n",
       "    [theme=dark] .colab-df-convert:hover {\n",
       "      background-color: #434B5C;\n",
       "      box-shadow: 0px 1px 3px 1px rgba(0, 0, 0, 0.15);\n",
       "      filter: drop-shadow(0px 1px 2px rgba(0, 0, 0, 0.3));\n",
       "      fill: #FFFFFF;\n",
       "    }\n",
       "  </style>\n",
       "\n",
       "      <script>\n",
       "        const buttonEl =\n",
       "          document.querySelector('#df-f4433951-312c-4bae-be16-18e838bcfd10 button.colab-df-convert');\n",
       "        buttonEl.style.display =\n",
       "          google.colab.kernel.accessAllowed ? 'block' : 'none';\n",
       "\n",
       "        async function convertToInteractive(key) {\n",
       "          const element = document.querySelector('#df-f4433951-312c-4bae-be16-18e838bcfd10');\n",
       "          const dataTable =\n",
       "            await google.colab.kernel.invokeFunction('convertToInteractive',\n",
       "                                                     [key], {});\n",
       "          if (!dataTable) return;\n",
       "\n",
       "          const docLinkHtml = 'Like what you see? Visit the ' +\n",
       "            '<a target=\"_blank\" href=https://colab.research.google.com/notebooks/data_table.ipynb>data table notebook</a>'\n",
       "            + ' to learn more about interactive tables.';\n",
       "          element.innerHTML = '';\n",
       "          dataTable['output_type'] = 'display_data';\n",
       "          await google.colab.output.renderOutput(dataTable, element);\n",
       "          const docLink = document.createElement('div');\n",
       "          docLink.innerHTML = docLinkHtml;\n",
       "          element.appendChild(docLink);\n",
       "        }\n",
       "      </script>\n",
       "    </div>\n",
       "  </div>\n",
       "  "
      ],
      "text/plain": [
       "                    id dialect  \\\n",
       "0   875655807819407360      DZ   \n",
       "1   513606860906061824      AE   \n",
       "2  1176187287639605248      LB   \n",
       "3  1185510058500804608      YE   \n",
       "4  1153990462795112448      OM   \n",
       "\n",
       "                                                text  \n",
       "0                   اكيد اصير هيك اصلا مصورينو بتونس  \n",
       "1  وش حيلة شاف عينك بلد غابت عيونك يحس أنه غريب ف...  \n",
       "2  اي طبعا السقعه بالليل صرلها فتره بلبنان اكتر ا...  \n",
       "3  الترفيه والوناسه مالها دخل بالعادات واغلب الشع...  \n",
       "4  مأجورة الأستاذة الدكتورة أنوس يلا خططي العالم ...  "
      ]
     },
     "execution_count": 39,
     "metadata": {},
     "output_type": "execute_result"
    }
   ],
   "source": [
    "df.head()"
   ]
  },
  {
   "cell_type": "code",
   "execution_count": 5,
   "id": "f95CIaVjTJKu",
   "metadata": {
    "colab": {
     "base_uri": "https://localhost:8080/"
    },
    "id": "f95CIaVjTJKu",
    "outputId": "19813b56-ba0c-4eb1-9c7a-fedb5ba008cf"
   },
   "outputs": [
    {
     "data": {
      "text/plain": [
       "(458197, 3)"
      ]
     },
     "execution_count": 5,
     "metadata": {},
     "output_type": "execute_result"
    }
   ],
   "source": [
    "df.shape"
   ]
  },
  {
   "cell_type": "code",
   "execution_count": 6,
   "id": "mxazuIgW9T61",
   "metadata": {
    "colab": {
     "base_uri": "https://localhost:8080/"
    },
    "id": "mxazuIgW9T61",
    "outputId": "1a8335c4-884a-47c1-f9b0-83437a02131c"
   },
   "outputs": [
    {
     "name": "stdout",
     "output_type": "stream",
     "text": [
      "<class 'pandas.core.frame.DataFrame'>\n",
      "RangeIndex: 458197 entries, 0 to 458196\n",
      "Data columns (total 3 columns):\n",
      " #   Column   Non-Null Count   Dtype \n",
      "---  ------   --------------   ----- \n",
      " 0   id       458197 non-null  int64 \n",
      " 1   dialect  458197 non-null  object\n",
      " 2   text     458197 non-null  object\n",
      "dtypes: int64(1), object(2)\n",
      "memory usage: 10.5+ MB\n"
     ]
    }
   ],
   "source": [
    "df.info()"
   ]
  },
  {
   "cell_type": "markdown",
   "id": "Lsa61dK2clwD",
   "metadata": {
    "id": "Lsa61dK2clwD"
   },
   "source": [
    "### Applying TFIDF"
   ]
  },
  {
   "cell_type": "code",
   "execution_count": 7,
   "id": "apjujpRcKpXJ",
   "metadata": {
    "colab": {
     "base_uri": "https://localhost:8080/"
    },
    "id": "apjujpRcKpXJ",
    "outputId": "370e8fa6-a735-4361-e6d3-db3e7efaaa0c"
   },
   "outputs": [
    {
     "name": "stdout",
     "output_type": "stream",
     "text": [
      "Features Shape: (458197, 2029)\n"
     ]
    }
   ],
   "source": [
    "tfidf = TfidfVectorizer(min_df=300, norm='l1', ngram_range=(1, 1))\n",
    "features = tfidf.fit_transform(df['text']).toarray()\n",
    "print('Features Shape: {}'.format(features.shape))"
   ]
  },
  {
   "cell_type": "markdown",
   "id": "294d6440",
   "metadata": {
    "id": "294d6440"
   },
   "source": [
    "### Encoding Columns"
   ]
  },
  {
   "cell_type": "code",
   "execution_count": 8,
   "id": "53b24853",
   "metadata": {
    "id": "53b24853"
   },
   "outputs": [],
   "source": [
    "df['dialect_id'] = df['dialect'].factorize()[0]\n",
    "targets = df['dialect_id']\n",
    "\n",
    "dialect_to_id = dict(zip(df['dialect'].unique(), df['dialect_id'].unique()))\n",
    "id_to_dialect = dict(zip(df['dialect_id'].unique(), df['dialect'].unique()))"
   ]
  },
  {
   "cell_type": "code",
   "execution_count": 10,
   "id": "sjuGtw2_KpZv",
   "metadata": {
    "colab": {
     "base_uri": "https://localhost:8080/"
    },
    "id": "sjuGtw2_KpZv",
    "outputId": "45cb8abb-95c5-481c-f361-d4ef6918d9fa"
   },
   "outputs": [
    {
     "name": "stdout",
     "output_type": "stream",
     "text": [
      "# 'AE':\n",
      "  . Most correlated unigrams:\n",
      ". الوصل\n",
      ". مب\n",
      "# 'BH':\n",
      "  . Most correlated unigrams:\n",
      ". عبدالعزيز\n",
      ". البحرين\n",
      "# 'DZ':\n",
      "  . Most correlated unigrams:\n",
      ". واش\n",
      ". غازي\n",
      "# 'EG':\n",
      "  . Most correlated unigrams:\n",
      ". فى\n",
      ". ده\n",
      "# 'IQ':\n",
      "  . Most correlated unigrams:\n",
      ". هيج\n",
      ". هسه\n",
      "# 'JO':\n",
      "  . Most correlated unigrams:\n",
      ". اشي\n",
      ". بلال\n",
      "# 'KW':\n",
      "  . Most correlated unigrams:\n",
      ". مو\n",
      ". الكويت\n",
      "# 'LB':\n",
      "  . Most correlated unigrams:\n",
      ". عم\n",
      ". هيدا\n",
      "# 'LY':\n",
      "  . Most correlated unigrams:\n",
      ". توا\n",
      ". شن\n",
      "# 'MA':\n",
      "  . Most correlated unigrams:\n",
      ". راه\n",
      ". ديال\n",
      "# 'OM':\n",
      "  . Most correlated unigrams:\n",
      ". تو\n",
      ". عمان\n",
      "# 'PL':\n",
      "  . Most correlated unigrams:\n",
      ". هادا\n",
      ". اشي\n",
      "# 'QA':\n",
      "  . Most correlated unigrams:\n",
      ". تميم\n",
      ". قطر\n",
      "# 'SA':\n",
      "  . Most correlated unigrams:\n",
      ". النصر\n",
      ". الهلال\n",
      "# 'SD':\n",
      "  . Most correlated unigrams:\n",
      ". دي\n",
      ". دا\n",
      "# 'SY':\n",
      "  . Most correlated unigrams:\n",
      ". عم\n",
      ". مواليد\n",
      "# 'TN':\n",
      "  . Most correlated unigrams:\n",
      ". برشا\n",
      ". تونس\n",
      "# 'YE':\n",
      "  . Most correlated unigrams:\n",
      ". اخبار\n",
      ". اليمن\n"
     ]
    }
   ],
   "source": [
    "# Printing some TFIDF Results &\n",
    "# Applying chi-sequared test to the TFIDF features\n",
    "N = 2\n",
    "\n",
    "for dialect, dialect_id in sorted(dialect_to_id.items()):\n",
    "    features_chi2 = chi2(features, targets == dialect_id)\n",
    "    indices = np.argsort(features_chi2[0])\n",
    "    feature_names = np.array(tfidf.get_feature_names())[indices]\n",
    "    unigrams = [v for v in feature_names if len(v.split(' ')) == 1]\n",
    "    # bigrams = [v for v in feature_names if len(v.split(' ')) == 2]\n",
    "\n",
    "    print(\"# '{}':\".format(dialect))\n",
    "    print(\"  . Most correlated unigrams:\\n. {}\".format('\\n. '.join(unigrams[-N:])))\n",
    "    # print(\"  . Most correlated bigrams:\\n. {}\".format('\\n. '.join(bigrams[-N:])))"
   ]
  },
  {
   "cell_type": "markdown",
   "id": "rWky-C9kdS2V",
   "metadata": {
    "id": "rWky-C9kdS2V"
   },
   "source": [
    "### Splitting the Data"
   ]
  },
  {
   "cell_type": "code",
   "execution_count": 11,
   "id": "BWREWjuNc6i3",
   "metadata": {
    "id": "BWREWjuNc6i3"
   },
   "outputs": [],
   "source": [
    "X_train, X_test, y_train, y_test = train_test_split(df['text'], df['dialect'], test_size = 0.1, random_state = 1)"
   ]
  },
  {
   "cell_type": "markdown",
   "id": "2Ct0GDEUhCyQ",
   "metadata": {
    "id": "2Ct0GDEUhCyQ"
   },
   "source": [
    "### Applying Count Vectorizer"
   ]
  },
  {
   "cell_type": "code",
   "execution_count": 12,
   "id": "EIfDr5DMg-Vp",
   "metadata": {
    "id": "EIfDr5DMg-Vp"
   },
   "outputs": [],
   "source": [
    "count_vect = CountVectorizer()\n",
    "X_train_counts = count_vect.fit_transform(X_train)"
   ]
  },
  {
   "cell_type": "markdown",
   "id": "PEybhFKihDfe",
   "metadata": {
    "id": "PEybhFKihDfe"
   },
   "source": [
    "### Applying TFIDF Transformation"
   ]
  },
  {
   "cell_type": "code",
   "execution_count": 13,
   "id": "g_fSpd9UKpb_",
   "metadata": {
    "id": "g_fSpd9UKpb_"
   },
   "outputs": [],
   "source": [
    "tfidf_transformer = TfidfTransformer()\n",
    "X_train_tfidf = tfidf_transformer.fit_transform(X_train_counts)"
   ]
  },
  {
   "cell_type": "markdown",
   "id": "89c4b964",
   "metadata": {
    "id": "89c4b964"
   },
   "source": [
    "----"
   ]
  },
  {
   "cell_type": "markdown",
   "id": "fl9rq2X_hGTU",
   "metadata": {
    "id": "fl9rq2X_hGTU"
   },
   "source": [
    "### Training the Naive Bayse Model"
   ]
  },
  {
   "cell_type": "code",
   "execution_count": 14,
   "id": "tHwslKpuhGHf",
   "metadata": {
    "id": "tHwslKpuhGHf"
   },
   "outputs": [],
   "source": [
    "NB = MultinomialNB().fit(X_train_tfidf, y_train)"
   ]
  },
  {
   "cell_type": "markdown",
   "id": "Yh3WvAVhhd11",
   "metadata": {
    "id": "Yh3WvAVhhd11"
   },
   "source": [
    "### Printing some Results"
   ]
  },
  {
   "cell_type": "code",
   "execution_count": 15,
   "id": "tFCQWHSUKpfE",
   "metadata": {
    "colab": {
     "base_uri": "https://localhost:8080/"
    },
    "id": "tFCQWHSUKpfE",
    "outputId": "4f34dff4-d2e9-4826-bf14-177d78d5c7e2"
   },
   "outputs": [
    {
     "name": "stdout",
     "output_type": "stream",
     "text": [
      "['EG']\n"
     ]
    }
   ],
   "source": [
    "sample = \"عايز اشوف السيدة ال كانت بتجادل باسم عودة وبتقوله الرز غالى انا ممكن اقدر اشترية بس ف مواطنيين ماتقدرش تشترى وقتها ب جنيه.و قنينه الزيت عباد كانت ب جنيه واللحمه كانت ب جنيه .ياترى عامله اية دلوقتى ف جنة السيسي ال الزيت ب  جنية واللحمة ب جنيه\"\n",
    "print(NB.predict(count_vect.transform([sample])))"
   ]
  },
  {
   "cell_type": "code",
   "execution_count": 16,
   "id": "kcaYF5W3Sy19",
   "metadata": {
    "colab": {
     "base_uri": "https://localhost:8080/"
    },
    "id": "kcaYF5W3Sy19",
    "outputId": "ef94365f-adf5-4a46-9758-61f09bbd8ce2"
   },
   "outputs": [
    {
     "name": "stdout",
     "output_type": "stream",
     "text": [
      "['PL']\n"
     ]
    }
   ],
   "source": [
    "sample = \"فيه اشي راح يصير من شان لبنان من الدول العربية مشان ينعدل وينزبط حالون لانّوا ما بينفع معّن الا هيك\"\n",
    "print(NB.predict(count_vect.transform([sample])))"
   ]
  },
  {
   "cell_type": "code",
   "execution_count": 17,
   "id": "RaWaKjeGUjP3",
   "metadata": {
    "colab": {
     "base_uri": "https://localhost:8080/"
    },
    "id": "RaWaKjeGUjP3",
    "outputId": "42e2ad46-3859-4429-a53e-76c80cc1d27f"
   },
   "outputs": [
    {
     "name": "stdout",
     "output_type": "stream",
     "text": [
      "['KW']\n"
     ]
    }
   ],
   "source": [
    "sample = \"إبن عمك عراقي ، من زمن لابس نطاقي. والله أسويها ويشيبلها الرضيع\"\n",
    "print(NB.predict(count_vect.transform([sample])))"
   ]
  },
  {
   "cell_type": "markdown",
   "id": "0ceefffa",
   "metadata": {
    "id": "0ceefffa"
   },
   "source": [
    "### Training Report"
   ]
  },
  {
   "cell_type": "code",
   "execution_count": 18,
   "id": "4t6sBd0El_ah",
   "metadata": {
    "id": "4t6sBd0El_ah"
   },
   "outputs": [],
   "source": [
    "NB_predictions = NB.predict(X_train_tfidf)"
   ]
  },
  {
   "cell_type": "code",
   "execution_count": 19,
   "id": "aTJmpxU2kxXU",
   "metadata": {
    "colab": {
     "base_uri": "https://localhost:8080/"
    },
    "id": "aTJmpxU2kxXU",
    "outputId": "0a00ca1f-7e54-44b0-aa47-8bcbf5bd2fda"
   },
   "outputs": [
    {
     "name": "stdout",
     "output_type": "stream",
     "text": [
      "              precision    recall  f1-score   support\n",
      "\n",
      "          AE       0.86      0.33      0.48     23699\n",
      "          BH       0.91      0.24      0.38     23674\n",
      "          DZ       0.95      0.28      0.44     14632\n",
      "          EG       0.41      0.99      0.58     51789\n",
      "          IQ       0.97      0.20      0.33     13885\n",
      "          JO       0.92      0.19      0.31     25048\n",
      "          KW       0.38      0.91      0.53     37905\n",
      "          LB       0.86      0.61      0.71     24873\n",
      "          LY       0.75      0.73      0.74     32934\n",
      "          MA       0.99      0.32      0.49     10377\n",
      "          OM       0.99      0.10      0.19     17233\n",
      "          PL       0.42      0.80      0.55     39391\n",
      "          QA       0.69      0.60      0.64     27999\n",
      "          SA       0.82      0.34      0.48     24073\n",
      "          SD       1.00      0.13      0.23     12912\n",
      "          SY       0.99      0.06      0.11     14671\n",
      "          TN       0.99      0.06      0.11      8316\n",
      "          YE       1.00      0.01      0.03      8966\n",
      "\n",
      "    accuracy                           0.52    412377\n",
      "   macro avg       0.83      0.38      0.41    412377\n",
      "weighted avg       0.73      0.52      0.48    412377\n",
      "\n"
     ]
    }
   ],
   "source": [
    "print(classification_report(y_train, NB_predictions))"
   ]
  },
  {
   "cell_type": "markdown",
   "id": "a5ba1534",
   "metadata": {
    "id": "a5ba1534"
   },
   "source": [
    "### Testing Report"
   ]
  },
  {
   "cell_type": "code",
   "execution_count": 20,
   "id": "3IEbtW_VmMhs",
   "metadata": {
    "id": "3IEbtW_VmMhs"
   },
   "outputs": [],
   "source": [
    "# Applying Count Vectorizer\n",
    "NB_test_predictions = []\n",
    "for text in X_test.values:\n",
    "    X_test_counts = count_vect.transform([text])\n",
    "    pred = NB.predict(X_test_counts)\n",
    "    NB_test_predictions.append(pred)"
   ]
  },
  {
   "cell_type": "code",
   "execution_count": 21,
   "id": "-dd5Bfehkxe_",
   "metadata": {
    "colab": {
     "base_uri": "https://localhost:8080/"
    },
    "id": "-dd5Bfehkxe_",
    "outputId": "1d984627-e071-4ab7-d7bd-cea8294b8fdf"
   },
   "outputs": [
    {
     "name": "stdout",
     "output_type": "stream",
     "text": [
      "              precision    recall  f1-score   support\n",
      "\n",
      "          AE       0.59      0.21      0.31      2597\n",
      "          BH       0.59      0.12      0.20      2618\n",
      "          DZ       0.83      0.27      0.41      1551\n",
      "          EG       0.43      0.96      0.59      5847\n",
      "          IQ       0.94      0.18      0.30      1612\n",
      "          JO       0.64      0.09      0.16      2873\n",
      "          KW       0.31      0.79      0.44      4204\n",
      "          LB       0.73      0.55      0.63      2744\n",
      "          LY       0.64      0.60      0.62      3565\n",
      "          MA       0.97      0.36      0.52      1162\n",
      "          OM       0.85      0.07      0.12      1883\n",
      "          PL       0.34      0.68      0.45      4351\n",
      "          QA       0.46      0.45      0.45      3070\n",
      "          SA       0.53      0.19      0.29      2759\n",
      "          SD       0.94      0.14      0.24      1522\n",
      "          SY       0.92      0.06      0.11      1571\n",
      "          TN       0.95      0.08      0.14       930\n",
      "          YE       0.89      0.02      0.03       961\n",
      "\n",
      "    accuracy                           0.44     45820\n",
      "   macro avg       0.70      0.32      0.33     45820\n",
      "weighted avg       0.60      0.44      0.39     45820\n",
      "\n"
     ]
    }
   ],
   "source": [
    "print(classification_report(y_test, NB_test_predictions))"
   ]
  },
  {
   "cell_type": "markdown",
   "id": "5cd19689",
   "metadata": {
    "id": "5cd19689"
   },
   "source": [
    "---"
   ]
  },
  {
   "cell_type": "markdown",
   "id": "TCO0pF3F7CZb",
   "metadata": {
    "id": "TCO0pF3F7CZb"
   },
   "source": [
    "## Support Vector Machines Classifier"
   ]
  },
  {
   "cell_type": "markdown",
   "id": "7FW6KDOM69rJ",
   "metadata": {
    "id": "7FW6KDOM69rJ"
   },
   "source": [
    "### Training SVM Model"
   ]
  },
  {
   "cell_type": "code",
   "execution_count": 22,
   "id": "KJZq3Wm769rK",
   "metadata": {
    "id": "KJZq3Wm769rK"
   },
   "outputs": [],
   "source": [
    "SVM = LinearSVC().fit(X_train_tfidf, y_train)"
   ]
  },
  {
   "cell_type": "markdown",
   "id": "Y6dCkc_Q69rK",
   "metadata": {
    "id": "Y6dCkc_Q69rK"
   },
   "source": [
    "### Printing some Results"
   ]
  },
  {
   "cell_type": "code",
   "execution_count": 23,
   "id": "4e_jbAgK69rK",
   "metadata": {
    "colab": {
     "base_uri": "https://localhost:8080/"
    },
    "id": "4e_jbAgK69rK",
    "outputId": "26f7beb4-9dd4-4ae8-ea59-7cd5907e8c8a"
   },
   "outputs": [
    {
     "name": "stdout",
     "output_type": "stream",
     "text": [
      "['EG']\n"
     ]
    }
   ],
   "source": [
    "sample = \"عايز اشوف السيدة ال كانت بتجادل باسم عودة وبتقوله الرز غالى انا ممكن اقدر اشترية بس ف مواطنيين ماتقدرش تشترى وقتها ب جنيه.و قنينه الزيت عباد كانت ب جنيه واللحمه كانت ب جنيه .ياترى عامله اية دلوقتى ف جنة السيسي ال الزيت ب  جنية واللحمة ب جنيه\"\n",
    "print(SVM.predict(count_vect.transform([sample])))"
   ]
  },
  {
   "cell_type": "code",
   "execution_count": 24,
   "id": "AxdTJfSv69rK",
   "metadata": {
    "colab": {
     "base_uri": "https://localhost:8080/"
    },
    "id": "AxdTJfSv69rK",
    "outputId": "78be9d21-0db7-40be-de3c-ea4c89c8fe95"
   },
   "outputs": [
    {
     "name": "stdout",
     "output_type": "stream",
     "text": [
      "['PL']\n"
     ]
    }
   ],
   "source": [
    "sample = \"فيه اشي راح يصير من شان لبنان من الدول العربية مشان ينعدل وينزبط حالون لانّوا ما بينفع معّن الا هيك\"\n",
    "print(SVM.predict(count_vect.transform([sample])))"
   ]
  },
  {
   "cell_type": "code",
   "execution_count": 25,
   "id": "esmYw_CR69rL",
   "metadata": {
    "colab": {
     "base_uri": "https://localhost:8080/"
    },
    "id": "esmYw_CR69rL",
    "outputId": "b09a20eb-d175-4519-f239-b2b6d07706fb"
   },
   "outputs": [
    {
     "name": "stdout",
     "output_type": "stream",
     "text": [
      "['SD']\n"
     ]
    }
   ],
   "source": [
    "sample = \"إبن عمك عراقي ، من زمن لابس نطاقي. والله أسويها ويشيبلها الرضيع\"\n",
    "print(SVM.predict(count_vect.transform([sample])))"
   ]
  },
  {
   "cell_type": "markdown",
   "id": "ec01f06e",
   "metadata": {
    "id": "ec01f06e"
   },
   "source": [
    "### Training Report"
   ]
  },
  {
   "cell_type": "code",
   "execution_count": 26,
   "id": "I812svkY69rL",
   "metadata": {
    "id": "I812svkY69rL"
   },
   "outputs": [],
   "source": [
    "SVM_predictions = SVM.predict(X_train_tfidf)"
   ]
  },
  {
   "cell_type": "code",
   "execution_count": 27,
   "id": "a8v7ltSA69rL",
   "metadata": {
    "colab": {
     "base_uri": "https://localhost:8080/"
    },
    "id": "a8v7ltSA69rL",
    "outputId": "1033f518-ddc3-4cd3-901e-163dadd041c9"
   },
   "outputs": [
    {
     "name": "stdout",
     "output_type": "stream",
     "text": [
      "              precision    recall  f1-score   support\n",
      "\n",
      "          AE       0.90      0.90      0.90     23699\n",
      "          BH       0.92      0.88      0.90     23674\n",
      "          DZ       0.94      0.91      0.93     14632\n",
      "          EG       0.92      0.98      0.95     51789\n",
      "          IQ       0.95      0.94      0.95     13885\n",
      "          JO       0.92      0.86      0.89     25048\n",
      "          KW       0.90      0.95      0.92     37905\n",
      "          LB       0.93      0.95      0.94     24873\n",
      "          LY       0.95      0.95      0.95     32934\n",
      "          MA       0.98      0.94      0.96     10377\n",
      "          OM       0.92      0.89      0.91     17233\n",
      "          PL       0.89      0.91      0.90     39391\n",
      "          QA       0.92      0.92      0.92     27999\n",
      "          SA       0.90      0.92      0.91     24073\n",
      "          SD       0.97      0.94      0.95     12912\n",
      "          SY       0.94      0.89      0.91     14671\n",
      "          TN       0.97      0.91      0.94      8316\n",
      "          YE       0.97      0.87      0.92      8966\n",
      "\n",
      "    accuracy                           0.92    412377\n",
      "   macro avg       0.93      0.92      0.93    412377\n",
      "weighted avg       0.93      0.92      0.92    412377\n",
      "\n"
     ]
    }
   ],
   "source": [
    "print(classification_report(y_train, SVM_predictions))"
   ]
  },
  {
   "cell_type": "markdown",
   "id": "933bedd3",
   "metadata": {
    "id": "933bedd3"
   },
   "source": [
    "### Testing Report"
   ]
  },
  {
   "cell_type": "code",
   "execution_count": 28,
   "id": "BA-KcROY801c",
   "metadata": {
    "id": "BA-KcROY801c"
   },
   "outputs": [],
   "source": [
    "# Applying Count Vectorizer\n",
    "SVM_test_predictions = []\n",
    "for text in X_test.values:\n",
    "    X_test_counts = count_vect.transform([text])\n",
    "    pred = SVM.predict(X_test_counts)\n",
    "    SVM_test_predictions.append(pred)"
   ]
  },
  {
   "cell_type": "code",
   "execution_count": 29,
   "id": "Acld90PJ801d",
   "metadata": {
    "colab": {
     "base_uri": "https://localhost:8080/"
    },
    "id": "Acld90PJ801d",
    "outputId": "c5215f74-dcf0-419e-b0d9-214bd205d7b5"
   },
   "outputs": [
    {
     "name": "stdout",
     "output_type": "stream",
     "text": [
      "              precision    recall  f1-score   support\n",
      "\n",
      "          AE       0.40      0.44      0.42      2597\n",
      "          BH       0.43      0.31      0.36      2618\n",
      "          DZ       0.55      0.55      0.55      1551\n",
      "          EG       0.70      0.86      0.77      5847\n",
      "          IQ       0.61      0.52      0.56      1612\n",
      "          JO       0.41      0.37      0.39      2873\n",
      "          KW       0.52      0.57      0.54      4204\n",
      "          LB       0.60      0.69      0.64      2744\n",
      "          LY       0.71      0.66      0.68      3565\n",
      "          MA       0.69      0.62      0.65      1162\n",
      "          OM       0.42      0.35      0.38      1883\n",
      "          PL       0.52      0.51      0.52      4351\n",
      "          QA       0.44      0.51      0.48      3070\n",
      "          SA       0.41      0.44      0.42      2759\n",
      "          SD       0.64      0.58      0.61      1522\n",
      "          SY       0.45      0.35      0.40      1571\n",
      "          TN       0.58      0.50      0.54       930\n",
      "          YE       0.39      0.23      0.29       961\n",
      "\n",
      "    accuracy                           0.54     45820\n",
      "   macro avg       0.53      0.50      0.51     45820\n",
      "weighted avg       0.54      0.54      0.54     45820\n",
      "\n"
     ]
    }
   ],
   "source": [
    "print(classification_report(y_test, SVM_test_predictions))"
   ]
  },
  {
   "cell_type": "markdown",
   "id": "6a69ddbf",
   "metadata": {
    "id": "6a69ddbf"
   },
   "source": [
    "---"
   ]
  },
  {
   "cell_type": "markdown",
   "id": "geZKAXTxWyfY",
   "metadata": {
    "id": "geZKAXTxWyfY"
   },
   "source": [
    "### Logistic Regression Classifier"
   ]
  },
  {
   "cell_type": "markdown",
   "id": "5RSIUjesWyfm",
   "metadata": {
    "id": "5RSIUjesWyfm"
   },
   "source": [
    "### Training the Logestic Regression Model"
   ]
  },
  {
   "cell_type": "code",
   "execution_count": 30,
   "id": "pxq4cewVWyfm",
   "metadata": {
    "id": "pxq4cewVWyfm"
   },
   "outputs": [],
   "source": [
    "LR = LogisticRegression().fit(X_train_tfidf, y_train)"
   ]
  },
  {
   "cell_type": "markdown",
   "id": "Vs7rT14TWyfn",
   "metadata": {
    "id": "Vs7rT14TWyfn"
   },
   "source": [
    "### Printing some Results"
   ]
  },
  {
   "cell_type": "code",
   "execution_count": 31,
   "id": "xb9VPDngWyfn",
   "metadata": {
    "colab": {
     "base_uri": "https://localhost:8080/"
    },
    "id": "xb9VPDngWyfn",
    "outputId": "721768a7-b3fb-4d4b-f1bb-352591444213"
   },
   "outputs": [
    {
     "name": "stdout",
     "output_type": "stream",
     "text": [
      "['EG']\n"
     ]
    }
   ],
   "source": [
    "sample = \"عايز اشوف السيدة ال كانت بتجادل باسم عودة وبتقوله الرز غالى انا ممكن اقدر اشترية بس ف مواطنيين ماتقدرش تشترى وقتها ب جنيه.و قنينه الزيت عباد كانت ب جنيه واللحمه كانت ب جنيه .ياترى عامله اية دلوقتى ف جنة السيسي ال الزيت ب  جنية واللحمة ب جنيه\"\n",
    "print(LR.predict(count_vect.transform([sample])))"
   ]
  },
  {
   "cell_type": "code",
   "execution_count": 32,
   "id": "LFO-YxrCWyfo",
   "metadata": {
    "colab": {
     "base_uri": "https://localhost:8080/"
    },
    "id": "LFO-YxrCWyfo",
    "outputId": "e37d08b2-60a3-4723-f852-eb744a527825"
   },
   "outputs": [
    {
     "name": "stdout",
     "output_type": "stream",
     "text": [
      "['JO']\n"
     ]
    }
   ],
   "source": [
    "sample = \"فيه اشي راح يصير من شان لبنان من الدول العربية مشان ينعدل وينزبط حالون لانّوا ما بينفع معّن الا هيك\"\n",
    "print(LR.predict(count_vect.transform([sample])))"
   ]
  },
  {
   "cell_type": "code",
   "execution_count": 33,
   "id": "sTkKh-Q0Wyfq",
   "metadata": {
    "colab": {
     "base_uri": "https://localhost:8080/"
    },
    "id": "sTkKh-Q0Wyfq",
    "outputId": "fe9479da-2e60-40a7-a4c1-f17caa6f5eab"
   },
   "outputs": [
    {
     "name": "stdout",
     "output_type": "stream",
     "text": [
      "['IQ']\n"
     ]
    }
   ],
   "source": [
    "sample = \"إبن عمك عراقي ، من زمن لابس نطاقي. والله أسويها ويشيبلها الرضيع\"\n",
    "print(LR.predict(count_vect.transform([sample])))"
   ]
  },
  {
   "cell_type": "markdown",
   "id": "8f78878f",
   "metadata": {
    "id": "8f78878f"
   },
   "source": [
    "### Training Report"
   ]
  },
  {
   "cell_type": "code",
   "execution_count": 34,
   "id": "kld0TZ2CWyfr",
   "metadata": {
    "id": "kld0TZ2CWyfr"
   },
   "outputs": [],
   "source": [
    "LR_predictions = LR.predict(X_train_tfidf)"
   ]
  },
  {
   "cell_type": "code",
   "execution_count": 35,
   "id": "jSu5V0urWyfs",
   "metadata": {
    "colab": {
     "base_uri": "https://localhost:8080/"
    },
    "id": "jSu5V0urWyfs",
    "outputId": "58eb5dbb-e970-43fa-a748-78533f481ad7"
   },
   "outputs": [
    {
     "name": "stdout",
     "output_type": "stream",
     "text": [
      "              precision    recall  f1-score   support\n",
      "\n",
      "          AE       0.57      0.52      0.54     23699\n",
      "          BH       0.57      0.44      0.50     23674\n",
      "          DZ       0.74      0.52      0.61     14632\n",
      "          EG       0.70      0.90      0.79     51789\n",
      "          IQ       0.77      0.54      0.63     13885\n",
      "          JO       0.60      0.42      0.50     25048\n",
      "          KW       0.51      0.76      0.61     37905\n",
      "          LB       0.71      0.72      0.71     24873\n",
      "          LY       0.62      0.77      0.69     32934\n",
      "          MA       0.85      0.57      0.68     10377\n",
      "          OM       0.60      0.41      0.48     17233\n",
      "          PL       0.53      0.68      0.59     39391\n",
      "          QA       0.59      0.59      0.59     27999\n",
      "          SA       0.50      0.56      0.53     24073\n",
      "          SD       0.83      0.53      0.65     12912\n",
      "          SY       0.69      0.35      0.46     14671\n",
      "          TN       0.82      0.38      0.52      8316\n",
      "          YE       0.74      0.14      0.23      8966\n",
      "\n",
      "    accuracy                           0.61    412377\n",
      "   macro avg       0.66      0.54      0.57    412377\n",
      "weighted avg       0.63      0.61      0.60    412377\n",
      "\n"
     ]
    }
   ],
   "source": [
    "print(classification_report(y_train, LR_predictions))"
   ]
  },
  {
   "cell_type": "markdown",
   "id": "dfece755",
   "metadata": {
    "id": "dfece755"
   },
   "source": [
    "### Testing Report"
   ]
  },
  {
   "cell_type": "code",
   "execution_count": 36,
   "id": "c-z2dBvZWyft",
   "metadata": {
    "id": "c-z2dBvZWyft"
   },
   "outputs": [],
   "source": [
    "# Applying Count Vectorizer\n",
    "LR_test_predictions = []\n",
    "for text in X_test.values:\n",
    "    X_test_counts = count_vect.transform([text])\n",
    "    pred = LR.predict(X_test_counts)\n",
    "    LR_test_predictions.append(pred)"
   ]
  },
  {
   "cell_type": "code",
   "execution_count": 37,
   "id": "QzkiW4DZWyft",
   "metadata": {
    "colab": {
     "base_uri": "https://localhost:8080/"
    },
    "id": "QzkiW4DZWyft",
    "outputId": "74b8bfb4-a59b-4747-a08f-3bd2ca55b851"
   },
   "outputs": [
    {
     "name": "stdout",
     "output_type": "stream",
     "text": [
      "              precision    recall  f1-score   support\n",
      "\n",
      "          AE       0.36      0.40      0.38      2597\n",
      "          BH       0.38      0.23      0.29      2618\n",
      "          DZ       0.50      0.49      0.49      1551\n",
      "          EG       0.66      0.82      0.73      5847\n",
      "          IQ       0.56      0.46      0.51      1612\n",
      "          JO       0.35      0.35      0.35      2873\n",
      "          KW       0.49      0.50      0.49      4204\n",
      "          LB       0.54      0.65      0.59      2744\n",
      "          LY       0.60      0.58      0.59      3565\n",
      "          MA       0.61      0.57      0.59      1162\n",
      "          OM       0.35      0.28      0.31      1883\n",
      "          PL       0.45      0.41      0.43      4351\n",
      "          QA       0.41      0.46      0.43      3070\n",
      "          SA       0.30      0.42      0.35      2759\n",
      "          SD       0.57      0.55      0.56      1522\n",
      "          SY       0.42      0.31      0.36      1571\n",
      "          TN       0.55      0.36      0.43       930\n",
      "          YE       0.39      0.14      0.21       961\n",
      "\n",
      "    accuracy                           0.48     45820\n",
      "   macro avg       0.47      0.44      0.45     45820\n",
      "weighted avg       0.48      0.48      0.48     45820\n",
      "\n"
     ]
    }
   ],
   "source": [
    "print(classification_report(y_test, LR_test_predictions))"
   ]
  },
  {
   "cell_type": "markdown",
   "id": "df257837",
   "metadata": {
    "id": "df257837"
   },
   "source": [
    "---"
   ]
  },
  {
   "cell_type": "markdown",
   "id": "Q7FFvnDFeRPF",
   "metadata": {
    "id": "Q7FFvnDFeRPF"
   },
   "source": [
    "## Random Forests Classifier "
   ]
  },
  {
   "cell_type": "markdown",
   "id": "3f9p5jNyeRPJ",
   "metadata": {
    "id": "3f9p5jNyeRPJ"
   },
   "source": [
    "### Training the Random Forests Model"
   ]
  },
  {
   "cell_type": "code",
   "execution_count": 45,
   "id": "SCbIdjgMeRPJ",
   "metadata": {
    "id": "SCbIdjgMeRPJ"
   },
   "outputs": [],
   "source": [
    "RF = RandomForestClassifier(n_estimators=1000, max_depth=25, random_state=1).fit(X_train_tfidf, y_train)"
   ]
  },
  {
   "cell_type": "markdown",
   "id": "NxeFT9fweRPK",
   "metadata": {
    "id": "NxeFT9fweRPK"
   },
   "source": [
    "### Printing some Results"
   ]
  },
  {
   "cell_type": "code",
   "execution_count": 46,
   "id": "LRCArBZseRPK",
   "metadata": {
    "colab": {
     "base_uri": "https://localhost:8080/"
    },
    "id": "LRCArBZseRPK",
    "outputId": "902e3b26-bfa9-43ba-b6c2-8f01973adf1f"
   },
   "outputs": [
    {
     "name": "stdout",
     "output_type": "stream",
     "text": [
      "['EG']\n"
     ]
    }
   ],
   "source": [
    "sample = \"عايز اشوف السيدة ال كانت بتجادل باسم عودة وبتقوله الرز غالى انا ممكن اقدر اشترية بس ف مواطنيين ماتقدرش تشترى وقتها ب جنيه.و قنينه الزيت عباد كانت ب جنيه واللحمه كانت ب جنيه .ياترى عامله اية دلوقتى ف جنة السيسي ال الزيت ب  جنية واللحمة ب جنيه\"\n",
    "print(RF.predict(count_vect.transform([sample])))"
   ]
  },
  {
   "cell_type": "code",
   "execution_count": 47,
   "id": "pHCuaivteRPL",
   "metadata": {
    "colab": {
     "base_uri": "https://localhost:8080/"
    },
    "id": "pHCuaivteRPL",
    "outputId": "d2907176-1444-4e9d-9e72-99685cb47e9b"
   },
   "outputs": [
    {
     "name": "stdout",
     "output_type": "stream",
     "text": [
      "['PL']\n"
     ]
    }
   ],
   "source": [
    "sample = \"فيه اشي راح يصير من شان لبنان من الدول العربية مشان ينعدل وينزبط حالون لانّوا ما بينفع معّن الا هيك\"\n",
    "print(RF.predict(count_vect.transform([sample])))"
   ]
  },
  {
   "cell_type": "code",
   "execution_count": 48,
   "id": "x8YC7HMkeRPN",
   "metadata": {
    "colab": {
     "base_uri": "https://localhost:8080/"
    },
    "id": "x8YC7HMkeRPN",
    "outputId": "9ec99102-e644-4dc9-9382-04316fff3090"
   },
   "outputs": [
    {
     "name": "stdout",
     "output_type": "stream",
     "text": [
      "['EG']\n"
     ]
    }
   ],
   "source": [
    "sample = \"إبن عمك عراقي ، من زمن لابس نطاقي. والله أسويها ويشيبلها الرضيع\"\n",
    "print(RF.predict(count_vect.transform([sample])))"
   ]
  },
  {
   "cell_type": "markdown",
   "id": "e3800bb8",
   "metadata": {
    "id": "e3800bb8"
   },
   "source": [
    "### Training Report"
   ]
  },
  {
   "cell_type": "code",
   "execution_count": 49,
   "id": "1615dff6",
   "metadata": {
    "id": "1615dff6"
   },
   "outputs": [],
   "source": [
    "RF_predictions = RF.predict(X_train_tfidf)"
   ]
  },
  {
   "cell_type": "code",
   "execution_count": 50,
   "id": "UbwjfG1reRPO",
   "metadata": {
    "colab": {
     "base_uri": "https://localhost:8080/"
    },
    "id": "UbwjfG1reRPO",
    "outputId": "81335a83-0138-4d20-e13f-8313c0b72f31"
   },
   "outputs": [
    {
     "name": "stdout",
     "output_type": "stream",
     "text": [
      "              precision    recall  f1-score   support\n",
      "\n",
      "          AE       1.00      0.00      0.00     23699\n",
      "          BH       1.00      0.00      0.00     23674\n",
      "          DZ       0.99      0.02      0.04     14632\n",
      "          EG       0.13      1.00      0.23     51789\n",
      "          IQ       1.00      0.00      0.00     13885\n",
      "          JO       1.00      0.00      0.01     25048\n",
      "          KW       0.78      0.08      0.14     37905\n",
      "          LB       0.94      0.06      0.12     24873\n",
      "          LY       0.98      0.07      0.13     32934\n",
      "          MA       1.00      0.01      0.02     10377\n",
      "          OM       0.00      0.00      0.00     17233\n",
      "          PL       0.69      0.06      0.10     39391\n",
      "          QA       0.94      0.02      0.05     27999\n",
      "          SA       0.00      0.00      0.00     24073\n",
      "          SD       1.00      0.00      0.00     12912\n",
      "          SY       1.00      0.01      0.03     14671\n",
      "          TN       0.00      0.00      0.00      8316\n",
      "          YE       0.00      0.00      0.00      8966\n",
      "\n",
      "    accuracy                           0.15    412377\n",
      "   macro avg       0.69      0.07      0.05    412377\n",
      "weighted avg       0.69      0.15      0.08    412377\n",
      "\n"
     ]
    }
   ],
   "source": [
    "print(classification_report(y_train, RF_predictions))"
   ]
  },
  {
   "cell_type": "markdown",
   "id": "5bee9a89",
   "metadata": {
    "id": "5bee9a89"
   },
   "source": [
    "### Testing Report"
   ]
  },
  {
   "cell_type": "code",
   "execution_count": 55,
   "id": "dPCoOzfTeRPP",
   "metadata": {
    "id": "dPCoOzfTeRPP"
   },
   "outputs": [],
   "source": [
    "# Applying Count Vectorizer\n",
    "# RF_test_predictions = []\n",
    "# for text in X_test.values:\n",
    "#     X_test_counts = count_vect.transform([text])\n",
    "#     pred = RF.predict(X_test_counts)\n",
    "#     RF_test_predictions.append(pred)"
   ]
  },
  {
   "cell_type": "code",
   "execution_count": 56,
   "id": "DMlyqLMqeRPP",
   "metadata": {
    "id": "DMlyqLMqeRPP"
   },
   "outputs": [],
   "source": [
    "# print(classification_report(y_test, RF_test_predictions))"
   ]
  },
  {
   "cell_type": "markdown",
   "id": "cd401c97",
   "metadata": {
    "id": "cd401c97"
   },
   "source": [
    "---"
   ]
  },
  {
   "cell_type": "markdown",
   "id": "23605a14",
   "metadata": {
    "id": "23605a14"
   },
   "source": [
    "### Saving the Models"
   ]
  },
  {
   "cell_type": "markdown",
   "id": "78227942",
   "metadata": {
    "id": "78227942"
   },
   "source": [
    "#### TFIDF Features"
   ]
  },
  {
   "cell_type": "code",
   "execution_count": 57,
   "id": "PEvOWMXoW0SA",
   "metadata": {
    "id": "PEvOWMXoW0SA"
   },
   "outputs": [],
   "source": [
    "# Saving TFIDF Transformer Features\n",
    "pickle.dump(tfidf, open(\"/content/drive/MyDrive/Colab/Arabic Dialect Classifier/tfidf300.pickle\", \"wb\"))\n",
    "pickle.dump(X_train_tfidf, open(\"/content/drive/MyDrive/Colab/Arabic Dialect Classifier/train_features300.pickle\", \"wb\"))"
   ]
  },
  {
   "cell_type": "markdown",
   "id": "c387ddd7",
   "metadata": {
    "id": "c387ddd7"
   },
   "source": [
    "#### Machine Learning Models"
   ]
  },
  {
   "cell_type": "code",
   "execution_count": 58,
   "id": "6YBlINtNy5y-",
   "metadata": {
    "colab": {
     "base_uri": "https://localhost:8080/"
    },
    "id": "6YBlINtNy5y-",
    "outputId": "fd3c3cab-c53b-4ccb-e4cc-f62f420becd2"
   },
   "outputs": [
    {
     "data": {
      "text/plain": [
       "['/content/drive/MyDrive/Colab/Arabic Dialect Classifier/SVM18_Model.sav']"
      ]
     },
     "execution_count": 58,
     "metadata": {},
     "output_type": "execute_result"
    }
   ],
   "source": [
    "# save the models\n",
    "filename = '/content/drive/MyDrive/Colab/Arabic Dialect Classifier/SVM18_Model.sav'\n",
    "joblib.dump(SVM, filename)"
   ]
  },
  {
   "cell_type": "code",
   "execution_count": 59,
   "id": "EUkdzFEUgxM6",
   "metadata": {
    "colab": {
     "base_uri": "https://localhost:8080/"
    },
    "id": "EUkdzFEUgxM6",
    "outputId": "2837ff2c-2cc6-4cce-f819-64761b840628"
   },
   "outputs": [
    {
     "data": {
      "text/plain": [
       "['/content/drive/MyDrive/Colab/Arabic Dialect Classifier/NB18_Model.sav']"
      ]
     },
     "execution_count": 59,
     "metadata": {},
     "output_type": "execute_result"
    }
   ],
   "source": [
    "# save the model to disk\n",
    "filename = '/content/drive/MyDrive/Colab/Arabic Dialect Classifier/NB18_Model.sav'\n",
    "joblib.dump(NB, filename)"
   ]
  },
  {
   "cell_type": "code",
   "execution_count": 60,
   "id": "eyUF7rQzgxPz",
   "metadata": {
    "colab": {
     "base_uri": "https://localhost:8080/"
    },
    "id": "eyUF7rQzgxPz",
    "outputId": "e153da66-10c4-4d91-e370-dc1adaaa7592"
   },
   "outputs": [
    {
     "data": {
      "text/plain": [
       "['/content/drive/MyDrive/Colab/Arabic Dialect Classifier/LR18_Model.sav']"
      ]
     },
     "execution_count": 60,
     "metadata": {},
     "output_type": "execute_result"
    }
   ],
   "source": [
    "# save the model to disk\n",
    "filename = '/content/drive/MyDrive/Colab/Arabic Dialect Classifier/LR18_Model.sav'\n",
    "joblib.dump(LR, filename)"
   ]
  },
  {
   "cell_type": "code",
   "execution_count": 61,
   "id": "ZH9zdh80gxTl",
   "metadata": {
    "colab": {
     "base_uri": "https://localhost:8080/"
    },
    "id": "ZH9zdh80gxTl",
    "outputId": "0a57a9b7-a470-4a06-fdcd-64ed72400895"
   },
   "outputs": [
    {
     "data": {
      "text/plain": [
       "['/content/drive/MyDrive/Colab/Arabic Dialect Classifier/RF18_Model.sav']"
      ]
     },
     "execution_count": 61,
     "metadata": {},
     "output_type": "execute_result"
    }
   ],
   "source": [
    "# save the model to disk\n",
    "filename = '/content/drive/MyDrive/Colab/Arabic Dialect Classifier/RF18_Model.sav'\n",
    "joblib.dump(RF, filename)"
   ]
  },
  {
   "cell_type": "markdown",
   "id": "3b243e62",
   "metadata": {
    "id": "3b243e62"
   },
   "source": [
    "### Viewing some Statistics"
   ]
  },
  {
   "cell_type": "code",
   "execution_count": 76,
   "id": "ZKKJjvxWKpif",
   "metadata": {
    "id": "ZKKJjvxWKpif"
   },
   "outputs": [],
   "source": [
    "NB_CR = classification_report(y_test, NB_test_predictions, output_dict=True)\n",
    "SVM_CR = classification_report(y_test, SVM_test_predictions, output_dict=True)\n",
    "LR_CR = classification_report(y_test, LR_test_predictions, output_dict=True)"
   ]
  },
  {
   "cell_type": "markdown",
   "id": "0bcdde3e",
   "metadata": {},
   "source": [
    "#### Naive Bayes Model"
   ]
  },
  {
   "cell_type": "code",
   "execution_count": 78,
   "id": "rNJMSkskbI-J",
   "metadata": {
    "colab": {
     "base_uri": "https://localhost:8080/",
     "height": 485
    },
    "id": "rNJMSkskbI-J",
    "outputId": "406a7149-4831-41b4-9a8d-4f77a8f7daaf"
   },
   "outputs": [
    {
     "data": {
      "image/png": "[encoded data removed]",
      "text/plain": [
       "<Figure size 1080x576 with 2 Axes>"
      ]
     },
     "metadata": {},
     "output_type": "display_data"
    }
   ],
   "source": [
    "plt.figure(figsize=(15,8));\n",
    "sb.heatmap(pd.DataFrame(NB_CR).iloc[:-1, :].T, annot=True);"
   ]
  },
  {
   "cell_type": "markdown",
   "id": "e3c179f1",
   "metadata": {},
   "source": [
    "#### Support Vector Machines Model"
   ]
  },
  {
   "cell_type": "code",
   "execution_count": 81,
   "id": "WpSoAKFCOiM5",
   "metadata": {
    "colab": {
     "base_uri": "https://localhost:8080/",
     "height": 485
    },
    "id": "WpSoAKFCOiM5",
    "outputId": "1734502e-bbc4-4b56-df8c-f711a6c1fec8"
   },
   "outputs": [
    {
     "data": {
      "image/png": "[encoded data removed]",
      "text/plain": [
       "<Figure size 1080x576 with 2 Axes>"
      ]
     },
     "metadata": {},
     "output_type": "display_data"
    }
   ],
   "source": [
    "plt.figure(figsize=(15,8));\n",
    "sb.heatmap(pd.DataFrame(SVM_CR).iloc[:-1, :].T, annot=True);"
   ]
  },
  {
   "cell_type": "markdown",
   "id": "fb68a384",
   "metadata": {},
   "source": [
    "#### Logestic Regression Model"
   ]
  },
  {
   "cell_type": "code",
   "execution_count": 86,
   "id": "eILpLyW0QAMD",
   "metadata": {
    "colab": {
     "base_uri": "https://localhost:8080/",
     "height": 485
    },
    "id": "eILpLyW0QAMD",
    "outputId": "975f02cc-f95a-45ab-89c3-d5e4a4b78a92"
   },
   "outputs": [
    {
     "data": {
      "image/png": "[encoded data removed]",
      "text/plain": [
       "<Figure size 1080x576 with 2 Axes>"
      ]
     },
     "metadata": {},
     "output_type": "display_data"
    }
   ],
   "source": [
    "plt.figure(figsize=(15,8));\n",
    "sb.heatmap(pd.DataFrame(LR_CR).iloc[:-1, :].T, annot=True);"
   ]
  },
  {
   "cell_type": "code",
   "execution_count": null,
   "id": "sBeTpEOySKDl",
   "metadata": {
    "id": "sBeTpEOySKDl"
   },
   "outputs": [],
   "source": []
  }
 ],
 "metadata": {
  "colab": {
   "collapsed_sections": [],
   "name": "Arabic_Dialect_Identification_ML_Models_18_Class.ipynb",
   "provenance": []
  },
  "kernelspec": {
   "display_name": "Python 3 (ipykernel)",
   "language": "python",
   "name": "python3"
  },
  "language_info": {
   "codemirror_mode": {
    "name": "ipython",
    "version": 3
   },
   "file_extension": ".py",
   "mimetype": "text/x-python",
   "name": "python",
   "nbconvert_exporter": "python",
   "pygments_lexer": "ipython3",
   "version": "3.9.5"
  }
 },
 "nbformat": 4,
 "nbformat_minor": 5
}
