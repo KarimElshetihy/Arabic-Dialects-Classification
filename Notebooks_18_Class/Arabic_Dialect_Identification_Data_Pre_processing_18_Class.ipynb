{
 "cells": [
  {
   "cell_type": "markdown",
   "id": "9c356b95",
   "metadata": {
    "id": "9c356b95"
   },
   "source": [
    "# Arabic Dialect Identification - Exploratory Analysis & Data Pre-processing\n",
    "## By Karim Elshetihy\n",
    "- [Github](https://github.com/KarimElshetihy)\n",
    "- [Linkedin](https://www.linkedin.com/in/karim-el-shetihy/)"
   ]
  },
  {
   "cell_type": "markdown",
   "id": "ce71545a",
   "metadata": {
    "id": "ce71545a"
   },
   "source": [
    "#### Referances:\n",
    "- [Arabic Dialict Identification in the Wild Paper](https://arxiv.org/pdf/2005.06557.pdf)\n",
    "- [Flask Tutorial](https://programminghistorian.org/en/lessons/creating-apis-with-python-and-flask)\n",
    "- [Multinomial Classification](https://towardsdatascience.com/the-complete-guide-to-neural-networks-multinomial-classification-4fe88bde7839)\n",
    "\n",
    "#### The Dataset:\n",
    "The dataset and the dialect identification problem were addressed by Qatar Computing Research Institute, moreover, they published a paper, feel free to get more insights from it [Here](https://arxiv.org/pdf/2005.06557.pdf).\n",
    "\n",
    "We are given a dataset which has 2 columns, **id** and **dialect**.\n",
    "- Target label column is the **dialect***, which has 18 classes.\n",
    "- The **id** column will be used to retrieve the text, to do that, you need to call this API by a\n",
    "POST request. https://recruitment.aimtechnologies.co/ai-tasks.\n",
    "- The request body must be a JSON as a list of strings, and the size of the list must NOT exceed 1000.\n",
    "- The API will return a dictionary where the keys are the ids, and the values are the text, here is a request and response sample."
   ]
  },
  {
   "cell_type": "markdown",
   "id": "a06e2794",
   "metadata": {
    "id": "a06e2794"
   },
   "source": [
    "### Importing Packages"
   ]
  },
  {
   "cell_type": "code",
   "execution_count": 1,
   "id": "6f960151",
   "metadata": {
    "id": "6f960151"
   },
   "outputs": [
    {
     "data": {
      "text/html": [
       "\n",
       "    <div class=\"bk-root\">\n",
       "        <a href=\"https://bokeh.org\" target=\"_blank\" class=\"bk-logo bk-logo-small bk-logo-notebook\"></a>\n",
       "        <span id=\"1002\">Loading BokehJS ...</span>\n",
       "    </div>"
      ]
     },
     "metadata": {},
     "output_type": "display_data"
    },
    {
     "data": {
      "application/javascript": [
       "\n",
       "(function(root) {\n",
       "  function now() {\n",
       "    return new Date();\n",
       "  }\n",
       "\n",
       "  const force = true;\n",
       "\n",
       "  if (typeof root._bokeh_onload_callbacks === \"undefined\" || force === true) {\n",
       "    root._bokeh_onload_callbacks = [];\n",
       "    root._bokeh_is_loading = undefined;\n",
       "  }\n",
       "\n",
       "  const JS_MIME_TYPE = 'application/javascript';\n",
       "  const HTML_MIME_TYPE = 'text/html';\n",
       "  const EXEC_MIME_TYPE = 'application/vnd.bokehjs_exec.v0+json';\n",
       "  const CLASS_NAME = 'output_bokeh rendered_html';\n",
       "\n",
       "  /**\n",
       "   * Render data to the DOM node\n",
       "   */\n",
       "  function render(props, node) {\n",
       "    const script = document.createElement(\"script\");\n",
       "    node.appendChild(script);\n",
       "  }\n",
       "\n",
       "  /**\n",
       "   * Handle when an output is cleared or removed\n",
       "   */\n",
       "  function handleClearOutput(event, handle) {\n",
       "    const cell = handle.cell;\n",
       "\n",
       "    const id = cell.output_area._bokeh_element_id;\n",
       "    const server_id = cell.output_area._bokeh_server_id;\n",
       "    // Clean up Bokeh references\n",
       "    if (id != null && id in Bokeh.index) {\n",
       "      Bokeh.index[id].model.document.clear();\n",
       "      delete Bokeh.index[id];\n",
       "    }\n",
       "\n",
       "    if (server_id !== undefined) {\n",
       "      // Clean up Bokeh references\n",
       "      const cmd_clean = \"from bokeh.io.state import curstate; print(curstate().uuid_to_server['\" + server_id + \"'].get_sessions()[0].document.roots[0]._id)\";\n",
       "      cell.notebook.kernel.execute(cmd_clean, {\n",
       "        iopub: {\n",
       "          output: function(msg) {\n",
       "            const id = msg.content.text.trim();\n",
       "            if (id in Bokeh.index) {\n",
       "              Bokeh.index[id].model.document.clear();\n",
       "              delete Bokeh.index[id];\n",
       "            }\n",
       "          }\n",
       "        }\n",
       "      });\n",
       "      // Destroy server and session\n",
       "      const cmd_destroy = \"import bokeh.io.notebook as ion; ion.destroy_server('\" + server_id + \"')\";\n",
       "      cell.notebook.kernel.execute(cmd_destroy);\n",
       "    }\n",
       "  }\n",
       "\n",
       "  /**\n",
       "   * Handle when a new output is added\n",
       "   */\n",
       "  function handleAddOutput(event, handle) {\n",
       "    const output_area = handle.output_area;\n",
       "    const output = handle.output;\n",
       "\n",
       "    // limit handleAddOutput to display_data with EXEC_MIME_TYPE content only\n",
       "    if ((output.output_type != \"display_data\") || (!Object.prototype.hasOwnProperty.call(output.data, EXEC_MIME_TYPE))) {\n",
       "      return\n",
       "    }\n",
       "\n",
       "    const toinsert = output_area.element.find(\".\" + CLASS_NAME.split(' ')[0]);\n",
       "\n",
       "    if (output.metadata[EXEC_MIME_TYPE][\"id\"] !== undefined) {\n",
       "      toinsert[toinsert.length - 1].firstChild.textContent = output.data[JS_MIME_TYPE];\n",
       "      // store reference to embed id on output_area\n",
       "      output_area._bokeh_element_id = output.metadata[EXEC_MIME_TYPE][\"id\"];\n",
       "    }\n",
       "    if (output.metadata[EXEC_MIME_TYPE][\"server_id\"] !== undefined) {\n",
       "      const bk_div = document.createElement(\"div\");\n",
       "      bk_div.innerHTML = output.data[HTML_MIME_TYPE];\n",
       "      const script_attrs = bk_div.children[0].attributes;\n",
       "      for (let i = 0; i < script_attrs.length; i++) {\n",
       "        toinsert[toinsert.length - 1].firstChild.setAttribute(script_attrs[i].name, script_attrs[i].value);\n",
       "        toinsert[toinsert.length - 1].firstChild.textContent = bk_div.children[0].textContent\n",
       "      }\n",
       "      // store reference to server id on output_area\n",
       "      output_area._bokeh_server_id = output.metadata[EXEC_MIME_TYPE][\"server_id\"];\n",
       "    }\n",
       "  }\n",
       "\n",
       "  function register_renderer(events, OutputArea) {\n",
       "\n",
       "    function append_mime(data, metadata, element) {\n",
       "      // create a DOM node to render to\n",
       "      const toinsert = this.create_output_subarea(\n",
       "        metadata,\n",
       "        CLASS_NAME,\n",
       "        EXEC_MIME_TYPE\n",
       "      );\n",
       "      this.keyboard_manager.register_events(toinsert);\n",
       "      // Render to node\n",
       "      const props = {data: data, metadata: metadata[EXEC_MIME_TYPE]};\n",
       "      render(props, toinsert[toinsert.length - 1]);\n",
       "      element.append(toinsert);\n",
       "      return toinsert\n",
       "    }\n",
       "\n",
       "    /* Handle when an output is cleared or removed */\n",
       "    events.on('clear_output.CodeCell', handleClearOutput);\n",
       "    events.on('delete.Cell', handleClearOutput);\n",
       "\n",
       "    /* Handle when a new output is added */\n",
       "    events.on('output_added.OutputArea', handleAddOutput);\n",
       "\n",
       "    /**\n",
       "     * Register the mime type and append_mime function with output_area\n",
       "     */\n",
       "    OutputArea.prototype.register_mime_type(EXEC_MIME_TYPE, append_mime, {\n",
       "      /* Is output safe? */\n",
       "      safe: true,\n",
       "      /* Index of renderer in `output_area.display_order` */\n",
       "      index: 0\n",
       "    });\n",
       "  }\n",
       "\n",
       "  // register the mime type if in Jupyter Notebook environment and previously unregistered\n",
       "  if (root.Jupyter !== undefined) {\n",
       "    const events = require('base/js/events');\n",
       "    const OutputArea = require('notebook/js/outputarea').OutputArea;\n",
       "\n",
       "    if (OutputArea.prototype.mime_types().indexOf(EXEC_MIME_TYPE) == -1) {\n",
       "      register_renderer(events, OutputArea);\n",
       "    }\n",
       "  }\n",
       "\n",
       "  \n",
       "  if (typeof (root._bokeh_timeout) === \"undefined\" || force === true) {\n",
       "    root._bokeh_timeout = Date.now() + 5000;\n",
       "    root._bokeh_failed_load = false;\n",
       "  }\n",
       "\n",
       "  const NB_LOAD_WARNING = {'data': {'text/html':\n",
       "     \"<div style='background-color: #fdd'>\\n\"+\n",
       "     \"<p>\\n\"+\n",
       "     \"BokehJS does not appear to have successfully loaded. If loading BokehJS from CDN, this \\n\"+\n",
       "     \"may be due to a slow or bad network connection. Possible fixes:\\n\"+\n",
       "     \"</p>\\n\"+\n",
       "     \"<ul>\\n\"+\n",
       "     \"<li>re-rerun `output_notebook()` to attempt to load from CDN again, or</li>\\n\"+\n",
       "     \"<li>use INLINE resources instead, as so:</li>\\n\"+\n",
       "     \"</ul>\\n\"+\n",
       "     \"<code>\\n\"+\n",
       "     \"from bokeh.resources import INLINE\\n\"+\n",
       "     \"output_notebook(resources=INLINE)\\n\"+\n",
       "     \"</code>\\n\"+\n",
       "     \"</div>\"}};\n",
       "\n",
       "  function display_loaded() {\n",
       "    const el = document.getElementById(\"1002\");\n",
       "    if (el != null) {\n",
       "      el.textContent = \"BokehJS is loading...\";\n",
       "    }\n",
       "    if (root.Bokeh !== undefined) {\n",
       "      if (el != null) {\n",
       "        el.textContent = \"BokehJS \" + root.Bokeh.version + \" successfully loaded.\";\n",
       "      }\n",
       "    } else if (Date.now() < root._bokeh_timeout) {\n",
       "      setTimeout(display_loaded, 100)\n",
       "    }\n",
       "  }\n",
       "\n",
       "\n",
       "  function run_callbacks() {\n",
       "    try {\n",
       "      root._bokeh_onload_callbacks.forEach(function(callback) {\n",
       "        if (callback != null)\n",
       "          callback();\n",
       "      });\n",
       "    } finally {\n",
       "      delete root._bokeh_onload_callbacks\n",
       "    }\n",
       "    console.debug(\"Bokeh: all callbacks have finished\");\n",
       "  }\n",
       "\n",
       "  function load_libs(css_urls, js_urls, callback) {\n",
       "    if (css_urls == null) css_urls = [];\n",
       "    if (js_urls == null) js_urls = [];\n",
       "\n",
       "    root._bokeh_onload_callbacks.push(callback);\n",
       "    if (root._bokeh_is_loading > 0) {\n",
       "      console.debug(\"Bokeh: BokehJS is being loaded, scheduling callback at\", now());\n",
       "      return null;\n",
       "    }\n",
       "    if (js_urls == null || js_urls.length === 0) {\n",
       "      run_callbacks();\n",
       "      return null;\n",
       "    }\n",
       "    console.debug(\"Bokeh: BokehJS not loaded, scheduling load and callback at\", now());\n",
       "    root._bokeh_is_loading = css_urls.length + js_urls.length;\n",
       "\n",
       "    function on_load() {\n",
       "      root._bokeh_is_loading--;\n",
       "      if (root._bokeh_is_loading === 0) {\n",
       "        console.debug(\"Bokeh: all BokehJS libraries/stylesheets loaded\");\n",
       "        run_callbacks()\n",
       "      }\n",
       "    }\n",
       "\n",
       "    function on_error(url) {\n",
       "      console.error(\"failed to load \" + url);\n",
       "    }\n",
       "\n",
       "    for (let i = 0; i < css_urls.length; i++) {\n",
       "      const url = css_urls[i];\n",
       "      const element = document.createElement(\"link\");\n",
       "      element.onload = on_load;\n",
       "      element.onerror = on_error.bind(null, url);\n",
       "      element.rel = \"stylesheet\";\n",
       "      element.type = \"text/css\";\n",
       "      element.href = url;\n",
       "      console.debug(\"Bokeh: injecting link tag for BokehJS stylesheet: \", url);\n",
       "      document.body.appendChild(element);\n",
       "    }\n",
       "\n",
       "    for (let i = 0; i < js_urls.length; i++) {\n",
       "      const url = js_urls[i];\n",
       "      const element = document.createElement('script');\n",
       "      element.onload = on_load;\n",
       "      element.onerror = on_error.bind(null, url);\n",
       "      element.async = false;\n",
       "      element.src = url;\n",
       "      console.debug(\"Bokeh: injecting script tag for BokehJS library: \", url);\n",
       "      document.head.appendChild(element);\n",
       "    }\n",
       "  };\n",
       "\n",
       "  function inject_raw_css(css) {\n",
       "    const element = document.createElement(\"style\");\n",
       "    element.appendChild(document.createTextNode(css));\n",
       "    document.body.appendChild(element);\n",
       "  }\n",
       "\n",
       "  \n",
       "  const js_urls = [\"https://cdn.bokeh.org/bokeh/release/bokeh-2.4.2.min.js\", \"https://cdn.bokeh.org/bokeh/release/bokeh-gl-2.4.2.min.js\", \"https://cdn.bokeh.org/bokeh/release/bokeh-widgets-2.4.2.min.js\", \"https://cdn.bokeh.org/bokeh/release/bokeh-tables-2.4.2.min.js\", \"https://cdn.bokeh.org/bokeh/release/bokeh-mathjax-2.4.2.min.js\"];\n",
       "  const css_urls = [];\n",
       "  \n",
       "\n",
       "  const inline_js = [\n",
       "    function(Bokeh) {\n",
       "      Bokeh.set_log_level(\"info\");\n",
       "    },\n",
       "    function(Bokeh) {\n",
       "    \n",
       "    \n",
       "    }\n",
       "  ];\n",
       "\n",
       "  function run_inline_js() {\n",
       "    \n",
       "    if (root.Bokeh !== undefined || force === true) {\n",
       "      \n",
       "    for (let i = 0; i < inline_js.length; i++) {\n",
       "      inline_js[i].call(root, root.Bokeh);\n",
       "    }\n",
       "    if (force === true) {\n",
       "        display_loaded();\n",
       "      }} else if (Date.now() < root._bokeh_timeout) {\n",
       "      setTimeout(run_inline_js, 100);\n",
       "    } else if (!root._bokeh_failed_load) {\n",
       "      console.log(\"Bokeh: BokehJS failed to load within specified timeout.\");\n",
       "      root._bokeh_failed_load = true;\n",
       "    } else if (force !== true) {\n",
       "      const cell = $(document.getElementById(\"1002\")).parents('.cell').data().cell;\n",
       "      cell.output_area.append_execute_result(NB_LOAD_WARNING)\n",
       "    }\n",
       "\n",
       "  }\n",
       "\n",
       "  if (root._bokeh_is_loading === 0) {\n",
       "    console.debug(\"Bokeh: BokehJS loaded, going straight to plotting\");\n",
       "    run_inline_js();\n",
       "  } else {\n",
       "    load_libs(css_urls, js_urls, function() {\n",
       "      console.debug(\"Bokeh: BokehJS plotting callback run at\", now());\n",
       "      run_inline_js();\n",
       "    });\n",
       "  }\n",
       "}(window));"
      ],
      "application/vnd.bokehjs_load.v0+json": "\n(function(root) {\n  function now() {\n    return new Date();\n  }\n\n  const force = true;\n\n  if (typeof root._bokeh_onload_callbacks === \"undefined\" || force === true) {\n    root._bokeh_onload_callbacks = [];\n    root._bokeh_is_loading = undefined;\n  }\n\n  \n\n  \n  if (typeof (root._bokeh_timeout) === \"undefined\" || force === true) {\n    root._bokeh_timeout = Date.now() + 5000;\n    root._bokeh_failed_load = false;\n  }\n\n  const NB_LOAD_WARNING = {'data': {'text/html':\n     \"<div style='background-color: #fdd'>\\n\"+\n     \"<p>\\n\"+\n     \"BokehJS does not appear to have successfully loaded. If loading BokehJS from CDN, this \\n\"+\n     \"may be due to a slow or bad network connection. Possible fixes:\\n\"+\n     \"</p>\\n\"+\n     \"<ul>\\n\"+\n     \"<li>re-rerun `output_notebook()` to attempt to load from CDN again, or</li>\\n\"+\n     \"<li>use INLINE resources instead, as so:</li>\\n\"+\n     \"</ul>\\n\"+\n     \"<code>\\n\"+\n     \"from bokeh.resources import INLINE\\n\"+\n     \"output_notebook(resources=INLINE)\\n\"+\n     \"</code>\\n\"+\n     \"</div>\"}};\n\n  function display_loaded() {\n    const el = document.getElementById(\"1002\");\n    if (el != null) {\n      el.textContent = \"BokehJS is loading...\";\n    }\n    if (root.Bokeh !== undefined) {\n      if (el != null) {\n        el.textContent = \"BokehJS \" + root.Bokeh.version + \" successfully loaded.\";\n      }\n    } else if (Date.now() < root._bokeh_timeout) {\n      setTimeout(display_loaded, 100)\n    }\n  }\n\n\n  function run_callbacks() {\n    try {\n      root._bokeh_onload_callbacks.forEach(function(callback) {\n        if (callback != null)\n          callback();\n      });\n    } finally {\n      delete root._bokeh_onload_callbacks\n    }\n    console.debug(\"Bokeh: all callbacks have finished\");\n  }\n\n  function load_libs(css_urls, js_urls, callback) {\n    if (css_urls == null) css_urls = [];\n    if (js_urls == null) js_urls = [];\n\n    root._bokeh_onload_callbacks.push(callback);\n    if (root._bokeh_is_loading > 0) {\n      console.debug(\"Bokeh: BokehJS is being loaded, scheduling callback at\", now());\n      return null;\n    }\n    if (js_urls == null || js_urls.length === 0) {\n      run_callbacks();\n      return null;\n    }\n    console.debug(\"Bokeh: BokehJS not loaded, scheduling load and callback at\", now());\n    root._bokeh_is_loading = css_urls.length + js_urls.length;\n\n    function on_load() {\n      root._bokeh_is_loading--;\n      if (root._bokeh_is_loading === 0) {\n        console.debug(\"Bokeh: all BokehJS libraries/stylesheets loaded\");\n        run_callbacks()\n      }\n    }\n\n    function on_error(url) {\n      console.error(\"failed to load \" + url);\n    }\n\n    for (let i = 0; i < css_urls.length; i++) {\n      const url = css_urls[i];\n      const element = document.createElement(\"link\");\n      element.onload = on_load;\n      element.onerror = on_error.bind(null, url);\n      element.rel = \"stylesheet\";\n      element.type = \"text/css\";\n      element.href = url;\n      console.debug(\"Bokeh: injecting link tag for BokehJS stylesheet: \", url);\n      document.body.appendChild(element);\n    }\n\n    for (let i = 0; i < js_urls.length; i++) {\n      const url = js_urls[i];\n      const element = document.createElement('script');\n      element.onload = on_load;\n      element.onerror = on_error.bind(null, url);\n      element.async = false;\n      element.src = url;\n      console.debug(\"Bokeh: injecting script tag for BokehJS library: \", url);\n      document.head.appendChild(element);\n    }\n  };\n\n  function inject_raw_css(css) {\n    const element = document.createElement(\"style\");\n    element.appendChild(document.createTextNode(css));\n    document.body.appendChild(element);\n  }\n\n  \n  const js_urls = [\"https://cdn.bokeh.org/bokeh/release/bokeh-2.4.2.min.js\", \"https://cdn.bokeh.org/bokeh/release/bokeh-gl-2.4.2.min.js\", \"https://cdn.bokeh.org/bokeh/release/bokeh-widgets-2.4.2.min.js\", \"https://cdn.bokeh.org/bokeh/release/bokeh-tables-2.4.2.min.js\", \"https://cdn.bokeh.org/bokeh/release/bokeh-mathjax-2.4.2.min.js\"];\n  const css_urls = [];\n  \n\n  const inline_js = [\n    function(Bokeh) {\n      Bokeh.set_log_level(\"info\");\n    },\n    function(Bokeh) {\n    \n    \n    }\n  ];\n\n  function run_inline_js() {\n    \n    if (root.Bokeh !== undefined || force === true) {\n      \n    for (let i = 0; i < inline_js.length; i++) {\n      inline_js[i].call(root, root.Bokeh);\n    }\n    if (force === true) {\n        display_loaded();\n      }} else if (Date.now() < root._bokeh_timeout) {\n      setTimeout(run_inline_js, 100);\n    } else if (!root._bokeh_failed_load) {\n      console.log(\"Bokeh: BokehJS failed to load within specified timeout.\");\n      root._bokeh_failed_load = true;\n    } else if (force !== true) {\n      const cell = $(document.getElementById(\"1002\")).parents('.cell').data().cell;\n      cell.output_area.append_execute_result(NB_LOAD_WARNING)\n    }\n\n  }\n\n  if (root._bokeh_is_loading === 0) {\n    console.debug(\"Bokeh: BokehJS loaded, going straight to plotting\");\n    run_inline_js();\n  } else {\n    load_libs(css_urls, js_urls, function() {\n      console.debug(\"Bokeh: BokehJS plotting callback run at\", now());\n      run_inline_js();\n    });\n  }\n}(window));"
     },
     "metadata": {},
     "output_type": "display_data"
    }
   ],
   "source": [
    "import time\n",
    "import sys\n",
    "\n",
    "import re\n",
    "# import nltk\n",
    "# from nltk.corpus import stopwords\n",
    "import json\n",
    "import unicodedata as ud\n",
    "from collections import Counter\n",
    "import numpy as np\n",
    "\n",
    "import numpy as np\n",
    "import pandas as pd\n",
    "import matplotlib.pyplot as plt\n",
    "from matplotlib import rcParams\n",
    "import seaborn as sb\n",
    "from bokeh.plotting import figure, show, output_file\n",
    "from bokeh.io import output_notebook\n",
    "\n",
    "np.random.seed(1)\n",
    "%matplotlib inline\n",
    "sb.set_theme()\n",
    "output_notebook()\n",
    "\n",
    "import warnings\n",
    "warnings.simplefilter(\"ignore\")"
   ]
  },
  {
   "cell_type": "code",
   "execution_count": 6,
   "id": "qPIfIwqUcmQF",
   "metadata": {
    "colab": {
     "base_uri": "https://localhost:8080/"
    },
    "id": "qPIfIwqUcmQF",
    "outputId": "42905f11-df24-432f-df9e-62057dc00310"
   },
   "outputs": [
    {
     "name": "stdout",
     "output_type": "stream",
     "text": [
      "[nltk_data] Downloading package stopwords to /root/nltk_data...\n",
      "[nltk_data]   Unzipping corpora/stopwords.zip.\n"
     ]
    },
    {
     "data": {
      "text/plain": [
       "True"
      ]
     },
     "execution_count": 6,
     "metadata": {},
     "output_type": "execute_result"
    }
   ],
   "source": [
    "# nltk.download('stopwords')"
   ]
  },
  {
   "cell_type": "markdown",
   "id": "c1401793",
   "metadata": {
    "id": "c1401793"
   },
   "source": [
    "### Importing the Dataset"
   ]
  },
  {
   "cell_type": "code",
   "execution_count": 2,
   "id": "2c73056a",
   "metadata": {
    "id": "2c73056a"
   },
   "outputs": [],
   "source": [
    "dialects = pd.read_csv(\"../Data/dialect_dataset.csv\")\n",
    "targets = dialects.copy()\n",
    "targets = targets.sample(frac=1).reset_index(drop=True)"
   ]
  },
  {
   "cell_type": "markdown",
   "id": "e3a8ddbb",
   "metadata": {
    "id": "e3a8ddbb"
   },
   "source": [
    "### Exploring the Data"
   ]
  },
  {
   "cell_type": "code",
   "execution_count": 3,
   "id": "219d70d7",
   "metadata": {
    "id": "219d70d7",
    "outputId": "536172ef-53d4-4496-dd9a-62f9fe7100a0"
   },
   "outputs": [
    {
     "data": {
      "text/html": [
       "<div>\n",
       "<style scoped>\n",
       "    .dataframe tbody tr th:only-of-type {\n",
       "        vertical-align: middle;\n",
       "    }\n",
       "\n",
       "    .dataframe tbody tr th {\n",
       "        vertical-align: top;\n",
       "    }\n",
       "\n",
       "    .dataframe thead th {\n",
       "        text-align: right;\n",
       "    }\n",
       "</style>\n",
       "<table border=\"1\" class=\"dataframe\">\n",
       "  <thead>\n",
       "    <tr style=\"text-align: right;\">\n",
       "      <th></th>\n",
       "      <th>id</th>\n",
       "      <th>dialect</th>\n",
       "    </tr>\n",
       "  </thead>\n",
       "  <tbody>\n",
       "    <tr>\n",
       "      <th>0</th>\n",
       "      <td>934055133171912832</td>\n",
       "      <td>EG</td>\n",
       "    </tr>\n",
       "    <tr>\n",
       "      <th>1</th>\n",
       "      <td>1171407436814721024</td>\n",
       "      <td>PL</td>\n",
       "    </tr>\n",
       "    <tr>\n",
       "      <th>2</th>\n",
       "      <td>1054942138985791616</td>\n",
       "      <td>JO</td>\n",
       "    </tr>\n",
       "    <tr>\n",
       "      <th>3</th>\n",
       "      <td>863396710063722496</td>\n",
       "      <td>LY</td>\n",
       "    </tr>\n",
       "    <tr>\n",
       "      <th>4</th>\n",
       "      <td>721682683580039168</td>\n",
       "      <td>BH</td>\n",
       "    </tr>\n",
       "  </tbody>\n",
       "</table>\n",
       "</div>"
      ],
      "text/plain": [
       "                    id dialect\n",
       "0   934055133171912832      EG\n",
       "1  1171407436814721024      PL\n",
       "2  1054942138985791616      JO\n",
       "3   863396710063722496      LY\n",
       "4   721682683580039168      BH"
      ]
     },
     "execution_count": 3,
     "metadata": {},
     "output_type": "execute_result"
    }
   ],
   "source": [
    "targets.head()"
   ]
  },
  {
   "cell_type": "code",
   "execution_count": 4,
   "id": "c92a2a8b",
   "metadata": {
    "id": "c92a2a8b",
    "outputId": "7459f821-af8c-4edb-e8c8-8e30be50b980"
   },
   "outputs": [
    {
     "data": {
      "text/plain": [
       "(458197, 2)"
      ]
     },
     "execution_count": 4,
     "metadata": {},
     "output_type": "execute_result"
    }
   ],
   "source": [
    "targets.shape"
   ]
  },
  {
   "cell_type": "code",
   "execution_count": 5,
   "id": "2044ab2b",
   "metadata": {
    "id": "2044ab2b",
    "outputId": "2205b95a-2f03-4251-8b57-b67555a0205b"
   },
   "outputs": [
    {
     "name": "stdout",
     "output_type": "stream",
     "text": [
      "<class 'pandas.core.frame.DataFrame'>\n",
      "RangeIndex: 458197 entries, 0 to 458196\n",
      "Data columns (total 2 columns):\n",
      " #   Column   Non-Null Count   Dtype \n",
      "---  ------   --------------   ----- \n",
      " 0   id       458197 non-null  int64 \n",
      " 1   dialect  458197 non-null  object\n",
      "dtypes: int64(1), object(1)\n",
      "memory usage: 7.0+ MB\n"
     ]
    }
   ],
   "source": [
    "targets.info()"
   ]
  },
  {
   "cell_type": "code",
   "execution_count": 6,
   "id": "00ebca76",
   "metadata": {
    "id": "00ebca76",
    "outputId": "e5ec5536-f70e-4f9e-8e76-9d690eda96d6"
   },
   "outputs": [
    {
     "data": {
      "text/plain": [
       "0"
      ]
     },
     "execution_count": 6,
     "metadata": {},
     "output_type": "execute_result"
    }
   ],
   "source": [
    "targets.duplicated().sum()"
   ]
  },
  {
   "cell_type": "code",
   "execution_count": 7,
   "id": "dfc36d6d",
   "metadata": {
    "id": "dfc36d6d",
    "outputId": "f4c053d9-0afe-429c-d54d-0c6b25f3373d"
   },
   "outputs": [
    {
     "data": {
      "text/plain": [
       "id         458197\n",
       "dialect        18\n",
       "dtype: int64"
      ]
     },
     "execution_count": 7,
     "metadata": {},
     "output_type": "execute_result"
    }
   ],
   "source": [
    "targets.nunique()"
   ]
  },
  {
   "cell_type": "code",
   "execution_count": 8,
   "id": "b18a187a",
   "metadata": {
    "id": "b18a187a",
    "outputId": "69d6acd0-e35f-4b5a-c6ce-1d33e4401997"
   },
   "outputs": [
    {
     "data": {
      "text/plain": [
       "array(['EG', 'PL', 'JO', 'LY', 'BH', 'QA', 'IQ', 'SA', 'OM', 'SD', 'SY',\n",
       "       'LB', 'AE', 'KW', 'DZ', 'YE', 'TN', 'MA'], dtype=object)"
      ]
     },
     "execution_count": 8,
     "metadata": {},
     "output_type": "execute_result"
    }
   ],
   "source": [
    "targets['dialect'].unique()"
   ]
  },
  {
   "cell_type": "code",
   "execution_count": 9,
   "id": "50b95e48",
   "metadata": {
    "id": "50b95e48",
    "outputId": "33b8c809-08be-4282-aefc-cf7ac90baa09"
   },
   "outputs": [
    {
     "data": {
      "image/png": "[encoded data removed]",
      "text/plain": [
       "<Figure size 1080x576 with 1 Axes>"
      ]
     },
     "metadata": {},
     "output_type": "display_data"
    }
   ],
   "source": [
    "font_size1 = 16\n",
    "font_size2 = 12\n",
    "\n",
    "# Setting up figure sizes\n",
    "rcParams['figure.figsize'] = 15,6\n",
    "colors=['#4c72b0','#d44e52']\n",
    "\n",
    "# sb.countplot(df['dialect']);\n",
    "targets['dialect'].value_counts().plot(kind='barh', figsize=(15,8), color=['b','r']);\n",
    "plt.title('Dialects', fontsize=font_size1);\n",
    "\n",
    "plt.yticks(fontsize= font_size2+2);\n",
    "plt.ylabel('');\n",
    "\n",
    "Sum = targets['dialect'].value_counts().sum()\n",
    "for num, value in enumerate(targets['dialect'].value_counts()):\n",
    "    plt.text(value+400,num,str(np.round(value/Sum*100, decimals = 1))+'%', fontweight='bold',va='center');"
   ]
  },
  {
   "cell_type": "markdown",
   "id": "8854a521",
   "metadata": {
    "id": "8854a521"
   },
   "source": [
    "---"
   ]
  },
  {
   "cell_type": "markdown",
   "id": "2eb1e2fd",
   "metadata": {
    "id": "2eb1e2fd"
   },
   "source": [
    "### Text Pre-processing"
   ]
  },
  {
   "cell_type": "code",
   "execution_count": 10,
   "id": "24049d03",
   "metadata": {
    "id": "24049d03"
   },
   "outputs": [],
   "source": [
    "file = open(\"../Data/text_data.txt\", \"r\", encoding='utf-8')\n",
    "file = json.loads('{'+ file.read().rsplit(\",\", 1)[0] + '}')"
   ]
  },
  {
   "cell_type": "code",
   "execution_count": 11,
   "id": "4230b934",
   "metadata": {
    "id": "4230b934",
    "outputId": "99581303-9245-4907-d213-ec4f35ac81df"
   },
   "outputs": [
    {
     "name": "stdout",
     "output_type": "stream",
     "text": [
      "Number of Text Cells (Tweets): 458197\n"
     ]
    }
   ],
   "source": [
    "print('Number of Text Cells (Tweets): {}'.format(len(file.keys())))"
   ]
  },
  {
   "cell_type": "markdown",
   "id": "5060a56b",
   "metadata": {
    "id": "5060a56b"
   },
   "source": [
    "### Converting the Fetched Text to DataFrame"
   ]
  },
  {
   "cell_type": "code",
   "execution_count": 12,
   "id": "58eed80a",
   "metadata": {
    "id": "58eed80a"
   },
   "outputs": [],
   "source": [
    "data_items = file.items()\n",
    "data_list = list(data_items)"
   ]
  },
  {
   "cell_type": "code",
   "execution_count": 13,
   "id": "899c24b5",
   "metadata": {
    "id": "899c24b5"
   },
   "outputs": [],
   "source": [
    "text_df = pd.DataFrame(data_list, columns=[\"id\", \"text\"])\n",
    "txt = text_df.copy()"
   ]
  },
  {
   "cell_type": "code",
   "execution_count": 14,
   "id": "9482654c",
   "metadata": {
    "id": "9482654c",
    "outputId": "51b09088-9fe8-4b84-edbd-b86370ed28af"
   },
   "outputs": [
    {
     "data": {
      "text/html": [
       "<div>\n",
       "<style scoped>\n",
       "    .dataframe tbody tr th:only-of-type {\n",
       "        vertical-align: middle;\n",
       "    }\n",
       "\n",
       "    .dataframe tbody tr th {\n",
       "        vertical-align: top;\n",
       "    }\n",
       "\n",
       "    .dataframe thead th {\n",
       "        text-align: right;\n",
       "    }\n",
       "</style>\n",
       "<table border=\"1\" class=\"dataframe\">\n",
       "  <thead>\n",
       "    <tr style=\"text-align: right;\">\n",
       "      <th></th>\n",
       "      <th>id</th>\n",
       "      <th>text</th>\n",
       "    </tr>\n",
       "  </thead>\n",
       "  <tbody>\n",
       "    <tr>\n",
       "      <th>0</th>\n",
       "      <td>1175358310087892992</td>\n",
       "      <td>@Nw8ieJUwaCAAreT لكن بالنهاية .. ينتفض .. يغير .</td>\n",
       "    </tr>\n",
       "    <tr>\n",
       "      <th>1</th>\n",
       "      <td>1175416117793349632</td>\n",
       "      <td>@7zNqXP0yrODdRjK يعني هذا محسوب على البشر .. ح...</td>\n",
       "    </tr>\n",
       "    <tr>\n",
       "      <th>2</th>\n",
       "      <td>1175450108898565888</td>\n",
       "      <td>@KanaanRema مبين من كلامه خليجي</td>\n",
       "    </tr>\n",
       "    <tr>\n",
       "      <th>3</th>\n",
       "      <td>1175471073770573824</td>\n",
       "      <td>@HAIDER76128900 يسلملي مرورك وروحك الحلوه💐</td>\n",
       "    </tr>\n",
       "    <tr>\n",
       "      <th>4</th>\n",
       "      <td>1175496913145217024</td>\n",
       "      <td>@hmo2406 وين هل الغيبه  اخ محمد 🌸🌺</td>\n",
       "    </tr>\n",
       "  </tbody>\n",
       "</table>\n",
       "</div>"
      ],
      "text/plain": [
       "                    id                                               text\n",
       "0  1175358310087892992   @Nw8ieJUwaCAAreT لكن بالنهاية .. ينتفض .. يغير .\n",
       "1  1175416117793349632  @7zNqXP0yrODdRjK يعني هذا محسوب على البشر .. ح...\n",
       "2  1175450108898565888                    @KanaanRema مبين من كلامه خليجي\n",
       "3  1175471073770573824         @HAIDER76128900 يسلملي مرورك وروحك الحلوه💐\n",
       "4  1175496913145217024                 @hmo2406 وين هل الغيبه  اخ محمد 🌸🌺"
      ]
     },
     "execution_count": 14,
     "metadata": {},
     "output_type": "execute_result"
    }
   ],
   "source": [
    "txt.head()"
   ]
  },
  {
   "cell_type": "code",
   "execution_count": 15,
   "id": "8d7d8e23",
   "metadata": {
    "id": "8d7d8e23",
    "outputId": "90809d55-9c5e-4762-df1b-5e16a1f7c1f1"
   },
   "outputs": [
    {
     "name": "stdout",
     "output_type": "stream",
     "text": [
      "<class 'pandas.core.frame.DataFrame'>\n",
      "RangeIndex: 458197 entries, 0 to 458196\n",
      "Data columns (total 2 columns):\n",
      " #   Column  Non-Null Count   Dtype \n",
      "---  ------  --------------   ----- \n",
      " 0   id      458197 non-null  object\n",
      " 1   text    458197 non-null  object\n",
      "dtypes: object(2)\n",
      "memory usage: 7.0+ MB\n"
     ]
    }
   ],
   "source": [
    "txt.info()"
   ]
  },
  {
   "cell_type": "code",
   "execution_count": 16,
   "id": "86b793f7",
   "metadata": {
    "id": "86b793f7",
    "outputId": "c0115707-91ed-484d-d0f6-4964d6979a93"
   },
   "outputs": [
    {
     "data": {
      "text/plain": [
       "0     @Nw8ieJUwaCAAreT لكن بالنهاية .. ينتفض .. يغير .\n",
       "1    @7zNqXP0yrODdRjK يعني هذا محسوب على البشر .. ح...\n",
       "2                      @KanaanRema مبين من كلامه خليجي\n",
       "Name: text, dtype: object"
      ]
     },
     "execution_count": 16,
     "metadata": {},
     "output_type": "execute_result"
    }
   ],
   "source": [
    "txt['text'][0:3]"
   ]
  },
  {
   "cell_type": "code",
   "execution_count": 17,
   "id": "741ace85",
   "metadata": {
    "id": "741ace85",
    "outputId": "9dd8f019-6284-4718-f1f7-aff7d884ac37"
   },
   "outputs": [
    {
     "data": {
      "text/plain": [
       "0"
      ]
     },
     "execution_count": 17,
     "metadata": {},
     "output_type": "execute_result"
    }
   ],
   "source": [
    "sum(txt['id'].duplicated())"
   ]
  },
  {
   "cell_type": "code",
   "execution_count": 7,
   "id": "5e2adfe5",
   "metadata": {
    "id": "5e2adfe5"
   },
   "outputs": [],
   "source": [
    "def clean_text(text):\n",
    "    \"\"\"\n",
    "    This function is made to clean the tweets using regex or regular expressions,\n",
    "    it removes:\n",
    "        - stop_words:   Arabic stop words\n",
    "        - stop_wow:     Arabic stop words\n",
    "        - stop_extra:   Arabic stop words\n",
    "        - mentions:     @arabic_dialect_identifiecation\n",
    "        - hashtags:     #arabic_dialect_identifiecation\n",
    "        - underscores:  ______arabic_dialect_identifiecation_____\n",
    "        - urls:         www.arabicdialectidentifiecation.com\n",
    "        - numbers:      923\n",
    "        - laughs :      ههههههه\n",
    "        - extra_noise : Emotions & Puncituations\n",
    "    \"\"\"\n",
    "    # Noise we want to remove \n",
    "    stop_words = ' | '.join(stopwords.words('arabic'))\n",
    "    stop_wow = ' | و'.join(stopwords.words('arabic'))\n",
    "    stop_extra = ' | '.join(['_','٠٠','فيه','وفي','الى','لمن','فقط','على','انا','لان','وانا','يا','الی','الي','اللي','اللى','ヽ'])\n",
    "    mentions = '(@[A-Za-z0-9]+)'\n",
    "    hashtags = '(#[A-Za-z0-9_]+)'\n",
    "    underscores = '(_[_\\w_]+)'\n",
    "    urls = '(\\w+:\\/\\/\\S+)'\n",
    "    numbers = '([0-9]+)'\n",
    "    extra_noise = '(\\s*[A-Za-z]+\\b)|([^\\w])'\n",
    "    laughs = '(ه[ه^ه])'\n",
    "    \n",
    "    \n",
    "    # Removing Process\n",
    "    text = ' '.join(re.sub(stop_words,\" \",text).split())\n",
    "    text = ' '.join(re.sub(stop_wow,\" \",text).split())\n",
    "    text = ' '.join(re.sub(stop_extra,\" \",text).split())\n",
    "    text = ' '.join(re.sub(laughs,\" \",text).split())\n",
    "    text = ' '.join(re.sub(urls,\" \",text).split())\n",
    "    text = ' '.join(re.sub(mentions,\" \",text).split())\n",
    "    text = ' '.join(re.sub(hashtags,\" \",text).split())\n",
    "    text = ' '.join(re.sub(numbers,\" \",text).split())\n",
    "    text = ' '.join(re.sub(underscores,\" \",text).split())\n",
    "    text = ' '.join(re.sub(extra_noise,\" \",text).split())\n",
    "\n",
    "    return text"
   ]
  },
  {
   "cell_type": "markdown",
   "id": "20805f01",
   "metadata": {
    "id": "20805f01"
   },
   "source": [
    "### Printing Cleaned Example"
   ]
  },
  {
   "cell_type": "code",
   "execution_count": null,
   "id": "e4d7989f",
   "metadata": {
    "id": "e4d7989f",
    "outputId": "8c795c7e-34ed-45ac-8ba1-54f8c51fbc4f"
   },
   "outputs": [
    {
     "name": "stdout",
     "output_type": "stream",
     "text": [
      "Before Cleaning: @ha___m___ed لان الماضي دائماً فيه ريحة خيانه😂\n",
      "After Cleaning: لان الماضي دائما ريحة خيانه\n"
     ]
    }
   ],
   "source": [
    "print('Before Cleaning: {}\\nAfter Cleaning: {}'.format(text_df['text'][22], clean_text(txt['text'][22])))"
   ]
  },
  {
   "cell_type": "code",
   "execution_count": null,
   "id": "fa657e20",
   "metadata": {
    "id": "fa657e20",
    "outputId": "e1a59484-fe2f-4eb9-ed4f-dbcdec9816a7"
   },
   "outputs": [
    {
     "name": "stdout",
     "output_type": "stream",
     "text": [
      "Before Cleaning: سنة وانا انتظر\n",
      "طال إنتظاري والوكت محسوب\n",
      "وانا ادري العمر\n",
      "يا عمري ساري يا صبر الگلوب\n",
      "وانا عمري حسابه.. حسابه لما اشوفك\n",
      "يا زين الدنيا وعيوني تحوفك\n",
      "\n",
      "#مرني https://t.co/HekL210nOv\n",
      "\n",
      "After Cleaning: سنة وانا انتظر طال إنتظاري والوكت محسوب وانا ادري العمر يا عمري ساري يا صبر الگلوب وانا عمري حسابه حسابه لما اشوفك يا زين الدنيا وعيوني تحوفك مرني\n"
     ]
    }
   ],
   "source": [
    "print('Before Cleaning: {}\\n\\nAfter Cleaning: {}'.format(text_df['text'][4594], clean_text(txt['text'][4594])))"
   ]
  },
  {
   "cell_type": "markdown",
   "id": "857fd500",
   "metadata": {
    "id": "857fd500"
   },
   "source": [
    "### Apply Filter to the Dataset"
   ]
  },
  {
   "cell_type": "code",
   "execution_count": 8,
   "id": "99ce4920",
   "metadata": {
    "id": "99ce4920"
   },
   "outputs": [],
   "source": [
    "df['text'] = df['text'].apply(lambda text: clean_text(text))"
   ]
  },
  {
   "cell_type": "markdown",
   "id": "f014bca8",
   "metadata": {
    "id": "f014bca8"
   },
   "source": [
    "### Printing an Example after Cleaning"
   ]
  },
  {
   "cell_type": "code",
   "execution_count": null,
   "id": "f5e8286e",
   "metadata": {
    "id": "f5e8286e",
    "outputId": "6d4c34a3-4fc2-4969-ef1c-f4cd69d78503"
   },
   "outputs": [
    {
     "name": "stdout",
     "output_type": "stream",
     "text": [
      "Example 1: لكن بالنهاية ينتفض يغير\n",
      "Example 2: يمكن سؤال فات الكثير اللي يصور شنو موقفه وكأنه يوثق بطوله المفروض حتى المصور يحال للقضاء لان نظرات الطفله تستنجد باتجاه الكاميرا\n"
     ]
    }
   ],
   "source": [
    "print('Example 1: {}\\nExample 2: {}'.format(txt['text'][0], txt['text'][8]))"
   ]
  },
  {
   "cell_type": "markdown",
   "id": "af453885",
   "metadata": {
    "id": "af453885"
   },
   "source": [
    "---"
   ]
  },
  {
   "cell_type": "markdown",
   "id": "14b68916",
   "metadata": {
    "id": "14b68916"
   },
   "source": [
    "### Merging both DataFrames"
   ]
  },
  {
   "cell_type": "code",
   "execution_count": null,
   "id": "a63ace07",
   "metadata": {
    "id": "a63ace07"
   },
   "outputs": [],
   "source": [
    "txt['id'] = txt['id'].astype('int64')"
   ]
  },
  {
   "cell_type": "code",
   "execution_count": null,
   "id": "48a2f733",
   "metadata": {
    "id": "48a2f733"
   },
   "outputs": [],
   "source": [
    "df = pd.merge(targets, txt, on='id')"
   ]
  },
  {
   "cell_type": "code",
   "execution_count": null,
   "id": "0c59c5d3",
   "metadata": {
    "id": "0c59c5d3",
    "outputId": "f75a7e0c-2f69-4c15-a1f0-98eff7f6d71e",
    "scrolled": true
   },
   "outputs": [
    {
     "data": {
      "text/html": [
       "<div>\n",
       "<style scoped>\n",
       "    .dataframe tbody tr th:only-of-type {\n",
       "        vertical-align: middle;\n",
       "    }\n",
       "\n",
       "    .dataframe tbody tr th {\n",
       "        vertical-align: top;\n",
       "    }\n",
       "\n",
       "    .dataframe thead th {\n",
       "        text-align: right;\n",
       "    }\n",
       "</style>\n",
       "<table border=\"1\" class=\"dataframe\">\n",
       "  <thead>\n",
       "    <tr style=\"text-align: right;\">\n",
       "      <th></th>\n",
       "      <th>id</th>\n",
       "      <th>dialect</th>\n",
       "      <th>text</th>\n",
       "    </tr>\n",
       "  </thead>\n",
       "  <tbody>\n",
       "    <tr>\n",
       "      <th>0</th>\n",
       "      <td>934055133171912832</td>\n",
       "      <td>EG</td>\n",
       "      <td>سؤال بس يفهم بتوتر هما الناس الي بالكوارث بيدو...</td>\n",
       "    </tr>\n",
       "    <tr>\n",
       "      <th>1</th>\n",
       "      <td>1171407436814721024</td>\n",
       "      <td>PL</td>\n",
       "      <td>هادا الصحن تخصصه حمص و فول كيف حاطين لبنة</td>\n",
       "    </tr>\n",
       "    <tr>\n",
       "      <th>2</th>\n",
       "      <td>1054942138985791616</td>\n",
       "      <td>JO</td>\n",
       "      <td>رايحه اداوم بدون نوم صباح الخير</td>\n",
       "    </tr>\n",
       "    <tr>\n",
       "      <th>3</th>\n",
       "      <td>863396710063722496</td>\n",
       "      <td>LY</td>\n",
       "      <td>من السبعة الصبح للواحد الظهر</td>\n",
       "    </tr>\n",
       "    <tr>\n",
       "      <th>4</th>\n",
       "      <td>721682683580039168</td>\n",
       "      <td>BH</td>\n",
       "      <td>الخبر الصحيح وعلى وجه الدقة شوهد حامل سماعات م...</td>\n",
       "    </tr>\n",
       "  </tbody>\n",
       "</table>\n",
       "</div>"
      ],
      "text/plain": [
       "                    id dialect  \\\n",
       "0   934055133171912832      EG   \n",
       "1  1171407436814721024      PL   \n",
       "2  1054942138985791616      JO   \n",
       "3   863396710063722496      LY   \n",
       "4   721682683580039168      BH   \n",
       "\n",
       "                                                text  \n",
       "0  سؤال بس يفهم بتوتر هما الناس الي بالكوارث بيدو...  \n",
       "1          هادا الصحن تخصصه حمص و فول كيف حاطين لبنة  \n",
       "2                    رايحه اداوم بدون نوم صباح الخير  \n",
       "3                       من السبعة الصبح للواحد الظهر  \n",
       "4  الخبر الصحيح وعلى وجه الدقة شوهد حامل سماعات م...  "
      ]
     },
     "execution_count": 29,
     "metadata": {},
     "output_type": "execute_result"
    }
   ],
   "source": [
    "df.head()"
   ]
  },
  {
   "cell_type": "code",
   "execution_count": null,
   "id": "54b91cf3",
   "metadata": {
    "id": "54b91cf3"
   },
   "outputs": [],
   "source": [
    "df.info()"
   ]
  },
  {
   "cell_type": "markdown",
   "id": "0d5c4e60",
   "metadata": {
    "id": "0d5c4e60"
   },
   "source": [
    "### Saving The Cleaned Dataset"
   ]
  },
  {
   "cell_type": "code",
   "execution_count": 9,
   "id": "c5ab1c1d",
   "metadata": {
    "id": "c5ab1c1d"
   },
   "outputs": [],
   "source": [
    "df.to_csv('/content/drive/MyDrive/Colab/Arabic Dialect Classifier/clean_text.csv', index = False)"
   ]
  },
  {
   "cell_type": "markdown",
   "id": "1de9fcab",
   "metadata": {
    "id": "1de9fcab"
   },
   "source": [
    "---"
   ]
  },
  {
   "cell_type": "markdown",
   "id": "f1449611",
   "metadata": {
    "id": "f1449611"
   },
   "source": [
    "### Converting the words into Numbers (Counts, Ratios, Logs) & Noise Reduction"
   ]
  },
  {
   "cell_type": "code",
   "execution_count": 10,
   "id": "cf02c5e8",
   "metadata": {
    "colab": {
     "base_uri": "https://localhost:8080/"
    },
    "id": "cf02c5e8",
    "outputId": "11ef795d-4c27-4599-f4f8-31dfaeaeb973"
   },
   "outputs": [
    {
     "data": {
      "text/plain": [
       "array(['EG', 'PL', 'JO', 'LY', 'BH', 'QA', 'IQ', 'SA', 'OM', 'SD', 'SY',\n",
       "       'LB', 'AE', 'KW', 'DZ', 'YE', 'TN', 'MA'], dtype=object)"
      ]
     },
     "execution_count": 10,
     "metadata": {},
     "output_type": "execute_result"
    }
   ],
   "source": [
    "df['dialect'].unique()"
   ]
  },
  {
   "cell_type": "markdown",
   "id": "2eac169f",
   "metadata": {
    "id": "2eac169f"
   },
   "source": [
    "### Count of each Term"
   ]
  },
  {
   "cell_type": "code",
   "execution_count": 11,
   "id": "2593c0b7",
   "metadata": {
    "id": "2593c0b7"
   },
   "outputs": [],
   "source": [
    "def count_words(dialect):\n",
    "    \n",
    "    global total_words_count\n",
    "    dialect_words = Counter()\n",
    "    dialect_df = df[df['dialect'] == dialect]\n",
    "\n",
    "    for num, text in enumerate(df['text']):\n",
    "        if df['dialect'][num] == dialect:\n",
    "            for word in text.split(\" \"):\n",
    "                dialect_words[word] += 1\n",
    "                total_words_counts[word] += 1\n",
    "                    \n",
    "    return dialect_words, total_words_counts"
   ]
  },
  {
   "cell_type": "markdown",
   "id": "5224a14c",
   "metadata": {
    "id": "5224a14c"
   },
   "source": [
    "### Calculate the Ratio (Weight) of each Term for each Dialect"
   ]
  },
  {
   "cell_type": "code",
   "execution_count": 12,
   "id": "786588b7",
   "metadata": {
    "id": "786588b7"
   },
   "outputs": [],
   "source": [
    "def calculate_ratio(dialect_words):\n",
    "    global total_words_counts    \n",
    "    dialect_ratios = Counter()\n",
    "\n",
    "    for term, count in list(total_words_counts.most_common()):\n",
    "        ratio = dialect_words[term] / total_words_counts[term]+1 # Avoiding Zero Division\n",
    "        dialect_ratios[term] = ratio\n",
    "    return dialect_ratios"
   ]
  },
  {
   "cell_type": "markdown",
   "id": "56ff3783",
   "metadata": {
    "id": "56ff3783"
   },
   "source": [
    "### Calculate the Log of each Ratio & Applying Cut-off Margin"
   ]
  },
  {
   "cell_type": "code",
   "execution_count": 13,
   "id": "a4c37a04",
   "metadata": {
    "id": "a4c37a04"
   },
   "outputs": [],
   "source": [
    "def log_of_ratios(ratios_of_dialect_words):\n",
    "    \n",
    "    global ratio_margin\n",
    "    dialect_logs = Counter()\n",
    "    \n",
    "    for term, ratio in list(ratios_of_dialect_words.most_common()):\n",
    "        if ratio > ratio_margin:\n",
    "            dialect_logs[term] = np.log(ratio)\n",
    "    return dialect_logs"
   ]
  },
  {
   "cell_type": "markdown",
   "id": "24e5260f",
   "metadata": {
    "id": "24e5260f"
   },
   "source": [
    "### Calculating Counts"
   ]
  },
  {
   "cell_type": "code",
   "execution_count": 14,
   "id": "563e73c2",
   "metadata": {
    "id": "563e73c2"
   },
   "outputs": [],
   "source": [
    "total_words_counts = Counter()\n",
    "count_of_dialect_words = Counter()\n",
    "\n",
    "for dialect in df['dialect'].unique():\n",
    "    count_of_dialect_words[dialect], total_words_count = count_words(dialect)"
   ]
  },
  {
   "cell_type": "code",
   "execution_count": 15,
   "id": "c30d280b",
   "metadata": {
    "colab": {
     "base_uri": "https://localhost:8080/"
    },
    "id": "c30d280b",
    "outputId": "8b787c13-20a5-4dbd-96d4-f9fe5394a1fe"
   },
   "outputs": [
    {
     "data": {
      "text/plain": [
       "[('الله', 49707),\n",
       " ('مش', 31120),\n",
       " ('والله', 24778),\n",
       " ('شي', 19784),\n",
       " ('ما', 17275),\n",
       " ('انت', 16834),\n",
       " ('ان', 16260),\n",
       " ('عشان', 13396),\n",
       " ('يعني', 13297),\n",
       " ('الناس', 13255)]"
      ]
     },
     "execution_count": 15,
     "metadata": {},
     "output_type": "execute_result"
    }
   ],
   "source": [
    "total_words_counts.most_common(10)"
   ]
  },
  {
   "cell_type": "code",
   "execution_count": 16,
   "id": "d6c23acb",
   "metadata": {
    "colab": {
     "base_uri": "https://localhost:8080/"
    },
    "id": "d6c23acb",
    "outputId": "b2f7acca-40d8-494c-db2c-e4edea4e055b"
   },
   "outputs": [
    {
     "data": {
      "text/plain": [
       "[('كيعرضو', 1),\n",
       " ('الحامضة', 1),\n",
       " ('فالطبخ', 1),\n",
       " ('وفعرض', 1),\n",
       " ('فالاشهار', 1),\n",
       " ('ملاحظتوش', 1),\n",
       " ('البريفي', 1),\n",
       " ('واوحد', 1),\n",
       " ('سيؤدي', 1),\n",
       " ('اليلاد', 1)]"
      ]
     },
     "execution_count": 16,
     "metadata": {},
     "output_type": "execute_result"
    }
   ],
   "source": [
    "list(reversed(total_words_counts.most_common()))[0:10]"
   ]
  },
  {
   "cell_type": "markdown",
   "id": "9b9dea97",
   "metadata": {
    "id": "9b9dea97"
   },
   "source": [
    "### Calculating Ratios"
   ]
  },
  {
   "cell_type": "code",
   "execution_count": 17,
   "id": "10404d50",
   "metadata": {
    "id": "10404d50"
   },
   "outputs": [],
   "source": [
    "ratios_of_dialect_words = Counter()\n",
    "\n",
    "for dialect in df['dialect'].unique():\n",
    "    ratios_of_dialect_words[dialect] = calculate_ratio(count_of_dialect_words[dialect])"
   ]
  },
  {
   "cell_type": "code",
   "execution_count": 18,
   "id": "cbd7f84f",
   "metadata": {
    "colab": {
     "base_uri": "https://localhost:8080/"
    },
    "id": "cbd7f84f",
    "outputId": "eae48c9f-a8f8-47ec-a6ec-79600f247226"
   },
   "outputs": [
    {
     "data": {
      "text/plain": [
       "[('الأهلى', 2.0),\n",
       " ('الهلي', 2.0),\n",
       " ('اوووى', 2.0),\n",
       " ('هتلاقى', 2.0),\n",
       " ('الزملكاويه', 2.0),\n",
       " ('معاكوا', 2.0),\n",
       " ('الموبيل', 2.0),\n",
       " ('مورتا', 2.0),\n",
       " ('السبوبة', 2.0),\n",
       " ('هبقي', 2.0)]"
      ]
     },
     "execution_count": 18,
     "metadata": {},
     "output_type": "execute_result"
    }
   ],
   "source": [
    "ratios_of_dialect_words[\"EG\"].most_common(10)"
   ]
  },
  {
   "cell_type": "code",
   "execution_count": 19,
   "id": "bed1733a",
   "metadata": {
    "colab": {
     "base_uri": "https://localhost:8080/"
    },
    "id": "bed1733a",
    "outputId": "b9e6a104-839b-4897-b21d-045ae62b261d"
   },
   "outputs": [
    {
     "data": {
      "text/plain": [
       "[('هلقيت', 2.0),\n",
       " ('barışarduç', 2.0),\n",
       " ('BAMA', 2.0),\n",
       " ('شيكل', 2.0),\n",
       " ('GoldenEdition', 2.0),\n",
       " ('وقتيش', 2.0),\n",
       " ('يزلمة', 2.0),\n",
       " ('كبشة', 2.0),\n",
       " ('تعون', 2.0),\n",
       " ('آراس', 2.0)]"
      ]
     },
     "execution_count": 19,
     "metadata": {},
     "output_type": "execute_result"
    }
   ],
   "source": [
    "ratios_of_dialect_words[\"PL\"].most_common(10)"
   ]
  },
  {
   "cell_type": "code",
   "execution_count": 20,
   "id": "dd05f576",
   "metadata": {
    "colab": {
     "base_uri": "https://localhost:8080/"
    },
    "id": "dd05f576",
    "outputId": "085b5b1f-1bee-405c-f91a-1c7710f5799b"
   },
   "outputs": [
    {
     "data": {
      "text/plain": [
       "[('العصيدان', 2.0),\n",
       " ('DCB', 2.0),\n",
       " ('إعليميه', 2.0),\n",
       " ('نوخذاك', 2.0),\n",
       " ('تكفه', 2.0),\n",
       " ('سينسي', 2.0),\n",
       " ('چذيه', 2.0),\n",
       " ('باريلا', 2.0),\n",
       " ('kuwait', 2.0),\n",
       " ('العوازم', 2.0)]"
      ]
     },
     "execution_count": 20,
     "metadata": {},
     "output_type": "execute_result"
    }
   ],
   "source": [
    "ratios_of_dialect_words[\"KW\"].most_common(10)"
   ]
  },
  {
   "cell_type": "markdown",
   "id": "96f1c668",
   "metadata": {
    "id": "96f1c668"
   },
   "source": [
    "### Calculating Logs"
   ]
  },
  {
   "cell_type": "code",
   "execution_count": 21,
   "id": "0244a2c8",
   "metadata": {
    "id": "0244a2c8"
   },
   "outputs": [],
   "source": [
    "ratio_margin = 1\n",
    "logs_of_dialect_words = Counter()\n",
    "\n",
    "for dialect in df['dialect'].unique():\n",
    "    logs_of_dialect_words[dialect] = log_of_ratios(ratios_of_dialect_words[dialect])"
   ]
  },
  {
   "cell_type": "code",
   "execution_count": 22,
   "id": "8d17df6c",
   "metadata": {
    "colab": {
     "base_uri": "https://localhost:8080/"
    },
    "id": "8d17df6c",
    "outputId": "0c058681-4089-452e-de19-dceab58547ce"
   },
   "outputs": [
    {
     "data": {
      "text/plain": [
       "[('الأهلى', 0.6931471805599453),\n",
       " ('الهلي', 0.6931471805599453),\n",
       " ('اوووى', 0.6931471805599453),\n",
       " ('هتلاقى', 0.6931471805599453),\n",
       " ('الزملكاويه', 0.6931471805599453),\n",
       " ('معاكوا', 0.6931471805599453),\n",
       " ('الموبيل', 0.6931471805599453),\n",
       " ('مورتا', 0.6931471805599453),\n",
       " ('السبوبة', 0.6931471805599453),\n",
       " ('هبقي', 0.6931471805599453)]"
      ]
     },
     "execution_count": 22,
     "metadata": {},
     "output_type": "execute_result"
    }
   ],
   "source": [
    "logs_of_dialect_words['EG'].most_common(10)"
   ]
  },
  {
   "cell_type": "code",
   "execution_count": 23,
   "id": "6a4def20",
   "metadata": {
    "colab": {
     "base_uri": "https://localhost:8080/"
    },
    "id": "6a4def20",
    "outputId": "97ccc0f8-fea9-4932-f1d9-4d1be7eb9be6"
   },
   "outputs": [
    {
     "data": {
      "text/plain": [
       "[('هلقيت', 0.6931471805599453),\n",
       " ('barışarduç', 0.6931471805599453),\n",
       " ('BAMA', 0.6931471805599453),\n",
       " ('شيكل', 0.6931471805599453),\n",
       " ('GoldenEdition', 0.6931471805599453),\n",
       " ('وقتيش', 0.6931471805599453),\n",
       " ('يزلمة', 0.6931471805599453),\n",
       " ('كبشة', 0.6931471805599453),\n",
       " ('تعون', 0.6931471805599453),\n",
       " ('آراس', 0.6931471805599453)]"
      ]
     },
     "execution_count": 23,
     "metadata": {},
     "output_type": "execute_result"
    }
   ],
   "source": [
    "logs_of_dialect_words['PL'].most_common(10)"
   ]
  },
  {
   "cell_type": "code",
   "execution_count": 24,
   "id": "253ae542",
   "metadata": {
    "colab": {
     "base_uri": "https://localhost:8080/"
    },
    "id": "253ae542",
    "outputId": "e9d0dc72-90ff-4e77-e0f2-cf45ca3809b6"
   },
   "outputs": [
    {
     "data": {
      "text/plain": [
       "[('العصيدان', 0.6931471805599453),\n",
       " ('DCB', 0.6931471805599453),\n",
       " ('إعليميه', 0.6931471805599453),\n",
       " ('نوخذاك', 0.6931471805599453),\n",
       " ('تكفه', 0.6931471805599453),\n",
       " ('سينسي', 0.6931471805599453),\n",
       " ('چذيه', 0.6931471805599453),\n",
       " ('باريلا', 0.6931471805599453),\n",
       " ('kuwait', 0.6931471805599453),\n",
       " ('العوازم', 0.6931471805599453)]"
      ]
     },
     "execution_count": 24,
     "metadata": {},
     "output_type": "execute_result"
    }
   ],
   "source": [
    "logs_of_dialect_words['KW'].most_common(10)"
   ]
  },
  {
   "cell_type": "code",
   "execution_count": 25,
   "id": "74ccf3f7",
   "metadata": {
    "colab": {
     "base_uri": "https://localhost:8080/"
    },
    "id": "74ccf3f7",
    "outputId": "238fb1f3-92a5-48b4-86c4-f6335de581b8"
   },
   "outputs": [
    {
     "data": {
      "text/plain": [
       "[('هضا', 0.6931471805599453),\n",
       " ('الليبيين', 0.6931471805599453),\n",
       " ('درنه', 0.6931471805599453),\n",
       " ('وغوالي', 0.6931471805599453),\n",
       " ('درنة', 0.6931471805599453),\n",
       " ('هكى', 0.6931471805599453),\n",
       " ('وشن', 0.6931471805599453),\n",
       " ('هلبه', 0.6931471805599453),\n",
       " ('ياصديقنا', 0.6931471805599453),\n",
       " ('الليبين', 0.6931471805599453)]"
      ]
     },
     "execution_count": 25,
     "metadata": {},
     "output_type": "execute_result"
    }
   ],
   "source": [
    "logs_of_dialect_words['LY'].most_common(10)"
   ]
  },
  {
   "cell_type": "code",
   "execution_count": 26,
   "id": "0f8b3b3a",
   "metadata": {
    "colab": {
     "base_uri": "https://localhost:8080/"
    },
    "id": "0f8b3b3a",
    "outputId": "c38e0380-2ca2-4c0f-820e-2351f24fcafa"
   },
   "outputs": [
    {
     "data": {
      "text/plain": [
       "[('الغرافه', 0.6931471805599453),\n",
       " ('يالمصخره', 0.6931471805599453),\n",
       " ('سلمانكو', 0.6931471805599453),\n",
       " ('يامهات', 0.6931471805599453),\n",
       " ('استحماركم', 0.6931471805599453),\n",
       " ('الضعوي', 0.6931471805599453),\n",
       " ('المهلكة', 0.6931471805599453),\n",
       " ('قامكو', 0.6931471805599453),\n",
       " ('يادليم', 0.6931471805599453),\n",
       " ('بلفيت', 0.6931471805599453)]"
      ]
     },
     "execution_count": 26,
     "metadata": {},
     "output_type": "execute_result"
    }
   ],
   "source": [
    "logs_of_dialect_words['QA'].most_common(10)"
   ]
  },
  {
   "cell_type": "markdown",
   "id": "6070446b",
   "metadata": {
    "id": "6070446b"
   },
   "source": [
    "----"
   ]
  },
  {
   "cell_type": "markdown",
   "id": "490e1a03",
   "metadata": {
    "id": "490e1a03"
   },
   "source": [
    "### Further Noise Reduction"
   ]
  },
  {
   "cell_type": "markdown",
   "id": "71341884",
   "metadata": {
    "id": "71341884"
   },
   "source": [
    "#### Visualizing the Ratios"
   ]
  },
  {
   "cell_type": "code",
   "execution_count": 27,
   "id": "6b151935",
   "metadata": {
    "colab": {
     "base_uri": "https://localhost:8080/",
     "height": 1000
    },
    "id": "6b151935",
    "outputId": "e2fce2a5-ac70-4172-a9a3-a74c3663df13",
    "scrolled": true
   },
   "outputs": [
    {
     "data": {
      "application/javascript": [
       "\n",
       "(function(root) {\n",
       "  function now() {\n",
       "    return new Date();\n",
       "  }\n",
       "\n",
       "  var force = true;\n",
       "\n",
       "  if (typeof root._bokeh_onload_callbacks === \"undefined\" || force === true) {\n",
       "    root._bokeh_onload_callbacks = [];\n",
       "    root._bokeh_is_loading = undefined;\n",
       "  }\n",
       "\n",
       "  var JS_MIME_TYPE = 'application/javascript';\n",
       "  var HTML_MIME_TYPE = 'text/html';\n",
       "  var EXEC_MIME_TYPE = 'application/vnd.bokehjs_exec.v0+json';\n",
       "  var CLASS_NAME = 'output_bokeh rendered_html';\n",
       "\n",
       "  /**\n",
       "   * Render data to the DOM node\n",
       "   */\n",
       "  function render(props, node) {\n",
       "    var script = document.createElement(\"script\");\n",
       "    node.appendChild(script);\n",
       "  }\n",
       "\n",
       "  /**\n",
       "   * Handle when an output is cleared or removed\n",
       "   */\n",
       "  function handleClearOutput(event, handle) {\n",
       "    var cell = handle.cell;\n",
       "\n",
       "    var id = cell.output_area._bokeh_element_id;\n",
       "    var server_id = cell.output_area._bokeh_server_id;\n",
       "    // Clean up Bokeh references\n",
       "    if (id != null && id in Bokeh.index) {\n",
       "      Bokeh.index[id].model.document.clear();\n",
       "      delete Bokeh.index[id];\n",
       "    }\n",
       "\n",
       "    if (server_id !== undefined) {\n",
       "      // Clean up Bokeh references\n",
       "      var cmd = \"from bokeh.io.state import curstate; print(curstate().uuid_to_server['\" + server_id + \"'].get_sessions()[0].document.roots[0]._id)\";\n",
       "      cell.notebook.kernel.execute(cmd, {\n",
       "        iopub: {\n",
       "          output: function(msg) {\n",
       "            var id = msg.content.text.trim();\n",
       "            if (id in Bokeh.index) {\n",
       "              Bokeh.index[id].model.document.clear();\n",
       "              delete Bokeh.index[id];\n",
       "            }\n",
       "          }\n",
       "        }\n",
       "      });\n",
       "      // Destroy server and session\n",
       "      var cmd = \"import bokeh.io.notebook as ion; ion.destroy_server('\" + server_id + \"')\";\n",
       "      cell.notebook.kernel.execute(cmd);\n",
       "    }\n",
       "  }\n",
       "\n",
       "  /**\n",
       "   * Handle when a new output is added\n",
       "   */\n",
       "  function handleAddOutput(event, handle) {\n",
       "    var output_area = handle.output_area;\n",
       "    var output = handle.output;\n",
       "\n",
       "    // limit handleAddOutput to display_data with EXEC_MIME_TYPE content only\n",
       "    if ((output.output_type != \"display_data\") || (!Object.prototype.hasOwnProperty.call(output.data, EXEC_MIME_TYPE))) {\n",
       "      return\n",
       "    }\n",
       "\n",
       "    var toinsert = output_area.element.find(\".\" + CLASS_NAME.split(' ')[0]);\n",
       "\n",
       "    if (output.metadata[EXEC_MIME_TYPE][\"id\"] !== undefined) {\n",
       "      toinsert[toinsert.length - 1].firstChild.textContent = output.data[JS_MIME_TYPE];\n",
       "      // store reference to embed id on output_area\n",
       "      output_area._bokeh_element_id = output.metadata[EXEC_MIME_TYPE][\"id\"];\n",
       "    }\n",
       "    if (output.metadata[EXEC_MIME_TYPE][\"server_id\"] !== undefined) {\n",
       "      var bk_div = document.createElement(\"div\");\n",
       "      bk_div.innerHTML = output.data[HTML_MIME_TYPE];\n",
       "      var script_attrs = bk_div.children[0].attributes;\n",
       "      for (var i = 0; i < script_attrs.length; i++) {\n",
       "        toinsert[toinsert.length - 1].firstChild.setAttribute(script_attrs[i].name, script_attrs[i].value);\n",
       "        toinsert[toinsert.length - 1].firstChild.textContent = bk_div.children[0].textContent\n",
       "      }\n",
       "      // store reference to server id on output_area\n",
       "      output_area._bokeh_server_id = output.metadata[EXEC_MIME_TYPE][\"server_id\"];\n",
       "    }\n",
       "  }\n",
       "\n",
       "  function register_renderer(events, OutputArea) {\n",
       "\n",
       "    function append_mime(data, metadata, element) {\n",
       "      // create a DOM node to render to\n",
       "      var toinsert = this.create_output_subarea(\n",
       "        metadata,\n",
       "        CLASS_NAME,\n",
       "        EXEC_MIME_TYPE\n",
       "      );\n",
       "      this.keyboard_manager.register_events(toinsert);\n",
       "      // Render to node\n",
       "      var props = {data: data, metadata: metadata[EXEC_MIME_TYPE]};\n",
       "      render(props, toinsert[toinsert.length - 1]);\n",
       "      element.append(toinsert);\n",
       "      return toinsert\n",
       "    }\n",
       "\n",
       "    /* Handle when an output is cleared or removed */\n",
       "    events.on('clear_output.CodeCell', handleClearOutput);\n",
       "    events.on('delete.Cell', handleClearOutput);\n",
       "\n",
       "    /* Handle when a new output is added */\n",
       "    events.on('output_added.OutputArea', handleAddOutput);\n",
       "\n",
       "    /**\n",
       "     * Register the mime type and append_mime function with output_area\n",
       "     */\n",
       "    OutputArea.prototype.register_mime_type(EXEC_MIME_TYPE, append_mime, {\n",
       "      /* Is output safe? */\n",
       "      safe: true,\n",
       "      /* Index of renderer in `output_area.display_order` */\n",
       "      index: 0\n",
       "    });\n",
       "  }\n",
       "\n",
       "  // register the mime type if in Jupyter Notebook environment and previously unregistered\n",
       "  if (root.Jupyter !== undefined) {\n",
       "    var events = require('base/js/events');\n",
       "    var OutputArea = require('notebook/js/outputarea').OutputArea;\n",
       "\n",
       "    if (OutputArea.prototype.mime_types().indexOf(EXEC_MIME_TYPE) == -1) {\n",
       "      register_renderer(events, OutputArea);\n",
       "    }\n",
       "  }\n",
       "\n",
       "  \n",
       "  if (typeof (root._bokeh_timeout) === \"undefined\" || force === true) {\n",
       "    root._bokeh_timeout = Date.now() + 5000;\n",
       "    root._bokeh_failed_load = false;\n",
       "  }\n",
       "\n",
       "  var NB_LOAD_WARNING = {'data': {'text/html':\n",
       "     \"<div style='background-color: #fdd'>\\n\"+\n",
       "     \"<p>\\n\"+\n",
       "     \"BokehJS does not appear to have successfully loaded. If loading BokehJS from CDN, this \\n\"+\n",
       "     \"may be due to a slow or bad network connection. Possible fixes:\\n\"+\n",
       "     \"</p>\\n\"+\n",
       "     \"<ul>\\n\"+\n",
       "     \"<li>re-rerun `output_notebook()` to attempt to load from CDN again, or</li>\\n\"+\n",
       "     \"<li>use INLINE resources instead, as so:</li>\\n\"+\n",
       "     \"</ul>\\n\"+\n",
       "     \"<code>\\n\"+\n",
       "     \"from bokeh.resources import INLINE\\n\"+\n",
       "     \"output_notebook(resources=INLINE)\\n\"+\n",
       "     \"</code>\\n\"+\n",
       "     \"</div>\"}};\n",
       "\n",
       "  function display_loaded() {\n",
       "    var el = document.getElementById(null);\n",
       "    if (el != null) {\n",
       "      el.textContent = \"BokehJS is loading...\";\n",
       "    }\n",
       "    if (root.Bokeh !== undefined) {\n",
       "      if (el != null) {\n",
       "        el.textContent = \"BokehJS \" + root.Bokeh.version + \" successfully loaded.\";\n",
       "      }\n",
       "    } else if (Date.now() < root._bokeh_timeout) {\n",
       "      setTimeout(display_loaded, 100)\n",
       "    }\n",
       "  }\n",
       "\n",
       "\n",
       "  function run_callbacks() {\n",
       "    try {\n",
       "      root._bokeh_onload_callbacks.forEach(function(callback) {\n",
       "        if (callback != null)\n",
       "          callback();\n",
       "      });\n",
       "    } finally {\n",
       "      delete root._bokeh_onload_callbacks\n",
       "    }\n",
       "    console.debug(\"Bokeh: all callbacks have finished\");\n",
       "  }\n",
       "\n",
       "  function load_libs(css_urls, js_urls, callback) {\n",
       "    if (css_urls == null) css_urls = [];\n",
       "    if (js_urls == null) js_urls = [];\n",
       "\n",
       "    root._bokeh_onload_callbacks.push(callback);\n",
       "    if (root._bokeh_is_loading > 0) {\n",
       "      console.debug(\"Bokeh: BokehJS is being loaded, scheduling callback at\", now());\n",
       "      return null;\n",
       "    }\n",
       "    if (js_urls == null || js_urls.length === 0) {\n",
       "      run_callbacks();\n",
       "      return null;\n",
       "    }\n",
       "    console.debug(\"Bokeh: BokehJS not loaded, scheduling load and callback at\", now());\n",
       "    root._bokeh_is_loading = css_urls.length + js_urls.length;\n",
       "\n",
       "    function on_load() {\n",
       "      root._bokeh_is_loading--;\n",
       "      if (root._bokeh_is_loading === 0) {\n",
       "        console.debug(\"Bokeh: all BokehJS libraries/stylesheets loaded\");\n",
       "        run_callbacks()\n",
       "      }\n",
       "    }\n",
       "\n",
       "    function on_error(url) {\n",
       "      console.error(\"failed to load \" + url);\n",
       "    }\n",
       "\n",
       "    for (let i = 0; i < css_urls.length; i++) {\n",
       "      const url = css_urls[i];\n",
       "      const element = document.createElement(\"link\");\n",
       "      element.onload = on_load;\n",
       "      element.onerror = on_error.bind(null, url);\n",
       "      element.rel = \"stylesheet\";\n",
       "      element.type = \"text/css\";\n",
       "      element.href = url;\n",
       "      console.debug(\"Bokeh: injecting link tag for BokehJS stylesheet: \", url);\n",
       "      document.body.appendChild(element);\n",
       "    }\n",
       "\n",
       "    const hashes = {\"https://cdn.bokeh.org/bokeh/release/bokeh-2.3.3.min.js\": \"dM3QQsP+wXdHg42wTqW85BjZQdLNNIXqlPw/BgKoExPmTG7ZLML4EGqLMfqHT6ON\", \"https://cdn.bokeh.org/bokeh/release/bokeh-tables-2.3.3.min.js\": \"8x57I4YuIfu8XyZfFo0XVr2WAT8EK4rh/uDe3wF7YuW2FNUSNEpJbsPaB1nJ2fz2\", \"https://cdn.bokeh.org/bokeh/release/bokeh-widgets-2.3.3.min.js\": \"3QTqdz9LyAm2i0sG5XTePsHec3UHWwVsrOL68SYRoAXsafvfAyqtQ+h440+qIBhS\"};\n",
       "\n",
       "    for (let i = 0; i < js_urls.length; i++) {\n",
       "      const url = js_urls[i];\n",
       "      const element = document.createElement('script');\n",
       "      element.onload = on_load;\n",
       "      element.onerror = on_error.bind(null, url);\n",
       "      element.async = false;\n",
       "      element.src = url;\n",
       "      if (url in hashes) {\n",
       "        element.crossOrigin = \"anonymous\";\n",
       "        element.integrity = \"sha384-\" + hashes[url];\n",
       "      }\n",
       "      console.debug(\"Bokeh: injecting script tag for BokehJS library: \", url);\n",
       "      document.head.appendChild(element);\n",
       "    }\n",
       "  };\n",
       "\n",
       "  function inject_raw_css(css) {\n",
       "    const element = document.createElement(\"style\");\n",
       "    element.appendChild(document.createTextNode(css));\n",
       "    document.body.appendChild(element);\n",
       "  }\n",
       "\n",
       "  \n",
       "  var js_urls = [\"https://cdn.bokeh.org/bokeh/release/bokeh-2.3.3.min.js\", \"https://cdn.bokeh.org/bokeh/release/bokeh-widgets-2.3.3.min.js\", \"https://cdn.bokeh.org/bokeh/release/bokeh-tables-2.3.3.min.js\"];\n",
       "  var css_urls = [];\n",
       "  \n",
       "\n",
       "  var inline_js = [\n",
       "    function(Bokeh) {\n",
       "      Bokeh.set_log_level(\"info\");\n",
       "    },\n",
       "    function(Bokeh) {\n",
       "    \n",
       "    \n",
       "    }\n",
       "  ];\n",
       "\n",
       "  function run_inline_js() {\n",
       "    \n",
       "    if (root.Bokeh !== undefined || force === true) {\n",
       "      \n",
       "    for (var i = 0; i < inline_js.length; i++) {\n",
       "      inline_js[i].call(root, root.Bokeh);\n",
       "    }\n",
       "    } else if (Date.now() < root._bokeh_timeout) {\n",
       "      setTimeout(run_inline_js, 100);\n",
       "    } else if (!root._bokeh_failed_load) {\n",
       "      console.log(\"Bokeh: BokehJS failed to load within specified timeout.\");\n",
       "      root._bokeh_failed_load = true;\n",
       "    } else if (force !== true) {\n",
       "      var cell = $(document.getElementById(null)).parents('.cell').data().cell;\n",
       "      cell.output_area.append_execute_result(NB_LOAD_WARNING)\n",
       "    }\n",
       "\n",
       "  }\n",
       "\n",
       "  if (root._bokeh_is_loading === 0) {\n",
       "    console.debug(\"Bokeh: BokehJS loaded, going straight to plotting\");\n",
       "    run_inline_js();\n",
       "  } else {\n",
       "    load_libs(css_urls, js_urls, function() {\n",
       "      console.debug(\"Bokeh: BokehJS plotting callback run at\", now());\n",
       "      run_inline_js();\n",
       "    });\n",
       "  }\n",
       "}(window));"
      ],
      "application/vnd.bokehjs_load.v0+json": "\n(function(root) {\n  function now() {\n    return new Date();\n  }\n\n  var force = true;\n\n  if (typeof root._bokeh_onload_callbacks === \"undefined\" || force === true) {\n    root._bokeh_onload_callbacks = [];\n    root._bokeh_is_loading = undefined;\n  }\n\n  \n\n  \n  if (typeof (root._bokeh_timeout) === \"undefined\" || force === true) {\n    root._bokeh_timeout = Date.now() + 5000;\n    root._bokeh_failed_load = false;\n  }\n\n  var NB_LOAD_WARNING = {'data': {'text/html':\n     \"<div style='background-color: #fdd'>\\n\"+\n     \"<p>\\n\"+\n     \"BokehJS does not appear to have successfully loaded. If loading BokehJS from CDN, this \\n\"+\n     \"may be due to a slow or bad network connection. Possible fixes:\\n\"+\n     \"</p>\\n\"+\n     \"<ul>\\n\"+\n     \"<li>re-rerun `output_notebook()` to attempt to load from CDN again, or</li>\\n\"+\n     \"<li>use INLINE resources instead, as so:</li>\\n\"+\n     \"</ul>\\n\"+\n     \"<code>\\n\"+\n     \"from bokeh.resources import INLINE\\n\"+\n     \"output_notebook(resources=INLINE)\\n\"+\n     \"</code>\\n\"+\n     \"</div>\"}};\n\n  function display_loaded() {\n    var el = document.getElementById(null);\n    if (el != null) {\n      el.textContent = \"BokehJS is loading...\";\n    }\n    if (root.Bokeh !== undefined) {\n      if (el != null) {\n        el.textContent = \"BokehJS \" + root.Bokeh.version + \" successfully loaded.\";\n      }\n    } else if (Date.now() < root._bokeh_timeout) {\n      setTimeout(display_loaded, 100)\n    }\n  }\n\n\n  function run_callbacks() {\n    try {\n      root._bokeh_onload_callbacks.forEach(function(callback) {\n        if (callback != null)\n          callback();\n      });\n    } finally {\n      delete root._bokeh_onload_callbacks\n    }\n    console.debug(\"Bokeh: all callbacks have finished\");\n  }\n\n  function load_libs(css_urls, js_urls, callback) {\n    if (css_urls == null) css_urls = [];\n    if (js_urls == null) js_urls = [];\n\n    root._bokeh_onload_callbacks.push(callback);\n    if (root._bokeh_is_loading > 0) {\n      console.debug(\"Bokeh: BokehJS is being loaded, scheduling callback at\", now());\n      return null;\n    }\n    if (js_urls == null || js_urls.length === 0) {\n      run_callbacks();\n      return null;\n    }\n    console.debug(\"Bokeh: BokehJS not loaded, scheduling load and callback at\", now());\n    root._bokeh_is_loading = css_urls.length + js_urls.length;\n\n    function on_load() {\n      root._bokeh_is_loading--;\n      if (root._bokeh_is_loading === 0) {\n        console.debug(\"Bokeh: all BokehJS libraries/stylesheets loaded\");\n        run_callbacks()\n      }\n    }\n\n    function on_error(url) {\n      console.error(\"failed to load \" + url);\n    }\n\n    for (let i = 0; i < css_urls.length; i++) {\n      const url = css_urls[i];\n      const element = document.createElement(\"link\");\n      element.onload = on_load;\n      element.onerror = on_error.bind(null, url);\n      element.rel = \"stylesheet\";\n      element.type = \"text/css\";\n      element.href = url;\n      console.debug(\"Bokeh: injecting link tag for BokehJS stylesheet: \", url);\n      document.body.appendChild(element);\n    }\n\n    const hashes = {\"https://cdn.bokeh.org/bokeh/release/bokeh-2.3.3.min.js\": \"dM3QQsP+wXdHg42wTqW85BjZQdLNNIXqlPw/BgKoExPmTG7ZLML4EGqLMfqHT6ON\", \"https://cdn.bokeh.org/bokeh/release/bokeh-tables-2.3.3.min.js\": \"8x57I4YuIfu8XyZfFo0XVr2WAT8EK4rh/uDe3wF7YuW2FNUSNEpJbsPaB1nJ2fz2\", \"https://cdn.bokeh.org/bokeh/release/bokeh-widgets-2.3.3.min.js\": \"3QTqdz9LyAm2i0sG5XTePsHec3UHWwVsrOL68SYRoAXsafvfAyqtQ+h440+qIBhS\"};\n\n    for (let i = 0; i < js_urls.length; i++) {\n      const url = js_urls[i];\n      const element = document.createElement('script');\n      element.onload = on_load;\n      element.onerror = on_error.bind(null, url);\n      element.async = false;\n      element.src = url;\n      if (url in hashes) {\n        element.crossOrigin = \"anonymous\";\n        element.integrity = \"sha384-\" + hashes[url];\n      }\n      console.debug(\"Bokeh: injecting script tag for BokehJS library: \", url);\n      document.head.appendChild(element);\n    }\n  };\n\n  function inject_raw_css(css) {\n    const element = document.createElement(\"style\");\n    element.appendChild(document.createTextNode(css));\n    document.body.appendChild(element);\n  }\n\n  \n  var js_urls = [\"https://cdn.bokeh.org/bokeh/release/bokeh-2.3.3.min.js\", \"https://cdn.bokeh.org/bokeh/release/bokeh-widgets-2.3.3.min.js\", \"https://cdn.bokeh.org/bokeh/release/bokeh-tables-2.3.3.min.js\"];\n  var css_urls = [];\n  \n\n  var inline_js = [\n    function(Bokeh) {\n      Bokeh.set_log_level(\"info\");\n    },\n    function(Bokeh) {\n    \n    \n    }\n  ];\n\n  function run_inline_js() {\n    \n    if (root.Bokeh !== undefined || force === true) {\n      \n    for (var i = 0; i < inline_js.length; i++) {\n      inline_js[i].call(root, root.Bokeh);\n    }\n    } else if (Date.now() < root._bokeh_timeout) {\n      setTimeout(run_inline_js, 100);\n    } else if (!root._bokeh_failed_load) {\n      console.log(\"Bokeh: BokehJS failed to load within specified timeout.\");\n      root._bokeh_failed_load = true;\n    } else if (force !== true) {\n      var cell = $(document.getElementById(null)).parents('.cell').data().cell;\n      cell.output_area.append_execute_result(NB_LOAD_WARNING)\n    }\n\n  }\n\n  if (root._bokeh_is_loading === 0) {\n    console.debug(\"Bokeh: BokehJS loaded, going straight to plotting\");\n    run_inline_js();\n  } else {\n    load_libs(css_urls, js_urls, function() {\n      console.debug(\"Bokeh: BokehJS plotting callback run at\", now());\n      run_inline_js();\n    });\n  }\n}(window));"
     },
     "metadata": {},
     "output_type": "display_data"
    },
    {
     "data": {
      "text/html": [
       "\n",
       "\n",
       "\n",
       "\n",
       "\n",
       "\n",
       "  <div class=\"bk-root\" id=\"04b952ad-ca32-4869-a091-464cd4221834\" data-root-id=\"1002\"></div>\n"
      ]
     },
     "metadata": {},
     "output_type": "display_data"
    },
    {
     "data": {
      "application/javascript": [
       "(function(root) {\n",
       "  function embed_document(root) {\n",
       "    \n",
       "  var docs_json = {\"f064155b-eff5-46b2-926a-4cc40123d2da\":{\"defs\":[],\"roots\":{\"references\":[{\"attributes\":{\"below\":[{\"id\":\"1013\"}],\"center\":[{\"id\":\"1016\"},{\"id\":\"1020\"}],\"left\":[{\"id\":\"1017\"}],\"renderers\":[{\"id\":\"1033\"}],\"title\":{\"id\":\"1003\"},\"toolbar\":{\"id\":\"1025\"},\"toolbar_location\":\"above\",\"x_range\":{\"id\":\"1005\"},\"x_scale\":{\"id\":\"1009\"},\"y_range\":{\"id\":\"1007\"},\"y_scale\":{\"id\":\"1011\"}},\"id\":\"1002\",\"subtype\":\"Figure\",\"type\":\"Plot\"},{\"attributes\":{\"data_source\":{\"id\":\"1030\"},\"glyph\":{\"id\":\"1031\"},\"hover_glyph\":null,\"muted_glyph\":null,\"nonselection_glyph\":{\"id\":\"1032\"},\"view\":{\"id\":\"1034\"}},\"id\":\"1033\",\"type\":\"GlyphRenderer\"},{\"attributes\":{\"source\":{\"id\":\"1030\"}},\"id\":\"1034\",\"type\":\"CDSView\"},{\"attributes\":{},\"id\":\"1014\",\"type\":\"BasicTicker\"},{\"attributes\":{},\"id\":\"1041\",\"type\":\"AllLabels\"},{\"attributes\":{},\"id\":\"1018\",\"type\":\"BasicTicker\"},{\"attributes\":{\"axis\":{\"id\":\"1013\"},\"ticker\":null},\"id\":\"1016\",\"type\":\"Grid\"},{\"attributes\":{\"formatter\":{\"id\":\"1039\"},\"major_label_policy\":{\"id\":\"1041\"},\"ticker\":{\"id\":\"1014\"}},\"id\":\"1013\",\"type\":\"LinearAxis\"},{\"attributes\":{},\"id\":\"1022\",\"type\":\"WheelZoomTool\"},{\"attributes\":{},\"id\":\"1011\",\"type\":\"LinearScale\"},{\"attributes\":{\"active_multi\":null,\"tools\":[{\"id\":\"1021\"},{\"id\":\"1022\"},{\"id\":\"1023\"},{\"id\":\"1024\"}]},\"id\":\"1025\",\"type\":\"Toolbar\"},{\"attributes\":{},\"id\":\"1009\",\"type\":\"LinearScale\"},{\"attributes\":{},\"id\":\"1036\",\"type\":\"BasicTickFormatter\"},{\"attributes\":{\"bottom\":{\"value\":0},\"fill_color\":{\"value\":\"#1f77b4\"},\"left\":{\"field\":\"left\"},\"line_color\":{\"value\":\"#555555\"},\"right\":{\"field\":\"right\"},\"top\":{\"field\":\"top\"}},\"id\":\"1031\",\"type\":\"Quad\"},{\"attributes\":{},\"id\":\"1021\",\"type\":\"PanTool\"},{\"attributes\":{},\"id\":\"1005\",\"type\":\"DataRange1d\"},{\"attributes\":{\"formatter\":{\"id\":\"1036\"},\"major_label_policy\":{\"id\":\"1038\"},\"ticker\":{\"id\":\"1018\"}},\"id\":\"1017\",\"type\":\"LinearAxis\"},{\"attributes\":{},\"id\":\"1042\",\"type\":\"Selection\"},{\"attributes\":{\"data\":{\"left\":{\"__ndarray__\":\"AAAAAAAA8D8pXI/C9SjwP1K4HoXrUfA/exSuR+F68D+kcD0K16PwP83MzMzMzPA/9ihcj8L18D8fhetRuB7xP0jhehSuR/E/cT0K16Nw8T+amZmZmZnxP8P1KFyPwvE/7FG4HoXr8T8UrkfhehTyPz4K16NwPfI/ZmZmZmZm8j+PwvUoXI/yP7gehetRuPI/4XoUrkfh8j8K16NwPQrzPzMzMzMzM/M/XI/C9Shc8z+F61G4HoXzP65H4XoUrvM/16NwPQrX8z8AAAAAAAD0Pylcj8L1KPQ/UrgehetR9D97FK5H4Xr0P6RwPQrXo/Q/zczMzMzM9D/2KFyPwvX0Px+F61G4HvU/SOF6FK5H9T9xPQrXo3D1P5qZmZmZmfU/wvUoXI/C9T/sUbgehev1PxSuR+F6FPY/PgrXo3A99j9mZmZmZmb2P5DC9Shcj/Y/uB6F61G49j/hehSuR+H2PwrXo3A9Cvc/MzMzMzMz9z9cj8L1KFz3P4XrUbgehfc/rkfhehSu9z/Xo3A9Ctf3PwAAAAAAAPg/KVyPwvUo+D9SuB6F61H4P3sUrkfhevg/pHA9Ctej+D/NzMzMzMz4P/YoXI/C9fg/H4XrUbge+T9I4XoUrkf5P3A9CtejcPk/mpmZmZmZ+T/C9Shcj8L5P+xRuB6F6/k/FK5H4XoU+j8+CtejcD36P2ZmZmZmZvo/kML1KFyP+j+4HoXrUbj6P+J6FK5H4fo/CtejcD0K+z80MzMzMzP7P1yPwvUoXPs/hetRuB6F+z+uR+F6FK77P9ejcD0K1/s/AAAAAAAA/D8pXI/C9Sj8P1K4HoXrUfw/exSuR+F6/D+kcD0K16P8P83MzMzMzPw/9ihcj8L1/D8fhetRuB79P0jhehSuR/0/cD0K16Nw/T+amZmZmZn9P8L1KFyPwv0/7FG4HoXr/T8UrkfhehT+Pz4K16NwPf4/ZmZmZmZm/j+QwvUoXI/+P7gehetRuP4/4noUrkfh/j8K16NwPQr/PzQzMzMzM/8/XI/C9Shc/z+F61G4HoX/P65H4XoUrv8/16NwPQrX/z8=\",\"dtype\":\"float64\",\"order\":\"little\",\"shape\":[100]},\"right\":{\"__ndarray__\":\"KVyPwvUo8D9SuB6F61HwP3sUrkfhevA/pHA9Ctej8D/NzMzMzMzwP/YoXI/C9fA/H4XrUbge8T9I4XoUrkfxP3E9CtejcPE/mpmZmZmZ8T/D9Shcj8LxP+xRuB6F6/E/FK5H4XoU8j8+CtejcD3yP2ZmZmZmZvI/j8L1KFyP8j+4HoXrUbjyP+F6FK5H4fI/CtejcD0K8z8zMzMzMzPzP1yPwvUoXPM/hetRuB6F8z+uR+F6FK7zP9ejcD0K1/M/AAAAAAAA9D8pXI/C9Sj0P1K4HoXrUfQ/exSuR+F69D+kcD0K16P0P83MzMzMzPQ/9ihcj8L19D8fhetRuB71P0jhehSuR/U/cT0K16Nw9T+amZmZmZn1P8L1KFyPwvU/7FG4HoXr9T8UrkfhehT2Pz4K16NwPfY/ZmZmZmZm9j+QwvUoXI/2P7gehetRuPY/4XoUrkfh9j8K16NwPQr3PzMzMzMzM/c/XI/C9Shc9z+F61G4HoX3P65H4XoUrvc/16NwPQrX9z8AAAAAAAD4Pylcj8L1KPg/UrgehetR+D97FK5H4Xr4P6RwPQrXo/g/zczMzMzM+D/2KFyPwvX4Px+F61G4Hvk/SOF6FK5H+T9wPQrXo3D5P5qZmZmZmfk/wvUoXI/C+T/sUbgehev5PxSuR+F6FPo/PgrXo3A9+j9mZmZmZmb6P5DC9Shcj/o/uB6F61G4+j/iehSuR+H6PwrXo3A9Cvs/NDMzMzMz+z9cj8L1KFz7P4XrUbgehfs/rkfhehSu+z/Xo3A9Ctf7PwAAAAAAAPw/KVyPwvUo/D9SuB6F61H8P3sUrkfhevw/pHA9Ctej/D/NzMzMzMz8P/YoXI/C9fw/H4XrUbge/T9I4XoUrkf9P3A9CtejcP0/mpmZmZmZ/T/C9Shcj8L9P+xRuB6F6/0/FK5H4XoU/j8+CtejcD3+P2ZmZmZmZv4/kML1KFyP/j+4HoXrUbj+P+J6FK5H4f4/CtejcD0K/z80MzMzMzP/P1yPwvUoXP8/hetRuB6F/z+uR+F6FK7/P9ejcD0K1/8/AAAAAAAAAEA=\",\"dtype\":\"float64\",\"order\":\"little\",\"shape\":[100]},\"top\":{\"__ndarray__\":\"p5C0rXoZU0DfpQobYRTAP1UiWYCyBMk/5tSho3RCzD8Lxrjfkj7RPzYdqBo5AdU/WH7p92lI0z8DC5xh5Y/WPwzIYJS8WNU/3BONB0pF1T8MyghJ5nLZP6kDKQMg7to/eBXUv02Q3T+JqCP1GIDNP6+hXLw+0d8/kitncZD+zj+Zfn4ur8vjP48lb1MTsMI/urVHuVclzT9O+GU7Bxi3P/oX6pKuO+c/DM0E2CSavz/Qw/bmRqDJP/W1Yf15qcA/VSJZgLIEqT+KnGr6lFftP32r5e1kHrU/zTAl+RrEvD8ViXUw51XMP0U7oQgwT6g/GR9DrVFZvz87ftzVWIapP9bt6SvyjJs/+rGMhkl09T+BQF+QuhSWP1zdPm/E6qg/WInJCvxirj97FjW8c1+5P0FFHRhF2qM/f3RgxkP7jT9/YyMoTerQP7mkf7GwPqM/JW/ZzVT+uj9ooDJPtMqOP9DD9uZGoKk/nXetKEBvoj+tYrUJFlmbP0Gkf7GwPpM/RTuhCDBPiD/YfGuwyjRgP9Y2azzsdAJA2HxrsMo0gD/pZ3ORoB6JPxcZS4/UCpM/xgLiShyjkj/Ec2DGQ/udP8YC4koco4I/7f6U6B8vrj+C7ukr8oyLPw4Oz3+/f3c/qDdRn9wawD87qq5eyVWKP1TpK6Rnx50/OjRyWxc4kT/dO6EIME+IP4rAF6OBvXo//Fg5+gDO3z+onzJPtMpuP4glOMR354c/uOa6ftl1lD+Sk9T0gpyAP+hjIyhN6qA/KARTcKr0iz+ziFjlbRGFP9bt6SvyjGs/kCbDLSi9xD+qy5OylkiGP2Fy76C1qZQ/K5PU9IKcgD9ooDJPtMpuPxuuxDEqAbQ/RTuhCDBPiD9qL7TTjHJzP/gWbEsPKKQ/8C6004xygz8CkIeShiicP8kZvLRiXHw/Drvo9Wimkz/gce+gtamUPz59a7DKNHA/c3xrsMo0kD/SzQTYJJp/P3N8a7DKNIA/4bUqbt7gdT+KwBejgb16P+QvtNOMcmM/2HxrsMo0cD9qL7TTjHJTP46URRoR7jk/CwjC1/MYIkA=\",\"dtype\":\"float64\",\"order\":\"little\",\"shape\":[100]}},\"selected\":{\"id\":\"1042\"},\"selection_policy\":{\"id\":\"1043\"}},\"id\":\"1030\",\"type\":\"ColumnDataSource\"},{\"attributes\":{},\"id\":\"1038\",\"type\":\"AllLabels\"},{\"attributes\":{},\"id\":\"1039\",\"type\":\"BasicTickFormatter\"},{\"attributes\":{\"bottom\":{\"value\":0},\"fill_alpha\":{\"value\":0.1},\"fill_color\":{\"value\":\"#1f77b4\"},\"left\":{\"field\":\"left\"},\"line_alpha\":{\"value\":0.1},\"line_color\":{\"value\":\"#555555\"},\"right\":{\"field\":\"right\"},\"top\":{\"field\":\"top\"}},\"id\":\"1032\",\"type\":\"Quad\"},{\"attributes\":{},\"id\":\"1023\",\"type\":\"ResetTool\"},{\"attributes\":{},\"id\":\"1043\",\"type\":\"UnionRenderers\"},{\"attributes\":{\"axis\":{\"id\":\"1017\"},\"dimension\":1,\"ticker\":null},\"id\":\"1020\",\"type\":\"Grid\"},{\"attributes\":{\"text\":\"EG Terms Ratios Affinity Distribution\"},\"id\":\"1003\",\"type\":\"Title\"},{\"attributes\":{},\"id\":\"1024\",\"type\":\"SaveTool\"},{\"attributes\":{},\"id\":\"1007\",\"type\":\"DataRange1d\"}],\"root_ids\":[\"1002\"]},\"title\":\"Bokeh Application\",\"version\":\"2.3.3\"}};\n",
       "  var render_items = [{\"docid\":\"f064155b-eff5-46b2-926a-4cc40123d2da\",\"root_ids\":[\"1002\"],\"roots\":{\"1002\":\"04b952ad-ca32-4869-a091-464cd4221834\"}}];\n",
       "  root.Bokeh.embed.embed_items_notebook(docs_json, render_items);\n",
       "\n",
       "  }\n",
       "  if (root.Bokeh !== undefined) {\n",
       "    embed_document(root);\n",
       "  } else {\n",
       "    var attempts = 0;\n",
       "    var timer = setInterval(function(root) {\n",
       "      if (root.Bokeh !== undefined) {\n",
       "        clearInterval(timer);\n",
       "        embed_document(root);\n",
       "      } else {\n",
       "        attempts++;\n",
       "        if (attempts > 100) {\n",
       "          clearInterval(timer);\n",
       "          console.log(\"Bokeh: ERROR: Unable to run BokehJS code because BokehJS library is missing\");\n",
       "        }\n",
       "      }\n",
       "    }, 10, root)\n",
       "  }\n",
       "})(window);"
      ],
      "application/vnd.bokehjs_exec.v0+json": ""
     },
     "metadata": {
      "application/vnd.bokehjs_exec.v0+json": {
       "id": "1002"
      }
     },
     "output_type": "display_data"
    },
    {
     "data": {
      "text/html": [
       "\n",
       "\n",
       "\n",
       "\n",
       "\n",
       "\n",
       "  <div class=\"bk-root\" id=\"293816d9-c549-426d-81b9-c8437007489d\" data-root-id=\"1089\"></div>\n"
      ]
     },
     "metadata": {},
     "output_type": "display_data"
    },
    {
     "data": {
      "application/javascript": [
       "(function(root) {\n",
       "  function embed_document(root) {\n",
       "    \n",
       "  var docs_json = {\"e3396564-aad1-4ddb-acda-472b7dd74cb1\":{\"defs\":[],\"roots\":{\"references\":[{\"attributes\":{\"below\":[{\"id\":\"1100\"}],\"center\":[{\"id\":\"1103\"},{\"id\":\"1107\"}],\"left\":[{\"id\":\"1104\"}],\"renderers\":[{\"id\":\"1120\"}],\"title\":{\"id\":\"1090\"},\"toolbar\":{\"id\":\"1112\"},\"toolbar_location\":\"above\",\"x_range\":{\"id\":\"1092\"},\"x_scale\":{\"id\":\"1096\"},\"y_range\":{\"id\":\"1094\"},\"y_scale\":{\"id\":\"1098\"}},\"id\":\"1089\",\"subtype\":\"Figure\",\"type\":\"Plot\"},{\"attributes\":{},\"id\":\"1105\",\"type\":\"BasicTicker\"},{\"attributes\":{\"bottom\":{\"value\":0},\"fill_alpha\":{\"value\":0.1},\"fill_color\":{\"value\":\"#1f77b4\"},\"left\":{\"field\":\"left\"},\"line_alpha\":{\"value\":0.1},\"line_color\":{\"value\":\"#555555\"},\"right\":{\"field\":\"right\"},\"top\":{\"field\":\"top\"}},\"id\":\"1119\",\"type\":\"Quad\"},{\"attributes\":{},\"id\":\"1109\",\"type\":\"WheelZoomTool\"},{\"attributes\":{\"formatter\":{\"id\":\"1132\"},\"major_label_policy\":{\"id\":\"1134\"},\"ticker\":{\"id\":\"1105\"}},\"id\":\"1104\",\"type\":\"LinearAxis\"},{\"attributes\":{\"axis\":{\"id\":\"1104\"},\"dimension\":1,\"ticker\":null},\"id\":\"1107\",\"type\":\"Grid\"},{\"attributes\":{},\"id\":\"1101\",\"type\":\"BasicTicker\"},{\"attributes\":{},\"id\":\"1108\",\"type\":\"PanTool\"},{\"attributes\":{},\"id\":\"1138\",\"type\":\"Selection\"},{\"attributes\":{},\"id\":\"1098\",\"type\":\"LinearScale\"},{\"attributes\":{},\"id\":\"1094\",\"type\":\"DataRange1d\"},{\"attributes\":{},\"id\":\"1092\",\"type\":\"DataRange1d\"},{\"attributes\":{},\"id\":\"1132\",\"type\":\"BasicTickFormatter\"},{\"attributes\":{\"active_multi\":null,\"tools\":[{\"id\":\"1108\"},{\"id\":\"1109\"},{\"id\":\"1110\"},{\"id\":\"1111\"}]},\"id\":\"1112\",\"type\":\"Toolbar\"},{\"attributes\":{},\"id\":\"1110\",\"type\":\"ResetTool\"},{\"attributes\":{},\"id\":\"1137\",\"type\":\"AllLabels\"},{\"attributes\":{\"axis\":{\"id\":\"1100\"},\"ticker\":null},\"id\":\"1103\",\"type\":\"Grid\"},{\"attributes\":{},\"id\":\"1096\",\"type\":\"LinearScale\"},{\"attributes\":{\"source\":{\"id\":\"1117\"}},\"id\":\"1121\",\"type\":\"CDSView\"},{\"attributes\":{},\"id\":\"1139\",\"type\":\"UnionRenderers\"},{\"attributes\":{\"bottom\":{\"value\":0},\"fill_color\":{\"value\":\"#1f77b4\"},\"left\":{\"field\":\"left\"},\"line_color\":{\"value\":\"#555555\"},\"right\":{\"field\":\"right\"},\"top\":{\"field\":\"top\"}},\"id\":\"1118\",\"type\":\"Quad\"},{\"attributes\":{\"formatter\":{\"id\":\"1135\"},\"major_label_policy\":{\"id\":\"1137\"},\"ticker\":{\"id\":\"1101\"}},\"id\":\"1100\",\"type\":\"LinearAxis\"},{\"attributes\":{},\"id\":\"1134\",\"type\":\"AllLabels\"},{\"attributes\":{\"data\":{\"left\":{\"__ndarray__\":\"AAAAAAAA8D8pXI/C9SjwP1K4HoXrUfA/exSuR+F68D+kcD0K16PwP83MzMzMzPA/9ihcj8L18D8fhetRuB7xP0jhehSuR/E/cT0K16Nw8T+amZmZmZnxP8P1KFyPwvE/7FG4HoXr8T8UrkfhehTyPz4K16NwPfI/ZmZmZmZm8j+PwvUoXI/yP7gehetRuPI/4XoUrkfh8j8K16NwPQrzPzMzMzMzM/M/XI/C9Shc8z+F61G4HoXzP65H4XoUrvM/16NwPQrX8z8AAAAAAAD0Pylcj8L1KPQ/UrgehetR9D97FK5H4Xr0P6RwPQrXo/Q/zczMzMzM9D/2KFyPwvX0Px+F61G4HvU/SOF6FK5H9T9xPQrXo3D1P5qZmZmZmfU/wvUoXI/C9T/sUbgehev1PxSuR+F6FPY/PgrXo3A99j9mZmZmZmb2P5DC9Shcj/Y/uB6F61G49j/hehSuR+H2PwrXo3A9Cvc/MzMzMzMz9z9cj8L1KFz3P4XrUbgehfc/rkfhehSu9z/Xo3A9Ctf3PwAAAAAAAPg/KVyPwvUo+D9SuB6F61H4P3sUrkfhevg/pHA9Ctej+D/NzMzMzMz4P/YoXI/C9fg/H4XrUbge+T9I4XoUrkf5P3A9CtejcPk/mpmZmZmZ+T/C9Shcj8L5P+xRuB6F6/k/FK5H4XoU+j8+CtejcD36P2ZmZmZmZvo/kML1KFyP+j+4HoXrUbj6P+J6FK5H4fo/CtejcD0K+z80MzMzMzP7P1yPwvUoXPs/hetRuB6F+z+uR+F6FK77P9ejcD0K1/s/AAAAAAAA/D8pXI/C9Sj8P1K4HoXrUfw/exSuR+F6/D+kcD0K16P8P83MzMzMzPw/9ihcj8L1/D8fhetRuB79P0jhehSuR/0/cD0K16Nw/T+amZmZmZn9P8L1KFyPwv0/7FG4HoXr/T8UrkfhehT+Pz4K16NwPf4/ZmZmZmZm/j+QwvUoXI/+P7gehetRuP4/4noUrkfh/j8K16NwPQr/PzQzMzMzM/8/XI/C9Shc/z+F61G4HoX/P65H4XoUrv8/16NwPQrX/z8=\",\"dtype\":\"float64\",\"order\":\"little\",\"shape\":[100]},\"right\":{\"__ndarray__\":\"KVyPwvUo8D9SuB6F61HwP3sUrkfhevA/pHA9Ctej8D/NzMzMzMzwP/YoXI/C9fA/H4XrUbge8T9I4XoUrkfxP3E9CtejcPE/mpmZmZmZ8T/D9Shcj8LxP+xRuB6F6/E/FK5H4XoU8j8+CtejcD3yP2ZmZmZmZvI/j8L1KFyP8j+4HoXrUbjyP+F6FK5H4fI/CtejcD0K8z8zMzMzMzPzP1yPwvUoXPM/hetRuB6F8z+uR+F6FK7zP9ejcD0K1/M/AAAAAAAA9D8pXI/C9Sj0P1K4HoXrUfQ/exSuR+F69D+kcD0K16P0P83MzMzMzPQ/9ihcj8L19D8fhetRuB71P0jhehSuR/U/cT0K16Nw9T+amZmZmZn1P8L1KFyPwvU/7FG4HoXr9T8UrkfhehT2Pz4K16NwPfY/ZmZmZmZm9j+QwvUoXI/2P7gehetRuPY/4XoUrkfh9j8K16NwPQr3PzMzMzMzM/c/XI/C9Shc9z+F61G4HoX3P65H4XoUrvc/16NwPQrX9z8AAAAAAAD4Pylcj8L1KPg/UrgehetR+D97FK5H4Xr4P6RwPQrXo/g/zczMzMzM+D/2KFyPwvX4Px+F61G4Hvk/SOF6FK5H+T9wPQrXo3D5P5qZmZmZmfk/wvUoXI/C+T/sUbgehev5PxSuR+F6FPo/PgrXo3A9+j9mZmZmZmb6P5DC9Shcj/o/uB6F61G4+j/iehSuR+H6PwrXo3A9Cvs/NDMzMzMz+z9cj8L1KFz7P4XrUbgehfs/rkfhehSu+z/Xo3A9Ctf7PwAAAAAAAPw/KVyPwvUo/D9SuB6F61H8P3sUrkfhevw/pHA9Ctej/D/NzMzMzMz8P/YoXI/C9fw/H4XrUbge/T9I4XoUrkf9P3A9CtejcP0/mpmZmZmZ/T/C9Shcj8L9P+xRuB6F6/0/FK5H4XoU/j8+CtejcD3+P2ZmZmZmZv4/kML1KFyP/j+4HoXrUbj+P+J6FK5H4f4/CtejcD0K/z80MzMzMzP/P1yPwvUoXP8/hetRuB6F/z+uR+F6FK7/P9ejcD0K1/8/AAAAAAAAAEA=\",\"dtype\":\"float64\",\"order\":\"little\",\"shape\":[100]},\"top\":{\"__ndarray__\":\"TJcb8OO5VED2ugVB4urKP5kaydZzHtY/BNdWeq8e2j89S+vINyLfPy4oTpfYkuE/Qd8QkXgL3j+o/oS/t6zgP10XswMTc9w/4z7UJgo/2T+6tUe5VyXdP/eFbH+XbNw/k+Lv1D3u3D/Hc5dV38PIPz0Pwl2uvd0/PxGuw4Rixj8FnRl1/F7hP++PviEi8bY/AgpIh9CCxD+OlEUaEe6pPzOILnjjCuQ/EvH//lI4tT8CCfSsu3XCPxWE0ex+FLI/OOe6ftl1lD9tYcz4u8joP3TseAZkO6I/OOsK6CyqrD8S71dKKR7BP27G1SoMg5g/BZ0ZdfxesT8XGUuP1AqTP2igMk+0yn4/ai5g+Xdl8T8Fn8EpJnmFP2WOFm341pI/Ex96PO0hmj+IJTjEd+enPxkwJfkaxIw/jVyGXP1BdD+JMufxZmLEPz59a7DKNJA/ZQkR+DS6qT/W7ekr8oxrP7xFHRhF2pM/xHNgxkP7jT8MzQTYJJp/P6AOz3+/f3c/ai+004xyYz9qL7TTjHJDP89e7bT25fk/ai+004xyYz9ooDJPtMpuP3savLRiXHw//OH89k6wdj99qT05OwSBP/zh/PZOsFY/oA7Pf79/lz8+fWuwyjRwP3N8a7DKNFA/8SJZgLIEqT+tOqEIME9oPzeJWOVtEYU/stUPwqvTcT8+fWuwyjRgP3N8a7DKNFA/PZaZ9CX7yz/sk0UaEe4pP9ZHjj3TK10/Ku3pK/KMaz+J4vz2TrBWPzLBF6OBvXo/H0eOPdMrXT8i1g/Cq9NhP46URRoR7jk/5tSho3RCrD9qL7TTjHJDP/zh/PZOsGY/2HxrsMo0UD+OlEUaEe4pP8+/pn3za5E/jpRFGhHuKT9qL7TTjHJDP9ZHjj3TK30/c3xrsMo0UD+C7ukr8oxrP+yTRRoR7jk/kdYPwqvTYT9pRo490ytdPzCVRRoR7jk/c3xrsMo0YD/kL7TTjHJDP3N8a7DKNFA/MJVFGhHuOT/sk0UaEe4pPwAAAAAAAAAAjpRFGhHuOT+OlEUaEe45P46URRoR7ik/DYUDwkZxEkA=\",\"dtype\":\"float64\",\"order\":\"little\",\"shape\":[100]}},\"selected\":{\"id\":\"1138\"},\"selection_policy\":{\"id\":\"1139\"}},\"id\":\"1117\",\"type\":\"ColumnDataSource\"},{\"attributes\":{},\"id\":\"1135\",\"type\":\"BasicTickFormatter\"},{\"attributes\":{},\"id\":\"1111\",\"type\":\"SaveTool\"},{\"attributes\":{\"data_source\":{\"id\":\"1117\"},\"glyph\":{\"id\":\"1118\"},\"hover_glyph\":null,\"muted_glyph\":null,\"nonselection_glyph\":{\"id\":\"1119\"},\"view\":{\"id\":\"1121\"}},\"id\":\"1120\",\"type\":\"GlyphRenderer\"},{\"attributes\":{\"text\":\"PL Terms Ratios Affinity Distribution\"},\"id\":\"1090\",\"type\":\"Title\"}],\"root_ids\":[\"1089\"]},\"title\":\"Bokeh Application\",\"version\":\"2.3.3\"}};\n",
       "  var render_items = [{\"docid\":\"e3396564-aad1-4ddb-acda-472b7dd74cb1\",\"root_ids\":[\"1089\"],\"roots\":{\"1089\":\"293816d9-c549-426d-81b9-c8437007489d\"}}];\n",
       "  root.Bokeh.embed.embed_items_notebook(docs_json, render_items);\n",
       "\n",
       "  }\n",
       "  if (root.Bokeh !== undefined) {\n",
       "    embed_document(root);\n",
       "  } else {\n",
       "    var attempts = 0;\n",
       "    var timer = setInterval(function(root) {\n",
       "      if (root.Bokeh !== undefined) {\n",
       "        clearInterval(timer);\n",
       "        embed_document(root);\n",
       "      } else {\n",
       "        attempts++;\n",
       "        if (attempts > 100) {\n",
       "          clearInterval(timer);\n",
       "          console.log(\"Bokeh: ERROR: Unable to run BokehJS code because BokehJS library is missing\");\n",
       "        }\n",
       "      }\n",
       "    }, 10, root)\n",
       "  }\n",
       "})(window);"
      ],
      "application/vnd.bokehjs_exec.v0+json": ""
     },
     "metadata": {
      "application/vnd.bokehjs_exec.v0+json": {
       "id": "1089"
      }
     },
     "output_type": "display_data"
    },
    {
     "data": {
      "text/html": [
       "\n",
       "\n",
       "\n",
       "\n",
       "\n",
       "\n",
       "  <div class=\"bk-root\" id=\"a9dbbdbf-17c5-4100-bb3c-2d8699d01bd5\" data-root-id=\"1185\"></div>\n"
      ]
     },
     "metadata": {},
     "output_type": "display_data"
    },
    {
     "data": {
      "application/javascript": [
       "(function(root) {\n",
       "  function embed_document(root) {\n",
       "    \n",
       "  var docs_json = {\"af67db2d-3427-4689-917e-be6f56b31f0f\":{\"defs\":[],\"roots\":{\"references\":[{\"attributes\":{\"below\":[{\"id\":\"1196\"}],\"center\":[{\"id\":\"1199\"},{\"id\":\"1203\"}],\"left\":[{\"id\":\"1200\"}],\"renderers\":[{\"id\":\"1216\"}],\"title\":{\"id\":\"1186\"},\"toolbar\":{\"id\":\"1208\"},\"toolbar_location\":\"above\",\"x_range\":{\"id\":\"1188\"},\"x_scale\":{\"id\":\"1192\"},\"y_range\":{\"id\":\"1190\"},\"y_scale\":{\"id\":\"1194\"}},\"id\":\"1185\",\"subtype\":\"Figure\",\"type\":\"Plot\"},{\"attributes\":{},\"id\":\"1204\",\"type\":\"PanTool\"},{\"attributes\":{\"axis\":{\"id\":\"1196\"},\"ticker\":null},\"id\":\"1199\",\"type\":\"Grid\"},{\"attributes\":{},\"id\":\"1239\",\"type\":\"AllLabels\"},{\"attributes\":{\"active_multi\":null,\"tools\":[{\"id\":\"1204\"},{\"id\":\"1205\"},{\"id\":\"1206\"},{\"id\":\"1207\"}]},\"id\":\"1208\",\"type\":\"Toolbar\"},{\"attributes\":{\"text\":\"JO Terms Ratios Affinity Distribution\"},\"id\":\"1186\",\"type\":\"Title\"},{\"attributes\":{\"bottom\":{\"value\":0},\"fill_alpha\":{\"value\":0.1},\"fill_color\":{\"value\":\"#1f77b4\"},\"left\":{\"field\":\"left\"},\"line_alpha\":{\"value\":0.1},\"line_color\":{\"value\":\"#555555\"},\"right\":{\"field\":\"right\"},\"top\":{\"field\":\"top\"}},\"id\":\"1215\",\"type\":\"Quad\"},{\"attributes\":{},\"id\":\"1190\",\"type\":\"DataRange1d\"},{\"attributes\":{\"source\":{\"id\":\"1213\"}},\"id\":\"1217\",\"type\":\"CDSView\"},{\"attributes\":{},\"id\":\"1243\",\"type\":\"Selection\"},{\"attributes\":{},\"id\":\"1197\",\"type\":\"BasicTicker\"},{\"attributes\":{},\"id\":\"1192\",\"type\":\"LinearScale\"},{\"attributes\":{\"data\":{\"left\":{\"__ndarray__\":\"AAAAAAAA8D8pXI/C9SjwP1K4HoXrUfA/exSuR+F68D+kcD0K16PwP83MzMzMzPA/9ihcj8L18D8fhetRuB7xP0jhehSuR/E/cT0K16Nw8T+amZmZmZnxP8P1KFyPwvE/7FG4HoXr8T8UrkfhehTyPz4K16NwPfI/ZmZmZmZm8j+PwvUoXI/yP7gehetRuPI/4XoUrkfh8j8K16NwPQrzPzMzMzMzM/M/XI/C9Shc8z+F61G4HoXzP65H4XoUrvM/16NwPQrX8z8AAAAAAAD0Pylcj8L1KPQ/UrgehetR9D97FK5H4Xr0P6RwPQrXo/Q/zczMzMzM9D/2KFyPwvX0Px+F61G4HvU/SOF6FK5H9T9xPQrXo3D1P5qZmZmZmfU/wvUoXI/C9T/sUbgehev1PxSuR+F6FPY/PgrXo3A99j9mZmZmZmb2P5DC9Shcj/Y/uB6F61G49j/hehSuR+H2PwrXo3A9Cvc/MzMzMzMz9z9cj8L1KFz3P4XrUbgehfc/rkfhehSu9z/Xo3A9Ctf3PwAAAAAAAPg/KVyPwvUo+D9SuB6F61H4P3sUrkfhevg/pHA9Ctej+D/NzMzMzMz4P/YoXI/C9fg/H4XrUbge+T9I4XoUrkf5P3A9CtejcPk/mpmZmZmZ+T/C9Shcj8L5P+xRuB6F6/k/FK5H4XoU+j8+CtejcD36P2ZmZmZmZvo/kML1KFyP+j+4HoXrUbj6P+J6FK5H4fo/CtejcD0K+z80MzMzMzP7P1yPwvUoXPs/hetRuB6F+z+uR+F6FK77P9ejcD0K1/s/AAAAAAAA/D8pXI/C9Sj8P1K4HoXrUfw/exSuR+F6/D+kcD0K16P8P83MzMzMzPw/9ihcj8L1/D8fhetRuB79P0jhehSuR/0/cD0K16Nw/T+amZmZmZn9P8L1KFyPwv0/7FG4HoXr/T8UrkfhehT+Pz4K16NwPf4/ZmZmZmZm/j+QwvUoXI/+P7gehetRuP4/4noUrkfh/j8K16NwPQr/PzQzMzMzM/8/XI/C9Shc/z+F61G4HoX/P65H4XoUrv8/16NwPQrX/z8=\",\"dtype\":\"float64\",\"order\":\"little\",\"shape\":[100]},\"right\":{\"__ndarray__\":\"KVyPwvUo8D9SuB6F61HwP3sUrkfhevA/pHA9Ctej8D/NzMzMzMzwP/YoXI/C9fA/H4XrUbge8T9I4XoUrkfxP3E9CtejcPE/mpmZmZmZ8T/D9Shcj8LxP+xRuB6F6/E/FK5H4XoU8j8+CtejcD3yP2ZmZmZmZvI/j8L1KFyP8j+4HoXrUbjyP+F6FK5H4fI/CtejcD0K8z8zMzMzMzPzP1yPwvUoXPM/hetRuB6F8z+uR+F6FK7zP9ejcD0K1/M/AAAAAAAA9D8pXI/C9Sj0P1K4HoXrUfQ/exSuR+F69D+kcD0K16P0P83MzMzMzPQ/9ihcj8L19D8fhetRuB71P0jhehSuR/U/cT0K16Nw9T+amZmZmZn1P8L1KFyPwvU/7FG4HoXr9T8UrkfhehT2Pz4K16NwPfY/ZmZmZmZm9j+QwvUoXI/2P7gehetRuPY/4XoUrkfh9j8K16NwPQr3PzMzMzMzM/c/XI/C9Shc9z+F61G4HoX3P65H4XoUrvc/16NwPQrX9z8AAAAAAAD4Pylcj8L1KPg/UrgehetR+D97FK5H4Xr4P6RwPQrXo/g/zczMzMzM+D/2KFyPwvX4Px+F61G4Hvk/SOF6FK5H+T9wPQrXo3D5P5qZmZmZmfk/wvUoXI/C+T/sUbgehev5PxSuR+F6FPo/PgrXo3A9+j9mZmZmZmb6P5DC9Shcj/o/uB6F61G4+j/iehSuR+H6PwrXo3A9Cvs/NDMzMzMz+z9cj8L1KFz7P4XrUbgehfs/rkfhehSu+z/Xo3A9Ctf7PwAAAAAAAPw/KVyPwvUo/D9SuB6F61H8P3sUrkfhevw/pHA9Ctej/D/NzMzMzMz8P/YoXI/C9fw/H4XrUbge/T9I4XoUrkf9P3A9CtejcP0/mpmZmZmZ/T/C9Shcj8L9P+xRuB6F6/0/FK5H4XoU/j8+CtejcD3+P2ZmZmZmZv4/kML1KFyP/j+4HoXrUbj+P+J6FK5H4f4/CtejcD0K/z80MzMzMzP/P1yPwvUoXP8/hetRuB6F/z+uR+F6FK7/P9ejcD0K1/8/AAAAAAAAAEA=\",\"dtype\":\"float64\",\"order\":\"little\",\"shape\":[100]},\"top\":{\"__ndarray__\":\"cowpqH+bVUBN9r2G3f3SP90X3XCded0/pjRyWxc44T/6eksQ1dviP3TtzOB4SOQ/pc9oKcd94T8XVTBJseTfP/a5sWbN3dg/RgRgkru21T9Kmdk0Ea3WPwvJtG7RZdc/gcarvYF81z/7ICLxFjy+P6D/oQox8dc/LJnMEgDrvD82IKSpdyjbP9DD9uZGoKk/o6NIIhV2uD+K/SPDkd2UP1UlVQ/xK98/muTbOhSTpT9IznL2Wyu1PxcZS4/UCqM/xHNgxkP7fT95SwUNWqbiP3savLRiXIw/6WdzkaAemT/V6ZnCnlizP/zh/PZOsHY/H0eOPdMrnT907HgGZDuCP7OIWOVtEWU/E1ix5cwM6T8fR4490yttP+QvtNOMcnM/z7Qqbt7ghT+1KvZLAq2VPy+IWOVtEXU/Pn1rsMo0UD9gj74hIvG2P+G1Km7e4HU/4KquXslVmj+ziFjlbRFlP3savLRiXHw/RTuhCDBPaD/YfGuwyjRwP/zh/PZOsFY/AAAAAAAAAAAAAAAAAAAAAJXRzNNWN/I/AAAAAAAAAACOlEUaEe5JP9bt6SvyjGs/ai+004xyYz+OlEUaEe5pP2ovtNOMckM/DM0E2CSafz/kL7TTjHJTPwAAAAAAAAAADf4jw5HdlD9zfGuwyjRQPyihMk+0ym4/c3xrsMo0UD8wlUUaEe45P+yTRRoR7ik/SpftzjoIvj/sk0UaEe4pPz59a7DKNFA/c3xrsMo0YD8AAAAAAAAAAEU7oQgwT2g/jpRFGhHuKT9qL7TTjHJDP46URRoR7ik/G7Bs5lMbmD/YfGuwyjRQP2ovtNOMclM/jpRFGhHuOT8AAAAAAAAAAH2pPTk7BIE/jpRFGhHuKT+OlEUaEe4pPzeJWOVtEWU/7JNFGhHuKT+R1g/Cq9NhP+yTRRoR7jk/MJVFGhHuWT/sk0UaEe45PzCVRRoR7ik/8C6004xyQz8wlUUaEe5JP+yTRRoR7kk/MJVFGhHuOT/wLrTTjHJDPzCVRRoR7ik/jpRFGhHuKT8AAAAAAAAAAAAAAAAAAAAAugHFWJA0CkA=\",\"dtype\":\"float64\",\"order\":\"little\",\"shape\":[100]}},\"selected\":{\"id\":\"1243\"},\"selection_policy\":{\"id\":\"1244\"}},\"id\":\"1213\",\"type\":\"ColumnDataSource\"},{\"attributes\":{},\"id\":\"1201\",\"type\":\"BasicTicker\"},{\"attributes\":{},\"id\":\"1194\",\"type\":\"LinearScale\"},{\"attributes\":{},\"id\":\"1207\",\"type\":\"SaveTool\"},{\"attributes\":{},\"id\":\"1188\",\"type\":\"DataRange1d\"},{\"attributes\":{},\"id\":\"1206\",\"type\":\"ResetTool\"},{\"attributes\":{\"formatter\":{\"id\":\"1240\"},\"major_label_policy\":{\"id\":\"1242\"},\"ticker\":{\"id\":\"1197\"}},\"id\":\"1196\",\"type\":\"LinearAxis\"},{\"attributes\":{},\"id\":\"1205\",\"type\":\"WheelZoomTool\"},{\"attributes\":{\"formatter\":{\"id\":\"1237\"},\"major_label_policy\":{\"id\":\"1239\"},\"ticker\":{\"id\":\"1201\"}},\"id\":\"1200\",\"type\":\"LinearAxis\"},{\"attributes\":{},\"id\":\"1237\",\"type\":\"BasicTickFormatter\"},{\"attributes\":{\"data_source\":{\"id\":\"1213\"},\"glyph\":{\"id\":\"1214\"},\"hover_glyph\":null,\"muted_glyph\":null,\"nonselection_glyph\":{\"id\":\"1215\"},\"view\":{\"id\":\"1217\"}},\"id\":\"1216\",\"type\":\"GlyphRenderer\"},{\"attributes\":{\"axis\":{\"id\":\"1200\"},\"dimension\":1,\"ticker\":null},\"id\":\"1203\",\"type\":\"Grid\"},{\"attributes\":{},\"id\":\"1240\",\"type\":\"BasicTickFormatter\"},{\"attributes\":{},\"id\":\"1244\",\"type\":\"UnionRenderers\"},{\"attributes\":{},\"id\":\"1242\",\"type\":\"AllLabels\"},{\"attributes\":{\"bottom\":{\"value\":0},\"fill_color\":{\"value\":\"#1f77b4\"},\"left\":{\"field\":\"left\"},\"line_color\":{\"value\":\"#555555\"},\"right\":{\"field\":\"right\"},\"top\":{\"field\":\"top\"}},\"id\":\"1214\",\"type\":\"Quad\"}],\"root_ids\":[\"1185\"]},\"title\":\"Bokeh Application\",\"version\":\"2.3.3\"}};\n",
       "  var render_items = [{\"docid\":\"af67db2d-3427-4689-917e-be6f56b31f0f\",\"root_ids\":[\"1185\"],\"roots\":{\"1185\":\"a9dbbdbf-17c5-4100-bb3c-2d8699d01bd5\"}}];\n",
       "  root.Bokeh.embed.embed_items_notebook(docs_json, render_items);\n",
       "\n",
       "  }\n",
       "  if (root.Bokeh !== undefined) {\n",
       "    embed_document(root);\n",
       "  } else {\n",
       "    var attempts = 0;\n",
       "    var timer = setInterval(function(root) {\n",
       "      if (root.Bokeh !== undefined) {\n",
       "        clearInterval(timer);\n",
       "        embed_document(root);\n",
       "      } else {\n",
       "        attempts++;\n",
       "        if (attempts > 100) {\n",
       "          clearInterval(timer);\n",
       "          console.log(\"Bokeh: ERROR: Unable to run BokehJS code because BokehJS library is missing\");\n",
       "        }\n",
       "      }\n",
       "    }, 10, root)\n",
       "  }\n",
       "})(window);"
      ],
      "application/vnd.bokehjs_exec.v0+json": ""
     },
     "metadata": {
      "application/vnd.bokehjs_exec.v0+json": {
       "id": "1185"
      }
     },
     "output_type": "display_data"
    },
    {
     "data": {
      "text/html": [
       "\n",
       "\n",
       "\n",
       "\n",
       "\n",
       "\n",
       "  <div class=\"bk-root\" id=\"133b45c6-7f1d-4e92-bcfe-9b48ded5f42f\" data-root-id=\"1290\"></div>\n"
      ]
     },
     "metadata": {},
     "output_type": "display_data"
    },
    {
     "data": {
      "application/javascript": [
       "(function(root) {\n",
       "  function embed_document(root) {\n",
       "    \n",
       "  var docs_json = {\"e5323df9-a3c9-42ee-9de6-a363d6243a8a\":{\"defs\":[],\"roots\":{\"references\":[{\"attributes\":{\"below\":[{\"id\":\"1301\"}],\"center\":[{\"id\":\"1304\"},{\"id\":\"1308\"}],\"left\":[{\"id\":\"1305\"}],\"renderers\":[{\"id\":\"1321\"}],\"title\":{\"id\":\"1291\"},\"toolbar\":{\"id\":\"1313\"},\"toolbar_location\":\"above\",\"x_range\":{\"id\":\"1293\"},\"x_scale\":{\"id\":\"1297\"},\"y_range\":{\"id\":\"1295\"},\"y_scale\":{\"id\":\"1299\"}},\"id\":\"1290\",\"subtype\":\"Figure\",\"type\":\"Plot\"},{\"attributes\":{\"axis\":{\"id\":\"1301\"},\"ticker\":null},\"id\":\"1304\",\"type\":\"Grid\"},{\"attributes\":{},\"id\":\"1302\",\"type\":\"BasicTicker\"},{\"attributes\":{},\"id\":\"1356\",\"type\":\"AllLabels\"},{\"attributes\":{\"source\":{\"id\":\"1318\"}},\"id\":\"1322\",\"type\":\"CDSView\"},{\"attributes\":{\"active_multi\":null,\"tools\":[{\"id\":\"1309\"},{\"id\":\"1310\"},{\"id\":\"1311\"},{\"id\":\"1312\"}]},\"id\":\"1313\",\"type\":\"Toolbar\"},{\"attributes\":{\"bottom\":{\"value\":0},\"fill_color\":{\"value\":\"#1f77b4\"},\"left\":{\"field\":\"left\"},\"line_color\":{\"value\":\"#555555\"},\"right\":{\"field\":\"right\"},\"top\":{\"field\":\"top\"}},\"id\":\"1319\",\"type\":\"Quad\"},{\"attributes\":{\"axis\":{\"id\":\"1305\"},\"dimension\":1,\"ticker\":null},\"id\":\"1308\",\"type\":\"Grid\"},{\"attributes\":{},\"id\":\"1299\",\"type\":\"LinearScale\"},{\"attributes\":{},\"id\":\"1354\",\"type\":\"BasicTickFormatter\"},{\"attributes\":{},\"id\":\"1353\",\"type\":\"AllLabels\"},{\"attributes\":{\"bottom\":{\"value\":0},\"fill_alpha\":{\"value\":0.1},\"fill_color\":{\"value\":\"#1f77b4\"},\"left\":{\"field\":\"left\"},\"line_alpha\":{\"value\":0.1},\"line_color\":{\"value\":\"#555555\"},\"right\":{\"field\":\"right\"},\"top\":{\"field\":\"top\"}},\"id\":\"1320\",\"type\":\"Quad\"},{\"attributes\":{},\"id\":\"1351\",\"type\":\"BasicTickFormatter\"},{\"attributes\":{\"text\":\"LY Terms Ratios Affinity Distribution\"},\"id\":\"1291\",\"type\":\"Title\"},{\"attributes\":{},\"id\":\"1297\",\"type\":\"LinearScale\"},{\"attributes\":{},\"id\":\"1306\",\"type\":\"BasicTicker\"},{\"attributes\":{},\"id\":\"1312\",\"type\":\"SaveTool\"},{\"attributes\":{\"data_source\":{\"id\":\"1318\"},\"glyph\":{\"id\":\"1319\"},\"hover_glyph\":null,\"muted_glyph\":null,\"nonselection_glyph\":{\"id\":\"1320\"},\"view\":{\"id\":\"1322\"}},\"id\":\"1321\",\"type\":\"GlyphRenderer\"},{\"attributes\":{\"formatter\":{\"id\":\"1351\"},\"major_label_policy\":{\"id\":\"1353\"},\"ticker\":{\"id\":\"1306\"}},\"id\":\"1305\",\"type\":\"LinearAxis\"},{\"attributes\":{},\"id\":\"1311\",\"type\":\"ResetTool\"},{\"attributes\":{},\"id\":\"1295\",\"type\":\"DataRange1d\"},{\"attributes\":{\"data\":{\"left\":{\"__ndarray__\":\"AAAAAAAA8D8pXI/C9SjwP1K4HoXrUfA/exSuR+F68D+kcD0K16PwP83MzMzMzPA/9ihcj8L18D8fhetRuB7xP0jhehSuR/E/cT0K16Nw8T+amZmZmZnxP8P1KFyPwvE/7FG4HoXr8T8UrkfhehTyPz4K16NwPfI/ZmZmZmZm8j+PwvUoXI/yP7gehetRuPI/4XoUrkfh8j8K16NwPQrzPzMzMzMzM/M/XI/C9Shc8z+F61G4HoXzP65H4XoUrvM/16NwPQrX8z8AAAAAAAD0Pylcj8L1KPQ/UrgehetR9D97FK5H4Xr0P6RwPQrXo/Q/zczMzMzM9D/2KFyPwvX0Px+F61G4HvU/SOF6FK5H9T9xPQrXo3D1P5qZmZmZmfU/wvUoXI/C9T/sUbgehev1PxSuR+F6FPY/PgrXo3A99j9mZmZmZmb2P5DC9Shcj/Y/uB6F61G49j/hehSuR+H2PwrXo3A9Cvc/MzMzMzMz9z9cj8L1KFz3P4XrUbgehfc/rkfhehSu9z/Xo3A9Ctf3PwAAAAAAAPg/KVyPwvUo+D9SuB6F61H4P3sUrkfhevg/pHA9Ctej+D/NzMzMzMz4P/YoXI/C9fg/H4XrUbge+T9I4XoUrkf5P3A9CtejcPk/mpmZmZmZ+T/C9Shcj8L5P+xRuB6F6/k/FK5H4XoU+j8+CtejcD36P2ZmZmZmZvo/kML1KFyP+j+4HoXrUbj6P+J6FK5H4fo/CtejcD0K+z80MzMzMzP7P1yPwvUoXPs/hetRuB6F+z+uR+F6FK77P9ejcD0K1/s/AAAAAAAA/D8pXI/C9Sj8P1K4HoXrUfw/exSuR+F6/D+kcD0K16P8P83MzMzMzPw/9ihcj8L1/D8fhetRuB79P0jhehSuR/0/cD0K16Nw/T+amZmZmZn9P8L1KFyPwv0/7FG4HoXr/T8UrkfhehT+Pz4K16NwPf4/ZmZmZmZm/j+QwvUoXI/+P7gehetRuP4/4noUrkfh/j8K16NwPQr/PzQzMzMzM/8/XI/C9Shc/z+F61G4HoX/P65H4XoUrv8/16NwPQrX/z8=\",\"dtype\":\"float64\",\"order\":\"little\",\"shape\":[100]},\"right\":{\"__ndarray__\":\"KVyPwvUo8D9SuB6F61HwP3sUrkfhevA/pHA9Ctej8D/NzMzMzMzwP/YoXI/C9fA/H4XrUbge8T9I4XoUrkfxP3E9CtejcPE/mpmZmZmZ8T/D9Shcj8LxP+xRuB6F6/E/FK5H4XoU8j8+CtejcD3yP2ZmZmZmZvI/j8L1KFyP8j+4HoXrUbjyP+F6FK5H4fI/CtejcD0K8z8zMzMzMzPzP1yPwvUoXPM/hetRuB6F8z+uR+F6FK7zP9ejcD0K1/M/AAAAAAAA9D8pXI/C9Sj0P1K4HoXrUfQ/exSuR+F69D+kcD0K16P0P83MzMzMzPQ/9ihcj8L19D8fhetRuB71P0jhehSuR/U/cT0K16Nw9T+amZmZmZn1P8L1KFyPwvU/7FG4HoXr9T8UrkfhehT2Pz4K16NwPfY/ZmZmZmZm9j+QwvUoXI/2P7gehetRuPY/4XoUrkfh9j8K16NwPQr3PzMzMzMzM/c/XI/C9Shc9z+F61G4HoX3P65H4XoUrvc/16NwPQrX9z8AAAAAAAD4Pylcj8L1KPg/UrgehetR+D97FK5H4Xr4P6RwPQrXo/g/zczMzMzM+D/2KFyPwvX4Px+F61G4Hvk/SOF6FK5H+T9wPQrXo3D5P5qZmZmZmfk/wvUoXI/C+T/sUbgehev5PxSuR+F6FPo/PgrXo3A9+j9mZmZmZmb6P5DC9Shcj/o/uB6F61G4+j/iehSuR+H6PwrXo3A9Cvs/NDMzMzMz+z9cj8L1KFz7P4XrUbgehfs/rkfhehSu+z/Xo3A9Ctf7PwAAAAAAAPw/KVyPwvUo/D9SuB6F61H8P3sUrkfhevw/pHA9Ctej/D/NzMzMzMz8P/YoXI/C9fw/H4XrUbge/T9I4XoUrkf9P3A9CtejcP0/mpmZmZmZ/T/C9Shcj8L9P+xRuB6F6/0/FK5H4XoU/j8+CtejcD3+P2ZmZmZmZv4/kML1KFyP/j+4HoXrUbj+P+J6FK5H4f4/CtejcD0K/z80MzMzMzP/P1yPwvUoXP8/hetRuB6F/z+uR+F6FK7/P9ejcD0K1/8/AAAAAAAAAEA=\",\"dtype\":\"float64\",\"order\":\"little\",\"shape\":[100]},\"top\":{\"__ndarray__\":\"VYjBVJm4VEBV6Bt7/0TQP/oX6pKuO9c/nnv9kZOj2j+6tpuTbDLfP15BK1abYOE/NlflH+zA3T8QYSqgZYPePxBfgus7ado/JziYV+Bl2D+1VBP+N6DYPxkcRx4TMtk/7i+nsXuw2T+45rp+2XXEP5pPKwkj1Nk/Mr3HOS6Jwj/4hsBZrHneP/zfVEIllrI/r/E2ju4AwD9ooDJPtMqePx5Blh9W3eA/OOsK6CyqrD+qzTtnwGK6Pwk244Cliao/urabk2wyjz9Db+bvZcDkP8RzYMZD+50/4j2ATPUxpz+RKb+8ZuS6P0U7oQgwT4g/0MP25kagqT9ooDJPtMqOPxcZS4/UCoM/eIaW7CFz7T99qT05OwSBP2ZL25/Pn5E/Aux4BmQ7kj8Ou+j1aKajPxkwJfkaxIw/Pn1rsMo0YD8ekPWwvbnBP+G1Km7e4IU/KAADB1fAoz99qT05OwRxP0thROSHB5I/K5PU9IKcgD8fR4490yt9PyLWD8Kr03E/ItYPwqvTYT/YfGuwyjRQP0fPxtBwOPc/ItYPwqvTYT9ooDJPtMpuP7OIWOVtEWU/aKAyT7TKfj8rk9T0gpyAPx9Hjj3TK10/+Erbn8+fkT/htSpu3uB1P3N8a7DKNFA/X1fI1HJ8pj8SqT05OwRxP4ufwSkmeYU/isAXo4G9ej8ooTJPtMpuP/AutNOMcmM/DOLFZ7Pnyz/sk0UaEe45P+QvtNOMcmM/Dg7Pf79/dz8wlUUaEe5ZP0U7oQgwT4g/RTuhCDBPaD9qL7TTjHJjP46URRoR7ik/+Erbn8+fsT/YfGuwyjRgP2igMk+0ym4/RTuhCDBPaD8AAAAAAAAAAITXgOc5JZs/1u3pK/KMaz9qL7TTjHJDP9ZHjj3TK40/7JNFGhHuWT83iVjlbRGFP7LVD8Kr02E/jVyGXP1BdD9u4fz2TrB2PzCVRRoR7kk/yRm8tGJcfD/WR4490ytdPy+IWOVtEWU/N4lY5W0RZT9pRo490ytdPz59a7DKNFA/2HxrsMo0YD9qL7TTjHJDP46URRoR7kk/2qO7Uw1JF0A=\",\"dtype\":\"float64\",\"order\":\"little\",\"shape\":[100]}},\"selected\":{\"id\":\"1357\"},\"selection_policy\":{\"id\":\"1358\"}},\"id\":\"1318\",\"type\":\"ColumnDataSource\"},{\"attributes\":{},\"id\":\"1357\",\"type\":\"Selection\"},{\"attributes\":{},\"id\":\"1358\",\"type\":\"UnionRenderers\"},{\"attributes\":{},\"id\":\"1293\",\"type\":\"DataRange1d\"},{\"attributes\":{},\"id\":\"1310\",\"type\":\"WheelZoomTool\"},{\"attributes\":{\"formatter\":{\"id\":\"1354\"},\"major_label_policy\":{\"id\":\"1356\"},\"ticker\":{\"id\":\"1302\"}},\"id\":\"1301\",\"type\":\"LinearAxis\"},{\"attributes\":{},\"id\":\"1309\",\"type\":\"PanTool\"}],\"root_ids\":[\"1290\"]},\"title\":\"Bokeh Application\",\"version\":\"2.3.3\"}};\n",
       "  var render_items = [{\"docid\":\"e5323df9-a3c9-42ee-9de6-a363d6243a8a\",\"root_ids\":[\"1290\"],\"roots\":{\"1290\":\"133b45c6-7f1d-4e92-bcfe-9b48ded5f42f\"}}];\n",
       "  root.Bokeh.embed.embed_items_notebook(docs_json, render_items);\n",
       "\n",
       "  }\n",
       "  if (root.Bokeh !== undefined) {\n",
       "    embed_document(root);\n",
       "  } else {\n",
       "    var attempts = 0;\n",
       "    var timer = setInterval(function(root) {\n",
       "      if (root.Bokeh !== undefined) {\n",
       "        clearInterval(timer);\n",
       "        embed_document(root);\n",
       "      } else {\n",
       "        attempts++;\n",
       "        if (attempts > 100) {\n",
       "          clearInterval(timer);\n",
       "          console.log(\"Bokeh: ERROR: Unable to run BokehJS code because BokehJS library is missing\");\n",
       "        }\n",
       "      }\n",
       "    }, 10, root)\n",
       "  }\n",
       "})(window);"
      ],
      "application/vnd.bokehjs_exec.v0+json": ""
     },
     "metadata": {
      "application/vnd.bokehjs_exec.v0+json": {
       "id": "1290"
      }
     },
     "output_type": "display_data"
    },
    {
     "data": {
      "text/html": [
       "\n",
       "\n",
       "\n",
       "\n",
       "\n",
       "\n",
       "  <div class=\"bk-root\" id=\"530f074e-def2-4de2-b07a-f08d4914237e\" data-root-id=\"1404\"></div>\n"
      ]
     },
     "metadata": {},
     "output_type": "display_data"
    },
    {
     "data": {
      "application/javascript": [
       "(function(root) {\n",
       "  function embed_document(root) {\n",
       "    \n",
       "  var docs_json = {\"caca8ec3-1322-43bc-8bc6-46e33d7f25aa\":{\"defs\":[],\"roots\":{\"references\":[{\"attributes\":{\"below\":[{\"id\":\"1415\"}],\"center\":[{\"id\":\"1418\"},{\"id\":\"1422\"}],\"left\":[{\"id\":\"1419\"}],\"renderers\":[{\"id\":\"1435\"}],\"title\":{\"id\":\"1405\"},\"toolbar\":{\"id\":\"1427\"},\"toolbar_location\":\"above\",\"x_range\":{\"id\":\"1407\"},\"x_scale\":{\"id\":\"1411\"},\"y_range\":{\"id\":\"1409\"},\"y_scale\":{\"id\":\"1413\"}},\"id\":\"1404\",\"subtype\":\"Figure\",\"type\":\"Plot\"},{\"attributes\":{},\"id\":\"1411\",\"type\":\"LinearScale\"},{\"attributes\":{\"active_multi\":null,\"tools\":[{\"id\":\"1423\"},{\"id\":\"1424\"},{\"id\":\"1425\"},{\"id\":\"1426\"}]},\"id\":\"1427\",\"type\":\"Toolbar\"},{\"attributes\":{},\"id\":\"1423\",\"type\":\"PanTool\"},{\"attributes\":{},\"id\":\"1407\",\"type\":\"DataRange1d\"},{\"attributes\":{\"bottom\":{\"value\":0},\"fill_alpha\":{\"value\":0.1},\"fill_color\":{\"value\":\"#1f77b4\"},\"left\":{\"field\":\"left\"},\"line_alpha\":{\"value\":0.1},\"line_color\":{\"value\":\"#555555\"},\"right\":{\"field\":\"right\"},\"top\":{\"field\":\"top\"}},\"id\":\"1434\",\"type\":\"Quad\"},{\"attributes\":{\"source\":{\"id\":\"1432\"}},\"id\":\"1436\",\"type\":\"CDSView\"},{\"attributes\":{\"data\":{\"left\":{\"__ndarray__\":\"AAAAAAAA8D8pXI/C9SjwP1K4HoXrUfA/exSuR+F68D+kcD0K16PwP83MzMzMzPA/9ihcj8L18D8fhetRuB7xP0jhehSuR/E/cT0K16Nw8T+amZmZmZnxP8P1KFyPwvE/7FG4HoXr8T8UrkfhehTyPz4K16NwPfI/ZmZmZmZm8j+PwvUoXI/yP7gehetRuPI/4XoUrkfh8j8K16NwPQrzPzMzMzMzM/M/XI/C9Shc8z+F61G4HoXzP65H4XoUrvM/16NwPQrX8z8AAAAAAAD0Pylcj8L1KPQ/UrgehetR9D97FK5H4Xr0P6RwPQrXo/Q/zczMzMzM9D/2KFyPwvX0Px+F61G4HvU/SOF6FK5H9T9xPQrXo3D1P5qZmZmZmfU/wvUoXI/C9T/sUbgehev1PxSuR+F6FPY/PgrXo3A99j9mZmZmZmb2P5DC9Shcj/Y/uB6F61G49j/hehSuR+H2PwrXo3A9Cvc/MzMzMzMz9z9cj8L1KFz3P4XrUbgehfc/rkfhehSu9z/Xo3A9Ctf3PwAAAAAAAPg/KVyPwvUo+D9SuB6F61H4P3sUrkfhevg/pHA9Ctej+D/NzMzMzMz4P/YoXI/C9fg/H4XrUbge+T9I4XoUrkf5P3A9CtejcPk/mpmZmZmZ+T/C9Shcj8L5P+xRuB6F6/k/FK5H4XoU+j8+CtejcD36P2ZmZmZmZvo/kML1KFyP+j+4HoXrUbj6P+J6FK5H4fo/CtejcD0K+z80MzMzMzP7P1yPwvUoXPs/hetRuB6F+z+uR+F6FK77P9ejcD0K1/s/AAAAAAAA/D8pXI/C9Sj8P1K4HoXrUfw/exSuR+F6/D+kcD0K16P8P83MzMzMzPw/9ihcj8L1/D8fhetRuB79P0jhehSuR/0/cD0K16Nw/T+amZmZmZn9P8L1KFyPwv0/7FG4HoXr/T8UrkfhehT+Pz4K16NwPf4/ZmZmZmZm/j+QwvUoXI/+P7gehetRuP4/4noUrkfh/j8K16NwPQr/PzQzMzMzM/8/XI/C9Shc/z+F61G4HoX/P65H4XoUrv8/16NwPQrX/z8=\",\"dtype\":\"float64\",\"order\":\"little\",\"shape\":[100]},\"right\":{\"__ndarray__\":\"KVyPwvUo8D9SuB6F61HwP3sUrkfhevA/pHA9Ctej8D/NzMzMzMzwP/YoXI/C9fA/H4XrUbge8T9I4XoUrkfxP3E9CtejcPE/mpmZmZmZ8T/D9Shcj8LxP+xRuB6F6/E/FK5H4XoU8j8+CtejcD3yP2ZmZmZmZvI/j8L1KFyP8j+4HoXrUbjyP+F6FK5H4fI/CtejcD0K8z8zMzMzMzPzP1yPwvUoXPM/hetRuB6F8z+uR+F6FK7zP9ejcD0K1/M/AAAAAAAA9D8pXI/C9Sj0P1K4HoXrUfQ/exSuR+F69D+kcD0K16P0P83MzMzMzPQ/9ihcj8L19D8fhetRuB71P0jhehSuR/U/cT0K16Nw9T+amZmZmZn1P8L1KFyPwvU/7FG4HoXr9T8UrkfhehT2Pz4K16NwPfY/ZmZmZmZm9j+QwvUoXI/2P7gehetRuPY/4XoUrkfh9j8K16NwPQr3PzMzMzMzM/c/XI/C9Shc9z+F61G4HoX3P65H4XoUrvc/16NwPQrX9z8AAAAAAAD4Pylcj8L1KPg/UrgehetR+D97FK5H4Xr4P6RwPQrXo/g/zczMzMzM+D/2KFyPwvX4Px+F61G4Hvk/SOF6FK5H+T9wPQrXo3D5P5qZmZmZmfk/wvUoXI/C+T/sUbgehev5PxSuR+F6FPo/PgrXo3A9+j9mZmZmZmb6P5DC9Shcj/o/uB6F61G4+j/iehSuR+H6PwrXo3A9Cvs/NDMzMzMz+z9cj8L1KFz7P4XrUbgehfs/rkfhehSu+z/Xo3A9Ctf7PwAAAAAAAPw/KVyPwvUo/D9SuB6F61H8P3sUrkfhevw/pHA9Ctej/D/NzMzMzMz8P/YoXI/C9fw/H4XrUbge/T9I4XoUrkf9P3A9CtejcP0/mpmZmZmZ/T/C9Shcj8L9P+xRuB6F6/0/FK5H4XoU/j8+CtejcD3+P2ZmZmZmZv4/kML1KFyP/j+4HoXrUbj+P+J6FK5H4f4/CtejcD0K/z80MzMzMzP/P1yPwvUoXP8/hetRuB6F/z+uR+F6FK7/P9ejcD0K1/8/AAAAAAAAAEA=\",\"dtype\":\"float64\",\"order\":\"little\",\"shape\":[100]},\"top\":{\"__ndarray__\":\"gtPiWJKOVUCOWggVXi7RPzch+IOMNd0/SDHUc4LL4D8gDP1dC1/iPw/Bj45N/OM/+hTuA3AU4T/3vK31CwXfPwdrfELwB9k/Q3A6ynrN1j8oAqu7gNrXP7xHxcxu9Nc/gcarvYF81z/DktT0gpzAP3BLzn2+3dc/Qqp3zy2Nvz9e4cVns+fbPyuXJF7W0Kg//3geTs7Auz9O+GU7BxiXPy8vmo9q7t8/zCzVj8ePpD9YtSpu3uC1P1GLNykz9KM/exq8tGJcfD+r+VtucmrjP0thROSHB5I/KARTcKr0mz8vKvZLAq21P2igMk+0yn4/bcKFwbhOoD/84fz2TrCGP9bt6SvyjGs/YA+OI48J6T9ooDJPtMpuP390YMZD+30/4HHvoLWphD9c3T5vxOqYP8+0Km7e4HU/MJVFGhHuST/v/st3u/e4P41chlz9QXQ/TvhlOwcYlz9qL7TTjHJTPw5chlz9QYQ/jpRFGhHuaT9qL7TTjHJjPx9Hjj3TK10/ai+004xyQz8AAAAAAAAAAL/ZQuCFw/I/jpRFGhHuOT9qL7TTjHJDP2ovtNOMclM//OH89k6wZj/W7ekr8oxrP46URRoR7jk/2HxrsMo0gD8wlUUaEe5ZPwAAAAAAAAAAMw/Pf79/lz9zfGuwyjRQP907oQgwT2g/8C6004xyUz8+fWuwyjRQP+yTRRoR7ik/PYjqxjaAvz/wLrTTjHJDPzCVRRoR7jk/7JNFGhHuWT8wlUUaEe45P/zh/PZOsGY//OH89k6wVj+OlEUaEe45P46URRoR7jk/NVg5+gDOnz/YfGuwyjRQP9h8a7DKNFA/jpRFGhHuST8AAAAAAAAAAA5chlz9QYQ/ai+004xyQz8AAAAAAAAAADeJWOVtEWU/7JNFGhHuKT83iVjlbRFlP+yTRRoR7ik/MJVFGhHuWT9u4fz2TrBWPwAAAAAAAAAA8C6004xyQz8wlUUaEe5JP/AutNOMclM/AAAAAAAAAADsk0UaEe5JPzCVRRoR7jk/jpRFGhHuKT8AAAAAAAAAAI6URRoR7ik/IKtDlQ7ZCkA=\",\"dtype\":\"float64\",\"order\":\"little\",\"shape\":[100]}},\"selected\":{\"id\":\"1480\"},\"selection_policy\":{\"id\":\"1481\"}},\"id\":\"1432\",\"type\":\"ColumnDataSource\"},{\"attributes\":{},\"id\":\"1474\",\"type\":\"BasicTickFormatter\"},{\"attributes\":{},\"id\":\"1420\",\"type\":\"BasicTicker\"},{\"attributes\":{},\"id\":\"1416\",\"type\":\"BasicTicker\"},{\"attributes\":{},\"id\":\"1413\",\"type\":\"LinearScale\"},{\"attributes\":{\"formatter\":{\"id\":\"1477\"},\"major_label_policy\":{\"id\":\"1479\"},\"ticker\":{\"id\":\"1416\"}},\"id\":\"1415\",\"type\":\"LinearAxis\"},{\"attributes\":{},\"id\":\"1476\",\"type\":\"AllLabels\"},{\"attributes\":{\"axis\":{\"id\":\"1415\"},\"ticker\":null},\"id\":\"1418\",\"type\":\"Grid\"},{\"attributes\":{},\"id\":\"1477\",\"type\":\"BasicTickFormatter\"},{\"attributes\":{},\"id\":\"1480\",\"type\":\"Selection\"},{\"attributes\":{},\"id\":\"1479\",\"type\":\"AllLabels\"},{\"attributes\":{},\"id\":\"1481\",\"type\":\"UnionRenderers\"},{\"attributes\":{\"bottom\":{\"value\":0},\"fill_color\":{\"value\":\"#1f77b4\"},\"left\":{\"field\":\"left\"},\"line_color\":{\"value\":\"#555555\"},\"right\":{\"field\":\"right\"},\"top\":{\"field\":\"top\"}},\"id\":\"1433\",\"type\":\"Quad\"},{\"attributes\":{},\"id\":\"1409\",\"type\":\"DataRange1d\"},{\"attributes\":{\"data_source\":{\"id\":\"1432\"},\"glyph\":{\"id\":\"1433\"},\"hover_glyph\":null,\"muted_glyph\":null,\"nonselection_glyph\":{\"id\":\"1434\"},\"view\":{\"id\":\"1436\"}},\"id\":\"1435\",\"type\":\"GlyphRenderer\"},{\"attributes\":{},\"id\":\"1425\",\"type\":\"ResetTool\"},{\"attributes\":{},\"id\":\"1426\",\"type\":\"SaveTool\"},{\"attributes\":{\"formatter\":{\"id\":\"1474\"},\"major_label_policy\":{\"id\":\"1476\"},\"ticker\":{\"id\":\"1420\"}},\"id\":\"1419\",\"type\":\"LinearAxis\"},{\"attributes\":{\"axis\":{\"id\":\"1419\"},\"dimension\":1,\"ticker\":null},\"id\":\"1422\",\"type\":\"Grid\"},{\"attributes\":{},\"id\":\"1424\",\"type\":\"WheelZoomTool\"},{\"attributes\":{\"text\":\"BH Terms Ratios Affinity Distribution\"},\"id\":\"1405\",\"type\":\"Title\"}],\"root_ids\":[\"1404\"]},\"title\":\"Bokeh Application\",\"version\":\"2.3.3\"}};\n",
       "  var render_items = [{\"docid\":\"caca8ec3-1322-43bc-8bc6-46e33d7f25aa\",\"root_ids\":[\"1404\"],\"roots\":{\"1404\":\"530f074e-def2-4de2-b07a-f08d4914237e\"}}];\n",
       "  root.Bokeh.embed.embed_items_notebook(docs_json, render_items);\n",
       "\n",
       "  }\n",
       "  if (root.Bokeh !== undefined) {\n",
       "    embed_document(root);\n",
       "  } else {\n",
       "    var attempts = 0;\n",
       "    var timer = setInterval(function(root) {\n",
       "      if (root.Bokeh !== undefined) {\n",
       "        clearInterval(timer);\n",
       "        embed_document(root);\n",
       "      } else {\n",
       "        attempts++;\n",
       "        if (attempts > 100) {\n",
       "          clearInterval(timer);\n",
       "          console.log(\"Bokeh: ERROR: Unable to run BokehJS code because BokehJS library is missing\");\n",
       "        }\n",
       "      }\n",
       "    }, 10, root)\n",
       "  }\n",
       "})(window);"
      ],
      "application/vnd.bokehjs_exec.v0+json": ""
     },
     "metadata": {
      "application/vnd.bokehjs_exec.v0+json": {
       "id": "1404"
      }
     },
     "output_type": "display_data"
    },
    {
     "data": {
      "text/html": [
       "\n",
       "\n",
       "\n",
       "\n",
       "\n",
       "\n",
       "  <div class=\"bk-root\" id=\"9a25ca75-a727-4aa3-b326-2f7f62f9f78e\" data-root-id=\"1527\"></div>\n"
      ]
     },
     "metadata": {},
     "output_type": "display_data"
    },
    {
     "data": {
      "application/javascript": [
       "(function(root) {\n",
       "  function embed_document(root) {\n",
       "    \n",
       "  var docs_json = {\"e3a6f16a-aa8f-45d8-bc4a-74d3573abd0c\":{\"defs\":[],\"roots\":{\"references\":[{\"attributes\":{\"below\":[{\"id\":\"1538\"}],\"center\":[{\"id\":\"1541\"},{\"id\":\"1545\"}],\"left\":[{\"id\":\"1542\"}],\"renderers\":[{\"id\":\"1558\"}],\"title\":{\"id\":\"1528\"},\"toolbar\":{\"id\":\"1550\"},\"toolbar_location\":\"above\",\"x_range\":{\"id\":\"1530\"},\"x_scale\":{\"id\":\"1534\"},\"y_range\":{\"id\":\"1532\"},\"y_scale\":{\"id\":\"1536\"}},\"id\":\"1527\",\"subtype\":\"Figure\",\"type\":\"Plot\"},{\"attributes\":{\"data_source\":{\"id\":\"1555\"},\"glyph\":{\"id\":\"1556\"},\"hover_glyph\":null,\"muted_glyph\":null,\"nonselection_glyph\":{\"id\":\"1557\"},\"view\":{\"id\":\"1559\"}},\"id\":\"1558\",\"type\":\"GlyphRenderer\"},{\"attributes\":{},\"id\":\"1532\",\"type\":\"DataRange1d\"},{\"attributes\":{},\"id\":\"1606\",\"type\":\"BasicTickFormatter\"},{\"attributes\":{\"formatter\":{\"id\":\"1609\"},\"major_label_policy\":{\"id\":\"1611\"},\"ticker\":{\"id\":\"1539\"}},\"id\":\"1538\",\"type\":\"LinearAxis\"},{\"attributes\":{},\"id\":\"1549\",\"type\":\"SaveTool\"},{\"attributes\":{\"active_multi\":null,\"tools\":[{\"id\":\"1546\"},{\"id\":\"1547\"},{\"id\":\"1548\"},{\"id\":\"1549\"}]},\"id\":\"1550\",\"type\":\"Toolbar\"},{\"attributes\":{},\"id\":\"1608\",\"type\":\"AllLabels\"},{\"attributes\":{},\"id\":\"1536\",\"type\":\"LinearScale\"},{\"attributes\":{},\"id\":\"1609\",\"type\":\"BasicTickFormatter\"},{\"attributes\":{},\"id\":\"1548\",\"type\":\"ResetTool\"},{\"attributes\":{},\"id\":\"1612\",\"type\":\"Selection\"},{\"attributes\":{\"bottom\":{\"value\":0},\"fill_alpha\":{\"value\":0.1},\"fill_color\":{\"value\":\"#1f77b4\"},\"left\":{\"field\":\"left\"},\"line_alpha\":{\"value\":0.1},\"line_color\":{\"value\":\"#555555\"},\"right\":{\"field\":\"right\"},\"top\":{\"field\":\"top\"}},\"id\":\"1557\",\"type\":\"Quad\"},{\"attributes\":{\"bottom\":{\"value\":0},\"fill_color\":{\"value\":\"#1f77b4\"},\"left\":{\"field\":\"left\"},\"line_color\":{\"value\":\"#555555\"},\"right\":{\"field\":\"right\"},\"top\":{\"field\":\"top\"}},\"id\":\"1556\",\"type\":\"Quad\"},{\"attributes\":{},\"id\":\"1611\",\"type\":\"AllLabels\"},{\"attributes\":{},\"id\":\"1547\",\"type\":\"WheelZoomTool\"},{\"attributes\":{},\"id\":\"1530\",\"type\":\"DataRange1d\"},{\"attributes\":{},\"id\":\"1546\",\"type\":\"PanTool\"},{\"attributes\":{},\"id\":\"1613\",\"type\":\"UnionRenderers\"},{\"attributes\":{\"text\":\"QA Terms Ratios Affinity Distribution\"},\"id\":\"1528\",\"type\":\"Title\"},{\"attributes\":{\"formatter\":{\"id\":\"1606\"},\"major_label_policy\":{\"id\":\"1608\"},\"ticker\":{\"id\":\"1543\"}},\"id\":\"1542\",\"type\":\"LinearAxis\"},{\"attributes\":{\"data\":{\"left\":{\"__ndarray__\":\"AAAAAAAA8D8pXI/C9SjwP1K4HoXrUfA/exSuR+F68D+kcD0K16PwP83MzMzMzPA/9ihcj8L18D8fhetRuB7xP0jhehSuR/E/cT0K16Nw8T+amZmZmZnxP8P1KFyPwvE/7FG4HoXr8T8UrkfhehTyPz4K16NwPfI/ZmZmZmZm8j+PwvUoXI/yP7gehetRuPI/4XoUrkfh8j8K16NwPQrzPzMzMzMzM/M/XI/C9Shc8z+F61G4HoXzP65H4XoUrvM/16NwPQrX8z8AAAAAAAD0Pylcj8L1KPQ/UrgehetR9D97FK5H4Xr0P6RwPQrXo/Q/zczMzMzM9D/2KFyPwvX0Px+F61G4HvU/SOF6FK5H9T9xPQrXo3D1P5qZmZmZmfU/wvUoXI/C9T/sUbgehev1PxSuR+F6FPY/PgrXo3A99j9mZmZmZmb2P5DC9Shcj/Y/uB6F61G49j/hehSuR+H2PwrXo3A9Cvc/MzMzMzMz9z9cj8L1KFz3P4XrUbgehfc/rkfhehSu9z/Xo3A9Ctf3PwAAAAAAAPg/KVyPwvUo+D9SuB6F61H4P3sUrkfhevg/pHA9Ctej+D/NzMzMzMz4P/YoXI/C9fg/H4XrUbge+T9I4XoUrkf5P3A9CtejcPk/mpmZmZmZ+T/C9Shcj8L5P+xRuB6F6/k/FK5H4XoU+j8+CtejcD36P2ZmZmZmZvo/kML1KFyP+j+4HoXrUbj6P+J6FK5H4fo/CtejcD0K+z80MzMzMzP7P1yPwvUoXPs/hetRuB6F+z+uR+F6FK77P9ejcD0K1/s/AAAAAAAA/D8pXI/C9Sj8P1K4HoXrUfw/exSuR+F6/D+kcD0K16P8P83MzMzMzPw/9ihcj8L1/D8fhetRuB79P0jhehSuR/0/cD0K16Nw/T+amZmZmZn9P8L1KFyPwv0/7FG4HoXr/T8UrkfhehT+Pz4K16NwPf4/ZmZmZmZm/j+QwvUoXI/+P7gehetRuP4/4noUrkfh/j8K16NwPQr/PzQzMzMzM/8/XI/C9Shc/z+F61G4HoX/P65H4XoUrv8/16NwPQrX/z8=\",\"dtype\":\"float64\",\"order\":\"little\",\"shape\":[100]},\"right\":{\"__ndarray__\":\"KVyPwvUo8D9SuB6F61HwP3sUrkfhevA/pHA9Ctej8D/NzMzMzMzwP/YoXI/C9fA/H4XrUbge8T9I4XoUrkfxP3E9CtejcPE/mpmZmZmZ8T/D9Shcj8LxP+xRuB6F6/E/FK5H4XoU8j8+CtejcD3yP2ZmZmZmZvI/j8L1KFyP8j+4HoXrUbjyP+F6FK5H4fI/CtejcD0K8z8zMzMzMzPzP1yPwvUoXPM/hetRuB6F8z+uR+F6FK7zP9ejcD0K1/M/AAAAAAAA9D8pXI/C9Sj0P1K4HoXrUfQ/exSuR+F69D+kcD0K16P0P83MzMzMzPQ/9ihcj8L19D8fhetRuB71P0jhehSuR/U/cT0K16Nw9T+amZmZmZn1P8L1KFyPwvU/7FG4HoXr9T8UrkfhehT2Pz4K16NwPfY/ZmZmZmZm9j+QwvUoXI/2P7gehetRuPY/4XoUrkfh9j8K16NwPQr3PzMzMzMzM/c/XI/C9Shc9z+F61G4HoX3P65H4XoUrvc/16NwPQrX9z8AAAAAAAD4Pylcj8L1KPg/UrgehetR+D97FK5H4Xr4P6RwPQrXo/g/zczMzMzM+D/2KFyPwvX4Px+F61G4Hvk/SOF6FK5H+T9wPQrXo3D5P5qZmZmZmfk/wvUoXI/C+T/sUbgehev5PxSuR+F6FPo/PgrXo3A9+j9mZmZmZmb6P5DC9Shcj/o/uB6F61G4+j/iehSuR+H6PwrXo3A9Cvs/NDMzMzMz+z9cj8L1KFz7P4XrUbgehfs/rkfhehSu+z/Xo3A9Ctf7PwAAAAAAAPw/KVyPwvUo/D9SuB6F61H8P3sUrkfhevw/pHA9Ctej/D/NzMzMzMz8P/YoXI/C9fw/H4XrUbge/T9I4XoUrkf9P3A9CtejcP0/mpmZmZmZ/T/C9Shcj8L9P+xRuB6F6/0/FK5H4XoU/j8+CtejcD3+P2ZmZmZmZv4/kML1KFyP/j+4HoXrUbj+P+J6FK5H4f4/CtejcD0K/z80MzMzMzP/P1yPwvUoXP8/hetRuB6F/z+uR+F6FK7/P9ejcD0K1/8/AAAAAAAAAEA=\",\"dtype\":\"float64\",\"order\":\"little\",\"shape\":[100]},\"top\":{\"__ndarray__\":\"uu+aTg6+VEBwWvvyTGzHP9e0AAFU2tQ/ryt0k6HA2D+rz+Mb6nzeP63CGvj90eA/pKZEsVOd3j/3vK31CwXfP2J16y/00No/CTWPppB82D9vkpBD1hHcPzOMfuE2P9w/B7km/RwI3D9BgLsZHmnIPxKEjTvSid0/VCEFpp33xj983yrVmo/hP1GN391cDrg/s4hY5W0RxT/84fz2TrCmP0vHofDszuM/S2FE5IcHsj835RLKr1vAP6rJ6/1sLrI/DlyGXP1BlD9K/zZBdnToPxWGeaGoLqY/1FoYPsawrj+dd60oQG/CP9NWyNRyfJY/9bVh/XmpsD8kbTEZK+SWPw5chlz9QYQ/xZyEPrfb8D8rk9T0gpyAP+XseAZkO5I/qJ8yT7TKnj9zPoBM9TGnP/AutNOMcpM/4bUqbt7gdT8oX7l61zHFP4Lu6SvyjIs/tx96PO0hqj+gDs9/v393Pw5chlz9QZQ/jpRFGhHuiT/Ec2DGQ/t9P2ovtNOMcnM/s4hY5W0RZT+OlEUaEe45P9Uig+08C/o/2HxrsMo0YD9FO6EIME9oPyLWD8Kr03E/H0eOPdMrfT8OXIZc/UGEP/zh/PZOsGY/k7ro9Wimkz+J4vz2TrBmP3N8a7DKNFA/7OsK6CyqrD+onzJPtMpuP+Jy76C1qYQ/buH89k6wZj/kL7TTjHJjP3N8a7DKNGA/GvHIb7dvyj/sk0UaEe5JP+QvtNOMclM/stUPwqvTcT8+fWuwyjRQPzt+3NVYhok/ItYPwqvTYT/84fz2TrBWP46URRoR7jk/H0eOPdMrrT/YfGuwyjRgP9h8a7DKNHA/jpRFGhHuWT9qL7TTjHJTP32pPTk7BJE/H0eOPdMrXT+OlEUaEe45P390YMZD+30/8C6004xyQz+C7ukr8ox7P/AutNOMckM/OgPiShyjcj+y1Q/Cq9NhPzCVRRoR7ik/8C6004xyYz/kL7TTjHJDP27h/PZOsFY/5C+004xyQz9pRo490ytdPz59a7DKNFA/ai+004xyQz+OlEUaEe4pP46URRoR7jk/nY/l4EINE0A=\",\"dtype\":\"float64\",\"order\":\"little\",\"shape\":[100]}},\"selected\":{\"id\":\"1612\"},\"selection_policy\":{\"id\":\"1613\"}},\"id\":\"1555\",\"type\":\"ColumnDataSource\"},{\"attributes\":{\"source\":{\"id\":\"1555\"}},\"id\":\"1559\",\"type\":\"CDSView\"},{\"attributes\":{\"axis\":{\"id\":\"1538\"},\"ticker\":null},\"id\":\"1541\",\"type\":\"Grid\"},{\"attributes\":{\"axis\":{\"id\":\"1542\"},\"dimension\":1,\"ticker\":null},\"id\":\"1545\",\"type\":\"Grid\"},{\"attributes\":{},\"id\":\"1539\",\"type\":\"BasicTicker\"},{\"attributes\":{},\"id\":\"1534\",\"type\":\"LinearScale\"},{\"attributes\":{},\"id\":\"1543\",\"type\":\"BasicTicker\"}],\"root_ids\":[\"1527\"]},\"title\":\"Bokeh Application\",\"version\":\"2.3.3\"}};\n",
       "  var render_items = [{\"docid\":\"e3a6f16a-aa8f-45d8-bc4a-74d3573abd0c\",\"root_ids\":[\"1527\"],\"roots\":{\"1527\":\"9a25ca75-a727-4aa3-b326-2f7f62f9f78e\"}}];\n",
       "  root.Bokeh.embed.embed_items_notebook(docs_json, render_items);\n",
       "\n",
       "  }\n",
       "  if (root.Bokeh !== undefined) {\n",
       "    embed_document(root);\n",
       "  } else {\n",
       "    var attempts = 0;\n",
       "    var timer = setInterval(function(root) {\n",
       "      if (root.Bokeh !== undefined) {\n",
       "        clearInterval(timer);\n",
       "        embed_document(root);\n",
       "      } else {\n",
       "        attempts++;\n",
       "        if (attempts > 100) {\n",
       "          clearInterval(timer);\n",
       "          console.log(\"Bokeh: ERROR: Unable to run BokehJS code because BokehJS library is missing\");\n",
       "        }\n",
       "      }\n",
       "    }, 10, root)\n",
       "  }\n",
       "})(window);"
      ],
      "application/vnd.bokehjs_exec.v0+json": ""
     },
     "metadata": {
      "application/vnd.bokehjs_exec.v0+json": {
       "id": "1527"
      }
     },
     "output_type": "display_data"
    },
    {
     "data": {
      "text/html": [
       "\n",
       "\n",
       "\n",
       "\n",
       "\n",
       "\n",
       "  <div class=\"bk-root\" id=\"8df67dd7-5ff1-47a0-a33c-38d8f8366b38\" data-root-id=\"1659\"></div>\n"
      ]
     },
     "metadata": {},
     "output_type": "display_data"
    },
    {
     "data": {
      "application/javascript": [
       "(function(root) {\n",
       "  function embed_document(root) {\n",
       "    \n",
       "  var docs_json = {\"da330fdb-dbe8-4943-9ded-e12144083b6c\":{\"defs\":[],\"roots\":{\"references\":[{\"attributes\":{\"below\":[{\"id\":\"1670\"}],\"center\":[{\"id\":\"1673\"},{\"id\":\"1677\"}],\"left\":[{\"id\":\"1674\"}],\"renderers\":[{\"id\":\"1690\"}],\"title\":{\"id\":\"1660\"},\"toolbar\":{\"id\":\"1682\"},\"toolbar_location\":\"above\",\"x_range\":{\"id\":\"1662\"},\"x_scale\":{\"id\":\"1666\"},\"y_range\":{\"id\":\"1664\"},\"y_scale\":{\"id\":\"1668\"}},\"id\":\"1659\",\"subtype\":\"Figure\",\"type\":\"Plot\"},{\"attributes\":{},\"id\":\"1668\",\"type\":\"LinearScale\"},{\"attributes\":{},\"id\":\"1747\",\"type\":\"BasicTickFormatter\"},{\"attributes\":{\"text\":\"IQ Terms Ratios Affinity Distribution\"},\"id\":\"1660\",\"type\":\"Title\"},{\"attributes\":{},\"id\":\"1664\",\"type\":\"DataRange1d\"},{\"attributes\":{\"bottom\":{\"value\":0},\"fill_color\":{\"value\":\"#1f77b4\"},\"left\":{\"field\":\"left\"},\"line_color\":{\"value\":\"#555555\"},\"right\":{\"field\":\"right\"},\"top\":{\"field\":\"top\"}},\"id\":\"1688\",\"type\":\"Quad\"},{\"attributes\":{},\"id\":\"1749\",\"type\":\"AllLabels\"},{\"attributes\":{},\"id\":\"1750\",\"type\":\"BasicTickFormatter\"},{\"attributes\":{},\"id\":\"1681\",\"type\":\"SaveTool\"},{\"attributes\":{},\"id\":\"1753\",\"type\":\"Selection\"},{\"attributes\":{},\"id\":\"1679\",\"type\":\"WheelZoomTool\"},{\"attributes\":{},\"id\":\"1675\",\"type\":\"BasicTicker\"},{\"attributes\":{},\"id\":\"1752\",\"type\":\"AllLabels\"},{\"attributes\":{},\"id\":\"1680\",\"type\":\"ResetTool\"},{\"attributes\":{},\"id\":\"1754\",\"type\":\"UnionRenderers\"},{\"attributes\":{\"bottom\":{\"value\":0},\"fill_alpha\":{\"value\":0.1},\"fill_color\":{\"value\":\"#1f77b4\"},\"left\":{\"field\":\"left\"},\"line_alpha\":{\"value\":0.1},\"line_color\":{\"value\":\"#555555\"},\"right\":{\"field\":\"right\"},\"top\":{\"field\":\"top\"}},\"id\":\"1689\",\"type\":\"Quad\"},{\"attributes\":{},\"id\":\"1678\",\"type\":\"PanTool\"},{\"attributes\":{\"active_multi\":null,\"tools\":[{\"id\":\"1678\"},{\"id\":\"1679\"},{\"id\":\"1680\"},{\"id\":\"1681\"}]},\"id\":\"1682\",\"type\":\"Toolbar\"},{\"attributes\":{\"axis\":{\"id\":\"1674\"},\"dimension\":1,\"ticker\":null},\"id\":\"1677\",\"type\":\"Grid\"},{\"attributes\":{\"data_source\":{\"id\":\"1687\"},\"glyph\":{\"id\":\"1688\"},\"hover_glyph\":null,\"muted_glyph\":null,\"nonselection_glyph\":{\"id\":\"1689\"},\"view\":{\"id\":\"1691\"}},\"id\":\"1690\",\"type\":\"GlyphRenderer\"},{\"attributes\":{},\"id\":\"1666\",\"type\":\"LinearScale\"},{\"attributes\":{\"axis\":{\"id\":\"1670\"},\"ticker\":null},\"id\":\"1673\",\"type\":\"Grid\"},{\"attributes\":{},\"id\":\"1671\",\"type\":\"BasicTicker\"},{\"attributes\":{\"formatter\":{\"id\":\"1750\"},\"major_label_policy\":{\"id\":\"1752\"},\"ticker\":{\"id\":\"1671\"}},\"id\":\"1670\",\"type\":\"LinearAxis\"},{\"attributes\":{\"data\":{\"left\":{\"__ndarray__\":\"AAAAAAAA8D8pXI/C9SjwP1K4HoXrUfA/exSuR+F68D+kcD0K16PwP83MzMzMzPA/9ihcj8L18D8fhetRuB7xP0jhehSuR/E/cT0K16Nw8T+amZmZmZnxP8P1KFyPwvE/7FG4HoXr8T8UrkfhehTyPz4K16NwPfI/ZmZmZmZm8j+PwvUoXI/yP7gehetRuPI/4XoUrkfh8j8K16NwPQrzPzMzMzMzM/M/XI/C9Shc8z+F61G4HoXzP65H4XoUrvM/16NwPQrX8z8AAAAAAAD0Pylcj8L1KPQ/UrgehetR9D97FK5H4Xr0P6RwPQrXo/Q/zczMzMzM9D/2KFyPwvX0Px+F61G4HvU/SOF6FK5H9T9xPQrXo3D1P5qZmZmZmfU/wvUoXI/C9T/sUbgehev1PxSuR+F6FPY/PgrXo3A99j9mZmZmZmb2P5DC9Shcj/Y/uB6F61G49j/hehSuR+H2PwrXo3A9Cvc/MzMzMzMz9z9cj8L1KFz3P4XrUbgehfc/rkfhehSu9z/Xo3A9Ctf3PwAAAAAAAPg/KVyPwvUo+D9SuB6F61H4P3sUrkfhevg/pHA9Ctej+D/NzMzMzMz4P/YoXI/C9fg/H4XrUbge+T9I4XoUrkf5P3A9CtejcPk/mpmZmZmZ+T/C9Shcj8L5P+xRuB6F6/k/FK5H4XoU+j8+CtejcD36P2ZmZmZmZvo/kML1KFyP+j+4HoXrUbj6P+J6FK5H4fo/CtejcD0K+z80MzMzMzP7P1yPwvUoXPs/hetRuB6F+z+uR+F6FK77P9ejcD0K1/s/AAAAAAAA/D8pXI/C9Sj8P1K4HoXrUfw/exSuR+F6/D+kcD0K16P8P83MzMzMzPw/9ihcj8L1/D8fhetRuB79P0jhehSuR/0/cD0K16Nw/T+amZmZmZn9P8L1KFyPwv0/7FG4HoXr/T8UrkfhehT+Pz4K16NwPf4/ZmZmZmZm/j+QwvUoXI/+P7gehetRuP4/4noUrkfh/j8K16NwPQr/PzQzMzMzM/8/XI/C9Shc/z+F61G4HoX/P65H4XoUrv8/16NwPQrX/z8=\",\"dtype\":\"float64\",\"order\":\"little\",\"shape\":[100]},\"right\":{\"__ndarray__\":\"KVyPwvUo8D9SuB6F61HwP3sUrkfhevA/pHA9Ctej8D/NzMzMzMzwP/YoXI/C9fA/H4XrUbge8T9I4XoUrkfxP3E9CtejcPE/mpmZmZmZ8T/D9Shcj8LxP+xRuB6F6/E/FK5H4XoU8j8+CtejcD3yP2ZmZmZmZvI/j8L1KFyP8j+4HoXrUbjyP+F6FK5H4fI/CtejcD0K8z8zMzMzMzPzP1yPwvUoXPM/hetRuB6F8z+uR+F6FK7zP9ejcD0K1/M/AAAAAAAA9D8pXI/C9Sj0P1K4HoXrUfQ/exSuR+F69D+kcD0K16P0P83MzMzMzPQ/9ihcj8L19D8fhetRuB71P0jhehSuR/U/cT0K16Nw9T+amZmZmZn1P8L1KFyPwvU/7FG4HoXr9T8UrkfhehT2Pz4K16NwPfY/ZmZmZmZm9j+QwvUoXI/2P7gehetRuPY/4XoUrkfh9j8K16NwPQr3PzMzMzMzM/c/XI/C9Shc9z+F61G4HoX3P65H4XoUrvc/16NwPQrX9z8AAAAAAAD4Pylcj8L1KPg/UrgehetR+D97FK5H4Xr4P6RwPQrXo/g/zczMzMzM+D/2KFyPwvX4Px+F61G4Hvk/SOF6FK5H+T9wPQrXo3D5P5qZmZmZmfk/wvUoXI/C+T/sUbgehev5PxSuR+F6FPo/PgrXo3A9+j9mZmZmZmb6P5DC9Shcj/o/uB6F61G4+j/iehSuR+H6PwrXo3A9Cvs/NDMzMzMz+z9cj8L1KFz7P4XrUbgehfs/rkfhehSu+z/Xo3A9Ctf7PwAAAAAAAPw/KVyPwvUo/D9SuB6F61H8P3sUrkfhevw/pHA9Ctej/D/NzMzMzMz8P/YoXI/C9fw/H4XrUbge/T9I4XoUrkf9P3A9CtejcP0/mpmZmZmZ/T/C9Shcj8L9P+xRuB6F6/0/FK5H4XoU/j8+CtejcD3+P2ZmZmZmZv4/kML1KFyP/j+4HoXrUbj+P+J6FK5H4f4/CtejcD0K/z80MzMzMzP/P1yPwvUoXP8/hetRuB6F/z+uR+F6FK7/P9ejcD0K1/8/AAAAAAAAAEA=\",\"dtype\":\"float64\",\"order\":\"little\",\"shape\":[100]},\"top\":{\"__ndarray__\":\"uBi/xoGeVkDoYyMoTergP1HwQFuDruM/6GMjKE3q4D9VJAE13B7dP/JbeTrsf9o/ifzP6HzQ0j/DbWioxqzRP7m0895CGMs/nXqpt36WyD/pZ3ORoB7JP61hYS8BTMk/paFp3k+TyT/J3h2zic2nP7s3N1u6lsw/MsEXo4G9qj8AenIo483NPxaKyQr8Yo4/JG0xGSvkpj8rk9T0gpyAP1l9lR1VO9E/K5PU9IKckD9aSPxbCr2iP/IkOMR354c/s4hY5W0RZT+MyIoBR1/WPx9Hjj3TK30/TvhlOwcYhz96FmxLDyikP32pPTk7BHE/1u3pK/KMiz/GAuJKHKNyP2ovtNOMclM/LWPfdqBf3D8fR4490ytdPzCVRRoR7mk/UQLiShyjcj+R1g/Cq9OBPyrt6SvyjGs/5C+004xyQz8k3D5vxOqoP907oQgwT2g/RTuhCDBPiD/84fz2TrBWP7OIWOVtEWU/ai+004xyYz8fR4490ytdP2ovtNOMclM/AAAAAAAAAACOlEUaEe4pP5NWM54t+eU/jpRFGhHuKT9qL7TTjHJDP46URRoR7kk//OH89k6wVj+OlEUaEe5pP2ovtNOMclM/DlyGXP1BdD8wlUUaEe5JP+yTRRoR7jk/gu7pK/KMiz/sk0UaEe5JP4ni/PZOsGY/7JNFGhHuST/kL7TTjHJTP+yTRRoR7ik/EjVyWxc4sT/sk0UaEe45Pz59a7DKNFA/8C6004xyUz8wlUUaEe45Px9Hjj3TK20/jpRFGhHuWT+OlEUaEe5JP46URRoR7jk/DlyGXP1BlD9qL7TTjHJDP2ovtNOMckM/ai+004xyQz+OlEUaEe4pP8YC4koco4I/jpRFGhHuWT+OlEUaEe45P+epPTk7BHE/8C6004xyUz8ooTJPtMpuP3N8a7DKNFA/ieL89k6wVj/sk0UaEe5ZPwAAAAAAAAAAaUaOPdMrXT/kL7TTjHJTP3N8a7DKNGA/MJVFGhHuST/wLrTTjHJDP9ZHjj3TK10/jpRFGhHuST+OlEUaEe5JP46URRoR7ik/Of/yNtwTBUA=\",\"dtype\":\"float64\",\"order\":\"little\",\"shape\":[100]}},\"selected\":{\"id\":\"1753\"},\"selection_policy\":{\"id\":\"1754\"}},\"id\":\"1687\",\"type\":\"ColumnDataSource\"},{\"attributes\":{\"source\":{\"id\":\"1687\"}},\"id\":\"1691\",\"type\":\"CDSView\"},{\"attributes\":{\"formatter\":{\"id\":\"1747\"},\"major_label_policy\":{\"id\":\"1749\"},\"ticker\":{\"id\":\"1675\"}},\"id\":\"1674\",\"type\":\"LinearAxis\"},{\"attributes\":{},\"id\":\"1662\",\"type\":\"DataRange1d\"}],\"root_ids\":[\"1659\"]},\"title\":\"Bokeh Application\",\"version\":\"2.3.3\"}};\n",
       "  var render_items = [{\"docid\":\"da330fdb-dbe8-4943-9ded-e12144083b6c\",\"root_ids\":[\"1659\"],\"roots\":{\"1659\":\"8df67dd7-5ff1-47a0-a33c-38d8f8366b38\"}}];\n",
       "  root.Bokeh.embed.embed_items_notebook(docs_json, render_items);\n",
       "\n",
       "  }\n",
       "  if (root.Bokeh !== undefined) {\n",
       "    embed_document(root);\n",
       "  } else {\n",
       "    var attempts = 0;\n",
       "    var timer = setInterval(function(root) {\n",
       "      if (root.Bokeh !== undefined) {\n",
       "        clearInterval(timer);\n",
       "        embed_document(root);\n",
       "      } else {\n",
       "        attempts++;\n",
       "        if (attempts > 100) {\n",
       "          clearInterval(timer);\n",
       "          console.log(\"Bokeh: ERROR: Unable to run BokehJS code because BokehJS library is missing\");\n",
       "        }\n",
       "      }\n",
       "    }, 10, root)\n",
       "  }\n",
       "})(window);"
      ],
      "application/vnd.bokehjs_exec.v0+json": ""
     },
     "metadata": {
      "application/vnd.bokehjs_exec.v0+json": {
       "id": "1659"
      }
     },
     "output_type": "display_data"
    },
    {
     "data": {
      "text/html": [
       "\n",
       "\n",
       "\n",
       "\n",
       "\n",
       "\n",
       "  <div class=\"bk-root\" id=\"69cfa78c-4337-4ff6-a981-2c12ebc13832\" data-root-id=\"1800\"></div>\n"
      ]
     },
     "metadata": {},
     "output_type": "display_data"
    },
    {
     "data": {
      "application/javascript": [
       "(function(root) {\n",
       "  function embed_document(root) {\n",
       "    \n",
       "  var docs_json = {\"a7cdc81e-08d1-4b40-a2f2-1dc67197a64f\":{\"defs\":[],\"roots\":{\"references\":[{\"attributes\":{\"below\":[{\"id\":\"1811\"}],\"center\":[{\"id\":\"1814\"},{\"id\":\"1818\"}],\"left\":[{\"id\":\"1815\"}],\"renderers\":[{\"id\":\"1831\"}],\"title\":{\"id\":\"1801\"},\"toolbar\":{\"id\":\"1823\"},\"toolbar_location\":\"above\",\"x_range\":{\"id\":\"1803\"},\"x_scale\":{\"id\":\"1807\"},\"y_range\":{\"id\":\"1805\"},\"y_scale\":{\"id\":\"1809\"}},\"id\":\"1800\",\"subtype\":\"Figure\",\"type\":\"Plot\"},{\"attributes\":{\"data_source\":{\"id\":\"1828\"},\"glyph\":{\"id\":\"1829\"},\"hover_glyph\":null,\"muted_glyph\":null,\"nonselection_glyph\":{\"id\":\"1830\"},\"view\":{\"id\":\"1832\"}},\"id\":\"1831\",\"type\":\"GlyphRenderer\"},{\"attributes\":{},\"id\":\"1807\",\"type\":\"LinearScale\"},{\"attributes\":{\"source\":{\"id\":\"1828\"}},\"id\":\"1832\",\"type\":\"CDSView\"},{\"attributes\":{},\"id\":\"1900\",\"type\":\"BasicTickFormatter\"},{\"attributes\":{},\"id\":\"1809\",\"type\":\"LinearScale\"},{\"attributes\":{},\"id\":\"1902\",\"type\":\"AllLabels\"},{\"attributes\":{},\"id\":\"1822\",\"type\":\"SaveTool\"},{\"attributes\":{},\"id\":\"1820\",\"type\":\"WheelZoomTool\"},{\"attributes\":{\"axis\":{\"id\":\"1815\"},\"dimension\":1,\"ticker\":null},\"id\":\"1818\",\"type\":\"Grid\"},{\"attributes\":{},\"id\":\"1904\",\"type\":\"UnionRenderers\"},{\"attributes\":{},\"id\":\"1821\",\"type\":\"ResetTool\"},{\"attributes\":{\"bottom\":{\"value\":0},\"fill_color\":{\"value\":\"#1f77b4\"},\"left\":{\"field\":\"left\"},\"line_color\":{\"value\":\"#555555\"},\"right\":{\"field\":\"right\"},\"top\":{\"field\":\"top\"}},\"id\":\"1829\",\"type\":\"Quad\"},{\"attributes\":{},\"id\":\"1819\",\"type\":\"PanTool\"},{\"attributes\":{},\"id\":\"1897\",\"type\":\"BasicTickFormatter\"},{\"attributes\":{},\"id\":\"1903\",\"type\":\"Selection\"},{\"attributes\":{\"formatter\":{\"id\":\"1900\"},\"major_label_policy\":{\"id\":\"1902\"},\"ticker\":{\"id\":\"1812\"}},\"id\":\"1811\",\"type\":\"LinearAxis\"},{\"attributes\":{\"data\":{\"left\":{\"__ndarray__\":\"AAAAAAAA8D8pXI/C9SjwP1K4HoXrUfA/exSuR+F68D+kcD0K16PwP83MzMzMzPA/9ihcj8L18D8fhetRuB7xP0jhehSuR/E/cT0K16Nw8T+amZmZmZnxP8P1KFyPwvE/7FG4HoXr8T8UrkfhehTyPz4K16NwPfI/ZmZmZmZm8j+PwvUoXI/yP7gehetRuPI/4XoUrkfh8j8K16NwPQrzPzMzMzMzM/M/XI/C9Shc8z+F61G4HoXzP65H4XoUrvM/16NwPQrX8z8AAAAAAAD0Pylcj8L1KPQ/UrgehetR9D97FK5H4Xr0P6RwPQrXo/Q/zczMzMzM9D/2KFyPwvX0Px+F61G4HvU/SOF6FK5H9T9xPQrXo3D1P5qZmZmZmfU/wvUoXI/C9T/sUbgehev1PxSuR+F6FPY/PgrXo3A99j9mZmZmZmb2P5DC9Shcj/Y/uB6F61G49j/hehSuR+H2PwrXo3A9Cvc/MzMzMzMz9z9cj8L1KFz3P4XrUbgehfc/rkfhehSu9z/Xo3A9Ctf3PwAAAAAAAPg/KVyPwvUo+D9SuB6F61H4P3sUrkfhevg/pHA9Ctej+D/NzMzMzMz4P/YoXI/C9fg/H4XrUbge+T9I4XoUrkf5P3A9CtejcPk/mpmZmZmZ+T/C9Shcj8L5P+xRuB6F6/k/FK5H4XoU+j8+CtejcD36P2ZmZmZmZvo/kML1KFyP+j+4HoXrUbj6P+J6FK5H4fo/CtejcD0K+z80MzMzMzP7P1yPwvUoXPs/hetRuB6F+z+uR+F6FK77P9ejcD0K1/s/AAAAAAAA/D8pXI/C9Sj8P1K4HoXrUfw/exSuR+F6/D+kcD0K16P8P83MzMzMzPw/9ihcj8L1/D8fhetRuB79P0jhehSuR/0/cD0K16Nw/T+amZmZmZn9P8L1KFyPwv0/7FG4HoXr/T8UrkfhehT+Pz4K16NwPf4/ZmZmZmZm/j+QwvUoXI/+P7gehetRuP4/4noUrkfh/j8K16NwPQr/PzQzMzMzM/8/XI/C9Shc/z+F61G4HoX/P65H4XoUrv8/16NwPQrX/z8=\",\"dtype\":\"float64\",\"order\":\"little\",\"shape\":[100]},\"right\":{\"__ndarray__\":\"KVyPwvUo8D9SuB6F61HwP3sUrkfhevA/pHA9Ctej8D/NzMzMzMzwP/YoXI/C9fA/H4XrUbge8T9I4XoUrkfxP3E9CtejcPE/mpmZmZmZ8T/D9Shcj8LxP+xRuB6F6/E/FK5H4XoU8j8+CtejcD3yP2ZmZmZmZvI/j8L1KFyP8j+4HoXrUbjyP+F6FK5H4fI/CtejcD0K8z8zMzMzMzPzP1yPwvUoXPM/hetRuB6F8z+uR+F6FK7zP9ejcD0K1/M/AAAAAAAA9D8pXI/C9Sj0P1K4HoXrUfQ/exSuR+F69D+kcD0K16P0P83MzMzMzPQ/9ihcj8L19D8fhetRuB71P0jhehSuR/U/cT0K16Nw9T+amZmZmZn1P8L1KFyPwvU/7FG4HoXr9T8UrkfhehT2Pz4K16NwPfY/ZmZmZmZm9j+QwvUoXI/2P7gehetRuPY/4XoUrkfh9j8K16NwPQr3PzMzMzMzM/c/XI/C9Shc9z+F61G4HoX3P65H4XoUrvc/16NwPQrX9z8AAAAAAAD4Pylcj8L1KPg/UrgehetR+D97FK5H4Xr4P6RwPQrXo/g/zczMzMzM+D/2KFyPwvX4Px+F61G4Hvk/SOF6FK5H+T9wPQrXo3D5P5qZmZmZmfk/wvUoXI/C+T/sUbgehev5PxSuR+F6FPo/PgrXo3A9+j9mZmZmZmb6P5DC9Shcj/o/uB6F61G4+j/iehSuR+H6PwrXo3A9Cvs/NDMzMzMz+z9cj8L1KFz7P4XrUbgehfs/rkfhehSu+z/Xo3A9Ctf7PwAAAAAAAPw/KVyPwvUo/D9SuB6F61H8P3sUrkfhevw/pHA9Ctej/D/NzMzMzMz8P/YoXI/C9fw/H4XrUbge/T9I4XoUrkf9P3A9CtejcP0/mpmZmZmZ/T/C9Shcj8L9P+xRuB6F6/0/FK5H4XoU/j8+CtejcD3+P2ZmZmZmZv4/kML1KFyP/j+4HoXrUbj+P+J6FK5H4f4/CtejcD0K/z80MzMzMzP/P1yPwvUoXP8/hetRuB6F/z+uR+F6FK7/P9ejcD0K1/8/AAAAAAAAAEA=\",\"dtype\":\"float64\",\"order\":\"little\",\"shape\":[100]},\"top\":{\"__ndarray__\":\"G/LOy4pEVUD85PiFjdfMP1pKpBA019Y/pzkWn3952z8aRxNLsCzgP7mwo3Xv4+I/bcKFwbhO4D/MKi3bnXXgP5kdxWWyRdw/fq2Noo442T+RKb+8ZuTaP9e3/I+SAds/4laRRdez2z90twmyo8PEP9bOZdRKads/ifzP6HzQwj+PYVQN8InfPy4oTpfYkrE/hNkonGM/vz8XGUuP1AqjPzlLcNYUI+I//eVMYKLkrj+3H3o87SG6P8cGMrRv16o//OH89k6whj/+EBmNP9/lP1GPh5KGKJw/TvhlOwcYpz/95UxgouS+P7xFHRhF2oM/oA7Pf79/pz87ftzVWIaJP32pPTk7BHE/7sinTMCj7T+ziFjlbRF1PzCVRRoR7ok/w5LU9IKckD+AMSX5GsScP6EYS4/UCoM/kdYPwqvTYT8O6yQsTy7AP+QvtNOMcoM/dOx4BmQ7oj+ziFjlbRFlP0U7oQgwT4g/dOx4BmQ7gj9YtSpu3uB1P/zh/PZOsGY/jpRFGhHuWT8AAAAAAAAAAPZqODhWp/U/jpRFGhHuKT9qL7TTjHJjP/zh/PZOsGY//OH89k6wZj/YfGuwyjRwPyLWD8Kr02E/1u3pK/KMiz8wlUUaEe5ZP/AutNOMckM/kdYPwqvToT9u4fz2TrBmPzMPz3+/f3c/buH89k6wVj8wlUUaEe5ZP+yTRRoR7ik/KMs/2IE7xD/sk0UaEe45P+QvtNOMckM/L4hY5W0RZT/kL7TTjHJDP/zh/PZOsHY/H0eOPdMrXT+OlEUaEe4pP46URRoR7jk/Eu9XSikeoT+OlEUaEe45P9h8a7DKNGA/jpRFGhHuKT8AAAAAAAAAAKrLk7KWSIY/ai+004xyUz+OlEUaEe4pP+G1Km7e4HU/7JNFGhHuOT/dO6EIME9oP+yTRRoR7ik/Pn1rsMo0UD/sk0UaEe5ZPzCVRRoR7ik/buH89k6wVj/kL7TTjHJDP+yTRRoR7ik/MJVFGhHuKT/sk0UaEe4pPzCVRRoR7ik/AAAAAAAAAACOlEUaEe45P46URRoR7ik/RHM2Wbn0DEA=\",\"dtype\":\"float64\",\"order\":\"little\",\"shape\":[100]}},\"selected\":{\"id\":\"1903\"},\"selection_policy\":{\"id\":\"1904\"}},\"id\":\"1828\",\"type\":\"ColumnDataSource\"},{\"attributes\":{},\"id\":\"1899\",\"type\":\"AllLabels\"},{\"attributes\":{},\"id\":\"1803\",\"type\":\"DataRange1d\"},{\"attributes\":{},\"id\":\"1805\",\"type\":\"DataRange1d\"},{\"attributes\":{\"text\":\"SA Terms Ratios Affinity Distribution\"},\"id\":\"1801\",\"type\":\"Title\"},{\"attributes\":{\"bottom\":{\"value\":0},\"fill_alpha\":{\"value\":0.1},\"fill_color\":{\"value\":\"#1f77b4\"},\"left\":{\"field\":\"left\"},\"line_alpha\":{\"value\":0.1},\"line_color\":{\"value\":\"#555555\"},\"right\":{\"field\":\"right\"},\"top\":{\"field\":\"top\"}},\"id\":\"1830\",\"type\":\"Quad\"},{\"attributes\":{},\"id\":\"1812\",\"type\":\"BasicTicker\"},{\"attributes\":{\"formatter\":{\"id\":\"1897\"},\"major_label_policy\":{\"id\":\"1899\"},\"ticker\":{\"id\":\"1816\"}},\"id\":\"1815\",\"type\":\"LinearAxis\"},{\"attributes\":{\"active_multi\":null,\"tools\":[{\"id\":\"1819\"},{\"id\":\"1820\"},{\"id\":\"1821\"},{\"id\":\"1822\"}]},\"id\":\"1823\",\"type\":\"Toolbar\"},{\"attributes\":{},\"id\":\"1816\",\"type\":\"BasicTicker\"},{\"attributes\":{\"axis\":{\"id\":\"1811\"},\"ticker\":null},\"id\":\"1814\",\"type\":\"Grid\"}],\"root_ids\":[\"1800\"]},\"title\":\"Bokeh Application\",\"version\":\"2.3.3\"}};\n",
       "  var render_items = [{\"docid\":\"a7cdc81e-08d1-4b40-a2f2-1dc67197a64f\",\"root_ids\":[\"1800\"],\"roots\":{\"1800\":\"69cfa78c-4337-4ff6-a981-2c12ebc13832\"}}];\n",
       "  root.Bokeh.embed.embed_items_notebook(docs_json, render_items);\n",
       "\n",
       "  }\n",
       "  if (root.Bokeh !== undefined) {\n",
       "    embed_document(root);\n",
       "  } else {\n",
       "    var attempts = 0;\n",
       "    var timer = setInterval(function(root) {\n",
       "      if (root.Bokeh !== undefined) {\n",
       "        clearInterval(timer);\n",
       "        embed_document(root);\n",
       "      } else {\n",
       "        attempts++;\n",
       "        if (attempts > 100) {\n",
       "          clearInterval(timer);\n",
       "          console.log(\"Bokeh: ERROR: Unable to run BokehJS code because BokehJS library is missing\");\n",
       "        }\n",
       "      }\n",
       "    }, 10, root)\n",
       "  }\n",
       "})(window);"
      ],
      "application/vnd.bokehjs_exec.v0+json": ""
     },
     "metadata": {
      "application/vnd.bokehjs_exec.v0+json": {
       "id": "1800"
      }
     },
     "output_type": "display_data"
    },
    {
     "data": {
      "text/html": [
       "\n",
       "\n",
       "\n",
       "\n",
       "\n",
       "\n",
       "  <div class=\"bk-root\" id=\"45e1fa8c-8482-4ddc-9550-819d690fee46\" data-root-id=\"1950\"></div>\n"
      ]
     },
     "metadata": {},
     "output_type": "display_data"
    },
    {
     "data": {
      "application/javascript": [
       "(function(root) {\n",
       "  function embed_document(root) {\n",
       "    \n",
       "  var docs_json = {\"bc763764-6deb-46c6-b25a-52d15655b9bd\":{\"defs\":[],\"roots\":{\"references\":[{\"attributes\":{\"below\":[{\"id\":\"1961\"}],\"center\":[{\"id\":\"1964\"},{\"id\":\"1968\"}],\"left\":[{\"id\":\"1965\"}],\"renderers\":[{\"id\":\"1981\"}],\"title\":{\"id\":\"1951\"},\"toolbar\":{\"id\":\"1973\"},\"toolbar_location\":\"above\",\"x_range\":{\"id\":\"1953\"},\"x_scale\":{\"id\":\"1957\"},\"y_range\":{\"id\":\"1955\"},\"y_scale\":{\"id\":\"1959\"}},\"id\":\"1950\",\"subtype\":\"Figure\",\"type\":\"Plot\"},{\"attributes\":{},\"id\":\"1959\",\"type\":\"LinearScale\"},{\"attributes\":{},\"id\":\"1957\",\"type\":\"LinearScale\"},{\"attributes\":{},\"id\":\"2063\",\"type\":\"UnionRenderers\"},{\"attributes\":{\"active_multi\":null,\"tools\":[{\"id\":\"1969\"},{\"id\":\"1970\"},{\"id\":\"1971\"},{\"id\":\"1972\"}]},\"id\":\"1973\",\"type\":\"Toolbar\"},{\"attributes\":{\"bottom\":{\"value\":0},\"fill_color\":{\"value\":\"#1f77b4\"},\"left\":{\"field\":\"left\"},\"line_color\":{\"value\":\"#555555\"},\"right\":{\"field\":\"right\"},\"top\":{\"field\":\"top\"}},\"id\":\"1979\",\"type\":\"Quad\"},{\"attributes\":{\"bottom\":{\"value\":0},\"fill_alpha\":{\"value\":0.1},\"fill_color\":{\"value\":\"#1f77b4\"},\"left\":{\"field\":\"left\"},\"line_alpha\":{\"value\":0.1},\"line_color\":{\"value\":\"#555555\"},\"right\":{\"field\":\"right\"},\"top\":{\"field\":\"top\"}},\"id\":\"1980\",\"type\":\"Quad\"},{\"attributes\":{},\"id\":\"1955\",\"type\":\"DataRange1d\"},{\"attributes\":{\"text\":\"OM Terms Ratios Affinity Distribution\"},\"id\":\"1951\",\"type\":\"Title\"},{\"attributes\":{},\"id\":\"1953\",\"type\":\"DataRange1d\"},{\"attributes\":{\"data_source\":{\"id\":\"1978\"},\"glyph\":{\"id\":\"1979\"},\"hover_glyph\":null,\"muted_glyph\":null,\"nonselection_glyph\":{\"id\":\"1980\"},\"view\":{\"id\":\"1982\"}},\"id\":\"1981\",\"type\":\"GlyphRenderer\"},{\"attributes\":{},\"id\":\"2061\",\"type\":\"AllLabels\"},{\"attributes\":{},\"id\":\"2059\",\"type\":\"BasicTickFormatter\"},{\"attributes\":{},\"id\":\"1972\",\"type\":\"SaveTool\"},{\"attributes\":{},\"id\":\"1971\",\"type\":\"ResetTool\"},{\"attributes\":{\"data\":{\"left\":{\"__ndarray__\":\"AAAAAAAA8D8pXI/C9SjwP1K4HoXrUfA/exSuR+F68D+kcD0K16PwP83MzMzMzPA/9ihcj8L18D8fhetRuB7xP0jhehSuR/E/cT0K16Nw8T+amZmZmZnxP8P1KFyPwvE/7FG4HoXr8T8UrkfhehTyPz4K16NwPfI/ZmZmZmZm8j+PwvUoXI/yP7gehetRuPI/4XoUrkfh8j8K16NwPQrzPzMzMzMzM/M/XI/C9Shc8z+F61G4HoXzP65H4XoUrvM/16NwPQrX8z8AAAAAAAD0Pylcj8L1KPQ/UrgehetR9D97FK5H4Xr0P6RwPQrXo/Q/zczMzMzM9D/2KFyPwvX0Px+F61G4HvU/SOF6FK5H9T9xPQrXo3D1P5qZmZmZmfU/wvUoXI/C9T/sUbgehev1PxSuR+F6FPY/PgrXo3A99j9mZmZmZmb2P5DC9Shcj/Y/uB6F61G49j/hehSuR+H2PwrXo3A9Cvc/MzMzMzMz9z9cj8L1KFz3P4XrUbgehfc/rkfhehSu9z/Xo3A9Ctf3PwAAAAAAAPg/KVyPwvUo+D9SuB6F61H4P3sUrkfhevg/pHA9Ctej+D/NzMzMzMz4P/YoXI/C9fg/H4XrUbge+T9I4XoUrkf5P3A9CtejcPk/mpmZmZmZ+T/C9Shcj8L5P+xRuB6F6/k/FK5H4XoU+j8+CtejcD36P2ZmZmZmZvo/kML1KFyP+j+4HoXrUbj6P+J6FK5H4fo/CtejcD0K+z80MzMzMzP7P1yPwvUoXPs/hetRuB6F+z+uR+F6FK77P9ejcD0K1/s/AAAAAAAA/D8pXI/C9Sj8P1K4HoXrUfw/exSuR+F6/D+kcD0K16P8P83MzMzMzPw/9ihcj8L1/D8fhetRuB79P0jhehSuR/0/cD0K16Nw/T+amZmZmZn9P8L1KFyPwv0/7FG4HoXr/T8UrkfhehT+Pz4K16NwPf4/ZmZmZmZm/j+QwvUoXI/+P7gehetRuP4/4noUrkfh/j8K16NwPQr/PzQzMzMzM/8/XI/C9Shc/z+F61G4HoX/P65H4XoUrv8/16NwPQrX/z8=\",\"dtype\":\"float64\",\"order\":\"little\",\"shape\":[100]},\"right\":{\"__ndarray__\":\"KVyPwvUo8D9SuB6F61HwP3sUrkfhevA/pHA9Ctej8D/NzMzMzMzwP/YoXI/C9fA/H4XrUbge8T9I4XoUrkfxP3E9CtejcPE/mpmZmZmZ8T/D9Shcj8LxP+xRuB6F6/E/FK5H4XoU8j8+CtejcD3yP2ZmZmZmZvI/j8L1KFyP8j+4HoXrUbjyP+F6FK5H4fI/CtejcD0K8z8zMzMzMzPzP1yPwvUoXPM/hetRuB6F8z+uR+F6FK7zP9ejcD0K1/M/AAAAAAAA9D8pXI/C9Sj0P1K4HoXrUfQ/exSuR+F69D+kcD0K16P0P83MzMzMzPQ/9ihcj8L19D8fhetRuB71P0jhehSuR/U/cT0K16Nw9T+amZmZmZn1P8L1KFyPwvU/7FG4HoXr9T8UrkfhehT2Pz4K16NwPfY/ZmZmZmZm9j+QwvUoXI/2P7gehetRuPY/4XoUrkfh9j8K16NwPQr3PzMzMzMzM/c/XI/C9Shc9z+F61G4HoX3P65H4XoUrvc/16NwPQrX9z8AAAAAAAD4Pylcj8L1KPg/UrgehetR+D97FK5H4Xr4P6RwPQrXo/g/zczMzMzM+D/2KFyPwvX4Px+F61G4Hvk/SOF6FK5H+T9wPQrXo3D5P5qZmZmZmfk/wvUoXI/C+T/sUbgehev5PxSuR+F6FPo/PgrXo3A9+j9mZmZmZmb6P5DC9Shcj/o/uB6F61G4+j/iehSuR+H6PwrXo3A9Cvs/NDMzMzMz+z9cj8L1KFz7P4XrUbgehfs/rkfhehSu+z/Xo3A9Ctf7PwAAAAAAAPw/KVyPwvUo/D9SuB6F61H8P3sUrkfhevw/pHA9Ctej/D/NzMzMzMz8P/YoXI/C9fw/H4XrUbge/T9I4XoUrkf9P3A9CtejcP0/mpmZmZmZ/T/C9Shcj8L9P+xRuB6F6/0/FK5H4XoU/j8+CtejcD3+P2ZmZmZmZv4/kML1KFyP/j+4HoXrUbj+P+J6FK5H4f4/CtejcD0K/z80MzMzMzP/P1yPwvUoXP8/hetRuB6F/z+uR+F6FK7/P9ejcD0K1/8/AAAAAAAAAEA=\",\"dtype\":\"float64\",\"order\":\"little\",\"shape\":[100]},\"top\":{\"__ndarray__\":\"slEiN3tlVkCcsJZT3iHZPyCn8yu7pOI/l04OvqmP4j9zh2/UE4HiP7RQw5Tka+A/QN1o3E7x2T/TVxyvh4nYP1bpb1UUUtI/JjRI7owx0D8pycGQ4ifRP0JtPjs8ptA/AISnf/QN0T9wEeVSICuxPy84ewxnIdE/CDKTF1JVsj+pyj/YgTvUP/94Hk7OwJs/cl33gYuTrT8OXIZc/UGEP4FAX5C6FNY/k7ro9Wimkz93g5pd40unP8+/pn3za5E/ai+004xyYz/paMdrtSvbP2igMk+0yn4/Agig0qZokD/W7ekr8oyrP2ovtNOMcmM/ForJCvxijj99qT05OwRxP46URRoR7ik/A2793gsw4j9qL7TTjHJDPzeJWOVtEWU/7JNFGhHueT83iVjlbRGFPy+IWOVtEWU/MJVFGhHuKT821KGjdEKsP+QvtNOMclM/s4hY5W0RhT9qL7TTjHJTP7OIWOVtEXU//OH89k6wVj/YfGuwyjRQP46URRoR7jk/jpRFGhHuKT8AAAAAAAAAAC5ii5yLUuo/jpRFGhHuKT+OlEUaEe45P2ovtNOMclM/2HxrsMo0UD/YfGuwyjRgPwAAAAAAAAAAItYPwqvTcT8wlUUaEe45PwAAAAAAAAAAhmhzkaAeiT/sk0UaEe4pP+QvtNOMclM/8C6004xyQz/kL7TTjHJDPwAAAAAAAAAAkdYPwqvTsT8AAAAAAAAAAOQvtNOMckM/7JNFGhHuKT8wlUUaEe4pP46URRoR7lk/ai+004xyQz+OlEUaEe5JP46URRoR7jk/8iQ4xHfnhz+OlEUaEe45P46URRoR7jk/AAAAAAAAAAAAAAAAAAAAACLWD8Kr03E/jpRFGhHuST8AAAAAAAAAADeJWOVtEWU/AAAAAAAAAADWR4490ytdP/AutNOMckM/MJVFGhHuOT/sk0UaEe45PwAAAAAAAAAAc3xrsMo0UD8AAAAAAAAAAOyTRRoR7jk/MJVFGhHuOT/sk0UaEe4pPzCVRRoR7jk/jpRFGhHuKT8AAAAAAAAAAI6URRoR7ik/m/prPu0WAkA=\",\"dtype\":\"float64\",\"order\":\"little\",\"shape\":[100]}},\"selected\":{\"id\":\"2062\"},\"selection_policy\":{\"id\":\"2063\"}},\"id\":\"1978\",\"type\":\"ColumnDataSource\"},{\"attributes\":{},\"id\":\"1970\",\"type\":\"WheelZoomTool\"},{\"attributes\":{\"source\":{\"id\":\"1978\"}},\"id\":\"1982\",\"type\":\"CDSView\"},{\"attributes\":{\"axis\":{\"id\":\"1965\"},\"dimension\":1,\"ticker\":null},\"id\":\"1968\",\"type\":\"Grid\"},{\"attributes\":{\"formatter\":{\"id\":\"2056\"},\"major_label_policy\":{\"id\":\"2058\"},\"ticker\":{\"id\":\"1966\"}},\"id\":\"1965\",\"type\":\"LinearAxis\"},{\"attributes\":{},\"id\":\"1969\",\"type\":\"PanTool\"},{\"attributes\":{},\"id\":\"1962\",\"type\":\"BasicTicker\"},{\"attributes\":{\"axis\":{\"id\":\"1961\"},\"ticker\":null},\"id\":\"1964\",\"type\":\"Grid\"},{\"attributes\":{},\"id\":\"2062\",\"type\":\"Selection\"},{\"attributes\":{\"formatter\":{\"id\":\"2059\"},\"major_label_policy\":{\"id\":\"2061\"},\"ticker\":{\"id\":\"1962\"}},\"id\":\"1961\",\"type\":\"LinearAxis\"},{\"attributes\":{},\"id\":\"2056\",\"type\":\"BasicTickFormatter\"},{\"attributes\":{},\"id\":\"2058\",\"type\":\"AllLabels\"},{\"attributes\":{},\"id\":\"1966\",\"type\":\"BasicTicker\"}],\"root_ids\":[\"1950\"]},\"title\":\"Bokeh Application\",\"version\":\"2.3.3\"}};\n",
       "  var render_items = [{\"docid\":\"bc763764-6deb-46c6-b25a-52d15655b9bd\",\"root_ids\":[\"1950\"],\"roots\":{\"1950\":\"45e1fa8c-8482-4ddc-9550-819d690fee46\"}}];\n",
       "  root.Bokeh.embed.embed_items_notebook(docs_json, render_items);\n",
       "\n",
       "  }\n",
       "  if (root.Bokeh !== undefined) {\n",
       "    embed_document(root);\n",
       "  } else {\n",
       "    var attempts = 0;\n",
       "    var timer = setInterval(function(root) {\n",
       "      if (root.Bokeh !== undefined) {\n",
       "        clearInterval(timer);\n",
       "        embed_document(root);\n",
       "      } else {\n",
       "        attempts++;\n",
       "        if (attempts > 100) {\n",
       "          clearInterval(timer);\n",
       "          console.log(\"Bokeh: ERROR: Unable to run BokehJS code because BokehJS library is missing\");\n",
       "        }\n",
       "      }\n",
       "    }, 10, root)\n",
       "  }\n",
       "})(window);"
      ],
      "application/vnd.bokehjs_exec.v0+json": ""
     },
     "metadata": {
      "application/vnd.bokehjs_exec.v0+json": {
       "id": "1950"
      }
     },
     "output_type": "display_data"
    },
    {
     "data": {
      "text/html": [
       "\n",
       "\n",
       "\n",
       "\n",
       "\n",
       "\n",
       "  <div class=\"bk-root\" id=\"31b62f45-0374-4739-889a-5c5564e8578e\" data-root-id=\"2109\"></div>\n"
      ]
     },
     "metadata": {},
     "output_type": "display_data"
    },
    {
     "data": {
      "application/javascript": [
       "(function(root) {\n",
       "  function embed_document(root) {\n",
       "    \n",
       "  var docs_json = {\"8d0dfe96-f711-407f-92de-505caf813774\":{\"defs\":[],\"roots\":{\"references\":[{\"attributes\":{\"below\":[{\"id\":\"2120\"}],\"center\":[{\"id\":\"2123\"},{\"id\":\"2127\"}],\"left\":[{\"id\":\"2124\"}],\"renderers\":[{\"id\":\"2140\"}],\"title\":{\"id\":\"2110\"},\"toolbar\":{\"id\":\"2132\"},\"toolbar_location\":\"above\",\"x_range\":{\"id\":\"2112\"},\"x_scale\":{\"id\":\"2116\"},\"y_range\":{\"id\":\"2114\"},\"y_scale\":{\"id\":\"2118\"}},\"id\":\"2109\",\"subtype\":\"Figure\",\"type\":\"Plot\"},{\"attributes\":{},\"id\":\"2118\",\"type\":\"LinearScale\"},{\"attributes\":{\"text\":\"SD Terms Ratios Affinity Distribution\"},\"id\":\"2110\",\"type\":\"Title\"},{\"attributes\":{\"data\":{\"left\":{\"__ndarray__\":\"AAAAAAAA8D8pXI/C9SjwP1K4HoXrUfA/exSuR+F68D+kcD0K16PwP83MzMzMzPA/9ihcj8L18D8fhetRuB7xP0jhehSuR/E/cT0K16Nw8T+amZmZmZnxP8P1KFyPwvE/7FG4HoXr8T8UrkfhehTyPz4K16NwPfI/ZmZmZmZm8j+PwvUoXI/yP7gehetRuPI/4XoUrkfh8j8K16NwPQrzPzMzMzMzM/M/XI/C9Shc8z+F61G4HoXzP65H4XoUrvM/16NwPQrX8z8AAAAAAAD0Pylcj8L1KPQ/UrgehetR9D97FK5H4Xr0P6RwPQrXo/Q/zczMzMzM9D/2KFyPwvX0Px+F61G4HvU/SOF6FK5H9T9xPQrXo3D1P5qZmZmZmfU/wvUoXI/C9T/sUbgehev1PxSuR+F6FPY/PgrXo3A99j9mZmZmZmb2P5DC9Shcj/Y/uB6F61G49j/hehSuR+H2PwrXo3A9Cvc/MzMzMzMz9z9cj8L1KFz3P4XrUbgehfc/rkfhehSu9z/Xo3A9Ctf3PwAAAAAAAPg/KVyPwvUo+D9SuB6F61H4P3sUrkfhevg/pHA9Ctej+D/NzMzMzMz4P/YoXI/C9fg/H4XrUbge+T9I4XoUrkf5P3A9CtejcPk/mpmZmZmZ+T/C9Shcj8L5P+xRuB6F6/k/FK5H4XoU+j8+CtejcD36P2ZmZmZmZvo/kML1KFyP+j+4HoXrUbj6P+J6FK5H4fo/CtejcD0K+z80MzMzMzP7P1yPwvUoXPs/hetRuB6F+z+uR+F6FK77P9ejcD0K1/s/AAAAAAAA/D8pXI/C9Sj8P1K4HoXrUfw/exSuR+F6/D+kcD0K16P8P83MzMzMzPw/9ihcj8L1/D8fhetRuB79P0jhehSuR/0/cD0K16Nw/T+amZmZmZn9P8L1KFyPwv0/7FG4HoXr/T8UrkfhehT+Pz4K16NwPf4/ZmZmZmZm/j+QwvUoXI/+P7gehetRuP4/4noUrkfh/j8K16NwPQr/PzQzMzMzM/8/XI/C9Shc/z+F61G4HoX/P65H4XoUrv8/16NwPQrX/z8=\",\"dtype\":\"float64\",\"order\":\"little\",\"shape\":[100]},\"right\":{\"__ndarray__\":\"KVyPwvUo8D9SuB6F61HwP3sUrkfhevA/pHA9Ctej8D/NzMzMzMzwP/YoXI/C9fA/H4XrUbge8T9I4XoUrkfxP3E9CtejcPE/mpmZmZmZ8T/D9Shcj8LxP+xRuB6F6/E/FK5H4XoU8j8+CtejcD3yP2ZmZmZmZvI/j8L1KFyP8j+4HoXrUbjyP+F6FK5H4fI/CtejcD0K8z8zMzMzMzPzP1yPwvUoXPM/hetRuB6F8z+uR+F6FK7zP9ejcD0K1/M/AAAAAAAA9D8pXI/C9Sj0P1K4HoXrUfQ/exSuR+F69D+kcD0K16P0P83MzMzMzPQ/9ihcj8L19D8fhetRuB71P0jhehSuR/U/cT0K16Nw9T+amZmZmZn1P8L1KFyPwvU/7FG4HoXr9T8UrkfhehT2Pz4K16NwPfY/ZmZmZmZm9j+QwvUoXI/2P7gehetRuPY/4XoUrkfh9j8K16NwPQr3PzMzMzMzM/c/XI/C9Shc9z+F61G4HoX3P65H4XoUrvc/16NwPQrX9z8AAAAAAAD4Pylcj8L1KPg/UrgehetR+D97FK5H4Xr4P6RwPQrXo/g/zczMzMzM+D/2KFyPwvX4Px+F61G4Hvk/SOF6FK5H+T9wPQrXo3D5P5qZmZmZmfk/wvUoXI/C+T/sUbgehev5PxSuR+F6FPo/PgrXo3A9+j9mZmZmZmb6P5DC9Shcj/o/uB6F61G4+j/iehSuR+H6PwrXo3A9Cvs/NDMzMzMz+z9cj8L1KFz7P4XrUbgehfs/rkfhehSu+z/Xo3A9Ctf7PwAAAAAAAPw/KVyPwvUo/D9SuB6F61H8P3sUrkfhevw/pHA9Ctej/D/NzMzMzMz8P/YoXI/C9fw/H4XrUbge/T9I4XoUrkf9P3A9CtejcP0/mpmZmZmZ/T/C9Shcj8L9P+xRuB6F6/0/FK5H4XoU/j8+CtejcD3+P2ZmZmZmZv4/kML1KFyP/j+4HoXrUbj+P+J6FK5H4f4/CtejcD0K/z80MzMzMzP/P1yPwvUoXP8/hetRuB6F/z+uR+F6FK7/P9ejcD0K1/8/AAAAAAAAAEA=\",\"dtype\":\"float64\",\"order\":\"little\",\"shape\":[100]},\"top\":{\"__ndarray__\":\"6t9eXd+XVkDkBJchV3/gPxGLovLtcOM/+3n3NcDO4D/FPXMq5G/dPxvnrVzIs9o/Ux9d8XPd0j9Xs4K5tMbRP3XwyG+3b8o/h2pS1WUByD8fRjpjvh7LP+M+1CYKP8k/QBAjWtSMyT/sk0UaEe6pP6dQf+M34cs/qsuTspZIpj8j3AfgKCLOPxcZS4/UCpM/cVmnGDhfpT8XGUuP1AqDP4dnVkYn2tE/S2FE5IcHkj/fpl71dSGiP8+/pn3za5E/H0eOPdMrbT+w9DIdLSjWPzLBF6OBvXo/RTuhCDBPiD9qL7TTjHKjP9h8a7DKNHA/H0eOPdMrjT+OlEUaEe5pP46URRoR7lk/T/thykU/3T+OlEUaEe5ZPzeJWOVtEWU/L4hY5W0RdT83iVjlbRGFP27h/PZOsGY/Pn1rsMo0UD9NZ3ORoB6pPz59a7DKNHA/O37c1ViGiT/YfGuwyjRQP8YC4koco3I/2HxrsMo0YD8fR4490ytdPyLWD8Kr02E/jpRFGhHuST+OlEUaEe4pPxEn7Zqyw+U/ai+004xyQz+OlEUaEe5JP46URRoR7ik//OH89k6wVj9FO6EIME9oP46URRoR7ik/ItYPwqvTcT/kL7TTjHJTP+yTRRoR7ik/kpPU9IKckD9u4fz2TrBWPzeJWOVtEWU/8C6004xyUz/kL7TTjHJDP+yTRRoR7ik/Zkvbn8+fsT/sk0UaEe45PzCVRRoR7ik/c3xrsMo0UD8wlUUaEe45P2igMk+0ym4/ai+004xyQz+OlEUaEe5JP46URRoR7ik/ItYPwqvTkT+OlEUaEe5JP/zh/PZOsFY/2HxrsMo0UD+OlEUaEe4pP9bt6SvyjHs/2HxrsMo0UD+OlEUaEe45PyihMk+0ym4/7JNFGhHuKT8wlUUaEe5pP+yTRRoR7ik/5C+004xyUz/wLrTTjHJTPwAAAAAAAAAA8C6004xyUz/WR4490ytdP2lGjj3TK10/MJVFGhHuKT9u4fz2TrBWPzCVRRoR7kk/ai+004xyQz8AAAAAAAAAAI6URRoR7ik/3ivFv0zjBUA=\",\"dtype\":\"float64\",\"order\":\"little\",\"shape\":[100]}},\"selected\":{\"id\":\"2230\"},\"selection_policy\":{\"id\":\"2231\"}},\"id\":\"2137\",\"type\":\"ColumnDataSource\"},{\"attributes\":{\"formatter\":{\"id\":\"2227\"},\"major_label_policy\":{\"id\":\"2229\"},\"ticker\":{\"id\":\"2121\"}},\"id\":\"2120\",\"type\":\"LinearAxis\"},{\"attributes\":{},\"id\":\"2116\",\"type\":\"LinearScale\"},{\"attributes\":{\"source\":{\"id\":\"2137\"}},\"id\":\"2141\",\"type\":\"CDSView\"},{\"attributes\":{},\"id\":\"2112\",\"type\":\"DataRange1d\"},{\"attributes\":{},\"id\":\"2227\",\"type\":\"BasicTickFormatter\"},{\"attributes\":{},\"id\":\"2224\",\"type\":\"BasicTickFormatter\"},{\"attributes\":{},\"id\":\"2129\",\"type\":\"WheelZoomTool\"},{\"attributes\":{},\"id\":\"2128\",\"type\":\"PanTool\"},{\"attributes\":{\"data_source\":{\"id\":\"2137\"},\"glyph\":{\"id\":\"2138\"},\"hover_glyph\":null,\"muted_glyph\":null,\"nonselection_glyph\":{\"id\":\"2139\"},\"view\":{\"id\":\"2141\"}},\"id\":\"2140\",\"type\":\"GlyphRenderer\"},{\"attributes\":{\"bottom\":{\"value\":0},\"fill_color\":{\"value\":\"#1f77b4\"},\"left\":{\"field\":\"left\"},\"line_color\":{\"value\":\"#555555\"},\"right\":{\"field\":\"right\"},\"top\":{\"field\":\"top\"}},\"id\":\"2138\",\"type\":\"Quad\"},{\"attributes\":{},\"id\":\"2230\",\"type\":\"Selection\"},{\"attributes\":{},\"id\":\"2130\",\"type\":\"ResetTool\"},{\"attributes\":{\"formatter\":{\"id\":\"2224\"},\"major_label_policy\":{\"id\":\"2226\"},\"ticker\":{\"id\":\"2125\"}},\"id\":\"2124\",\"type\":\"LinearAxis\"},{\"attributes\":{},\"id\":\"2131\",\"type\":\"SaveTool\"},{\"attributes\":{\"axis\":{\"id\":\"2124\"},\"dimension\":1,\"ticker\":null},\"id\":\"2127\",\"type\":\"Grid\"},{\"attributes\":{\"bottom\":{\"value\":0},\"fill_alpha\":{\"value\":0.1},\"fill_color\":{\"value\":\"#1f77b4\"},\"left\":{\"field\":\"left\"},\"line_alpha\":{\"value\":0.1},\"line_color\":{\"value\":\"#555555\"},\"right\":{\"field\":\"right\"},\"top\":{\"field\":\"top\"}},\"id\":\"2139\",\"type\":\"Quad\"},{\"attributes\":{\"axis\":{\"id\":\"2120\"},\"ticker\":null},\"id\":\"2123\",\"type\":\"Grid\"},{\"attributes\":{\"active_multi\":null,\"tools\":[{\"id\":\"2128\"},{\"id\":\"2129\"},{\"id\":\"2130\"},{\"id\":\"2131\"}]},\"id\":\"2132\",\"type\":\"Toolbar\"},{\"attributes\":{},\"id\":\"2231\",\"type\":\"UnionRenderers\"},{\"attributes\":{},\"id\":\"2114\",\"type\":\"DataRange1d\"},{\"attributes\":{},\"id\":\"2125\",\"type\":\"BasicTicker\"},{\"attributes\":{},\"id\":\"2229\",\"type\":\"AllLabels\"},{\"attributes\":{},\"id\":\"2226\",\"type\":\"AllLabels\"},{\"attributes\":{},\"id\":\"2121\",\"type\":\"BasicTicker\"}],\"root_ids\":[\"2109\"]},\"title\":\"Bokeh Application\",\"version\":\"2.3.3\"}};\n",
       "  var render_items = [{\"docid\":\"8d0dfe96-f711-407f-92de-505caf813774\",\"root_ids\":[\"2109\"],\"roots\":{\"2109\":\"31b62f45-0374-4739-889a-5c5564e8578e\"}}];\n",
       "  root.Bokeh.embed.embed_items_notebook(docs_json, render_items);\n",
       "\n",
       "  }\n",
       "  if (root.Bokeh !== undefined) {\n",
       "    embed_document(root);\n",
       "  } else {\n",
       "    var attempts = 0;\n",
       "    var timer = setInterval(function(root) {\n",
       "      if (root.Bokeh !== undefined) {\n",
       "        clearInterval(timer);\n",
       "        embed_document(root);\n",
       "      } else {\n",
       "        attempts++;\n",
       "        if (attempts > 100) {\n",
       "          clearInterval(timer);\n",
       "          console.log(\"Bokeh: ERROR: Unable to run BokehJS code because BokehJS library is missing\");\n",
       "        }\n",
       "      }\n",
       "    }, 10, root)\n",
       "  }\n",
       "})(window);"
      ],
      "application/vnd.bokehjs_exec.v0+json": ""
     },
     "metadata": {
      "application/vnd.bokehjs_exec.v0+json": {
       "id": "2109"
      }
     },
     "output_type": "display_data"
    },
    {
     "data": {
      "text/html": [
       "\n",
       "\n",
       "\n",
       "\n",
       "\n",
       "\n",
       "  <div class=\"bk-root\" id=\"772deb58-ff0a-4f5b-bbc1-50254285fa36\" data-root-id=\"2277\"></div>\n"
      ]
     },
     "metadata": {},
     "output_type": "display_data"
    },
    {
     "data": {
      "application/javascript": [
       "(function(root) {\n",
       "  function embed_document(root) {\n",
       "    \n",
       "  var docs_json = {\"9aa52716-590b-4ff4-be6d-8b7707783f2e\":{\"defs\":[],\"roots\":{\"references\":[{\"attributes\":{\"below\":[{\"id\":\"2288\"}],\"center\":[{\"id\":\"2291\"},{\"id\":\"2295\"}],\"left\":[{\"id\":\"2292\"}],\"renderers\":[{\"id\":\"2308\"}],\"title\":{\"id\":\"2278\"},\"toolbar\":{\"id\":\"2300\"},\"toolbar_location\":\"above\",\"x_range\":{\"id\":\"2280\"},\"x_scale\":{\"id\":\"2284\"},\"y_range\":{\"id\":\"2282\"},\"y_scale\":{\"id\":\"2286\"}},\"id\":\"2277\",\"subtype\":\"Figure\",\"type\":\"Plot\"},{\"attributes\":{\"text\":\"SY Terms Ratios Affinity Distribution\"},\"id\":\"2278\",\"type\":\"Title\"},{\"attributes\":{},\"id\":\"2297\",\"type\":\"WheelZoomTool\"},{\"attributes\":{\"active_multi\":null,\"tools\":[{\"id\":\"2296\"},{\"id\":\"2297\"},{\"id\":\"2298\"},{\"id\":\"2299\"}]},\"id\":\"2300\",\"type\":\"Toolbar\"},{\"attributes\":{\"formatter\":{\"id\":\"2401\"},\"major_label_policy\":{\"id\":\"2403\"},\"ticker\":{\"id\":\"2293\"}},\"id\":\"2292\",\"type\":\"LinearAxis\"},{\"attributes\":{},\"id\":\"2408\",\"type\":\"UnionRenderers\"},{\"attributes\":{\"axis\":{\"id\":\"2292\"},\"dimension\":1,\"ticker\":null},\"id\":\"2295\",\"type\":\"Grid\"},{\"attributes\":{},\"id\":\"2284\",\"type\":\"LinearScale\"},{\"attributes\":{},\"id\":\"2293\",\"type\":\"BasicTicker\"},{\"attributes\":{},\"id\":\"2280\",\"type\":\"DataRange1d\"},{\"attributes\":{},\"id\":\"2286\",\"type\":\"LinearScale\"},{\"attributes\":{},\"id\":\"2406\",\"type\":\"AllLabels\"},{\"attributes\":{},\"id\":\"2407\",\"type\":\"Selection\"},{\"attributes\":{\"bottom\":{\"value\":0},\"fill_alpha\":{\"value\":0.1},\"fill_color\":{\"value\":\"#1f77b4\"},\"left\":{\"field\":\"left\"},\"line_alpha\":{\"value\":0.1},\"line_color\":{\"value\":\"#555555\"},\"right\":{\"field\":\"right\"},\"top\":{\"field\":\"top\"}},\"id\":\"2307\",\"type\":\"Quad\"},{\"attributes\":{\"data_source\":{\"id\":\"2305\"},\"glyph\":{\"id\":\"2306\"},\"hover_glyph\":null,\"muted_glyph\":null,\"nonselection_glyph\":{\"id\":\"2307\"},\"view\":{\"id\":\"2309\"}},\"id\":\"2308\",\"type\":\"GlyphRenderer\"},{\"attributes\":{},\"id\":\"2403\",\"type\":\"AllLabels\"},{\"attributes\":{},\"id\":\"2282\",\"type\":\"DataRange1d\"},{\"attributes\":{},\"id\":\"2404\",\"type\":\"BasicTickFormatter\"},{\"attributes\":{\"bottom\":{\"value\":0},\"fill_color\":{\"value\":\"#1f77b4\"},\"left\":{\"field\":\"left\"},\"line_color\":{\"value\":\"#555555\"},\"right\":{\"field\":\"right\"},\"top\":{\"field\":\"top\"}},\"id\":\"2306\",\"type\":\"Quad\"},{\"attributes\":{},\"id\":\"2401\",\"type\":\"BasicTickFormatter\"},{\"attributes\":{\"source\":{\"id\":\"2305\"}},\"id\":\"2309\",\"type\":\"CDSView\"},{\"attributes\":{},\"id\":\"2289\",\"type\":\"BasicTicker\"},{\"attributes\":{},\"id\":\"2299\",\"type\":\"SaveTool\"},{\"attributes\":{\"axis\":{\"id\":\"2288\"},\"ticker\":null},\"id\":\"2291\",\"type\":\"Grid\"},{\"attributes\":{},\"id\":\"2296\",\"type\":\"PanTool\"},{\"attributes\":{},\"id\":\"2298\",\"type\":\"ResetTool\"},{\"attributes\":{\"formatter\":{\"id\":\"2404\"},\"major_label_policy\":{\"id\":\"2406\"},\"ticker\":{\"id\":\"2289\"}},\"id\":\"2288\",\"type\":\"LinearAxis\"},{\"attributes\":{\"data\":{\"left\":{\"__ndarray__\":\"AAAAAAAA8D8pXI/C9SjwP1K4HoXrUfA/exSuR+F68D+kcD0K16PwP83MzMzMzPA/9ihcj8L18D8fhetRuB7xP0jhehSuR/E/cT0K16Nw8T+amZmZmZnxP8P1KFyPwvE/7FG4HoXr8T8UrkfhehTyPz4K16NwPfI/ZmZmZmZm8j+PwvUoXI/yP7gehetRuPI/4XoUrkfh8j8K16NwPQrzPzMzMzMzM/M/XI/C9Shc8z+F61G4HoXzP65H4XoUrvM/16NwPQrX8z8AAAAAAAD0Pylcj8L1KPQ/UrgehetR9D97FK5H4Xr0P6RwPQrXo/Q/zczMzMzM9D/2KFyPwvX0Px+F61G4HvU/SOF6FK5H9T9xPQrXo3D1P5qZmZmZmfU/wvUoXI/C9T/sUbgehev1PxSuR+F6FPY/PgrXo3A99j9mZmZmZmb2P5DC9Shcj/Y/uB6F61G49j/hehSuR+H2PwrXo3A9Cvc/MzMzMzMz9z9cj8L1KFz3P4XrUbgehfc/rkfhehSu9z/Xo3A9Ctf3PwAAAAAAAPg/KVyPwvUo+D9SuB6F61H4P3sUrkfhevg/pHA9Ctej+D/NzMzMzMz4P/YoXI/C9fg/H4XrUbge+T9I4XoUrkf5P3A9CtejcPk/mpmZmZmZ+T/C9Shcj8L5P+xRuB6F6/k/FK5H4XoU+j8+CtejcD36P2ZmZmZmZvo/kML1KFyP+j+4HoXrUbj6P+J6FK5H4fo/CtejcD0K+z80MzMzMzP7P1yPwvUoXPs/hetRuB6F+z+uR+F6FK77P9ejcD0K1/s/AAAAAAAA/D8pXI/C9Sj8P1K4HoXrUfw/exSuR+F6/D+kcD0K16P8P83MzMzMzPw/9ihcj8L1/D8fhetRuB79P0jhehSuR/0/cD0K16Nw/T+amZmZmZn9P8L1KFyPwv0/7FG4HoXr/T8UrkfhehT+Pz4K16NwPf4/ZmZmZmZm/j+QwvUoXI/+P7gehetRuP4/4noUrkfh/j8K16NwPQr/PzQzMzMzM/8/XI/C9Shc/z+F61G4HoX/P65H4XoUrv8/16NwPQrX/z8=\",\"dtype\":\"float64\",\"order\":\"little\",\"shape\":[100]},\"right\":{\"__ndarray__\":\"KVyPwvUo8D9SuB6F61HwP3sUrkfhevA/pHA9Ctej8D/NzMzMzMzwP/YoXI/C9fA/H4XrUbge8T9I4XoUrkfxP3E9CtejcPE/mpmZmZmZ8T/D9Shcj8LxP+xRuB6F6/E/FK5H4XoU8j8+CtejcD3yP2ZmZmZmZvI/j8L1KFyP8j+4HoXrUbjyP+F6FK5H4fI/CtejcD0K8z8zMzMzMzPzP1yPwvUoXPM/hetRuB6F8z+uR+F6FK7zP9ejcD0K1/M/AAAAAAAA9D8pXI/C9Sj0P1K4HoXrUfQ/exSuR+F69D+kcD0K16P0P83MzMzMzPQ/9ihcj8L19D8fhetRuB71P0jhehSuR/U/cT0K16Nw9T+amZmZmZn1P8L1KFyPwvU/7FG4HoXr9T8UrkfhehT2Pz4K16NwPfY/ZmZmZmZm9j+QwvUoXI/2P7gehetRuPY/4XoUrkfh9j8K16NwPQr3PzMzMzMzM/c/XI/C9Shc9z+F61G4HoX3P65H4XoUrvc/16NwPQrX9z8AAAAAAAD4Pylcj8L1KPg/UrgehetR+D97FK5H4Xr4P6RwPQrXo/g/zczMzMzM+D/2KFyPwvX4Px+F61G4Hvk/SOF6FK5H+T9wPQrXo3D5P5qZmZmZmfk/wvUoXI/C+T/sUbgehev5PxSuR+F6FPo/PgrXo3A9+j9mZmZmZmb6P5DC9Shcj/o/uB6F61G4+j/iehSuR+H6PwrXo3A9Cvs/NDMzMzMz+z9cj8L1KFz7P4XrUbgehfs/rkfhehSu+z/Xo3A9Ctf7PwAAAAAAAPw/KVyPwvUo/D9SuB6F61H8P3sUrkfhevw/pHA9Ctej/D/NzMzMzMz8P/YoXI/C9fw/H4XrUbge/T9I4XoUrkf9P3A9CtejcP0/mpmZmZmZ/T/C9Shcj8L9P+xRuB6F6/0/FK5H4XoU/j8+CtejcD3+P2ZmZmZmZv4/kML1KFyP/j+4HoXrUbj+P+J6FK5H4f4/CtejcD0K/z80MzMzMzP/P1yPwvUoXP8/hetRuB6F/z+uR+F6FK7/P9ejcD0K1/8/AAAAAAAAAEA=\",\"dtype\":\"float64\",\"order\":\"little\",\"shape\":[100]},\"top\":{\"__ndarray__\":\"l2Df2lW3VkD8QwqaYEPgP4GkFOj1weM/RZ2uq0Hi4T9KnSmeZOHeP/Mm4HihAdw/zvbn82cE1D+ka7PRi9DTPyZwLahpC80/jpRFGhHuyT+RKb+8ZuTKP9wWiZaIbMs/h1rEY7GjzD9YickK/GKuPwzixWez58s/wNw+b8TqqD+K+3sOaMPQP7OIWOVtEZU/w28QXfDGpT+8RR0YRdqDPzxF86q609I/r/E2ju4AkD9qL7TTjHKjP3savLRiXIw/RTuhCDBPaD9Kmdk0Ea3WP46URRoR7nk/8iQ4xHfnhz9hcu+gtamkP2igMk+0ym4/oA7Pf79/hz+OlEUaEe5pP46URRoR7jk/zjF50y/R3j/84fz2TrBWP9ZHjj3TK20/z7Qqbt7gdT/f+GU7BxiHP3N8a7DKNGA/MJVFGhHuKT+tOqEIME+oP4ni/PZOsGY/ai+004xygz9qL7TTjHJDP0U7oQgwT2g/H0eOPdMrbT/YfGuwyjRQP2ovtNOMclM/ai+004xyQz+OlEUaEe4pPxUhcG9YdOY/jpRFGhHuOT9qL7TTjHJDP46URRoR7kk/2HxrsMo0UD8i1g/Cq9NhP46URRoR7jk/jpRFGhHuaT8wlUUaEe4pP+yTRRoR7ik/3TuhCDBPiD/sk0UaEe45P+QvtNOMcmM/7JNFGhHuST8wlUUaEe4pP+yTRRoR7ik/56k9OTsEsT/sk0UaEe4pPzCVRRoR7ik/c3xrsMo0UD8AAAAAAAAAAGovtNOMclM/ai+004xyQz9qL7TTjHJDPwAAAAAAAAAAdOx4BmQ7gj8AAAAAAAAAAI6URRoR7ik/jpRFGhHuKT8AAAAAAAAAAGovtNOMcnM/jpRFGhHuOT+OlEUaEe45P+QvtNOMckM/7JNFGhHuKT8wlUUaEe5JP+yTRRoR7jk/Pn1rsMo0UD/sk0UaEe5JPzCVRRoR7jk/7JNFGhHuWT8AAAAAAAAAAPAutNOMckM/MJVFGhHuOT/wLrTTjHJDPzCVRRoR7jk/AAAAAAAAAAAAAAAAAAAAAI6URRoR7ik/4tzGg/ir/z8=\",\"dtype\":\"float64\",\"order\":\"little\",\"shape\":[100]}},\"selected\":{\"id\":\"2407\"},\"selection_policy\":{\"id\":\"2408\"}},\"id\":\"2305\",\"type\":\"ColumnDataSource\"}],\"root_ids\":[\"2277\"]},\"title\":\"Bokeh Application\",\"version\":\"2.3.3\"}};\n",
       "  var render_items = [{\"docid\":\"9aa52716-590b-4ff4-be6d-8b7707783f2e\",\"root_ids\":[\"2277\"],\"roots\":{\"2277\":\"772deb58-ff0a-4f5b-bbc1-50254285fa36\"}}];\n",
       "  root.Bokeh.embed.embed_items_notebook(docs_json, render_items);\n",
       "\n",
       "  }\n",
       "  if (root.Bokeh !== undefined) {\n",
       "    embed_document(root);\n",
       "  } else {\n",
       "    var attempts = 0;\n",
       "    var timer = setInterval(function(root) {\n",
       "      if (root.Bokeh !== undefined) {\n",
       "        clearInterval(timer);\n",
       "        embed_document(root);\n",
       "      } else {\n",
       "        attempts++;\n",
       "        if (attempts > 100) {\n",
       "          clearInterval(timer);\n",
       "          console.log(\"Bokeh: ERROR: Unable to run BokehJS code because BokehJS library is missing\");\n",
       "        }\n",
       "      }\n",
       "    }, 10, root)\n",
       "  }\n",
       "})(window);"
      ],
      "application/vnd.bokehjs_exec.v0+json": ""
     },
     "metadata": {
      "application/vnd.bokehjs_exec.v0+json": {
       "id": "2277"
      }
     },
     "output_type": "display_data"
    },
    {
     "data": {
      "text/html": [
       "\n",
       "\n",
       "\n",
       "\n",
       "\n",
       "\n",
       "  <div class=\"bk-root\" id=\"da0176c7-8119-47ba-b7ef-9f260630affc\" data-root-id=\"2454\"></div>\n"
      ]
     },
     "metadata": {},
     "output_type": "display_data"
    },
    {
     "data": {
      "application/javascript": [
       "(function(root) {\n",
       "  function embed_document(root) {\n",
       "    \n",
       "  var docs_json = {\"4944546f-2e84-435f-8d83-a080e0c8e408\":{\"defs\":[],\"roots\":{\"references\":[{\"attributes\":{\"below\":[{\"id\":\"2465\"}],\"center\":[{\"id\":\"2468\"},{\"id\":\"2472\"}],\"left\":[{\"id\":\"2469\"}],\"renderers\":[{\"id\":\"2485\"}],\"title\":{\"id\":\"2455\"},\"toolbar\":{\"id\":\"2477\"},\"toolbar_location\":\"above\",\"x_range\":{\"id\":\"2457\"},\"x_scale\":{\"id\":\"2461\"},\"y_range\":{\"id\":\"2459\"},\"y_scale\":{\"id\":\"2463\"}},\"id\":\"2454\",\"subtype\":\"Figure\",\"type\":\"Plot\"},{\"attributes\":{},\"id\":\"2466\",\"type\":\"BasicTicker\"},{\"attributes\":{\"data\":{\"left\":{\"__ndarray__\":\"AAAAAAAA8D8pXI/C9SjwP1K4HoXrUfA/exSuR+F68D+kcD0K16PwP83MzMzMzPA/9ihcj8L18D8fhetRuB7xP0jhehSuR/E/cT0K16Nw8T+amZmZmZnxP8P1KFyPwvE/7FG4HoXr8T8UrkfhehTyPz4K16NwPfI/ZmZmZmZm8j+PwvUoXI/yP7gehetRuPI/4XoUrkfh8j8K16NwPQrzPzMzMzMzM/M/XI/C9Shc8z+F61G4HoXzP65H4XoUrvM/16NwPQrX8z8AAAAAAAD0Pylcj8L1KPQ/UrgehetR9D97FK5H4Xr0P6RwPQrXo/Q/zczMzMzM9D/2KFyPwvX0Px+F61G4HvU/SOF6FK5H9T9xPQrXo3D1P5qZmZmZmfU/wvUoXI/C9T/sUbgehev1PxSuR+F6FPY/PgrXo3A99j9mZmZmZmb2P5DC9Shcj/Y/uB6F61G49j/hehSuR+H2PwrXo3A9Cvc/MzMzMzMz9z9cj8L1KFz3P4XrUbgehfc/rkfhehSu9z/Xo3A9Ctf3PwAAAAAAAPg/KVyPwvUo+D9SuB6F61H4P3sUrkfhevg/pHA9Ctej+D/NzMzMzMz4P/YoXI/C9fg/H4XrUbge+T9I4XoUrkf5P3A9CtejcPk/mpmZmZmZ+T/C9Shcj8L5P+xRuB6F6/k/FK5H4XoU+j8+CtejcD36P2ZmZmZmZvo/kML1KFyP+j+4HoXrUbj6P+J6FK5H4fo/CtejcD0K+z80MzMzMzP7P1yPwvUoXPs/hetRuB6F+z+uR+F6FK77P9ejcD0K1/s/AAAAAAAA/D8pXI/C9Sj8P1K4HoXrUfw/exSuR+F6/D+kcD0K16P8P83MzMzMzPw/9ihcj8L1/D8fhetRuB79P0jhehSuR/0/cD0K16Nw/T+amZmZmZn9P8L1KFyPwv0/7FG4HoXr/T8UrkfhehT+Pz4K16NwPf4/ZmZmZmZm/j+QwvUoXI/+P7gehetRuP4/4noUrkfh/j8K16NwPQr/PzQzMzMzM/8/XI/C9Shc/z+F61G4HoX/P65H4XoUrv8/16NwPQrX/z8=\",\"dtype\":\"float64\",\"order\":\"little\",\"shape\":[100]},\"right\":{\"__ndarray__\":\"KVyPwvUo8D9SuB6F61HwP3sUrkfhevA/pHA9Ctej8D/NzMzMzMzwP/YoXI/C9fA/H4XrUbge8T9I4XoUrkfxP3E9CtejcPE/mpmZmZmZ8T/D9Shcj8LxP+xRuB6F6/E/FK5H4XoU8j8+CtejcD3yP2ZmZmZmZvI/j8L1KFyP8j+4HoXrUbjyP+F6FK5H4fI/CtejcD0K8z8zMzMzMzPzP1yPwvUoXPM/hetRuB6F8z+uR+F6FK7zP9ejcD0K1/M/AAAAAAAA9D8pXI/C9Sj0P1K4HoXrUfQ/exSuR+F69D+kcD0K16P0P83MzMzMzPQ/9ihcj8L19D8fhetRuB71P0jhehSuR/U/cT0K16Nw9T+amZmZmZn1P8L1KFyPwvU/7FG4HoXr9T8UrkfhehT2Pz4K16NwPfY/ZmZmZmZm9j+QwvUoXI/2P7gehetRuPY/4XoUrkfh9j8K16NwPQr3PzMzMzMzM/c/XI/C9Shc9z+F61G4HoX3P65H4XoUrvc/16NwPQrX9z8AAAAAAAD4Pylcj8L1KPg/UrgehetR+D97FK5H4Xr4P6RwPQrXo/g/zczMzMzM+D/2KFyPwvX4Px+F61G4Hvk/SOF6FK5H+T9wPQrXo3D5P5qZmZmZmfk/wvUoXI/C+T/sUbgehev5PxSuR+F6FPo/PgrXo3A9+j9mZmZmZmb6P5DC9Shcj/o/uB6F61G4+j/iehSuR+H6PwrXo3A9Cvs/NDMzMzMz+z9cj8L1KFz7P4XrUbgehfs/rkfhehSu+z/Xo3A9Ctf7PwAAAAAAAPw/KVyPwvUo/D9SuB6F61H8P3sUrkfhevw/pHA9Ctej/D/NzMzMzMz8P/YoXI/C9fw/H4XrUbge/T9I4XoUrkf9P3A9CtejcP0/mpmZmZmZ/T/C9Shcj8L9P+xRuB6F6/0/FK5H4XoU/j8+CtejcD3+P2ZmZmZmZv4/kML1KFyP/j+4HoXrUbj+P+J6FK5H4f4/CtejcD0K/z80MzMzMzP/P1yPwvUoXP8/hetRuB6F/z+uR+F6FK7/P9ejcD0K1/8/AAAAAAAAAEA=\",\"dtype\":\"float64\",\"order\":\"little\",\"shape\":[100]},\"top\":{\"__ndarray__\":\"w1zgna2lVUBHzR4cRx7TP+Cqrl7JVdo/pW8DO98E3D8GoxGTea3dPw6Ww2GwAd0/dbmH+ULX1z96GBQAOULYPzG+GxRDltQ/xgLiShyj0j+xvfGmuI/TPyOhdgBhVdM/ZY4WbfjW0j821KGjdEK8P95/PdJ+VdU/2YJjzkeDvD9qMVyItozXPxgdm/gnP6s/+U4rCSPUuT9ooDJPtMqeP6rOj0HVb9w/ZQkR+DS6qT+Nkp1l59O1P7mySyoZ/qY/KARTcKr0iz8GZyzZnNPgP+3+lOgfL54/S2FE5IcHoj9YtSpu3uC1P9h8a7DKNJA/w28QXfDGpT/GAuJKHKOSPx9Hjj3TK30/mYAm49jl5z+8RR0YRdqDP9ZHjj3TK40/qJ8yT7TKjj+9HgkXX9CgP4rAF6OBvYo/1keOPdMrbT8A9y6sa0+8P907oQgwT4g/HkM+1H/3pD+ziFjlbRF1PyLWD8Kr05E/FxlLj9QKgz9YtSpu3uB1P2igMk+0yn4/RTuhCDBPaD+OlEUaEe45P8phblESDvM//OH89k6wVj/pZ3ORoB55PyLWD8Kr03E/1u3pK/KMez/pZ3ORoB6JP9h8a7DKNGA/ai+004xykz+C7ukr8oxrP27h/PZOsFY/IeXbOhSTpT8q7ekr8oxrPzMPz3+/f4c/L4hY5W0RdT8ooTJPtMpuP7LVD8Kr02E/VQWK/0W9xj9u4fz2TrBWP4ni/PZOsFY/qJ8yT7TKfj/kL7TTjHJTPw5chlz9QYQ/xgLiShyjcj8i1g/Cq9NhP2ovtNOMckM/pKXw1j6QrD/84fz2TrBmP2igMk+0ym4//OH89k6wZj/YfGuwyjRQP7OIWOVtEZU//OH89k6wVj+OlEUaEe5JP4ni/PZOsIY/buH89k6wZj+R1g/Cq9OBP27h/PZOsFY/1keOPdMrbT+QW4Zc/UF0Pz59a7DKNFA/aUaOPdMrbT+J4vz2TrBmP7LVD8Kr02E/5C+004xyUz/wLrTTjHJTP4ni/PZOsFY/jpRFGhHuST+OlEUaEe4pPwAAAAAAAAAA0/UODHb2DkA=\",\"dtype\":\"float64\",\"order\":\"little\",\"shape\":[100]}},\"selected\":{\"id\":\"2593\"},\"selection_policy\":{\"id\":\"2594\"}},\"id\":\"2482\",\"type\":\"ColumnDataSource\"},{\"attributes\":{},\"id\":\"2470\",\"type\":\"BasicTicker\"},{\"attributes\":{\"text\":\"LB Terms Ratios Affinity Distribution\"},\"id\":\"2455\",\"type\":\"Title\"},{\"attributes\":{\"active_multi\":null,\"tools\":[{\"id\":\"2473\"},{\"id\":\"2474\"},{\"id\":\"2475\"},{\"id\":\"2476\"}]},\"id\":\"2477\",\"type\":\"Toolbar\"},{\"attributes\":{\"formatter\":{\"id\":\"2590\"},\"major_label_policy\":{\"id\":\"2592\"},\"ticker\":{\"id\":\"2466\"}},\"id\":\"2465\",\"type\":\"LinearAxis\"},{\"attributes\":{},\"id\":\"2593\",\"type\":\"Selection\"},{\"attributes\":{\"data_source\":{\"id\":\"2482\"},\"glyph\":{\"id\":\"2483\"},\"hover_glyph\":null,\"muted_glyph\":null,\"nonselection_glyph\":{\"id\":\"2484\"},\"view\":{\"id\":\"2486\"}},\"id\":\"2485\",\"type\":\"GlyphRenderer\"},{\"attributes\":{\"bottom\":{\"value\":0},\"fill_color\":{\"value\":\"#1f77b4\"},\"left\":{\"field\":\"left\"},\"line_color\":{\"value\":\"#555555\"},\"right\":{\"field\":\"right\"},\"top\":{\"field\":\"top\"}},\"id\":\"2483\",\"type\":\"Quad\"},{\"attributes\":{\"axis\":{\"id\":\"2465\"},\"ticker\":null},\"id\":\"2468\",\"type\":\"Grid\"},{\"attributes\":{},\"id\":\"2461\",\"type\":\"LinearScale\"},{\"attributes\":{},\"id\":\"2457\",\"type\":\"DataRange1d\"},{\"attributes\":{},\"id\":\"2459\",\"type\":\"DataRange1d\"},{\"attributes\":{},\"id\":\"2476\",\"type\":\"SaveTool\"},{\"attributes\":{},\"id\":\"2463\",\"type\":\"LinearScale\"},{\"attributes\":{},\"id\":\"2589\",\"type\":\"AllLabels\"},{\"attributes\":{\"source\":{\"id\":\"2482\"}},\"id\":\"2486\",\"type\":\"CDSView\"},{\"attributes\":{},\"id\":\"2587\",\"type\":\"BasicTickFormatter\"},{\"attributes\":{},\"id\":\"2475\",\"type\":\"ResetTool\"},{\"attributes\":{\"bottom\":{\"value\":0},\"fill_alpha\":{\"value\":0.1},\"fill_color\":{\"value\":\"#1f77b4\"},\"left\":{\"field\":\"left\"},\"line_alpha\":{\"value\":0.1},\"line_color\":{\"value\":\"#555555\"},\"right\":{\"field\":\"right\"},\"top\":{\"field\":\"top\"}},\"id\":\"2484\",\"type\":\"Quad\"},{\"attributes\":{},\"id\":\"2473\",\"type\":\"PanTool\"},{\"attributes\":{},\"id\":\"2590\",\"type\":\"BasicTickFormatter\"},{\"attributes\":{},\"id\":\"2474\",\"type\":\"WheelZoomTool\"},{\"attributes\":{\"axis\":{\"id\":\"2469\"},\"dimension\":1,\"ticker\":null},\"id\":\"2472\",\"type\":\"Grid\"},{\"attributes\":{},\"id\":\"2594\",\"type\":\"UnionRenderers\"},{\"attributes\":{\"formatter\":{\"id\":\"2587\"},\"major_label_policy\":{\"id\":\"2589\"},\"ticker\":{\"id\":\"2470\"}},\"id\":\"2469\",\"type\":\"LinearAxis\"},{\"attributes\":{},\"id\":\"2592\",\"type\":\"AllLabels\"}],\"root_ids\":[\"2454\"]},\"title\":\"Bokeh Application\",\"version\":\"2.3.3\"}};\n",
       "  var render_items = [{\"docid\":\"4944546f-2e84-435f-8d83-a080e0c8e408\",\"root_ids\":[\"2454\"],\"roots\":{\"2454\":\"da0176c7-8119-47ba-b7ef-9f260630affc\"}}];\n",
       "  root.Bokeh.embed.embed_items_notebook(docs_json, render_items);\n",
       "\n",
       "  }\n",
       "  if (root.Bokeh !== undefined) {\n",
       "    embed_document(root);\n",
       "  } else {\n",
       "    var attempts = 0;\n",
       "    var timer = setInterval(function(root) {\n",
       "      if (root.Bokeh !== undefined) {\n",
       "        clearInterval(timer);\n",
       "        embed_document(root);\n",
       "      } else {\n",
       "        attempts++;\n",
       "        if (attempts > 100) {\n",
       "          clearInterval(timer);\n",
       "          console.log(\"Bokeh: ERROR: Unable to run BokehJS code because BokehJS library is missing\");\n",
       "        }\n",
       "      }\n",
       "    }, 10, root)\n",
       "  }\n",
       "})(window);"
      ],
      "application/vnd.bokehjs_exec.v0+json": ""
     },
     "metadata": {
      "application/vnd.bokehjs_exec.v0+json": {
       "id": "2454"
      }
     },
     "output_type": "display_data"
    },
    {
     "data": {
      "text/html": [
       "\n",
       "\n",
       "\n",
       "\n",
       "\n",
       "\n",
       "  <div class=\"bk-root\" id=\"7d544815-4066-411d-ae38-6e9201700c9c\" data-root-id=\"2640\"></div>\n"
      ]
     },
     "metadata": {},
     "output_type": "display_data"
    },
    {
     "data": {
      "application/javascript": [
       "(function(root) {\n",
       "  function embed_document(root) {\n",
       "    \n",
       "  var docs_json = {\"dc03c446-179f-428d-afdd-e82d91af821e\":{\"defs\":[],\"roots\":{\"references\":[{\"attributes\":{\"below\":[{\"id\":\"2651\"}],\"center\":[{\"id\":\"2654\"},{\"id\":\"2658\"}],\"left\":[{\"id\":\"2655\"}],\"renderers\":[{\"id\":\"2671\"}],\"title\":{\"id\":\"2641\"},\"toolbar\":{\"id\":\"2663\"},\"toolbar_location\":\"above\",\"x_range\":{\"id\":\"2643\"},\"x_scale\":{\"id\":\"2647\"},\"y_range\":{\"id\":\"2645\"},\"y_scale\":{\"id\":\"2649\"}},\"id\":\"2640\",\"subtype\":\"Figure\",\"type\":\"Plot\"},{\"attributes\":{\"bottom\":{\"value\":0},\"fill_color\":{\"value\":\"#1f77b4\"},\"left\":{\"field\":\"left\"},\"line_color\":{\"value\":\"#555555\"},\"right\":{\"field\":\"right\"},\"top\":{\"field\":\"top\"}},\"id\":\"2669\",\"type\":\"Quad\"},{\"attributes\":{\"axis\":{\"id\":\"2655\"},\"dimension\":1,\"ticker\":null},\"id\":\"2658\",\"type\":\"Grid\"},{\"attributes\":{\"data_source\":{\"id\":\"2668\"},\"glyph\":{\"id\":\"2669\"},\"hover_glyph\":null,\"muted_glyph\":null,\"nonselection_glyph\":{\"id\":\"2670\"},\"view\":{\"id\":\"2672\"}},\"id\":\"2671\",\"type\":\"GlyphRenderer\"},{\"attributes\":{\"formatter\":{\"id\":\"2785\"},\"major_label_policy\":{\"id\":\"2787\"},\"ticker\":{\"id\":\"2652\"}},\"id\":\"2651\",\"type\":\"LinearAxis\"},{\"attributes\":{\"data\":{\"left\":{\"__ndarray__\":\"AAAAAAAA8D8pXI/C9SjwP1K4HoXrUfA/exSuR+F68D+kcD0K16PwP83MzMzMzPA/9ihcj8L18D8fhetRuB7xP0jhehSuR/E/cT0K16Nw8T+amZmZmZnxP8P1KFyPwvE/7FG4HoXr8T8UrkfhehTyPz4K16NwPfI/ZmZmZmZm8j+PwvUoXI/yP7gehetRuPI/4XoUrkfh8j8K16NwPQrzPzMzMzMzM/M/XI/C9Shc8z+F61G4HoXzP65H4XoUrvM/16NwPQrX8z8AAAAAAAD0Pylcj8L1KPQ/UrgehetR9D97FK5H4Xr0P6RwPQrXo/Q/zczMzMzM9D/2KFyPwvX0Px+F61G4HvU/SOF6FK5H9T9xPQrXo3D1P5qZmZmZmfU/wvUoXI/C9T/sUbgehev1PxSuR+F6FPY/PgrXo3A99j9mZmZmZmb2P5DC9Shcj/Y/uB6F61G49j/hehSuR+H2PwrXo3A9Cvc/MzMzMzMz9z9cj8L1KFz3P4XrUbgehfc/rkfhehSu9z/Xo3A9Ctf3PwAAAAAAAPg/KVyPwvUo+D9SuB6F61H4P3sUrkfhevg/pHA9Ctej+D/NzMzMzMz4P/YoXI/C9fg/H4XrUbge+T9I4XoUrkf5P3A9CtejcPk/mpmZmZmZ+T/C9Shcj8L5P+xRuB6F6/k/FK5H4XoU+j8+CtejcD36P2ZmZmZmZvo/kML1KFyP+j+4HoXrUbj6P+J6FK5H4fo/CtejcD0K+z80MzMzMzP7P1yPwvUoXPs/hetRuB6F+z+uR+F6FK77P9ejcD0K1/s/AAAAAAAA/D8pXI/C9Sj8P1K4HoXrUfw/exSuR+F6/D+kcD0K16P8P83MzMzMzPw/9ihcj8L1/D8fhetRuB79P0jhehSuR/0/cD0K16Nw/T+amZmZmZn9P8L1KFyPwv0/7FG4HoXr/T8UrkfhehT+Pz4K16NwPf4/ZmZmZmZm/j+QwvUoXI/+P7gehetRuP4/4noUrkfh/j8K16NwPQr/PzQzMzMzM/8/XI/C9Shc/z+F61G4HoX/P65H4XoUrv8/16NwPQrX/z8=\",\"dtype\":\"float64\",\"order\":\"little\",\"shape\":[100]},\"right\":{\"__ndarray__\":\"KVyPwvUo8D9SuB6F61HwP3sUrkfhevA/pHA9Ctej8D/NzMzMzMzwP/YoXI/C9fA/H4XrUbge8T9I4XoUrkfxP3E9CtejcPE/mpmZmZmZ8T/D9Shcj8LxP+xRuB6F6/E/FK5H4XoU8j8+CtejcD3yP2ZmZmZmZvI/j8L1KFyP8j+4HoXrUbjyP+F6FK5H4fI/CtejcD0K8z8zMzMzMzPzP1yPwvUoXPM/hetRuB6F8z+uR+F6FK7zP9ejcD0K1/M/AAAAAAAA9D8pXI/C9Sj0P1K4HoXrUfQ/exSuR+F69D+kcD0K16P0P83MzMzMzPQ/9ihcj8L19D8fhetRuB71P0jhehSuR/U/cT0K16Nw9T+amZmZmZn1P8L1KFyPwvU/7FG4HoXr9T8UrkfhehT2Pz4K16NwPfY/ZmZmZmZm9j+QwvUoXI/2P7gehetRuPY/4XoUrkfh9j8K16NwPQr3PzMzMzMzM/c/XI/C9Shc9z+F61G4HoX3P65H4XoUrvc/16NwPQrX9z8AAAAAAAD4Pylcj8L1KPg/UrgehetR+D97FK5H4Xr4P6RwPQrXo/g/zczMzMzM+D/2KFyPwvX4Px+F61G4Hvk/SOF6FK5H+T9wPQrXo3D5P5qZmZmZmfk/wvUoXI/C+T/sUbgehev5PxSuR+F6FPo/PgrXo3A9+j9mZmZmZmb6P5DC9Shcj/o/uB6F61G4+j/iehSuR+H6PwrXo3A9Cvs/NDMzMzMz+z9cj8L1KFz7P4XrUbgehfs/rkfhehSu+z/Xo3A9Ctf7PwAAAAAAAPw/KVyPwvUo/D9SuB6F61H8P3sUrkfhevw/pHA9Ctej/D/NzMzMzMz8P/YoXI/C9fw/H4XrUbge/T9I4XoUrkf9P3A9CtejcP0/mpmZmZmZ/T/C9Shcj8L9P+xRuB6F6/0/FK5H4XoU/j8+CtejcD3+P2ZmZmZmZv4/kML1KFyP/j+4HoXrUbj+P+J6FK5H4f4/CtejcD0K/z80MzMzMzP/P1yPwvUoXP8/hetRuB6F/z+uR+F6FK7/P9ejcD0K1/8/AAAAAAAAAEA=\",\"dtype\":\"float64\",\"order\":\"little\",\"shape\":[100]},\"top\":{\"__ndarray__\":\"WCRPWjCBVUBxXktcoKDPP+lnc5GgHtk/qs6PQdVv3D/QJLCvQybhPzvg6XhqGeM/leiwsUTI4D8Rik4Y2WPhP2lp8dg/Mtw/UY3f3VwO2D9NL6exe7DZP+7G/5eWidk/2IsqByIy2j9v+fCkt+3DP2eopa15bNo/JGuJZAHKwj8DD+zKOMTeP/W1Yf15qbA/kitncZD+vj9yXfeBi5OdPz2pqAL2gOA/NFTpkK2Zpz8vLJ4ALMe5P+I9gEz1Mac/ai+004xygz/wWH2rrVjkP6AOz3+/f5c/bcKFwbhOoD9VIlmAsgS5P3savLRiXHw/k7ro9Wimoz8XGUuP1AqDP9bt6SvyjGs/gHj04EO66j9FO6EIME9oP9LNBNgkmn8/O6quXslVij81zJOylkiWP4rAF6OBvXo/kdYPwqvTYT/0D3c06Zm7P390YMZD+30/PxX+LNiWnj8i1g/Cq9NhP3TseAZkO4I/WLUqbt7gdT/84fz2TrBmPyLWD8Kr02E/jpRFGhHuST9qL7TTjHJDP8PTxbQrdPM/ai+004xyQz9qL7TTjHJTP0U7oQgwT2g/s4hY5W0RZT8OXIZc/UF0P/zh/PZOsFY/fak9OTsEgT8+fWuwyjRgP+yTRRoR7jk/ANPCX69fnT/sk0UaEe5ZP5HWD8Kr03E/7JNFGhHuWT/kL7TTjHJTP+yTRRoR7ik/fbebk2wyvz/sk0UaEe4pPzCVRRoR7jk/stUPwqvTYT8wlUUaEe45P8YC4koco3I/jpRFGhHuOT9qL7TTjHJDPwAAAAAAAAAAO37c1ViGmT+OlEUaEe5JP46URRoR7kk/jpRFGhHuST+OlEUaEe4pP7OIWOVtEYU/ai+004xyUz+OlEUaEe45Pz59a7DKNHA/c3xrsMo0UD+J4vz2TrBmPwAAAAAAAAAAieL89k6wVj9u4fz2TrBWPzCVRRoR7ik/7JNFGhHuST8wlUUaEe4pP3N8a7DKNFA/MJVFGhHuOT/wLrTTjHJDPz59a7DKNFA/jpRFGhHuOT+OlEUaEe4pPwAAAAAAAAAAyB0Wkl1oCUA=\",\"dtype\":\"float64\",\"order\":\"little\",\"shape\":[100]}},\"selected\":{\"id\":\"2788\"},\"selection_policy\":{\"id\":\"2789\"}},\"id\":\"2668\",\"type\":\"ColumnDataSource\"},{\"attributes\":{\"active_multi\":null,\"tools\":[{\"id\":\"2659\"},{\"id\":\"2660\"},{\"id\":\"2661\"},{\"id\":\"2662\"}]},\"id\":\"2663\",\"type\":\"Toolbar\"},{\"attributes\":{\"bottom\":{\"value\":0},\"fill_alpha\":{\"value\":0.1},\"fill_color\":{\"value\":\"#1f77b4\"},\"left\":{\"field\":\"left\"},\"line_alpha\":{\"value\":0.1},\"line_color\":{\"value\":\"#555555\"},\"right\":{\"field\":\"right\"},\"top\":{\"field\":\"top\"}},\"id\":\"2670\",\"type\":\"Quad\"},{\"attributes\":{},\"id\":\"2652\",\"type\":\"BasicTicker\"},{\"attributes\":{},\"id\":\"2782\",\"type\":\"BasicTickFormatter\"},{\"attributes\":{},\"id\":\"2659\",\"type\":\"PanTool\"},{\"attributes\":{},\"id\":\"2656\",\"type\":\"BasicTicker\"},{\"attributes\":{},\"id\":\"2660\",\"type\":\"WheelZoomTool\"},{\"attributes\":{},\"id\":\"2784\",\"type\":\"AllLabels\"},{\"attributes\":{},\"id\":\"2785\",\"type\":\"BasicTickFormatter\"},{\"attributes\":{},\"id\":\"2661\",\"type\":\"ResetTool\"},{\"attributes\":{},\"id\":\"2649\",\"type\":\"LinearScale\"},{\"attributes\":{},\"id\":\"2788\",\"type\":\"Selection\"},{\"attributes\":{\"axis\":{\"id\":\"2651\"},\"ticker\":null},\"id\":\"2654\",\"type\":\"Grid\"},{\"attributes\":{},\"id\":\"2643\",\"type\":\"DataRange1d\"},{\"attributes\":{},\"id\":\"2662\",\"type\":\"SaveTool\"},{\"attributes\":{\"formatter\":{\"id\":\"2782\"},\"major_label_policy\":{\"id\":\"2784\"},\"ticker\":{\"id\":\"2656\"}},\"id\":\"2655\",\"type\":\"LinearAxis\"},{\"attributes\":{},\"id\":\"2645\",\"type\":\"DataRange1d\"},{\"attributes\":{\"source\":{\"id\":\"2668\"}},\"id\":\"2672\",\"type\":\"CDSView\"},{\"attributes\":{},\"id\":\"2787\",\"type\":\"AllLabels\"},{\"attributes\":{},\"id\":\"2789\",\"type\":\"UnionRenderers\"},{\"attributes\":{},\"id\":\"2647\",\"type\":\"LinearScale\"},{\"attributes\":{\"text\":\"AE Terms Ratios Affinity Distribution\"},\"id\":\"2641\",\"type\":\"Title\"}],\"root_ids\":[\"2640\"]},\"title\":\"Bokeh Application\",\"version\":\"2.3.3\"}};\n",
       "  var render_items = [{\"docid\":\"dc03c446-179f-428d-afdd-e82d91af821e\",\"root_ids\":[\"2640\"],\"roots\":{\"2640\":\"7d544815-4066-411d-ae38-6e9201700c9c\"}}];\n",
       "  root.Bokeh.embed.embed_items_notebook(docs_json, render_items);\n",
       "\n",
       "  }\n",
       "  if (root.Bokeh !== undefined) {\n",
       "    embed_document(root);\n",
       "  } else {\n",
       "    var attempts = 0;\n",
       "    var timer = setInterval(function(root) {\n",
       "      if (root.Bokeh !== undefined) {\n",
       "        clearInterval(timer);\n",
       "        embed_document(root);\n",
       "      } else {\n",
       "        attempts++;\n",
       "        if (attempts > 100) {\n",
       "          clearInterval(timer);\n",
       "          console.log(\"Bokeh: ERROR: Unable to run BokehJS code because BokehJS library is missing\");\n",
       "        }\n",
       "      }\n",
       "    }, 10, root)\n",
       "  }\n",
       "})(window);"
      ],
      "application/vnd.bokehjs_exec.v0+json": ""
     },
     "metadata": {
      "application/vnd.bokehjs_exec.v0+json": {
       "id": "2640"
      }
     },
     "output_type": "display_data"
    },
    {
     "data": {
      "text/html": [
       "\n",
       "\n",
       "\n",
       "\n",
       "\n",
       "\n",
       "  <div class=\"bk-root\" id=\"2e0a5b73-4979-4768-a724-0703fcdd6db4\" data-root-id=\"2835\"></div>\n"
      ]
     },
     "metadata": {},
     "output_type": "display_data"
    },
    {
     "data": {
      "application/javascript": [
       "(function(root) {\n",
       "  function embed_document(root) {\n",
       "    \n",
       "  var docs_json = {\"8e266219-ec76-40c5-84da-e2d096aece07\":{\"defs\":[],\"roots\":{\"references\":[{\"attributes\":{\"below\":[{\"id\":\"2846\"}],\"center\":[{\"id\":\"2849\"},{\"id\":\"2853\"}],\"left\":[{\"id\":\"2850\"}],\"renderers\":[{\"id\":\"2866\"}],\"title\":{\"id\":\"2836\"},\"toolbar\":{\"id\":\"2858\"},\"toolbar_location\":\"above\",\"x_range\":{\"id\":\"2838\"},\"x_scale\":{\"id\":\"2842\"},\"y_range\":{\"id\":\"2840\"},\"y_scale\":{\"id\":\"2844\"}},\"id\":\"2835\",\"subtype\":\"Figure\",\"type\":\"Plot\"},{\"attributes\":{\"bottom\":{\"value\":0},\"fill_alpha\":{\"value\":0.1},\"fill_color\":{\"value\":\"#1f77b4\"},\"left\":{\"field\":\"left\"},\"line_alpha\":{\"value\":0.1},\"line_color\":{\"value\":\"#555555\"},\"right\":{\"field\":\"right\"},\"top\":{\"field\":\"top\"}},\"id\":\"2865\",\"type\":\"Quad\"},{\"attributes\":{\"source\":{\"id\":\"2863\"}},\"id\":\"2867\",\"type\":\"CDSView\"},{\"attributes\":{\"active_multi\":null,\"tools\":[{\"id\":\"2854\"},{\"id\":\"2855\"},{\"id\":\"2856\"},{\"id\":\"2857\"}]},\"id\":\"2858\",\"type\":\"Toolbar\"},{\"attributes\":{},\"id\":\"2854\",\"type\":\"PanTool\"},{\"attributes\":{},\"id\":\"2986\",\"type\":\"BasicTickFormatter\"},{\"attributes\":{},\"id\":\"2838\",\"type\":\"DataRange1d\"},{\"attributes\":{},\"id\":\"2855\",\"type\":\"WheelZoomTool\"},{\"attributes\":{},\"id\":\"2988\",\"type\":\"AllLabels\"},{\"attributes\":{},\"id\":\"2989\",\"type\":\"BasicTickFormatter\"},{\"attributes\":{},\"id\":\"2856\",\"type\":\"ResetTool\"},{\"attributes\":{\"formatter\":{\"id\":\"2986\"},\"major_label_policy\":{\"id\":\"2988\"},\"ticker\":{\"id\":\"2851\"}},\"id\":\"2850\",\"type\":\"LinearAxis\"},{\"attributes\":{},\"id\":\"2992\",\"type\":\"Selection\"},{\"attributes\":{\"text\":\"KW Terms Ratios Affinity Distribution\"},\"id\":\"2836\",\"type\":\"Title\"},{\"attributes\":{},\"id\":\"2857\",\"type\":\"SaveTool\"},{\"attributes\":{},\"id\":\"2842\",\"type\":\"LinearScale\"},{\"attributes\":{},\"id\":\"2991\",\"type\":\"AllLabels\"},{\"attributes\":{},\"id\":\"2993\",\"type\":\"UnionRenderers\"},{\"attributes\":{\"formatter\":{\"id\":\"2989\"},\"major_label_policy\":{\"id\":\"2991\"},\"ticker\":{\"id\":\"2847\"}},\"id\":\"2846\",\"type\":\"LinearAxis\"},{\"attributes\":{},\"id\":\"2840\",\"type\":\"DataRange1d\"},{\"attributes\":{\"axis\":{\"id\":\"2850\"},\"dimension\":1,\"ticker\":null},\"id\":\"2853\",\"type\":\"Grid\"},{\"attributes\":{},\"id\":\"2851\",\"type\":\"BasicTicker\"},{\"attributes\":{},\"id\":\"2844\",\"type\":\"LinearScale\"},{\"attributes\":{\"data\":{\"left\":{\"__ndarray__\":\"AAAAAAAA8D8pXI/C9SjwP1K4HoXrUfA/exSuR+F68D+kcD0K16PwP83MzMzMzPA/9ihcj8L18D8fhetRuB7xP0jhehSuR/E/cT0K16Nw8T+amZmZmZnxP8P1KFyPwvE/7FG4HoXr8T8UrkfhehTyPz4K16NwPfI/ZmZmZmZm8j+PwvUoXI/yP7gehetRuPI/4XoUrkfh8j8K16NwPQrzPzMzMzMzM/M/XI/C9Shc8z+F61G4HoXzP65H4XoUrvM/16NwPQrX8z8AAAAAAAD0Pylcj8L1KPQ/UrgehetR9D97FK5H4Xr0P6RwPQrXo/Q/zczMzMzM9D/2KFyPwvX0Px+F61G4HvU/SOF6FK5H9T9xPQrXo3D1P5qZmZmZmfU/wvUoXI/C9T/sUbgehev1PxSuR+F6FPY/PgrXo3A99j9mZmZmZmb2P5DC9Shcj/Y/uB6F61G49j/hehSuR+H2PwrXo3A9Cvc/MzMzMzMz9z9cj8L1KFz3P4XrUbgehfc/rkfhehSu9z/Xo3A9Ctf3PwAAAAAAAPg/KVyPwvUo+D9SuB6F61H4P3sUrkfhevg/pHA9Ctej+D/NzMzMzMz4P/YoXI/C9fg/H4XrUbge+T9I4XoUrkf5P3A9CtejcPk/mpmZmZmZ+T/C9Shcj8L5P+xRuB6F6/k/FK5H4XoU+j8+CtejcD36P2ZmZmZmZvo/kML1KFyP+j+4HoXrUbj6P+J6FK5H4fo/CtejcD0K+z80MzMzMzP7P1yPwvUoXPs/hetRuB6F+z+uR+F6FK77P9ejcD0K1/s/AAAAAAAA/D8pXI/C9Sj8P1K4HoXrUfw/exSuR+F6/D+kcD0K16P8P83MzMzMzPw/9ihcj8L1/D8fhetRuB79P0jhehSuR/0/cD0K16Nw/T+amZmZmZn9P8L1KFyPwv0/7FG4HoXr/T8UrkfhehT+Pz4K16NwPf4/ZmZmZmZm/j+QwvUoXI/+P7gehetRuP4/4noUrkfh/j8K16NwPQr/PzQzMzMzM/8/XI/C9Shc/z+F61G4HoX/P65H4XoUrv8/16NwPQrX/z8=\",\"dtype\":\"float64\",\"order\":\"little\",\"shape\":[100]},\"right\":{\"__ndarray__\":\"KVyPwvUo8D9SuB6F61HwP3sUrkfhevA/pHA9Ctej8D/NzMzMzMzwP/YoXI/C9fA/H4XrUbge8T9I4XoUrkfxP3E9CtejcPE/mpmZmZmZ8T/D9Shcj8LxP+xRuB6F6/E/FK5H4XoU8j8+CtejcD3yP2ZmZmZmZvI/j8L1KFyP8j+4HoXrUbjyP+F6FK5H4fI/CtejcD0K8z8zMzMzMzPzP1yPwvUoXPM/hetRuB6F8z+uR+F6FK7zP9ejcD0K1/M/AAAAAAAA9D8pXI/C9Sj0P1K4HoXrUfQ/exSuR+F69D+kcD0K16P0P83MzMzMzPQ/9ihcj8L19D8fhetRuB71P0jhehSuR/U/cT0K16Nw9T+amZmZmZn1P8L1KFyPwvU/7FG4HoXr9T8UrkfhehT2Pz4K16NwPfY/ZmZmZmZm9j+QwvUoXI/2P7gehetRuPY/4XoUrkfh9j8K16NwPQr3PzMzMzMzM/c/XI/C9Shc9z+F61G4HoX3P65H4XoUrvc/16NwPQrX9z8AAAAAAAD4Pylcj8L1KPg/UrgehetR+D97FK5H4Xr4P6RwPQrXo/g/zczMzMzM+D/2KFyPwvX4Px+F61G4Hvk/SOF6FK5H+T9wPQrXo3D5P5qZmZmZmfk/wvUoXI/C+T/sUbgehev5PxSuR+F6FPo/PgrXo3A9+j9mZmZmZmb6P5DC9Shcj/o/uB6F61G4+j/iehSuR+H6PwrXo3A9Cvs/NDMzMzMz+z9cj8L1KFz7P4XrUbgehfs/rkfhehSu+z/Xo3A9Ctf7PwAAAAAAAPw/KVyPwvUo/D9SuB6F61H8P3sUrkfhevw/pHA9Ctej/D/NzMzMzMz8P/YoXI/C9fw/H4XrUbge/T9I4XoUrkf9P3A9CtejcP0/mpmZmZmZ/T/C9Shcj8L9P+xRuB6F6/0/FK5H4XoU/j8+CtejcD3+P2ZmZmZmZv4/kML1KFyP/j+4HoXrUbj+P+J6FK5H4f4/CtejcD0K/z80MzMzMzP/P1yPwvUoXP8/hetRuB6F/z+uR+F6FK7/P9ejcD0K1/8/AAAAAAAAAEA=\",\"dtype\":\"float64\",\"order\":\"little\",\"shape\":[100]},\"top\":{\"__ndarray__\":\"yB8i/N69U0DKnVML7+e/P6Sl8NY+kMw/thsq05nt0T9aSqQQNNfWP4TXgOc5Jds/+hmSR9hV2z8fR4490yvdP9mCY85Hg9w/tlVn2Eyt2j/7Gzr8AXDfP6Of+LjBQeA/9DFpqsdO4T8Z0tyj0ePQP0t+v4rfQeI/SNMWOsRszz8qy2lFDELlP/IikA9OzcM/D2DWxVB2zD9nmjoxN3yyP1UiWYCyBOk/CDE/PT1IwD8ZHEceEzLJPzjrCugsqrw/O3qMbAVSoT+I40NWZSXwP8RzYMZD+60/TvhlOwcYtz/zJYyejPTJP8+/pn3za6E/jpRFGhHuuT8oAAMHV8CjPyuT1PSCnJA/eJp+O9Hc9T99qT05OwSRPwDTwl+vX50/Dg7Pf79/pz9j0VE6IQ60Pzuqrl7JVZo/56k9OTsEgT/lpUSxU53OP7RtMRkr5JY/QaR/sbA+sz/GAuJKHKOCP4PTMH7m8KI/OOe6ftl1lD9yXfeBi5ONPxcZS4/UCoM/xgLiShyjcj9qL7TTjHJDP61pLSKvZgFARTuhCDBPaD/W7ekr8ox7P8+/pn3za4E/vEUdGEXagz/gqq5eyVWKPyLWD8Kr03E/ZAXBjuGFoT/dO6EIME94P3N8a7DKNFA/jVyGXP1BtD9zfGuwyjRwP9nBF6OBvYo/UQLiShyjcj+C7ukr8oxrP3N8a7DKNGA/QduWuprQ1D/sk0UaEe45PzCVRRoR7mk/stUPwqvTgT8+fWuwyjRgP46URRoR7ok/jpRFGhHuaT8fR4490ytdP9h8a7DKNFA/TvhlOwcYtz/W7ekr8oxrP/zh/PZOsHY/jpRFGhHuWT+OlEUaEe45P8RzYMZD+50/RTuhCDBPaD9qL7TTjHJTP4Lu6SvyjIs/8C6004xyUz/WR4490yt9P/AutNOMclM/2cEXo4G9ej9RAuJKHKNyPzCVRRoR7ik/Ku3pK/KMaz8+fWuwyjRgP2lGjj3TK10/5C+004xyUz9pRo490ytdPzCVRRoR7kk/ai+004xyQz+OlEUaEe4pP46URRoR7jk/F1I0unK9GUA=\",\"dtype\":\"float64\",\"order\":\"little\",\"shape\":[100]}},\"selected\":{\"id\":\"2992\"},\"selection_policy\":{\"id\":\"2993\"}},\"id\":\"2863\",\"type\":\"ColumnDataSource\"},{\"attributes\":{\"data_source\":{\"id\":\"2863\"},\"glyph\":{\"id\":\"2864\"},\"hover_glyph\":null,\"muted_glyph\":null,\"nonselection_glyph\":{\"id\":\"2865\"},\"view\":{\"id\":\"2867\"}},\"id\":\"2866\",\"type\":\"GlyphRenderer\"},{\"attributes\":{},\"id\":\"2847\",\"type\":\"BasicTicker\"},{\"attributes\":{\"axis\":{\"id\":\"2846\"},\"ticker\":null},\"id\":\"2849\",\"type\":\"Grid\"},{\"attributes\":{\"bottom\":{\"value\":0},\"fill_color\":{\"value\":\"#1f77b4\"},\"left\":{\"field\":\"left\"},\"line_color\":{\"value\":\"#555555\"},\"right\":{\"field\":\"right\"},\"top\":{\"field\":\"top\"}},\"id\":\"2864\",\"type\":\"Quad\"}],\"root_ids\":[\"2835\"]},\"title\":\"Bokeh Application\",\"version\":\"2.3.3\"}};\n",
       "  var render_items = [{\"docid\":\"8e266219-ec76-40c5-84da-e2d096aece07\",\"root_ids\":[\"2835\"],\"roots\":{\"2835\":\"2e0a5b73-4979-4768-a724-0703fcdd6db4\"}}];\n",
       "  root.Bokeh.embed.embed_items_notebook(docs_json, render_items);\n",
       "\n",
       "  }\n",
       "  if (root.Bokeh !== undefined) {\n",
       "    embed_document(root);\n",
       "  } else {\n",
       "    var attempts = 0;\n",
       "    var timer = setInterval(function(root) {\n",
       "      if (root.Bokeh !== undefined) {\n",
       "        clearInterval(timer);\n",
       "        embed_document(root);\n",
       "      } else {\n",
       "        attempts++;\n",
       "        if (attempts > 100) {\n",
       "          clearInterval(timer);\n",
       "          console.log(\"Bokeh: ERROR: Unable to run BokehJS code because BokehJS library is missing\");\n",
       "        }\n",
       "      }\n",
       "    }, 10, root)\n",
       "  }\n",
       "})(window);"
      ],
      "application/vnd.bokehjs_exec.v0+json": ""
     },
     "metadata": {
      "application/vnd.bokehjs_exec.v0+json": {
       "id": "2835"
      }
     },
     "output_type": "display_data"
    },
    {
     "data": {
      "text/html": [
       "\n",
       "\n",
       "\n",
       "\n",
       "\n",
       "\n",
       "  <div class=\"bk-root\" id=\"7940d576-8038-4676-8e77-831be3794323\" data-root-id=\"3039\"></div>\n"
      ]
     },
     "metadata": {},
     "output_type": "display_data"
    },
    {
     "data": {
      "application/javascript": [
       "(function(root) {\n",
       "  function embed_document(root) {\n",
       "    \n",
       "  var docs_json = {\"3278811a-3fee-4688-856d-17a20e42c95c\":{\"defs\":[],\"roots\":{\"references\":[{\"attributes\":{\"below\":[{\"id\":\"3050\"}],\"center\":[{\"id\":\"3053\"},{\"id\":\"3057\"}],\"left\":[{\"id\":\"3054\"}],\"renderers\":[{\"id\":\"3070\"}],\"title\":{\"id\":\"3040\"},\"toolbar\":{\"id\":\"3062\"},\"toolbar_location\":\"above\",\"x_range\":{\"id\":\"3042\"},\"x_scale\":{\"id\":\"3046\"},\"y_range\":{\"id\":\"3044\"},\"y_scale\":{\"id\":\"3048\"}},\"id\":\"3039\",\"subtype\":\"Figure\",\"type\":\"Plot\"},{\"attributes\":{},\"id\":\"3044\",\"type\":\"DataRange1d\"},{\"attributes\":{},\"id\":\"3199\",\"type\":\"BasicTickFormatter\"},{\"attributes\":{},\"id\":\"3059\",\"type\":\"WheelZoomTool\"},{\"attributes\":{},\"id\":\"3201\",\"type\":\"AllLabels\"},{\"attributes\":{},\"id\":\"3202\",\"type\":\"BasicTickFormatter\"},{\"attributes\":{},\"id\":\"3060\",\"type\":\"ResetTool\"},{\"attributes\":{},\"id\":\"3205\",\"type\":\"Selection\"},{\"attributes\":{},\"id\":\"3061\",\"type\":\"SaveTool\"},{\"attributes\":{},\"id\":\"3204\",\"type\":\"AllLabels\"},{\"attributes\":{},\"id\":\"3206\",\"type\":\"UnionRenderers\"},{\"attributes\":{\"active_multi\":null,\"tools\":[{\"id\":\"3058\"},{\"id\":\"3059\"},{\"id\":\"3060\"},{\"id\":\"3061\"}]},\"id\":\"3062\",\"type\":\"Toolbar\"},{\"attributes\":{},\"id\":\"3048\",\"type\":\"LinearScale\"},{\"attributes\":{\"bottom\":{\"value\":0},\"fill_alpha\":{\"value\":0.1},\"fill_color\":{\"value\":\"#1f77b4\"},\"left\":{\"field\":\"left\"},\"line_alpha\":{\"value\":0.1},\"line_color\":{\"value\":\"#555555\"},\"right\":{\"field\":\"right\"},\"top\":{\"field\":\"top\"}},\"id\":\"3069\",\"type\":\"Quad\"},{\"attributes\":{\"data\":{\"left\":{\"__ndarray__\":\"AAAAAAAA8D8pXI/C9SjwP1K4HoXrUfA/exSuR+F68D+kcD0K16PwP83MzMzMzPA/9ihcj8L18D8fhetRuB7xP0jhehSuR/E/cT0K16Nw8T+amZmZmZnxP8P1KFyPwvE/7FG4HoXr8T8UrkfhehTyPz4K16NwPfI/ZmZmZmZm8j+PwvUoXI/yP7gehetRuPI/4XoUrkfh8j8K16NwPQrzPzMzMzMzM/M/XI/C9Shc8z+F61G4HoXzP65H4XoUrvM/16NwPQrX8z8AAAAAAAD0Pylcj8L1KPQ/UrgehetR9D97FK5H4Xr0P6RwPQrXo/Q/zczMzMzM9D/2KFyPwvX0Px+F61G4HvU/SOF6FK5H9T9xPQrXo3D1P5qZmZmZmfU/wvUoXI/C9T/sUbgehev1PxSuR+F6FPY/PgrXo3A99j9mZmZmZmb2P5DC9Shcj/Y/uB6F61G49j/hehSuR+H2PwrXo3A9Cvc/MzMzMzMz9z9cj8L1KFz3P4XrUbgehfc/rkfhehSu9z/Xo3A9Ctf3PwAAAAAAAPg/KVyPwvUo+D9SuB6F61H4P3sUrkfhevg/pHA9Ctej+D/NzMzMzMz4P/YoXI/C9fg/H4XrUbge+T9I4XoUrkf5P3A9CtejcPk/mpmZmZmZ+T/C9Shcj8L5P+xRuB6F6/k/FK5H4XoU+j8+CtejcD36P2ZmZmZmZvo/kML1KFyP+j+4HoXrUbj6P+J6FK5H4fo/CtejcD0K+z80MzMzMzP7P1yPwvUoXPs/hetRuB6F+z+uR+F6FK77P9ejcD0K1/s/AAAAAAAA/D8pXI/C9Sj8P1K4HoXrUfw/exSuR+F6/D+kcD0K16P8P83MzMzMzPw/9ihcj8L1/D8fhetRuB79P0jhehSuR/0/cD0K16Nw/T+amZmZmZn9P8L1KFyPwv0/7FG4HoXr/T8UrkfhehT+Pz4K16NwPf4/ZmZmZmZm/j+QwvUoXI/+P7gehetRuP4/4noUrkfh/j8K16NwPQr/PzQzMzMzM/8/XI/C9Shc/z+F61G4HoX/P65H4XoUrv8/16NwPQrX/z8=\",\"dtype\":\"float64\",\"order\":\"little\",\"shape\":[100]},\"right\":{\"__ndarray__\":\"KVyPwvUo8D9SuB6F61HwP3sUrkfhevA/pHA9Ctej8D/NzMzMzMzwP/YoXI/C9fA/H4XrUbge8T9I4XoUrkfxP3E9CtejcPE/mpmZmZmZ8T/D9Shcj8LxP+xRuB6F6/E/FK5H4XoU8j8+CtejcD3yP2ZmZmZmZvI/j8L1KFyP8j+4HoXrUbjyP+F6FK5H4fI/CtejcD0K8z8zMzMzMzPzP1yPwvUoXPM/hetRuB6F8z+uR+F6FK7zP9ejcD0K1/M/AAAAAAAA9D8pXI/C9Sj0P1K4HoXrUfQ/exSuR+F69D+kcD0K16P0P83MzMzMzPQ/9ihcj8L19D8fhetRuB71P0jhehSuR/U/cT0K16Nw9T+amZmZmZn1P8L1KFyPwvU/7FG4HoXr9T8UrkfhehT2Pz4K16NwPfY/ZmZmZmZm9j+QwvUoXI/2P7gehetRuPY/4XoUrkfh9j8K16NwPQr3PzMzMzMzM/c/XI/C9Shc9z+F61G4HoX3P65H4XoUrvc/16NwPQrX9z8AAAAAAAD4Pylcj8L1KPg/UrgehetR+D97FK5H4Xr4P6RwPQrXo/g/zczMzMzM+D/2KFyPwvX4Px+F61G4Hvk/SOF6FK5H+T9wPQrXo3D5P5qZmZmZmfk/wvUoXI/C+T/sUbgehev5PxSuR+F6FPo/PgrXo3A9+j9mZmZmZmb6P5DC9Shcj/o/uB6F61G4+j/iehSuR+H6PwrXo3A9Cvs/NDMzMzMz+z9cj8L1KFz7P4XrUbgehfs/rkfhehSu+z/Xo3A9Ctf7PwAAAAAAAPw/KVyPwvUo/D9SuB6F61H8P3sUrkfhevw/pHA9Ctej/D/NzMzMzMz8P/YoXI/C9fw/H4XrUbge/T9I4XoUrkf9P3A9CtejcP0/mpmZmZmZ/T/C9Shcj8L9P+xRuB6F6/0/FK5H4XoU/j8+CtejcD3+P2ZmZmZmZv4/kML1KFyP/j+4HoXrUbj+P+J6FK5H4f4/CtejcD0K/z80MzMzMzP/P1yPwvUoXP8/hetRuB6F/z+uR+F6FK7/P9ejcD0K1/8/AAAAAAAAAEA=\",\"dtype\":\"float64\",\"order\":\"little\",\"shape\":[100]},\"top\":{\"__ndarray__\":\"QITU89XUVkC6eWL/ekvgP/IhPDU5wOE/MsJrfZbK3D/uxv+XlonZP1e2fkjz7dc/LihOl9iS0T9rNazxCcHPPxWHzXu9O8g/dO4gu41Vxj+5sksqGf7GP+hmH7eLEcc/aexBd8hyxz+L+7WkWkyvP1GLAJqXK8k/AgzwO/qcqD/QxErBW63LP4FAX5C6FJY/h2pS1WUBqD8fR4490yuNP23ChcG4TtA/5dBROiEOlD8yvcc5LomiP/hK25/Pn5E/aKAyT7TKbj9fp4hiACjTPyuT1PSCnIA/qsuTspZIhj/MLNWPx4+kP/zh/PZOsHY/DlyGXP1BlD/GAuJKHKNyP46URRoR7lk/+IQYpYJf2j8i1g/Cq9NhPzCVRRoR7nk/Ku3pK/KMez+J4vz2TrCGP7LVD8Kr03E/5C+004xyUz/grI2ijjipP+epPTk7BHE/exq8tGJcjD9qL7TTjHJTPzLBF6OBvXo/xgLiShyjcj9FO6EIME9oP46URRoR7lk/jpRFGhHuOT+OlEUaEe4pP32r5e1kHuU/jpRFGhHuST+OlEUaEe5ZPyLWD8Kr02E/ItYPwqvTYT9FO6EIME9oPx9Hjj3TK10/exq8tGJcfD8wlUUaEe5ZP+yTRRoR7jk/ZY4WbfjWkj/sk0UaEe5ZP5HWD8Kr03E/8C6004xyUz8wlUUaEe5JP3N8a7DKNFA/owADB1fAsz/sk0UaEe4pPz59a7DKNFA/7JNFGhHuaT/kL7TTjHJDP0U7oQgwT2g/ai+004xyUz+OlEUaEe5JPwAAAAAAAAAA7o0WbfjWkj+OlEUaEe5JPyLWD8Kr02E/ai+004xyQz+OlEUaEe4pP8+/pn3za4E//OH89k6wVj+OlEUaEe45PzoD4koco3I/7JNFGhHuOT+C7ukr8oxrP/AutNOMclM/ieL89k6wZj9zfGuwyjRQP+QvtNOMckM/buH89k6wVj/kL7TTjHJDP/AutNOMclM/MJVFGhHuOT/wLrTTjHJDP+QvtNOMclM/jpRFGhHuST8AAAAAAAAAAI6URRoR7ik/V055h2QMAkA=\",\"dtype\":\"float64\",\"order\":\"little\",\"shape\":[100]}},\"selected\":{\"id\":\"3205\"},\"selection_policy\":{\"id\":\"3206\"}},\"id\":\"3067\",\"type\":\"ColumnDataSource\"},{\"attributes\":{\"axis\":{\"id\":\"3050\"},\"ticker\":null},\"id\":\"3053\",\"type\":\"Grid\"},{\"attributes\":{\"axis\":{\"id\":\"3054\"},\"dimension\":1,\"ticker\":null},\"id\":\"3057\",\"type\":\"Grid\"},{\"attributes\":{\"bottom\":{\"value\":0},\"fill_color\":{\"value\":\"#1f77b4\"},\"left\":{\"field\":\"left\"},\"line_color\":{\"value\":\"#555555\"},\"right\":{\"field\":\"right\"},\"top\":{\"field\":\"top\"}},\"id\":\"3068\",\"type\":\"Quad\"},{\"attributes\":{},\"id\":\"3042\",\"type\":\"DataRange1d\"},{\"attributes\":{},\"id\":\"3046\",\"type\":\"LinearScale\"},{\"attributes\":{\"data_source\":{\"id\":\"3067\"},\"glyph\":{\"id\":\"3068\"},\"hover_glyph\":null,\"muted_glyph\":null,\"nonselection_glyph\":{\"id\":\"3069\"},\"view\":{\"id\":\"3071\"}},\"id\":\"3070\",\"type\":\"GlyphRenderer\"},{\"attributes\":{\"formatter\":{\"id\":\"3199\"},\"major_label_policy\":{\"id\":\"3201\"},\"ticker\":{\"id\":\"3055\"}},\"id\":\"3054\",\"type\":\"LinearAxis\"},{\"attributes\":{},\"id\":\"3058\",\"type\":\"PanTool\"},{\"attributes\":{\"text\":\"DZ Terms Ratios Affinity Distribution\"},\"id\":\"3040\",\"type\":\"Title\"},{\"attributes\":{},\"id\":\"3055\",\"type\":\"BasicTicker\"},{\"attributes\":{},\"id\":\"3051\",\"type\":\"BasicTicker\"},{\"attributes\":{\"source\":{\"id\":\"3067\"}},\"id\":\"3071\",\"type\":\"CDSView\"},{\"attributes\":{\"formatter\":{\"id\":\"3202\"},\"major_label_policy\":{\"id\":\"3204\"},\"ticker\":{\"id\":\"3051\"}},\"id\":\"3050\",\"type\":\"LinearAxis\"}],\"root_ids\":[\"3039\"]},\"title\":\"Bokeh Application\",\"version\":\"2.3.3\"}};\n",
       "  var render_items = [{\"docid\":\"3278811a-3fee-4688-856d-17a20e42c95c\",\"root_ids\":[\"3039\"],\"roots\":{\"3039\":\"7940d576-8038-4676-8e77-831be3794323\"}}];\n",
       "  root.Bokeh.embed.embed_items_notebook(docs_json, render_items);\n",
       "\n",
       "  }\n",
       "  if (root.Bokeh !== undefined) {\n",
       "    embed_document(root);\n",
       "  } else {\n",
       "    var attempts = 0;\n",
       "    var timer = setInterval(function(root) {\n",
       "      if (root.Bokeh !== undefined) {\n",
       "        clearInterval(timer);\n",
       "        embed_document(root);\n",
       "      } else {\n",
       "        attempts++;\n",
       "        if (attempts > 100) {\n",
       "          clearInterval(timer);\n",
       "          console.log(\"Bokeh: ERROR: Unable to run BokehJS code because BokehJS library is missing\");\n",
       "        }\n",
       "      }\n",
       "    }, 10, root)\n",
       "  }\n",
       "})(window);"
      ],
      "application/vnd.bokehjs_exec.v0+json": ""
     },
     "metadata": {
      "application/vnd.bokehjs_exec.v0+json": {
       "id": "3039"
      }
     },
     "output_type": "display_data"
    },
    {
     "data": {
      "text/html": [
       "\n",
       "\n",
       "\n",
       "\n",
       "\n",
       "\n",
       "  <div class=\"bk-root\" id=\"d86a98dc-724e-480f-8523-b5376eddff0e\" data-root-id=\"3252\"></div>\n"
      ]
     },
     "metadata": {},
     "output_type": "display_data"
    },
    {
     "data": {
      "application/javascript": [
       "(function(root) {\n",
       "  function embed_document(root) {\n",
       "    \n",
       "  var docs_json = {\"ab50fcb4-f9c1-48ca-bb61-e342044df8bc\":{\"defs\":[],\"roots\":{\"references\":[{\"attributes\":{\"below\":[{\"id\":\"3263\"}],\"center\":[{\"id\":\"3266\"},{\"id\":\"3270\"}],\"left\":[{\"id\":\"3267\"}],\"renderers\":[{\"id\":\"3283\"}],\"title\":{\"id\":\"3253\"},\"toolbar\":{\"id\":\"3275\"},\"toolbar_location\":\"above\",\"x_range\":{\"id\":\"3255\"},\"x_scale\":{\"id\":\"3259\"},\"y_range\":{\"id\":\"3257\"},\"y_scale\":{\"id\":\"3261\"}},\"id\":\"3252\",\"subtype\":\"Figure\",\"type\":\"Plot\"},{\"attributes\":{},\"id\":\"3424\",\"type\":\"BasicTickFormatter\"},{\"attributes\":{},\"id\":\"3427\",\"type\":\"Selection\"},{\"attributes\":{},\"id\":\"3274\",\"type\":\"SaveTool\"},{\"attributes\":{},\"id\":\"3426\",\"type\":\"AllLabels\"},{\"attributes\":{},\"id\":\"3428\",\"type\":\"UnionRenderers\"},{\"attributes\":{\"bottom\":{\"value\":0},\"fill_color\":{\"value\":\"#1f77b4\"},\"left\":{\"field\":\"left\"},\"line_color\":{\"value\":\"#555555\"},\"right\":{\"field\":\"right\"},\"top\":{\"field\":\"top\"}},\"id\":\"3281\",\"type\":\"Quad\"},{\"attributes\":{},\"id\":\"3261\",\"type\":\"LinearScale\"},{\"attributes\":{\"axis\":{\"id\":\"3263\"},\"ticker\":null},\"id\":\"3266\",\"type\":\"Grid\"},{\"attributes\":{},\"id\":\"3273\",\"type\":\"ResetTool\"},{\"attributes\":{\"bottom\":{\"value\":0},\"fill_alpha\":{\"value\":0.1},\"fill_color\":{\"value\":\"#1f77b4\"},\"left\":{\"field\":\"left\"},\"line_alpha\":{\"value\":0.1},\"line_color\":{\"value\":\"#555555\"},\"right\":{\"field\":\"right\"},\"top\":{\"field\":\"top\"}},\"id\":\"3282\",\"type\":\"Quad\"},{\"attributes\":{\"axis\":{\"id\":\"3267\"},\"dimension\":1,\"ticker\":null},\"id\":\"3270\",\"type\":\"Grid\"},{\"attributes\":{\"formatter\":{\"id\":\"3421\"},\"major_label_policy\":{\"id\":\"3423\"},\"ticker\":{\"id\":\"3268\"}},\"id\":\"3267\",\"type\":\"LinearAxis\"},{\"attributes\":{},\"id\":\"3271\",\"type\":\"PanTool\"},{\"attributes\":{\"data\":{\"left\":{\"__ndarray__\":\"AAAAAAAA8D8pXI/C9SjwP1K4HoXrUfA/exSuR+F68D+kcD0K16PwP83MzMzMzPA/9ihcj8L18D8fhetRuB7xP0jhehSuR/E/cT0K16Nw8T+amZmZmZnxP8P1KFyPwvE/7FG4HoXr8T8UrkfhehTyPz4K16NwPfI/ZmZmZmZm8j+PwvUoXI/yP7gehetRuPI/4XoUrkfh8j8K16NwPQrzPzMzMzMzM/M/XI/C9Shc8z+F61G4HoXzP65H4XoUrvM/16NwPQrX8z8AAAAAAAD0Pylcj8L1KPQ/UrgehetR9D97FK5H4Xr0P6RwPQrXo/Q/zczMzMzM9D/2KFyPwvX0Px+F61G4HvU/SOF6FK5H9T9xPQrXo3D1P5qZmZmZmfU/wvUoXI/C9T/sUbgehev1PxSuR+F6FPY/PgrXo3A99j9mZmZmZmb2P5DC9Shcj/Y/uB6F61G49j/hehSuR+H2PwrXo3A9Cvc/MzMzMzMz9z9cj8L1KFz3P4XrUbgehfc/rkfhehSu9z/Xo3A9Ctf3PwAAAAAAAPg/KVyPwvUo+D9SuB6F61H4P3sUrkfhevg/pHA9Ctej+D/NzMzMzMz4P/YoXI/C9fg/H4XrUbge+T9I4XoUrkf5P3A9CtejcPk/mpmZmZmZ+T/C9Shcj8L5P+xRuB6F6/k/FK5H4XoU+j8+CtejcD36P2ZmZmZmZvo/kML1KFyP+j+4HoXrUbj6P+J6FK5H4fo/CtejcD0K+z80MzMzMzP7P1yPwvUoXPs/hetRuB6F+z+uR+F6FK77P9ejcD0K1/s/AAAAAAAA/D8pXI/C9Sj8P1K4HoXrUfw/exSuR+F6/D+kcD0K16P8P83MzMzMzPw/9ihcj8L1/D8fhetRuB79P0jhehSuR/0/cD0K16Nw/T+amZmZmZn9P8L1KFyPwv0/7FG4HoXr/T8UrkfhehT+Pz4K16NwPf4/ZmZmZmZm/j+QwvUoXI/+P7gehetRuP4/4noUrkfh/j8K16NwPQr/PzQzMzMzM/8/XI/C9Shc/z+F61G4HoX/P65H4XoUrv8/16NwPQrX/z8=\",\"dtype\":\"float64\",\"order\":\"little\",\"shape\":[100]},\"right\":{\"__ndarray__\":\"KVyPwvUo8D9SuB6F61HwP3sUrkfhevA/pHA9Ctej8D/NzMzMzMzwP/YoXI/C9fA/H4XrUbge8T9I4XoUrkfxP3E9CtejcPE/mpmZmZmZ8T/D9Shcj8LxP+xRuB6F6/E/FK5H4XoU8j8+CtejcD3yP2ZmZmZmZvI/j8L1KFyP8j+4HoXrUbjyP+F6FK5H4fI/CtejcD0K8z8zMzMzMzPzP1yPwvUoXPM/hetRuB6F8z+uR+F6FK7zP9ejcD0K1/M/AAAAAAAA9D8pXI/C9Sj0P1K4HoXrUfQ/exSuR+F69D+kcD0K16P0P83MzMzMzPQ/9ihcj8L19D8fhetRuB71P0jhehSuR/U/cT0K16Nw9T+amZmZmZn1P8L1KFyPwvU/7FG4HoXr9T8UrkfhehT2Pz4K16NwPfY/ZmZmZmZm9j+QwvUoXI/2P7gehetRuPY/4XoUrkfh9j8K16NwPQr3PzMzMzMzM/c/XI/C9Shc9z+F61G4HoX3P65H4XoUrvc/16NwPQrX9z8AAAAAAAD4Pylcj8L1KPg/UrgehetR+D97FK5H4Xr4P6RwPQrXo/g/zczMzMzM+D/2KFyPwvX4Px+F61G4Hvk/SOF6FK5H+T9wPQrXo3D5P5qZmZmZmfk/wvUoXI/C+T/sUbgehev5PxSuR+F6FPo/PgrXo3A9+j9mZmZmZmb6P5DC9Shcj/o/uB6F61G4+j/iehSuR+H6PwrXo3A9Cvs/NDMzMzMz+z9cj8L1KFz7P4XrUbgehfs/rkfhehSu+z/Xo3A9Ctf7PwAAAAAAAPw/KVyPwvUo/D9SuB6F61H8P3sUrkfhevw/pHA9Ctej/D/NzMzMzMz8P/YoXI/C9fw/H4XrUbge/T9I4XoUrkf9P3A9CtejcP0/mpmZmZmZ/T/C9Shcj8L9P+xRuB6F6/0/FK5H4XoU/j8+CtejcD3+P2ZmZmZmZv4/kML1KFyP/j+4HoXrUbj+P+J6FK5H4f4/CtejcD0K/z80MzMzMzP/P1yPwvUoXP8/hetRuB6F/z+uR+F6FK7/P9ejcD0K1/8/AAAAAAAAAEA=\",\"dtype\":\"float64\",\"order\":\"little\",\"shape\":[100]},\"top\":{\"__ndarray__\":\"oFmUj4tGV0ChcoTX+izlP1QgscuI6uQ/xwjaaJnx3j+7fbJozn/YP0mYhVr8n9Q/tyDOFgIvzD/cFomWiGzLP6AMJ8uVZcM//3N6CmZ/wT907HgGZDvCP3TseAZkO8I///zP6HzQwj8k3D5vxOqYP+ibjgtMicQ/O37c1ViGmT9FOk0uG0LGPzLBF6OBvXo/RTuhCDBPmD+OlEUaEe5pP516qbd+lsg/oA7Pf79/dz9hcu+gtamUP1i1Km7e4HU/jpRFGhHuOT+kpkSxU53OP2ovtNOMclM/aKAyT7TKbj+ziFjlbRGVP46URRoR7kk/1u3pK/KMez9qL7TTjHJDP46URRoR7ik/OOe6ftl11D8AAAAAAAAAAOQvtNOMckM/c3xrsMo0UD+J4vz2TrBmP3N8a7DKNFA/AAAAAAAAAADgce+gtamUPzCVRRoR7jk/DlyGXP1BdD8AAAAAAAAAANh8a7DKNFA/ai+004xyQz8AAAAAAAAAAI6URRoR7jk/ai+004xyQz8AAAAAAAAAAD8V/izYlt4/AAAAAAAAAACOlEUaEe4pPwAAAAAAAAAAjpRFGhHuKT+OlEUaEe5JPwAAAAAAAAAA2HxrsMo0YD8wlUUaEe4pPwAAAAAAAAAAN4lY5W0RdT8AAAAAAAAAADCVRRoR7jk/AAAAAAAAAAAwlUUaEe4pPwAAAAAAAAAAPn1rsMo0oD8AAAAAAAAAAOQvtNOMckM/AAAAAAAAAAAAAAAAAAAAAB9Hjj3TK10/jpRFGhHuOT8AAAAAAAAAAI6URRoR7jk/2HxrsMo0cD8AAAAAAAAAAAAAAAAAAAAAAAAAAAAAAAAAAAAAAAAAAB9Hjj3TK10/jpRFGhHuKT8AAAAAAAAAAOQvtNOMckM/AAAAAAAAAAAwlUUaEe5JP+yTRRoR7ik/Pn1rsMo0UD/sk0UaEe45PwAAAAAAAAAA7JNFGhHuOT8wlUUaEe45P/AutNOMckM/MJVFGhHuKT/sk0UaEe4pPwAAAAAAAAAAjpRFGhHuKT8AAAAAAAAAAAAAAAAAAAAA/V4+4aEI9z8=\",\"dtype\":\"float64\",\"order\":\"little\",\"shape\":[100]}},\"selected\":{\"id\":\"3427\"},\"selection_policy\":{\"id\":\"3428\"}},\"id\":\"3280\",\"type\":\"ColumnDataSource\"},{\"attributes\":{\"data_source\":{\"id\":\"3280\"},\"glyph\":{\"id\":\"3281\"},\"hover_glyph\":null,\"muted_glyph\":null,\"nonselection_glyph\":{\"id\":\"3282\"},\"view\":{\"id\":\"3284\"}},\"id\":\"3283\",\"type\":\"GlyphRenderer\"},{\"attributes\":{\"formatter\":{\"id\":\"3424\"},\"major_label_policy\":{\"id\":\"3426\"},\"ticker\":{\"id\":\"3264\"}},\"id\":\"3263\",\"type\":\"LinearAxis\"},{\"attributes\":{},\"id\":\"3268\",\"type\":\"BasicTicker\"},{\"attributes\":{},\"id\":\"3272\",\"type\":\"WheelZoomTool\"},{\"attributes\":{},\"id\":\"3255\",\"type\":\"DataRange1d\"},{\"attributes\":{},\"id\":\"3264\",\"type\":\"BasicTicker\"},{\"attributes\":{\"source\":{\"id\":\"3280\"}},\"id\":\"3284\",\"type\":\"CDSView\"},{\"attributes\":{\"active_multi\":null,\"tools\":[{\"id\":\"3271\"},{\"id\":\"3272\"},{\"id\":\"3273\"},{\"id\":\"3274\"}]},\"id\":\"3275\",\"type\":\"Toolbar\"},{\"attributes\":{},\"id\":\"3421\",\"type\":\"BasicTickFormatter\"},{\"attributes\":{\"text\":\"YE Terms Ratios Affinity Distribution\"},\"id\":\"3253\",\"type\":\"Title\"},{\"attributes\":{},\"id\":\"3259\",\"type\":\"LinearScale\"},{\"attributes\":{},\"id\":\"3257\",\"type\":\"DataRange1d\"},{\"attributes\":{},\"id\":\"3423\",\"type\":\"AllLabels\"}],\"root_ids\":[\"3252\"]},\"title\":\"Bokeh Application\",\"version\":\"2.3.3\"}};\n",
       "  var render_items = [{\"docid\":\"ab50fcb4-f9c1-48ca-bb61-e342044df8bc\",\"root_ids\":[\"3252\"],\"roots\":{\"3252\":\"d86a98dc-724e-480f-8523-b5376eddff0e\"}}];\n",
       "  root.Bokeh.embed.embed_items_notebook(docs_json, render_items);\n",
       "\n",
       "  }\n",
       "  if (root.Bokeh !== undefined) {\n",
       "    embed_document(root);\n",
       "  } else {\n",
       "    var attempts = 0;\n",
       "    var timer = setInterval(function(root) {\n",
       "      if (root.Bokeh !== undefined) {\n",
       "        clearInterval(timer);\n",
       "        embed_document(root);\n",
       "      } else {\n",
       "        attempts++;\n",
       "        if (attempts > 100) {\n",
       "          clearInterval(timer);\n",
       "          console.log(\"Bokeh: ERROR: Unable to run BokehJS code because BokehJS library is missing\");\n",
       "        }\n",
       "      }\n",
       "    }, 10, root)\n",
       "  }\n",
       "})(window);"
      ],
      "application/vnd.bokehjs_exec.v0+json": ""
     },
     "metadata": {
      "application/vnd.bokehjs_exec.v0+json": {
       "id": "3252"
      }
     },
     "output_type": "display_data"
    },
    {
     "data": {
      "text/html": [
       "\n",
       "\n",
       "\n",
       "\n",
       "\n",
       "\n",
       "  <div class=\"bk-root\" id=\"39c8707f-22d6-43de-b49b-30421ffe3417\" data-root-id=\"3474\"></div>\n"
      ]
     },
     "metadata": {},
     "output_type": "display_data"
    },
    {
     "data": {
      "application/javascript": [
       "(function(root) {\n",
       "  function embed_document(root) {\n",
       "    \n",
       "  var docs_json = {\"7968a554-b5fb-4e48-bdd8-941fd89183f8\":{\"defs\":[],\"roots\":{\"references\":[{\"attributes\":{\"below\":[{\"id\":\"3485\"}],\"center\":[{\"id\":\"3488\"},{\"id\":\"3492\"}],\"left\":[{\"id\":\"3489\"}],\"renderers\":[{\"id\":\"3505\"}],\"title\":{\"id\":\"3475\"},\"toolbar\":{\"id\":\"3497\"},\"toolbar_location\":\"above\",\"x_range\":{\"id\":\"3477\"},\"x_scale\":{\"id\":\"3481\"},\"y_range\":{\"id\":\"3479\"},\"y_scale\":{\"id\":\"3483\"}},\"id\":\"3474\",\"subtype\":\"Figure\",\"type\":\"Plot\"},{\"attributes\":{},\"id\":\"3659\",\"type\":\"UnionRenderers\"},{\"attributes\":{\"formatter\":{\"id\":\"3652\"},\"major_label_policy\":{\"id\":\"3654\"},\"ticker\":{\"id\":\"3490\"}},\"id\":\"3489\",\"type\":\"LinearAxis\"},{\"attributes\":{\"formatter\":{\"id\":\"3655\"},\"major_label_policy\":{\"id\":\"3657\"},\"ticker\":{\"id\":\"3486\"}},\"id\":\"3485\",\"type\":\"LinearAxis\"},{\"attributes\":{\"axis\":{\"id\":\"3489\"},\"dimension\":1,\"ticker\":null},\"id\":\"3492\",\"type\":\"Grid\"},{\"attributes\":{},\"id\":\"3493\",\"type\":\"PanTool\"},{\"attributes\":{},\"id\":\"3490\",\"type\":\"BasicTicker\"},{\"attributes\":{},\"id\":\"3494\",\"type\":\"WheelZoomTool\"},{\"attributes\":{\"data\":{\"left\":{\"__ndarray__\":\"AAAAAAAA8D8pXI/C9SjwP1K4HoXrUfA/exSuR+F68D+kcD0K16PwP83MzMzMzPA/9ihcj8L18D8fhetRuB7xP0jhehSuR/E/cT0K16Nw8T+amZmZmZnxP8P1KFyPwvE/7FG4HoXr8T8UrkfhehTyPz4K16NwPfI/ZmZmZmZm8j+PwvUoXI/yP7gehetRuPI/4XoUrkfh8j8K16NwPQrzPzMzMzMzM/M/XI/C9Shc8z+F61G4HoXzP65H4XoUrvM/16NwPQrX8z8AAAAAAAD0Pylcj8L1KPQ/UrgehetR9D97FK5H4Xr0P6RwPQrXo/Q/zczMzMzM9D/2KFyPwvX0Px+F61G4HvU/SOF6FK5H9T9xPQrXo3D1P5qZmZmZmfU/wvUoXI/C9T/sUbgehev1PxSuR+F6FPY/PgrXo3A99j9mZmZmZmb2P5DC9Shcj/Y/uB6F61G49j/hehSuR+H2PwrXo3A9Cvc/MzMzMzMz9z9cj8L1KFz3P4XrUbgehfc/rkfhehSu9z/Xo3A9Ctf3PwAAAAAAAPg/KVyPwvUo+D9SuB6F61H4P3sUrkfhevg/pHA9Ctej+D/NzMzMzMz4P/YoXI/C9fg/H4XrUbge+T9I4XoUrkf5P3A9CtejcPk/mpmZmZmZ+T/C9Shcj8L5P+xRuB6F6/k/FK5H4XoU+j8+CtejcD36P2ZmZmZmZvo/kML1KFyP+j+4HoXrUbj6P+J6FK5H4fo/CtejcD0K+z80MzMzMzP7P1yPwvUoXPs/hetRuB6F+z+uR+F6FK77P9ejcD0K1/s/AAAAAAAA/D8pXI/C9Sj8P1K4HoXrUfw/exSuR+F6/D+kcD0K16P8P83MzMzMzPw/9ihcj8L1/D8fhetRuB79P0jhehSuR/0/cD0K16Nw/T+amZmZmZn9P8L1KFyPwv0/7FG4HoXr/T8UrkfhehT+Pz4K16NwPf4/ZmZmZmZm/j+QwvUoXI/+P7gehetRuP4/4noUrkfh/j8K16NwPQr/PzQzMzMzM/8/XI/C9Shc/z+F61G4HoX/P65H4XoUrv8/16NwPQrX/z8=\",\"dtype\":\"float64\",\"order\":\"little\",\"shape\":[100]},\"right\":{\"__ndarray__\":\"KVyPwvUo8D9SuB6F61HwP3sUrkfhevA/pHA9Ctej8D/NzMzMzMzwP/YoXI/C9fA/H4XrUbge8T9I4XoUrkfxP3E9CtejcPE/mpmZmZmZ8T/D9Shcj8LxP+xRuB6F6/E/FK5H4XoU8j8+CtejcD3yP2ZmZmZmZvI/j8L1KFyP8j+4HoXrUbjyP+F6FK5H4fI/CtejcD0K8z8zMzMzMzPzP1yPwvUoXPM/hetRuB6F8z+uR+F6FK7zP9ejcD0K1/M/AAAAAAAA9D8pXI/C9Sj0P1K4HoXrUfQ/exSuR+F69D+kcD0K16P0P83MzMzMzPQ/9ihcj8L19D8fhetRuB71P0jhehSuR/U/cT0K16Nw9T+amZmZmZn1P8L1KFyPwvU/7FG4HoXr9T8UrkfhehT2Pz4K16NwPfY/ZmZmZmZm9j+QwvUoXI/2P7gehetRuPY/4XoUrkfh9j8K16NwPQr3PzMzMzMzM/c/XI/C9Shc9z+F61G4HoX3P65H4XoUrvc/16NwPQrX9z8AAAAAAAD4Pylcj8L1KPg/UrgehetR+D97FK5H4Xr4P6RwPQrXo/g/zczMzMzM+D/2KFyPwvX4Px+F61G4Hvk/SOF6FK5H+T9wPQrXo3D5P5qZmZmZmfk/wvUoXI/C+T/sUbgehev5PxSuR+F6FPo/PgrXo3A9+j9mZmZmZmb6P5DC9Shcj/o/uB6F61G4+j/iehSuR+H6PwrXo3A9Cvs/NDMzMzMz+z9cj8L1KFz7P4XrUbgehfs/rkfhehSu+z/Xo3A9Ctf7PwAAAAAAAPw/KVyPwvUo/D9SuB6F61H8P3sUrkfhevw/pHA9Ctej/D/NzMzMzMz8P/YoXI/C9fw/H4XrUbge/T9I4XoUrkf9P3A9CtejcP0/mpmZmZmZ/T/C9Shcj8L9P+xRuB6F6/0/FK5H4XoU/j8+CtejcD3+P2ZmZmZmZv4/kML1KFyP/j+4HoXrUbj+P+J6FK5H4f4/CtejcD0K/z80MzMzMzP/P1yPwvUoXP8/hetRuB6F/z+uR+F6FK7/P9ejcD0K1/8/AAAAAAAAAEA=\",\"dtype\":\"float64\",\"order\":\"little\",\"shape\":[100]},\"top\":{\"__ndarray__\":\"Wt6Ge6JKV0BIMihOl9jiP4wr7H5t/+E/mRxxi5042j8vKvZLAq3VP74PMHzlTtM/YXSXVd/DyD+qzOeMq1XIP4A+t9uQ+sE/RDdRn9wawD8PWzKC6DTCPyj/rixCs8E/yh9d8XPdwj8SqT05OwShP+lYUz4jUsM/2HxrsMo0oD/DbxBd8MbFP5dRCk3otog/4KquXslVmj9FO6EIME94PyyYeDjr3co/2HxrsMo0gD/JmQOim7OXP8+/pn3za4E//OH89k6wZj9I0sJfr1/NP2igMk+0ym4/exq8tGJcfD/yJDjEd+eXP9bt6SvyjGs/MsEXo4G9ej/W7ekr8oxrP46URRoR7lk/CDPn8WZi1D+OlEUaEe5ZP5HWD8Kr02E/rTqhCDBPaD9/dGDGQ/t9P6ifMk+0ym4/5C+004xyQz/3tZuTbDKfP+QvtNOMclM//OH89k6wdj+OlEUaEe45P2ovtNOMclM/2HxrsMo0YD/YfGuwyjRgP/zh/PZOsFY/ai+004xyQz+OlEUaEe4pP1fvZ3ORoN4/ai+004xyQz+OlEUaEe5JP46URRoR7kk//OH89k6wVj+OlEUaEe5pP46URRoR7jk/H0eOPdMrbT/kL7TTjHJDP+yTRRoR7ik/5ex4BmQ7gj/sk0UaEe45P4ni/PZOsFY/buH89k6wVj/kL7TTjHJDP+yTRRoR7ik/BQoR+DS6qT8AAAAAAAAAADCVRRoR7jk/7JNFGhHuWT8AAAAAAAAAANh8a7DKNGA/jpRFGhHuKT+OlEUaEe45P46URRoR7ik/oA7Pf79/hz+OlEUaEe45P9h8a7DKNFA/ai+004xyQz8AAAAAAAAAAFi1Km7e4HU/2HxrsMo0UD8AAAAAAAAAAIni/PZOsGY/8C6004xyQz8wlUUaEe5ZP/AutNOMckM/MJVFGhHuST/sk0UaEe45P+QvtNOMckM/c3xrsMo0UD8wlUUaEe45P+yTRRoR7kk/MJVFGhHuKT9zfGuwyjRQPzCVRRoR7jk/AAAAAAAAAACOlEUaEe4pP46URRoR7ik//xLBQWn5+T8=\",\"dtype\":\"float64\",\"order\":\"little\",\"shape\":[100]}},\"selected\":{\"id\":\"3658\"},\"selection_policy\":{\"id\":\"3659\"}},\"id\":\"3502\",\"type\":\"ColumnDataSource\"},{\"attributes\":{},\"id\":\"3486\",\"type\":\"BasicTicker\"},{\"attributes\":{\"bottom\":{\"value\":0},\"fill_alpha\":{\"value\":0.1},\"fill_color\":{\"value\":\"#1f77b4\"},\"left\":{\"field\":\"left\"},\"line_alpha\":{\"value\":0.1},\"line_color\":{\"value\":\"#555555\"},\"right\":{\"field\":\"right\"},\"top\":{\"field\":\"top\"}},\"id\":\"3504\",\"type\":\"Quad\"},{\"attributes\":{},\"id\":\"3495\",\"type\":\"ResetTool\"},{\"attributes\":{\"source\":{\"id\":\"3502\"}},\"id\":\"3506\",\"type\":\"CDSView\"},{\"attributes\":{},\"id\":\"3479\",\"type\":\"DataRange1d\"},{\"attributes\":{\"axis\":{\"id\":\"3485\"},\"ticker\":null},\"id\":\"3488\",\"type\":\"Grid\"},{\"attributes\":{},\"id\":\"3483\",\"type\":\"LinearScale\"},{\"attributes\":{},\"id\":\"3657\",\"type\":\"AllLabels\"},{\"attributes\":{},\"id\":\"3496\",\"type\":\"SaveTool\"},{\"attributes\":{},\"id\":\"3654\",\"type\":\"AllLabels\"},{\"attributes\":{\"bottom\":{\"value\":0},\"fill_color\":{\"value\":\"#1f77b4\"},\"left\":{\"field\":\"left\"},\"line_color\":{\"value\":\"#555555\"},\"right\":{\"field\":\"right\"},\"top\":{\"field\":\"top\"}},\"id\":\"3503\",\"type\":\"Quad\"},{\"attributes\":{\"data_source\":{\"id\":\"3502\"},\"glyph\":{\"id\":\"3503\"},\"hover_glyph\":null,\"muted_glyph\":null,\"nonselection_glyph\":{\"id\":\"3504\"},\"view\":{\"id\":\"3506\"}},\"id\":\"3505\",\"type\":\"GlyphRenderer\"},{\"attributes\":{},\"id\":\"3477\",\"type\":\"DataRange1d\"},{\"attributes\":{},\"id\":\"3652\",\"type\":\"BasicTickFormatter\"},{\"attributes\":{},\"id\":\"3655\",\"type\":\"BasicTickFormatter\"},{\"attributes\":{\"text\":\"TN Terms Ratios Affinity Distribution\"},\"id\":\"3475\",\"type\":\"Title\"},{\"attributes\":{},\"id\":\"3658\",\"type\":\"Selection\"},{\"attributes\":{\"active_multi\":null,\"tools\":[{\"id\":\"3493\"},{\"id\":\"3494\"},{\"id\":\"3495\"},{\"id\":\"3496\"}]},\"id\":\"3497\",\"type\":\"Toolbar\"},{\"attributes\":{},\"id\":\"3481\",\"type\":\"LinearScale\"}],\"root_ids\":[\"3474\"]},\"title\":\"Bokeh Application\",\"version\":\"2.3.3\"}};\n",
       "  var render_items = [{\"docid\":\"7968a554-b5fb-4e48-bdd8-941fd89183f8\",\"root_ids\":[\"3474\"],\"roots\":{\"3474\":\"39c8707f-22d6-43de-b49b-30421ffe3417\"}}];\n",
       "  root.Bokeh.embed.embed_items_notebook(docs_json, render_items);\n",
       "\n",
       "  }\n",
       "  if (root.Bokeh !== undefined) {\n",
       "    embed_document(root);\n",
       "  } else {\n",
       "    var attempts = 0;\n",
       "    var timer = setInterval(function(root) {\n",
       "      if (root.Bokeh !== undefined) {\n",
       "        clearInterval(timer);\n",
       "        embed_document(root);\n",
       "      } else {\n",
       "        attempts++;\n",
       "        if (attempts > 100) {\n",
       "          clearInterval(timer);\n",
       "          console.log(\"Bokeh: ERROR: Unable to run BokehJS code because BokehJS library is missing\");\n",
       "        }\n",
       "      }\n",
       "    }, 10, root)\n",
       "  }\n",
       "})(window);"
      ],
      "application/vnd.bokehjs_exec.v0+json": ""
     },
     "metadata": {
      "application/vnd.bokehjs_exec.v0+json": {
       "id": "3474"
      }
     },
     "output_type": "display_data"
    },
    {
     "data": {
      "text/html": [
       "\n",
       "\n",
       "\n",
       "\n",
       "\n",
       "\n",
       "  <div class=\"bk-root\" id=\"7f07f683-cd8b-42a5-a7fc-7ee777e3499d\" data-root-id=\"3705\"></div>\n"
      ]
     },
     "metadata": {},
     "output_type": "display_data"
    },
    {
     "data": {
      "application/javascript": [
       "(function(root) {\n",
       "  function embed_document(root) {\n",
       "    \n",
       "  var docs_json = {\"3f92334f-0125-4516-ab0b-afed00a35d00\":{\"defs\":[],\"roots\":{\"references\":[{\"attributes\":{\"below\":[{\"id\":\"3716\"}],\"center\":[{\"id\":\"3719\"},{\"id\":\"3723\"}],\"left\":[{\"id\":\"3720\"}],\"renderers\":[{\"id\":\"3736\"}],\"title\":{\"id\":\"3706\"},\"toolbar\":{\"id\":\"3728\"},\"toolbar_location\":\"above\",\"x_range\":{\"id\":\"3708\"},\"x_scale\":{\"id\":\"3712\"},\"y_range\":{\"id\":\"3710\"},\"y_scale\":{\"id\":\"3714\"}},\"id\":\"3705\",\"subtype\":\"Figure\",\"type\":\"Plot\"},{\"attributes\":{\"data\":{\"left\":{\"__ndarray__\":\"AAAAAAAA8D8pXI/C9SjwP1K4HoXrUfA/exSuR+F68D+kcD0K16PwP83MzMzMzPA/9ihcj8L18D8fhetRuB7xP0jhehSuR/E/cT0K16Nw8T+amZmZmZnxP8P1KFyPwvE/7FG4HoXr8T8UrkfhehTyPz4K16NwPfI/ZmZmZmZm8j+PwvUoXI/yP7gehetRuPI/4XoUrkfh8j8K16NwPQrzPzMzMzMzM/M/XI/C9Shc8z+F61G4HoXzP65H4XoUrvM/16NwPQrX8z8AAAAAAAD0Pylcj8L1KPQ/UrgehetR9D97FK5H4Xr0P6RwPQrXo/Q/zczMzMzM9D/2KFyPwvX0Px+F61G4HvU/SOF6FK5H9T9xPQrXo3D1P5qZmZmZmfU/wvUoXI/C9T/sUbgehev1PxSuR+F6FPY/PgrXo3A99j9mZmZmZmb2P5DC9Shcj/Y/uB6F61G49j/hehSuR+H2PwrXo3A9Cvc/MzMzMzMz9z9cj8L1KFz3P4XrUbgehfc/rkfhehSu9z/Xo3A9Ctf3PwAAAAAAAPg/KVyPwvUo+D9SuB6F61H4P3sUrkfhevg/pHA9Ctej+D/NzMzMzMz4P/YoXI/C9fg/H4XrUbge+T9I4XoUrkf5P3A9CtejcPk/mpmZmZmZ+T/C9Shcj8L5P+xRuB6F6/k/FK5H4XoU+j8+CtejcD36P2ZmZmZmZvo/kML1KFyP+j+4HoXrUbj6P+J6FK5H4fo/CtejcD0K+z80MzMzMzP7P1yPwvUoXPs/hetRuB6F+z+uR+F6FK77P9ejcD0K1/s/AAAAAAAA/D8pXI/C9Sj8P1K4HoXrUfw/exSuR+F6/D+kcD0K16P8P83MzMzMzPw/9ihcj8L1/D8fhetRuB79P0jhehSuR/0/cD0K16Nw/T+amZmZmZn9P8L1KFyPwv0/7FG4HoXr/T8UrkfhehT+Pz4K16NwPf4/ZmZmZmZm/j+QwvUoXI/+P7gehetRuP4/4noUrkfh/j8K16NwPQr/PzQzMzMzM/8/XI/C9Shc/z+F61G4HoX/P65H4XoUrv8/16NwPQrX/z8=\",\"dtype\":\"float64\",\"order\":\"little\",\"shape\":[100]},\"right\":{\"__ndarray__\":\"KVyPwvUo8D9SuB6F61HwP3sUrkfhevA/pHA9Ctej8D/NzMzMzMzwP/YoXI/C9fA/H4XrUbge8T9I4XoUrkfxP3E9CtejcPE/mpmZmZmZ8T/D9Shcj8LxP+xRuB6F6/E/FK5H4XoU8j8+CtejcD3yP2ZmZmZmZvI/j8L1KFyP8j+4HoXrUbjyP+F6FK5H4fI/CtejcD0K8z8zMzMzMzPzP1yPwvUoXPM/hetRuB6F8z+uR+F6FK7zP9ejcD0K1/M/AAAAAAAA9D8pXI/C9Sj0P1K4HoXrUfQ/exSuR+F69D+kcD0K16P0P83MzMzMzPQ/9ihcj8L19D8fhetRuB71P0jhehSuR/U/cT0K16Nw9T+amZmZmZn1P8L1KFyPwvU/7FG4HoXr9T8UrkfhehT2Pz4K16NwPfY/ZmZmZmZm9j+QwvUoXI/2P7gehetRuPY/4XoUrkfh9j8K16NwPQr3PzMzMzMzM/c/XI/C9Shc9z+F61G4HoX3P65H4XoUrvc/16NwPQrX9z8AAAAAAAD4Pylcj8L1KPg/UrgehetR+D97FK5H4Xr4P6RwPQrXo/g/zczMzMzM+D/2KFyPwvX4Px+F61G4Hvk/SOF6FK5H+T9wPQrXo3D5P5qZmZmZmfk/wvUoXI/C+T/sUbgehev5PxSuR+F6FPo/PgrXo3A9+j9mZmZmZmb6P5DC9Shcj/o/uB6F61G4+j/iehSuR+H6PwrXo3A9Cvs/NDMzMzMz+z9cj8L1KFz7P4XrUbgehfs/rkfhehSu+z/Xo3A9Ctf7PwAAAAAAAPw/KVyPwvUo/D9SuB6F61H8P3sUrkfhevw/pHA9Ctej/D/NzMzMzMz8P/YoXI/C9fw/H4XrUbge/T9I4XoUrkf9P3A9CtejcP0/mpmZmZmZ/T/C9Shcj8L9P+xRuB6F6/0/FK5H4XoU/j8+CtejcD3+P2ZmZmZmZv4/kML1KFyP/j+4HoXrUbj+P+J6FK5H4f4/CtejcD0K/z80MzMzMzP/P1yPwvUoXP8/hetRuB6F/z+uR+F6FK7/P9ejcD0K1/8/AAAAAAAAAEA=\",\"dtype\":\"float64\",\"order\":\"little\",\"shape\":[100]},\"top\":{\"__ndarray__\":\"kqdfSVA2V0C9qdJvgIfhP9GQBdolPN8/JzdEfctY1j9fp4hiACjTP2z4cl0Y2tA/gUBfkLoUxj87fDQhL2zFP1xO9HmHC78/bsh93zWdvD9+rzVXuFK9P3eAns6kJME/Ev21pFpMvz8w/pToHy+eP7f1aazI8MA/ForJCvxinj9d3XX+X7PDP0U7oQgwT4g/yZkDopuzlz/Pv6Z982uBP5EnFwg9ysY/dOx4BmQ7gj9O+GU7BxiXP9h8a7DKNIA/s4hY5W0RZT//d8pzubPJPyLWD8Kr03E/K5PU9IKcgD8S86ezfFKZP0U7oQgwT2g/ai+004xygz+ziFjlbRFlP2ovtNOMclM/VulvVRRS0j+OlEUaEe5JP4ni/PZOsGY/7JNFGhHuaT/ZwRejgb16P27h/PZOsFY/MJVFGhHuST+n7ldKKR6hP+QvtNOMcmM/ItYPwqvTgT/YfGuwyjRgP2igMk+0ym4//OH89k6wZj/YfGuwyjRgP46URRoR7kk/jpRFGhHuST+OlEUaEe45P6c6anmUht0/AAAAAAAAAAD84fz2TrBWP/zh/PZOsFY/jpRFGhHuWT8i1g/Cq9NhP2ovtNOMckM/1u3pK/KMaz8+fWuwyjRQP+yTRRoR7ik/ieL89k6whj/sk0UaEe5ZPz59a7DKNHA/buH89k6wVj8+fWuwyjRQP/AutNOMckM/vuZMYKLkrj/sk0UaEe5JP+QvtNOMckM/c3xrsMo0cD+J4vz2TrBWPyLWD8Kr02E/2HxrsMo0UD+OlEUaEe5JP46URRoR7ik/xHNgxkP7jT+OlEUaEe5JP46URRoR7lk/2HxrsMo0UD+OlEUaEe4pP9bt6SvyjHs/ai+004xyUz+OlEUaEe45P9ZHjj3TK20/7JNFGhHuST+C7ukr8oxrP+yTRRoR7kk/N4lY5W0RZT/wLrTTjHJjP+QvtNOMckM/7JNFGhHuWT8+fWuwyjRQP+yTRRoR7ik/Pn1rsMo0UD9pRo490ytdPzCVRRoR7kk/ai+004xyQz+OlEUaEe4pP2ovtNOMckM/UlVKjdNoA0A=\",\"dtype\":\"float64\",\"order\":\"little\",\"shape\":[100]}},\"selected\":{\"id\":\"3898\"},\"selection_policy\":{\"id\":\"3899\"}},\"id\":\"3733\",\"type\":\"ColumnDataSource\"},{\"attributes\":{\"text\":\"MA Terms Ratios Affinity Distribution\"},\"id\":\"3706\",\"type\":\"Title\"},{\"attributes\":{},\"id\":\"3725\",\"type\":\"WheelZoomTool\"},{\"attributes\":{},\"id\":\"3726\",\"type\":\"ResetTool\"},{\"attributes\":{\"formatter\":{\"id\":\"3892\"},\"major_label_policy\":{\"id\":\"3894\"},\"ticker\":{\"id\":\"3721\"}},\"id\":\"3720\",\"type\":\"LinearAxis\"},{\"attributes\":{\"active_multi\":null,\"tools\":[{\"id\":\"3724\"},{\"id\":\"3725\"},{\"id\":\"3726\"},{\"id\":\"3727\"}]},\"id\":\"3728\",\"type\":\"Toolbar\"},{\"attributes\":{},\"id\":\"3899\",\"type\":\"UnionRenderers\"},{\"attributes\":{},\"id\":\"3708\",\"type\":\"DataRange1d\"},{\"attributes\":{},\"id\":\"3727\",\"type\":\"SaveTool\"},{\"attributes\":{},\"id\":\"3710\",\"type\":\"DataRange1d\"},{\"attributes\":{},\"id\":\"3724\",\"type\":\"PanTool\"},{\"attributes\":{\"bottom\":{\"value\":0},\"fill_alpha\":{\"value\":0.1},\"fill_color\":{\"value\":\"#1f77b4\"},\"left\":{\"field\":\"left\"},\"line_alpha\":{\"value\":0.1},\"line_color\":{\"value\":\"#555555\"},\"right\":{\"field\":\"right\"},\"top\":{\"field\":\"top\"}},\"id\":\"3735\",\"type\":\"Quad\"},{\"attributes\":{\"axis\":{\"id\":\"3720\"},\"dimension\":1,\"ticker\":null},\"id\":\"3723\",\"type\":\"Grid\"},{\"attributes\":{\"source\":{\"id\":\"3733\"}},\"id\":\"3737\",\"type\":\"CDSView\"},{\"attributes\":{\"axis\":{\"id\":\"3716\"},\"ticker\":null},\"id\":\"3719\",\"type\":\"Grid\"},{\"attributes\":{\"data_source\":{\"id\":\"3733\"},\"glyph\":{\"id\":\"3734\"},\"hover_glyph\":null,\"muted_glyph\":null,\"nonselection_glyph\":{\"id\":\"3735\"},\"view\":{\"id\":\"3737\"}},\"id\":\"3736\",\"type\":\"GlyphRenderer\"},{\"attributes\":{},\"id\":\"3892\",\"type\":\"BasicTickFormatter\"},{\"attributes\":{},\"id\":\"3894\",\"type\":\"AllLabels\"},{\"attributes\":{},\"id\":\"3717\",\"type\":\"BasicTicker\"},{\"attributes\":{},\"id\":\"3721\",\"type\":\"BasicTicker\"},{\"attributes\":{},\"id\":\"3895\",\"type\":\"BasicTickFormatter\"},{\"attributes\":{},\"id\":\"3714\",\"type\":\"LinearScale\"},{\"attributes\":{},\"id\":\"3898\",\"type\":\"Selection\"},{\"attributes\":{\"formatter\":{\"id\":\"3895\"},\"major_label_policy\":{\"id\":\"3897\"},\"ticker\":{\"id\":\"3717\"}},\"id\":\"3716\",\"type\":\"LinearAxis\"},{\"attributes\":{\"bottom\":{\"value\":0},\"fill_color\":{\"value\":\"#1f77b4\"},\"left\":{\"field\":\"left\"},\"line_color\":{\"value\":\"#555555\"},\"right\":{\"field\":\"right\"},\"top\":{\"field\":\"top\"}},\"id\":\"3734\",\"type\":\"Quad\"},{\"attributes\":{},\"id\":\"3897\",\"type\":\"AllLabels\"},{\"attributes\":{},\"id\":\"3712\",\"type\":\"LinearScale\"}],\"root_ids\":[\"3705\"]},\"title\":\"Bokeh Application\",\"version\":\"2.3.3\"}};\n",
       "  var render_items = [{\"docid\":\"3f92334f-0125-4516-ab0b-afed00a35d00\",\"root_ids\":[\"3705\"],\"roots\":{\"3705\":\"7f07f683-cd8b-42a5-a7fc-7ee777e3499d\"}}];\n",
       "  root.Bokeh.embed.embed_items_notebook(docs_json, render_items);\n",
       "\n",
       "  }\n",
       "  if (root.Bokeh !== undefined) {\n",
       "    embed_document(root);\n",
       "  } else {\n",
       "    var attempts = 0;\n",
       "    var timer = setInterval(function(root) {\n",
       "      if (root.Bokeh !== undefined) {\n",
       "        clearInterval(timer);\n",
       "        embed_document(root);\n",
       "      } else {\n",
       "        attempts++;\n",
       "        if (attempts > 100) {\n",
       "          clearInterval(timer);\n",
       "          console.log(\"Bokeh: ERROR: Unable to run BokehJS code because BokehJS library is missing\");\n",
       "        }\n",
       "      }\n",
       "    }, 10, root)\n",
       "  }\n",
       "})(window);"
      ],
      "application/vnd.bokehjs_exec.v0+json": ""
     },
     "metadata": {
      "application/vnd.bokehjs_exec.v0+json": {
       "id": "3705"
      }
     },
     "output_type": "display_data"
    }
   ],
   "source": [
    "for dialect in df['dialect'].unique():\n",
    "    hist, edges = np.histogram(list(map(lambda x:x[1], reversed(ratios_of_dialect_words[dialect].most_common()))), \n",
    "                              density=True, bins=100,normed=True)\n",
    "\n",
    "    p = figure(tools='pan,wheel_zoom,reset,save', \n",
    "               toolbar_location='above',\n",
    "               title = dialect+' Terms Ratios Affinity Distribution')\n",
    "\n",
    "    p.quad(top=hist, bottom=0, left=edges[:-1], right=edges[1:], line_color='#555555')\n",
    "    show(p)"
   ]
  },
  {
   "cell_type": "markdown",
   "id": "754b5a2a",
   "metadata": {
    "id": "754b5a2a"
   },
   "source": [
    ">**According to the above gaphs we can see that the most noise ratio lies between 1 and 1.2. Let's explore some...**"
   ]
  },
  {
   "cell_type": "code",
   "execution_count": 28,
   "id": "12f6495d",
   "metadata": {
    "colab": {
     "base_uri": "https://localhost:8080/"
    },
    "id": "12f6495d",
    "outputId": "b887b1f1-1564-4739-a6ed-c1798aa9026f",
    "scrolled": true
   },
   "outputs": [
    {
     "data": {
      "text/plain": [
       "[('كيعرضو', 1.0),\n",
       " ('الحامضة', 1.0),\n",
       " ('فالطبخ', 1.0),\n",
       " ('وفعرض', 1.0),\n",
       " ('فالاشهار', 1.0),\n",
       " ('ملاحظتوش', 1.0),\n",
       " ('البريفي', 1.0),\n",
       " ('واوحد', 1.0),\n",
       " ('سيؤدي', 1.0),\n",
       " ('اليلاد', 1.0)]"
      ]
     },
     "execution_count": 28,
     "metadata": {},
     "output_type": "execute_result"
    }
   ],
   "source": [
    "list(reversed(ratios_of_dialect_words['EG'].most_common()))[0:10]"
   ]
  },
  {
   "cell_type": "code",
   "execution_count": 29,
   "id": "72a2a34d",
   "metadata": {
    "colab": {
     "base_uri": "https://localhost:8080/"
    },
    "id": "72a2a34d",
    "outputId": "10eda814-d201-43a8-a8e6-27f4cef1a40d",
    "scrolled": true
   },
   "outputs": [
    {
     "data": {
      "text/plain": [
       "[('كيعرضو', 1.0),\n",
       " ('الحامضة', 1.0),\n",
       " ('فالطبخ', 1.0),\n",
       " ('وفعرض', 1.0),\n",
       " ('فالاشهار', 1.0),\n",
       " ('ملاحظتوش', 1.0),\n",
       " ('البريفي', 1.0),\n",
       " ('واوحد', 1.0),\n",
       " ('سيؤدي', 1.0),\n",
       " ('اليلاد', 1.0)]"
      ]
     },
     "execution_count": 29,
     "metadata": {},
     "output_type": "execute_result"
    }
   ],
   "source": [
    "list(reversed(ratios_of_dialect_words['PL'].most_common()))[0:10]"
   ]
  },
  {
   "cell_type": "code",
   "execution_count": 30,
   "id": "9f7ca281",
   "metadata": {
    "colab": {
     "base_uri": "https://localhost:8080/"
    },
    "id": "9f7ca281",
    "outputId": "98f8fb8d-6631-4b21-f20f-64a1448cc518",
    "scrolled": true
   },
   "outputs": [
    {
     "data": {
      "text/plain": [
       "[('كيعرضو', 1.0),\n",
       " ('الحامضة', 1.0),\n",
       " ('فالطبخ', 1.0),\n",
       " ('وفعرض', 1.0),\n",
       " ('فالاشهار', 1.0),\n",
       " ('ملاحظتوش', 1.0),\n",
       " ('البريفي', 1.0),\n",
       " ('واوحد', 1.0),\n",
       " ('سيؤدي', 1.0),\n",
       " ('اليلاد', 1.0)]"
      ]
     },
     "execution_count": 30,
     "metadata": {},
     "output_type": "execute_result"
    }
   ],
   "source": [
    "list(reversed(ratios_of_dialect_words['KW'].most_common()))[0:10]"
   ]
  },
  {
   "cell_type": "code",
   "execution_count": 31,
   "id": "22d24899",
   "metadata": {
    "colab": {
     "base_uri": "https://localhost:8080/"
    },
    "id": "22d24899",
    "outputId": "baa7c057-3f26-43ed-e320-3ba3addabdae"
   },
   "outputs": [
    {
     "data": {
      "text/plain": [
       "(505485, 505485, 505485)"
      ]
     },
     "execution_count": 31,
     "metadata": {},
     "output_type": "execute_result"
    }
   ],
   "source": [
    "len(ratios_of_dialect_words['EG']), len(ratios_of_dialect_words['IQ']), len(ratios_of_dialect_words['LB'])"
   ]
  },
  {
   "cell_type": "markdown",
   "id": "60d1cb26",
   "metadata": {
    "id": "60d1cb26"
   },
   "source": [
    ">Here we can find that there are alot of terms that are not related to the ```EG``` or **Egyptian Dialect**. So we will apply a cutoff margin to the terms that have ratio less than 1.2 or we can apply a little bit higher."
   ]
  },
  {
   "cell_type": "markdown",
   "id": "194f6901",
   "metadata": {
    "id": "194f6901"
   },
   "source": [
    "### Applying Cut-off Margin"
   ]
  },
  {
   "cell_type": "code",
   "execution_count": 32,
   "id": "e7f8b9dd",
   "metadata": {
    "id": "e7f8b9dd"
   },
   "outputs": [],
   "source": [
    "ratio_margin = 1.3\n",
    "logs_of_dialect_words = Counter()\n",
    "\n",
    "for dialect in df['dialect'].unique():\n",
    "    logs_of_dialect_words[dialect] = log_of_ratios(ratios_of_dialect_words[dialect])"
   ]
  },
  {
   "cell_type": "code",
   "execution_count": 33,
   "id": "971d8db1",
   "metadata": {
    "colab": {
     "base_uri": "https://localhost:8080/"
    },
    "id": "971d8db1",
    "outputId": "3d1d56f3-be0c-44b6-9b97-da69c7147569",
    "scrolled": true
   },
   "outputs": [
    {
     "data": {
      "text/plain": [
       "[('قدامه', 0.262866903332057),\n",
       " ('آه', 0.26290204345329393),\n",
       " ('قفل', 0.2634174504521496),\n",
       " ('إنهم', 0.2634174504521496),\n",
       " ('مصلحته', 0.26358452087272044),\n",
       " ('جنبها', 0.26358452087272044),\n",
       " ('الفرقة', 0.2638145910451375),\n",
       " ('ورئيس', 0.2638145910451375),\n",
       " ('طيبة', 0.2638145910451375),\n",
       " ('أحداث', 0.2641515750415869)]"
      ]
     },
     "execution_count": 33,
     "metadata": {},
     "output_type": "execute_result"
    }
   ],
   "source": [
    "list(reversed(logs_of_dialect_words['EG'].most_common()))[0:10]"
   ]
  },
  {
   "cell_type": "code",
   "execution_count": 34,
   "id": "1e4d4c72",
   "metadata": {
    "colab": {
     "base_uri": "https://localhost:8080/"
    },
    "id": "1e4d4c72",
    "outputId": "2a5f5629-545f-43a9-9a79-3a57d1c473d7",
    "scrolled": true
   },
   "outputs": [
    {
     "data": {
      "text/plain": [
       "[('الكوكب', 0.26304476806639576),\n",
       " ('عرص', 0.2634174504521496),\n",
       " ('هاليوم', 0.26346781433118643),\n",
       " ('مقاومة', 0.2638145910451375),\n",
       " ('وبابا', 0.2638145910451375),\n",
       " ('تلقائي', 0.2638145910451375),\n",
       " ('ابطل', 0.2638145910451375),\n",
       " ('زابط', 0.2641515750415869),\n",
       " ('تنسيق', 0.2641515750415869),\n",
       " ('بتقلب', 0.2641515750415869)]"
      ]
     },
     "execution_count": 34,
     "metadata": {},
     "output_type": "execute_result"
    }
   ],
   "source": [
    "list(reversed(logs_of_dialect_words['PL'].most_common()))[0:10]"
   ]
  },
  {
   "cell_type": "code",
   "execution_count": 35,
   "id": "9f3db1ef",
   "metadata": {
    "colab": {
     "base_uri": "https://localhost:8080/"
    },
    "id": "9f3db1ef",
    "outputId": "385e89c9-3b3c-4397-a46d-bd03fd7c240e",
    "scrolled": true
   },
   "outputs": [
    {
     "data": {
      "text/plain": [
       "[('بالخليج', 0.2634174504521496),\n",
       " ('القوه', 0.2634174504521496),\n",
       " ('الثالثه', 0.2634174504521496),\n",
       " ('تكفون', 0.26358452087272044),\n",
       " ('عسى', 0.26361765924198427),\n",
       " ('اشهد', 0.2636896457085597),\n",
       " ('يشوفون', 0.26374930624015275),\n",
       " ('سووها', 0.2638145910451375),\n",
       " ('يهنيهم', 0.2638145910451375),\n",
       " ('يبيه', 0.26396554583446485)]"
      ]
     },
     "execution_count": 35,
     "metadata": {},
     "output_type": "execute_result"
    }
   ],
   "source": [
    "list(reversed(logs_of_dialect_words['KW'].most_common()))[0:10]"
   ]
  },
  {
   "cell_type": "code",
   "execution_count": 36,
   "id": "5692e5aa",
   "metadata": {
    "colab": {
     "base_uri": "https://localhost:8080/"
    },
    "id": "5692e5aa",
    "outputId": "346d5e5b-6d45-480d-ae6d-a4efd8243911"
   },
   "outputs": [
    {
     "data": {
      "text/plain": [
       "(76487, 41599, 57835)"
      ]
     },
     "execution_count": 36,
     "metadata": {},
     "output_type": "execute_result"
    }
   ],
   "source": [
    "len(logs_of_dialect_words['EG']), len(logs_of_dialect_words['PL']), len(logs_of_dialect_words['KW'])"
   ]
  },
  {
   "cell_type": "markdown",
   "id": "99d6c05b",
   "metadata": {
    "id": "99d6c05b"
   },
   "source": [
    ">We can see now that the terms are more related to the dialect."
   ]
  },
  {
   "cell_type": "markdown",
   "id": "ec6378ac",
   "metadata": {
    "id": "ec6378ac"
   },
   "source": [
    "### Visualizing the Logs"
   ]
  },
  {
   "cell_type": "code",
   "execution_count": 37,
   "id": "5e8deb7e",
   "metadata": {
    "colab": {
     "base_uri": "https://localhost:8080/",
     "height": 1000
    },
    "id": "5e8deb7e",
    "outputId": "d0083007-d74f-497e-c36f-e93d0230d2d0",
    "scrolled": true
   },
   "outputs": [
    {
     "data": {
      "application/javascript": [
       "\n",
       "(function(root) {\n",
       "  function now() {\n",
       "    return new Date();\n",
       "  }\n",
       "\n",
       "  var force = true;\n",
       "\n",
       "  if (typeof root._bokeh_onload_callbacks === \"undefined\" || force === true) {\n",
       "    root._bokeh_onload_callbacks = [];\n",
       "    root._bokeh_is_loading = undefined;\n",
       "  }\n",
       "\n",
       "  var JS_MIME_TYPE = 'application/javascript';\n",
       "  var HTML_MIME_TYPE = 'text/html';\n",
       "  var EXEC_MIME_TYPE = 'application/vnd.bokehjs_exec.v0+json';\n",
       "  var CLASS_NAME = 'output_bokeh rendered_html';\n",
       "\n",
       "  /**\n",
       "   * Render data to the DOM node\n",
       "   */\n",
       "  function render(props, node) {\n",
       "    var script = document.createElement(\"script\");\n",
       "    node.appendChild(script);\n",
       "  }\n",
       "\n",
       "  /**\n",
       "   * Handle when an output is cleared or removed\n",
       "   */\n",
       "  function handleClearOutput(event, handle) {\n",
       "    var cell = handle.cell;\n",
       "\n",
       "    var id = cell.output_area._bokeh_element_id;\n",
       "    var server_id = cell.output_area._bokeh_server_id;\n",
       "    // Clean up Bokeh references\n",
       "    if (id != null && id in Bokeh.index) {\n",
       "      Bokeh.index[id].model.document.clear();\n",
       "      delete Bokeh.index[id];\n",
       "    }\n",
       "\n",
       "    if (server_id !== undefined) {\n",
       "      // Clean up Bokeh references\n",
       "      var cmd = \"from bokeh.io.state import curstate; print(curstate().uuid_to_server['\" + server_id + \"'].get_sessions()[0].document.roots[0]._id)\";\n",
       "      cell.notebook.kernel.execute(cmd, {\n",
       "        iopub: {\n",
       "          output: function(msg) {\n",
       "            var id = msg.content.text.trim();\n",
       "            if (id in Bokeh.index) {\n",
       "              Bokeh.index[id].model.document.clear();\n",
       "              delete Bokeh.index[id];\n",
       "            }\n",
       "          }\n",
       "        }\n",
       "      });\n",
       "      // Destroy server and session\n",
       "      var cmd = \"import bokeh.io.notebook as ion; ion.destroy_server('\" + server_id + \"')\";\n",
       "      cell.notebook.kernel.execute(cmd);\n",
       "    }\n",
       "  }\n",
       "\n",
       "  /**\n",
       "   * Handle when a new output is added\n",
       "   */\n",
       "  function handleAddOutput(event, handle) {\n",
       "    var output_area = handle.output_area;\n",
       "    var output = handle.output;\n",
       "\n",
       "    // limit handleAddOutput to display_data with EXEC_MIME_TYPE content only\n",
       "    if ((output.output_type != \"display_data\") || (!Object.prototype.hasOwnProperty.call(output.data, EXEC_MIME_TYPE))) {\n",
       "      return\n",
       "    }\n",
       "\n",
       "    var toinsert = output_area.element.find(\".\" + CLASS_NAME.split(' ')[0]);\n",
       "\n",
       "    if (output.metadata[EXEC_MIME_TYPE][\"id\"] !== undefined) {\n",
       "      toinsert[toinsert.length - 1].firstChild.textContent = output.data[JS_MIME_TYPE];\n",
       "      // store reference to embed id on output_area\n",
       "      output_area._bokeh_element_id = output.metadata[EXEC_MIME_TYPE][\"id\"];\n",
       "    }\n",
       "    if (output.metadata[EXEC_MIME_TYPE][\"server_id\"] !== undefined) {\n",
       "      var bk_div = document.createElement(\"div\");\n",
       "      bk_div.innerHTML = output.data[HTML_MIME_TYPE];\n",
       "      var script_attrs = bk_div.children[0].attributes;\n",
       "      for (var i = 0; i < script_attrs.length; i++) {\n",
       "        toinsert[toinsert.length - 1].firstChild.setAttribute(script_attrs[i].name, script_attrs[i].value);\n",
       "        toinsert[toinsert.length - 1].firstChild.textContent = bk_div.children[0].textContent\n",
       "      }\n",
       "      // store reference to server id on output_area\n",
       "      output_area._bokeh_server_id = output.metadata[EXEC_MIME_TYPE][\"server_id\"];\n",
       "    }\n",
       "  }\n",
       "\n",
       "  function register_renderer(events, OutputArea) {\n",
       "\n",
       "    function append_mime(data, metadata, element) {\n",
       "      // create a DOM node to render to\n",
       "      var toinsert = this.create_output_subarea(\n",
       "        metadata,\n",
       "        CLASS_NAME,\n",
       "        EXEC_MIME_TYPE\n",
       "      );\n",
       "      this.keyboard_manager.register_events(toinsert);\n",
       "      // Render to node\n",
       "      var props = {data: data, metadata: metadata[EXEC_MIME_TYPE]};\n",
       "      render(props, toinsert[toinsert.length - 1]);\n",
       "      element.append(toinsert);\n",
       "      return toinsert\n",
       "    }\n",
       "\n",
       "    /* Handle when an output is cleared or removed */\n",
       "    events.on('clear_output.CodeCell', handleClearOutput);\n",
       "    events.on('delete.Cell', handleClearOutput);\n",
       "\n",
       "    /* Handle when a new output is added */\n",
       "    events.on('output_added.OutputArea', handleAddOutput);\n",
       "\n",
       "    /**\n",
       "     * Register the mime type and append_mime function with output_area\n",
       "     */\n",
       "    OutputArea.prototype.register_mime_type(EXEC_MIME_TYPE, append_mime, {\n",
       "      /* Is output safe? */\n",
       "      safe: true,\n",
       "      /* Index of renderer in `output_area.display_order` */\n",
       "      index: 0\n",
       "    });\n",
       "  }\n",
       "\n",
       "  // register the mime type if in Jupyter Notebook environment and previously unregistered\n",
       "  if (root.Jupyter !== undefined) {\n",
       "    var events = require('base/js/events');\n",
       "    var OutputArea = require('notebook/js/outputarea').OutputArea;\n",
       "\n",
       "    if (OutputArea.prototype.mime_types().indexOf(EXEC_MIME_TYPE) == -1) {\n",
       "      register_renderer(events, OutputArea);\n",
       "    }\n",
       "  }\n",
       "\n",
       "  \n",
       "  if (typeof (root._bokeh_timeout) === \"undefined\" || force === true) {\n",
       "    root._bokeh_timeout = Date.now() + 5000;\n",
       "    root._bokeh_failed_load = false;\n",
       "  }\n",
       "\n",
       "  var NB_LOAD_WARNING = {'data': {'text/html':\n",
       "     \"<div style='background-color: #fdd'>\\n\"+\n",
       "     \"<p>\\n\"+\n",
       "     \"BokehJS does not appear to have successfully loaded. If loading BokehJS from CDN, this \\n\"+\n",
       "     \"may be due to a slow or bad network connection. Possible fixes:\\n\"+\n",
       "     \"</p>\\n\"+\n",
       "     \"<ul>\\n\"+\n",
       "     \"<li>re-rerun `output_notebook()` to attempt to load from CDN again, or</li>\\n\"+\n",
       "     \"<li>use INLINE resources instead, as so:</li>\\n\"+\n",
       "     \"</ul>\\n\"+\n",
       "     \"<code>\\n\"+\n",
       "     \"from bokeh.resources import INLINE\\n\"+\n",
       "     \"output_notebook(resources=INLINE)\\n\"+\n",
       "     \"</code>\\n\"+\n",
       "     \"</div>\"}};\n",
       "\n",
       "  function display_loaded() {\n",
       "    var el = document.getElementById(null);\n",
       "    if (el != null) {\n",
       "      el.textContent = \"BokehJS is loading...\";\n",
       "    }\n",
       "    if (root.Bokeh !== undefined) {\n",
       "      if (el != null) {\n",
       "        el.textContent = \"BokehJS \" + root.Bokeh.version + \" successfully loaded.\";\n",
       "      }\n",
       "    } else if (Date.now() < root._bokeh_timeout) {\n",
       "      setTimeout(display_loaded, 100)\n",
       "    }\n",
       "  }\n",
       "\n",
       "\n",
       "  function run_callbacks() {\n",
       "    try {\n",
       "      root._bokeh_onload_callbacks.forEach(function(callback) {\n",
       "        if (callback != null)\n",
       "          callback();\n",
       "      });\n",
       "    } finally {\n",
       "      delete root._bokeh_onload_callbacks\n",
       "    }\n",
       "    console.debug(\"Bokeh: all callbacks have finished\");\n",
       "  }\n",
       "\n",
       "  function load_libs(css_urls, js_urls, callback) {\n",
       "    if (css_urls == null) css_urls = [];\n",
       "    if (js_urls == null) js_urls = [];\n",
       "\n",
       "    root._bokeh_onload_callbacks.push(callback);\n",
       "    if (root._bokeh_is_loading > 0) {\n",
       "      console.debug(\"Bokeh: BokehJS is being loaded, scheduling callback at\", now());\n",
       "      return null;\n",
       "    }\n",
       "    if (js_urls == null || js_urls.length === 0) {\n",
       "      run_callbacks();\n",
       "      return null;\n",
       "    }\n",
       "    console.debug(\"Bokeh: BokehJS not loaded, scheduling load and callback at\", now());\n",
       "    root._bokeh_is_loading = css_urls.length + js_urls.length;\n",
       "\n",
       "    function on_load() {\n",
       "      root._bokeh_is_loading--;\n",
       "      if (root._bokeh_is_loading === 0) {\n",
       "        console.debug(\"Bokeh: all BokehJS libraries/stylesheets loaded\");\n",
       "        run_callbacks()\n",
       "      }\n",
       "    }\n",
       "\n",
       "    function on_error(url) {\n",
       "      console.error(\"failed to load \" + url);\n",
       "    }\n",
       "\n",
       "    for (let i = 0; i < css_urls.length; i++) {\n",
       "      const url = css_urls[i];\n",
       "      const element = document.createElement(\"link\");\n",
       "      element.onload = on_load;\n",
       "      element.onerror = on_error.bind(null, url);\n",
       "      element.rel = \"stylesheet\";\n",
       "      element.type = \"text/css\";\n",
       "      element.href = url;\n",
       "      console.debug(\"Bokeh: injecting link tag for BokehJS stylesheet: \", url);\n",
       "      document.body.appendChild(element);\n",
       "    }\n",
       "\n",
       "    const hashes = {\"https://cdn.bokeh.org/bokeh/release/bokeh-2.3.3.min.js\": \"dM3QQsP+wXdHg42wTqW85BjZQdLNNIXqlPw/BgKoExPmTG7ZLML4EGqLMfqHT6ON\", \"https://cdn.bokeh.org/bokeh/release/bokeh-tables-2.3.3.min.js\": \"8x57I4YuIfu8XyZfFo0XVr2WAT8EK4rh/uDe3wF7YuW2FNUSNEpJbsPaB1nJ2fz2\", \"https://cdn.bokeh.org/bokeh/release/bokeh-widgets-2.3.3.min.js\": \"3QTqdz9LyAm2i0sG5XTePsHec3UHWwVsrOL68SYRoAXsafvfAyqtQ+h440+qIBhS\"};\n",
       "\n",
       "    for (let i = 0; i < js_urls.length; i++) {\n",
       "      const url = js_urls[i];\n",
       "      const element = document.createElement('script');\n",
       "      element.onload = on_load;\n",
       "      element.onerror = on_error.bind(null, url);\n",
       "      element.async = false;\n",
       "      element.src = url;\n",
       "      if (url in hashes) {\n",
       "        element.crossOrigin = \"anonymous\";\n",
       "        element.integrity = \"sha384-\" + hashes[url];\n",
       "      }\n",
       "      console.debug(\"Bokeh: injecting script tag for BokehJS library: \", url);\n",
       "      document.head.appendChild(element);\n",
       "    }\n",
       "  };\n",
       "\n",
       "  function inject_raw_css(css) {\n",
       "    const element = document.createElement(\"style\");\n",
       "    element.appendChild(document.createTextNode(css));\n",
       "    document.body.appendChild(element);\n",
       "  }\n",
       "\n",
       "  \n",
       "  var js_urls = [\"https://cdn.bokeh.org/bokeh/release/bokeh-2.3.3.min.js\", \"https://cdn.bokeh.org/bokeh/release/bokeh-widgets-2.3.3.min.js\", \"https://cdn.bokeh.org/bokeh/release/bokeh-tables-2.3.3.min.js\"];\n",
       "  var css_urls = [];\n",
       "  \n",
       "\n",
       "  var inline_js = [\n",
       "    function(Bokeh) {\n",
       "      Bokeh.set_log_level(\"info\");\n",
       "    },\n",
       "    function(Bokeh) {\n",
       "    \n",
       "    \n",
       "    }\n",
       "  ];\n",
       "\n",
       "  function run_inline_js() {\n",
       "    \n",
       "    if (root.Bokeh !== undefined || force === true) {\n",
       "      \n",
       "    for (var i = 0; i < inline_js.length; i++) {\n",
       "      inline_js[i].call(root, root.Bokeh);\n",
       "    }\n",
       "    } else if (Date.now() < root._bokeh_timeout) {\n",
       "      setTimeout(run_inline_js, 100);\n",
       "    } else if (!root._bokeh_failed_load) {\n",
       "      console.log(\"Bokeh: BokehJS failed to load within specified timeout.\");\n",
       "      root._bokeh_failed_load = true;\n",
       "    } else if (force !== true) {\n",
       "      var cell = $(document.getElementById(null)).parents('.cell').data().cell;\n",
       "      cell.output_area.append_execute_result(NB_LOAD_WARNING)\n",
       "    }\n",
       "\n",
       "  }\n",
       "\n",
       "  if (root._bokeh_is_loading === 0) {\n",
       "    console.debug(\"Bokeh: BokehJS loaded, going straight to plotting\");\n",
       "    run_inline_js();\n",
       "  } else {\n",
       "    load_libs(css_urls, js_urls, function() {\n",
       "      console.debug(\"Bokeh: BokehJS plotting callback run at\", now());\n",
       "      run_inline_js();\n",
       "    });\n",
       "  }\n",
       "}(window));"
      ],
      "application/vnd.bokehjs_load.v0+json": "\n(function(root) {\n  function now() {\n    return new Date();\n  }\n\n  var force = true;\n\n  if (typeof root._bokeh_onload_callbacks === \"undefined\" || force === true) {\n    root._bokeh_onload_callbacks = [];\n    root._bokeh_is_loading = undefined;\n  }\n\n  \n\n  \n  if (typeof (root._bokeh_timeout) === \"undefined\" || force === true) {\n    root._bokeh_timeout = Date.now() + 5000;\n    root._bokeh_failed_load = false;\n  }\n\n  var NB_LOAD_WARNING = {'data': {'text/html':\n     \"<div style='background-color: #fdd'>\\n\"+\n     \"<p>\\n\"+\n     \"BokehJS does not appear to have successfully loaded. If loading BokehJS from CDN, this \\n\"+\n     \"may be due to a slow or bad network connection. Possible fixes:\\n\"+\n     \"</p>\\n\"+\n     \"<ul>\\n\"+\n     \"<li>re-rerun `output_notebook()` to attempt to load from CDN again, or</li>\\n\"+\n     \"<li>use INLINE resources instead, as so:</li>\\n\"+\n     \"</ul>\\n\"+\n     \"<code>\\n\"+\n     \"from bokeh.resources import INLINE\\n\"+\n     \"output_notebook(resources=INLINE)\\n\"+\n     \"</code>\\n\"+\n     \"</div>\"}};\n\n  function display_loaded() {\n    var el = document.getElementById(null);\n    if (el != null) {\n      el.textContent = \"BokehJS is loading...\";\n    }\n    if (root.Bokeh !== undefined) {\n      if (el != null) {\n        el.textContent = \"BokehJS \" + root.Bokeh.version + \" successfully loaded.\";\n      }\n    } else if (Date.now() < root._bokeh_timeout) {\n      setTimeout(display_loaded, 100)\n    }\n  }\n\n\n  function run_callbacks() {\n    try {\n      root._bokeh_onload_callbacks.forEach(function(callback) {\n        if (callback != null)\n          callback();\n      });\n    } finally {\n      delete root._bokeh_onload_callbacks\n    }\n    console.debug(\"Bokeh: all callbacks have finished\");\n  }\n\n  function load_libs(css_urls, js_urls, callback) {\n    if (css_urls == null) css_urls = [];\n    if (js_urls == null) js_urls = [];\n\n    root._bokeh_onload_callbacks.push(callback);\n    if (root._bokeh_is_loading > 0) {\n      console.debug(\"Bokeh: BokehJS is being loaded, scheduling callback at\", now());\n      return null;\n    }\n    if (js_urls == null || js_urls.length === 0) {\n      run_callbacks();\n      return null;\n    }\n    console.debug(\"Bokeh: BokehJS not loaded, scheduling load and callback at\", now());\n    root._bokeh_is_loading = css_urls.length + js_urls.length;\n\n    function on_load() {\n      root._bokeh_is_loading--;\n      if (root._bokeh_is_loading === 0) {\n        console.debug(\"Bokeh: all BokehJS libraries/stylesheets loaded\");\n        run_callbacks()\n      }\n    }\n\n    function on_error(url) {\n      console.error(\"failed to load \" + url);\n    }\n\n    for (let i = 0; i < css_urls.length; i++) {\n      const url = css_urls[i];\n      const element = document.createElement(\"link\");\n      element.onload = on_load;\n      element.onerror = on_error.bind(null, url);\n      element.rel = \"stylesheet\";\n      element.type = \"text/css\";\n      element.href = url;\n      console.debug(\"Bokeh: injecting link tag for BokehJS stylesheet: \", url);\n      document.body.appendChild(element);\n    }\n\n    const hashes = {\"https://cdn.bokeh.org/bokeh/release/bokeh-2.3.3.min.js\": \"dM3QQsP+wXdHg42wTqW85BjZQdLNNIXqlPw/BgKoExPmTG7ZLML4EGqLMfqHT6ON\", \"https://cdn.bokeh.org/bokeh/release/bokeh-tables-2.3.3.min.js\": \"8x57I4YuIfu8XyZfFo0XVr2WAT8EK4rh/uDe3wF7YuW2FNUSNEpJbsPaB1nJ2fz2\", \"https://cdn.bokeh.org/bokeh/release/bokeh-widgets-2.3.3.min.js\": \"3QTqdz9LyAm2i0sG5XTePsHec3UHWwVsrOL68SYRoAXsafvfAyqtQ+h440+qIBhS\"};\n\n    for (let i = 0; i < js_urls.length; i++) {\n      const url = js_urls[i];\n      const element = document.createElement('script');\n      element.onload = on_load;\n      element.onerror = on_error.bind(null, url);\n      element.async = false;\n      element.src = url;\n      if (url in hashes) {\n        element.crossOrigin = \"anonymous\";\n        element.integrity = \"sha384-\" + hashes[url];\n      }\n      console.debug(\"Bokeh: injecting script tag for BokehJS library: \", url);\n      document.head.appendChild(element);\n    }\n  };\n\n  function inject_raw_css(css) {\n    const element = document.createElement(\"style\");\n    element.appendChild(document.createTextNode(css));\n    document.body.appendChild(element);\n  }\n\n  \n  var js_urls = [\"https://cdn.bokeh.org/bokeh/release/bokeh-2.3.3.min.js\", \"https://cdn.bokeh.org/bokeh/release/bokeh-widgets-2.3.3.min.js\", \"https://cdn.bokeh.org/bokeh/release/bokeh-tables-2.3.3.min.js\"];\n  var css_urls = [];\n  \n\n  var inline_js = [\n    function(Bokeh) {\n      Bokeh.set_log_level(\"info\");\n    },\n    function(Bokeh) {\n    \n    \n    }\n  ];\n\n  function run_inline_js() {\n    \n    if (root.Bokeh !== undefined || force === true) {\n      \n    for (var i = 0; i < inline_js.length; i++) {\n      inline_js[i].call(root, root.Bokeh);\n    }\n    } else if (Date.now() < root._bokeh_timeout) {\n      setTimeout(run_inline_js, 100);\n    } else if (!root._bokeh_failed_load) {\n      console.log(\"Bokeh: BokehJS failed to load within specified timeout.\");\n      root._bokeh_failed_load = true;\n    } else if (force !== true) {\n      var cell = $(document.getElementById(null)).parents('.cell').data().cell;\n      cell.output_area.append_execute_result(NB_LOAD_WARNING)\n    }\n\n  }\n\n  if (root._bokeh_is_loading === 0) {\n    console.debug(\"Bokeh: BokehJS loaded, going straight to plotting\");\n    run_inline_js();\n  } else {\n    load_libs(css_urls, js_urls, function() {\n      console.debug(\"Bokeh: BokehJS plotting callback run at\", now());\n      run_inline_js();\n    });\n  }\n}(window));"
     },
     "metadata": {},
     "output_type": "display_data"
    },
    {
     "data": {
      "text/html": [
       "\n",
       "\n",
       "\n",
       "\n",
       "\n",
       "\n",
       "  <div class=\"bk-root\" id=\"7e007c9c-f2c9-4f03-9917-9e8a9591a2ec\" data-root-id=\"3945\"></div>\n"
      ]
     },
     "metadata": {},
     "output_type": "display_data"
    },
    {
     "data": {
      "application/javascript": [
       "(function(root) {\n",
       "  function embed_document(root) {\n",
       "    \n",
       "  var docs_json = {\"47d48b41-3fd3-4542-82f6-174211aa2b15\":{\"defs\":[],\"roots\":{\"references\":[{\"attributes\":{\"below\":[{\"id\":\"3956\"}],\"center\":[{\"id\":\"3959\"},{\"id\":\"3963\"}],\"left\":[{\"id\":\"3960\"}],\"renderers\":[{\"id\":\"3976\"}],\"title\":{\"id\":\"3946\"},\"toolbar\":{\"id\":\"3968\"},\"toolbar_location\":\"above\",\"x_range\":{\"id\":\"3948\"},\"x_scale\":{\"id\":\"3952\"},\"y_range\":{\"id\":\"3950\"},\"y_scale\":{\"id\":\"3954\"}},\"id\":\"3945\",\"subtype\":\"Figure\",\"type\":\"Plot\"},{\"attributes\":{},\"id\":\"4147\",\"type\":\"Selection\"},{\"attributes\":{},\"id\":\"3948\",\"type\":\"DataRange1d\"},{\"attributes\":{},\"id\":\"3952\",\"type\":\"LinearScale\"},{\"attributes\":{},\"id\":\"3965\",\"type\":\"WheelZoomTool\"},{\"attributes\":{\"formatter\":{\"id\":\"4141\"},\"major_label_policy\":{\"id\":\"4143\"},\"ticker\":{\"id\":\"3961\"}},\"id\":\"3960\",\"type\":\"LinearAxis\"},{\"attributes\":{},\"id\":\"4141\",\"type\":\"BasicTickFormatter\"},{\"attributes\":{\"bottom\":{\"value\":0},\"fill_color\":{\"value\":\"#1f77b4\"},\"left\":{\"field\":\"left\"},\"line_color\":{\"value\":\"#555555\"},\"right\":{\"field\":\"right\"},\"top\":{\"field\":\"top\"}},\"id\":\"3974\",\"type\":\"Quad\"},{\"attributes\":{\"source\":{\"id\":\"3973\"}},\"id\":\"3977\",\"type\":\"CDSView\"},{\"attributes\":{},\"id\":\"3964\",\"type\":\"PanTool\"},{\"attributes\":{\"axis\":{\"id\":\"3956\"},\"ticker\":null},\"id\":\"3959\",\"type\":\"Grid\"},{\"attributes\":{\"formatter\":{\"id\":\"4144\"},\"major_label_policy\":{\"id\":\"4146\"},\"ticker\":{\"id\":\"3957\"}},\"id\":\"3956\",\"type\":\"LinearAxis\"},{\"attributes\":{},\"id\":\"3954\",\"type\":\"LinearScale\"},{\"attributes\":{},\"id\":\"4143\",\"type\":\"AllLabels\"},{\"attributes\":{},\"id\":\"3966\",\"type\":\"ResetTool\"},{\"attributes\":{},\"id\":\"3950\",\"type\":\"DataRange1d\"},{\"attributes\":{\"active_multi\":null,\"tools\":[{\"id\":\"3964\"},{\"id\":\"3965\"},{\"id\":\"3966\"},{\"id\":\"3967\"}]},\"id\":\"3968\",\"type\":\"Toolbar\"},{\"attributes\":{\"data_source\":{\"id\":\"3973\"},\"glyph\":{\"id\":\"3974\"},\"hover_glyph\":null,\"muted_glyph\":null,\"nonselection_glyph\":{\"id\":\"3975\"},\"view\":{\"id\":\"3977\"}},\"id\":\"3976\",\"type\":\"GlyphRenderer\"},{\"attributes\":{\"data\":{\"left\":{\"__ndarray__\":\"QMRAtM/S0D+wzYz3ThnRPx/X2DrOX9E/j+Akfk2m0T//6XDBzOzRP27zvARMM9I/3vwISMt50j9OBlWLSsDSP70Poc7JBtM/LRntEUlN0z+cIjlVyJPTPwwshZhH2tM/fDXR28Yg1D/sPh0fRmfUP1tIaWLFrdQ/y1G1pUT01D86WwHpwzrVP6pkTSxDgdU/Gm6Zb8LH1T+Kd+WyQQ7WP/mAMfbAVNY/aYp9OUCb1j/Yk8l8v+HWP0idFcA+KNc/uKZhA75u1z8osK1GPbXXP5e5+Ym8+9c/B8NFzTtC2D92zJEQu4jYP+bV3VM6z9g/Vt8pl7kV2T/G6HXaOFzZPzXywR24otk/pPsNYTfp2T8UBVqkti/aP4QOpuc1dto/9BfyKrW82j9kIT5uNAPbP9MqirGzSds/QjTW9DKQ2z+yPSI4stbbPyJHbnsxHdw/klC6vrBj3D8BWgYCMKrcP3FjUkWv8Nw/4GyeiC433T9QdurLrX3dP8B/Ng8txN0/MImCUqwK3j+fks6VK1HePw+cGtmql94/fqVmHCre3j/urrJfqSTfP164/qIoa98/zsFK5qex3z89y5YpJ/jfP1ZqcTZTH+A/Dm8X2JJC4D/Gc7150mXgP354YxsSieA/Nn0JvVGs4D/uga9ekc/gP6aGVQDR8uA/XYv7oRAW4T8VkKFDUDnhP82UR+WPXOE/hJnths9/4T88npMoD6PhP/SiOcpOxuE/rKffa47p4T9krIUNzgziPxyxK68NMOI/1LXRUE1T4j+MunfyjHbiP0S/HZTMmeI/+8PDNQy94j+zyGnXS+DiP2vND3mLA+M/ItK1Gssm4z/a1lu8CkrjP5LbAV5KbeM/SuCn/4mQ4z8C5U2hybPjP7rp80IJ1+M/cu6Z5Ej64z8q8z+GiB3kP+H35SfIQOQ/mfyLyQdk5D9RATJrR4fkPwgG2AyHquQ/wAp+rsbN5D94DyRQBvHkPzAUyvFFFOU/6Bhwk4U35T+gHRY1xVrlP1givNYEfuU/ECdieESh5T/IKwgahMTlP38wrrvD5+U/NzVUXQML5j8=\",\"dtype\":\"float64\",\"order\":\"little\",\"shape\":[100]},\"right\":{\"__ndarray__\":\"sM2M904Z0T8f19g6zl/RP4/gJH5NptE//+lwwczs0T9u87wETDPSP978CEjLedI/TgZVi0rA0j+9D6HOyQbTPy0Z7RFJTdM/nCI5VciT0z8MLIWYR9rTP3w10dvGINQ/7D4dH0Zn1D9bSGlixa3UP8tRtaVE9NQ/OlsB6cM61T+qZE0sQ4HVPxpumW/Cx9U/inflskEO1j/5gDH2wFTWP2mKfTlAm9Y/2JPJfL/h1j9InRXAPijXP7imYQO+btc/KLCtRj211z+XufmJvPvXPwfDRc07Qtg/dsyRELuI2D/m1d1TOs/YP1bfKZe5Fdk/xuh12jhc2T818sEduKLZP6T7DWE36dk/FAVapLYv2j+EDqbnNXbaP/QX8iq1vNo/ZCE+bjQD2z/TKoqxs0nbP0I01vQykNs/sj0iOLLW2z8iR257MR3cP5JQur6wY9w/AVoGAjCq3D9xY1JFr/DcP+BsnoguN90/UHbqy6193T/AfzYPLcTdPzCJglKsCt4/n5LOlStR3j8PnBrZqpfeP36lZhwq3t4/7q6yX6kk3z9euP6iKGvfP87BSuansd8/PcuWKSf43z9WanE2Ux/gPw5vF9iSQuA/xnO9edJl4D9+eGMbEongPzZ9Cb1RrOA/7oGvXpHP4D+mhlUA0fLgP12L+6EQFuE/FZChQ1A54T/NlEflj1zhP4SZ7YbPf+E/PJ6TKA+j4T/0ojnKTsbhP6yn32uO6eE/ZKyFDc4M4j8csSuvDTDiP9S10VBNU+I/jLp38ox24j9Evx2UzJniP/vDwzUMveI/s8hp10vg4j9rzQ95iwPjPyLStRrLJuM/2tZbvApK4z+S2wFeSm3jP0rgp/+JkOM/AuVNocmz4z+66fNCCdfjP3LumeRI+uM/KvM/hogd5D/h9+UnyEDkP5n8i8kHZOQ/UQEya0eH5D8IBtgMh6rkP8AKfq7GzeQ/eA8kUAbx5D8wFMrxRRTlP+gYcJOFN+U/oB0WNcVa5T9YIrzWBH7lPxAnYnhEoeU/yCsIGoTE5T9/MK67w+flPzc1VF0DC+Y/7zn6/kIu5j8=\",\"dtype\":\"float64\",\"order\":\"little\",\"shape\":[100]},\"top\":{\"__ndarray__\":\"3VxLjGjkzz+lFiTEleDlP7Y3+3kky+E/9tqRPExy0z8VOPW8p4DIP4nQpolTgzRAJsxl7p05uz/CO4BQ047GPzvxxzdYMtU/ve1CYalu4D/AqpT1i5noP61rd9oWHcg/bMjgF+919j+JzGXunTnLP9vP8IHJR9k/zPxceOHHzD8INGopfHK6P45t9bcQhw9Aq94c0HeAwT+wlGS3/CPgPzaY49Auncs/ZY3LMWdi9z9wO4BQ0462PzaY49Auncs/VhYkxJXg5T8WE5Nz7YfeP+mbbmRaq7k/2+08pCwk1z9D1wapIGTFPxVzjQFuOcQ/q94c0HeAwT9oNGopfHKqPyYEc5845Jg/e7eqppW0QUBEZGGzvwCsP3A7gFDTjrY/v8RPx0Ydrz8925E8THLDPy7FT8dGHb8/+GfsRusOyj+MRiELVrnQP/GBrdUi3dk/zPxceOHHvD8TjUjTKL3qP7h6oyjFVbA/BqcPH93Vwz+/xE/HRh2/P0RkYbO/AKw/EqDzOglv/j+O03sV9VW3P+reHNB3gME/CDRqKXxy2j9wO4BQ0462PzaY49Auncs/gAuJxo8AxT/7qpqyCOSxP9lClncqq6I/pxKTc+2HHkBSo4SLscelP5wSn+3mHLE/q94c0HeAwT99eqMoxVXAP6ScbmRaq8k/CDRqKXxyuj9yIcV+GAvgP6ScbmRaq8k/nyxUAiVWvj/22pE8THKzP4B6IMqGsANAnBKf7eYcoT/pm25kWqu5P4GUWD0Dj70/5w4UWrsO0z/22pE8THKzP4TbkTxMcrM/1c/2PkaS8j+/xE/HRh2vP8wLicaPAMU/ywNznzjkqD8CNHDm+LzjP0RkYbO/AKw/jEYhC1a5wD/itS/zkXnZPzQLicaPALU/UqOEi7HHpT+6Pwvk/pzUP5wSn+3mHNE/v8RPx0Ydrz+6Pwvk/pzEPybMZe6dObs/JD8L5P6cxD/ZQpZ3KquyP7qqmrII5LE/UqOEi7HHtT+cEp/t5hyhP7/ET8dGHa8/UqOEi7HHlT+fxU/HRh2PPwAAAAAAAAAA6hnptGhfYUA=\",\"dtype\":\"float64\",\"order\":\"little\",\"shape\":[100]}},\"selected\":{\"id\":\"4147\"},\"selection_policy\":{\"id\":\"4148\"}},\"id\":\"3973\",\"type\":\"ColumnDataSource\"},{\"attributes\":{},\"id\":\"3961\",\"type\":\"BasicTicker\"},{\"attributes\":{},\"id\":\"4144\",\"type\":\"BasicTickFormatter\"},{\"attributes\":{},\"id\":\"3967\",\"type\":\"SaveTool\"},{\"attributes\":{\"text\":\"EG Terms Ratios Affinity Distribution\"},\"id\":\"3946\",\"type\":\"Title\"},{\"attributes\":{\"bottom\":{\"value\":0},\"fill_alpha\":{\"value\":0.1},\"fill_color\":{\"value\":\"#1f77b4\"},\"left\":{\"field\":\"left\"},\"line_alpha\":{\"value\":0.1},\"line_color\":{\"value\":\"#555555\"},\"right\":{\"field\":\"right\"},\"top\":{\"field\":\"top\"}},\"id\":\"3975\",\"type\":\"Quad\"},{\"attributes\":{},\"id\":\"4148\",\"type\":\"UnionRenderers\"},{\"attributes\":{},\"id\":\"4146\",\"type\":\"AllLabels\"},{\"attributes\":{},\"id\":\"3957\",\"type\":\"BasicTicker\"},{\"attributes\":{\"axis\":{\"id\":\"3960\"},\"dimension\":1,\"ticker\":null},\"id\":\"3963\",\"type\":\"Grid\"}],\"root_ids\":[\"3945\"]},\"title\":\"Bokeh Application\",\"version\":\"2.3.3\"}};\n",
       "  var render_items = [{\"docid\":\"47d48b41-3fd3-4542-82f6-174211aa2b15\",\"root_ids\":[\"3945\"],\"roots\":{\"3945\":\"7e007c9c-f2c9-4f03-9917-9e8a9591a2ec\"}}];\n",
       "  root.Bokeh.embed.embed_items_notebook(docs_json, render_items);\n",
       "\n",
       "  }\n",
       "  if (root.Bokeh !== undefined) {\n",
       "    embed_document(root);\n",
       "  } else {\n",
       "    var attempts = 0;\n",
       "    var timer = setInterval(function(root) {\n",
       "      if (root.Bokeh !== undefined) {\n",
       "        clearInterval(timer);\n",
       "        embed_document(root);\n",
       "      } else {\n",
       "        attempts++;\n",
       "        if (attempts > 100) {\n",
       "          clearInterval(timer);\n",
       "          console.log(\"Bokeh: ERROR: Unable to run BokehJS code because BokehJS library is missing\");\n",
       "        }\n",
       "      }\n",
       "    }, 10, root)\n",
       "  }\n",
       "})(window);"
      ],
      "application/vnd.bokehjs_exec.v0+json": ""
     },
     "metadata": {
      "application/vnd.bokehjs_exec.v0+json": {
       "id": "3945"
      }
     },
     "output_type": "display_data"
    },
    {
     "data": {
      "text/html": [
       "\n",
       "\n",
       "\n",
       "\n",
       "\n",
       "\n",
       "  <div class=\"bk-root\" id=\"3180fc82-12a4-4578-a7c9-6c33805cf6c1\" data-root-id=\"4194\"></div>\n"
      ]
     },
     "metadata": {},
     "output_type": "display_data"
    },
    {
     "data": {
      "application/javascript": [
       "(function(root) {\n",
       "  function embed_document(root) {\n",
       "    \n",
       "  var docs_json = {\"c3f4acba-0d57-4d35-b299-747a74c9418d\":{\"defs\":[],\"roots\":{\"references\":[{\"attributes\":{\"below\":[{\"id\":\"4205\"}],\"center\":[{\"id\":\"4208\"},{\"id\":\"4212\"}],\"left\":[{\"id\":\"4209\"}],\"renderers\":[{\"id\":\"4225\"}],\"title\":{\"id\":\"4195\"},\"toolbar\":{\"id\":\"4217\"},\"toolbar_location\":\"above\",\"x_range\":{\"id\":\"4197\"},\"x_scale\":{\"id\":\"4201\"},\"y_range\":{\"id\":\"4199\"},\"y_scale\":{\"id\":\"4203\"}},\"id\":\"4194\",\"subtype\":\"Figure\",\"type\":\"Plot\"},{\"attributes\":{\"data_source\":{\"id\":\"4222\"},\"glyph\":{\"id\":\"4223\"},\"hover_glyph\":null,\"muted_glyph\":null,\"nonselection_glyph\":{\"id\":\"4224\"},\"view\":{\"id\":\"4226\"}},\"id\":\"4225\",\"type\":\"GlyphRenderer\"},{\"attributes\":{\"source\":{\"id\":\"4222\"}},\"id\":\"4226\",\"type\":\"CDSView\"},{\"attributes\":{\"axis\":{\"id\":\"4209\"},\"dimension\":1,\"ticker\":null},\"id\":\"4212\",\"type\":\"Grid\"},{\"attributes\":{},\"id\":\"4401\",\"type\":\"AllLabels\"},{\"attributes\":{\"formatter\":{\"id\":\"4402\"},\"major_label_policy\":{\"id\":\"4404\"},\"ticker\":{\"id\":\"4206\"}},\"id\":\"4205\",\"type\":\"LinearAxis\"},{\"attributes\":{},\"id\":\"4216\",\"type\":\"SaveTool\"},{\"attributes\":{},\"id\":\"4406\",\"type\":\"UnionRenderers\"},{\"attributes\":{},\"id\":\"4399\",\"type\":\"BasicTickFormatter\"},{\"attributes\":{},\"id\":\"4210\",\"type\":\"BasicTicker\"},{\"attributes\":{\"bottom\":{\"value\":0},\"fill_alpha\":{\"value\":0.1},\"fill_color\":{\"value\":\"#1f77b4\"},\"left\":{\"field\":\"left\"},\"line_alpha\":{\"value\":0.1},\"line_color\":{\"value\":\"#555555\"},\"right\":{\"field\":\"right\"},\"top\":{\"field\":\"top\"}},\"id\":\"4224\",\"type\":\"Quad\"},{\"attributes\":{},\"id\":\"4405\",\"type\":\"Selection\"},{\"attributes\":{\"formatter\":{\"id\":\"4399\"},\"major_label_policy\":{\"id\":\"4401\"},\"ticker\":{\"id\":\"4210\"}},\"id\":\"4209\",\"type\":\"LinearAxis\"},{\"attributes\":{},\"id\":\"4402\",\"type\":\"BasicTickFormatter\"},{\"attributes\":{\"axis\":{\"id\":\"4205\"},\"ticker\":null},\"id\":\"4208\",\"type\":\"Grid\"},{\"attributes\":{\"bottom\":{\"value\":0},\"fill_color\":{\"value\":\"#1f77b4\"},\"left\":{\"field\":\"left\"},\"line_color\":{\"value\":\"#555555\"},\"right\":{\"field\":\"right\"},\"top\":{\"field\":\"top\"}},\"id\":\"4223\",\"type\":\"Quad\"},{\"attributes\":{},\"id\":\"4215\",\"type\":\"ResetTool\"},{\"attributes\":{},\"id\":\"4201\",\"type\":\"LinearScale\"},{\"attributes\":{\"data\":{\"left\":{\"__ndarray__\":\"KqkOubnV0D+21ouGMRzRP0IECVSpYtE/zjGGISGp0T9aXwPvmO/RP+aMgLwQNtI/crr9iYh80j/+53pXAMPSP4oV+CR4CdM/FkN18u9P0z+icPK/Z5bTPy6eb43f3NM/usvsWlcj1D9H+Wkoz2nUP9Mm5/VGsNQ/X1Rkw7721D/rgeGQNj3VP3evXl6ug9U/A93bKybK1T+PCln5nRDWPxs41sYVV9Y/p2VTlI2d1j8zk9BhBeTWP7/ATS99Ktc/S+7K/PRw1z/XG0jKbLfXP2NJxZfk/dc/73ZCZVxE2D97pL8y1IrYPwfSPABM0dg/lP+5zcMX2T8gLTebO17ZP6xatGizpNk/OIgxNivr2T/Eta4DozHaP1DjK9EaeNo/3BCpnpK+2j9oPiZsCgXbP/RrozmCS9s/gJkgB/qR2z8Mx53UcdjbP5j0GqLpHtw/JCKYb2Fl3D+wTxU92avcPzx9kgpR8tw/yKoP2Mg43T9U2IylQH/dP+AFCnO4xd0/bDOHQDAM3j/4YAQOqFLeP4SOgdsfmd4/ELz+qJff3j+c6Xt2DybfPygX+UOHbN8/tER2Ef+y3z9AcvPedvnfP+ZPOFb3H+A/rOb2PDND4D9yfbUjb2bgPzgUdAqrieA//qoy8eas4D/EQfHXItDgP4rYr75e8+A/UG9upZoW4T8WBi2M1jnhP9yc63ISXeE/ojOqWU6A4T9oymhAiqPhPy5hJyfGxuE/9PflDQLq4T+6jqT0PQ3iP4AlY9t5MOI/RrwhwrVT4j8MU+Co8XbiP9Lpno8tmuI/mYBddmm94j9fFxxdpeDiPyWu2kPhA+M/60SZKh0n4z+x21cRWUrjP3dyFviUbeM/PQnV3tCQ4z8DoJPFDLTjP8k2UqxI1+M/j80Qk4T64z9VZM95wB3kPxv7jWD8QOQ/4ZFMRzhk5D+nKAsudIfkP22/yRSwquQ/M1aI++vN5D/57EbiJ/HkP7+DBcljFOU/hRrEr5835T9LsYKW21rlPxFIQX0XfuU/197/Y1Oh5T+edb5Kj8TlP2QMfTHL5+U/KqM7GAcL5j8=\",\"dtype\":\"float64\",\"order\":\"little\",\"shape\":[100]},\"right\":{\"__ndarray__\":\"ttaLhjEc0T9CBAlUqWLRP84xhiEhqdE/Wl8D75jv0T/mjIC8EDbSP3K6/YmIfNI//ud6VwDD0j+KFfgkeAnTPxZDdfLvT9M/onDyv2eW0z8unm+N39zTP7rL7FpXI9Q/R/lpKM9p1D/TJuf1RrDUP19UZMO+9tQ/64HhkDY91T93r15eroPVPwPd2ysmytU/jwpZ+Z0Q1j8bONbGFVfWP6dlU5SNndY/M5PQYQXk1j+/wE0vfSrXP0vuyvz0cNc/1xtIymy31z9jScWX5P3XP+92QmVcRNg/e6S/MtSK2D8H0jwATNHYP5T/uc3DF9k/IC03mzte2T+sWrRos6TZPziIMTYr69k/xLWuA6Mx2j9Q4yvRGnjaP9wQqZ6Svto/aD4mbAoF2z/0a6M5gkvbP4CZIAf6kds/DMed1HHY2z+Y9Bqi6R7cPyQimG9hZdw/sE8VPdmr3D88fZIKUfLcP8iqD9jION0/VNiMpUB/3T/gBQpzuMXdP2wzh0AwDN4/+GAEDqhS3j+EjoHbH5nePxC8/qiX394/nOl7dg8m3z8oF/lDh2zfP7REdhH/st8/QHLz3nb53z/mTzhW9x/gP6zm9jwzQ+A/cn21I29m4D84FHQKq4ngP/6qMvHmrOA/xEHx1yLQ4D+K2K++XvPgP1BvbqWaFuE/FgYtjNY54T/cnOtyEl3hP6IzqllOgOE/aMpoQIqj4T8uYScnxsbhP/T35Q0C6uE/uo6k9D0N4j+AJWPbeTDiP0a8IcK1U+I/DFPgqPF24j/S6Z6PLZriP5mAXXZpveI/XxccXaXg4j8lrtpD4QPjP+tEmSodJ+M/sdtXEVlK4z93chb4lG3jPz0J1d7QkOM/A6CTxQy04z/JNlKsSNfjP4/NEJOE+uM/VWTPecAd5D8b+41g/EDkP+GRTEc4ZOQ/pygLLnSH5D9tv8kUsKrkPzNWiPvrzeQ/+exG4ifx5D+/gwXJYxTlP4UaxK+fN+U/S7GCltta5T8RSEF9F37lP9fe/2NToeU/nnW+So/E5T9kDH0xy+flPyqjOxgHC+Y/7zn6/kIu5j8=\",\"dtype\":\"float64\",\"order\":\"little\",\"shape\":[100]},\"top\":{\"__ndarray__\":\"+LTdGKjmyz8qu7vPs37jPyRsY782QNc/kVWTce5SyD9B+1I6zZ28Px57eNGepj5AUSPpZcWZsj+ZaV6H6lDDP2AUKMBhes8/aCjz1V142j++0Ysd/GviP5lpXofqUMM/TKTrgWuR9D9B+1I6zZ28P9CHPX0XDM4/cDy+61l2xT9B+1I6zZ2sPxI3/6lkqRFAIeJ9tDjBuT/ZmwiTEwrZP9CHPX0XDL4/cDy+61l29T9B+1I6zZ2cP0H7UjrNnbw/PXFtL88e3z/8PsMjpmXZP8CW/iJ7K6E/sW5o94Ivyz+RVZNx7lK4PzhVk3HuUrg/QftSOs2dnD8AyagupOSWPwDJqC6k5IY/tUkXcQ7cRkBB+1I6zZ2cPyHifbQ4wak/YBQowGF6rz9B+1I6zZ2sP0kPHlDJm8c/AMmoLqTkpj/Alv4ieyvBP2go89VdeMo/wJb+InsroT9PXnZgRtrjPwDJqC6k5IY/0Ic9fRcMvj/Alv4ieyuhP8CW/iJ7K5E/JjHWxLX/9T9B+1I6zZ2cP2AUKMBheq8/CN1zRKDi0T9B+1I6zZ2cP9CHPX0XDL4/4a/TqA8IpD8AyagupOSGPwDJqC6k5JY/56JZKzq0GEAAyagupOR2P8CW/iJ7K5E/wJb+InsroT8h4n20OMGpP0H7UjrNnaw/4a/TqA8IpD8AyagupOTGP+Gv06gPCKQ/YBQowGF6rz8AyagupOSGP0dKq0pK3Pg/AMmoLqTkhj8AyagupOSGPwDJqC6k5JY/wJb+InsrsT8AyagupOSWP1rIqC6k5HY/9Cr4Dapn3j8AyagupOR2PwDJqC6k5HY/wJb+InsrkT/ZmwiTEwrJPwDJqC6k5IY/AMmoLqTklj+RVZNx7lK4PwDJqC6k5HY/YBQowGF6rz/Alv4ieyuRP+Gv06gPCKQ/AMmoLqTkhj/Alv4ieyuhPwDJqC6k5JY/AMmoLqTklj8AyagupOSWPwDJqC6k5IY/AMmoLqTkdj8AAAAAAAAAAADJqC6k5IY/WsioLqTkdj8AyagupOSGPwAAAAAAAAAAjKT/lVZIYEA=\",\"dtype\":\"float64\",\"order\":\"little\",\"shape\":[100]}},\"selected\":{\"id\":\"4405\"},\"selection_policy\":{\"id\":\"4406\"}},\"id\":\"4222\",\"type\":\"ColumnDataSource\"},{\"attributes\":{},\"id\":\"4199\",\"type\":\"DataRange1d\"},{\"attributes\":{},\"id\":\"4214\",\"type\":\"WheelZoomTool\"},{\"attributes\":{\"active_multi\":null,\"tools\":[{\"id\":\"4213\"},{\"id\":\"4214\"},{\"id\":\"4215\"},{\"id\":\"4216\"}]},\"id\":\"4217\",\"type\":\"Toolbar\"},{\"attributes\":{},\"id\":\"4206\",\"type\":\"BasicTicker\"},{\"attributes\":{},\"id\":\"4197\",\"type\":\"DataRange1d\"},{\"attributes\":{},\"id\":\"4404\",\"type\":\"AllLabels\"},{\"attributes\":{},\"id\":\"4203\",\"type\":\"LinearScale\"},{\"attributes\":{},\"id\":\"4213\",\"type\":\"PanTool\"},{\"attributes\":{\"text\":\"PL Terms Ratios Affinity Distribution\"},\"id\":\"4195\",\"type\":\"Title\"}],\"root_ids\":[\"4194\"]},\"title\":\"Bokeh Application\",\"version\":\"2.3.3\"}};\n",
       "  var render_items = [{\"docid\":\"c3f4acba-0d57-4d35-b299-747a74c9418d\",\"root_ids\":[\"4194\"],\"roots\":{\"4194\":\"3180fc82-12a4-4578-a7c9-6c33805cf6c1\"}}];\n",
       "  root.Bokeh.embed.embed_items_notebook(docs_json, render_items);\n",
       "\n",
       "  }\n",
       "  if (root.Bokeh !== undefined) {\n",
       "    embed_document(root);\n",
       "  } else {\n",
       "    var attempts = 0;\n",
       "    var timer = setInterval(function(root) {\n",
       "      if (root.Bokeh !== undefined) {\n",
       "        clearInterval(timer);\n",
       "        embed_document(root);\n",
       "      } else {\n",
       "        attempts++;\n",
       "        if (attempts > 100) {\n",
       "          clearInterval(timer);\n",
       "          console.log(\"Bokeh: ERROR: Unable to run BokehJS code because BokehJS library is missing\");\n",
       "        }\n",
       "      }\n",
       "    }, 10, root)\n",
       "  }\n",
       "})(window);"
      ],
      "application/vnd.bokehjs_exec.v0+json": ""
     },
     "metadata": {
      "application/vnd.bokehjs_exec.v0+json": {
       "id": "4194"
      }
     },
     "output_type": "display_data"
    },
    {
     "data": {
      "text/html": [
       "\n",
       "\n",
       "\n",
       "\n",
       "\n",
       "\n",
       "  <div class=\"bk-root\" id=\"4e9bf4d5-7cd6-4ea4-8e36-5979c07c1874\" data-root-id=\"4452\"></div>\n"
      ]
     },
     "metadata": {},
     "output_type": "display_data"
    },
    {
     "data": {
      "application/javascript": [
       "(function(root) {\n",
       "  function embed_document(root) {\n",
       "    \n",
       "  var docs_json = {\"2515a19e-d64a-4f00-86e7-df6d9ae97a56\":{\"defs\":[],\"roots\":{\"references\":[{\"attributes\":{\"below\":[{\"id\":\"4463\"}],\"center\":[{\"id\":\"4466\"},{\"id\":\"4470\"}],\"left\":[{\"id\":\"4467\"}],\"renderers\":[{\"id\":\"4483\"}],\"title\":{\"id\":\"4453\"},\"toolbar\":{\"id\":\"4475\"},\"toolbar_location\":\"above\",\"x_range\":{\"id\":\"4455\"},\"x_scale\":{\"id\":\"4459\"},\"y_range\":{\"id\":\"4457\"},\"y_scale\":{\"id\":\"4461\"}},\"id\":\"4452\",\"subtype\":\"Figure\",\"type\":\"Plot\"},{\"attributes\":{},\"id\":\"4474\",\"type\":\"SaveTool\"},{\"attributes\":{\"source\":{\"id\":\"4480\"}},\"id\":\"4484\",\"type\":\"CDSView\"},{\"attributes\":{},\"id\":\"4666\",\"type\":\"BasicTickFormatter\"},{\"attributes\":{\"data_source\":{\"id\":\"4480\"},\"glyph\":{\"id\":\"4481\"},\"hover_glyph\":null,\"muted_glyph\":null,\"nonselection_glyph\":{\"id\":\"4482\"},\"view\":{\"id\":\"4484\"}},\"id\":\"4483\",\"type\":\"GlyphRenderer\"},{\"attributes\":{},\"id\":\"4471\",\"type\":\"PanTool\"},{\"attributes\":{\"active_multi\":null,\"tools\":[{\"id\":\"4471\"},{\"id\":\"4472\"},{\"id\":\"4473\"},{\"id\":\"4474\"}]},\"id\":\"4475\",\"type\":\"Toolbar\"},{\"attributes\":{},\"id\":\"4472\",\"type\":\"WheelZoomTool\"},{\"attributes\":{},\"id\":\"4455\",\"type\":\"DataRange1d\"},{\"attributes\":{},\"id\":\"4668\",\"type\":\"AllLabels\"},{\"attributes\":{},\"id\":\"4673\",\"type\":\"UnionRenderers\"},{\"attributes\":{},\"id\":\"4457\",\"type\":\"DataRange1d\"},{\"attributes\":{\"formatter\":{\"id\":\"4666\"},\"major_label_policy\":{\"id\":\"4668\"},\"ticker\":{\"id\":\"4468\"}},\"id\":\"4467\",\"type\":\"LinearAxis\"},{\"attributes\":{},\"id\":\"4671\",\"type\":\"AllLabels\"},{\"attributes\":{},\"id\":\"4468\",\"type\":\"BasicTicker\"},{\"attributes\":{},\"id\":\"4473\",\"type\":\"ResetTool\"},{\"attributes\":{\"bottom\":{\"value\":0},\"fill_color\":{\"value\":\"#1f77b4\"},\"left\":{\"field\":\"left\"},\"line_color\":{\"value\":\"#555555\"},\"right\":{\"field\":\"right\"},\"top\":{\"field\":\"top\"}},\"id\":\"4481\",\"type\":\"Quad\"},{\"attributes\":{\"axis\":{\"id\":\"4463\"},\"ticker\":null},\"id\":\"4466\",\"type\":\"Grid\"},{\"attributes\":{},\"id\":\"4459\",\"type\":\"LinearScale\"},{\"attributes\":{},\"id\":\"4672\",\"type\":\"Selection\"},{\"attributes\":{\"formatter\":{\"id\":\"4669\"},\"major_label_policy\":{\"id\":\"4671\"},\"ticker\":{\"id\":\"4464\"}},\"id\":\"4463\",\"type\":\"LinearAxis\"},{\"attributes\":{},\"id\":\"4461\",\"type\":\"LinearScale\"},{\"attributes\":{},\"id\":\"4669\",\"type\":\"BasicTickFormatter\"},{\"attributes\":{\"bottom\":{\"value\":0},\"fill_alpha\":{\"value\":0.1},\"fill_color\":{\"value\":\"#1f77b4\"},\"left\":{\"field\":\"left\"},\"line_alpha\":{\"value\":0.1},\"line_color\":{\"value\":\"#555555\"},\"right\":{\"field\":\"right\"},\"top\":{\"field\":\"top\"}},\"id\":\"4482\",\"type\":\"Quad\"},{\"attributes\":{\"data\":{\"left\":{\"__ndarray__\":\"cWT/Adzn0D8TuTxjJS7RP7YNesRudNE/WGK3Jbi60T/6tvSGAQHSP50LMuhKR9I/P2BvSZSN0j/itKyq3dPSP4QJ6gsnGtM/Jl4nbXBg0z/JsmTOuabTP2sHoi8D7dM/DlzfkEwz1D+wsBzylXnUP1IFWlPfv9Q/9FmXtCgG1T+XrtQVckzVPzoDEne7ktU/3FdP2ATZ1T9+rIw5Th/WPyABypqXZdY/w1UH/OCr1j9lqkRdKvLWPwj/gb5zONc/qlO/H71+1z9MqPyABsXXP+/8OeJPC9g/kVF3Q5lR2D80prSk4pfYP9b68QUs3tg/eE8vZ3Uk2T8apGzIvmrZP734qSkIsdk/YE3nilH32T8CoiTsmj3aP6T2YU3kg9o/Rkufri3K2j/pn9wPdxDbP4v0GXHAVts/LklX0gmd2z/QnZQzU+PbP3Ly0ZScKdw/FUcP9uVv3D+3m0xXL7bcP1rwibh4/Nw//ETHGcJC3T+emQR7C4ndP0DuQdxUz90/40J/PZ4V3j+Gl7ye51vePyjs+f8wot4/ykA3YXro3j9slXTCwy7fPw/qsSMNdd8/sT7vhFa73z+qSRbzzwDgP/vztKP0I+A/TJ5TVBlH4D+eSPIEPmrgP+7ykLVijeA/QJ0vZoew4D+RR84WrNPgP+LxbMfQ9uA/NJwLePUZ4T+ERqooGj3hP9bwSNk+YOE/J5vniWOD4T94RYY6iKbhP8rvJOusyeE/GprDm9Hs4T9sRGJM9g/iP73uAP0aM+I/DpmfrT9W4j9fQz5eZHniP7Dt3A6JnOI/Aph7v62/4j9SQhpw0uLiP6TsuCD3BeM/9ZZX0Rsp4z9GQfaBQEzjP5jrlDJlb+M/6JUz44mS4z86QNKTrrXjP4vqcETT2OM/3JQP9ff74z8uP66lHB/kP37pTFZBQuQ/0JPrBmZl5D8hPoq3iojkP3LoKGivq+Q/xJLHGNTO5D8UPWbJ+PHkP2bnBHodFeU/t5GjKkI45T8IPELbZlvlP1rm4IuLfuU/qpB/PLCh5T/8Oh7t1MTlP03lvJ355+U/no9bTh4L5j8=\",\"dtype\":\"float64\",\"order\":\"little\",\"shape\":[100]},\"right\":{\"__ndarray__\":\"E7k8YyUu0T+2DXrEbnTRP1hityW4utE/+rb0hgEB0j+dCzLoSkfSPz9gb0mUjdI/4rSsqt3T0j+ECeoLJxrTPyZeJ21wYNM/ybJkzrmm0z9rB6IvA+3TPw5c35BMM9Q/sLAc8pV51D9SBVpT37/UP/RZl7QoBtU/l67UFXJM1T86AxJ3u5LVP9xXT9gE2dU/fqyMOU4f1j8gAcqal2XWP8NVB/zgq9Y/ZapEXSry1j8I/4G+czjXP6pTvx+9ftc/TKj8gAbF1z/v/DniTwvYP5FRd0OZUdg/NKa0pOKX2D/W+vEFLN7YP3hPL2d1JNk/GqRsyL5q2T+9+KkpCLHZP2BN54pR99k/AqIk7Jo92j+k9mFN5IPaP0ZLn64tyto/6Z/cD3cQ2z+L9BlxwFbbPy5JV9IJnds/0J2UM1Pj2z9y8tGUnCncPxVHD/blb9w/t5tMVy+23D9a8Im4ePzcP/xExxnCQt0/npkEewuJ3T9A7kHcVM/dP+NCfz2eFd4/hpe8nudb3j8o7Pn/MKLeP8pAN2F66N4/bJV0wsMu3z8P6rEjDXXfP7E+74RWu98/qkkW888A4D/787Sj9CPgP0yeU1QZR+A/nkjyBD5q4D/u8pC1Yo3gP0CdL2aHsOA/kUfOFqzT4D/i8WzH0PbgPzScC3j1GeE/hEaqKBo94T/W8EjZPmDhPyeb54ljg+E/eEWGOoim4T/K7yTrrMnhPxqaw5vR7OE/bERiTPYP4j+97gD9GjPiPw6Zn60/VuI/X0M+XmR54j+w7dwOiZziPwKYe7+tv+I/UkIacNLi4j+k7Lgg9wXjP/WWV9EbKeM/RkH2gUBM4z+Y65QyZW/jP+iVM+OJkuM/OkDSk6614z+L6nBE09jjP9yUD/X3++M/Lj+upRwf5D9+6UxWQULkP9CT6wZmZeQ/IT6Kt4qI5D9y6Chor6vkP8SSxxjUzuQ/FD1myfjx5D9m5wR6HRXlP7eRoypCOOU/CDxC22Zb5T9a5uCLi37lP6qQfzywoeU//Doe7dTE5T9N5byd+eflP56PW04eC+Y/7zn6/kIu5j8=\",\"dtype\":\"float64\",\"order\":\"little\",\"shape\":[100]},\"top\":{\"__ndarray__\":\"1Y9D3DQd1z+Bj0PcNB3HP9WPQ9w0Hcc/FAcK7Q9Ruz+73BlDbM+AP29XRmI7OkBA6lPgU0cDpT90y6ZkIje5P3TLpmQiN7k/u9wZQ2zPwD+lLXWgKyrYPxnLpmQiN7k/uNDk2VaH6j90y6ZkIjepP8h6Swdj3ME/u9wZQ2zPsD9rKCoJLloNQPjcGUNsz6A/lxh9y1npsj/Vj0PcNB3HP7vcGUNsz6A/hXUNki6M8D8Zy6ZkIjeZPzZU4FNHA7U/sElkad5i0j9HQm11/Wq9P7NCbXX9ar0/R0Jtdf1qrT/43BlDbM+gP3TLpmQiN5k/AAAAAAAAAAAAAAAAAAAAAFNmh2xvnkdAAAAAAAAAAAAAAAAAAAAAAAAAAAAAAAAAGcumZCI3mT/43BlDbM+AP4d6Swdj3ME/NlTgU0cDtT/43BlDbM+QP7vcGUNsz8A/+NwZQ2zPgD8455Ut1W/TP/jcGUNsz6A/dMumZCI3qT8AAAAAAAAAAD2f/TvSDes/AAAAAAAAAAAAAAAAAAAAADZU4FNHA6U/Z7auj1D2wz+73BlDbM+AP/jcGUNsz6A/u9wZQ2zPkD/43BlDbM+AP/jcGUNsz5A/A1p0d21nE0Bz3RlDbM+AP37cGUNsz5A/dMumZCI3mT90y6ZkIjeZP9xBbXX9aq0/AAAAAAAAAABsfdD96oS/P/jcGUNsz4A/dMumZCI3mT8AAAAAAAAAAMIXxEytQe8/ftwZQ2zPgD/43BlDbM+AP/jcGUNsz6A/dMumZCI3qT/43BlDbM+QPwAAAAAAAAAApvIRGD4Q1j8AAAAAAAAAAPjcGUNsz4A/+NwZQ2zPgD9NBgrtD1G7PwAAAAAAAAAAftwZQ2zPgD/Vj0PcNB23P/jcGUNsz5A/ftwZQ2zPsD9z3RlDbM+AP37cGUNsz4A/+NwZQ2zPgD/43BlDbM+AP37cGUNsz5A/0FTgU0cDpT9+3BlDbM+gP/jcGUNsz4A/+NwZQ2zPkD9+3BlDbM+QP3PdGUNsz4A/AAAAAAAAAAAAAAAAAAAAAAAAAAAAAAAASUtwMSD9YEA=\",\"dtype\":\"float64\",\"order\":\"little\",\"shape\":[100]}},\"selected\":{\"id\":\"4672\"},\"selection_policy\":{\"id\":\"4673\"}},\"id\":\"4480\",\"type\":\"ColumnDataSource\"},{\"attributes\":{},\"id\":\"4464\",\"type\":\"BasicTicker\"},{\"attributes\":{\"text\":\"JO Terms Ratios Affinity Distribution\"},\"id\":\"4453\",\"type\":\"Title\"},{\"attributes\":{\"axis\":{\"id\":\"4467\"},\"dimension\":1,\"ticker\":null},\"id\":\"4470\",\"type\":\"Grid\"}],\"root_ids\":[\"4452\"]},\"title\":\"Bokeh Application\",\"version\":\"2.3.3\"}};\n",
       "  var render_items = [{\"docid\":\"2515a19e-d64a-4f00-86e7-df6d9ae97a56\",\"root_ids\":[\"4452\"],\"roots\":{\"4452\":\"4e9bf4d5-7cd6-4ea4-8e36-5979c07c1874\"}}];\n",
       "  root.Bokeh.embed.embed_items_notebook(docs_json, render_items);\n",
       "\n",
       "  }\n",
       "  if (root.Bokeh !== undefined) {\n",
       "    embed_document(root);\n",
       "  } else {\n",
       "    var attempts = 0;\n",
       "    var timer = setInterval(function(root) {\n",
       "      if (root.Bokeh !== undefined) {\n",
       "        clearInterval(timer);\n",
       "        embed_document(root);\n",
       "      } else {\n",
       "        attempts++;\n",
       "        if (attempts > 100) {\n",
       "          clearInterval(timer);\n",
       "          console.log(\"Bokeh: ERROR: Unable to run BokehJS code because BokehJS library is missing\");\n",
       "        }\n",
       "      }\n",
       "    }, 10, root)\n",
       "  }\n",
       "})(window);"
      ],
      "application/vnd.bokehjs_exec.v0+json": ""
     },
     "metadata": {
      "application/vnd.bokehjs_exec.v0+json": {
       "id": "4452"
      }
     },
     "output_type": "display_data"
    },
    {
     "data": {
      "text/html": [
       "\n",
       "\n",
       "\n",
       "\n",
       "\n",
       "\n",
       "  <div class=\"bk-root\" id=\"b470a32d-cd46-4981-b824-94e192497fe8\" data-root-id=\"4719\"></div>\n"
      ]
     },
     "metadata": {},
     "output_type": "display_data"
    },
    {
     "data": {
      "application/javascript": [
       "(function(root) {\n",
       "  function embed_document(root) {\n",
       "    \n",
       "  var docs_json = {\"82827549-e9b7-43ef-aa74-60ac21e2c108\":{\"defs\":[],\"roots\":{\"references\":[{\"attributes\":{\"below\":[{\"id\":\"4730\"}],\"center\":[{\"id\":\"4733\"},{\"id\":\"4737\"}],\"left\":[{\"id\":\"4734\"}],\"renderers\":[{\"id\":\"4750\"}],\"title\":{\"id\":\"4720\"},\"toolbar\":{\"id\":\"4742\"},\"toolbar_location\":\"above\",\"x_range\":{\"id\":\"4722\"},\"x_scale\":{\"id\":\"4726\"},\"y_range\":{\"id\":\"4724\"},\"y_scale\":{\"id\":\"4728\"}},\"id\":\"4719\",\"subtype\":\"Figure\",\"type\":\"Plot\"},{\"attributes\":{\"data_source\":{\"id\":\"4747\"},\"glyph\":{\"id\":\"4748\"},\"hover_glyph\":null,\"muted_glyph\":null,\"nonselection_glyph\":{\"id\":\"4749\"},\"view\":{\"id\":\"4751\"}},\"id\":\"4750\",\"type\":\"GlyphRenderer\"},{\"attributes\":{},\"id\":\"4731\",\"type\":\"BasicTicker\"},{\"attributes\":{\"text\":\"LY Terms Ratios Affinity Distribution\"},\"id\":\"4720\",\"type\":\"Title\"},{\"attributes\":{\"active_multi\":null,\"tools\":[{\"id\":\"4738\"},{\"id\":\"4739\"},{\"id\":\"4740\"},{\"id\":\"4741\"}]},\"id\":\"4742\",\"type\":\"Toolbar\"},{\"attributes\":{\"bottom\":{\"value\":0},\"fill_alpha\":{\"value\":0.1},\"fill_color\":{\"value\":\"#1f77b4\"},\"left\":{\"field\":\"left\"},\"line_alpha\":{\"value\":0.1},\"line_color\":{\"value\":\"#555555\"},\"right\":{\"field\":\"right\"},\"top\":{\"field\":\"top\"}},\"id\":\"4749\",\"type\":\"Quad\"},{\"attributes\":{},\"id\":\"4942\",\"type\":\"BasicTickFormatter\"},{\"attributes\":{},\"id\":\"4738\",\"type\":\"PanTool\"},{\"attributes\":{},\"id\":\"4739\",\"type\":\"WheelZoomTool\"},{\"attributes\":{},\"id\":\"4944\",\"type\":\"AllLabels\"},{\"attributes\":{\"bottom\":{\"value\":0},\"fill_color\":{\"value\":\"#1f77b4\"},\"left\":{\"field\":\"left\"},\"line_color\":{\"value\":\"#555555\"},\"right\":{\"field\":\"right\"},\"top\":{\"field\":\"top\"}},\"id\":\"4748\",\"type\":\"Quad\"},{\"attributes\":{},\"id\":\"4945\",\"type\":\"BasicTickFormatter\"},{\"attributes\":{},\"id\":\"4740\",\"type\":\"ResetTool\"},{\"attributes\":{},\"id\":\"4948\",\"type\":\"Selection\"},{\"attributes\":{},\"id\":\"4741\",\"type\":\"SaveTool\"},{\"attributes\":{\"source\":{\"id\":\"4747\"}},\"id\":\"4751\",\"type\":\"CDSView\"},{\"attributes\":{},\"id\":\"4947\",\"type\":\"AllLabels\"},{\"attributes\":{},\"id\":\"4722\",\"type\":\"DataRange1d\"},{\"attributes\":{},\"id\":\"4949\",\"type\":\"UnionRenderers\"},{\"attributes\":{},\"id\":\"4724\",\"type\":\"DataRange1d\"},{\"attributes\":{\"axis\":{\"id\":\"4730\"},\"ticker\":null},\"id\":\"4733\",\"type\":\"Grid\"},{\"attributes\":{\"data\":{\"left\":{\"__ndarray__\":\"HRvY8irZ0D97MGXwmR/RP9lF8u0IZtE/N1t/63es0T+VcAzp5vLRP/SFmeZVOdI/Upsm5MR/0j+wsLPhM8bSPw7GQN+iDNM/bNvN3BFT0z/K8FragJnTPygG6Nfv39M/hht11V4m1D/kMALTzWzUP0JGj9A8s9Q/oFsczqv51D/+cKnLGkDVP1yGNsmJhtU/u5vDxvjM1T8ZsVDEZxPWP3fG3cHWWdY/1dtqv0Wg1j8z8fe8tObWP5EGhbojLdc/7xsSuJJz1z9NMZ+1AbrXP6xGLLNwANg/Cly5sN9G2D9ocUauTo3YP8aG06u909g/JJxgqSwa2T+Cse2mm2DZP+DGeqQKp9k/PtwHonnt2T+c8ZSf6DPaP/oGIp1Xeto/WByvmsbA2j+2MTyYNQfbPxRHyZWkTds/clxWkxOU2z/RceOQgtrbPy+HcI7xINw/jZz9i2Bn3D/rsYqJz63cP0nHF4c+9Nw/p9ykhK063T8G8jGCHIHdP2QHv3+Lx90/whxMffoN3j8gMtl6aVTeP35HZnjYmt4/3FzzdUfh3j86coBztiffP5iHDXElbt8/9pyabpS03z9UsidsA/vfP9lj2jS5IOA/iO6gs/BD4D83eWcyKGfgP+YDLrFfiuA/lo70L5et4D9EGbuuztDgP/SjgS0G9OA/oi5IrD0X4T9SuQ4rdTrhPwBE1amsXeE/sM6bKOSA4T9eWWKnG6ThPw7kKCZTx+E/vG7vpIrq4T9s+bUjwg3iPxuEfKL5MOI/yg5DITFU4j95mQmgaHfiPygk0B6gmuI/166Wnde94j+GOV0cD+HiPzXEI5tGBOM/5E7qGX4n4z+T2bCYtUrjP0JkdxftbeM/8u49liSR4z+geQQVXLTjP1AEy5OT1+M//o6REsv64z+uGViRAh7kP1ykHhA6QeQ/DC/ljnFk5D+6uasNqYfkP2pEcozgquQ/GM84CxjO5D/IWf+JT/HkP3fkxQiHFOU/Jm+Mh7435T/V+VIG9lrlP4SEGYUtfuU/Mw/gA2Wh5T/imaaCnMTlP5EkbQHU5+U/QK8zgAsL5j8=\",\"dtype\":\"float64\",\"order\":\"little\",\"shape\":[100]},\"right\":{\"__ndarray__\":\"ezBl8Jkf0T/ZRfLtCGbRPzdbf+t3rNE/lXAM6eby0T/0hZnmVTnSP1KbJuTEf9I/sLCz4TPG0j8OxkDfogzTP2zbzdwRU9M/yvBa2oCZ0z8oBujX79/TP4YbddVeJtQ/5DAC081s1D9CRo/QPLPUP6BbHM6r+dQ//nCpyxpA1T9chjbJiYbVP7ubw8b4zNU/GbFQxGcT1j93xt3B1lnWP9Xbar9FoNY/M/H3vLTm1j+RBoW6Iy3XP+8bEriSc9c/TTGftQG61z+sRiyzcADYPwpcubDfRtg/aHFGrk6N2D/GhtOrvdPYPyScYKksGtk/grHtpptg2T/gxnqkCqfZPz7cB6J57dk/nPGUn+gz2j/6BiKdV3raP1gcr5rGwNo/tjE8mDUH2z8UR8mVpE3bP3JcVpMTlNs/0XHjkILa2z8vh3CO8SDcP42c/YtgZ9w/67GKic+t3D9JxxeHPvTcP6fcpIStOt0/BvIxghyB3T9kB79/i8fdP8IcTH36Dd4/IDLZemlU3j9+R2Z42JreP9xc83VH4d4/OnKAc7Yn3z+Yhw1xJW7fP/acmm6UtN8/VLInbAP73z/ZY9o0uSDgP4juoLPwQ+A/N3lnMihn4D/mAy6xX4rgP5aO9C+XreA/RBm7rs7Q4D/0o4EtBvTgP6IuSKw9F+E/UrkOK3U64T8ARNWprF3hP7DOmyjkgOE/Xllipxuk4T8O5CgmU8fhP7xu76SK6uE/bPm1I8IN4j8bhHyi+TDiP8oOQyExVOI/eZkJoGh34j8oJNAeoJriP9eulp3XveI/hjldHA/h4j81xCObRgTjP+RO6hl+J+M/k9mwmLVK4z9CZHcX7W3jP/LuPZYkkeM/oHkEFVy04z9QBMuTk9fjP/6OkRLL+uM/rhlYkQIe5D9cpB4QOkHkPwwv5Y5xZOQ/urmrDamH5D9qRHKM4KrkPxjPOAsYzuQ/yFn/iU/x5D935MUIhxTlPyZvjIe+N+U/1flSBvZa5T+EhBmFLX7lPzMP4ANloeU/4pmmgpzE5T+RJG0B1OflP0CvM4ALC+Y/7zn6/kIu5j8=\",\"dtype\":\"float64\",\"order\":\"little\",\"shape\":[100]},\"top\":{\"__ndarray__\":\"D6UG5KnGwj/PPGnvBPzWP6VgxGfbE88/N733vaCLyj8oSNON5E63P7LYNckpiTdAGeuCmue3hD8Z64Ka57fEPw+lBuSpxsI/bd8Y/Adl1D/aguWlQu3YPxnrgprnt7Q/TEnwKhxu7j8Z64Ka57e0P/13mKSauc8/Z7zaIGlssz+2jTKn6iCiP25uOh/X6wtApWDEZ9sTvz8td3sHY5rIP0IDdHTefKw/nz2GjDwb7j9CA3R03nysP7aNMqfqILI/PeA1mT+E2z97GSsUZgPGP7aNMqfqIKI/wNOuXSgSxD/zMRzuXMi9P9+lI4Hh5Zk/fEjTjeROpz+lYMRn2xOPP6VgxGfbE48/2hSkqGSMQkClYMRn2xOfP7aNMqfqIKI/to0yp+ogoj+lYMRn2xOvPwRfii1s1bA/zeqCmue3lD/VX6fKo/THPy13ewdjmsg/GeuCmue3pD/kyGFcgN7aPwAAAAAAAAAA2wJ0dN58vD8EX4otbNWwPxnrgprnt4Q/CoLICAvO8T98SNON5E6nP7aNMqfqILI/BF+KLWzV0D+lYMRn2xOfP2e82iBpbMM/yhkrFGYDtj98SNON5E6nPxnrgprnt5Q/R0PhxLtGFkAZ64Ka57eEP8NfxGfbE48/JUnTjeROpz9zAnR03nysPyFItvCsL8A/g+qCmue3dD/0vNogaWzTP9q72iBpbLM/Oo4yp+ogoj/DX8Rn2xOfP8lpBVBnwvs/I6UjgeHlmT8Z64Ka57d0P3xI043kTqc/36UjgeHluT/fpSOB4eWpPxnrgprnt5Q/cgJX16Zd5T8Z64Ka57eUP2e82iBpbLM/GeuCmue3hD/PPGnvBPzWP4Pqgprnt5Q/EgR0dN58rD9vSPAqHG7OP5umI4Hh5Zk/2rvaIGlswz+bpiOB4eWZPzVHtvCsL8A/h2HEZ9sTjz/DX8Rn2xO/PzqOMqfqILI/Mo0yp+ogsj+2jTKn6iCiP0IDdHTefKw/pWDEZ9sTnz+2jTKn6iCiP6VgxGfbE58/pWDEZ9sTnz/fpSOB4eWZPxnrgprnt4Q/4YOth8yaYkA=\",\"dtype\":\"float64\",\"order\":\"little\",\"shape\":[100]}},\"selected\":{\"id\":\"4948\"},\"selection_policy\":{\"id\":\"4949\"}},\"id\":\"4747\",\"type\":\"ColumnDataSource\"},{\"attributes\":{},\"id\":\"4726\",\"type\":\"LinearScale\"},{\"attributes\":{\"formatter\":{\"id\":\"4942\"},\"major_label_policy\":{\"id\":\"4944\"},\"ticker\":{\"id\":\"4735\"}},\"id\":\"4734\",\"type\":\"LinearAxis\"},{\"attributes\":{},\"id\":\"4728\",\"type\":\"LinearScale\"},{\"attributes\":{\"formatter\":{\"id\":\"4945\"},\"major_label_policy\":{\"id\":\"4947\"},\"ticker\":{\"id\":\"4731\"}},\"id\":\"4730\",\"type\":\"LinearAxis\"},{\"attributes\":{\"axis\":{\"id\":\"4734\"},\"dimension\":1,\"ticker\":null},\"id\":\"4737\",\"type\":\"Grid\"},{\"attributes\":{},\"id\":\"4735\",\"type\":\"BasicTicker\"}],\"root_ids\":[\"4719\"]},\"title\":\"Bokeh Application\",\"version\":\"2.3.3\"}};\n",
       "  var render_items = [{\"docid\":\"82827549-e9b7-43ef-aa74-60ac21e2c108\",\"root_ids\":[\"4719\"],\"roots\":{\"4719\":\"b470a32d-cd46-4981-b824-94e192497fe8\"}}];\n",
       "  root.Bokeh.embed.embed_items_notebook(docs_json, render_items);\n",
       "\n",
       "  }\n",
       "  if (root.Bokeh !== undefined) {\n",
       "    embed_document(root);\n",
       "  } else {\n",
       "    var attempts = 0;\n",
       "    var timer = setInterval(function(root) {\n",
       "      if (root.Bokeh !== undefined) {\n",
       "        clearInterval(timer);\n",
       "        embed_document(root);\n",
       "      } else {\n",
       "        attempts++;\n",
       "        if (attempts > 100) {\n",
       "          clearInterval(timer);\n",
       "          console.log(\"Bokeh: ERROR: Unable to run BokehJS code because BokehJS library is missing\");\n",
       "        }\n",
       "      }\n",
       "    }, 10, root)\n",
       "  }\n",
       "})(window);"
      ],
      "application/vnd.bokehjs_exec.v0+json": ""
     },
     "metadata": {
      "application/vnd.bokehjs_exec.v0+json": {
       "id": "4719"
      }
     },
     "output_type": "display_data"
    },
    {
     "data": {
      "text/html": [
       "\n",
       "\n",
       "\n",
       "\n",
       "\n",
       "\n",
       "  <div class=\"bk-root\" id=\"f9d8fc2e-3547-40bc-85f9-9c51dd406f53\" data-root-id=\"4995\"></div>\n"
      ]
     },
     "metadata": {},
     "output_type": "display_data"
    },
    {
     "data": {
      "application/javascript": [
       "(function(root) {\n",
       "  function embed_document(root) {\n",
       "    \n",
       "  var docs_json = {\"a5a89161-7b50-4784-9424-c5d85094aad5\":{\"defs\":[],\"roots\":{\"references\":[{\"attributes\":{\"below\":[{\"id\":\"5006\"}],\"center\":[{\"id\":\"5009\"},{\"id\":\"5013\"}],\"left\":[{\"id\":\"5010\"}],\"renderers\":[{\"id\":\"5026\"}],\"title\":{\"id\":\"4996\"},\"toolbar\":{\"id\":\"5018\"},\"toolbar_location\":\"above\",\"x_range\":{\"id\":\"4998\"},\"x_scale\":{\"id\":\"5002\"},\"y_range\":{\"id\":\"5000\"},\"y_scale\":{\"id\":\"5004\"}},\"id\":\"4995\",\"subtype\":\"Figure\",\"type\":\"Plot\"},{\"attributes\":{\"bottom\":{\"value\":0},\"fill_alpha\":{\"value\":0.1},\"fill_color\":{\"value\":\"#1f77b4\"},\"left\":{\"field\":\"left\"},\"line_alpha\":{\"value\":0.1},\"line_color\":{\"value\":\"#555555\"},\"right\":{\"field\":\"right\"},\"top\":{\"field\":\"top\"}},\"id\":\"5025\",\"type\":\"Quad\"},{\"attributes\":{\"source\":{\"id\":\"5023\"}},\"id\":\"5027\",\"type\":\"CDSView\"},{\"attributes\":{\"text\":\"BH Terms Ratios Affinity Distribution\"},\"id\":\"4996\",\"type\":\"Title\"},{\"attributes\":{\"active_multi\":null,\"tools\":[{\"id\":\"5014\"},{\"id\":\"5015\"},{\"id\":\"5016\"},{\"id\":\"5017\"}]},\"id\":\"5018\",\"type\":\"Toolbar\"},{\"attributes\":{},\"id\":\"5014\",\"type\":\"PanTool\"},{\"attributes\":{},\"id\":\"5227\",\"type\":\"BasicTickFormatter\"},{\"attributes\":{},\"id\":\"5015\",\"type\":\"WheelZoomTool\"},{\"attributes\":{\"data\":{\"left\":{\"__ndarray__\":\"IsTW5cDZ0D+cJIVjLiDRPxaFM+GbZtE/keXhXgmt0T8LRpDcdvPRP4WmPlrkOdI//wbt11GA0j95Z5tVv8bSP/THSdMsDdM/bij4UJpT0z/oiKbOB5rTP2LpVEx14NM/3EkDyuIm1D9XqrFHUG3UP9EKYMW9s9Q/S2sOQyv61D/Fy7zAmEDVP0Asaz4Gh9U/uowZvHPN1T807cc54RPWP65NdrdOWtY/KK4kNbyg1j+iDtOyKefWPx1vgTCXLdc/l88vrgR01z8RMN4rcrrXP4uQjKnfANg/BvE6J01H2D+AUemkuo3YP/qxlyIo1Ng/dBJGoJUa2T/ucvQdA2HZP2jToptwp9k/4jNRGd7t2T9dlP+WSzTaP9f0rRS5eto/UlVckibB2j/MtQoQlAfbP0YWuY0BTts/wHZnC2+U2z861xWJ3NrbP7Q3xAZKIdw/LphyhLdn3D+o+CACJa7cPyNZz3+S9Nw/nbl9/f863T8YGix7bYHdP5J62vjax90/DNuIdkgO3j+GOzf0tVTePwCc5XEjm94/evyT75Dh3j/0XEJt/iffP2+98Oprbt8/6R2faNm03z9jfk3mRvvfP2/v/THaIOA/rB/V8BBE4D/pT6yvR2fgPyaAg25+iuA/Y7BaLbWt4D+g4DHs69DgP94QCasi9OA/GkHgaVkX4T9YcbcokDrhP5ShjufGXeE/0tFlpv2A4T8PAj1lNKThP0wyFCRrx+E/iWLr4qHq4T/GksKh2A3iPwPDmWAPMeI/QPNwH0ZU4j9+I0jefHfiP7pTH52zmuI/+IP2W+q94j80tM0aIeHiP3LkpNlXBOM/rxR8mI4n4z/sRFNXxUrjPyl1Khb8beM/ZqUB1TKR4z+k1diTabTjP+AFsFKg1+M/HjaHEdf64z9aZl7QDR7kP5iWNY9EQeQ/1cYMTntk5D8S9+MMsofkP08nu8voquQ/jFeSih/O5D/Jh2lJVvHkPwa4QAiNFOU/ROgXx8M35T+AGO+F+lrlP75IxkQxfuU/+3idA2ih5T84qXTCnsTlP3XZS4HV5+U/sgkjQAwL5j8=\",\"dtype\":\"float64\",\"order\":\"little\",\"shape\":[100]},\"right\":{\"__ndarray__\":\"nCSFYy4g0T8WhTPhm2bRP5Hl4V4JrdE/C0aQ3Hbz0T+Fpj5a5DnSP/8G7ddRgNI/eWebVb/G0j/0x0nTLA3TP24o+FCaU9M/6Iimzgea0z9i6VRMdeDTP9xJA8riJtQ/V6qxR1Bt1D/RCmDFvbPUP0trDkMr+tQ/xcu8wJhA1T9ALGs+BofVP7qMGbxzzdU/NO3HOeET1j+uTXa3TlrWPyiuJDW8oNY/og7Tsinn1j8db4Ewly3XP5fPL64EdNc/ETDeK3K61z+LkIyp3wDYPwbxOidNR9g/gFHppLqN2D/6sZciKNTYP3QSRqCVGtk/7nL0HQNh2T9o06KbcKfZP+IzURne7dk/XZT/lks02j/X9K0UuXraP1JVXJImwdo/zLUKEJQH2z9GFrmNAU7bP8B2ZwtvlNs/OtcVidza2z+0N8QGSiHcPy6YcoS3Z9w/qPggAiWu3D8jWc9/kvTcP525ff3/Ot0/GBose22B3T+Setr42sfdPwzbiHZIDt4/hjs39LVU3j8AnOVxI5veP3r8k++Q4d4/9FxCbf4n3z9vvfDqa27fP+kdn2jZtN8/Y35N5kb73z9v7/0x2iDgP6wf1fAQROA/6U+sr0dn4D8mgINuforgP2OwWi21reA/oOAx7OvQ4D/eEAmrIvTgPxpB4GlZF+E/WHG3KJA64T+UoY7nxl3hP9LRZab9gOE/DwI9ZTSk4T9MMhQka8fhP4li6+Kh6uE/xpLCodgN4j8Dw5lgDzHiP0DzcB9GVOI/fiNI3nx34j+6Ux+ds5riP/iD9lvqveI/NLTNGiHh4j9y5KTZVwTjP68UfJiOJ+M/7ERTV8VK4z8pdSoW/G3jP2alAdUykeM/pNXYk2m04z/gBbBSoNfjPx42hxHX+uM/WmZe0A0e5D+YljWPREHkP9XGDE57ZOQ/EvfjDLKH5D9PJ7vL6KrkP4xXkoofzuQ/yYdpSVbx5D8GuEAIjRTlP0ToF8fDN+U/gBjvhfpa5T++SMZEMX7lP/t4nQNooeU/OKl0wp7E5T912UuB1eflP7IJI0AMC+Y/7zn6/kIu5j8=\",\"dtype\":\"float64\",\"order\":\"little\",\"shape\":[100]},\"top\":{\"__ndarray__\":\"cFr95IWavD9/NKcHIvHUP31xApgr/NY/MYkHS9FdwT/O30bEcoSoP0yUMcGEkD9AierZgkxYkD+XJzUTVmOyP8GXWHWPpb4/cFr95IWazD95EDBgsAHYP87fRsRyhKg/qC9NQy5k7j9wWv3khZqsPytlkKNfbsQ/ierZgkxYsD8AAAAAAAAAAABB8iWqOA9AierZgkxYsD/TA75r5HPFP4nq2YJMWKA/G4vmgMMX7D9O6tmCTFiQP87fRsRyhKg/zt9GxHKE2D/Bl1h1j6W+P07q2YJMWJA/fKLrM2l5tj/O30bEcoSoP87fRsRyhJg/AAAAAAAAAADO30bEcoSYPwAAAAAAAAAA+zOYNsWmR0CJ6tmCTFiAP07q2YJMWJA/ierZgkxYgD+J6tmCTFiQP87fRsRyhKg/zt9GxHKEmD8eHaJUfI+6P8GXWHWPpb4/ierZgkxYkD+OlXk/nevTP4nq2YJMWIA/B1r95IWarD+J6tmCTFiAPwAAAAAAAAAAbpEfe6le7T+J6tmCTFiQP4nq2YJMWKA/wZdYdY+lvj8AAAAAAAAAAHBa/eSFmqw/zt9GxHKEmD9O6tmCTFiQP4nq2YJMWIA/9061zBjTE0DO30bEcoSYPwAAAAAAAAAAierZgkxYkD8S6tmCTFiAP18oNRNWY7I/AAAAAAAAAAA/W/3khZq8P6BZ/eSFmqw/ierZgkxYgD+J6tmCTFiQP4D9hHH+LPQ/AAAAAAAAAACJ6tmCTFiQP87fRsRyhJg/G99GxHKEqD9/4EbEcoSYPwAAAAAAAAAAL390jPeJ2T8S6tmCTFiAP4nq2YJMWJA/AAAAAAAAAAAeHaJUfI+6PwAAAAAAAAAAEurZgkxYkD9/4EbEcoS4PxLq2YJMWIA/AOvZgkxYsD8AAAAAAAAAAHBa/eSFmqw/AAAAAAAAAACJ6tmCTFiQP4nq2YJMWJA/zt9GxHKEqD/O30bEcoSYPwAAAAAAAAAAf+BGxHKEmD8b30bEcoSYP4nq2YJMWIA/AAAAAAAAAACJ6tmCTFiAPwAAAAAAAAAAZsE7uGzsYEA=\",\"dtype\":\"float64\",\"order\":\"little\",\"shape\":[100]}},\"selected\":{\"id\":\"5233\"},\"selection_policy\":{\"id\":\"5234\"}},\"id\":\"5023\",\"type\":\"ColumnDataSource\"},{\"attributes\":{},\"id\":\"5229\",\"type\":\"AllLabels\"},{\"attributes\":{},\"id\":\"5230\",\"type\":\"BasicTickFormatter\"},{\"attributes\":{},\"id\":\"5016\",\"type\":\"ResetTool\"},{\"attributes\":{},\"id\":\"5233\",\"type\":\"Selection\"},{\"attributes\":{},\"id\":\"5017\",\"type\":\"SaveTool\"},{\"attributes\":{},\"id\":\"5232\",\"type\":\"AllLabels\"},{\"attributes\":{},\"id\":\"5234\",\"type\":\"UnionRenderers\"},{\"attributes\":{},\"id\":\"5004\",\"type\":\"LinearScale\"},{\"attributes\":{},\"id\":\"5000\",\"type\":\"DataRange1d\"},{\"attributes\":{\"axis\":{\"id\":\"5006\"},\"ticker\":null},\"id\":\"5009\",\"type\":\"Grid\"},{\"attributes\":{\"formatter\":{\"id\":\"5230\"},\"major_label_policy\":{\"id\":\"5232\"},\"ticker\":{\"id\":\"5007\"}},\"id\":\"5006\",\"type\":\"LinearAxis\"},{\"attributes\":{},\"id\":\"5011\",\"type\":\"BasicTicker\"},{\"attributes\":{\"formatter\":{\"id\":\"5227\"},\"major_label_policy\":{\"id\":\"5229\"},\"ticker\":{\"id\":\"5011\"}},\"id\":\"5010\",\"type\":\"LinearAxis\"},{\"attributes\":{},\"id\":\"5007\",\"type\":\"BasicTicker\"},{\"attributes\":{\"axis\":{\"id\":\"5010\"},\"dimension\":1,\"ticker\":null},\"id\":\"5013\",\"type\":\"Grid\"},{\"attributes\":{\"data_source\":{\"id\":\"5023\"},\"glyph\":{\"id\":\"5024\"},\"hover_glyph\":null,\"muted_glyph\":null,\"nonselection_glyph\":{\"id\":\"5025\"},\"view\":{\"id\":\"5027\"}},\"id\":\"5026\",\"type\":\"GlyphRenderer\"},{\"attributes\":{},\"id\":\"4998\",\"type\":\"DataRange1d\"},{\"attributes\":{},\"id\":\"5002\",\"type\":\"LinearScale\"},{\"attributes\":{\"bottom\":{\"value\":0},\"fill_color\":{\"value\":\"#1f77b4\"},\"left\":{\"field\":\"left\"},\"line_color\":{\"value\":\"#555555\"},\"right\":{\"field\":\"right\"},\"top\":{\"field\":\"top\"}},\"id\":\"5024\",\"type\":\"Quad\"}],\"root_ids\":[\"4995\"]},\"title\":\"Bokeh Application\",\"version\":\"2.3.3\"}};\n",
       "  var render_items = [{\"docid\":\"a5a89161-7b50-4784-9424-c5d85094aad5\",\"root_ids\":[\"4995\"],\"roots\":{\"4995\":\"f9d8fc2e-3547-40bc-85f9-9c51dd406f53\"}}];\n",
       "  root.Bokeh.embed.embed_items_notebook(docs_json, render_items);\n",
       "\n",
       "  }\n",
       "  if (root.Bokeh !== undefined) {\n",
       "    embed_document(root);\n",
       "  } else {\n",
       "    var attempts = 0;\n",
       "    var timer = setInterval(function(root) {\n",
       "      if (root.Bokeh !== undefined) {\n",
       "        clearInterval(timer);\n",
       "        embed_document(root);\n",
       "      } else {\n",
       "        attempts++;\n",
       "        if (attempts > 100) {\n",
       "          clearInterval(timer);\n",
       "          console.log(\"Bokeh: ERROR: Unable to run BokehJS code because BokehJS library is missing\");\n",
       "        }\n",
       "      }\n",
       "    }, 10, root)\n",
       "  }\n",
       "})(window);"
      ],
      "application/vnd.bokehjs_exec.v0+json": ""
     },
     "metadata": {
      "application/vnd.bokehjs_exec.v0+json": {
       "id": "4995"
      }
     },
     "output_type": "display_data"
    },
    {
     "data": {
      "text/html": [
       "\n",
       "\n",
       "\n",
       "\n",
       "\n",
       "\n",
       "  <div class=\"bk-root\" id=\"0e80b216-bf55-4180-8e43-cdfa301922bf\" data-root-id=\"5280\"></div>\n"
      ]
     },
     "metadata": {},
     "output_type": "display_data"
    },
    {
     "data": {
      "application/javascript": [
       "(function(root) {\n",
       "  function embed_document(root) {\n",
       "    \n",
       "  var docs_json = {\"e3655570-5c0d-42cf-8872-ad3e74db8c6c\":{\"defs\":[],\"roots\":{\"references\":[{\"attributes\":{\"below\":[{\"id\":\"5291\"}],\"center\":[{\"id\":\"5294\"},{\"id\":\"5298\"}],\"left\":[{\"id\":\"5295\"}],\"renderers\":[{\"id\":\"5311\"}],\"title\":{\"id\":\"5281\"},\"toolbar\":{\"id\":\"5303\"},\"toolbar_location\":\"above\",\"x_range\":{\"id\":\"5283\"},\"x_scale\":{\"id\":\"5287\"},\"y_range\":{\"id\":\"5285\"},\"y_scale\":{\"id\":\"5289\"}},\"id\":\"5280\",\"subtype\":\"Figure\",\"type\":\"Plot\"},{\"attributes\":{\"text\":\"QA Terms Ratios Affinity Distribution\"},\"id\":\"5281\",\"type\":\"Title\"},{\"attributes\":{},\"id\":\"5523\",\"type\":\"AllLabels\"},{\"attributes\":{},\"id\":\"5300\",\"type\":\"WheelZoomTool\"},{\"attributes\":{},\"id\":\"5301\",\"type\":\"ResetTool\"},{\"attributes\":{},\"id\":\"5527\",\"type\":\"Selection\"},{\"attributes\":{},\"id\":\"5521\",\"type\":\"BasicTickFormatter\"},{\"attributes\":{},\"id\":\"5302\",\"type\":\"SaveTool\"},{\"attributes\":{},\"id\":\"5526\",\"type\":\"AllLabels\"},{\"attributes\":{},\"id\":\"5296\",\"type\":\"BasicTicker\"},{\"attributes\":{},\"id\":\"5528\",\"type\":\"UnionRenderers\"},{\"attributes\":{},\"id\":\"5292\",\"type\":\"BasicTicker\"},{\"attributes\":{},\"id\":\"5299\",\"type\":\"PanTool\"},{\"attributes\":{\"bottom\":{\"value\":0},\"fill_color\":{\"value\":\"#1f77b4\"},\"left\":{\"field\":\"left\"},\"line_color\":{\"value\":\"#555555\"},\"right\":{\"field\":\"right\"},\"top\":{\"field\":\"top\"}},\"id\":\"5309\",\"type\":\"Quad\"},{\"attributes\":{},\"id\":\"5287\",\"type\":\"LinearScale\"},{\"attributes\":{},\"id\":\"5289\",\"type\":\"LinearScale\"},{\"attributes\":{\"axis\":{\"id\":\"5291\"},\"ticker\":null},\"id\":\"5294\",\"type\":\"Grid\"},{\"attributes\":{\"bottom\":{\"value\":0},\"fill_alpha\":{\"value\":0.1},\"fill_color\":{\"value\":\"#1f77b4\"},\"left\":{\"field\":\"left\"},\"line_alpha\":{\"value\":0.1},\"line_color\":{\"value\":\"#555555\"},\"right\":{\"field\":\"right\"},\"top\":{\"field\":\"top\"}},\"id\":\"5310\",\"type\":\"Quad\"},{\"attributes\":{\"formatter\":{\"id\":\"5524\"},\"major_label_policy\":{\"id\":\"5526\"},\"ticker\":{\"id\":\"5292\"}},\"id\":\"5291\",\"type\":\"LinearAxis\"},{\"attributes\":{\"data_source\":{\"id\":\"5308\"},\"glyph\":{\"id\":\"5309\"},\"hover_glyph\":null,\"muted_glyph\":null,\"nonselection_glyph\":{\"id\":\"5310\"},\"view\":{\"id\":\"5312\"}},\"id\":\"5311\",\"type\":\"GlyphRenderer\"},{\"attributes\":{\"active_multi\":null,\"tools\":[{\"id\":\"5299\"},{\"id\":\"5300\"},{\"id\":\"5301\"},{\"id\":\"5302\"}]},\"id\":\"5303\",\"type\":\"Toolbar\"},{\"attributes\":{},\"id\":\"5285\",\"type\":\"DataRange1d\"},{\"attributes\":{\"data\":{\"left\":{\"__ndarray__\":\"Y3VdZU7S0D9047DzzhjRP4RRBIJPX9E/lb9XENCl0T+lLaueUOzRP7ab/izRMtI/xwlSu1F50j/Xd6VJ0r/SP+jl+NdSBtM/+FNMZtNM0z8Jwp/0U5PTPxow84LU2dM/Kp5GEVUg1D87DJqf1WbUP0t67S1WrdQ/XOhAvNbz1D9sVpRKVzrVP33E59jXgNU/jjI7Z1jH1T+eoI712A3WP68O4oNZVNY/wHw1Etqa1j/Q6oigWuHWP+FY3C7bJ9c/8cYvvVtu1z8CNYNL3LTXPxKj1tlc+9c/IxEqaN1B2D80f332XYjYP0Tt0ITeztg/VVskE18V2T9myXeh31vZP3Y3yy9gotk/hqUevuDo2T+XE3JMYS/aP6iBxdrhddo/uO8YaWK82j/JXWz34gLbP9rLv4VjSds/6jkTFOSP2z/7p2aiZNbbPwwWujDlHNw/HIQNv2Vj3D8s8mBN5qncPz1gtNtm8Nw/Ts4Hauc23T9ePFv4Z33dP2+qrobow90/gBgCFWkK3j+QhlWj6VDeP6D0qDFql94/smL8v+rd3j/C0E9OayTfP9I+o9zrat8/46z2amyx3z/0Gkr57PffP4LEzsM2H+A/inv4CndC4D+TMiJSt2XgP5vpS5n3iOA/pKB14Des4D+sV58neM/gP7QOyW648uA/vMXytfgV4T/EfBz9ODnhP80zRkR5XOE/1epvi7l/4T/eoZnS+aLhP+ZYwxk6xuE/7g/tYHrp4T/2xhaougziP/59QO/6L+I/BzVqNjtT4j8P7JN9e3biPxijvcS7meI/IFrnC/y84j8oERFTPODiPzDIOpp8A+M/OH9k4bwm4z9BNo4o/UnjP0rtt289beM/UqThtn2Q4z9aWwv+vbPjP2ISNUX+1uM/aslejD764z9ygIjTfh3kP3s3shq/QOQ/hO7bYf9j5D+MpQWpP4fkP5RcL/B/quQ/nBNZN8DN5D+kyoJ+APHkP62BrMVAFOU/tTjWDIE35T++7/9TwVrlP8amKZsBfuU/zl1T4kGh5T/WFH0pgsTlP97LpnDC5+U/54LQtwIL5j8=\",\"dtype\":\"float64\",\"order\":\"little\",\"shape\":[100]},\"right\":{\"__ndarray__\":\"dOOw884Y0T+EUQSCT1/RP5W/VxDQpdE/pS2rnlDs0T+2m/4s0TLSP8cJUrtRedI/13elSdK/0j/o5fjXUgbTP/hTTGbTTNM/CcKf9FOT0z8aMPOC1NnTPyqeRhFVINQ/Owyan9Vm1D9Leu0tVq3UP1zoQLzW89Q/bFaUSlc61T99xOfY14DVP44yO2dYx9U/nqCO9dgN1j+vDuKDWVTWP8B8NRLamtY/0OqIoFrh1j/hWNwu2yfXP/HGL71bbtc/AjWDS9y01z8So9bZXPvXPyMRKmjdQdg/NH999l2I2D9E7dCE3s7YP1VbJBNfFdk/Zsl3od9b2T92N8svYKLZP4alHr7g6Nk/lxNyTGEv2j+ogcXa4XXaP7jvGGlivNo/yV1s9+IC2z/ay7+FY0nbP+o5ExTkj9s/+6dmomTW2z8MFrow5RzcPxyEDb9lY9w/LPJgTeap3D89YLTbZvDcP07OB2rnNt0/Xjxb+Gd93T9vqq6G6MPdP4AYAhVpCt4/kIZVo+lQ3j+g9KgxapfeP7Ji/L/q3d4/wtBPTmsk3z/SPqPc62rfP+Os9mpssd8/9BpK+ez33z+CxM7DNh/gP4p7+Ap3QuA/kzIiUrdl4D+b6UuZ94jgP6SgdeA3rOA/rFefJ3jP4D+0DsluuPLgP7zF8rX4FeE/xHwc/Tg54T/NM0ZEeVzhP9Xqb4u5f+E/3qGZ0vmi4T/mWMMZOsbhP+4P7WB66eE/9sYWqLoM4j/+fUDv+i/iPwc1ajY7U+I/D+yTfXt24j8Yo73Eu5niPyBa5wv8vOI/KBERUzzg4j8wyDqafAPjPzh/ZOG8JuM/QTaOKP1J4z9K7bdvPW3jP1Kk4bZ9kOM/WlsL/r2z4z9iEjVF/tbjP2rJXow++uM/coCI034d5D97N7Iav0DkP4Tu22H/Y+Q/jKUFqT+H5D+UXC/wf6rkP5wTWTfAzeQ/pMqCfgDx5D+tgazFQBTlP7U41gyBN+U/vu//U8Fa5T/GpimbAX7lP85dU+JBoeU/1hR9KYLE5T/ey6ZwwuflP+eC0LcCC+Y/7zn6/kIu5j8=\",\"dtype\":\"float64\",\"order\":\"little\",\"shape\":[100]},\"top\":{\"__ndarray__\":\"XkTVXKY+wj/auHcsklnkP9p9T5MnBNs/VK3FVHiY0j/ytyB7nRG8P389EFrmKD1AWLgge50RrD/EFbZMSvLCPxQtGvx9dMY/QTjM05c12D/CLBr8fXTmP8+hE31e18A/pJiiwpBi8z+gRNVcpj7CP5C4dyySWdQ/H0R+q7H2yT+L/aM6LeCuPwQQ3WC9ERJAFC0a/H10tj9DIWgkZLPUP4v9ozot4L4/nL5QGB869T8q55Y87qWzP/z9ozot4L4/K9Ayjboj4D/auHcsklnUP8IsGvx9dKY/j8/b28Xbxz+3cp27DUOpP4/P29vF27c/i/2jOi3grj/PoRN9XteQPxQtGvx9dHY/Y+nlZQ2NRkCSoRN9XteQPxQtGvx9dKY/wiwa/H10pj/ytyB7nRGsP1i4IHudEaw/WnKduw1DuT8q55Y87qXDP8+hE31e19A/t3Kduw1DqT9FCgR1MDHhP8IsGvx9dJY//P2jOi3grj8q55Y87qWjP8IsGvx9dIY/82zEz4Bi+D+3cp27DUOpP6qJWBw2DbU/z6ETfV7X0D9YuCB7nRGcPyrnljzupbM/WnKduw1DqT8ULRr8fXSmP8+hE31e15A/T68GcsTkFkAULRr8fXSGP3AsGvx9dJY/FC0a/H10lj9x55Y87qWjPxQtGvx9dLY/z6ETfV7XoD8NWzkM2sDVP1i4IHudEaw/jLcge50RnD8ULRr8fXSWP1w+pb8kFvk/FC0a/H10dj9x55Y87qWjP3AsGvx9dJY/KVviWuV4vT9VoRN9XtegP1i4IHudEZw/dvLxYhMf3T8ULRr8fXSWPxQtGvx9dKY/cCwa/H10hj//cZ27DUPJPxQtGvx9dIY/z6ETfV7XkD99/vrrISjHP8+hE31e15A/FC0a/H10dj9VoRN9XtfAP/9xnbsNQ6k/FC0a/H10dj9x55Y87qWjP1i4IHudEZw/FC0a/H10pj9wLBr8fXSGPxQtGvx9dJY/4+aWPO6loz/PoRN9XtegPxQtGvx9dIY/FC0a/H10dj8ULRr8fXSGP3AsGvx9dHY/j9vycKd/YEA=\",\"dtype\":\"float64\",\"order\":\"little\",\"shape\":[100]}},\"selected\":{\"id\":\"5527\"},\"selection_policy\":{\"id\":\"5528\"}},\"id\":\"5308\",\"type\":\"ColumnDataSource\"},{\"attributes\":{\"formatter\":{\"id\":\"5521\"},\"major_label_policy\":{\"id\":\"5523\"},\"ticker\":{\"id\":\"5296\"}},\"id\":\"5295\",\"type\":\"LinearAxis\"},{\"attributes\":{},\"id\":\"5283\",\"type\":\"DataRange1d\"},{\"attributes\":{\"axis\":{\"id\":\"5295\"},\"dimension\":1,\"ticker\":null},\"id\":\"5298\",\"type\":\"Grid\"},{\"attributes\":{\"source\":{\"id\":\"5308\"}},\"id\":\"5312\",\"type\":\"CDSView\"},{\"attributes\":{},\"id\":\"5524\",\"type\":\"BasicTickFormatter\"}],\"root_ids\":[\"5280\"]},\"title\":\"Bokeh Application\",\"version\":\"2.3.3\"}};\n",
       "  var render_items = [{\"docid\":\"e3655570-5c0d-42cf-8872-ad3e74db8c6c\",\"root_ids\":[\"5280\"],\"roots\":{\"5280\":\"0e80b216-bf55-4180-8e43-cdfa301922bf\"}}];\n",
       "  root.Bokeh.embed.embed_items_notebook(docs_json, render_items);\n",
       "\n",
       "  }\n",
       "  if (root.Bokeh !== undefined) {\n",
       "    embed_document(root);\n",
       "  } else {\n",
       "    var attempts = 0;\n",
       "    var timer = setInterval(function(root) {\n",
       "      if (root.Bokeh !== undefined) {\n",
       "        clearInterval(timer);\n",
       "        embed_document(root);\n",
       "      } else {\n",
       "        attempts++;\n",
       "        if (attempts > 100) {\n",
       "          clearInterval(timer);\n",
       "          console.log(\"Bokeh: ERROR: Unable to run BokehJS code because BokehJS library is missing\");\n",
       "        }\n",
       "      }\n",
       "    }, 10, root)\n",
       "  }\n",
       "})(window);"
      ],
      "application/vnd.bokehjs_exec.v0+json": ""
     },
     "metadata": {
      "application/vnd.bokehjs_exec.v0+json": {
       "id": "5280"
      }
     },
     "output_type": "display_data"
    },
    {
     "data": {
      "text/html": [
       "\n",
       "\n",
       "\n",
       "\n",
       "\n",
       "\n",
       "  <div class=\"bk-root\" id=\"9b16f7c0-27a2-4ee0-8b70-0cd421e8fd61\" data-root-id=\"5574\"></div>\n"
      ]
     },
     "metadata": {},
     "output_type": "display_data"
    },
    {
     "data": {
      "application/javascript": [
       "(function(root) {\n",
       "  function embed_document(root) {\n",
       "    \n",
       "  var docs_json = {\"0186d86c-01aa-4e1e-a38c-52644087dedc\":{\"defs\":[],\"roots\":{\"references\":[{\"attributes\":{\"below\":[{\"id\":\"5585\"}],\"center\":[{\"id\":\"5588\"},{\"id\":\"5592\"}],\"left\":[{\"id\":\"5589\"}],\"renderers\":[{\"id\":\"5605\"}],\"title\":{\"id\":\"5575\"},\"toolbar\":{\"id\":\"5597\"},\"toolbar_location\":\"above\",\"x_range\":{\"id\":\"5577\"},\"x_scale\":{\"id\":\"5581\"},\"y_range\":{\"id\":\"5579\"},\"y_scale\":{\"id\":\"5583\"}},\"id\":\"5574\",\"subtype\":\"Figure\",\"type\":\"Plot\"},{\"attributes\":{},\"id\":\"5826\",\"type\":\"AllLabels\"},{\"attributes\":{},\"id\":\"5827\",\"type\":\"BasicTickFormatter\"},{\"attributes\":{},\"id\":\"5595\",\"type\":\"ResetTool\"},{\"attributes\":{},\"id\":\"5830\",\"type\":\"Selection\"},{\"attributes\":{},\"id\":\"5596\",\"type\":\"SaveTool\"},{\"attributes\":{},\"id\":\"5829\",\"type\":\"AllLabels\"},{\"attributes\":{},\"id\":\"5831\",\"type\":\"UnionRenderers\"},{\"attributes\":{},\"id\":\"5590\",\"type\":\"BasicTicker\"},{\"attributes\":{\"bottom\":{\"value\":0},\"fill_color\":{\"value\":\"#1f77b4\"},\"left\":{\"field\":\"left\"},\"line_color\":{\"value\":\"#555555\"},\"right\":{\"field\":\"right\"},\"top\":{\"field\":\"top\"}},\"id\":\"5603\",\"type\":\"Quad\"},{\"attributes\":{},\"id\":\"5586\",\"type\":\"BasicTicker\"},{\"attributes\":{\"bottom\":{\"value\":0},\"fill_alpha\":{\"value\":0.1},\"fill_color\":{\"value\":\"#1f77b4\"},\"left\":{\"field\":\"left\"},\"line_alpha\":{\"value\":0.1},\"line_color\":{\"value\":\"#555555\"},\"right\":{\"field\":\"right\"},\"top\":{\"field\":\"top\"}},\"id\":\"5604\",\"type\":\"Quad\"},{\"attributes\":{},\"id\":\"5581\",\"type\":\"LinearScale\"},{\"attributes\":{},\"id\":\"5583\",\"type\":\"LinearScale\"},{\"attributes\":{},\"id\":\"5594\",\"type\":\"WheelZoomTool\"},{\"attributes\":{\"axis\":{\"id\":\"5585\"},\"ticker\":null},\"id\":\"5588\",\"type\":\"Grid\"},{\"attributes\":{\"formatter\":{\"id\":\"5824\"},\"major_label_policy\":{\"id\":\"5826\"},\"ticker\":{\"id\":\"5590\"}},\"id\":\"5589\",\"type\":\"LinearAxis\"},{\"attributes\":{\"formatter\":{\"id\":\"5827\"},\"major_label_policy\":{\"id\":\"5829\"},\"ticker\":{\"id\":\"5586\"}},\"id\":\"5585\",\"type\":\"LinearAxis\"},{\"attributes\":{\"data_source\":{\"id\":\"5602\"},\"glyph\":{\"id\":\"5603\"},\"hover_glyph\":null,\"muted_glyph\":null,\"nonselection_glyph\":{\"id\":\"5604\"},\"view\":{\"id\":\"5606\"}},\"id\":\"5605\",\"type\":\"GlyphRenderer\"},{\"attributes\":{},\"id\":\"5579\",\"type\":\"DataRange1d\"},{\"attributes\":{\"active_multi\":null,\"tools\":[{\"id\":\"5593\"},{\"id\":\"5594\"},{\"id\":\"5595\"},{\"id\":\"5596\"}]},\"id\":\"5597\",\"type\":\"Toolbar\"},{\"attributes\":{\"data\":{\"left\":{\"__ndarray__\":\"GA6qErvY0D/A/50uKx/RP2nxkUqbZdE/EeOFZgus0T+61HmCe/LRP2LGbZ7rONI/Crhhult/0j+zqVXWy8XSP1ubSfI7DNM/A409DqxS0z+sfjEqHJnTP1RwJUaM39M//GEZYvwl1D+lUw1+bGzUP01FAZrcstQ/9jb1tUz51D+eKOnRvD/VP0Ya3e0shtU/7wvRCZ3M1T+X/cQlDRPWP0DvuEF9WdY/6OCsXe2f1j+Q0qB5XebWPzjElJXNLNc/4bWIsT1z1z+Kp3zNrbnXPzKZcOkdANg/2opkBY5G2D+CfFgh/ozYPytuTD1u09g/019AWd4Z2T98UTR1TmDZPyRDKJG+ptk/zDQcrS7t2T91JhDJnjPaPx0YBOUOeto/xgn4AH/A2j9u++sc7wbbPxbt3zhfTds/vt7TVM+T2z9n0MdwP9rbPxDCu4yvINw/uLOvqB9n3D9gpaPEj63cPwiXl+D/89w/sYiL/G863T9Zen8Y4IDdPwJsczRQx90/ql1nUMAN3j9ST1tsMFTeP/tAT4igmt4/ozJDpBDh3j9MJDfAgCffP/QVK9zwbd8/nAcf+GC03z9E+RIU0frfP3Z1A5igIOA/S279pdhD4D8fZ/ezEGfgP/Nf8cFIiuA/x1jrz4Ct4D+cUeXduNDgP3BK3+vw8+A/REPZ+SgX4T8YPNMHYTrhP+w0zRWZXeE/wC3HI9GA4T+UJsExCaThP2kfuz9Bx+E/PRi1TXnq4T8REa9bsQ3iP+YJqWnpMOI/ugKjdyFU4j+O+5yFWXfiP2L0lpORmuI/Nu2Qocm94j8K5oqvAeHiP97ehL05BOM/std+y3En4z+H0HjZqUrjP1vJcufhbeM/L8Js9RmR4z8Eu2YDUrTjP9izYBGK1+M/rKxaH8L64z+ApVQt+h3kP1SeTjsyQeQ/KJdISWpk5D/8j0JXoofkP9CIPGXaquQ/pYE2cxLO5D95ejCBSvHkP01zKo+CFOU/Imwknbo35T/2ZB6r8lrlP8pdGLkqfuU/nlYSx2Kh5T9yTwzVmsTlP0ZIBuPS5+U/GkEA8QoL5j8=\",\"dtype\":\"float64\",\"order\":\"little\",\"shape\":[100]},\"right\":{\"__ndarray__\":\"wP+dLisf0T9p8ZFKm2XRPxHjhWYLrNE/utR5gnvy0T9ixm2e6zjSPwq4Ybpbf9I/s6lV1svF0j9bm0nyOwzTPwONPQ6sUtM/rH4xKhyZ0z9UcCVGjN/TP/xhGWL8JdQ/pVMNfmxs1D9NRQGa3LLUP/Y29bVM+dQ/nijp0bw/1T9GGt3tLIbVP+8L0QmdzNU/l/3EJQ0T1j9A77hBfVnWP+jgrF3tn9Y/kNKgeV3m1j84xJSVzSzXP+G1iLE9c9c/iqd8za251z8ymXDpHQDYP9qKZAWORtg/gnxYIf6M2D8rbkw9btPYP9NfQFneGdk/fFE0dU5g2T8kQyiRvqbZP8w0HK0u7dk/dSYQyZ4z2j8dGATlDnraP8YJ+AB/wNo/bvvrHO8G2z8W7d84X03bP77e01TPk9s/Z9DHcD/a2z8QwruMryDcP7izr6gfZ9w/YKWjxI+t3D8Il5fg//PcP7GIi/xvOt0/WXp/GOCA3T8CbHM0UMfdP6pdZ1DADd4/Uk9bbDBU3j/7QE+IoJreP6MyQ6QQ4d4/TCQ3wIAn3z/0FSvc8G3fP5wHH/hgtN8/RPkSFNH63z92dQOYoCDgP0tu/aXYQ+A/H2f3sxBn4D/zX/HBSIrgP8dY68+AreA/nFHl3bjQ4D9wSt/r8PPgP0RD2fkoF+E/GDzTB2E64T/sNM0VmV3hP8AtxyPRgOE/lCbBMQmk4T9pH7s/QcfhPz0YtU156uE/ERGvW7EN4j/mCalp6TDiP7oCo3chVOI/jvuchVl34j9i9JaTkZriPzbtkKHJveI/CuaKrwHh4j/e3oS9OQTjP7LXfstxJ+M/h9B42alK4z9byXLn4W3jPy/CbPUZkeM/BLtmA1K04z/Ys2ARitfjP6ysWh/C+uM/gKVULfod5D9Unk47MkHkPyiXSElqZOQ//I9CV6KH5D/QiDxl2qrkP6WBNnMSzuQ/eXowgUrx5D9NcyqPghTlPyJsJJ26N+U/9mQeq/Ja5T/KXRi5Kn7lP55WEsdioeU/ck8M1ZrE5T9GSAbj0uflPxpBAPEKC+Y/7zn6/kIu5j8=\",\"dtype\":\"float64\",\"order\":\"little\",\"shape\":[100]},\"top\":{\"__ndarray__\":\"0mo1Xm1bpz/MF/wJ20bKPy0Y/AnbRso/Lr1usv9vtD/SajVebVuXP9ZsCp//izlAfWo1Xm1bpz8dEKgGkoShPx0QqAaShLE/Lr1usv9vxD+HxcK1SDLNPx0QqAaShKE/NrnEMNsO4D8AAAAAAAAAAN4PqAaShME/0mo1Xm1btz8AAAAAAAAAAOoeKat/WgZAHRCoBpKEoT+GZovcSPrCPx0QqAaShKE/I5PnZ23N5D/SajVebVunP94PqAaShKE/NrnEMNsOwD+HxcK1SDK9P9JqNV5tW6c/0mo1Xm1btz99ajVebVunPx0QqAaShKE/AAAAAAAAAAAAAAAAAAAAANJqNV5tW4c/l4AvR5TJQ0DSajVebVuHP31qNV5tW4c/0mo1Xm1blz/SajVebVuHP9JqNV5tW6c/AAAAAAAAAAAdxcK1SDK9P8tmi9xI+sI/h8XCtUgyrT8dEKgGkoTRP31qNV5tW4c/0mo1Xm1bpz99ajVebVuXP9JqNV5tW4c/f8EYNCTR6D99ajVebVuHPx0QqAaShKE/hmaL3Ej6wj/SajVebVuHP9JqNV5tW6c/HRCoBpKEsT/SajVebVuHPwAAAAAAAAAA3/EeQW0FD0DSajVebVuHP9JqNV5tW5c/KGo1Xm1bpz/SajVebVuXP9JqNV5tW6c/0mo1Xm1blz8tGPwJ20bKP3i9brL/b7Q/HRCoBpKEoT8oajVebVuXP0kmVkwkbvI/0mo1Xm1bhz8oajVebVuHPx0QqAaShKE/0mo1Xm1blz/SajVebVuXP9JqNV5tW5c/iseX9tpi3z8dEKgGkoShP9JqNV5tW7c/KGo1Xm1blz/Zbt/fkbzLP9JqNV5tW6c/s8TCtUgyrT8tGPwJ20bKP9JqNV5tW6c/0mo1Xm1btz/SajVebVuHP3i9brL/b7Q/AAAAAAAAAADSajVebVunP+O8brL/b7Q/cLnEMNsOwD8dEKgGkoShPyhqNV5tW6c/0mo1Xm1bhz94vW6y/2+0P9JqNV5tW7c/0mo1Xm1bhz/SajVebVunPwAAAAAAAAAAQzvMbnn8YkA=\",\"dtype\":\"float64\",\"order\":\"little\",\"shape\":[100]}},\"selected\":{\"id\":\"5830\"},\"selection_policy\":{\"id\":\"5831\"}},\"id\":\"5602\",\"type\":\"ColumnDataSource\"},{\"attributes\":{},\"id\":\"5577\",\"type\":\"DataRange1d\"},{\"attributes\":{\"text\":\"IQ Terms Ratios Affinity Distribution\"},\"id\":\"5575\",\"type\":\"Title\"},{\"attributes\":{},\"id\":\"5593\",\"type\":\"PanTool\"},{\"attributes\":{\"source\":{\"id\":\"5602\"}},\"id\":\"5606\",\"type\":\"CDSView\"},{\"attributes\":{\"axis\":{\"id\":\"5589\"},\"dimension\":1,\"ticker\":null},\"id\":\"5592\",\"type\":\"Grid\"},{\"attributes\":{},\"id\":\"5824\",\"type\":\"BasicTickFormatter\"}],\"root_ids\":[\"5574\"]},\"title\":\"Bokeh Application\",\"version\":\"2.3.3\"}};\n",
       "  var render_items = [{\"docid\":\"0186d86c-01aa-4e1e-a38c-52644087dedc\",\"root_ids\":[\"5574\"],\"roots\":{\"5574\":\"9b16f7c0-27a2-4ee0-8b70-0cd421e8fd61\"}}];\n",
       "  root.Bokeh.embed.embed_items_notebook(docs_json, render_items);\n",
       "\n",
       "  }\n",
       "  if (root.Bokeh !== undefined) {\n",
       "    embed_document(root);\n",
       "  } else {\n",
       "    var attempts = 0;\n",
       "    var timer = setInterval(function(root) {\n",
       "      if (root.Bokeh !== undefined) {\n",
       "        clearInterval(timer);\n",
       "        embed_document(root);\n",
       "      } else {\n",
       "        attempts++;\n",
       "        if (attempts > 100) {\n",
       "          clearInterval(timer);\n",
       "          console.log(\"Bokeh: ERROR: Unable to run BokehJS code because BokehJS library is missing\");\n",
       "        }\n",
       "      }\n",
       "    }, 10, root)\n",
       "  }\n",
       "})(window);"
      ],
      "application/vnd.bokehjs_exec.v0+json": ""
     },
     "metadata": {
      "application/vnd.bokehjs_exec.v0+json": {
       "id": "5574"
      }
     },
     "output_type": "display_data"
    },
    {
     "data": {
      "text/html": [
       "\n",
       "\n",
       "\n",
       "\n",
       "\n",
       "\n",
       "  <div class=\"bk-root\" id=\"642a4143-aead-4ef1-8d01-0caf2c36511b\" data-root-id=\"5877\"></div>\n"
      ]
     },
     "metadata": {},
     "output_type": "display_data"
    },
    {
     "data": {
      "application/javascript": [
       "(function(root) {\n",
       "  function embed_document(root) {\n",
       "    \n",
       "  var docs_json = {\"c97008ac-6a91-4290-8308-20e5b086b56b\":{\"defs\":[],\"roots\":{\"references\":[{\"attributes\":{\"below\":[{\"id\":\"5888\"}],\"center\":[{\"id\":\"5891\"},{\"id\":\"5895\"}],\"left\":[{\"id\":\"5892\"}],\"renderers\":[{\"id\":\"5908\"}],\"title\":{\"id\":\"5878\"},\"toolbar\":{\"id\":\"5900\"},\"toolbar_location\":\"above\",\"x_range\":{\"id\":\"5880\"},\"x_scale\":{\"id\":\"5884\"},\"y_range\":{\"id\":\"5882\"},\"y_scale\":{\"id\":\"5886\"}},\"id\":\"5877\",\"subtype\":\"Figure\",\"type\":\"Plot\"},{\"attributes\":{},\"id\":\"6141\",\"type\":\"AllLabels\"},{\"attributes\":{},\"id\":\"6143\",\"type\":\"UnionRenderers\"},{\"attributes\":{},\"id\":\"5893\",\"type\":\"BasicTicker\"},{\"attributes\":{\"bottom\":{\"value\":0},\"fill_color\":{\"value\":\"#1f77b4\"},\"left\":{\"field\":\"left\"},\"line_color\":{\"value\":\"#555555\"},\"right\":{\"field\":\"right\"},\"top\":{\"field\":\"top\"}},\"id\":\"5906\",\"type\":\"Quad\"},{\"attributes\":{},\"id\":\"5889\",\"type\":\"BasicTicker\"},{\"attributes\":{},\"id\":\"5897\",\"type\":\"WheelZoomTool\"},{\"attributes\":{},\"id\":\"5899\",\"type\":\"SaveTool\"},{\"attributes\":{},\"id\":\"5884\",\"type\":\"LinearScale\"},{\"attributes\":{},\"id\":\"5886\",\"type\":\"LinearScale\"},{\"attributes\":{\"data\":{\"left\":{\"__ndarray__\":\"cWT/Adzn0D8TuTxjJS7RP7YNesRudNE/WGK3Jbi60T/6tvSGAQHSP50LMuhKR9I/P2BvSZSN0j/itKyq3dPSP4QJ6gsnGtM/Jl4nbXBg0z/JsmTOuabTP2sHoi8D7dM/DlzfkEwz1D+wsBzylXnUP1IFWlPfv9Q/9FmXtCgG1T+XrtQVckzVPzoDEne7ktU/3FdP2ATZ1T9+rIw5Th/WPyABypqXZdY/w1UH/OCr1j9lqkRdKvLWPwj/gb5zONc/qlO/H71+1z9MqPyABsXXP+/8OeJPC9g/kVF3Q5lR2D80prSk4pfYP9b68QUs3tg/eE8vZ3Uk2T8apGzIvmrZP734qSkIsdk/YE3nilH32T8CoiTsmj3aP6T2YU3kg9o/Rkufri3K2j/pn9wPdxDbP4v0GXHAVts/LklX0gmd2z/QnZQzU+PbP3Ly0ZScKdw/FUcP9uVv3D+3m0xXL7bcP1rwibh4/Nw//ETHGcJC3T+emQR7C4ndP0DuQdxUz90/40J/PZ4V3j+Gl7ye51vePyjs+f8wot4/ykA3YXro3j9slXTCwy7fPw/qsSMNdd8/sT7vhFa73z+qSRbzzwDgP/vztKP0I+A/TJ5TVBlH4D+eSPIEPmrgP+7ykLVijeA/QJ0vZoew4D+RR84WrNPgP+LxbMfQ9uA/NJwLePUZ4T+ERqooGj3hP9bwSNk+YOE/J5vniWOD4T94RYY6iKbhP8rvJOusyeE/GprDm9Hs4T9sRGJM9g/iP73uAP0aM+I/DpmfrT9W4j9fQz5eZHniP7Dt3A6JnOI/Aph7v62/4j9SQhpw0uLiP6TsuCD3BeM/9ZZX0Rsp4z9GQfaBQEzjP5jrlDJlb+M/6JUz44mS4z86QNKTrrXjP4vqcETT2OM/3JQP9ff74z8uP66lHB/kP37pTFZBQuQ/0JPrBmZl5D8hPoq3iojkP3LoKGivq+Q/xJLHGNTO5D8UPWbJ+PHkP2bnBHodFeU/t5GjKkI45T8IPELbZlvlP1rm4IuLfuU/qpB/PLCh5T/8Oh7t1MTlP03lvJ355+U/no9bTh4L5j8=\",\"dtype\":\"float64\",\"order\":\"little\",\"shape\":[100]},\"right\":{\"__ndarray__\":\"E7k8YyUu0T+2DXrEbnTRP1hityW4utE/+rb0hgEB0j+dCzLoSkfSPz9gb0mUjdI/4rSsqt3T0j+ECeoLJxrTPyZeJ21wYNM/ybJkzrmm0z9rB6IvA+3TPw5c35BMM9Q/sLAc8pV51D9SBVpT37/UP/RZl7QoBtU/l67UFXJM1T86AxJ3u5LVP9xXT9gE2dU/fqyMOU4f1j8gAcqal2XWP8NVB/zgq9Y/ZapEXSry1j8I/4G+czjXP6pTvx+9ftc/TKj8gAbF1z/v/DniTwvYP5FRd0OZUdg/NKa0pOKX2D/W+vEFLN7YP3hPL2d1JNk/GqRsyL5q2T+9+KkpCLHZP2BN54pR99k/AqIk7Jo92j+k9mFN5IPaP0ZLn64tyto/6Z/cD3cQ2z+L9BlxwFbbPy5JV9IJnds/0J2UM1Pj2z9y8tGUnCncPxVHD/blb9w/t5tMVy+23D9a8Im4ePzcP/xExxnCQt0/npkEewuJ3T9A7kHcVM/dP+NCfz2eFd4/hpe8nudb3j8o7Pn/MKLeP8pAN2F66N4/bJV0wsMu3z8P6rEjDXXfP7E+74RWu98/qkkW888A4D/787Sj9CPgP0yeU1QZR+A/nkjyBD5q4D/u8pC1Yo3gP0CdL2aHsOA/kUfOFqzT4D/i8WzH0PbgPzScC3j1GeE/hEaqKBo94T/W8EjZPmDhPyeb54ljg+E/eEWGOoim4T/K7yTrrMnhPxqaw5vR7OE/bERiTPYP4j+97gD9GjPiPw6Zn60/VuI/X0M+XmR54j+w7dwOiZziPwKYe7+tv+I/UkIacNLi4j+k7Lgg9wXjP/WWV9EbKeM/RkH2gUBM4z+Y65QyZW/jP+iVM+OJkuM/OkDSk6614z+L6nBE09jjP9yUD/X3++M/Lj+upRwf5D9+6UxWQULkP9CT6wZmZeQ/IT6Kt4qI5D9y6Chor6vkP8SSxxjUzuQ/FD1myfjx5D9m5wR6HRXlP7eRoypCOOU/CDxC22Zb5T9a5uCLi37lP6qQfzywoeU//Doe7dTE5T9N5byd+eflP56PW04eC+Y/7zn6/kIu5j8=\",\"dtype\":\"float64\",\"order\":\"little\",\"shape\":[100]},\"top\":{\"__ndarray__\":\"hBVOAa+v4z9eTx3MxUrQP1UvhqlJJ8s/lCSpSCDGvj+LqRf5tPacP10z/nchikBAi6kX+bT2rD+2tPRZ3le5P0KuAaCgvtA/cOFx8NWtzz88g40c+znfP1m09FneV7k/lCSpSCDG7j85yq4bMRqyP6XsTlH/Dsw/IySpSCDGvj9OsrVmOv0RQPSpF/m09pw/VS+GqUknuz+ZTx3MxUrQP49EQGuc6bM/3bZpLdQ78z+LqRf5tPacP7a09FneV7k/D1YQhgPk2D9Ra8pHVqbRP9hEQGuc6cM/98muGzEasj85yq4bMRqyP3e/0boHuaU/OcquGzEaoj+LqRf5tPaMP41Ko1DlL0hAAAAAAAAAAAD0qRf5tPZ8PwAAAAAAAAAAi6kX+bT2rD85yq4bMRqiP8E5YwpziLc/FzpjCnOItz/0qRf5tPZ8P/fJrhsxGsI/OcquGzEasj8xCPzMj2rdP/SpF/m09pw/d7/Ruge5pT93v9G6B7mVP49EQGuc6fM/i6kX+bT2fD85yq4bMRqiPznKrhsxGrI/BnK9AZQ/yj+LqRf5tPaMP3e/0boHuaU/WbT0Wd5XqT/0qRf5tPZ8PwAAAAAAAAAAODZctX+ZFkDHqhf5tPZ8PyKpF/m09ow/9KkX+bT2jD93v9G6B7mVP9m+0boHubU/x6oX+bT2fD/9s/RZ3lfJP5lPHczFSrA/9KkX+bT2fD8iqRf5tPaMP76fcHjdHvM/AAAAAAAAAAAAAAAAAAAAAHe/0boHuZU/mU8dzMVKsD/0qRf5tPZ8PwAAAAAAAAAAGPgrsihw2D8iqRf5tPZ8P3e/0boHuaU/9KkX+bT2fD+09iuyKHDIPwAAAAAAAAAAIqkX+bT2jD9VL4apSSe7P/SpF/m09nw/tcmuGzEaoj/Hqhf5tPacPyKpF/m09pw/9KkX+bT2fD85yq4bMRqiPyKpF/m09ow/x6oX+bT2nD8AAAAAAAAAAPSpF/m09nw/9KkX+bT2fD8iqRf5tPZ8PwAAAAAAAAAAAAAAAAAAAAD0qRf5tPaMP/SpF/m09nw/dabUq/8rYEA=\",\"dtype\":\"float64\",\"order\":\"little\",\"shape\":[100]}},\"selected\":{\"id\":\"6142\"},\"selection_policy\":{\"id\":\"6143\"}},\"id\":\"5905\",\"type\":\"ColumnDataSource\"},{\"attributes\":{\"data_source\":{\"id\":\"5905\"},\"glyph\":{\"id\":\"5906\"},\"hover_glyph\":null,\"muted_glyph\":null,\"nonselection_glyph\":{\"id\":\"5907\"},\"view\":{\"id\":\"5909\"}},\"id\":\"5908\",\"type\":\"GlyphRenderer\"},{\"attributes\":{\"formatter\":{\"id\":\"6139\"},\"major_label_policy\":{\"id\":\"6141\"},\"ticker\":{\"id\":\"5889\"}},\"id\":\"5888\",\"type\":\"LinearAxis\"},{\"attributes\":{},\"id\":\"5898\",\"type\":\"ResetTool\"},{\"attributes\":{},\"id\":\"5882\",\"type\":\"DataRange1d\"},{\"attributes\":{},\"id\":\"6142\",\"type\":\"Selection\"},{\"attributes\":{},\"id\":\"5896\",\"type\":\"PanTool\"},{\"attributes\":{\"axis\":{\"id\":\"5892\"},\"dimension\":1,\"ticker\":null},\"id\":\"5895\",\"type\":\"Grid\"},{\"attributes\":{},\"id\":\"5880\",\"type\":\"DataRange1d\"},{\"attributes\":{\"source\":{\"id\":\"5905\"}},\"id\":\"5909\",\"type\":\"CDSView\"},{\"attributes\":{\"axis\":{\"id\":\"5888\"},\"ticker\":null},\"id\":\"5891\",\"type\":\"Grid\"},{\"attributes\":{\"text\":\"SA Terms Ratios Affinity Distribution\"},\"id\":\"5878\",\"type\":\"Title\"},{\"attributes\":{\"bottom\":{\"value\":0},\"fill_alpha\":{\"value\":0.1},\"fill_color\":{\"value\":\"#1f77b4\"},\"left\":{\"field\":\"left\"},\"line_alpha\":{\"value\":0.1},\"line_color\":{\"value\":\"#555555\"},\"right\":{\"field\":\"right\"},\"top\":{\"field\":\"top\"}},\"id\":\"5907\",\"type\":\"Quad\"},{\"attributes\":{\"formatter\":{\"id\":\"6136\"},\"major_label_policy\":{\"id\":\"6138\"},\"ticker\":{\"id\":\"5893\"}},\"id\":\"5892\",\"type\":\"LinearAxis\"},{\"attributes\":{},\"id\":\"6136\",\"type\":\"BasicTickFormatter\"},{\"attributes\":{},\"id\":\"6138\",\"type\":\"AllLabels\"},{\"attributes\":{},\"id\":\"6139\",\"type\":\"BasicTickFormatter\"},{\"attributes\":{\"active_multi\":null,\"tools\":[{\"id\":\"5896\"},{\"id\":\"5897\"},{\"id\":\"5898\"},{\"id\":\"5899\"}]},\"id\":\"5900\",\"type\":\"Toolbar\"}],\"root_ids\":[\"5877\"]},\"title\":\"Bokeh Application\",\"version\":\"2.3.3\"}};\n",
       "  var render_items = [{\"docid\":\"c97008ac-6a91-4290-8308-20e5b086b56b\",\"root_ids\":[\"5877\"],\"roots\":{\"5877\":\"642a4143-aead-4ef1-8d01-0caf2c36511b\"}}];\n",
       "  root.Bokeh.embed.embed_items_notebook(docs_json, render_items);\n",
       "\n",
       "  }\n",
       "  if (root.Bokeh !== undefined) {\n",
       "    embed_document(root);\n",
       "  } else {\n",
       "    var attempts = 0;\n",
       "    var timer = setInterval(function(root) {\n",
       "      if (root.Bokeh !== undefined) {\n",
       "        clearInterval(timer);\n",
       "        embed_document(root);\n",
       "      } else {\n",
       "        attempts++;\n",
       "        if (attempts > 100) {\n",
       "          clearInterval(timer);\n",
       "          console.log(\"Bokeh: ERROR: Unable to run BokehJS code because BokehJS library is missing\");\n",
       "        }\n",
       "      }\n",
       "    }, 10, root)\n",
       "  }\n",
       "})(window);"
      ],
      "application/vnd.bokehjs_exec.v0+json": ""
     },
     "metadata": {
      "application/vnd.bokehjs_exec.v0+json": {
       "id": "5877"
      }
     },
     "output_type": "display_data"
    },
    {
     "data": {
      "text/html": [
       "\n",
       "\n",
       "\n",
       "\n",
       "\n",
       "\n",
       "  <div class=\"bk-root\" id=\"cab55875-00ca-4978-9dc5-d0e5223a647e\" data-root-id=\"6189\"></div>\n"
      ]
     },
     "metadata": {},
     "output_type": "display_data"
    },
    {
     "data": {
      "application/javascript": [
       "(function(root) {\n",
       "  function embed_document(root) {\n",
       "    \n",
       "  var docs_json = {\"1d4f4ddd-addf-4461-a59c-bbe0d15d0154\":{\"defs\":[],\"roots\":{\"references\":[{\"attributes\":{\"below\":[{\"id\":\"6200\"}],\"center\":[{\"id\":\"6203\"},{\"id\":\"6207\"}],\"left\":[{\"id\":\"6204\"}],\"renderers\":[{\"id\":\"6220\"}],\"title\":{\"id\":\"6190\"},\"toolbar\":{\"id\":\"6212\"},\"toolbar_location\":\"above\",\"x_range\":{\"id\":\"6192\"},\"x_scale\":{\"id\":\"6196\"},\"y_range\":{\"id\":\"6194\"},\"y_scale\":{\"id\":\"6198\"}},\"id\":\"6189\",\"subtype\":\"Figure\",\"type\":\"Plot\"},{\"attributes\":{},\"id\":\"6205\",\"type\":\"BasicTicker\"},{\"attributes\":{},\"id\":\"6201\",\"type\":\"BasicTicker\"},{\"attributes\":{},\"id\":\"6211\",\"type\":\"SaveTool\"},{\"attributes\":{},\"id\":\"6196\",\"type\":\"LinearScale\"},{\"attributes\":{},\"id\":\"6198\",\"type\":\"LinearScale\"},{\"attributes\":{\"data\":{\"left\":{\"__ndarray__\":\"Ln1Fs8cA0T8Cj39I0UbRP9Wgud3ajNE/qbLzcuTS0T99xC0I7hjSP1DWZ533XtI/JOihMgGl0j/4+dvHCuvSP8wLFl0UMdM/nx1Q8h130z9zL4qHJ73TP0ZBxBwxA9Q/GlP+sTpJ1D/uZDhHRI/UP8J2ctxN1dQ/lYiscVcb1T9pmuYGYWHVPz2sIJxqp9U/EL5aMXTt1T/kz5TGfTPWP7jhzluHedY/jPMI8ZC/1j9fBUOGmgXXPzMXfRukS9c/Bim3sK2R1z/aOvFFt9fXP65MK9vAHdg/gl5lcMpj2D9VcJ8F1KnYPymC2Zrd79g//JMTMOc12T/QpU3F8HvZP6S3h1r6wdk/eMnB7wMI2j9M2/uEDU7aPx/tNRoXlNo/8/5vryDa2j/GEKpEKiDbP5oi5NkzZts/bjQebz2s2z9CRlgER/LbPxVYkplQONw/6WnMLlp+3D+8ewbEY8TcP5CNQFltCt0/ZJ967nZQ3T84sbSDgJbdPwzD7hiK3N0/39QorpMi3j+y5mJDnWjeP4b4nNimrt4/WgrXbbD03j8uHBEDujrfPwIuS5jDgN8/1T+FLc3G3z/UqF9hawbgP76x/CtwKeA/qLqZ9nRM4D+SwzbBeW/gP3zM04t+kuA/ZtVwVoO14D9Q3g0hiNjgPzrnquuM++A/I/BHtpEe4T8N+eSAlkHhP/cBgkubZOE/4AofFqCH4T/KE7zgpKrhP7QcWaupzeE/niX2da7w4T+ILpNAsxPiP3I3MAu4NuI/XEDN1bxZ4j9GSWqgwXziPzBSB2vGn+I/GlukNcvC4j8DZEEA0OXiP+1s3srUCOM/13V7ldkr4z/Afhhg3k7jP6qHtSrjceM/lJBS9eeU4z9+me+/7LfjP2iijIrx2uM/UqspVfb94z88tMYf+yDkPya9Y+r/Q+Q/EMYAtQRn5D/5zp1/CYrkP+PXOkoOreQ/zeDXFBPQ5D+36XTfF/PkP6DyEaocFuU/ivuudCE55T90BEw/JlzlP14N6Qkrf+U/SBaG1C+i5T8yHyOfNMXlPxwowGk56OU/BjFdND4L5j8=\",\"dtype\":\"float64\",\"order\":\"little\",\"shape\":[100]},\"right\":{\"__ndarray__\":\"Ao9/SNFG0T/VoLnd2ozRP6my83Lk0tE/fcQtCO4Y0j9Q1med917SPyTooTIBpdI/+Pnbxwrr0j/MCxZdFDHTP58dUPIdd9M/cy+Khye90z9GQcQcMQPUPxpT/rE6SdQ/7mQ4R0SP1D/CdnLcTdXUP5WIrHFXG9U/aZrmBmFh1T89rCCcaqfVPxC+WjF07dU/5M+Uxn0z1j+44c5bh3nWP4zzCPGQv9Y/XwVDhpoF1z8zF30bpEvXPwYpt7Ctkdc/2jrxRbfX1z+uTCvbwB3YP4JeZXDKY9g/VXCfBdSp2D8pgtma3e/YP/yTEzDnNdk/0KVNxfB72T+kt4da+sHZP3jJwe8DCNo/TNv7hA1O2j8f7TUaF5TaP/P+b68g2to/xhCqRCog2z+aIuTZM2bbP240Hm89rNs/QkZYBEfy2z8VWJKZUDjcP+lpzC5aftw/vHsGxGPE3D+QjUBZbQrdP2Sfeu52UN0/OLG0g4CW3T8Mw+4YitzdP9/UKK6TIt4/suZiQ51o3j+G+JzYpq7eP1oK122w9N4/LhwRA7o63z8CLkuYw4DfP9U/hS3Nxt8/1KhfYWsG4D++sfwrcCngP6i6mfZ0TOA/ksM2wXlv4D98zNOLfpLgP2bVcFaDteA/UN4NIYjY4D8656rrjPvgPyPwR7aRHuE/DfnkgJZB4T/3AYJLm2ThP+AKHxagh+E/yhO84KSq4T+0HFmrqc3hP54l9nWu8OE/iC6TQLMT4j9yNzALuDbiP1xAzdW8WeI/RklqoMF84j8wUgdrxp/iPxpbpDXLwuI/A2RBANDl4j/tbN7K1AjjP9d1e5XZK+M/wH4YYN5O4z+qh7Uq43HjP5SQUvXnlOM/fpnvv+y34z9oooyK8drjP1KrKVX2/eM/PLTGH/sg5D8mvWPq/0PkPxDGALUEZ+Q/+c6dfwmK5D/j1zpKDq3kP83g1xQT0OQ/t+l03xfz5D+g8hGqHBblP4r7rnQhOeU/dARMPyZc5T9eDekJK3/lP0gWhtQvouU/Mh8jnzTF5T8cKMBpOejlPwYxXTQ+C+Y/7zn6/kIu5j8=\",\"dtype\":\"float64\",\"order\":\"little\",\"shape\":[100]},\"top\":{\"__ndarray__\":\"M5lF8wZN0j9giCZx3VnFPxGIJnHdWbU/73YH77NmiD8AAAAAAAAAAFysWJWJHUFA73YH77NmiD/vdgfvs2aYP2CIJnHdWbU/q1TJ6mCAvj+8Xc1T0YnRPzOZRfMGTbI/69S9kjwQ4z8zmUXzBk3CP0l3B++zZpg/73YH77NmiD+xE6OxIGcKQEl3B++zZpg/AAAAAAAAAAAzmUXzBk2yP+92B++zZpg/MdW9kjwQ4z8zmUXzBk2yPzHVvZI8ENM/73YH77NmmD8zmUXzBk2yP+92B++zZpg/dplF8wZNoj/vdgfvs2aYPwAAAAAAAAAA73YH77NmiD8AAAAAAAAAAGXDBn27w0hA73YH77NmiD8AAAAAAAAAAO92B++zZog/SXcH77NmiD/vdgfvs2aYPzOZRfMGTbI/M5lF8wZNoj9Jdwfvs2aIP6tUyepggL4/AAAAAAAAAACrVMnqYIDOP+92B++zZpg/73YH77NmmD8AAAAAAAAAALEd03/jQec/SXcH77NmiD/vdgfvs2aIPwAAAAAAAAAAM5lF8wZNsj/vdgfvs2aIP0l3B++zZqg/SXcH77NmiD8AAAAAAAAAAAAAAAAAAAAAxCFVtJvGEEAAAAAAAAAAAAAAAAAAAAAAM5lF8wZNoj/vdgfvs2aIPwAAAAAAAAAAzWXobIpzuz8AAAAAAAAAALqZRfMGTaI/M5lF8wZNoj/vdgfvs2aYP4D/FrBI4OY/AAAAAAAAAADvdgfvs2aIP+92B++zZog/73YH77NmmD8AAAAAAAAAAAAAAAAAAAAAPyJVtJvG0D/vdgfvs2aIPzOZRfMGTaI/AAAAAAAAAACiEDYyctPDPwAAAAAAAAAAAAAAAAAAAADNZehsinO7PzOZRfMGTaI/73YH77NmmD8AAAAAAAAAAO92B++zZpg/AAAAAAAAAAAzmUXzBk2iP+92B++zZpg/73YH77NmiD+idwfvs2aIP+92B++zZpg/73YH77NmiD/vdgfvs2aYP+92B++zZog/AAAAAAAAAAAAAAAAAAAAAO92B++zZog/nR0JF+YFYUA=\",\"dtype\":\"float64\",\"order\":\"little\",\"shape\":[100]}},\"selected\":{\"id\":\"6463\"},\"selection_policy\":{\"id\":\"6464\"}},\"id\":\"6217\",\"type\":\"ColumnDataSource\"},{\"attributes\":{\"formatter\":{\"id\":\"6460\"},\"major_label_policy\":{\"id\":\"6462\"},\"ticker\":{\"id\":\"6201\"}},\"id\":\"6200\",\"type\":\"LinearAxis\"},{\"attributes\":{\"data_source\":{\"id\":\"6217\"},\"glyph\":{\"id\":\"6218\"},\"hover_glyph\":null,\"muted_glyph\":null,\"nonselection_glyph\":{\"id\":\"6219\"},\"view\":{\"id\":\"6221\"}},\"id\":\"6220\",\"type\":\"GlyphRenderer\"},{\"attributes\":{},\"id\":\"6194\",\"type\":\"DataRange1d\"},{\"attributes\":{},\"id\":\"6210\",\"type\":\"ResetTool\"},{\"attributes\":{},\"id\":\"6192\",\"type\":\"DataRange1d\"},{\"attributes\":{\"axis\":{\"id\":\"6204\"},\"dimension\":1,\"ticker\":null},\"id\":\"6207\",\"type\":\"Grid\"},{\"attributes\":{\"source\":{\"id\":\"6217\"}},\"id\":\"6221\",\"type\":\"CDSView\"},{\"attributes\":{},\"id\":\"6457\",\"type\":\"BasicTickFormatter\"},{\"attributes\":{},\"id\":\"6209\",\"type\":\"WheelZoomTool\"},{\"attributes\":{\"text\":\"OM Terms Ratios Affinity Distribution\"},\"id\":\"6190\",\"type\":\"Title\"},{\"attributes\":{},\"id\":\"6459\",\"type\":\"AllLabels\"},{\"attributes\":{},\"id\":\"6208\",\"type\":\"PanTool\"},{\"attributes\":{\"axis\":{\"id\":\"6200\"},\"ticker\":null},\"id\":\"6203\",\"type\":\"Grid\"},{\"attributes\":{},\"id\":\"6460\",\"type\":\"BasicTickFormatter\"},{\"attributes\":{},\"id\":\"6463\",\"type\":\"Selection\"},{\"attributes\":{},\"id\":\"6464\",\"type\":\"UnionRenderers\"},{\"attributes\":{\"active_multi\":null,\"tools\":[{\"id\":\"6208\"},{\"id\":\"6209\"},{\"id\":\"6210\"},{\"id\":\"6211\"}]},\"id\":\"6212\",\"type\":\"Toolbar\"},{\"attributes\":{\"formatter\":{\"id\":\"6457\"},\"major_label_policy\":{\"id\":\"6459\"},\"ticker\":{\"id\":\"6205\"}},\"id\":\"6204\",\"type\":\"LinearAxis\"},{\"attributes\":{},\"id\":\"6462\",\"type\":\"AllLabels\"},{\"attributes\":{\"bottom\":{\"value\":0},\"fill_alpha\":{\"value\":0.1},\"fill_color\":{\"value\":\"#1f77b4\"},\"left\":{\"field\":\"left\"},\"line_alpha\":{\"value\":0.1},\"line_color\":{\"value\":\"#555555\"},\"right\":{\"field\":\"right\"},\"top\":{\"field\":\"top\"}},\"id\":\"6219\",\"type\":\"Quad\"},{\"attributes\":{\"bottom\":{\"value\":0},\"fill_color\":{\"value\":\"#1f77b4\"},\"left\":{\"field\":\"left\"},\"line_color\":{\"value\":\"#555555\"},\"right\":{\"field\":\"right\"},\"top\":{\"field\":\"top\"}},\"id\":\"6218\",\"type\":\"Quad\"}],\"root_ids\":[\"6189\"]},\"title\":\"Bokeh Application\",\"version\":\"2.3.3\"}};\n",
       "  var render_items = [{\"docid\":\"1d4f4ddd-addf-4461-a59c-bbe0d15d0154\",\"root_ids\":[\"6189\"],\"roots\":{\"6189\":\"cab55875-00ca-4978-9dc5-d0e5223a647e\"}}];\n",
       "  root.Bokeh.embed.embed_items_notebook(docs_json, render_items);\n",
       "\n",
       "  }\n",
       "  if (root.Bokeh !== undefined) {\n",
       "    embed_document(root);\n",
       "  } else {\n",
       "    var attempts = 0;\n",
       "    var timer = setInterval(function(root) {\n",
       "      if (root.Bokeh !== undefined) {\n",
       "        clearInterval(timer);\n",
       "        embed_document(root);\n",
       "      } else {\n",
       "        attempts++;\n",
       "        if (attempts > 100) {\n",
       "          clearInterval(timer);\n",
       "          console.log(\"Bokeh: ERROR: Unable to run BokehJS code because BokehJS library is missing\");\n",
       "        }\n",
       "      }\n",
       "    }, 10, root)\n",
       "  }\n",
       "})(window);"
      ],
      "application/vnd.bokehjs_exec.v0+json": ""
     },
     "metadata": {
      "application/vnd.bokehjs_exec.v0+json": {
       "id": "6189"
      }
     },
     "output_type": "display_data"
    },
    {
     "data": {
      "text/html": [
       "\n",
       "\n",
       "\n",
       "\n",
       "\n",
       "\n",
       "  <div class=\"bk-root\" id=\"7f726500-8d1c-4bee-8ccd-d00fb3551f0e\" data-root-id=\"6510\"></div>\n"
      ]
     },
     "metadata": {},
     "output_type": "display_data"
    },
    {
     "data": {
      "application/javascript": [
       "(function(root) {\n",
       "  function embed_document(root) {\n",
       "    \n",
       "  var docs_json = {\"d8834488-21ca-4da7-8245-31c44abc23df\":{\"defs\":[],\"roots\":{\"references\":[{\"attributes\":{\"below\":[{\"id\":\"6521\"}],\"center\":[{\"id\":\"6524\"},{\"id\":\"6528\"}],\"left\":[{\"id\":\"6525\"}],\"renderers\":[{\"id\":\"6541\"}],\"title\":{\"id\":\"6511\"},\"toolbar\":{\"id\":\"6533\"},\"toolbar_location\":\"above\",\"x_range\":{\"id\":\"6513\"},\"x_scale\":{\"id\":\"6517\"},\"y_range\":{\"id\":\"6515\"},\"y_scale\":{\"id\":\"6519\"}},\"id\":\"6510\",\"subtype\":\"Figure\",\"type\":\"Plot\"},{\"attributes\":{},\"id\":\"6522\",\"type\":\"BasicTicker\"},{\"attributes\":{\"text\":\"SD Terms Ratios Affinity Distribution\"},\"id\":\"6511\",\"type\":\"Title\"},{\"attributes\":{\"formatter\":{\"id\":\"6790\"},\"major_label_policy\":{\"id\":\"6792\"},\"ticker\":{\"id\":\"6522\"}},\"id\":\"6521\",\"type\":\"LinearAxis\"},{\"attributes\":{},\"id\":\"6517\",\"type\":\"LinearScale\"},{\"attributes\":{},\"id\":\"6519\",\"type\":\"LinearScale\"},{\"attributes\":{},\"id\":\"6526\",\"type\":\"BasicTicker\"},{\"attributes\":{\"bottom\":{\"value\":0},\"fill_alpha\":{\"value\":0.1},\"fill_color\":{\"value\":\"#1f77b4\"},\"left\":{\"field\":\"left\"},\"line_alpha\":{\"value\":0.1},\"line_color\":{\"value\":\"#555555\"},\"right\":{\"field\":\"right\"},\"top\":{\"field\":\"top\"}},\"id\":\"6540\",\"type\":\"Quad\"},{\"attributes\":{\"data_source\":{\"id\":\"6538\"},\"glyph\":{\"id\":\"6539\"},\"hover_glyph\":null,\"muted_glyph\":null,\"nonselection_glyph\":{\"id\":\"6540\"},\"view\":{\"id\":\"6542\"}},\"id\":\"6541\",\"type\":\"GlyphRenderer\"},{\"attributes\":{},\"id\":\"6515\",\"type\":\"DataRange1d\"},{\"attributes\":{\"axis\":{\"id\":\"6525\"},\"dimension\":1,\"ticker\":null},\"id\":\"6528\",\"type\":\"Grid\"},{\"attributes\":{\"source\":{\"id\":\"6538\"}},\"id\":\"6542\",\"type\":\"CDSView\"},{\"attributes\":{},\"id\":\"6513\",\"type\":\"DataRange1d\"},{\"attributes\":{},\"id\":\"6787\",\"type\":\"BasicTickFormatter\"},{\"attributes\":{},\"id\":\"6532\",\"type\":\"SaveTool\"},{\"attributes\":{\"bottom\":{\"value\":0},\"fill_color\":{\"value\":\"#1f77b4\"},\"left\":{\"field\":\"left\"},\"line_color\":{\"value\":\"#555555\"},\"right\":{\"field\":\"right\"},\"top\":{\"field\":\"top\"}},\"id\":\"6539\",\"type\":\"Quad\"},{\"attributes\":{},\"id\":\"6789\",\"type\":\"AllLabels\"},{\"attributes\":{},\"id\":\"6531\",\"type\":\"ResetTool\"},{\"attributes\":{},\"id\":\"6790\",\"type\":\"BasicTickFormatter\"},{\"attributes\":{},\"id\":\"6793\",\"type\":\"Selection\"},{\"attributes\":{},\"id\":\"6530\",\"type\":\"WheelZoomTool\"},{\"attributes\":{\"axis\":{\"id\":\"6521\"},\"ticker\":null},\"id\":\"6524\",\"type\":\"Grid\"},{\"attributes\":{\"formatter\":{\"id\":\"6787\"},\"major_label_policy\":{\"id\":\"6789\"},\"ticker\":{\"id\":\"6526\"}},\"id\":\"6525\",\"type\":\"LinearAxis\"},{\"attributes\":{},\"id\":\"6792\",\"type\":\"AllLabels\"},{\"attributes\":{},\"id\":\"6529\",\"type\":\"PanTool\"},{\"attributes\":{},\"id\":\"6794\",\"type\":\"UnionRenderers\"},{\"attributes\":{\"active_multi\":null,\"tools\":[{\"id\":\"6529\"},{\"id\":\"6530\"},{\"id\":\"6531\"},{\"id\":\"6532\"}]},\"id\":\"6533\",\"type\":\"Toolbar\"},{\"attributes\":{\"data\":{\"left\":{\"__ndarray__\":\"wQ22SB/Y0D83zHvzkB7RP62KQZ4CZdE/I0kHSXSr0T+ZB83z5fHRPw/Gkp5XONI/hYRYScl+0j/7Qh70OsXSP3EB5J6sC9M/57+pSR5S0z9efm/0j5jTP9Q8NZ8B39M/Svv6SXMl1D/AucD05GvUPzZ4hp9WstQ/rDZMSsj41D8i9RH1OT/VP5iz15+rhdU/DnKdSh3M1T+EMGP1jhLWP/ruKKAAWdY/cK3uSnKf1j/ma7T14+XWP1wqeqBVLNc/0ug/S8dy1z9IpwX2OLnXP75ly6Cq/9c/NCSRSxxG2D+q4lb2jYzYPyChHKH/0tg/ll/iS3EZ2T8MHqj24l/ZP4LcbaFUptk/+JozTMbs2T9uWfn2NzPaP+QXv6Gpedo/WtaETBvA2j/QlEr3jAbbP0dTEKL+TNs/vRHWTHCT2z8z0Jv34dnbP6mOYaJTINw/H00nTcVm3D+VC+33Nq3cPwvKsqKo89w/gYh4TRo63T/3Rj74i4DdP20FBKP9xt0/48PJTW8N3j9ago/44FPeP9BAVaNSmt4/Rv8aTsTg3j+8veD4NSffPzJ8pqOnbd8/qDpsThm03z8e+TH5ivrfP8rb+1F+IOA/BbteJ7dD4D9AmsH872bgP3t5JNIoiuA/tliHp2Gt4D/xN+p8mtDgPywXTVLT8+A/Z/avJwwX4T+i1RL9RDrhP920ddJ9XeE/GJTYp7aA4T9Tczt976PhP45SnlIox+E/yTEBKGHq4T8EEWT9mQ3iPz/wxtLSMOI/es8pqAtU4j+1rox9RHfiP/CN71J9muI/LG1SKLa94j9mTLX97uDiP6IrGNMnBOM/3Ap7qGAn4z8Y6t19mUrjP1LJQFPSbeM/jqijKAuR4z/Ihwb+Q7TjPwRnadN81+M/PkbMqLX64z96JS9+7h3kP7QEklMnQeQ/8OP0KGBk5D8qw1f+mIfkP2aiutPRquQ/oIEdqQrO5D/cYIB+Q/HkPxZA41N8FOU/Uh9GKbU35T+M/qj+7VrlP8jdC9QmfuU/Ar1uqV+h5T8+nNF+mMTlP3l7NFTR5+U/tFqXKQoL5j8=\",\"dtype\":\"float64\",\"order\":\"little\",\"shape\":[100]},\"right\":{\"__ndarray__\":\"N8x785Ae0T+tikGeAmXRPyNJB0l0q9E/mQfN8+Xx0T8PxpKeVzjSP4WEWEnJftI/+0Ie9DrF0j9xAeSerAvTP+e/qUkeUtM/Xn5v9I+Y0z/UPDWfAd/TP0r7+klzJdQ/wLnA9ORr1D82eIafVrLUP6w2TErI+NQ/IvUR9Tk/1T+Ys9efq4XVPw5ynUodzNU/hDBj9Y4S1j/67iigAFnWP3Ct7kpyn9Y/5mu09ePl1j9cKnqgVSzXP9LoP0vHctc/SKcF9ji51z++Zcugqv/XPzQkkUscRtg/quJW9o2M2D8goRyh/9LYP5Zf4ktxGdk/DB6o9uJf2T+C3G2hVKbZP/iaM0zG7Nk/bln59jcz2j/kF7+hqXnaP1rWhEwbwNo/0JRK94wG2z9HUxCi/kzbP70R1kxwk9s/M9Cb9+HZ2z+pjmGiUyDcPx9NJ03FZtw/lQvt9zat3D8LyrKiqPPcP4GIeE0aOt0/90Y++IuA3T9tBQSj/cbdP+PDyU1vDd4/WoKP+OBT3j/QQFWjUpreP0b/Gk7E4N4/vL3g+DUn3z8yfKajp23fP6g6bE4ZtN8/Hvkx+Yr63z/K2/tRfiDgPwW7Xie3Q+A/QJrB/O9m4D97eSTSKIrgP7ZYh6dhreA/8TfqfJrQ4D8sF01S0/PgP2f2rycMF+E/otUS/UQ64T/dtHXSfV3hPxiU2Ke2gOE/U3M7fe+j4T+OUp5SKMfhP8kxAShh6uE/BBFk/ZkN4j8/8MbS0jDiP3rPKagLVOI/ta6MfUR34j/wje9SfZriPyxtUii2veI/Zky1/e7g4j+iKxjTJwTjP9wKe6hgJ+M/GOrdfZlK4z9SyUBT0m3jP46ooygLkeM/yIcG/kO04z8EZ2nTfNfjPz5GzKi1+uM/eiUvfu4d5D+0BJJTJ0HkP/Dj9ChgZOQ/KsNX/piH5D9morrT0arkP6CBHakKzuQ/3GCAfkPx5D8WQONTfBTlP1IfRim1N+U/jP6o/u1a5T/I3QvUJn7lPwK9bqlfoeU/PpzRfpjE5T95ezRU0eflP7RalykKC+Y/7zn6/kIu5j8=\",\"dtype\":\"float64\",\"order\":\"little\",\"shape\":[100]},\"top\":{\"__ndarray__\":\"tVBhZGnAtj+TEY+hVXzSP4f8SAtPEME/h/xIC08QsT+1UGFkacCWP3Srn8XWozlAh/xIC08QoT/hpHm9g3CsP+Gkeb2DcKw/eqR5vYNwvD/3zgXqkEjPP7VQYWRpwKY/kxGPoVV84j8AAAAAAAAAAJ4m1Tdc6MM/tVBhZGnApj+1UGFkacCGPz0iEd0kxgVA4aR5vYNwvD+TEY+hVXzCP7VQYWRpwKY/Z7aJKGH55D+1UGFkacCmP4f8SAtPEKE/7Lm/U4rczT/Keu2Qdpi5P7VQYWRpwIY/ynrtkHaYuT+eJtU3XOizP+Gkeb2DcKw/h/xIC08QoT+1UGFkacCGPwAAAAAAAAAAiOiKb1QXQ0C1UGFkacCGP4f8SAtPEKE/tVBhZGnAhj9J/EgLTxChP7VQYWRpwIY/tVBhZGnAhj+1UGFkacC2P5MRj6FVfMI/tVBhZGnAhj/sub9TitzNP7VQYWRpwIY/h/xIC08QoT+H/EgLTxChP7VQYWRpwIY/vCkLY4XL7D+1UGFkacCmP7VQYWRpwKY/h/xIC08QwT+1UGFkacCmP4f8SAtPEKE/h/xIC08QoT+1UGFkacCGP7VQYWRpwIY/ZegP287WDkAAAAAAAAAAALVQYWRpwJY/tVBhZGnAhj+1UGFkacCmP7VQYWRpwJY/tVBhZGnAhj/WjzMnfQTLP4f8SAtPEKE/tVBhZGnApj8AAAAAAAAAADtUl4+So+8/AAAAAAAAAAC1UGFkacCWP7VQYWRpwJY/tVBhZGnAtj+H/EgLTxChPw9QYWRpwJY/5VuEr2x21z8PUGFkacCWP1pRYWRpwKY/D1BhZGnAlj+bkDMnfQTLPwAAAAAAAAAAWlFhZGnAlj8POxvOYlTFP1pRYWRpwIY/EqR5vYNwrD9aUWFkacCWPxKkeb2DcKw/AAAAAAAAAAAPUGFkacCmP1pRYWRpwKY/EqR5vYNwvD8uJ9U3XOizPwAAAAAAAAAALifVN1zosz8PUGFkacCmP1pRYWRpwJY/D1BhZGnAhj8AAAAAAAAAALVQYWRpwIY/OIWT9no0Y0A=\",\"dtype\":\"float64\",\"order\":\"little\",\"shape\":[100]}},\"selected\":{\"id\":\"6793\"},\"selection_policy\":{\"id\":\"6794\"}},\"id\":\"6538\",\"type\":\"ColumnDataSource\"}],\"root_ids\":[\"6510\"]},\"title\":\"Bokeh Application\",\"version\":\"2.3.3\"}};\n",
       "  var render_items = [{\"docid\":\"d8834488-21ca-4da7-8245-31c44abc23df\",\"root_ids\":[\"6510\"],\"roots\":{\"6510\":\"7f726500-8d1c-4bee-8ccd-d00fb3551f0e\"}}];\n",
       "  root.Bokeh.embed.embed_items_notebook(docs_json, render_items);\n",
       "\n",
       "  }\n",
       "  if (root.Bokeh !== undefined) {\n",
       "    embed_document(root);\n",
       "  } else {\n",
       "    var attempts = 0;\n",
       "    var timer = setInterval(function(root) {\n",
       "      if (root.Bokeh !== undefined) {\n",
       "        clearInterval(timer);\n",
       "        embed_document(root);\n",
       "      } else {\n",
       "        attempts++;\n",
       "        if (attempts > 100) {\n",
       "          clearInterval(timer);\n",
       "          console.log(\"Bokeh: ERROR: Unable to run BokehJS code because BokehJS library is missing\");\n",
       "        }\n",
       "      }\n",
       "    }, 10, root)\n",
       "  }\n",
       "})(window);"
      ],
      "application/vnd.bokehjs_exec.v0+json": ""
     },
     "metadata": {
      "application/vnd.bokehjs_exec.v0+json": {
       "id": "6510"
      }
     },
     "output_type": "display_data"
    },
    {
     "data": {
      "text/html": [
       "\n",
       "\n",
       "\n",
       "\n",
       "\n",
       "\n",
       "  <div class=\"bk-root\" id=\"4bc41551-8730-4174-afd1-49c2da58acdb\" data-root-id=\"6840\"></div>\n"
      ]
     },
     "metadata": {},
     "output_type": "display_data"
    },
    {
     "data": {
      "application/javascript": [
       "(function(root) {\n",
       "  function embed_document(root) {\n",
       "    \n",
       "  var docs_json = {\"4c8ee2c7-7ad5-4f24-af40-8b8ccd81adf0\":{\"defs\":[],\"roots\":{\"references\":[{\"attributes\":{\"below\":[{\"id\":\"6851\"}],\"center\":[{\"id\":\"6854\"},{\"id\":\"6858\"}],\"left\":[{\"id\":\"6855\"}],\"renderers\":[{\"id\":\"6871\"}],\"title\":{\"id\":\"6841\"},\"toolbar\":{\"id\":\"6863\"},\"toolbar_location\":\"above\",\"x_range\":{\"id\":\"6843\"},\"x_scale\":{\"id\":\"6847\"},\"y_range\":{\"id\":\"6845\"},\"y_scale\":{\"id\":\"6849\"}},\"id\":\"6840\",\"subtype\":\"Figure\",\"type\":\"Plot\"},{\"attributes\":{},\"id\":\"6843\",\"type\":\"DataRange1d\"},{\"attributes\":{\"formatter\":{\"id\":\"7129\"},\"major_label_policy\":{\"id\":\"7131\"},\"ticker\":{\"id\":\"6852\"}},\"id\":\"6851\",\"type\":\"LinearAxis\"},{\"attributes\":{\"formatter\":{\"id\":\"7126\"},\"major_label_policy\":{\"id\":\"7128\"},\"ticker\":{\"id\":\"6856\"}},\"id\":\"6855\",\"type\":\"LinearAxis\"},{\"attributes\":{},\"id\":\"6845\",\"type\":\"DataRange1d\"},{\"attributes\":{},\"id\":\"6852\",\"type\":\"BasicTicker\"},{\"attributes\":{},\"id\":\"6856\",\"type\":\"BasicTicker\"},{\"attributes\":{\"text\":\"SY Terms Ratios Affinity Distribution\"},\"id\":\"6841\",\"type\":\"Title\"},{\"attributes\":{},\"id\":\"6849\",\"type\":\"LinearScale\"},{\"attributes\":{},\"id\":\"6847\",\"type\":\"LinearScale\"},{\"attributes\":{\"source\":{\"id\":\"6868\"}},\"id\":\"6872\",\"type\":\"CDSView\"},{\"attributes\":{\"bottom\":{\"value\":0},\"fill_color\":{\"value\":\"#1f77b4\"},\"left\":{\"field\":\"left\"},\"line_color\":{\"value\":\"#555555\"},\"right\":{\"field\":\"right\"},\"top\":{\"field\":\"top\"}},\"id\":\"6869\",\"type\":\"Quad\"},{\"attributes\":{\"bottom\":{\"value\":0},\"fill_alpha\":{\"value\":0.1},\"fill_color\":{\"value\":\"#1f77b4\"},\"left\":{\"field\":\"left\"},\"line_alpha\":{\"value\":0.1},\"line_color\":{\"value\":\"#555555\"},\"right\":{\"field\":\"right\"},\"top\":{\"field\":\"top\"}},\"id\":\"6870\",\"type\":\"Quad\"},{\"attributes\":{\"data_source\":{\"id\":\"6868\"},\"glyph\":{\"id\":\"6869\"},\"hover_glyph\":null,\"muted_glyph\":null,\"nonselection_glyph\":{\"id\":\"6870\"},\"view\":{\"id\":\"6872\"}},\"id\":\"6871\",\"type\":\"GlyphRenderer\"},{\"attributes\":{},\"id\":\"7126\",\"type\":\"BasicTickFormatter\"},{\"attributes\":{\"axis\":{\"id\":\"6855\"},\"dimension\":1,\"ticker\":null},\"id\":\"6858\",\"type\":\"Grid\"},{\"attributes\":{},\"id\":\"7128\",\"type\":\"AllLabels\"},{\"attributes\":{},\"id\":\"7129\",\"type\":\"BasicTickFormatter\"},{\"attributes\":{},\"id\":\"6861\",\"type\":\"ResetTool\"},{\"attributes\":{},\"id\":\"6862\",\"type\":\"SaveTool\"},{\"attributes\":{},\"id\":\"7132\",\"type\":\"Selection\"},{\"attributes\":{},\"id\":\"6859\",\"type\":\"PanTool\"},{\"attributes\":{},\"id\":\"7131\",\"type\":\"AllLabels\"},{\"attributes\":{},\"id\":\"6860\",\"type\":\"WheelZoomTool\"},{\"attributes\":{},\"id\":\"7133\",\"type\":\"UnionRenderers\"},{\"attributes\":{\"axis\":{\"id\":\"6851\"},\"ticker\":null},\"id\":\"6854\",\"type\":\"Grid\"},{\"attributes\":{\"active_multi\":null,\"tools\":[{\"id\":\"6859\"},{\"id\":\"6860\"},{\"id\":\"6861\"},{\"id\":\"6862\"}]},\"id\":\"6863\",\"type\":\"Toolbar\"},{\"attributes\":{\"data\":{\"left\":{\"__ndarray__\":\"cWT/Adzn0D8TuTxjJS7RP7YNesRudNE/WGK3Jbi60T/6tvSGAQHSP50LMuhKR9I/P2BvSZSN0j/itKyq3dPSP4QJ6gsnGtM/Jl4nbXBg0z/JsmTOuabTP2sHoi8D7dM/DlzfkEwz1D+wsBzylXnUP1IFWlPfv9Q/9FmXtCgG1T+XrtQVckzVPzoDEne7ktU/3FdP2ATZ1T9+rIw5Th/WPyABypqXZdY/w1UH/OCr1j9lqkRdKvLWPwj/gb5zONc/qlO/H71+1z9MqPyABsXXP+/8OeJPC9g/kVF3Q5lR2D80prSk4pfYP9b68QUs3tg/eE8vZ3Uk2T8apGzIvmrZP734qSkIsdk/YE3nilH32T8CoiTsmj3aP6T2YU3kg9o/Rkufri3K2j/pn9wPdxDbP4v0GXHAVts/LklX0gmd2z/QnZQzU+PbP3Ly0ZScKdw/FUcP9uVv3D+3m0xXL7bcP1rwibh4/Nw//ETHGcJC3T+emQR7C4ndP0DuQdxUz90/40J/PZ4V3j+Gl7ye51vePyjs+f8wot4/ykA3YXro3j9slXTCwy7fPw/qsSMNdd8/sT7vhFa73z+qSRbzzwDgP/vztKP0I+A/TJ5TVBlH4D+eSPIEPmrgP+7ykLVijeA/QJ0vZoew4D+RR84WrNPgP+LxbMfQ9uA/NJwLePUZ4T+ERqooGj3hP9bwSNk+YOE/J5vniWOD4T94RYY6iKbhP8rvJOusyeE/GprDm9Hs4T9sRGJM9g/iP73uAP0aM+I/DpmfrT9W4j9fQz5eZHniP7Dt3A6JnOI/Aph7v62/4j9SQhpw0uLiP6TsuCD3BeM/9ZZX0Rsp4z9GQfaBQEzjP5jrlDJlb+M/6JUz44mS4z86QNKTrrXjP4vqcETT2OM/3JQP9ff74z8uP66lHB/kP37pTFZBQuQ/0JPrBmZl5D8hPoq3iojkP3LoKGivq+Q/xJLHGNTO5D8UPWbJ+PHkP2bnBHodFeU/t5GjKkI45T8IPELbZlvlP1rm4IuLfuU/qpB/PLCh5T/8Oh7t1MTlP03lvJ355+U/no9bTh4L5j8=\",\"dtype\":\"float64\",\"order\":\"little\",\"shape\":[100]},\"right\":{\"__ndarray__\":\"E7k8YyUu0T+2DXrEbnTRP1hityW4utE/+rb0hgEB0j+dCzLoSkfSPz9gb0mUjdI/4rSsqt3T0j+ECeoLJxrTPyZeJ21wYNM/ybJkzrmm0z9rB6IvA+3TPw5c35BMM9Q/sLAc8pV51D9SBVpT37/UP/RZl7QoBtU/l67UFXJM1T86AxJ3u5LVP9xXT9gE2dU/fqyMOU4f1j8gAcqal2XWP8NVB/zgq9Y/ZapEXSry1j8I/4G+czjXP6pTvx+9ftc/TKj8gAbF1z/v/DniTwvYP5FRd0OZUdg/NKa0pOKX2D/W+vEFLN7YP3hPL2d1JNk/GqRsyL5q2T+9+KkpCLHZP2BN54pR99k/AqIk7Jo92j+k9mFN5IPaP0ZLn64tyto/6Z/cD3cQ2z+L9BlxwFbbPy5JV9IJnds/0J2UM1Pj2z9y8tGUnCncPxVHD/blb9w/t5tMVy+23D9a8Im4ePzcP/xExxnCQt0/npkEewuJ3T9A7kHcVM/dP+NCfz2eFd4/hpe8nudb3j8o7Pn/MKLeP8pAN2F66N4/bJV0wsMu3z8P6rEjDXXfP7E+74RWu98/qkkW888A4D/787Sj9CPgP0yeU1QZR+A/nkjyBD5q4D/u8pC1Yo3gP0CdL2aHsOA/kUfOFqzT4D/i8WzH0PbgPzScC3j1GeE/hEaqKBo94T/W8EjZPmDhPyeb54ljg+E/eEWGOoim4T/K7yTrrMnhPxqaw5vR7OE/bERiTPYP4j+97gD9GjPiPw6Zn60/VuI/X0M+XmR54j+w7dwOiZziPwKYe7+tv+I/UkIacNLi4j+k7Lgg9wXjP/WWV9EbKeM/RkH2gUBM4z+Y65QyZW/jP+iVM+OJkuM/OkDSk6614z+L6nBE09jjP9yUD/X3++M/Lj+upRwf5D9+6UxWQULkP9CT6wZmZeQ/IT6Kt4qI5D9y6Chor6vkP8SSxxjUzuQ/FD1myfjx5D9m5wR6HRXlP7eRoypCOOU/CDxC22Zb5T9a5uCLi37lP6qQfzywoeU//Doe7dTE5T9N5byd+eflP56PW04eC+Y/7zn6/kIu5j8=\",\"dtype\":\"float64\",\"order\":\"little\",\"shape\":[100]},\"top\":{\"__ndarray__\":\"O2vElMtwvz/s67BMtTbDP+iQiYuNd7E/prR1Enzymz8AAAAAAAAAAOi7NIM6lkBAqJCJi413sT+mtHUSfPKrP6a0dRJ88rs/7OuwTLU2wz/okImLjXfRP0C0dRJ88rs/x6L/zgS15j98R9gN3fW0PxH+JpAsdLg/QLR1Enzymz/g9xbdfN8JQKa0dRJ88os/Ef4mkCx0uD87a8SUy3C/P0C0dRJ88os/qnCOHROG5D8AAAAAAAAAAHxH2A3d9aQ/W1lOUVQzyj/8WE5RVDPKPxH+JpAsdLg/QLR1Enzyiz98R9gN3fWkP3xH2A3d9aQ/prR1Enzymz9AtHUSfPKbP4dNPNGLM0hAAAAAAAAAAAAAAAAAAAAAAKa0dRJ88ps/MUfYDd31pD+mtHUSfPKLPzFH2A3d9aQ/prR1Enzyqz+mtHUSfPKLP+zrsEy1NsM/prR1Enzyiz/8WE5RVDPKP6a0dRJ88ps/AAAAAAAAAACmtHUSfPKLPyuCBGGKw+k/AAAAAAAAAACmtHUSfPKbP6a0dRJ88ps/fEfYDd31xD8AAAAAAAAAAKa0dRJ88qs/QLR1Enzyiz8AAAAAAAAAAKa0dRJ88os/Bz4dbCFXEkBxtXUSfPKLPwAAAAAAAAAAprR1Enzyiz+mtHUSfPKLP9qzdRJ88qs/AAAAAAAAAADkRtgN3fW0P3xH2A3d9aQ/prR1Enzymz/as3USfPKLP5TD+jx/puM/AAAAAAAAAAAAAAAAAAAAAAAAAAAAAAAAprR1Enzymz8AAAAAAAAAAAAAAAAAAAAAFUjYDd311D8AAAAAAAAAAKa0dRJ88ps/prR1Enzyiz/as3USfPKrPwAAAAAAAAAA2rN1Enzyiz+mtHUSfPKrP6a0dRJ88ps/aJCJi413sT9xtXUSfPKLP+RG2A3d9aQ/prR1Enzymz+mtHUSfPKrP9qzdRJ88qs/cbV1Enzymz/as3USfPKbP6a0dRJ88os/prR1Enzymz/as3USfPKbP3G1dRJ88os/AAAAAAAAAACmtHUSfPKLPwAAAAAAAAAAixLm9V4RYUA=\",\"dtype\":\"float64\",\"order\":\"little\",\"shape\":[100]}},\"selected\":{\"id\":\"7132\"},\"selection_policy\":{\"id\":\"7133\"}},\"id\":\"6868\",\"type\":\"ColumnDataSource\"}],\"root_ids\":[\"6840\"]},\"title\":\"Bokeh Application\",\"version\":\"2.3.3\"}};\n",
       "  var render_items = [{\"docid\":\"4c8ee2c7-7ad5-4f24-af40-8b8ccd81adf0\",\"root_ids\":[\"6840\"],\"roots\":{\"6840\":\"4bc41551-8730-4174-afd1-49c2da58acdb\"}}];\n",
       "  root.Bokeh.embed.embed_items_notebook(docs_json, render_items);\n",
       "\n",
       "  }\n",
       "  if (root.Bokeh !== undefined) {\n",
       "    embed_document(root);\n",
       "  } else {\n",
       "    var attempts = 0;\n",
       "    var timer = setInterval(function(root) {\n",
       "      if (root.Bokeh !== undefined) {\n",
       "        clearInterval(timer);\n",
       "        embed_document(root);\n",
       "      } else {\n",
       "        attempts++;\n",
       "        if (attempts > 100) {\n",
       "          clearInterval(timer);\n",
       "          console.log(\"Bokeh: ERROR: Unable to run BokehJS code because BokehJS library is missing\");\n",
       "        }\n",
       "      }\n",
       "    }, 10, root)\n",
       "  }\n",
       "})(window);"
      ],
      "application/vnd.bokehjs_exec.v0+json": ""
     },
     "metadata": {
      "application/vnd.bokehjs_exec.v0+json": {
       "id": "6840"
      }
     },
     "output_type": "display_data"
    },
    {
     "data": {
      "text/html": [
       "\n",
       "\n",
       "\n",
       "\n",
       "\n",
       "\n",
       "  <div class=\"bk-root\" id=\"57322508-6b99-4084-858e-504f132869c4\" data-root-id=\"7179\"></div>\n"
      ]
     },
     "metadata": {},
     "output_type": "display_data"
    },
    {
     "data": {
      "application/javascript": [
       "(function(root) {\n",
       "  function embed_document(root) {\n",
       "    \n",
       "  var docs_json = {\"271e5d27-8c9f-45ce-a1a3-6af000122946\":{\"defs\":[],\"roots\":{\"references\":[{\"attributes\":{\"below\":[{\"id\":\"7190\"}],\"center\":[{\"id\":\"7193\"},{\"id\":\"7197\"}],\"left\":[{\"id\":\"7194\"}],\"renderers\":[{\"id\":\"7210\"}],\"title\":{\"id\":\"7180\"},\"toolbar\":{\"id\":\"7202\"},\"toolbar_location\":\"above\",\"x_range\":{\"id\":\"7182\"},\"x_scale\":{\"id\":\"7186\"},\"y_range\":{\"id\":\"7184\"},\"y_scale\":{\"id\":\"7188\"}},\"id\":\"7179\",\"subtype\":\"Figure\",\"type\":\"Plot\"},{\"attributes\":{\"formatter\":{\"id\":\"7477\"},\"major_label_policy\":{\"id\":\"7479\"},\"ticker\":{\"id\":\"7191\"}},\"id\":\"7190\",\"type\":\"LinearAxis\"},{\"attributes\":{},\"id\":\"7184\",\"type\":\"DataRange1d\"},{\"attributes\":{},\"id\":\"7182\",\"type\":\"DataRange1d\"},{\"attributes\":{\"active_multi\":null,\"tools\":[{\"id\":\"7198\"},{\"id\":\"7199\"},{\"id\":\"7200\"},{\"id\":\"7201\"}]},\"id\":\"7202\",\"type\":\"Toolbar\"},{\"attributes\":{\"source\":{\"id\":\"7207\"}},\"id\":\"7211\",\"type\":\"CDSView\"},{\"attributes\":{},\"id\":\"7199\",\"type\":\"WheelZoomTool\"},{\"attributes\":{\"bottom\":{\"value\":0},\"fill_color\":{\"value\":\"#1f77b4\"},\"left\":{\"field\":\"left\"},\"line_color\":{\"value\":\"#555555\"},\"right\":{\"field\":\"right\"},\"top\":{\"field\":\"top\"}},\"id\":\"7208\",\"type\":\"Quad\"},{\"attributes\":{},\"id\":\"7477\",\"type\":\"BasicTickFormatter\"},{\"attributes\":{},\"id\":\"7198\",\"type\":\"PanTool\"},{\"attributes\":{},\"id\":\"7480\",\"type\":\"Selection\"},{\"attributes\":{},\"id\":\"7474\",\"type\":\"BasicTickFormatter\"},{\"attributes\":{},\"id\":\"7476\",\"type\":\"AllLabels\"},{\"attributes\":{\"data_source\":{\"id\":\"7207\"},\"glyph\":{\"id\":\"7208\"},\"hover_glyph\":null,\"muted_glyph\":null,\"nonselection_glyph\":{\"id\":\"7209\"},\"view\":{\"id\":\"7211\"}},\"id\":\"7210\",\"type\":\"GlyphRenderer\"},{\"attributes\":{\"axis\":{\"id\":\"7194\"},\"dimension\":1,\"ticker\":null},\"id\":\"7197\",\"type\":\"Grid\"},{\"attributes\":{\"data\":{\"left\":{\"__ndarray__\":\"ToLCbG7X0D8+sErc4R3RPy3e0ktVZNE/HQxbu8iq0T8MOuMqPPHRP/xna5qvN9I/65XzCSN+0j/bw3t5lsTSP8rxA+kJC9M/uh+MWH1R0z+pTRTI8JfTP5l7nDdk3tM/iKkkp9ck1D9416wWS2vUP2cFNYa+sdQ/VzO99TH41D9GYUVlpT7VPzaPzdQYhdU/Jb1VRIzL1T8V692z/xHWPwQZZiNzWNY/9Ebukuae1j/jdHYCWuXWP9Oi/nHNK9c/wtCG4UBy1z+y/g5RtLjXP6Isl8An/9c/kVofMJtF2D+AiKefDozYP3C2Lw+C0tg/YOS3fvUY2T9PEkDuaF/ZPz5AyF3cpdk/Lm5QzU/s2T8enNg8wzLaPw3KYKw2edo//PfoG6q/2j/sJXGLHQbbP9xT+fqQTNs/y4GBagST2z+6rwnad9nbP6rdkUnrH9w/mgsauV5m3D+JOaIo0qzcP3hnKphF89w/aJWyB7k53T9Ywzp3LIDdP0fxwuafxt0/Nx9LVhMN3j8mTdPFhlPePxZ7WzX6md4/BqnjpG3g3j/11msU4SbfP+QE9INUbd8/1DJ888ez3z/EYARjO/rfP1pHRmlXIOA/UV4KIZFD4D9Jdc7YymbgP0CMkpAEiuA/OKNWSD6t4D8wuhoAeNDgPyjR3rex8+A/IOiib+sW4T8Y/2YnJTrhPxAWK99eXeE/By3vlpiA4T//Q7NO0qPhP/ZadwYMx+E/7nE7vkXq4T/miP91fw3iP96fwy25MOI/1raH5fJT4j/OzUudLHfiP8XkD1VmmuI/vfvTDKC94j+0EpjE2eDiP6wpXHwTBOM/pEAgNE0n4z+cV+TrhkrjP5RuqKPAbeM/jIVsW/qQ4z+DnDATNLTjP3uz9Mpt1+M/csq4gqf64z9q4Xw64R3kP2L4QPIaQeQ/Wg8FqlRk5D9SJslhjofkP0o9jRnIquQ/QVRR0QHO5D85axWJO/HkPzCC2UB1FOU/KJmd+K435T8gsGGw6FrlPxjHJWgifuU/EN7pH1yh5T8I9a3XlcTlPwAMco/P5+U/9yI2RwkL5j8=\",\"dtype\":\"float64\",\"order\":\"little\",\"shape\":[100]},\"right\":{\"__ndarray__\":\"PrBK3OEd0T8t3tJLVWTRPx0MW7vIqtE/DDrjKjzx0T/8Z2uarzfSP+uV8wkjftI/28N7eZbE0j/K8QPpCQvTP7ofjFh9UdM/qU0UyPCX0z+Ze5w3ZN7TP4ipJKfXJNQ/eNesFktr1D9nBTWGvrHUP1czvfUx+NQ/RmFFZaU+1T82j83UGIXVPyW9VUSMy9U/Fevds/8R1j8EGWYjc1jWP/RG7pLmntY/43R2Alrl1j/Tov5xzSvXP8LQhuFActc/sv4OUbS41z+iLJfAJ//XP5FaHzCbRdg/gIinnw6M2D9wti8PgtLYP2Dkt371GNk/TxJA7mhf2T8+QMhd3KXZPy5uUM1P7Nk/HpzYPMMy2j8NymCsNnnaP/z36Buqv9o/7CVxix0G2z/cU/n6kEzbP8uBgWoEk9s/uq8J2nfZ2z+q3ZFJ6x/cP5oLGrleZtw/iTmiKNKs3D94ZyqYRfPcP2iVsge5Od0/WMM6dyyA3T9H8cLmn8bdPzcfS1YTDd4/Jk3TxYZT3j8We1s1+pnePwap46Rt4N4/9dZrFOEm3z/kBPSDVG3fP9QyfPPHs98/xGAEYzv63z9aR0ZpVyDgP1FeCiGRQ+A/SXXO2Mpm4D9AjJKQBIrgPzijVkg+reA/MLoaAHjQ4D8o0d63sfPgPyDoom/rFuE/GP9mJyU64T8QFivfXl3hPwct75aYgOE//0OzTtKj4T/2WncGDMfhP+5xO75F6uE/5oj/dX8N4j/en8MtuTDiP9a2h+XyU+I/zs1LnSx34j/F5A9VZpriP7370wygveI/tBKYxNng4j+sKVx8EwTjP6RAIDRNJ+M/nFfk64ZK4z+UbqijwG3jP4yFbFv6kOM/g5wwEzS04z97s/TKbdfjP3LKuIKn+uM/auF8OuEd5D9i+EDyGkHkP1oPBapUZOQ/UibJYY6H5D9KPY0ZyKrkP0FUUdEBzuQ/OWsViTvx5D8wgtlAdRTlPyiZnfiuN+U/ILBhsOha5T8YxyVoIn7lPxDe6R9coeU/CPWt15XE5T8ADHKPz+flP/ciNkcJC+Y/7zn6/kIu5j8=\",\"dtype\":\"float64\",\"order\":\"little\",\"shape\":[100]},\"top\":{\"__ndarray__\":\"TZowUFEkxz/a46P/CiffP2NhUYNTX90/8zL7PWF30D9IGN7TmVy1P7EGTEN7PDpASBje05lclT+o21kOLQjIP2NhUYNTX80/rhyDzAjs2D/X/cBp0kHaP4JVYpkGscI/mktfhME+8T98FDnbKs3BP0gY3tOZXNU/cJLmXnMFwD82kuZecwWwP+M2Xf1sUQ5AVl2siuTPyT98FDnbKs3RP02aMFBRJMc/0Sc/BbWx9D9BlotX4pSzP4mWi1filMM/OxQ52yrN4T+6cyT8PFvRP3wUOdsqzbE/lRje05lcxT8/VWKZBrHCPz9VYpkGscI/rhyDzAjsqD+uHIPMCOyoP18gKMV3e3w/SMpFrHPsRECVGN7TmVyVP5UY3tOZXKU/TZowUFEktz87FDnbKs3BP3wUOdsqzcE/lRje05lcpT9o46P/CifPP1HbWQ4tCNg/fBQ52yrNsT9Nhyomxz/kP0gY3tOZXKU/TZowUFEktz+uHIPMCOyoP18gKMV3e5w/JTtFLz+W9z9THIPMCOyoP0GWi1filLM/qNtZDi0I2D98FDnbKs2xP0gY3tOZXMU/TZowUFEktz9fICjFd3usP+MY3tOZXKU/W2Z0qifzGEDjGN7TmVylP0gY3tOZXJU/OxQ52yrNoT9lonpBL0O+P0TXtBW+eMQ/OxQ52yrNoT9KWQeSdUDWP9CWi1filMM/UxyDzAjsqD/jGN7TmVylP6kzLu8BYP8/XyAoxXd7fD9fICjFd3ucPzsUOdsqzbE/ONMPHU/pwD/QlotX4pSzP1Mcg8wI7Kg/qgl9on4H5j9THIPMCOyoP0gY3tOZXKU/XyAoxXd7nD9THIPMCOzYPzsUOdsqzaE/0JaLV+KUsz+9tE26GD/SPwkdg8wI7Kg/ONMPHU/pwD9IGN7TmVyVP0GWi1filMM/OxQ52yrNoT82kuZecwWwPwkdg8wI7Lg/Wp7VSMCzuj8uISjFd3usP0gY3tOZXJU/XyAoxXd7nD82kuZecwWwP18gKMV3e4w/XyAoxXd7jD9fICjFd3t8PwAAAAAAAAAAFC0eSlcBYUA=\",\"dtype\":\"float64\",\"order\":\"little\",\"shape\":[100]}},\"selected\":{\"id\":\"7480\"},\"selection_policy\":{\"id\":\"7481\"}},\"id\":\"7207\",\"type\":\"ColumnDataSource\"},{\"attributes\":{},\"id\":\"7186\",\"type\":\"LinearScale\"},{\"attributes\":{\"bottom\":{\"value\":0},\"fill_alpha\":{\"value\":0.1},\"fill_color\":{\"value\":\"#1f77b4\"},\"left\":{\"field\":\"left\"},\"line_alpha\":{\"value\":0.1},\"line_color\":{\"value\":\"#555555\"},\"right\":{\"field\":\"right\"},\"top\":{\"field\":\"top\"}},\"id\":\"7209\",\"type\":\"Quad\"},{\"attributes\":{},\"id\":\"7479\",\"type\":\"AllLabels\"},{\"attributes\":{\"formatter\":{\"id\":\"7474\"},\"major_label_policy\":{\"id\":\"7476\"},\"ticker\":{\"id\":\"7195\"}},\"id\":\"7194\",\"type\":\"LinearAxis\"},{\"attributes\":{},\"id\":\"7201\",\"type\":\"SaveTool\"},{\"attributes\":{},\"id\":\"7481\",\"type\":\"UnionRenderers\"},{\"attributes\":{\"axis\":{\"id\":\"7190\"},\"ticker\":null},\"id\":\"7193\",\"type\":\"Grid\"},{\"attributes\":{},\"id\":\"7191\",\"type\":\"BasicTicker\"},{\"attributes\":{},\"id\":\"7195\",\"type\":\"BasicTicker\"},{\"attributes\":{},\"id\":\"7200\",\"type\":\"ResetTool\"},{\"attributes\":{\"text\":\"LB Terms Ratios Affinity Distribution\"},\"id\":\"7180\",\"type\":\"Title\"},{\"attributes\":{},\"id\":\"7188\",\"type\":\"LinearScale\"}],\"root_ids\":[\"7179\"]},\"title\":\"Bokeh Application\",\"version\":\"2.3.3\"}};\n",
       "  var render_items = [{\"docid\":\"271e5d27-8c9f-45ce-a1a3-6af000122946\",\"root_ids\":[\"7179\"],\"roots\":{\"7179\":\"57322508-6b99-4084-858e-504f132869c4\"}}];\n",
       "  root.Bokeh.embed.embed_items_notebook(docs_json, render_items);\n",
       "\n",
       "  }\n",
       "  if (root.Bokeh !== undefined) {\n",
       "    embed_document(root);\n",
       "  } else {\n",
       "    var attempts = 0;\n",
       "    var timer = setInterval(function(root) {\n",
       "      if (root.Bokeh !== undefined) {\n",
       "        clearInterval(timer);\n",
       "        embed_document(root);\n",
       "      } else {\n",
       "        attempts++;\n",
       "        if (attempts > 100) {\n",
       "          clearInterval(timer);\n",
       "          console.log(\"Bokeh: ERROR: Unable to run BokehJS code because BokehJS library is missing\");\n",
       "        }\n",
       "      }\n",
       "    }, 10, root)\n",
       "  }\n",
       "})(window);"
      ],
      "application/vnd.bokehjs_exec.v0+json": ""
     },
     "metadata": {
      "application/vnd.bokehjs_exec.v0+json": {
       "id": "7179"
      }
     },
     "output_type": "display_data"
    },
    {
     "data": {
      "text/html": [
       "\n",
       "\n",
       "\n",
       "\n",
       "\n",
       "\n",
       "  <div class=\"bk-root\" id=\"8c6d35ab-038a-4236-9c35-8e50c0b918b0\" data-root-id=\"7527\"></div>\n"
      ]
     },
     "metadata": {},
     "output_type": "display_data"
    },
    {
     "data": {
      "application/javascript": [
       "(function(root) {\n",
       "  function embed_document(root) {\n",
       "    \n",
       "  var docs_json = {\"9a455a8d-6741-4607-b597-8978db4d2a0d\":{\"defs\":[],\"roots\":{\"references\":[{\"attributes\":{\"below\":[{\"id\":\"7538\"}],\"center\":[{\"id\":\"7541\"},{\"id\":\"7545\"}],\"left\":[{\"id\":\"7542\"}],\"renderers\":[{\"id\":\"7558\"}],\"title\":{\"id\":\"7528\"},\"toolbar\":{\"id\":\"7550\"},\"toolbar_location\":\"above\",\"x_range\":{\"id\":\"7530\"},\"x_scale\":{\"id\":\"7534\"},\"y_range\":{\"id\":\"7532\"},\"y_scale\":{\"id\":\"7536\"}},\"id\":\"7527\",\"subtype\":\"Figure\",\"type\":\"Plot\"},{\"attributes\":{},\"id\":\"7543\",\"type\":\"BasicTicker\"},{\"attributes\":{},\"id\":\"7536\",\"type\":\"LinearScale\"},{\"attributes\":{\"data\":{\"left\":{\"__ndarray__\":\"zM+43dTb0D+4cpAJPSLRP6MVaDWlaNE/j7g/YQ2v0T97WxeNdfXRP2b+7rjdO9I/UqHG5EWC0j8+RJ4QrsjSPyrndTwWD9M/FYpNaH5V0z8BLSWU5pvTP+3P/L9O4tM/2HLU67Yo1D/EFawXH2/UP7C4g0OHtdQ/nFtbb+/71D+H/jKbV0LVP3OhCse/iNU/X0Ti8ifP1T9K57kekBXWPzaKkUr4W9Y/Ii1pdmCi1j8O0ECiyOjWP/lyGM4wL9c/5RXw+Zh11z/QuMclAbzXP7xbn1FpAtg/qP52fdFI2D+UoU6pOY/YP4BEJtWh1dg/a+f9AAoc2T9XitUscmLZP0ItrVjaqNk/LtCEhELv2T8ac1ywqjXaPwYWNNwSfNo/8rgLCHvC2j/dW+Mz4wjbP8j+ul9LT9s/tKGSi7OV2z+gRGq3G9zbP4znQeODItw/eIoZD+xo3D9jLfE6VK/cP0/QyGa89dw/OnOgkiQ83T8mFni+jILdPxK5T+r0yN0//lsnFl0P3j/q/v5BxVXeP9Wh1m0tnN4/wUSumZXi3j+s54XF/SjfP5iKXfFlb98/hC01Hc613z9w0AxJNvzfP645cjpPIeA/JAteUINE4D+a3Elmt2fgPw+uNXzriuA/hX8hkh+u4D/7UA2oU9HgP3Ei+b2H9OA/5vPk07sX4T9cxdDp7zrhP9KWvP8jXuE/SGioFViB4T++OZQrjKThPzQLgEHAx+E/qtxrV/Tq4T8grldtKA7iP5Z/Q4NcMeI/DFEvmZBU4j+BIhuvxHfiP/fzBsX4muI/bcXy2iy+4j/ilt7wYOHiP1hoygaVBOM/zjm2HMkn4z9EC6Iy/UrjP7rcjUgxbuM/MK55XmWR4z+mf2V0mbTjPxxRUYrN1+M/kiI9oAH74z8I9Ci2NR7kP33FFMxpQeQ/85YA4p1k5D9paOz30YfkP9852A0Gq+Q/VAvEIzrO5D/K3K85bvHkP0Cum0+iFOU/tn+HZdY35T8sUXN7ClvlP6IiX5E+fuU/GPRKp3Kh5T+OxTa9psTlPwSXItPa5+U/emgO6Q4L5j8=\",\"dtype\":\"float64\",\"order\":\"little\",\"shape\":[100]},\"right\":{\"__ndarray__\":\"uHKQCT0i0T+jFWg1pWjRP4+4P2ENr9E/e1sXjXX10T9m/u643TvSP1KhxuRFgtI/PkSeEK7I0j8q53U8Fg/TPxWKTWh+VdM/AS0llOab0z/tz/y/TuLTP9hy1Ou2KNQ/xBWsFx9v1D+wuINDh7XUP5xbW2/v+9Q/h/4ym1dC1T9zoQrHv4jVP19E4vInz9U/Sue5HpAV1j82ipFK+FvWPyItaXZgotY/DtBAosjo1j/5chjOMC/XP+UV8PmYddc/0LjHJQG81z+8W59RaQLYP6j+dn3RSNg/lKFOqTmP2D+ARCbVodXYP2vn/QAKHNk/V4rVLHJi2T9CLa1Y2qjZPy7QhIRC79k/GnNcsKo12j8GFjTcEnzaP/K4Cwh7wto/3VvjM+MI2z/I/rpfS0/bP7Shkouzlds/oERqtxvc2z+M50HjgyLcP3iKGQ/saNw/Yy3xOlSv3D9P0MhmvPXcPzpzoJIkPN0/JhZ4voyC3T8SuU/q9MjdP/5bJxZdD94/6v7+QcVV3j/VodZtLZzeP8FErpmV4t4/rOeFxf0o3z+Yil3xZW/fP4QtNR3Otd8/cNAMSTb83z+uOXI6TyHgPyQLXlCDROA/mtxJZrdn4D8PrjV864rgP4V/IZIfruA/+1ANqFPR4D9xIvm9h/TgP+bz5NO7F+E/XMXQ6e864T/Slrz/I17hP0hoqBVYgeE/vjmUK4yk4T80C4BBwMfhP6rca1f06uE/IK5XbSgO4j+Wf0ODXDHiPwxRL5mQVOI/gSIbr8R34j/38wbF+JriP23F8tosvuI/4pbe8GDh4j9YaMoGlQTjP845thzJJ+M/RAuiMv1K4z+63I1IMW7jPzCueV5lkeM/pn9ldJm04z8cUVGKzdfjP5IiPaAB++M/CPQotjUe5D99xRTMaUHkP/OWAOKdZOQ/aWjs99GH5D/fOdgNBqvkP1QLxCM6zuQ/ytyvOW7x5D9ArptPohTlP7Z/h2XWN+U/LFFzewpb5T+iIl+RPn7lPxj0SqdyoeU/jsU2vabE5T8ElyLT2uflP3poDukOC+Y/7zn6/kIu5j8=\",\"dtype\":\"float64\",\"order\":\"little\",\"shape\":[100]},\"top\":{\"__ndarray__\":\"DqxTcVnHuj8xzxWN7cviP6soEssDuMg/1bLWvQTmvj8EKRLLA7iYP+/4T/Bj+kBAqygSywO4mD9HpdAkrqi2P5ml0CSuqLY/h3T3kK/tzz/nDOTaLkvbPwQpEssDuLg/5wzk2i5L6z+Ank3YAoqyP6soEssDuMg/cKxTcVnHuj8dGwwyrXqQP324lv3nUBFA2y+VF6/WvD8j8bXqWd7NP3EvlRev1qw/traxMviq8j8vIo9+WJmkP6soEssDuKg/dAZhjoMs1z/AbXREBM/LPwAAAAAAAAAADqxTcVnHuj9xL5UXr9asPwQpEssDuKg/qygSywO4mD9YGwwyrXqQPx0bDDKteoA/bEnldQu5SEAdGwwyrXqAPx0bDDKtepA/WBsMMq16gD9YGwwyrXqwPw6sU3FZx7o/HRsMMq16kD9HpdAkrqi2P6soEssDuMg/WBsMMq16sD+W469RA6HVPwAAAAAAAAAAHRsMMq16sD8dGwwyrXqQPx0bDDKtepA/gJ5N2AKK8j8EKRLLA7iYP6soEssDuKg/LyKPfliZxD/kIY9+WJmkP6soEssDuKg/5CGPfliZpD8AAAAAAAAAAB0bDDKteoA/n5A2YJjTE0CUGwwyrXqAPwAAAAAAAAAAHRsMMq16kD8dGwwyrXqgPwefTdgCirI/AAAAAAAAAAD5ZvH3WLDHPx0bDDKtepA/HRsMMq16kD8dGwwyrXqAP7DqQ33COPA/AAAAAAAAAACrKBLLA7iYPx0bDDKteoA/lBsMMq16oD8dGwwyrXqgPwAAAAAAAAAArQ3k2i5L2z8AAAAAAAAAAKsoEssDuKg/HRsMMq16gD+W469RA6HFPx0bDDKteoA/HRsMMq16oD9xL5UXr9a8PwAAAAAAAAAAcS+VF6/WrD8AAAAAAAAAAHEvlRev1qw/HRsMMq16gD8dGwwyrXqQP5QbDDKtepA/5CGPfliZpD8dGwwyrXqQPx0bDDKteoA/HRsMMq16kD/kIY9+WJmkPx0bDDKteoA/HRsMMq16kD8dGwwyrXqAPwAAAAAAAAAAJg0CpbQlYEA=\",\"dtype\":\"float64\",\"order\":\"little\",\"shape\":[100]}},\"selected\":{\"id\":\"7837\"},\"selection_policy\":{\"id\":\"7838\"}},\"id\":\"7555\",\"type\":\"ColumnDataSource\"},{\"attributes\":{},\"id\":\"7831\",\"type\":\"BasicTickFormatter\"},{\"attributes\":{},\"id\":\"7534\",\"type\":\"LinearScale\"},{\"attributes\":{},\"id\":\"7833\",\"type\":\"AllLabels\"},{\"attributes\":{\"text\":\"AE Terms Ratios Affinity Distribution\"},\"id\":\"7528\",\"type\":\"Title\"},{\"attributes\":{},\"id\":\"7834\",\"type\":\"BasicTickFormatter\"},{\"attributes\":{\"formatter\":{\"id\":\"7834\"},\"major_label_policy\":{\"id\":\"7836\"},\"ticker\":{\"id\":\"7539\"}},\"id\":\"7538\",\"type\":\"LinearAxis\"},{\"attributes\":{},\"id\":\"7837\",\"type\":\"Selection\"},{\"attributes\":{},\"id\":\"7532\",\"type\":\"DataRange1d\"},{\"attributes\":{},\"id\":\"7530\",\"type\":\"DataRange1d\"},{\"attributes\":{},\"id\":\"7539\",\"type\":\"BasicTicker\"},{\"attributes\":{},\"id\":\"7836\",\"type\":\"AllLabels\"},{\"attributes\":{\"source\":{\"id\":\"7555\"}},\"id\":\"7559\",\"type\":\"CDSView\"},{\"attributes\":{\"bottom\":{\"value\":0},\"fill_alpha\":{\"value\":0.1},\"fill_color\":{\"value\":\"#1f77b4\"},\"left\":{\"field\":\"left\"},\"line_alpha\":{\"value\":0.1},\"line_color\":{\"value\":\"#555555\"},\"right\":{\"field\":\"right\"},\"top\":{\"field\":\"top\"}},\"id\":\"7557\",\"type\":\"Quad\"},{\"attributes\":{},\"id\":\"7838\",\"type\":\"UnionRenderers\"},{\"attributes\":{\"axis\":{\"id\":\"7538\"},\"ticker\":null},\"id\":\"7541\",\"type\":\"Grid\"},{\"attributes\":{},\"id\":\"7549\",\"type\":\"SaveTool\"},{\"attributes\":{},\"id\":\"7547\",\"type\":\"WheelZoomTool\"},{\"attributes\":{\"data_source\":{\"id\":\"7555\"},\"glyph\":{\"id\":\"7556\"},\"hover_glyph\":null,\"muted_glyph\":null,\"nonselection_glyph\":{\"id\":\"7557\"},\"view\":{\"id\":\"7559\"}},\"id\":\"7558\",\"type\":\"GlyphRenderer\"},{\"attributes\":{\"active_multi\":null,\"tools\":[{\"id\":\"7546\"},{\"id\":\"7547\"},{\"id\":\"7548\"},{\"id\":\"7549\"}]},\"id\":\"7550\",\"type\":\"Toolbar\"},{\"attributes\":{\"formatter\":{\"id\":\"7831\"},\"major_label_policy\":{\"id\":\"7833\"},\"ticker\":{\"id\":\"7543\"}},\"id\":\"7542\",\"type\":\"LinearAxis\"},{\"attributes\":{},\"id\":\"7548\",\"type\":\"ResetTool\"},{\"attributes\":{},\"id\":\"7546\",\"type\":\"PanTool\"},{\"attributes\":{\"axis\":{\"id\":\"7542\"},\"dimension\":1,\"ticker\":null},\"id\":\"7545\",\"type\":\"Grid\"},{\"attributes\":{\"bottom\":{\"value\":0},\"fill_color\":{\"value\":\"#1f77b4\"},\"left\":{\"field\":\"left\"},\"line_color\":{\"value\":\"#555555\"},\"right\":{\"field\":\"right\"},\"top\":{\"field\":\"top\"}},\"id\":\"7556\",\"type\":\"Quad\"}],\"root_ids\":[\"7527\"]},\"title\":\"Bokeh Application\",\"version\":\"2.3.3\"}};\n",
       "  var render_items = [{\"docid\":\"9a455a8d-6741-4607-b597-8978db4d2a0d\",\"root_ids\":[\"7527\"],\"roots\":{\"7527\":\"8c6d35ab-038a-4236-9c35-8e50c0b918b0\"}}];\n",
       "  root.Bokeh.embed.embed_items_notebook(docs_json, render_items);\n",
       "\n",
       "  }\n",
       "  if (root.Bokeh !== undefined) {\n",
       "    embed_document(root);\n",
       "  } else {\n",
       "    var attempts = 0;\n",
       "    var timer = setInterval(function(root) {\n",
       "      if (root.Bokeh !== undefined) {\n",
       "        clearInterval(timer);\n",
       "        embed_document(root);\n",
       "      } else {\n",
       "        attempts++;\n",
       "        if (attempts > 100) {\n",
       "          clearInterval(timer);\n",
       "          console.log(\"Bokeh: ERROR: Unable to run BokehJS code because BokehJS library is missing\");\n",
       "        }\n",
       "      }\n",
       "    }, 10, root)\n",
       "  }\n",
       "})(window);"
      ],
      "application/vnd.bokehjs_exec.v0+json": ""
     },
     "metadata": {
      "application/vnd.bokehjs_exec.v0+json": {
       "id": "7527"
      }
     },
     "output_type": "display_data"
    },
    {
     "data": {
      "text/html": [
       "\n",
       "\n",
       "\n",
       "\n",
       "\n",
       "\n",
       "  <div class=\"bk-root\" id=\"7513c13c-0632-4c8b-b2a8-b46e4011fffa\" data-root-id=\"7884\"></div>\n"
      ]
     },
     "metadata": {},
     "output_type": "display_data"
    },
    {
     "data": {
      "application/javascript": [
       "(function(root) {\n",
       "  function embed_document(root) {\n",
       "    \n",
       "  var docs_json = {\"86c4185e-1fdf-4e81-b7dc-fe468b6a9f09\":{\"defs\":[],\"roots\":{\"references\":[{\"attributes\":{\"below\":[{\"id\":\"7895\"}],\"center\":[{\"id\":\"7898\"},{\"id\":\"7902\"}],\"left\":[{\"id\":\"7899\"}],\"renderers\":[{\"id\":\"7915\"}],\"title\":{\"id\":\"7885\"},\"toolbar\":{\"id\":\"7907\"},\"toolbar_location\":\"above\",\"x_range\":{\"id\":\"7887\"},\"x_scale\":{\"id\":\"7891\"},\"y_range\":{\"id\":\"7889\"},\"y_scale\":{\"id\":\"7893\"}},\"id\":\"7884\",\"subtype\":\"Figure\",\"type\":\"Plot\"},{\"attributes\":{\"bottom\":{\"value\":0},\"fill_color\":{\"value\":\"#1f77b4\"},\"left\":{\"field\":\"left\"},\"line_color\":{\"value\":\"#555555\"},\"right\":{\"field\":\"right\"},\"top\":{\"field\":\"top\"}},\"id\":\"7913\",\"type\":\"Quad\"},{\"attributes\":{\"data_source\":{\"id\":\"7912\"},\"glyph\":{\"id\":\"7913\"},\"hover_glyph\":null,\"muted_glyph\":null,\"nonselection_glyph\":{\"id\":\"7914\"},\"view\":{\"id\":\"7916\"}},\"id\":\"7915\",\"type\":\"GlyphRenderer\"},{\"attributes\":{},\"id\":\"7900\",\"type\":\"BasicTicker\"},{\"attributes\":{},\"id\":\"8199\",\"type\":\"AllLabels\"},{\"attributes\":{\"formatter\":{\"id\":\"8200\"},\"major_label_policy\":{\"id\":\"8202\"},\"ticker\":{\"id\":\"7896\"}},\"id\":\"7895\",\"type\":\"LinearAxis\"},{\"attributes\":{},\"id\":\"8200\",\"type\":\"BasicTickFormatter\"},{\"attributes\":{},\"id\":\"8203\",\"type\":\"Selection\"},{\"attributes\":{},\"id\":\"7887\",\"type\":\"DataRange1d\"},{\"attributes\":{\"source\":{\"id\":\"7912\"}},\"id\":\"7916\",\"type\":\"CDSView\"},{\"attributes\":{\"formatter\":{\"id\":\"8197\"},\"major_label_policy\":{\"id\":\"8199\"},\"ticker\":{\"id\":\"7900\"}},\"id\":\"7899\",\"type\":\"LinearAxis\"},{\"attributes\":{},\"id\":\"7889\",\"type\":\"DataRange1d\"},{\"attributes\":{},\"id\":\"8202\",\"type\":\"AllLabels\"},{\"attributes\":{},\"id\":\"7896\",\"type\":\"BasicTicker\"},{\"attributes\":{},\"id\":\"7906\",\"type\":\"SaveTool\"},{\"attributes\":{},\"id\":\"8204\",\"type\":\"UnionRenderers\"},{\"attributes\":{},\"id\":\"7893\",\"type\":\"LinearScale\"},{\"attributes\":{},\"id\":\"7905\",\"type\":\"ResetTool\"},{\"attributes\":{},\"id\":\"7891\",\"type\":\"LinearScale\"},{\"attributes\":{},\"id\":\"7903\",\"type\":\"PanTool\"},{\"attributes\":{\"text\":\"KW Terms Ratios Affinity Distribution\"},\"id\":\"7885\",\"type\":\"Title\"},{\"attributes\":{},\"id\":\"7904\",\"type\":\"WheelZoomTool\"},{\"attributes\":{\"axis\":{\"id\":\"7895\"},\"ticker\":null},\"id\":\"7898\",\"type\":\"Grid\"},{\"attributes\":{},\"id\":\"8197\",\"type\":\"BasicTickFormatter\"},{\"attributes\":{\"data\":{\"left\":{\"__ndarray__\":\"zM+43dTb0D+4cpAJPSLRP6MVaDWlaNE/j7g/YQ2v0T97WxeNdfXRP2b+7rjdO9I/UqHG5EWC0j8+RJ4QrsjSPyrndTwWD9M/FYpNaH5V0z8BLSWU5pvTP+3P/L9O4tM/2HLU67Yo1D/EFawXH2/UP7C4g0OHtdQ/nFtbb+/71D+H/jKbV0LVP3OhCse/iNU/X0Ti8ifP1T9K57kekBXWPzaKkUr4W9Y/Ii1pdmCi1j8O0ECiyOjWP/lyGM4wL9c/5RXw+Zh11z/QuMclAbzXP7xbn1FpAtg/qP52fdFI2D+UoU6pOY/YP4BEJtWh1dg/a+f9AAoc2T9XitUscmLZP0ItrVjaqNk/LtCEhELv2T8ac1ywqjXaPwYWNNwSfNo/8rgLCHvC2j/dW+Mz4wjbP8j+ul9LT9s/tKGSi7OV2z+gRGq3G9zbP4znQeODItw/eIoZD+xo3D9jLfE6VK/cP0/QyGa89dw/OnOgkiQ83T8mFni+jILdPxK5T+r0yN0//lsnFl0P3j/q/v5BxVXeP9Wh1m0tnN4/wUSumZXi3j+s54XF/SjfP5iKXfFlb98/hC01Hc613z9w0AxJNvzfP645cjpPIeA/JAteUINE4D+a3Elmt2fgPw+uNXzriuA/hX8hkh+u4D/7UA2oU9HgP3Ei+b2H9OA/5vPk07sX4T9cxdDp7zrhP9KWvP8jXuE/SGioFViB4T++OZQrjKThPzQLgEHAx+E/qtxrV/Tq4T8grldtKA7iP5Z/Q4NcMeI/DFEvmZBU4j+BIhuvxHfiP/fzBsX4muI/bcXy2iy+4j/ilt7wYOHiP1hoygaVBOM/zjm2HMkn4z9EC6Iy/UrjP7rcjUgxbuM/MK55XmWR4z+mf2V0mbTjPxxRUYrN1+M/kiI9oAH74z8I9Ci2NR7kP33FFMxpQeQ/85YA4p1k5D9paOz30YfkP9852A0Gq+Q/VAvEIzrO5D/K3K85bvHkP0Cum0+iFOU/tn+HZdY35T8sUXN7ClvlP6IiX5E+fuU/GPRKp3Kh5T+OxTa9psTlPwSXItPa5+U/emgO6Q4L5j8=\",\"dtype\":\"float64\",\"order\":\"little\",\"shape\":[100]},\"right\":{\"__ndarray__\":\"uHKQCT0i0T+jFWg1pWjRP4+4P2ENr9E/e1sXjXX10T9m/u643TvSP1KhxuRFgtI/PkSeEK7I0j8q53U8Fg/TPxWKTWh+VdM/AS0llOab0z/tz/y/TuLTP9hy1Ou2KNQ/xBWsFx9v1D+wuINDh7XUP5xbW2/v+9Q/h/4ym1dC1T9zoQrHv4jVP19E4vInz9U/Sue5HpAV1j82ipFK+FvWPyItaXZgotY/DtBAosjo1j/5chjOMC/XP+UV8PmYddc/0LjHJQG81z+8W59RaQLYP6j+dn3RSNg/lKFOqTmP2D+ARCbVodXYP2vn/QAKHNk/V4rVLHJi2T9CLa1Y2qjZPy7QhIRC79k/GnNcsKo12j8GFjTcEnzaP/K4Cwh7wto/3VvjM+MI2z/I/rpfS0/bP7Shkouzlds/oERqtxvc2z+M50HjgyLcP3iKGQ/saNw/Yy3xOlSv3D9P0MhmvPXcPzpzoJIkPN0/JhZ4voyC3T8SuU/q9MjdP/5bJxZdD94/6v7+QcVV3j/VodZtLZzeP8FErpmV4t4/rOeFxf0o3z+Yil3xZW/fP4QtNR3Otd8/cNAMSTb83z+uOXI6TyHgPyQLXlCDROA/mtxJZrdn4D8PrjV864rgP4V/IZIfruA/+1ANqFPR4D9xIvm9h/TgP+bz5NO7F+E/XMXQ6e864T/Slrz/I17hP0hoqBVYgeE/vjmUK4yk4T80C4BBwMfhP6rca1f06uE/IK5XbSgO4j+Wf0ODXDHiPwxRL5mQVOI/gSIbr8R34j/38wbF+JriP23F8tosvuI/4pbe8GDh4j9YaMoGlQTjP845thzJJ+M/RAuiMv1K4z+63I1IMW7jPzCueV5lkeM/pn9ldJm04z8cUVGKzdfjP5IiPaAB++M/CPQotjUe5D99xRTMaUHkP/OWAOKdZOQ/aWjs99GH5D/fOdgNBqvkP1QLxCM6zuQ/ytyvOW7x5D9ArptPohTlP7Z/h2XWN+U/LFFzewpb5T+iIl+RPn7lPxj0SqdyoeU/jsU2vabE5T8ElyLT2uflP3poDukOC+Y/7zn6/kIu5j8=\",\"dtype\":\"float64\",\"order\":\"little\",\"shape\":[100]},\"top\":{\"__ndarray__\":\"DfAjNM2Z1D8EIlbjqQfvPw7h6ATzbtc/FLQ3d2Tuzz9pICvYj7i4P7ljTmcXvTtADrwl3X2htT8Rnq9+yUvLP4ECtXnbYs4/EbguKvHH2j8Qk2sCfProP16ipjFWJcY/D63qraN2+D8Lcp+NkwbCPw77Z7Aa69Y/c7guKvHHyj8PICvYj7ioPws+oTZEDhNAe1AyfFLXzD8NfeMJ4VfUPw8gK9iPuLg/T1EY0Isc9z9UJCKLHJKzPwuMHjm7gsE/YvtnsBrr5j8OFedbQmfWPwwkIosckrM/CjNduva80D8LjB45u4LBP2CIJ4YuqbY/CsAckAp7sD9Y8CM0zZmUPwrAHJAKe3A//BBhI40bRkAMWCDia4qiPw8gK9iPuKg/VCQiixySsz9QWCDia4qyPw3wIzTNmcQ/DFgg4muKoj8Q7CyBQMDJPxKEMNOhz8s/WPAjNM2ZtD8NY2ReudvkP3tQMnxS16w/DfAjNM2ZtD8RuC4q8ceqPwrAHJAKe4A/kbIMbEqf+T97UDJ8UtecPwrAHJAKe7A/SDNduva80D8KwByQCnuQPw68Jd19obU/E+g1zrPmrj8MWCDia4qiPwrAHJAKe3A/UShe9Yl1GkCCwByQCntwPw8gK9iPuJg/Dognhi6ppj8LjB45u4KxP49yn42TBsI/DyAr2I+4iD8KM1269rzQPxG4Lirxx6o/DfAjNM2ZlD8MWCDia4qiP1MZI8avSv0/CsAckAp7cD8SUDJ8UtecPw6IJ4YuqaY/41AyfFLXvD8SUDJ8UtecPwrAHJAKe4A/lMtgDFjM4j8N8CM0zZmUPxG4Lirxx6o/DyAr2I+4mD8LjB45u4LRPw8gK9iPuIg/DyAr2I+4iD8MWCDia4rCPw3wIzTNmZQ/C4weObuCwT+CwByQCntwPw6IJ4YuqbY/CsAckAp7cD8OiCeGLqmmP+NQMnxS15w/Dognhi6ppj8SUDJ8UtecPw8gK9iPuJg/ElAyfFLXnD8N8CM0zZmUPw8gK9iPuIg/CsAckAp7gD8AAAAAAAAAAArAHJAKe4A/mYpO3CNcYEA=\",\"dtype\":\"float64\",\"order\":\"little\",\"shape\":[100]}},\"selected\":{\"id\":\"8203\"},\"selection_policy\":{\"id\":\"8204\"}},\"id\":\"7912\",\"type\":\"ColumnDataSource\"},{\"attributes\":{\"axis\":{\"id\":\"7899\"},\"dimension\":1,\"ticker\":null},\"id\":\"7902\",\"type\":\"Grid\"},{\"attributes\":{\"bottom\":{\"value\":0},\"fill_alpha\":{\"value\":0.1},\"fill_color\":{\"value\":\"#1f77b4\"},\"left\":{\"field\":\"left\"},\"line_alpha\":{\"value\":0.1},\"line_color\":{\"value\":\"#555555\"},\"right\":{\"field\":\"right\"},\"top\":{\"field\":\"top\"}},\"id\":\"7914\",\"type\":\"Quad\"},{\"attributes\":{\"active_multi\":null,\"tools\":[{\"id\":\"7903\"},{\"id\":\"7904\"},{\"id\":\"7905\"},{\"id\":\"7906\"}]},\"id\":\"7907\",\"type\":\"Toolbar\"}],\"root_ids\":[\"7884\"]},\"title\":\"Bokeh Application\",\"version\":\"2.3.3\"}};\n",
       "  var render_items = [{\"docid\":\"86c4185e-1fdf-4e81-b7dc-fe468b6a9f09\",\"root_ids\":[\"7884\"],\"roots\":{\"7884\":\"7513c13c-0632-4c8b-b2a8-b46e4011fffa\"}}];\n",
       "  root.Bokeh.embed.embed_items_notebook(docs_json, render_items);\n",
       "\n",
       "  }\n",
       "  if (root.Bokeh !== undefined) {\n",
       "    embed_document(root);\n",
       "  } else {\n",
       "    var attempts = 0;\n",
       "    var timer = setInterval(function(root) {\n",
       "      if (root.Bokeh !== undefined) {\n",
       "        clearInterval(timer);\n",
       "        embed_document(root);\n",
       "      } else {\n",
       "        attempts++;\n",
       "        if (attempts > 100) {\n",
       "          clearInterval(timer);\n",
       "          console.log(\"Bokeh: ERROR: Unable to run BokehJS code because BokehJS library is missing\");\n",
       "        }\n",
       "      }\n",
       "    }, 10, root)\n",
       "  }\n",
       "})(window);"
      ],
      "application/vnd.bokehjs_exec.v0+json": ""
     },
     "metadata": {
      "application/vnd.bokehjs_exec.v0+json": {
       "id": "7884"
      }
     },
     "output_type": "display_data"
    },
    {
     "data": {
      "text/html": [
       "\n",
       "\n",
       "\n",
       "\n",
       "\n",
       "\n",
       "  <div class=\"bk-root\" id=\"6afad6d5-7b88-4e64-aea6-17012a70e144\" data-root-id=\"8250\"></div>\n"
      ]
     },
     "metadata": {},
     "output_type": "display_data"
    },
    {
     "data": {
      "application/javascript": [
       "(function(root) {\n",
       "  function embed_document(root) {\n",
       "    \n",
       "  var docs_json = {\"8574df43-4e45-446a-9cb1-6f136c159e2a\":{\"defs\":[],\"roots\":{\"references\":[{\"attributes\":{\"below\":[{\"id\":\"8261\"}],\"center\":[{\"id\":\"8264\"},{\"id\":\"8268\"}],\"left\":[{\"id\":\"8265\"}],\"renderers\":[{\"id\":\"8281\"}],\"title\":{\"id\":\"8251\"},\"toolbar\":{\"id\":\"8273\"},\"toolbar_location\":\"above\",\"x_range\":{\"id\":\"8253\"},\"x_scale\":{\"id\":\"8257\"},\"y_range\":{\"id\":\"8255\"},\"y_scale\":{\"id\":\"8259\"}},\"id\":\"8250\",\"subtype\":\"Figure\",\"type\":\"Plot\"},{\"attributes\":{},\"id\":\"8259\",\"type\":\"LinearScale\"},{\"attributes\":{},\"id\":\"8575\",\"type\":\"BasicTickFormatter\"},{\"attributes\":{\"data_source\":{\"id\":\"8278\"},\"glyph\":{\"id\":\"8279\"},\"hover_glyph\":null,\"muted_glyph\":null,\"nonselection_glyph\":{\"id\":\"8280\"},\"view\":{\"id\":\"8282\"}},\"id\":\"8281\",\"type\":\"GlyphRenderer\"},{\"attributes\":{},\"id\":\"8578\",\"type\":\"Selection\"},{\"attributes\":{},\"id\":\"8257\",\"type\":\"LinearScale\"},{\"attributes\":{},\"id\":\"8577\",\"type\":\"AllLabels\"},{\"attributes\":{},\"id\":\"8579\",\"type\":\"UnionRenderers\"},{\"attributes\":{},\"id\":\"8255\",\"type\":\"DataRange1d\"},{\"attributes\":{\"bottom\":{\"value\":0},\"fill_alpha\":{\"value\":0.1},\"fill_color\":{\"value\":\"#1f77b4\"},\"left\":{\"field\":\"left\"},\"line_alpha\":{\"value\":0.1},\"line_color\":{\"value\":\"#555555\"},\"right\":{\"field\":\"right\"},\"top\":{\"field\":\"top\"}},\"id\":\"8280\",\"type\":\"Quad\"},{\"attributes\":{\"axis\":{\"id\":\"8261\"},\"ticker\":null},\"id\":\"8264\",\"type\":\"Grid\"},{\"attributes\":{\"active_multi\":null,\"tools\":[{\"id\":\"8269\"},{\"id\":\"8270\"},{\"id\":\"8271\"},{\"id\":\"8272\"}]},\"id\":\"8273\",\"type\":\"Toolbar\"},{\"attributes\":{\"text\":\"DZ Terms Ratios Affinity Distribution\"},\"id\":\"8251\",\"type\":\"Title\"},{\"attributes\":{},\"id\":\"8574\",\"type\":\"AllLabels\"},{\"attributes\":{},\"id\":\"8272\",\"type\":\"SaveTool\"},{\"attributes\":{\"formatter\":{\"id\":\"8572\"},\"major_label_policy\":{\"id\":\"8574\"},\"ticker\":{\"id\":\"8266\"}},\"id\":\"8265\",\"type\":\"LinearAxis\"},{\"attributes\":{},\"id\":\"8271\",\"type\":\"ResetTool\"},{\"attributes\":{},\"id\":\"8253\",\"type\":\"DataRange1d\"},{\"attributes\":{},\"id\":\"8262\",\"type\":\"BasicTicker\"},{\"attributes\":{\"axis\":{\"id\":\"8265\"},\"dimension\":1,\"ticker\":null},\"id\":\"8268\",\"type\":\"Grid\"},{\"attributes\":{\"source\":{\"id\":\"8278\"}},\"id\":\"8282\",\"type\":\"CDSView\"},{\"attributes\":{},\"id\":\"8270\",\"type\":\"WheelZoomTool\"},{\"attributes\":{},\"id\":\"8266\",\"type\":\"BasicTicker\"},{\"attributes\":{\"bottom\":{\"value\":0},\"fill_color\":{\"value\":\"#1f77b4\"},\"left\":{\"field\":\"left\"},\"line_color\":{\"value\":\"#555555\"},\"right\":{\"field\":\"right\"},\"top\":{\"field\":\"top\"}},\"id\":\"8279\",\"type\":\"Quad\"},{\"attributes\":{},\"id\":\"8572\",\"type\":\"BasicTickFormatter\"},{\"attributes\":{},\"id\":\"8269\",\"type\":\"PanTool\"},{\"attributes\":{\"formatter\":{\"id\":\"8575\"},\"major_label_policy\":{\"id\":\"8577\"},\"ticker\":{\"id\":\"8262\"}},\"id\":\"8261\",\"type\":\"LinearAxis\"},{\"attributes\":{\"data\":{\"left\":{\"__ndarray__\":\"cWT/Adzn0D8TuTxjJS7RP7YNesRudNE/WGK3Jbi60T/6tvSGAQHSP50LMuhKR9I/P2BvSZSN0j/itKyq3dPSP4QJ6gsnGtM/Jl4nbXBg0z/JsmTOuabTP2sHoi8D7dM/DlzfkEwz1D+wsBzylXnUP1IFWlPfv9Q/9FmXtCgG1T+XrtQVckzVPzoDEne7ktU/3FdP2ATZ1T9+rIw5Th/WPyABypqXZdY/w1UH/OCr1j9lqkRdKvLWPwj/gb5zONc/qlO/H71+1z9MqPyABsXXP+/8OeJPC9g/kVF3Q5lR2D80prSk4pfYP9b68QUs3tg/eE8vZ3Uk2T8apGzIvmrZP734qSkIsdk/YE3nilH32T8CoiTsmj3aP6T2YU3kg9o/Rkufri3K2j/pn9wPdxDbP4v0GXHAVts/LklX0gmd2z/QnZQzU+PbP3Ly0ZScKdw/FUcP9uVv3D+3m0xXL7bcP1rwibh4/Nw//ETHGcJC3T+emQR7C4ndP0DuQdxUz90/40J/PZ4V3j+Gl7ye51vePyjs+f8wot4/ykA3YXro3j9slXTCwy7fPw/qsSMNdd8/sT7vhFa73z+qSRbzzwDgP/vztKP0I+A/TJ5TVBlH4D+eSPIEPmrgP+7ykLVijeA/QJ0vZoew4D+RR84WrNPgP+LxbMfQ9uA/NJwLePUZ4T+ERqooGj3hP9bwSNk+YOE/J5vniWOD4T94RYY6iKbhP8rvJOusyeE/GprDm9Hs4T9sRGJM9g/iP73uAP0aM+I/DpmfrT9W4j9fQz5eZHniP7Dt3A6JnOI/Aph7v62/4j9SQhpw0uLiP6TsuCD3BeM/9ZZX0Rsp4z9GQfaBQEzjP5jrlDJlb+M/6JUz44mS4z86QNKTrrXjP4vqcETT2OM/3JQP9ff74z8uP66lHB/kP37pTFZBQuQ/0JPrBmZl5D8hPoq3iojkP3LoKGivq+Q/xJLHGNTO5D8UPWbJ+PHkP2bnBHodFeU/t5GjKkI45T8IPELbZlvlP1rm4IuLfuU/qpB/PLCh5T/8Oh7t1MTlP03lvJ355+U/no9bTh4L5j8=\",\"dtype\":\"float64\",\"order\":\"little\",\"shape\":[100]},\"right\":{\"__ndarray__\":\"E7k8YyUu0T+2DXrEbnTRP1hityW4utE/+rb0hgEB0j+dCzLoSkfSPz9gb0mUjdI/4rSsqt3T0j+ECeoLJxrTPyZeJ21wYNM/ybJkzrmm0z9rB6IvA+3TPw5c35BMM9Q/sLAc8pV51D9SBVpT37/UP/RZl7QoBtU/l67UFXJM1T86AxJ3u5LVP9xXT9gE2dU/fqyMOU4f1j8gAcqal2XWP8NVB/zgq9Y/ZapEXSry1j8I/4G+czjXP6pTvx+9ftc/TKj8gAbF1z/v/DniTwvYP5FRd0OZUdg/NKa0pOKX2D/W+vEFLN7YP3hPL2d1JNk/GqRsyL5q2T+9+KkpCLHZP2BN54pR99k/AqIk7Jo92j+k9mFN5IPaP0ZLn64tyto/6Z/cD3cQ2z+L9BlxwFbbPy5JV9IJnds/0J2UM1Pj2z9y8tGUnCncPxVHD/blb9w/t5tMVy+23D9a8Im4ePzcP/xExxnCQt0/npkEewuJ3T9A7kHcVM/dP+NCfz2eFd4/hpe8nudb3j8o7Pn/MKLeP8pAN2F66N4/bJV0wsMu3z8P6rEjDXXfP7E+74RWu98/qkkW888A4D/787Sj9CPgP0yeU1QZR+A/nkjyBD5q4D/u8pC1Yo3gP0CdL2aHsOA/kUfOFqzT4D/i8WzH0PbgPzScC3j1GeE/hEaqKBo94T/W8EjZPmDhPyeb54ljg+E/eEWGOoim4T/K7yTrrMnhPxqaw5vR7OE/bERiTPYP4j+97gD9GjPiPw6Zn60/VuI/X0M+XmR54j+w7dwOiZziPwKYe7+tv+I/UkIacNLi4j+k7Lgg9wXjP/WWV9EbKeM/RkH2gUBM4z+Y65QyZW/jP+iVM+OJkuM/OkDSk6614z+L6nBE09jjP9yUD/X3++M/Lj+upRwf5D9+6UxWQULkP9CT6wZmZeQ/IT6Kt4qI5D9y6Chor6vkP8SSxxjUzuQ/FD1myfjx5D9m5wR6HRXlP7eRoypCOOU/CDxC22Zb5T9a5uCLi37lP6qQfzywoeU//Doe7dTE5T9N5byd+eflP56PW04eC+Y/7zn6/kIu5j8=\",\"dtype\":\"float64\",\"order\":\"little\",\"shape\":[100]},\"top\":{\"__ndarray__\":\"gpyY8+by3T+XWfVGsCPNPwFQaJTV5rk/AUbb4fqptj+jT2iU1eaZP1ULH6DqVDpAo09olNXmiT8BUGiU1ea5PwHfO6Adws4/rkXb4fqpxj8BwZSIjQvVP8YxwXxFMMA/gQM4NcTa5T8BRtvh+qm2PwEywXxFMMA/uztOLyBtwz+GPJw80eMIQAFQaJTV5qk/AVBolNXmqT8B1a7tQoXLP7s7Ti8gbaM/wjNdl6cd6z+7O04vIG2jPwEywXxFMLA/gQ3F554X2T+XWfVGsCPNPwG3B9ayzsE/o09olNXmuT8BRtvh+qm2PwE8Ti8gbaM/AVBolNXmiT+jT2iU1eaJP1euBYbiFkVAAAAAAAAAAAABPE4vIG2jPwFQaJTV5ok/uztOLyBtsz8BUGiU1eapP8YxwXxFMMA/ATLBfEUwwD8BUGiU1eaZP65F2+H6qcY/AVr1RrAjvT8gkgtBDLbaPwFQaJTV5pk/ATxOLyBtsz8BPE4vIG2jP54ogtcbavI/o09olNXmmT8BRtvh+qm2PwE8Ti8gbaM/ATLBfEUw0D+jT2iU1eaJPwE8Ti8gbbM/o09olNXmqT8BPE4vIG2jPwFQaJTV5pk/YnQLsNS6E0AAAAAAAAAAAEVPaJTV5qk/ATxOLyBtoz8BPE4vIG2zP3M7Ti8gbcM/AAAAAAAAAABQyiE7aEjIPwE8Ti8gbbM/AVBolNXmqT8AAAAAAAAAAKrK0y230fI/AAAAAAAAAAABUGiU1eaZPwE8Ti8gbaM/ATLBfEUwwD8BPE4vIG2jP0VPaJTV5ok/utMS0+CX4D9FT2iU1eaZPwFG2+H6qbY/AVBolNXmiT9zO04vIG3TP75QaJTV5ok/RU9olNXmmT8BUGiU1ebJPwE8Ti8gbaM/OdSu7UKFyz++UGiU1eaJP0VPaJTV5qk/ATxOLyBtoz8BPE4vIG2jP4oxwXxFMLA/pkbb4fqptj9FT2iU1eaJPwFQaJTV5pk/AVBolNXmmT9FT2iU1eapP6ZG2+H6qbY/AAAAAAAAAAABUGiU1eaJPwAAAAAAAAAAL1s8yVsHYkA=\",\"dtype\":\"float64\",\"order\":\"little\",\"shape\":[100]}},\"selected\":{\"id\":\"8578\"},\"selection_policy\":{\"id\":\"8579\"}},\"id\":\"8278\",\"type\":\"ColumnDataSource\"}],\"root_ids\":[\"8250\"]},\"title\":\"Bokeh Application\",\"version\":\"2.3.3\"}};\n",
       "  var render_items = [{\"docid\":\"8574df43-4e45-446a-9cb1-6f136c159e2a\",\"root_ids\":[\"8250\"],\"roots\":{\"8250\":\"6afad6d5-7b88-4e64-aea6-17012a70e144\"}}];\n",
       "  root.Bokeh.embed.embed_items_notebook(docs_json, render_items);\n",
       "\n",
       "  }\n",
       "  if (root.Bokeh !== undefined) {\n",
       "    embed_document(root);\n",
       "  } else {\n",
       "    var attempts = 0;\n",
       "    var timer = setInterval(function(root) {\n",
       "      if (root.Bokeh !== undefined) {\n",
       "        clearInterval(timer);\n",
       "        embed_document(root);\n",
       "      } else {\n",
       "        attempts++;\n",
       "        if (attempts > 100) {\n",
       "          clearInterval(timer);\n",
       "          console.log(\"Bokeh: ERROR: Unable to run BokehJS code because BokehJS library is missing\");\n",
       "        }\n",
       "      }\n",
       "    }, 10, root)\n",
       "  }\n",
       "})(window);"
      ],
      "application/vnd.bokehjs_exec.v0+json": ""
     },
     "metadata": {
      "application/vnd.bokehjs_exec.v0+json": {
       "id": "8250"
      }
     },
     "output_type": "display_data"
    },
    {
     "data": {
      "text/html": [
       "\n",
       "\n",
       "\n",
       "\n",
       "\n",
       "\n",
       "  <div class=\"bk-root\" id=\"035531a0-2c4b-41ca-a0dd-270e3fc89c48\" data-root-id=\"8625\"></div>\n"
      ]
     },
     "metadata": {},
     "output_type": "display_data"
    },
    {
     "data": {
      "application/javascript": [
       "(function(root) {\n",
       "  function embed_document(root) {\n",
       "    \n",
       "  var docs_json = {\"4f73a717-8ad0-4fa6-b79d-81bcac106680\":{\"defs\":[],\"roots\":{\"references\":[{\"attributes\":{\"below\":[{\"id\":\"8636\"}],\"center\":[{\"id\":\"8639\"},{\"id\":\"8643\"}],\"left\":[{\"id\":\"8640\"}],\"renderers\":[{\"id\":\"8656\"}],\"title\":{\"id\":\"8626\"},\"toolbar\":{\"id\":\"8648\"},\"toolbar_location\":\"above\",\"x_range\":{\"id\":\"8628\"},\"x_scale\":{\"id\":\"8632\"},\"y_range\":{\"id\":\"8630\"},\"y_scale\":{\"id\":\"8634\"}},\"id\":\"8625\",\"subtype\":\"Figure\",\"type\":\"Plot\"},{\"attributes\":{},\"id\":\"8962\",\"type\":\"Selection\"},{\"attributes\":{\"formatter\":{\"id\":\"8956\"},\"major_label_policy\":{\"id\":\"8958\"},\"ticker\":{\"id\":\"8641\"}},\"id\":\"8640\",\"type\":\"LinearAxis\"},{\"attributes\":{},\"id\":\"8963\",\"type\":\"UnionRenderers\"},{\"attributes\":{\"axis\":{\"id\":\"8640\"},\"dimension\":1,\"ticker\":null},\"id\":\"8643\",\"type\":\"Grid\"},{\"attributes\":{},\"id\":\"8637\",\"type\":\"BasicTicker\"},{\"attributes\":{\"axis\":{\"id\":\"8636\"},\"ticker\":null},\"id\":\"8639\",\"type\":\"Grid\"},{\"attributes\":{},\"id\":\"8641\",\"type\":\"BasicTicker\"},{\"attributes\":{},\"id\":\"8646\",\"type\":\"ResetTool\"},{\"attributes\":{\"formatter\":{\"id\":\"8959\"},\"major_label_policy\":{\"id\":\"8961\"},\"ticker\":{\"id\":\"8637\"}},\"id\":\"8636\",\"type\":\"LinearAxis\"},{\"attributes\":{\"source\":{\"id\":\"8653\"}},\"id\":\"8657\",\"type\":\"CDSView\"},{\"attributes\":{},\"id\":\"8634\",\"type\":\"LinearScale\"},{\"attributes\":{\"data\":{\"left\":{\"__ndarray__\":\"R5lHtjwr0T+VINaa2XDRP+SnZH92ttE/Mi/zYxP80T+AtoFIsEHSP889EC1Nh9I/HcWeEerM0j9rTC32hhLTP7rTu9ojWNM/CFtKv8Cd0z9W4tijXePTP6RpZ4j6KNQ/8/D1bJdu1D9BeIRRNLTUP4//EjbR+dQ/3oahGm4/1T8sDjD/CoXVP3qVvuOnytU/yBxNyEQQ1j8XpNus4VXWP2UrapF+m9Y/tLL4dRvh1j8COodauCbXP1DBFT9VbNc/nkikI/Kx1z/tzzIIj/fXPztXwewrPdg/it5P0ciC2D/YZd61ZcjYPybtbJoCDtk/dHT7fp9T2T/C+4ljPJnZPxGDGEjZ3tk/YAqnLHYk2j+ukTURE2raP/wYxPWvr9o/SqBS2kz12j+YJ+G+6TrbP+eub6OGgNs/NTb+hyPG2z+EvYxswAvcP9JEG1FdUdw/IMypNfqW3D9uUzgal9zcP73axv4zIt0/C2JV49Bn3T9a6ePHba3dP6hwcqwK890/9vcAkac43j9Ef491RH7eP5IGHlrhw94/4Y2sPn4J3z8vFTsjG0/fP36cyQe4lN8/zCNY7FTa3z+NVXPo+A/gPzSZulrHMuA/3NwBzZVV4D+CIEk/ZHjgPypkkLEym+A/0afXIwG+4D946x6Wz+DgPx8vZgieA+E/xnKtemwm4T9utvTsOknhPxT6O18JbOE/vD2D0deO4T9jgcpDprHhPwrFEbZ01OE/sghZKEP34T9YTKCaERriPwCQ5wzgPOI/ptMuf65f4j9OF3bxfILiP/VavWNLpeI/nJ4E1hnI4j9E4ktI6OriP+olk7q2DeM/kmnaLIUw4z85rSGfU1PjP+DwaBEiduM/hzSwg/CY4z8uePf1vrvjP9a7PmiN3uM/fP+F2lsB5D8kQ81MKiTkP8uGFL/4RuQ/cspbMcdp5D8aDqOjlYzkP8BR6hVkr+Q/aJUxiDLS5D8O2Xj6APXkP7YcwGzPF+U/XWAH35065T8EpE5RbF3lP6znlcM6gOU/UivdNQmj5T/6biSo18XlP6Gyaxqm6OU/SPayjHQL5j8=\",\"dtype\":\"float64\",\"order\":\"little\",\"shape\":[100]},\"right\":{\"__ndarray__\":\"lSDWmtlw0T/kp2R/drbRPzIv82MT/NE/gLaBSLBB0j/PPRAtTYfSPx3FnhHqzNI/a0wt9oYS0z+607vaI1jTPwhbSr/AndM/VuLYo13j0z+kaWeI+ijUP/Pw9WyXbtQ/QXiEUTS01D+P/xI20fnUP96GoRpuP9U/LA4w/wqF1T96lb7jp8rVP8gcTchEENY/F6TbrOFV1j9lK2qRfpvWP7Sy+HUb4dY/AjqHWrgm1z9QwRU/VWzXP55IpCPysdc/7c8yCI/31z87V8HsKz3YP4reT9HIgtg/2GXetWXI2D8m7WyaAg7ZP3R0+36fU9k/wvuJYzyZ2T8RgxhI2d7ZP2AKpyx2JNo/rpE1ERNq2j/8GMT1r6/aP0qgUtpM9do/mCfhvuk62z/nrm+jhoDbPzU2/ocjxts/hL2MbMAL3D/SRBtRXVHcPyDMqTX6ltw/blM4Gpfc3D+92sb+MyLdPwtiVePQZ90/Wunjx22t3T+ocHKsCvPdP/b3AJGnON4/RH+PdUR+3j+SBh5a4cPeP+GNrD5+Cd8/LxU7IxtP3z9+nMkHuJTfP8wjWOxU2t8/jVVz6PgP4D80mbpaxzLgP9zcAc2VVeA/giBJP2R44D8qZJCxMpvgP9Gn1yMBvuA/eOsels/g4D8fL2YIngPhP8ZyrXpsJuE/brb07DpJ4T8U+jtfCWzhP7w9g9HXjuE/Y4HKQ6ax4T8KxRG2dNThP7IIWShD9+E/WEygmhEa4j8AkOcM4DziP6bTLn+uX+I/Thd28XyC4j/1Wr1jS6XiP5yeBNYZyOI/ROJLSOjq4j/qJZO6tg3jP5Jp2iyFMOM/Oa0hn1NT4z/g8GgRInbjP4c0sIPwmOM/Lnj39b674z/Wuz5ojd7jP3z/hdpbAeQ/JEPNTCok5D/LhhS/+EbkP3LKWzHHaeQ/Gg6jo5WM5D/AUeoVZK/kP2iVMYgy0uQ/Dtl4+gD15D+2HMBszxflP11gB9+dOuU/BKROUWxd5T+s55XDOoDlP1Ir3TUJo+U/+m4kqNfF5T+hsmsapujlP0j2sox0C+Y/7zn6/kIu5j8=\",\"dtype\":\"float64\",\"order\":\"little\",\"shape\":[100]},\"top\":{\"__ndarray__\":\"s6Gsdw7twT8U3enRonyUP1/d6dGifJQ/AAAAAAAAAAByiKJ5WCpAQAAAAAAAAAAAAAAAAAAAAAAU3enRonyUP1/d6dGifKQ/t1RkhsubuT8AAAAAAAAAAHKhrHcO7dE/AAAAAAAAAABf3enRony0PxTd6dGifJQ/AAAAAAAAAABoXEa/UVMAQAAAAAAAAAAAFN3p0aJ8pD9f3enRonyUP5/L3jr0ut4/AAAAAAAAAAAAAAAAAAAAALdUZIbLm7k/FN3p0aJ8lD9f3enRonykPwAAAAAAAAAAX93p0aJ8lD9f3enRonyUPxDM3jr0uq4/AAAAAAAAAAAAAAAAAAAAAM3ioRMIK0hAAAAAAAAAAAAAAAAAAAAAAAAAAAAAAAAAX93p0aJ8lD8AAAAAAAAAAAAAAAAAAAAAFN3p0aJ8lD9f3enRony0PwAAAAAAAAAAAAAAAAAAAAC3GCcsNwzHP1/d6dGifJQ/FN3p0aJ8lD8AAAAAAAAAAPO0/jNfAeA/X93p0aJ8lD8AAAAAAAAAAAAAAAAAAAAAX93p0aJ8pD8AAAAAAAAAAF/d6dGifJQ/AAAAAAAAAAAAAAAAAAAAAAAAAAAAAAAAdFVkhsubCUAAAAAAAAAAAF/d6dGifKQ/X93p0aJ8lD8AAAAAAAAAAAAAAAAAAAAAYhgnLDcMxz/23enRonyUP8nc6dGifJQ/AAAAAAAAAABf3enRonyUP/tTZIbLm9k/9t3p0aJ8lD8AAAAAAAAAAAAAAAAAAAAAAAAAAAAAAAAAAAAAAAAAAAAAAAAAAAAAYhgnLDcMxz8AAAAAAAAAAMnc6dGifJQ/AAAAAAAAAAAQzN469LquPwAAAAAAAAAAAAAAAAAAAADJ3OnRony0PwAAAAAAAAAALcveOvS6vj9f3enRonyUP1/d6dGifJQ/ydzp0aJ8lD8AAAAAAAAAAC3L3jr0uq4/9t3p0aJ8pD/J3OnRonyUP1/d6dGifJQ/X93p0aJ8lD8AAAAAAAAAAPbd6dGifJQ/AAAAAAAAAAAAAAAAAAAAAAAAAAAAAAAATaZHAtcyYkA=\",\"dtype\":\"float64\",\"order\":\"little\",\"shape\":[100]}},\"selected\":{\"id\":\"8962\"},\"selection_policy\":{\"id\":\"8963\"}},\"id\":\"8653\",\"type\":\"ColumnDataSource\"},{\"attributes\":{},\"id\":\"8630\",\"type\":\"DataRange1d\"},{\"attributes\":{\"active_multi\":null,\"tools\":[{\"id\":\"8644\"},{\"id\":\"8645\"},{\"id\":\"8646\"},{\"id\":\"8647\"}]},\"id\":\"8648\",\"type\":\"Toolbar\"},{\"attributes\":{\"bottom\":{\"value\":0},\"fill_color\":{\"value\":\"#1f77b4\"},\"left\":{\"field\":\"left\"},\"line_color\":{\"value\":\"#555555\"},\"right\":{\"field\":\"right\"},\"top\":{\"field\":\"top\"}},\"id\":\"8654\",\"type\":\"Quad\"},{\"attributes\":{\"bottom\":{\"value\":0},\"fill_alpha\":{\"value\":0.1},\"fill_color\":{\"value\":\"#1f77b4\"},\"left\":{\"field\":\"left\"},\"line_alpha\":{\"value\":0.1},\"line_color\":{\"value\":\"#555555\"},\"right\":{\"field\":\"right\"},\"top\":{\"field\":\"top\"}},\"id\":\"8655\",\"type\":\"Quad\"},{\"attributes\":{},\"id\":\"8628\",\"type\":\"DataRange1d\"},{\"attributes\":{},\"id\":\"8959\",\"type\":\"BasicTickFormatter\"},{\"attributes\":{},\"id\":\"8647\",\"type\":\"SaveTool\"},{\"attributes\":{},\"id\":\"8632\",\"type\":\"LinearScale\"},{\"attributes\":{},\"id\":\"8645\",\"type\":\"WheelZoomTool\"},{\"attributes\":{},\"id\":\"8644\",\"type\":\"PanTool\"},{\"attributes\":{\"text\":\"YE Terms Ratios Affinity Distribution\"},\"id\":\"8626\",\"type\":\"Title\"},{\"attributes\":{},\"id\":\"8961\",\"type\":\"AllLabels\"},{\"attributes\":{\"data_source\":{\"id\":\"8653\"},\"glyph\":{\"id\":\"8654\"},\"hover_glyph\":null,\"muted_glyph\":null,\"nonselection_glyph\":{\"id\":\"8655\"},\"view\":{\"id\":\"8657\"}},\"id\":\"8656\",\"type\":\"GlyphRenderer\"},{\"attributes\":{},\"id\":\"8956\",\"type\":\"BasicTickFormatter\"},{\"attributes\":{},\"id\":\"8958\",\"type\":\"AllLabels\"}],\"root_ids\":[\"8625\"]},\"title\":\"Bokeh Application\",\"version\":\"2.3.3\"}};\n",
       "  var render_items = [{\"docid\":\"4f73a717-8ad0-4fa6-b79d-81bcac106680\",\"root_ids\":[\"8625\"],\"roots\":{\"8625\":\"035531a0-2c4b-41ca-a0dd-270e3fc89c48\"}}];\n",
       "  root.Bokeh.embed.embed_items_notebook(docs_json, render_items);\n",
       "\n",
       "  }\n",
       "  if (root.Bokeh !== undefined) {\n",
       "    embed_document(root);\n",
       "  } else {\n",
       "    var attempts = 0;\n",
       "    var timer = setInterval(function(root) {\n",
       "      if (root.Bokeh !== undefined) {\n",
       "        clearInterval(timer);\n",
       "        embed_document(root);\n",
       "      } else {\n",
       "        attempts++;\n",
       "        if (attempts > 100) {\n",
       "          clearInterval(timer);\n",
       "          console.log(\"Bokeh: ERROR: Unable to run BokehJS code because BokehJS library is missing\");\n",
       "        }\n",
       "      }\n",
       "    }, 10, root)\n",
       "  }\n",
       "})(window);"
      ],
      "application/vnd.bokehjs_exec.v0+json": ""
     },
     "metadata": {
      "application/vnd.bokehjs_exec.v0+json": {
       "id": "8625"
      }
     },
     "output_type": "display_data"
    },
    {
     "data": {
      "text/html": [
       "\n",
       "\n",
       "\n",
       "\n",
       "\n",
       "\n",
       "  <div class=\"bk-root\" id=\"c10833d9-41a8-436e-a71d-5e3f69830f84\" data-root-id=\"9009\"></div>\n"
      ]
     },
     "metadata": {},
     "output_type": "display_data"
    },
    {
     "data": {
      "application/javascript": [
       "(function(root) {\n",
       "  function embed_document(root) {\n",
       "    \n",
       "  var docs_json = {\"7234e92d-2a30-49a8-8ad9-d8c3ab2f2704\":{\"defs\":[],\"roots\":{\"references\":[{\"attributes\":{\"below\":[{\"id\":\"9020\"}],\"center\":[{\"id\":\"9023\"},{\"id\":\"9027\"}],\"left\":[{\"id\":\"9024\"}],\"renderers\":[{\"id\":\"9040\"}],\"title\":{\"id\":\"9010\"},\"toolbar\":{\"id\":\"9032\"},\"toolbar_location\":\"above\",\"x_range\":{\"id\":\"9012\"},\"x_scale\":{\"id\":\"9016\"},\"y_range\":{\"id\":\"9014\"},\"y_scale\":{\"id\":\"9018\"}},\"id\":\"9009\",\"subtype\":\"Figure\",\"type\":\"Plot\"},{\"attributes\":{\"data\":{\"left\":{\"__ndarray__\":\"AJr5Cbnw0D+Kq3666zbRPxS9A2sefdE/ns6IG1HD0T8o4A3MgwnSP7Lxkny2T9I/OwMYLemV0j/FFJ3dG9zSP08mIo5OItM/2TenPoFo0z9jSSzvs67TP+1asZ/m9NM/d2w2UBk71D8BfrsATIHUP4uPQLF+x9Q/FKHFYbEN1T+eskoS5FPVPyjEz8IWmtU/stVUc0ng1T8859kjfCbWP8b4XtSubNY/UArkhOGy1j/aG2k1FPnWP2Qt7uVGP9c/7j5zlnmF1z94UPhGrMvXPwJifffeEdg/jHMCqBFY2D8WhYdYRJ7YP5+WDAl35Ng/KaiRuakq2T+zuRZq3HDZPz3LmxoPt9k/x9wgy0H92T9R7qV7dEPaP9r/Kiynido/ZBGw3NnP2j/uIjWNDBbbP3g0uj0/XNs/AkY/7nGi2z+MV8SepOjbPxZpSU/XLtw/oHrO/wl13D8qjFOwPLvcP7Sd2GBvAd0/Pq9dEaJH3T/IwOLB1I3dP1LSZ3IH1N0/3OPsIjoa3j9m9XHTbGDeP/AG94Ofpt4/eRh8NNLs3j8DKgHlBDPfP407hpU3ed8/F00LRmq/3z9QL0h7zgLgPxa4itPnJeA/2kDNKwFJ4D+fyQ+EGmzgP2RSUtwzj+A/KduUNE2y4D/uY9eMZtXgP7PsGeV/+OA/eHVcPZkb4T89/p6Vsj7hPwKH4e3LYeE/xw8kRuWE4T+MmGae/qfhP1EhqfYXy+E/FqrrTjHu4T/aMi6nShHiP6C7cP9jNOI/ZESzV31X4j8qzfWvlnriP+5VOAiwneI/tN56YMnA4j94Z7244uPiPz7w/xD8BuM/AnlCaRUq4z/IAYXBLk3jP4yKxxlIcOM/URMKcmGT4z8WnEzKerbjP9skjyKU2eM/oK3Req384z9lNhTTxh/kPyq/VivgQuQ/70eZg/ll5D+00NvbEonkP3lZHjQsrOQ/PuJgjEXP5D8Ca6PkXvLkP8jz5Tx4FeU/jHwolZE45T9SBWvtqlvlPxaOrUXEfuU/3Bbwnd2h5T+gnzL29sTlP2YodU4Q6OU/KrG3pikL5j8=\",\"dtype\":\"float64\",\"order\":\"little\",\"shape\":[100]},\"right\":{\"__ndarray__\":\"iqt+uus20T8UvQNrHn3RP57OiBtRw9E/KOANzIMJ0j+y8ZJ8tk/SPzsDGC3pldI/xRSd3Rvc0j9PJiKOTiLTP9k3pz6BaNM/Y0ks77Ou0z/tWrGf5vTTP3dsNlAZO9Q/AX67AEyB1D+Lj0CxfsfUPxShxWGxDdU/nrJKEuRT1T8oxM/CFprVP7LVVHNJ4NU/POfZI3wm1j/G+F7UrmzWP1AK5IThstY/2htpNRT51j9kLe7lRj/XP+4+c5Z5hdc/eFD4RqzL1z8CYn333hHYP4xzAqgRWNg/FoWHWESe2D+flgwJd+TYPymokbmpKtk/s7kWatxw2T89y5saD7fZP8fcIMtB/dk/Ue6le3RD2j/a/yosp4naP2QRsNzZz9o/7iI1jQwW2z94NLo9P1zbPwJGP+5xots/jFfEnqTo2z8WaUlP1y7cP6B6zv8Jddw/KoxTsDy73D+0ndhgbwHdPz6vXRGiR90/yMDiwdSN3T9S0mdyB9TdP9zj7CI6Gt4/ZvVx02xg3j/wBveDn6beP3kYfDTS7N4/AyoB5QQz3z+NO4aVN3nfPxdNC0Zqv98/UC9Ie84C4D8WuIrT5yXgP9pAzSsBSeA/n8kPhBps4D9kUlLcM4/gPynblDRNsuA/7mPXjGbV4D+z7Bnlf/jgP3h1XD2ZG+E/Pf6elbI+4T8Ch+Hty2HhP8cPJEblhOE/jJhmnv6n4T9RIan2F8vhPxaq604x7uE/2jIup0oR4j+gu3D/YzTiP2REs1d9V+I/Ks31r5Z64j/uVTgIsJ3iP7TeemDJwOI/eGe9uOLj4j8+8P8Q/AbjPwJ5QmkVKuM/yAGFwS5N4z+MiscZSHDjP1ETCnJhk+M/FpxMynq24z/bJI8ilNnjP6Ct0Xqt/OM/ZTYU08Yf5D8qv1Yr4ELkP+9HmYP5ZeQ/tNDb2xKJ5D95WR40LKzkPz7iYIxFz+Q/Amuj5F7y5D/I8+U8eBXlP4x8KJWROOU/UgVr7apb5T8Wjq1FxH7lP9wW8J3doeU/oJ8y9vbE5T9mKHVOEOjlPyqxt6YpC+Y/7zn6/kIu5j8=\",\"dtype\":\"float64\",\"order\":\"little\",\"shape\":[100]},\"top\":{\"__ndarray__\":\"N6ob6V+4xj83qhvpX7jGP7NUwKzszr8/dv/tSqZDuz/5VEmHGS2iP4HMNKPokzxA+VRJhxktkj+zVMCs7M6/P7NUwKzszr8/+VRJhxktsj8UKtd7SYnNP/lUSYcZLaI/SOq9H+tP4z+zVMCs7M6/PydVwKzszs8/dv/tSqZDqz/pXHu3fygFQPlUSYcZLaI/s1TArOzOvz92/+1KpkOrP/lUSYcZLaI/FCrXe0mJ3T/5VEmHGS2iPwAAAAAAAAAAdv/tSqZDuz+ZfzK4vHLEP/lUSYcZLbI/s1TArOzOvz+KqhvpX7i2P3b/7UqmQ6s/+VRJhxktkj/5VEmHGS2iP749KwcFeEVAAAAAAAAAAAAAAAAAAAAAAHb/7UqmQ6s/+VRJhxktkj83qhvpX7i2P/lUSYcZLaI/s1TArOzOvz/5VEmHGS2yP3b/7UqmQ8s/+VRJhxktoj9I6r0f60/TP/lUSYcZLZI/dv/tSqZDqz8AAAAAAAAAANbUBBoD/ug/+VRJhxktkj/5VEmHGS2iPztVSYcZLZI/s1TArOzOvz/5VEmHGS2SP7NUwKzszr8/O1VJhxktoj90VEmHGS2SPwAAAAAAAAAAT8I6VL8IEkAAAAAAAAAAAPlUSYcZLZI/+VRJhxktkj/5VEmHGS2yP/lUSYcZLbI/AAAAAAAAAADW1AQaA/7IPwAAAAAAAAAAAAAAAAAAAAB2/+1KpkOrP61PfbwqMPA/fVVJhxktkj8AAAAAAAAAADwA7kqmQ6s/dFRJhxktsj99VUmHGS2iP3RUSYcZLZI/Q8BLFBus3j8AAAAAAAAAAN2qG+lfuLY/AAAAAAAAAACbVcCs7M7PP/lUSYcZLZI/+VRJhxktoj/5VEmHGS3CP3b/7UqmQ6s/+VRJhxktsj/5VEmHGS2SP/lUSYcZLaI/+VRJhxktoj92/+1KpkOrP3b/7UqmQ6s/fVVJhxktoj+u/u1KpkOrP31VSYcZLZI/rv7tSqZDqz99VUmHGS2yPwAAAAAAAAAAAAAAAAAAAAB0VEmHGS2iPwAAAAAAAAAADoV0Qg01YkA=\",\"dtype\":\"float64\",\"order\":\"little\",\"shape\":[100]}},\"selected\":{\"id\":\"9355\"},\"selection_policy\":{\"id\":\"9356\"}},\"id\":\"9037\",\"type\":\"ColumnDataSource\"},{\"attributes\":{},\"id\":\"9354\",\"type\":\"AllLabels\"},{\"attributes\":{\"axis\":{\"id\":\"9020\"},\"ticker\":null},\"id\":\"9023\",\"type\":\"Grid\"},{\"attributes\":{\"formatter\":{\"id\":\"9349\"},\"major_label_policy\":{\"id\":\"9351\"},\"ticker\":{\"id\":\"9025\"}},\"id\":\"9024\",\"type\":\"LinearAxis\"},{\"attributes\":{},\"id\":\"9025\",\"type\":\"BasicTicker\"},{\"attributes\":{},\"id\":\"9352\",\"type\":\"BasicTickFormatter\"},{\"attributes\":{\"bottom\":{\"value\":0},\"fill_color\":{\"value\":\"#1f77b4\"},\"left\":{\"field\":\"left\"},\"line_color\":{\"value\":\"#555555\"},\"right\":{\"field\":\"right\"},\"top\":{\"field\":\"top\"}},\"id\":\"9038\",\"type\":\"Quad\"},{\"attributes\":{},\"id\":\"9029\",\"type\":\"WheelZoomTool\"},{\"attributes\":{},\"id\":\"9012\",\"type\":\"DataRange1d\"},{\"attributes\":{},\"id\":\"9355\",\"type\":\"Selection\"},{\"attributes\":{\"axis\":{\"id\":\"9024\"},\"dimension\":1,\"ticker\":null},\"id\":\"9027\",\"type\":\"Grid\"},{\"attributes\":{},\"id\":\"9016\",\"type\":\"LinearScale\"},{\"attributes\":{},\"id\":\"9349\",\"type\":\"BasicTickFormatter\"},{\"attributes\":{},\"id\":\"9356\",\"type\":\"UnionRenderers\"},{\"attributes\":{\"source\":{\"id\":\"9037\"}},\"id\":\"9041\",\"type\":\"CDSView\"},{\"attributes\":{},\"id\":\"9014\",\"type\":\"DataRange1d\"},{\"attributes\":{\"text\":\"TN Terms Ratios Affinity Distribution\"},\"id\":\"9010\",\"type\":\"Title\"},{\"attributes\":{},\"id\":\"9030\",\"type\":\"ResetTool\"},{\"attributes\":{\"formatter\":{\"id\":\"9352\"},\"major_label_policy\":{\"id\":\"9354\"},\"ticker\":{\"id\":\"9021\"}},\"id\":\"9020\",\"type\":\"LinearAxis\"},{\"attributes\":{\"active_multi\":null,\"tools\":[{\"id\":\"9028\"},{\"id\":\"9029\"},{\"id\":\"9030\"},{\"id\":\"9031\"}]},\"id\":\"9032\",\"type\":\"Toolbar\"},{\"attributes\":{},\"id\":\"9031\",\"type\":\"SaveTool\"},{\"attributes\":{\"data_source\":{\"id\":\"9037\"},\"glyph\":{\"id\":\"9038\"},\"hover_glyph\":null,\"muted_glyph\":null,\"nonselection_glyph\":{\"id\":\"9039\"},\"view\":{\"id\":\"9041\"}},\"id\":\"9040\",\"type\":\"GlyphRenderer\"},{\"attributes\":{},\"id\":\"9021\",\"type\":\"BasicTicker\"},{\"attributes\":{},\"id\":\"9018\",\"type\":\"LinearScale\"},{\"attributes\":{},\"id\":\"9028\",\"type\":\"PanTool\"},{\"attributes\":{},\"id\":\"9351\",\"type\":\"AllLabels\"},{\"attributes\":{\"bottom\":{\"value\":0},\"fill_alpha\":{\"value\":0.1},\"fill_color\":{\"value\":\"#1f77b4\"},\"left\":{\"field\":\"left\"},\"line_alpha\":{\"value\":0.1},\"line_color\":{\"value\":\"#555555\"},\"right\":{\"field\":\"right\"},\"top\":{\"field\":\"top\"}},\"id\":\"9039\",\"type\":\"Quad\"}],\"root_ids\":[\"9009\"]},\"title\":\"Bokeh Application\",\"version\":\"2.3.3\"}};\n",
       "  var render_items = [{\"docid\":\"7234e92d-2a30-49a8-8ad9-d8c3ab2f2704\",\"root_ids\":[\"9009\"],\"roots\":{\"9009\":\"c10833d9-41a8-436e-a71d-5e3f69830f84\"}}];\n",
       "  root.Bokeh.embed.embed_items_notebook(docs_json, render_items);\n",
       "\n",
       "  }\n",
       "  if (root.Bokeh !== undefined) {\n",
       "    embed_document(root);\n",
       "  } else {\n",
       "    var attempts = 0;\n",
       "    var timer = setInterval(function(root) {\n",
       "      if (root.Bokeh !== undefined) {\n",
       "        clearInterval(timer);\n",
       "        embed_document(root);\n",
       "      } else {\n",
       "        attempts++;\n",
       "        if (attempts > 100) {\n",
       "          clearInterval(timer);\n",
       "          console.log(\"Bokeh: ERROR: Unable to run BokehJS code because BokehJS library is missing\");\n",
       "        }\n",
       "      }\n",
       "    }, 10, root)\n",
       "  }\n",
       "})(window);"
      ],
      "application/vnd.bokehjs_exec.v0+json": ""
     },
     "metadata": {
      "application/vnd.bokehjs_exec.v0+json": {
       "id": "9009"
      }
     },
     "output_type": "display_data"
    },
    {
     "data": {
      "text/html": [
       "\n",
       "\n",
       "\n",
       "\n",
       "\n",
       "\n",
       "  <div class=\"bk-root\" id=\"5042f1de-968e-43c9-a442-5df8f20d122d\" data-root-id=\"9402\"></div>\n"
      ]
     },
     "metadata": {},
     "output_type": "display_data"
    },
    {
     "data": {
      "application/javascript": [
       "(function(root) {\n",
       "  function embed_document(root) {\n",
       "    \n",
       "  var docs_json = {\"cfbcea07-3af9-44a9-9236-bcb2c9f27472\":{\"defs\":[],\"roots\":{\"references\":[{\"attributes\":{\"below\":[{\"id\":\"9413\"}],\"center\":[{\"id\":\"9416\"},{\"id\":\"9420\"}],\"left\":[{\"id\":\"9417\"}],\"renderers\":[{\"id\":\"9433\"}],\"title\":{\"id\":\"9403\"},\"toolbar\":{\"id\":\"9425\"},\"toolbar_location\":\"above\",\"x_range\":{\"id\":\"9405\"},\"x_scale\":{\"id\":\"9409\"},\"y_range\":{\"id\":\"9407\"},\"y_scale\":{\"id\":\"9411\"}},\"id\":\"9402\",\"subtype\":\"Figure\",\"type\":\"Plot\"},{\"attributes\":{\"active_multi\":null,\"tools\":[{\"id\":\"9421\"},{\"id\":\"9422\"},{\"id\":\"9423\"},{\"id\":\"9424\"}]},\"id\":\"9425\",\"type\":\"Toolbar\"},{\"attributes\":{\"data\":{\"left\":{\"__ndarray__\":\"AJr5Cbnw0D+Kq3666zbRPxS9A2sefdE/ns6IG1HD0T8o4A3MgwnSP7Lxkny2T9I/OwMYLemV0j/FFJ3dG9zSP08mIo5OItM/2TenPoFo0z9jSSzvs67TP+1asZ/m9NM/d2w2UBk71D8BfrsATIHUP4uPQLF+x9Q/FKHFYbEN1T+eskoS5FPVPyjEz8IWmtU/stVUc0ng1T8859kjfCbWP8b4XtSubNY/UArkhOGy1j/aG2k1FPnWP2Qt7uVGP9c/7j5zlnmF1z94UPhGrMvXPwJifffeEdg/jHMCqBFY2D8WhYdYRJ7YP5+WDAl35Ng/KaiRuakq2T+zuRZq3HDZPz3LmxoPt9k/x9wgy0H92T9R7qV7dEPaP9r/Kiynido/ZBGw3NnP2j/uIjWNDBbbP3g0uj0/XNs/AkY/7nGi2z+MV8SepOjbPxZpSU/XLtw/oHrO/wl13D8qjFOwPLvcP7Sd2GBvAd0/Pq9dEaJH3T/IwOLB1I3dP1LSZ3IH1N0/3OPsIjoa3j9m9XHTbGDeP/AG94Ofpt4/eRh8NNLs3j8DKgHlBDPfP407hpU3ed8/F00LRmq/3z9QL0h7zgLgPxa4itPnJeA/2kDNKwFJ4D+fyQ+EGmzgP2RSUtwzj+A/KduUNE2y4D/uY9eMZtXgP7PsGeV/+OA/eHVcPZkb4T89/p6Vsj7hPwKH4e3LYeE/xw8kRuWE4T+MmGae/qfhP1EhqfYXy+E/FqrrTjHu4T/aMi6nShHiP6C7cP9jNOI/ZESzV31X4j8qzfWvlnriP+5VOAiwneI/tN56YMnA4j94Z7244uPiPz7w/xD8BuM/AnlCaRUq4z/IAYXBLk3jP4yKxxlIcOM/URMKcmGT4z8WnEzKerbjP9skjyKU2eM/oK3Req384z9lNhTTxh/kPyq/VivgQuQ/70eZg/ll5D+00NvbEonkP3lZHjQsrOQ/PuJgjEXP5D8Ca6PkXvLkP8jz5Tx4FeU/jHwolZE45T9SBWvtqlvlPxaOrUXEfuU/3Bbwnd2h5T+gnzL29sTlP2YodU4Q6OU/KrG3pikL5j8=\",\"dtype\":\"float64\",\"order\":\"little\",\"shape\":[100]},\"right\":{\"__ndarray__\":\"iqt+uus20T8UvQNrHn3RP57OiBtRw9E/KOANzIMJ0j+y8ZJ8tk/SPzsDGC3pldI/xRSd3Rvc0j9PJiKOTiLTP9k3pz6BaNM/Y0ks77Ou0z/tWrGf5vTTP3dsNlAZO9Q/AX67AEyB1D+Lj0CxfsfUPxShxWGxDdU/nrJKEuRT1T8oxM/CFprVP7LVVHNJ4NU/POfZI3wm1j/G+F7UrmzWP1AK5IThstY/2htpNRT51j9kLe7lRj/XP+4+c5Z5hdc/eFD4RqzL1z8CYn333hHYP4xzAqgRWNg/FoWHWESe2D+flgwJd+TYPymokbmpKtk/s7kWatxw2T89y5saD7fZP8fcIMtB/dk/Ue6le3RD2j/a/yosp4naP2QRsNzZz9o/7iI1jQwW2z94NLo9P1zbPwJGP+5xots/jFfEnqTo2z8WaUlP1y7cP6B6zv8Jddw/KoxTsDy73D+0ndhgbwHdPz6vXRGiR90/yMDiwdSN3T9S0mdyB9TdP9zj7CI6Gt4/ZvVx02xg3j/wBveDn6beP3kYfDTS7N4/AyoB5QQz3z+NO4aVN3nfPxdNC0Zqv98/UC9Ie84C4D8WuIrT5yXgP9pAzSsBSeA/n8kPhBps4D9kUlLcM4/gPynblDRNsuA/7mPXjGbV4D+z7Bnlf/jgP3h1XD2ZG+E/Pf6elbI+4T8Ch+Hty2HhP8cPJEblhOE/jJhmnv6n4T9RIan2F8vhPxaq604x7uE/2jIup0oR4j+gu3D/YzTiP2REs1d9V+I/Ks31r5Z64j/uVTgIsJ3iP7TeemDJwOI/eGe9uOLj4j8+8P8Q/AbjPwJ5QmkVKuM/yAGFwS5N4z+MiscZSHDjP1ETCnJhk+M/FpxMynq24z/bJI8ilNnjP6Ct0Xqt/OM/ZTYU08Yf5D8qv1Yr4ELkP+9HmYP5ZeQ/tNDb2xKJ5D95WR40LKzkPz7iYIxFz+Q/Amuj5F7y5D/I8+U8eBXlP4x8KJWROOU/UgVr7apb5T8Wjq1FxH7lP9wW8J3doeU/oJ8y9vbE5T9mKHVOEOjlPyqxt6YpC+Y/7zn6/kIu5j8=\",\"dtype\":\"float64\",\"order\":\"little\",\"shape\":[100]},\"top\":{\"__ndarray__\":\"YW3LPvKDzT+ymmidrFzBPwkgF/Cb1aQ/typ0lXrHiz+ymmidrFyxP3DFBc0XnTNAtyp0lXrHmz+3KnSVesebP7KaaJ2sXLE/spponaxcwT9d3b9GJBnDPwkgF/Cb1bQ/typ0lXrH2z8AAAAAAAAAALilxUKLTrg/typ0lXrHmz+zU+l8WQMCQLcqdJV6x6s/CSAX8JvVpD+ymmidrFzBP7KaaJ2sXLE/spponaxc4T8OsCLoaUC/P7cqdJV6x5s/YW3LPvKDzT8JIBfwm9XEP7cqdJV6x6s/X6XFQotOuD8cK3SVeserPwkgF/Cb1aQ/typ0lXrHmz+3KnSVesebP6LGLRWkoT9AAAAAAAAAAAAAAAAAAAAAAAkgF/Cb1aQ/typ0lXrHiz9fpcVCi064PwkgF/Cb1aQ/X6XFQotOuD8JIBfwm9WkPw6wIuhpQL8/CSAX8JvVpD9hbcs+8oPNPwAAAAAAAAAAtyp0lXrHqz+3KnSVesebP1+lxUKLTug/AAAAAAAAAAC3KnSVeserP/KaaJ2sXLE/XPm8yHB+0D+3KnSVesebP7KaaJ2sXLE/HCt0lXrHqz/sKXSVeserPwAAAAAAAAAAcbMHhlSMEEC3KnSVeserP7cqdJV6x5s/CSAX8JvVpD8OsCLoaUC/P7cqdJV6x8s/AAAAAAAAAAAJIBfwm9XEP7cqdJV6x6s/typ0lXrHmz8JIBfwm9WkP7mAeNKHr+8/gSt0lXrHiz/sKXSVeseLP6AgF/Cb1bQ/M5ponaxcsT+BK3SVeserP+wpdJV6x4s/OW7LPvKD3T/sKXSVeseLP6AgF/Cb1bQ/7Cl0lXrHiz/xsCLoaUDPP7cqdJV6x4s/typ0lXrHqz9hbcs+8oPNPwkgF/Cb1aQ/CSAX8JvVxD+3KnSVeserP7KaaJ2sXME/CSAX8JvVpD9fpcVCi064P7cqdJV6x5s/gSt0lXrHqz/sKXSVeseLP6AgF/Cb1bQ/M5ponaxcsT8RpsVCi064P+wpdJV6x4s/oCAX8JvVpD/sKXSVeseLP6AgF/Cb1aQ/qL40BMLKZEA=\",\"dtype\":\"float64\",\"order\":\"little\",\"shape\":[100]}},\"selected\":{\"id\":\"9757\"},\"selection_policy\":{\"id\":\"9758\"}},\"id\":\"9430\",\"type\":\"ColumnDataSource\"},{\"attributes\":{\"data_source\":{\"id\":\"9430\"},\"glyph\":{\"id\":\"9431\"},\"hover_glyph\":null,\"muted_glyph\":null,\"nonselection_glyph\":{\"id\":\"9432\"},\"view\":{\"id\":\"9434\"}},\"id\":\"9433\",\"type\":\"GlyphRenderer\"},{\"attributes\":{\"text\":\"MA Terms Ratios Affinity Distribution\"},\"id\":\"9403\",\"type\":\"Title\"},{\"attributes\":{},\"id\":\"9407\",\"type\":\"DataRange1d\"},{\"attributes\":{},\"id\":\"9405\",\"type\":\"DataRange1d\"},{\"attributes\":{},\"id\":\"9424\",\"type\":\"SaveTool\"},{\"attributes\":{\"bottom\":{\"value\":0},\"fill_alpha\":{\"value\":0.1},\"fill_color\":{\"value\":\"#1f77b4\"},\"left\":{\"field\":\"left\"},\"line_alpha\":{\"value\":0.1},\"line_color\":{\"value\":\"#555555\"},\"right\":{\"field\":\"right\"},\"top\":{\"field\":\"top\"}},\"id\":\"9432\",\"type\":\"Quad\"},{\"attributes\":{},\"id\":\"9751\",\"type\":\"BasicTickFormatter\"},{\"attributes\":{},\"id\":\"9423\",\"type\":\"ResetTool\"},{\"attributes\":{\"axis\":{\"id\":\"9417\"},\"dimension\":1,\"ticker\":null},\"id\":\"9420\",\"type\":\"Grid\"},{\"attributes\":{},\"id\":\"9754\",\"type\":\"BasicTickFormatter\"},{\"attributes\":{},\"id\":\"9422\",\"type\":\"WheelZoomTool\"},{\"attributes\":{\"formatter\":{\"id\":\"9751\"},\"major_label_policy\":{\"id\":\"9753\"},\"ticker\":{\"id\":\"9418\"}},\"id\":\"9417\",\"type\":\"LinearAxis\"},{\"attributes\":{},\"id\":\"9753\",\"type\":\"AllLabels\"},{\"attributes\":{},\"id\":\"9758\",\"type\":\"UnionRenderers\"},{\"attributes\":{},\"id\":\"9756\",\"type\":\"AllLabels\"},{\"attributes\":{},\"id\":\"9414\",\"type\":\"BasicTicker\"},{\"attributes\":{},\"id\":\"9757\",\"type\":\"Selection\"},{\"attributes\":{\"axis\":{\"id\":\"9413\"},\"ticker\":null},\"id\":\"9416\",\"type\":\"Grid\"},{\"attributes\":{},\"id\":\"9421\",\"type\":\"PanTool\"},{\"attributes\":{},\"id\":\"9411\",\"type\":\"LinearScale\"},{\"attributes\":{\"source\":{\"id\":\"9430\"}},\"id\":\"9434\",\"type\":\"CDSView\"},{\"attributes\":{},\"id\":\"9418\",\"type\":\"BasicTicker\"},{\"attributes\":{\"bottom\":{\"value\":0},\"fill_color\":{\"value\":\"#1f77b4\"},\"left\":{\"field\":\"left\"},\"line_color\":{\"value\":\"#555555\"},\"right\":{\"field\":\"right\"},\"top\":{\"field\":\"top\"}},\"id\":\"9431\",\"type\":\"Quad\"},{\"attributes\":{\"formatter\":{\"id\":\"9754\"},\"major_label_policy\":{\"id\":\"9756\"},\"ticker\":{\"id\":\"9414\"}},\"id\":\"9413\",\"type\":\"LinearAxis\"},{\"attributes\":{},\"id\":\"9409\",\"type\":\"LinearScale\"}],\"root_ids\":[\"9402\"]},\"title\":\"Bokeh Application\",\"version\":\"2.3.3\"}};\n",
       "  var render_items = [{\"docid\":\"cfbcea07-3af9-44a9-9236-bcb2c9f27472\",\"root_ids\":[\"9402\"],\"roots\":{\"9402\":\"5042f1de-968e-43c9-a442-5df8f20d122d\"}}];\n",
       "  root.Bokeh.embed.embed_items_notebook(docs_json, render_items);\n",
       "\n",
       "  }\n",
       "  if (root.Bokeh !== undefined) {\n",
       "    embed_document(root);\n",
       "  } else {\n",
       "    var attempts = 0;\n",
       "    var timer = setInterval(function(root) {\n",
       "      if (root.Bokeh !== undefined) {\n",
       "        clearInterval(timer);\n",
       "        embed_document(root);\n",
       "      } else {\n",
       "        attempts++;\n",
       "        if (attempts > 100) {\n",
       "          clearInterval(timer);\n",
       "          console.log(\"Bokeh: ERROR: Unable to run BokehJS code because BokehJS library is missing\");\n",
       "        }\n",
       "      }\n",
       "    }, 10, root)\n",
       "  }\n",
       "})(window);"
      ],
      "application/vnd.bokehjs_exec.v0+json": ""
     },
     "metadata": {
      "application/vnd.bokehjs_exec.v0+json": {
       "id": "9402"
      }
     },
     "output_type": "display_data"
    }
   ],
   "source": [
    "for dialect in df['dialect'].unique():\n",
    "    hist, edges = np.histogram(list(map(lambda x:x[1], reversed(logs_of_dialect_words[dialect].most_common()))), \n",
    "                              density=True, bins=100,normed=True)\n",
    "\n",
    "    p = figure(tools='pan,wheel_zoom,reset,save', \n",
    "               toolbar_location='above',\n",
    "               title = dialect+' Terms Ratios Affinity Distribution')\n",
    "\n",
    "    p.quad(top=hist, bottom=0, left=edges[:-1], right=edges[1:], line_color='#555555')\n",
    "    show(p)"
   ]
  },
  {
   "cell_type": "code",
   "execution_count": 38,
   "id": "cf318557",
   "metadata": {
    "id": "cf318557"
   },
   "outputs": [],
   "source": [
    "terms_in_ratio = set()\n",
    "for dialect in df['dialect'].unique():\n",
    "    for term in ratios_of_dialect_words[dialect].keys():\n",
    "        terms_in_ratio.add(term)\n",
    "        \n",
    "terms_in_ratio = list(terms_in_ratio)"
   ]
  },
  {
   "cell_type": "code",
   "execution_count": 39,
   "id": "3600b2d8",
   "metadata": {
    "colab": {
     "base_uri": "https://localhost:8080/"
    },
    "id": "3600b2d8",
    "outputId": "ed166a82-7ba1-4e7a-e57c-b763267962a4"
   },
   "outputs": [
    {
     "data": {
      "text/plain": [
       "505485"
      ]
     },
     "execution_count": 39,
     "metadata": {},
     "output_type": "execute_result"
    }
   ],
   "source": [
    "len(terms_in_ratio)"
   ]
  },
  {
   "cell_type": "code",
   "execution_count": 40,
   "id": "ff1adb56",
   "metadata": {
    "id": "ff1adb56"
   },
   "outputs": [],
   "source": [
    "high_weight_terms = set()\n",
    "for dialect in df['dialect'].unique():\n",
    "    for term in logs_of_dialect_words[dialect].keys():\n",
    "        high_weight_terms.add(term)\n",
    "        \n",
    "high_weight_terms = list(high_weight_terms)"
   ]
  },
  {
   "cell_type": "code",
   "execution_count": 41,
   "id": "c4c6061b",
   "metadata": {
    "colab": {
     "base_uri": "https://localhost:8080/"
    },
    "id": "c4c6061b",
    "outputId": "83200248-f1a2-418d-ef53-eed05d8514c3"
   },
   "outputs": [
    {
     "data": {
      "text/plain": [
       "461270"
      ]
     },
     "execution_count": 41,
     "metadata": {},
     "output_type": "execute_result"
    }
   ],
   "source": [
    "len(high_weight_terms)"
   ]
  },
  {
   "cell_type": "markdown",
   "id": "8bb5cab8",
   "metadata": {
    "id": "8bb5cab8"
   },
   "source": [
    ">We can see that before using we had 503490 unique terms but now 422793 unique terms. And now we removed the Arabic stop words that we could not remove before."
   ]
  },
  {
   "cell_type": "markdown",
   "id": "34e97a30",
   "metadata": {
    "id": "34e97a30"
   },
   "source": [
    "---"
   ]
  }
 ],
 "metadata": {
  "colab": {
   "collapsed_sections": [
    "2eb1e2fd",
    "f014bca8",
    "14b68916",
    "5224a14c"
   ],
   "name": "Arabic Dialect Identification - Data Pre-processing 18 Class.ipynb",
   "provenance": []
  },
  "kernelspec": {
   "display_name": "Python 3 (ipykernel)",
   "language": "python",
   "name": "python3"
  },
  "language_info": {
   "codemirror_mode": {
    "name": "ipython",
    "version": 3
   },
   "file_extension": ".py",
   "mimetype": "text/x-python",
   "name": "python",
   "nbconvert_exporter": "python",
   "pygments_lexer": "ipython3",
   "version": "3.9.5"
  }
 },
 "nbformat": 4,
 "nbformat_minor": 5
}
