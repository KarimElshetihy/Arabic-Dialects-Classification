{
 "cells": [
  {
   "cell_type": "markdown",
   "id": "9c356b95",
   "metadata": {},
   "source": [
    "# Arabic Dialect Identification - Exploratory Analysis & Data Pre-processing\n",
    "## By Karim Elshetihy\n",
    "- [Github](https://github.com/KarimElshetihy)\n",
    "- [Linkedin](https://www.linkedin.com/in/karim-el-shetihy/)"
   ]
  },
  {
   "cell_type": "markdown",
   "id": "ce71545a",
   "metadata": {},
   "source": [
    "#### Referances:\n",
    "- [Arabic Dialict Identification in the Wild Paper](https://arxiv.org/pdf/2005.06557.pdf)\n",
    "- [Flask Tutorial](https://programminghistorian.org/en/lessons/creating-apis-with-python-and-flask)\n",
    "- [Multinomial Classification](https://towardsdatascience.com/the-complete-guide-to-neural-networks-multinomial-classification-4fe88bde7839)\n",
    "\n",
    "#### The Dataset:\n",
    "The dataset and the dialect identification problem were addressed by Qatar Computing Research Institute, moreover, they published a paper, feel free to get more insights from it [Here](https://arxiv.org/pdf/2005.06557.pdf).\n",
    "\n",
    "We are given a dataset which has 2 columns, **id** and **dialect**.\n",
    "- Target label column is the **dialect***, which has 18 classes.\n",
    "- The **id** column will be used to retrieve the text, to do that, you need to call this API by a\n",
    "POST request. https://recruitment.aimtechnologies.co/ai-tasks.\n",
    "- The request body must be a JSON as a list of strings, and the size of the list must NOT exceed 1000.\n",
    "- The API will return a dictionary where the keys are the ids, and the values are the text, here is a request and response sample."
   ]
  },
  {
   "cell_type": "markdown",
   "id": "a06e2794",
   "metadata": {},
   "source": [
    "### Importing Packages"
   ]
  },
  {
   "cell_type": "code",
   "execution_count": 1,
   "id": "6f960151",
   "metadata": {},
   "outputs": [
    {
     "data": {
      "text/html": [
       "\n",
       "    <div class=\"bk-root\">\n",
       "        <a href=\"https://bokeh.org\" target=\"_blank\" class=\"bk-logo bk-logo-small bk-logo-notebook\"></a>\n",
       "        <span id=\"1002\">Loading BokehJS ...</span>\n",
       "    </div>"
      ]
     },
     "metadata": {},
     "output_type": "display_data"
    },
    {
     "data": {
      "application/javascript": [
       "\n",
       "(function(root) {\n",
       "  function now() {\n",
       "    return new Date();\n",
       "  }\n",
       "\n",
       "  const force = true;\n",
       "\n",
       "  if (typeof root._bokeh_onload_callbacks === \"undefined\" || force === true) {\n",
       "    root._bokeh_onload_callbacks = [];\n",
       "    root._bokeh_is_loading = undefined;\n",
       "  }\n",
       "\n",
       "  const JS_MIME_TYPE = 'application/javascript';\n",
       "  const HTML_MIME_TYPE = 'text/html';\n",
       "  const EXEC_MIME_TYPE = 'application/vnd.bokehjs_exec.v0+json';\n",
       "  const CLASS_NAME = 'output_bokeh rendered_html';\n",
       "\n",
       "  /**\n",
       "   * Render data to the DOM node\n",
       "   */\n",
       "  function render(props, node) {\n",
       "    const script = document.createElement(\"script\");\n",
       "    node.appendChild(script);\n",
       "  }\n",
       "\n",
       "  /**\n",
       "   * Handle when an output is cleared or removed\n",
       "   */\n",
       "  function handleClearOutput(event, handle) {\n",
       "    const cell = handle.cell;\n",
       "\n",
       "    const id = cell.output_area._bokeh_element_id;\n",
       "    const server_id = cell.output_area._bokeh_server_id;\n",
       "    // Clean up Bokeh references\n",
       "    if (id != null && id in Bokeh.index) {\n",
       "      Bokeh.index[id].model.document.clear();\n",
       "      delete Bokeh.index[id];\n",
       "    }\n",
       "\n",
       "    if (server_id !== undefined) {\n",
       "      // Clean up Bokeh references\n",
       "      const cmd_clean = \"from bokeh.io.state import curstate; print(curstate().uuid_to_server['\" + server_id + \"'].get_sessions()[0].document.roots[0]._id)\";\n",
       "      cell.notebook.kernel.execute(cmd_clean, {\n",
       "        iopub: {\n",
       "          output: function(msg) {\n",
       "            const id = msg.content.text.trim();\n",
       "            if (id in Bokeh.index) {\n",
       "              Bokeh.index[id].model.document.clear();\n",
       "              delete Bokeh.index[id];\n",
       "            }\n",
       "          }\n",
       "        }\n",
       "      });\n",
       "      // Destroy server and session\n",
       "      const cmd_destroy = \"import bokeh.io.notebook as ion; ion.destroy_server('\" + server_id + \"')\";\n",
       "      cell.notebook.kernel.execute(cmd_destroy);\n",
       "    }\n",
       "  }\n",
       "\n",
       "  /**\n",
       "   * Handle when a new output is added\n",
       "   */\n",
       "  function handleAddOutput(event, handle) {\n",
       "    const output_area = handle.output_area;\n",
       "    const output = handle.output;\n",
       "\n",
       "    // limit handleAddOutput to display_data with EXEC_MIME_TYPE content only\n",
       "    if ((output.output_type != \"display_data\") || (!Object.prototype.hasOwnProperty.call(output.data, EXEC_MIME_TYPE))) {\n",
       "      return\n",
       "    }\n",
       "\n",
       "    const toinsert = output_area.element.find(\".\" + CLASS_NAME.split(' ')[0]);\n",
       "\n",
       "    if (output.metadata[EXEC_MIME_TYPE][\"id\"] !== undefined) {\n",
       "      toinsert[toinsert.length - 1].firstChild.textContent = output.data[JS_MIME_TYPE];\n",
       "      // store reference to embed id on output_area\n",
       "      output_area._bokeh_element_id = output.metadata[EXEC_MIME_TYPE][\"id\"];\n",
       "    }\n",
       "    if (output.metadata[EXEC_MIME_TYPE][\"server_id\"] !== undefined) {\n",
       "      const bk_div = document.createElement(\"div\");\n",
       "      bk_div.innerHTML = output.data[HTML_MIME_TYPE];\n",
       "      const script_attrs = bk_div.children[0].attributes;\n",
       "      for (let i = 0; i < script_attrs.length; i++) {\n",
       "        toinsert[toinsert.length - 1].firstChild.setAttribute(script_attrs[i].name, script_attrs[i].value);\n",
       "        toinsert[toinsert.length - 1].firstChild.textContent = bk_div.children[0].textContent\n",
       "      }\n",
       "      // store reference to server id on output_area\n",
       "      output_area._bokeh_server_id = output.metadata[EXEC_MIME_TYPE][\"server_id\"];\n",
       "    }\n",
       "  }\n",
       "\n",
       "  function register_renderer(events, OutputArea) {\n",
       "\n",
       "    function append_mime(data, metadata, element) {\n",
       "      // create a DOM node to render to\n",
       "      const toinsert = this.create_output_subarea(\n",
       "        metadata,\n",
       "        CLASS_NAME,\n",
       "        EXEC_MIME_TYPE\n",
       "      );\n",
       "      this.keyboard_manager.register_events(toinsert);\n",
       "      // Render to node\n",
       "      const props = {data: data, metadata: metadata[EXEC_MIME_TYPE]};\n",
       "      render(props, toinsert[toinsert.length - 1]);\n",
       "      element.append(toinsert);\n",
       "      return toinsert\n",
       "    }\n",
       "\n",
       "    /* Handle when an output is cleared or removed */\n",
       "    events.on('clear_output.CodeCell', handleClearOutput);\n",
       "    events.on('delete.Cell', handleClearOutput);\n",
       "\n",
       "    /* Handle when a new output is added */\n",
       "    events.on('output_added.OutputArea', handleAddOutput);\n",
       "\n",
       "    /**\n",
       "     * Register the mime type and append_mime function with output_area\n",
       "     */\n",
       "    OutputArea.prototype.register_mime_type(EXEC_MIME_TYPE, append_mime, {\n",
       "      /* Is output safe? */\n",
       "      safe: true,\n",
       "      /* Index of renderer in `output_area.display_order` */\n",
       "      index: 0\n",
       "    });\n",
       "  }\n",
       "\n",
       "  // register the mime type if in Jupyter Notebook environment and previously unregistered\n",
       "  if (root.Jupyter !== undefined) {\n",
       "    const events = require('base/js/events');\n",
       "    const OutputArea = require('notebook/js/outputarea').OutputArea;\n",
       "\n",
       "    if (OutputArea.prototype.mime_types().indexOf(EXEC_MIME_TYPE) == -1) {\n",
       "      register_renderer(events, OutputArea);\n",
       "    }\n",
       "  }\n",
       "\n",
       "  \n",
       "  if (typeof (root._bokeh_timeout) === \"undefined\" || force === true) {\n",
       "    root._bokeh_timeout = Date.now() + 5000;\n",
       "    root._bokeh_failed_load = false;\n",
       "  }\n",
       "\n",
       "  const NB_LOAD_WARNING = {'data': {'text/html':\n",
       "     \"<div style='background-color: #fdd'>\\n\"+\n",
       "     \"<p>\\n\"+\n",
       "     \"BokehJS does not appear to have successfully loaded. If loading BokehJS from CDN, this \\n\"+\n",
       "     \"may be due to a slow or bad network connection. Possible fixes:\\n\"+\n",
       "     \"</p>\\n\"+\n",
       "     \"<ul>\\n\"+\n",
       "     \"<li>re-rerun `output_notebook()` to attempt to load from CDN again, or</li>\\n\"+\n",
       "     \"<li>use INLINE resources instead, as so:</li>\\n\"+\n",
       "     \"</ul>\\n\"+\n",
       "     \"<code>\\n\"+\n",
       "     \"from bokeh.resources import INLINE\\n\"+\n",
       "     \"output_notebook(resources=INLINE)\\n\"+\n",
       "     \"</code>\\n\"+\n",
       "     \"</div>\"}};\n",
       "\n",
       "  function display_loaded() {\n",
       "    const el = document.getElementById(\"1002\");\n",
       "    if (el != null) {\n",
       "      el.textContent = \"BokehJS is loading...\";\n",
       "    }\n",
       "    if (root.Bokeh !== undefined) {\n",
       "      if (el != null) {\n",
       "        el.textContent = \"BokehJS \" + root.Bokeh.version + \" successfully loaded.\";\n",
       "      }\n",
       "    } else if (Date.now() < root._bokeh_timeout) {\n",
       "      setTimeout(display_loaded, 100)\n",
       "    }\n",
       "  }\n",
       "\n",
       "\n",
       "  function run_callbacks() {\n",
       "    try {\n",
       "      root._bokeh_onload_callbacks.forEach(function(callback) {\n",
       "        if (callback != null)\n",
       "          callback();\n",
       "      });\n",
       "    } finally {\n",
       "      delete root._bokeh_onload_callbacks\n",
       "    }\n",
       "    console.debug(\"Bokeh: all callbacks have finished\");\n",
       "  }\n",
       "\n",
       "  function load_libs(css_urls, js_urls, callback) {\n",
       "    if (css_urls == null) css_urls = [];\n",
       "    if (js_urls == null) js_urls = [];\n",
       "\n",
       "    root._bokeh_onload_callbacks.push(callback);\n",
       "    if (root._bokeh_is_loading > 0) {\n",
       "      console.debug(\"Bokeh: BokehJS is being loaded, scheduling callback at\", now());\n",
       "      return null;\n",
       "    }\n",
       "    if (js_urls == null || js_urls.length === 0) {\n",
       "      run_callbacks();\n",
       "      return null;\n",
       "    }\n",
       "    console.debug(\"Bokeh: BokehJS not loaded, scheduling load and callback at\", now());\n",
       "    root._bokeh_is_loading = css_urls.length + js_urls.length;\n",
       "\n",
       "    function on_load() {\n",
       "      root._bokeh_is_loading--;\n",
       "      if (root._bokeh_is_loading === 0) {\n",
       "        console.debug(\"Bokeh: all BokehJS libraries/stylesheets loaded\");\n",
       "        run_callbacks()\n",
       "      }\n",
       "    }\n",
       "\n",
       "    function on_error(url) {\n",
       "      console.error(\"failed to load \" + url);\n",
       "    }\n",
       "\n",
       "    for (let i = 0; i < css_urls.length; i++) {\n",
       "      const url = css_urls[i];\n",
       "      const element = document.createElement(\"link\");\n",
       "      element.onload = on_load;\n",
       "      element.onerror = on_error.bind(null, url);\n",
       "      element.rel = \"stylesheet\";\n",
       "      element.type = \"text/css\";\n",
       "      element.href = url;\n",
       "      console.debug(\"Bokeh: injecting link tag for BokehJS stylesheet: \", url);\n",
       "      document.body.appendChild(element);\n",
       "    }\n",
       "\n",
       "    for (let i = 0; i < js_urls.length; i++) {\n",
       "      const url = js_urls[i];\n",
       "      const element = document.createElement('script');\n",
       "      element.onload = on_load;\n",
       "      element.onerror = on_error.bind(null, url);\n",
       "      element.async = false;\n",
       "      element.src = url;\n",
       "      console.debug(\"Bokeh: injecting script tag for BokehJS library: \", url);\n",
       "      document.head.appendChild(element);\n",
       "    }\n",
       "  };\n",
       "\n",
       "  function inject_raw_css(css) {\n",
       "    const element = document.createElement(\"style\");\n",
       "    element.appendChild(document.createTextNode(css));\n",
       "    document.body.appendChild(element);\n",
       "  }\n",
       "\n",
       "  \n",
       "  const js_urls = [\"https://cdn.bokeh.org/bokeh/release/bokeh-2.4.2.min.js\", \"https://cdn.bokeh.org/bokeh/release/bokeh-gl-2.4.2.min.js\", \"https://cdn.bokeh.org/bokeh/release/bokeh-widgets-2.4.2.min.js\", \"https://cdn.bokeh.org/bokeh/release/bokeh-tables-2.4.2.min.js\", \"https://cdn.bokeh.org/bokeh/release/bokeh-mathjax-2.4.2.min.js\"];\n",
       "  const css_urls = [];\n",
       "  \n",
       "\n",
       "  const inline_js = [\n",
       "    function(Bokeh) {\n",
       "      Bokeh.set_log_level(\"info\");\n",
       "    },\n",
       "    function(Bokeh) {\n",
       "    \n",
       "    \n",
       "    }\n",
       "  ];\n",
       "\n",
       "  function run_inline_js() {\n",
       "    \n",
       "    if (root.Bokeh !== undefined || force === true) {\n",
       "      \n",
       "    for (let i = 0; i < inline_js.length; i++) {\n",
       "      inline_js[i].call(root, root.Bokeh);\n",
       "    }\n",
       "    if (force === true) {\n",
       "        display_loaded();\n",
       "      }} else if (Date.now() < root._bokeh_timeout) {\n",
       "      setTimeout(run_inline_js, 100);\n",
       "    } else if (!root._bokeh_failed_load) {\n",
       "      console.log(\"Bokeh: BokehJS failed to load within specified timeout.\");\n",
       "      root._bokeh_failed_load = true;\n",
       "    } else if (force !== true) {\n",
       "      const cell = $(document.getElementById(\"1002\")).parents('.cell').data().cell;\n",
       "      cell.output_area.append_execute_result(NB_LOAD_WARNING)\n",
       "    }\n",
       "\n",
       "  }\n",
       "\n",
       "  if (root._bokeh_is_loading === 0) {\n",
       "    console.debug(\"Bokeh: BokehJS loaded, going straight to plotting\");\n",
       "    run_inline_js();\n",
       "  } else {\n",
       "    load_libs(css_urls, js_urls, function() {\n",
       "      console.debug(\"Bokeh: BokehJS plotting callback run at\", now());\n",
       "      run_inline_js();\n",
       "    });\n",
       "  }\n",
       "}(window));"
      ],
      "application/vnd.bokehjs_load.v0+json": "\n(function(root) {\n  function now() {\n    return new Date();\n  }\n\n  const force = true;\n\n  if (typeof root._bokeh_onload_callbacks === \"undefined\" || force === true) {\n    root._bokeh_onload_callbacks = [];\n    root._bokeh_is_loading = undefined;\n  }\n\n  \n\n  \n  if (typeof (root._bokeh_timeout) === \"undefined\" || force === true) {\n    root._bokeh_timeout = Date.now() + 5000;\n    root._bokeh_failed_load = false;\n  }\n\n  const NB_LOAD_WARNING = {'data': {'text/html':\n     \"<div style='background-color: #fdd'>\\n\"+\n     \"<p>\\n\"+\n     \"BokehJS does not appear to have successfully loaded. If loading BokehJS from CDN, this \\n\"+\n     \"may be due to a slow or bad network connection. Possible fixes:\\n\"+\n     \"</p>\\n\"+\n     \"<ul>\\n\"+\n     \"<li>re-rerun `output_notebook()` to attempt to load from CDN again, or</li>\\n\"+\n     \"<li>use INLINE resources instead, as so:</li>\\n\"+\n     \"</ul>\\n\"+\n     \"<code>\\n\"+\n     \"from bokeh.resources import INLINE\\n\"+\n     \"output_notebook(resources=INLINE)\\n\"+\n     \"</code>\\n\"+\n     \"</div>\"}};\n\n  function display_loaded() {\n    const el = document.getElementById(\"1002\");\n    if (el != null) {\n      el.textContent = \"BokehJS is loading...\";\n    }\n    if (root.Bokeh !== undefined) {\n      if (el != null) {\n        el.textContent = \"BokehJS \" + root.Bokeh.version + \" successfully loaded.\";\n      }\n    } else if (Date.now() < root._bokeh_timeout) {\n      setTimeout(display_loaded, 100)\n    }\n  }\n\n\n  function run_callbacks() {\n    try {\n      root._bokeh_onload_callbacks.forEach(function(callback) {\n        if (callback != null)\n          callback();\n      });\n    } finally {\n      delete root._bokeh_onload_callbacks\n    }\n    console.debug(\"Bokeh: all callbacks have finished\");\n  }\n\n  function load_libs(css_urls, js_urls, callback) {\n    if (css_urls == null) css_urls = [];\n    if (js_urls == null) js_urls = [];\n\n    root._bokeh_onload_callbacks.push(callback);\n    if (root._bokeh_is_loading > 0) {\n      console.debug(\"Bokeh: BokehJS is being loaded, scheduling callback at\", now());\n      return null;\n    }\n    if (js_urls == null || js_urls.length === 0) {\n      run_callbacks();\n      return null;\n    }\n    console.debug(\"Bokeh: BokehJS not loaded, scheduling load and callback at\", now());\n    root._bokeh_is_loading = css_urls.length + js_urls.length;\n\n    function on_load() {\n      root._bokeh_is_loading--;\n      if (root._bokeh_is_loading === 0) {\n        console.debug(\"Bokeh: all BokehJS libraries/stylesheets loaded\");\n        run_callbacks()\n      }\n    }\n\n    function on_error(url) {\n      console.error(\"failed to load \" + url);\n    }\n\n    for (let i = 0; i < css_urls.length; i++) {\n      const url = css_urls[i];\n      const element = document.createElement(\"link\");\n      element.onload = on_load;\n      element.onerror = on_error.bind(null, url);\n      element.rel = \"stylesheet\";\n      element.type = \"text/css\";\n      element.href = url;\n      console.debug(\"Bokeh: injecting link tag for BokehJS stylesheet: \", url);\n      document.body.appendChild(element);\n    }\n\n    for (let i = 0; i < js_urls.length; i++) {\n      const url = js_urls[i];\n      const element = document.createElement('script');\n      element.onload = on_load;\n      element.onerror = on_error.bind(null, url);\n      element.async = false;\n      element.src = url;\n      console.debug(\"Bokeh: injecting script tag for BokehJS library: \", url);\n      document.head.appendChild(element);\n    }\n  };\n\n  function inject_raw_css(css) {\n    const element = document.createElement(\"style\");\n    element.appendChild(document.createTextNode(css));\n    document.body.appendChild(element);\n  }\n\n  \n  const js_urls = [\"https://cdn.bokeh.org/bokeh/release/bokeh-2.4.2.min.js\", \"https://cdn.bokeh.org/bokeh/release/bokeh-gl-2.4.2.min.js\", \"https://cdn.bokeh.org/bokeh/release/bokeh-widgets-2.4.2.min.js\", \"https://cdn.bokeh.org/bokeh/release/bokeh-tables-2.4.2.min.js\", \"https://cdn.bokeh.org/bokeh/release/bokeh-mathjax-2.4.2.min.js\"];\n  const css_urls = [];\n  \n\n  const inline_js = [\n    function(Bokeh) {\n      Bokeh.set_log_level(\"info\");\n    },\n    function(Bokeh) {\n    \n    \n    }\n  ];\n\n  function run_inline_js() {\n    \n    if (root.Bokeh !== undefined || force === true) {\n      \n    for (let i = 0; i < inline_js.length; i++) {\n      inline_js[i].call(root, root.Bokeh);\n    }\n    if (force === true) {\n        display_loaded();\n      }} else if (Date.now() < root._bokeh_timeout) {\n      setTimeout(run_inline_js, 100);\n    } else if (!root._bokeh_failed_load) {\n      console.log(\"Bokeh: BokehJS failed to load within specified timeout.\");\n      root._bokeh_failed_load = true;\n    } else if (force !== true) {\n      const cell = $(document.getElementById(\"1002\")).parents('.cell').data().cell;\n      cell.output_area.append_execute_result(NB_LOAD_WARNING)\n    }\n\n  }\n\n  if (root._bokeh_is_loading === 0) {\n    console.debug(\"Bokeh: BokehJS loaded, going straight to plotting\");\n    run_inline_js();\n  } else {\n    load_libs(css_urls, js_urls, function() {\n      console.debug(\"Bokeh: BokehJS plotting callback run at\", now());\n      run_inline_js();\n    });\n  }\n}(window));"
     },
     "metadata": {},
     "output_type": "display_data"
    }
   ],
   "source": [
    "import time\n",
    "import sys\n",
    "import numpy as np\n",
    "import pandas as pd\n",
    "from collections import Counter\n",
    "import matplotlib.pyplot as plt\n",
    "from matplotlib import rcParams\n",
    "import seaborn as sb\n",
    "from bokeh.plotting import figure, show, output_file\n",
    "from bokeh.io import output_notebook\n",
    "\n",
    "np.random.seed(1)\n",
    "%matplotlib inline\n",
    "sb.set_theme()\n",
    "output_notebook()\n",
    "\n",
    "import warnings\n",
    "warnings.simplefilter(\"ignore\")"
   ]
  },
  {
   "cell_type": "markdown",
   "id": "c1401793",
   "metadata": {},
   "source": [
    "### Importing the Dataset"
   ]
  },
  {
   "cell_type": "code",
   "execution_count": 2,
   "id": "2c73056a",
   "metadata": {},
   "outputs": [],
   "source": [
    "data = pd.read_csv(\"../Data/clean_text.csv\")\n",
    "df = data.copy()\n",
    "df = data.sample(frac=1).reset_index(drop=True)"
   ]
  },
  {
   "cell_type": "markdown",
   "id": "e3a8ddbb",
   "metadata": {},
   "source": [
    "### Exploring the Data"
   ]
  },
  {
   "cell_type": "code",
   "execution_count": 3,
   "id": "219d70d7",
   "metadata": {},
   "outputs": [
    {
     "data": {
      "text/html": [
       "<div>\n",
       "<style scoped>\n",
       "    .dataframe tbody tr th:only-of-type {\n",
       "        vertical-align: middle;\n",
       "    }\n",
       "\n",
       "    .dataframe tbody tr th {\n",
       "        vertical-align: top;\n",
       "    }\n",
       "\n",
       "    .dataframe thead th {\n",
       "        text-align: right;\n",
       "    }\n",
       "</style>\n",
       "<table border=\"1\" class=\"dataframe\">\n",
       "  <thead>\n",
       "    <tr style=\"text-align: right;\">\n",
       "      <th></th>\n",
       "      <th>id</th>\n",
       "      <th>dialect</th>\n",
       "      <th>text</th>\n",
       "    </tr>\n",
       "  </thead>\n",
       "  <tbody>\n",
       "    <tr>\n",
       "      <th>0</th>\n",
       "      <td>1137076371669311616</td>\n",
       "      <td>OM</td>\n",
       "      <td>يالله محصلين حد يرد عليهم خلوا حد يقول رأيه لا...</td>\n",
       "    </tr>\n",
       "    <tr>\n",
       "      <th>1</th>\n",
       "      <td>1163759504154083328</td>\n",
       "      <td>LB</td>\n",
       "      <td>صحيح غالي وهو متوفر فترة محلات السوبرماركت الك...</td>\n",
       "    </tr>\n",
       "    <tr>\n",
       "      <th>2</th>\n",
       "      <td>1176996529388883968</td>\n",
       "      <td>PL</td>\n",
       "      <td>عالم تعبانة صاحبي</td>\n",
       "    </tr>\n",
       "    <tr>\n",
       "      <th>3</th>\n",
       "      <td>1171858945000054784</td>\n",
       "      <td>JO</td>\n",
       "      <td>طيب بلكي بدهم اياه منصب آخر</td>\n",
       "    </tr>\n",
       "    <tr>\n",
       "      <th>4</th>\n",
       "      <td>1079860536605585408</td>\n",
       "      <td>LB</td>\n",
       "      <td>ينعاد عليك رفيق جاد سنة خير عليك انشالله</td>\n",
       "    </tr>\n",
       "  </tbody>\n",
       "</table>\n",
       "</div>"
      ],
      "text/plain": [
       "                    id dialect  \\\n",
       "0  1137076371669311616      OM   \n",
       "1  1163759504154083328      LB   \n",
       "2  1176996529388883968      PL   \n",
       "3  1171858945000054784      JO   \n",
       "4  1079860536605585408      LB   \n",
       "\n",
       "                                                text  \n",
       "0  يالله محصلين حد يرد عليهم خلوا حد يقول رأيه لا...  \n",
       "1  صحيح غالي وهو متوفر فترة محلات السوبرماركت الك...  \n",
       "2                                  عالم تعبانة صاحبي  \n",
       "3                        طيب بلكي بدهم اياه منصب آخر  \n",
       "4           ينعاد عليك رفيق جاد سنة خير عليك انشالله  "
      ]
     },
     "execution_count": 3,
     "metadata": {},
     "output_type": "execute_result"
    }
   ],
   "source": [
    "df.head()"
   ]
  },
  {
   "cell_type": "code",
   "execution_count": 4,
   "id": "c92a2a8b",
   "metadata": {},
   "outputs": [
    {
     "data": {
      "text/plain": [
       "(458197, 3)"
      ]
     },
     "execution_count": 4,
     "metadata": {},
     "output_type": "execute_result"
    }
   ],
   "source": [
    "df.shape"
   ]
  },
  {
   "cell_type": "code",
   "execution_count": 5,
   "id": "2044ab2b",
   "metadata": {},
   "outputs": [
    {
     "name": "stdout",
     "output_type": "stream",
     "text": [
      "<class 'pandas.core.frame.DataFrame'>\n",
      "RangeIndex: 458197 entries, 0 to 458196\n",
      "Data columns (total 3 columns):\n",
      " #   Column   Non-Null Count   Dtype \n",
      "---  ------   --------------   ----- \n",
      " 0   id       458197 non-null  int64 \n",
      " 1   dialect  458197 non-null  object\n",
      " 2   text     458197 non-null  object\n",
      "dtypes: int64(1), object(2)\n",
      "memory usage: 10.5+ MB\n"
     ]
    }
   ],
   "source": [
    "df.info()"
   ]
  },
  {
   "cell_type": "code",
   "execution_count": 6,
   "id": "00ebca76",
   "metadata": {},
   "outputs": [
    {
     "data": {
      "text/plain": [
       "0"
      ]
     },
     "execution_count": 6,
     "metadata": {},
     "output_type": "execute_result"
    }
   ],
   "source": [
    "df.duplicated().sum()"
   ]
  },
  {
   "cell_type": "code",
   "execution_count": 7,
   "id": "dfc36d6d",
   "metadata": {},
   "outputs": [
    {
     "data": {
      "text/plain": [
       "id         458197\n",
       "dialect        18\n",
       "text       457684\n",
       "dtype: int64"
      ]
     },
     "execution_count": 7,
     "metadata": {},
     "output_type": "execute_result"
    }
   ],
   "source": [
    "df.nunique()"
   ]
  },
  {
   "cell_type": "code",
   "execution_count": 8,
   "id": "b18a187a",
   "metadata": {},
   "outputs": [
    {
     "data": {
      "text/plain": [
       "array(['OM', 'LB', 'PL', 'JO', 'KW', 'LY', 'AE', 'EG', 'SA', 'QA', 'MA',\n",
       "       'BH', 'DZ', 'YE', 'SY', 'IQ', 'TN', 'SD'], dtype=object)"
      ]
     },
     "execution_count": 8,
     "metadata": {},
     "output_type": "execute_result"
    }
   ],
   "source": [
    "df['dialect'].unique()"
   ]
  },
  {
   "cell_type": "code",
   "execution_count": 9,
   "id": "50b95e48",
   "metadata": {},
   "outputs": [
    {
     "data": {
      "image/png": "[encoded data removed]",
      "text/plain": [
       "<Figure size 1080x576 with 1 Axes>"
      ]
     },
     "metadata": {},
     "output_type": "display_data"
    }
   ],
   "source": [
    "font_size1 = 16\n",
    "font_size2 = 12\n",
    "\n",
    "# Setting up figure sizes\n",
    "rcParams['figure.figsize'] = 15,6\n",
    "colors=['#4c72b0','#d44e52']\n",
    "\n",
    "# sb.countplot(df['dialect']);\n",
    "df['dialect'].value_counts().plot(kind='barh', figsize=(15,8), color=['b','r']);\n",
    "plt.title('Dialects', fontsize=font_size1);\n",
    "\n",
    "plt.yticks(fontsize= font_size2+2);\n",
    "plt.ylabel('');\n",
    "\n",
    "Sum = df['dialect'].value_counts().sum()\n",
    "for num, value in enumerate(df['dialect'].value_counts()):\n",
    "    plt.text(value+400,num,str(np.round(value/Sum*100, decimals = 1))+'%', fontweight='bold',va='center');"
   ]
  },
  {
   "cell_type": "markdown",
   "id": "8854a521",
   "metadata": {},
   "source": [
    "---"
   ]
  },
  {
   "cell_type": "markdown",
   "id": "29f952d3",
   "metadata": {},
   "source": [
    "### Pre-paring the Data for the Model"
   ]
  },
  {
   "cell_type": "code",
   "execution_count": 11,
   "id": "7b2c1ba1",
   "metadata": {},
   "outputs": [
    {
     "data": {
      "text/html": [
       "<div>\n",
       "<style scoped>\n",
       "    .dataframe tbody tr th:only-of-type {\n",
       "        vertical-align: middle;\n",
       "    }\n",
       "\n",
       "    .dataframe tbody tr th {\n",
       "        vertical-align: top;\n",
       "    }\n",
       "\n",
       "    .dataframe thead th {\n",
       "        text-align: right;\n",
       "    }\n",
       "</style>\n",
       "<table border=\"1\" class=\"dataframe\">\n",
       "  <thead>\n",
       "    <tr style=\"text-align: right;\">\n",
       "      <th></th>\n",
       "      <th>id</th>\n",
       "      <th>dialect</th>\n",
       "      <th>text</th>\n",
       "    </tr>\n",
       "  </thead>\n",
       "  <tbody>\n",
       "    <tr>\n",
       "      <th>0</th>\n",
       "      <td>1137076371669311616</td>\n",
       "      <td>OM</td>\n",
       "      <td>يالله محصلين حد يرد عليهم خلوا حد يقول رأيه لا...</td>\n",
       "    </tr>\n",
       "    <tr>\n",
       "      <th>1</th>\n",
       "      <td>1163759504154083328</td>\n",
       "      <td>LB</td>\n",
       "      <td>صحيح غالي وهو متوفر فترة محلات السوبرماركت الك...</td>\n",
       "    </tr>\n",
       "    <tr>\n",
       "      <th>2</th>\n",
       "      <td>1176996529388883968</td>\n",
       "      <td>PL</td>\n",
       "      <td>عالم تعبانة صاحبي</td>\n",
       "    </tr>\n",
       "    <tr>\n",
       "      <th>3</th>\n",
       "      <td>1171858945000054784</td>\n",
       "      <td>JO</td>\n",
       "      <td>طيب بلكي بدهم اياه منصب آخر</td>\n",
       "    </tr>\n",
       "    <tr>\n",
       "      <th>4</th>\n",
       "      <td>1079860536605585408</td>\n",
       "      <td>LB</td>\n",
       "      <td>ينعاد عليك رفيق جاد سنة خير عليك انشالله</td>\n",
       "    </tr>\n",
       "  </tbody>\n",
       "</table>\n",
       "</div>"
      ],
      "text/plain": [
       "                    id dialect  \\\n",
       "0  1137076371669311616      OM   \n",
       "1  1163759504154083328      LB   \n",
       "2  1176996529388883968      PL   \n",
       "3  1171858945000054784      JO   \n",
       "4  1079860536605585408      LB   \n",
       "\n",
       "                                                text  \n",
       "0  يالله محصلين حد يرد عليهم خلوا حد يقول رأيه لا...  \n",
       "1  صحيح غالي وهو متوفر فترة محلات السوبرماركت الك...  \n",
       "2                                  عالم تعبانة صاحبي  \n",
       "3                        طيب بلكي بدهم اياه منصب آخر  \n",
       "4           ينعاد عليك رفيق جاد سنة خير عليك انشالله  "
      ]
     },
     "execution_count": 11,
     "metadata": {},
     "output_type": "execute_result"
    }
   ],
   "source": [
    "df.head()"
   ]
  },
  {
   "cell_type": "code",
   "execution_count": 12,
   "id": "b11341d4",
   "metadata": {},
   "outputs": [],
   "source": [
    "df = df.join(pd.get_dummies(df['dialect']))"
   ]
  },
  {
   "cell_type": "code",
   "execution_count": 13,
   "id": "5d7ac4da",
   "metadata": {},
   "outputs": [
    {
     "data": {
      "text/html": [
       "<div>\n",
       "<style scoped>\n",
       "    .dataframe tbody tr th:only-of-type {\n",
       "        vertical-align: middle;\n",
       "    }\n",
       "\n",
       "    .dataframe tbody tr th {\n",
       "        vertical-align: top;\n",
       "    }\n",
       "\n",
       "    .dataframe thead th {\n",
       "        text-align: right;\n",
       "    }\n",
       "</style>\n",
       "<table border=\"1\" class=\"dataframe\">\n",
       "  <thead>\n",
       "    <tr style=\"text-align: right;\">\n",
       "      <th></th>\n",
       "      <th>id</th>\n",
       "      <th>dialect</th>\n",
       "      <th>text</th>\n",
       "      <th>AE</th>\n",
       "      <th>BH</th>\n",
       "      <th>DZ</th>\n",
       "      <th>EG</th>\n",
       "      <th>IQ</th>\n",
       "      <th>JO</th>\n",
       "      <th>KW</th>\n",
       "      <th>...</th>\n",
       "      <th>LY</th>\n",
       "      <th>MA</th>\n",
       "      <th>OM</th>\n",
       "      <th>PL</th>\n",
       "      <th>QA</th>\n",
       "      <th>SA</th>\n",
       "      <th>SD</th>\n",
       "      <th>SY</th>\n",
       "      <th>TN</th>\n",
       "      <th>YE</th>\n",
       "    </tr>\n",
       "  </thead>\n",
       "  <tbody>\n",
       "    <tr>\n",
       "      <th>0</th>\n",
       "      <td>1137076371669311616</td>\n",
       "      <td>OM</td>\n",
       "      <td>يالله محصلين حد يرد عليهم خلوا حد يقول رأيه لا...</td>\n",
       "      <td>0</td>\n",
       "      <td>0</td>\n",
       "      <td>0</td>\n",
       "      <td>0</td>\n",
       "      <td>0</td>\n",
       "      <td>0</td>\n",
       "      <td>0</td>\n",
       "      <td>...</td>\n",
       "      <td>0</td>\n",
       "      <td>0</td>\n",
       "      <td>1</td>\n",
       "      <td>0</td>\n",
       "      <td>0</td>\n",
       "      <td>0</td>\n",
       "      <td>0</td>\n",
       "      <td>0</td>\n",
       "      <td>0</td>\n",
       "      <td>0</td>\n",
       "    </tr>\n",
       "    <tr>\n",
       "      <th>1</th>\n",
       "      <td>1163759504154083328</td>\n",
       "      <td>LB</td>\n",
       "      <td>صحيح غالي وهو متوفر فترة محلات السوبرماركت الك...</td>\n",
       "      <td>0</td>\n",
       "      <td>0</td>\n",
       "      <td>0</td>\n",
       "      <td>0</td>\n",
       "      <td>0</td>\n",
       "      <td>0</td>\n",
       "      <td>0</td>\n",
       "      <td>...</td>\n",
       "      <td>0</td>\n",
       "      <td>0</td>\n",
       "      <td>0</td>\n",
       "      <td>0</td>\n",
       "      <td>0</td>\n",
       "      <td>0</td>\n",
       "      <td>0</td>\n",
       "      <td>0</td>\n",
       "      <td>0</td>\n",
       "      <td>0</td>\n",
       "    </tr>\n",
       "    <tr>\n",
       "      <th>2</th>\n",
       "      <td>1176996529388883968</td>\n",
       "      <td>PL</td>\n",
       "      <td>عالم تعبانة صاحبي</td>\n",
       "      <td>0</td>\n",
       "      <td>0</td>\n",
       "      <td>0</td>\n",
       "      <td>0</td>\n",
       "      <td>0</td>\n",
       "      <td>0</td>\n",
       "      <td>0</td>\n",
       "      <td>...</td>\n",
       "      <td>0</td>\n",
       "      <td>0</td>\n",
       "      <td>0</td>\n",
       "      <td>1</td>\n",
       "      <td>0</td>\n",
       "      <td>0</td>\n",
       "      <td>0</td>\n",
       "      <td>0</td>\n",
       "      <td>0</td>\n",
       "      <td>0</td>\n",
       "    </tr>\n",
       "    <tr>\n",
       "      <th>3</th>\n",
       "      <td>1171858945000054784</td>\n",
       "      <td>JO</td>\n",
       "      <td>طيب بلكي بدهم اياه منصب آخر</td>\n",
       "      <td>0</td>\n",
       "      <td>0</td>\n",
       "      <td>0</td>\n",
       "      <td>0</td>\n",
       "      <td>0</td>\n",
       "      <td>1</td>\n",
       "      <td>0</td>\n",
       "      <td>...</td>\n",
       "      <td>0</td>\n",
       "      <td>0</td>\n",
       "      <td>0</td>\n",
       "      <td>0</td>\n",
       "      <td>0</td>\n",
       "      <td>0</td>\n",
       "      <td>0</td>\n",
       "      <td>0</td>\n",
       "      <td>0</td>\n",
       "      <td>0</td>\n",
       "    </tr>\n",
       "    <tr>\n",
       "      <th>4</th>\n",
       "      <td>1079860536605585408</td>\n",
       "      <td>LB</td>\n",
       "      <td>ينعاد عليك رفيق جاد سنة خير عليك انشالله</td>\n",
       "      <td>0</td>\n",
       "      <td>0</td>\n",
       "      <td>0</td>\n",
       "      <td>0</td>\n",
       "      <td>0</td>\n",
       "      <td>0</td>\n",
       "      <td>0</td>\n",
       "      <td>...</td>\n",
       "      <td>0</td>\n",
       "      <td>0</td>\n",
       "      <td>0</td>\n",
       "      <td>0</td>\n",
       "      <td>0</td>\n",
       "      <td>0</td>\n",
       "      <td>0</td>\n",
       "      <td>0</td>\n",
       "      <td>0</td>\n",
       "      <td>0</td>\n",
       "    </tr>\n",
       "  </tbody>\n",
       "</table>\n",
       "<p>5 rows × 21 columns</p>\n",
       "</div>"
      ],
      "text/plain": [
       "                    id dialect  \\\n",
       "0  1137076371669311616      OM   \n",
       "1  1163759504154083328      LB   \n",
       "2  1176996529388883968      PL   \n",
       "3  1171858945000054784      JO   \n",
       "4  1079860536605585408      LB   \n",
       "\n",
       "                                                text  AE  BH  DZ  EG  IQ  JO  \\\n",
       "0  يالله محصلين حد يرد عليهم خلوا حد يقول رأيه لا...   0   0   0   0   0   0   \n",
       "1  صحيح غالي وهو متوفر فترة محلات السوبرماركت الك...   0   0   0   0   0   0   \n",
       "2                                  عالم تعبانة صاحبي   0   0   0   0   0   0   \n",
       "3                        طيب بلكي بدهم اياه منصب آخر   0   0   0   0   0   1   \n",
       "4           ينعاد عليك رفيق جاد سنة خير عليك انشالله   0   0   0   0   0   0   \n",
       "\n",
       "   KW  ...  LY  MA  OM  PL  QA  SA  SD  SY  TN  YE  \n",
       "0   0  ...   0   0   1   0   0   0   0   0   0   0  \n",
       "1   0  ...   0   0   0   0   0   0   0   0   0   0  \n",
       "2   0  ...   0   0   0   1   0   0   0   0   0   0  \n",
       "3   0  ...   0   0   0   0   0   0   0   0   0   0  \n",
       "4   0  ...   0   0   0   0   0   0   0   0   0   0  \n",
       "\n",
       "[5 rows x 21 columns]"
      ]
     },
     "execution_count": 13,
     "metadata": {},
     "output_type": "execute_result"
    }
   ],
   "source": [
    "df.head()"
   ]
  },
  {
   "cell_type": "code",
   "execution_count": 14,
   "id": "1d3bdf97",
   "metadata": {},
   "outputs": [
    {
     "name": "stdout",
     "output_type": "stream",
     "text": [
      "<class 'pandas.core.frame.DataFrame'>\n",
      "RangeIndex: 458197 entries, 0 to 458196\n",
      "Data columns (total 21 columns):\n",
      " #   Column   Non-Null Count   Dtype \n",
      "---  ------   --------------   ----- \n",
      " 0   id       458197 non-null  int64 \n",
      " 1   dialect  458197 non-null  object\n",
      " 2   text     458197 non-null  object\n",
      " 3   AE       458197 non-null  uint8 \n",
      " 4   BH       458197 non-null  uint8 \n",
      " 5   DZ       458197 non-null  uint8 \n",
      " 6   EG       458197 non-null  uint8 \n",
      " 7   IQ       458197 non-null  uint8 \n",
      " 8   JO       458197 non-null  uint8 \n",
      " 9   KW       458197 non-null  uint8 \n",
      " 10  LB       458197 non-null  uint8 \n",
      " 11  LY       458197 non-null  uint8 \n",
      " 12  MA       458197 non-null  uint8 \n",
      " 13  OM       458197 non-null  uint8 \n",
      " 14  PL       458197 non-null  uint8 \n",
      " 15  QA       458197 non-null  uint8 \n",
      " 16  SA       458197 non-null  uint8 \n",
      " 17  SD       458197 non-null  uint8 \n",
      " 18  SY       458197 non-null  uint8 \n",
      " 19  TN       458197 non-null  uint8 \n",
      " 20  YE       458197 non-null  uint8 \n",
      "dtypes: int64(1), object(2), uint8(18)\n",
      "memory usage: 18.4+ MB\n"
     ]
    }
   ],
   "source": [
    "df.info()"
   ]
  },
  {
   "cell_type": "code",
   "execution_count": 15,
   "id": "1d00b198",
   "metadata": {},
   "outputs": [],
   "source": [
    "def count_words(data, dialect):\n",
    "    total_words_counts = Counter()\n",
    "    dialect_words = Counter()\n",
    "\n",
    "    for num, text in enumerate(data['text']):\n",
    "        if data['dialect'][num] == dialect:\n",
    "            for word in text.split(\" \"):\n",
    "                dialect_words[word] += 1\n",
    "                total_words_counts[word] += 1\n",
    "\n",
    "    return dialect_words, total_words_counts"
   ]
  },
  {
   "cell_type": "code",
   "execution_count": 16,
   "id": "d5ce7253",
   "metadata": {},
   "outputs": [],
   "source": [
    "def calculate_ratio(count_of_dialect_words, total_words_counts):\n",
    "    dialect_ratios = Counter()\n",
    "\n",
    "    for term, count in list(total_words_counts.most_common()):\n",
    "        ratio = count_of_dialect_words[term] / total_words_counts[term]+1 # Avoiding Zero Division\n",
    "        dialect_ratios[term] = ratio\n",
    "    return dialect_ratios"
   ]
  },
  {
   "cell_type": "code",
   "execution_count": 17,
   "id": "cd3cc80e",
   "metadata": {},
   "outputs": [],
   "source": [
    "def log_of_ratios(cutoff, ratios_of_dialect_words):\n",
    "    dialect_logs = Counter()\n",
    "\n",
    "    for term, ratio in list(ratios_of_dialect_words.most_common()):\n",
    "        if ratio > cutoff:\n",
    "            dialect_logs[term] = np.log(ratio)\n",
    "    return dialect_logs"
   ]
  },
  {
   "cell_type": "code",
   "execution_count": 18,
   "id": "f537b268",
   "metadata": {},
   "outputs": [],
   "source": [
    "def unique_terms(data, logs_of_dialect_words):\n",
    "    # Making a list of unique terms\n",
    "    high_weight_terms = set()\n",
    "    for dialect in data['dialect'].unique():\n",
    "        for term in logs_of_dialect_words[dialect].keys():\n",
    "            high_weight_terms.add(term)\n",
    "\n",
    "    high_weight_terms = list(high_weight_terms)\n",
    "    return high_weight_terms"
   ]
  },
  {
   "cell_type": "code",
   "execution_count": 19,
   "id": "979f17e3",
   "metadata": {},
   "outputs": [],
   "source": [
    "def term_to_index(data, logs_of_dialect_words):\n",
    "\n",
    "    # Unique Terms List\n",
    "    terms_list = unique_terms(data, logs_of_dialect_words)\n",
    "    # Unique Targets List\n",
    "    targets_uniq = list(data['dialect'].unique())\n",
    "\n",
    "    # Unique Lists Sizes\n",
    "    text_terms_size = len(terms_list)\n",
    "    targets_uniq_size = len(targets_uniq)\n",
    "\n",
    "    # Converting Terms to Indicies\n",
    "    terms_indicies = Counter()\n",
    "    for index, term in enumerate(terms_list):\n",
    "        terms_indicies[term] = index\n",
    "\n",
    "    # Converting Targets to Indicies\n",
    "    targets_indicies = Counter()\n",
    "    for index, target in enumerate(targets_uniq):\n",
    "        targets_indicies[target] = index\n",
    "\n",
    "    # Specifying Input Layer Size\n",
    "    input_nodes = len(terms_list)\n",
    "    print('Input Shape: {}'.format(input_nodes))\n",
    "\n",
    "    return input_nodes, terms_indicies\n"
   ]
  },
  {
   "cell_type": "code",
   "execution_count": 20,
   "id": "f1a8185c",
   "metadata": {},
   "outputs": [],
   "source": [
    "def pre_process(data, cutoff=1.2):\n",
    "    # Pre-processing Text Data\n",
    "    print(\"### Pre-processing Text Data...\")\n",
    "    count_of_dialect_words = Counter()\n",
    "    ratios_of_dialect_words = Counter()\n",
    "    logs_of_dialect_words = Counter()\n",
    "    #--------------------------------------------------------------------------------------#\n",
    "    # Calculating Counts\n",
    "    for dialect in data['dialect'].unique():\n",
    "        count_of_dialect_words[dialect], total_words_counts = count_words(data, dialect)\n",
    "\n",
    "    #--------------------------------------------------------------------------------------#\n",
    "    # Calculating Ratios\n",
    "    for dialect in data['dialect'].unique():\n",
    "        ratios_of_dialect_words[dialect] = calculate_ratio(count_of_dialect_words[dialect], count_of_dialect_words[dialect])\n",
    "\n",
    "    #--------------------------------------------------------------------------------------#\n",
    "    # Calculating Logs\n",
    "    for dialect in data['dialect'].unique():\n",
    "        logs_of_dialect_words[dialect] = log_of_ratios(cutoff, ratios_of_dialect_words[dialect])\n",
    "\n",
    "    #--------------------------------------------------------------------------------------#\n",
    "    # Converting Terms and Targets to Indiceis\n",
    "    input_nodes, terms_indicies = term_to_index(data, logs_of_dialect_words)\n",
    "    #--------------------------------------------------------------------------------------#    \n",
    "    return input_nodes, terms_indicies, logs_of_dialect_words\n"
   ]
  },
  {
   "cell_type": "code",
   "execution_count": 28,
   "id": "57cbd096",
   "metadata": {},
   "outputs": [
    {
     "name": "stdout",
     "output_type": "stream",
     "text": [
      "### Pre-processing Text Data...\n",
      "Input Shape: 503490\n"
     ]
    }
   ],
   "source": [
    "input_nodes, terms_indicies, logs_of_dialect_words = pre_process(df, cutoff=1.4)"
   ]
  },
  {
   "cell_type": "code",
   "execution_count": 31,
   "id": "6d5d9018",
   "metadata": {},
   "outputs": [
    {
     "data": {
      "text/plain": [
       "[('ده', 0.6931471805599453),\n",
       " ('فى', 0.6931471805599453),\n",
       " ('ايه', 0.6931471805599453),\n",
       " ('هو', 0.6931471805599453),\n",
       " ('دي', 0.6931471805599453),\n",
       " ('علي', 0.6931471805599453),\n",
       " ('لو', 0.6931471805599453),\n",
       " ('اللى', 0.6931471805599453),\n",
       " ('ان', 0.6931471805599453),\n",
       " ('مصر', 0.6931471805599453)]"
      ]
     },
     "execution_count": 31,
     "metadata": {},
     "output_type": "execute_result"
    }
   ],
   "source": [
    "logs_of_dialect_words['EG'].most_common(10)"
   ]
  },
  {
   "cell_type": "markdown",
   "id": "2b8df825",
   "metadata": {},
   "source": [
    "#### Visualizing the Logs"
   ]
  },
  {
   "cell_type": "code",
   "execution_count": 29,
   "id": "5e8deb7e",
   "metadata": {
    "scrolled": true
   },
   "outputs": [
    {
     "data": {
      "text/html": [
       "\n",
       "\n",
       "\n",
       "\n",
       "\n",
       "\n",
       "  <div class=\"bk-root\" id=\"421b7557-40d3-4f53-9fe7-28f6e9187288\" data-root-id=\"3964\"></div>\n"
      ]
     },
     "metadata": {},
     "output_type": "display_data"
    },
    {
     "data": {
      "application/javascript": [
       "(function(root) {\n",
       "  function embed_document(root) {\n",
       "    \n",
       "  const docs_json = {\"890c2ceb-6675-44cd-821a-7ab19ba10009\":{\"defs\":[],\"roots\":{\"references\":[{\"attributes\":{\"below\":[{\"id\":\"3975\"}],\"center\":[{\"id\":\"3978\"},{\"id\":\"3982\"}],\"left\":[{\"id\":\"3979\"}],\"renderers\":[{\"id\":\"3996\"}],\"title\":{\"id\":\"3965\"},\"toolbar\":{\"id\":\"3987\"},\"toolbar_location\":\"above\",\"x_range\":{\"id\":\"3967\"},\"x_scale\":{\"id\":\"3971\"},\"y_range\":{\"id\":\"3969\"},\"y_scale\":{\"id\":\"3973\"}},\"id\":\"3964\",\"subtype\":\"Figure\",\"type\":\"Plot\"},{\"attributes\":{\"coordinates\":null,\"formatter\":{\"id\":\"4162\"},\"group\":null,\"major_label_policy\":{\"id\":\"4163\"},\"ticker\":{\"id\":\"3980\"}},\"id\":\"3979\",\"type\":\"LinearAxis\"},{\"attributes\":{\"axis\":{\"id\":\"3975\"},\"coordinates\":null,\"group\":null,\"ticker\":null},\"id\":\"3978\",\"type\":\"Grid\"},{\"attributes\":{\"axis\":{\"id\":\"3979\"},\"coordinates\":null,\"dimension\":1,\"group\":null,\"ticker\":null},\"id\":\"3982\",\"type\":\"Grid\"},{\"attributes\":{\"data\":{\"left\":{\"__ndarray__\":\"vOfo+wu5yD8EyWMQugDKP0uq3iRoSMs/k4tZORaQzD/bbNRNxNfNPyJOT2JyH88/tRdlO5Az0D9ZiKJFZ9fQP/34308+e9E/oGkdWhUf0j9E2lpk7MLSP+hKmG7DZtM/jLvVeJoK1D8wLBODca7UP9ScUI1IUtU/eA2Olx/21T8cfsuh9pnWP8DuCKzNPdc/Y19GtqTh1z8H0IPAe4XYP6tAwcpSKdk/TrH+1CnN2T/yITzfAHHaP5aSeenXFNs/OgO386642z/ec/T9hVzcP4LkMQhdAN0/JlVvEjSk3T/KxawcC0jeP2026ibi694/EacnMbmP3z/ai7IdyBngPyxE0aKza+A/fvzvJ5+94D/QtA6tig/hPyJtLTJ2YeE/dCVMt2Gz4T/G3Wo8TQXiPxiWicE4V+I/ak6oRiSp4j+8BsfLD/viPw6/5VD7TOM/YHcE1uae4z+yLyNb0vDjPwToQeC9QuQ/VqBgZamU5D+oWH/qlObkP/oQnm+AOOU/S8m89GuK5T+dgdt5V9zlP+85+v5CLuY/QfIYhC6A5j+TqjcJGtLmP+ViVo4FJOc/Nxt1E/F15z+J05OY3MfnP9uLsh3IGeg/LUTRorNr6D9+/O8nn73oP9C0Dq2KD+k/Im0tMnZh6T90JUy3YbPpP8bdajxNBeo/GJaJwThX6j9qTqhGJKnqP7wGx8sP++o/Dr/lUPtM6z9gdwTW5p7rP7IvI1vS8Os/BOhB4L1C7D9WoGBlqZTsP6dYf+qU5uw/+RCeb4A47T9Lybz0a4rtP52B23lX3O0/7zn6/kIu7j9B8hiELoDuP5OqNwka0u4/5WJWjgUk7z83G3UT8XXvP4nTk5jcx+8/7kXZDuQM8D8WomjR2TXwP0D+95PPXvA/aFqHVsWH8D+RthYZu7DwP7oSptuw2fA/4241nqYC8T8My8RgnCvxPzUnVCOSVPE/XoPj5Yd98T+H33KofabxP7A7Amtzz/E/2ZeRLWn48T8C9CDwXiHyPytQsLJUSvI/VKw/dUpz8j98CM83QJzyP6ZkXvo1xfI/zsDtvCvu8j8=\",\"dtype\":\"float64\",\"order\":\"little\",\"shape\":[100]},\"right\":{\"__ndarray__\":\"BMljELoAyj9Lqt4kaEjLP5OLWTkWkMw/22zUTcTXzT8iTk9ich/PP7UXZTuQM9A/WYiiRWfX0D/9+N9PPnvRP6BpHVoVH9I/RNpaZOzC0j/oSphuw2bTP4y71XiaCtQ/MCwTg3Gu1D/UnFCNSFLVP3gNjpcf9tU/HH7LofaZ1j/A7giszT3XP2NfRrak4dc/B9CDwHuF2D+rQMHKUinZP06x/tQpzdk/8iE83wBx2j+Wknnp1xTbPzoDt/OuuNs/3nP0/YVc3D+C5DEIXQDdPyZVbxI0pN0/ysWsHAtI3j9tNuom4uvePxGnJzG5j98/2ouyHcgZ4D8sRNGis2vgP3787yefveA/0LQOrYoP4T8ibS0ydmHhP3QlTLdhs+E/xt1qPE0F4j8YlonBOFfiP2pOqEYkqeI/vAbHyw/74j8Ov+VQ+0zjP2B3BNbmnuM/si8jW9Lw4z8E6EHgvULkP1agYGWplOQ/qFh/6pTm5D/6EJ5vgDjlP0vJvPRriuU/nYHbeVfc5T/vOfr+Qi7mP0HyGIQugOY/k6o3CRrS5j/lYlaOBSTnPzcbdRPxdec/idOTmNzH5z/bi7IdyBnoPy1E0aKza+g/fvzvJ5+96D/QtA6tig/pPyJtLTJ2Yek/dCVMt2Gz6T/G3Wo8TQXqPxiWicE4V+o/ak6oRiSp6j+8BsfLD/vqPw6/5VD7TOs/YHcE1uae6z+yLyNb0vDrPwToQeC9Quw/VqBgZamU7D+nWH/qlObsP/kQnm+AOO0/S8m89GuK7T+dgdt5V9ztP+85+v5CLu4/QfIYhC6A7j+TqjcJGtLuP+ViVo4FJO8/Nxt1E/F17z+J05OY3MfvP+5F2Q7kDPA/FqJo0dk18D9A/veTz17wP2hah1bFh/A/kbYWGbuw8D+6EqbbsNnwP+NuNZ6mAvE/DMvEYJwr8T81J1QjklTxP16D4+WHffE/h99yqH2m8T+wOwJrc8/xP9mXkS1p+PE/AvQg8F4h8j8rULCyVEryP1SsP3VKc/I/fAjPN0Cc8j+mZF76NcXyP87A7bwr7vI/+Bx9fyEX8z8=\",\"dtype\":\"float64\",\"order\":\"little\",\"shape\":[100]},\"top\":{\"__ndarray__\":\"AAAAAAAAAAAAAAAAAAAAAAAAAAAAAAAAAAAAAAAAAAAAAAAAAAAAAAAAAAAAAAAAAAAAAAAAAAAAAAAAAAAAAAAAAAAAAAAAAAAAAAAAAAAAAAAAAAAAAAAAAAAAAAAAAAAAAAAAAAAAAAAAAAAAAAAAAAAAAAAAAAAAAAAAAAAAAAAAAAAAAAAAAAAAAAAAAAAAAAAAAAAAAAAAAAAAAAAAAAAAAAAAAAAAAAAAAAAAAAAAAAAAAAAAAAAAAAAAAAAAAAAAAAAAAAAAAAAAAAAAAAAAAAAAAAAAAAAAAAAAAAAAAAAAAAAAAAAAAAAAAAAAAAAAAAAAAAAAAAAAAAAAAAAAAAAAAAAAAAAAAAAAAAAAAAAAAAAAAAAAAAAAAAAAAAAAAAAAAAAAAAAAAAAAAAAAAAAAAAAAAAAAAAAAAAAAAAAAAAAAAAAAAAAAAAAAAAAAAAAAAAAAAAAAAAAAAAAAAAAAAAAAAAAAAAAAAAAAAAAAAAAAAAAAAAAAAAAAAAAAAAAAAAAAAAAAAPr//////1hAAAAAAAAAAAAAAAAAAAAAAAAAAAAAAAAAAAAAAAAAAAAAAAAAAAAAAAAAAAAAAAAAAAAAAAAAAAAAAAAAAAAAAAAAAAAAAAAAAAAAAAAAAAAAAAAAAAAAAAAAAAAAAAAAAAAAAAAAAAAAAAAAAAAAAAAAAAAAAAAAAAAAAAAAAAAAAAAAAAAAAAAAAAAAAAAAAAAAAAAAAAAAAAAAAAAAAAAAAAAAAAAAAAAAAAAAAAAAAAAAAAAAAAAAAAAAAAAAAAAAAAAAAAAAAAAAAAAAAAAAAAAAAAAAAAAAAAAAAAAAAAAAAAAAAAAAAAAAAAAAAAAAAAAAAAAAAAAAAAAAAAAAAAAAAAAAAAAAAAAAAAAAAAAAAAAAAAAAAAAAAAAAAAAAAAAAAAAAAAAAAAAAAAAAAAAAAAAAAAAAAAAAAAAAAAAAAAAAAAAAAAAAAAAAAAAAAAAAAAAAAAAAAAAAAAAAAAAAAAAAAAAAAAAAAAAAAAAAAAAAAAAAAAAAAAAAAAAAAAAAAAA=\",\"dtype\":\"float64\",\"order\":\"little\",\"shape\":[100]}},\"selected\":{\"id\":\"4168\"},\"selection_policy\":{\"id\":\"4167\"}},\"id\":\"3992\",\"type\":\"ColumnDataSource\"},{\"attributes\":{},\"id\":\"3980\",\"type\":\"BasicTicker\"},{\"attributes\":{\"source\":{\"id\":\"3992\"}},\"id\":\"3997\",\"type\":\"CDSView\"},{\"attributes\":{},\"id\":\"4167\",\"type\":\"UnionRenderers\"},{\"attributes\":{\"bottom\":{\"value\":0},\"fill_alpha\":{\"value\":0.1},\"fill_color\":{\"value\":\"#1f77b4\"},\"hatch_alpha\":{\"value\":0.1},\"left\":{\"field\":\"left\"},\"line_alpha\":{\"value\":0.1},\"line_color\":{\"value\":\"#555555\"},\"right\":{\"field\":\"right\"},\"top\":{\"field\":\"top\"}},\"id\":\"3994\",\"type\":\"Quad\"},{\"attributes\":{\"tools\":[{\"id\":\"3983\"},{\"id\":\"3984\"},{\"id\":\"3985\"},{\"id\":\"3986\"}]},\"id\":\"3987\",\"type\":\"Toolbar\"},{\"attributes\":{},\"id\":\"3967\",\"type\":\"DataRange1d\"},{\"attributes\":{\"coordinates\":null,\"formatter\":{\"id\":\"4165\"},\"group\":null,\"major_label_policy\":{\"id\":\"4166\"},\"ticker\":{\"id\":\"3976\"}},\"id\":\"3975\",\"type\":\"LinearAxis\"},{\"attributes\":{},\"id\":\"3984\",\"type\":\"WheelZoomTool\"},{\"attributes\":{\"coordinates\":null,\"group\":null,\"text\":\"OM Terms Ratios Affinity Distribution\"},\"id\":\"3965\",\"type\":\"Title\"},{\"attributes\":{},\"id\":\"3986\",\"type\":\"SaveTool\"},{\"attributes\":{},\"id\":\"4168\",\"type\":\"Selection\"},{\"attributes\":{},\"id\":\"4165\",\"type\":\"BasicTickFormatter\"},{\"attributes\":{},\"id\":\"4166\",\"type\":\"AllLabels\"},{\"attributes\":{},\"id\":\"3985\",\"type\":\"ResetTool\"},{\"attributes\":{},\"id\":\"3971\",\"type\":\"LinearScale\"},{\"attributes\":{},\"id\":\"3969\",\"type\":\"DataRange1d\"},{\"attributes\":{\"coordinates\":null,\"data_source\":{\"id\":\"3992\"},\"glyph\":{\"id\":\"3993\"},\"group\":null,\"hover_glyph\":null,\"muted_glyph\":{\"id\":\"3995\"},\"nonselection_glyph\":{\"id\":\"3994\"},\"view\":{\"id\":\"3997\"}},\"id\":\"3996\",\"type\":\"GlyphRenderer\"},{\"attributes\":{},\"id\":\"4163\",\"type\":\"AllLabels\"},{\"attributes\":{},\"id\":\"3976\",\"type\":\"BasicTicker\"},{\"attributes\":{},\"id\":\"4162\",\"type\":\"BasicTickFormatter\"},{\"attributes\":{},\"id\":\"3983\",\"type\":\"PanTool\"},{\"attributes\":{\"bottom\":{\"value\":0},\"fill_color\":{\"value\":\"#1f77b4\"},\"left\":{\"field\":\"left\"},\"line_color\":{\"value\":\"#555555\"},\"right\":{\"field\":\"right\"},\"top\":{\"field\":\"top\"}},\"id\":\"3993\",\"type\":\"Quad\"},{\"attributes\":{},\"id\":\"3973\",\"type\":\"LinearScale\"},{\"attributes\":{\"bottom\":{\"value\":0},\"fill_alpha\":{\"value\":0.2},\"fill_color\":{\"value\":\"#1f77b4\"},\"hatch_alpha\":{\"value\":0.2},\"left\":{\"field\":\"left\"},\"line_alpha\":{\"value\":0.2},\"line_color\":{\"value\":\"#555555\"},\"right\":{\"field\":\"right\"},\"top\":{\"field\":\"top\"}},\"id\":\"3995\",\"type\":\"Quad\"}],\"root_ids\":[\"3964\"]},\"title\":\"Bokeh Application\",\"version\":\"2.4.2\"}};\n",
       "  const render_items = [{\"docid\":\"890c2ceb-6675-44cd-821a-7ab19ba10009\",\"root_ids\":[\"3964\"],\"roots\":{\"3964\":\"421b7557-40d3-4f53-9fe7-28f6e9187288\"}}];\n",
       "  root.Bokeh.embed.embed_items_notebook(docs_json, render_items);\n",
       "\n",
       "  }\n",
       "  if (root.Bokeh !== undefined) {\n",
       "    embed_document(root);\n",
       "  } else {\n",
       "    let attempts = 0;\n",
       "    const timer = setInterval(function(root) {\n",
       "      if (root.Bokeh !== undefined) {\n",
       "        clearInterval(timer);\n",
       "        embed_document(root);\n",
       "      } else {\n",
       "        attempts++;\n",
       "        if (attempts > 100) {\n",
       "          clearInterval(timer);\n",
       "          console.log(\"Bokeh: ERROR: Unable to run BokehJS code because BokehJS library is missing\");\n",
       "        }\n",
       "      }\n",
       "    }, 10, root)\n",
       "  }\n",
       "})(window);"
      ],
      "application/vnd.bokehjs_exec.v0+json": ""
     },
     "metadata": {
      "application/vnd.bokehjs_exec.v0+json": {
       "id": "3964"
      }
     },
     "output_type": "display_data"
    },
    {
     "data": {
      "text/html": [
       "\n",
       "\n",
       "\n",
       "\n",
       "\n",
       "\n",
       "  <div class=\"bk-root\" id=\"39693897-f743-4fe8-a190-d65274ea1673\" data-root-id=\"4214\"></div>\n"
      ]
     },
     "metadata": {},
     "output_type": "display_data"
    },
    {
     "data": {
      "application/javascript": [
       "(function(root) {\n",
       "  function embed_document(root) {\n",
       "    \n",
       "  const docs_json = {\"65021bdb-2a6f-4731-9b12-a5419b97d071\":{\"defs\":[],\"roots\":{\"references\":[{\"attributes\":{\"below\":[{\"id\":\"4225\"}],\"center\":[{\"id\":\"4228\"},{\"id\":\"4232\"}],\"left\":[{\"id\":\"4229\"}],\"renderers\":[{\"id\":\"4246\"}],\"title\":{\"id\":\"4215\"},\"toolbar\":{\"id\":\"4237\"},\"toolbar_location\":\"above\",\"x_range\":{\"id\":\"4217\"},\"x_scale\":{\"id\":\"4221\"},\"y_range\":{\"id\":\"4219\"},\"y_scale\":{\"id\":\"4223\"}},\"id\":\"4214\",\"subtype\":\"Figure\",\"type\":\"Plot\"},{\"attributes\":{},\"id\":\"4426\",\"type\":\"UnionRenderers\"},{\"attributes\":{\"axis\":{\"id\":\"4225\"},\"coordinates\":null,\"group\":null,\"ticker\":null},\"id\":\"4228\",\"type\":\"Grid\"},{\"attributes\":{},\"id\":\"4230\",\"type\":\"BasicTicker\"},{\"attributes\":{\"coordinates\":null,\"formatter\":{\"id\":\"4421\"},\"group\":null,\"major_label_policy\":{\"id\":\"4422\"},\"ticker\":{\"id\":\"4230\"}},\"id\":\"4229\",\"type\":\"LinearAxis\"},{\"attributes\":{},\"id\":\"4221\",\"type\":\"LinearScale\"},{\"attributes\":{\"bottom\":{\"value\":0},\"fill_color\":{\"value\":\"#1f77b4\"},\"left\":{\"field\":\"left\"},\"line_color\":{\"value\":\"#555555\"},\"right\":{\"field\":\"right\"},\"top\":{\"field\":\"top\"}},\"id\":\"4243\",\"type\":\"Quad\"},{\"attributes\":{},\"id\":\"4217\",\"type\":\"DataRange1d\"},{\"attributes\":{},\"id\":\"4421\",\"type\":\"BasicTickFormatter\"},{\"attributes\":{\"data\":{\"left\":{\"__ndarray__\":\"vOfo+wu5yD8EyWMQugDKP0uq3iRoSMs/k4tZORaQzD/bbNRNxNfNPyJOT2JyH88/tRdlO5Az0D9ZiKJFZ9fQP/34308+e9E/oGkdWhUf0j9E2lpk7MLSP+hKmG7DZtM/jLvVeJoK1D8wLBODca7UP9ScUI1IUtU/eA2Olx/21T8cfsuh9pnWP8DuCKzNPdc/Y19GtqTh1z8H0IPAe4XYP6tAwcpSKdk/TrH+1CnN2T/yITzfAHHaP5aSeenXFNs/OgO386642z/ec/T9hVzcP4LkMQhdAN0/JlVvEjSk3T/KxawcC0jeP2026ibi694/EacnMbmP3z/ai7IdyBngPyxE0aKza+A/fvzvJ5+94D/QtA6tig/hPyJtLTJ2YeE/dCVMt2Gz4T/G3Wo8TQXiPxiWicE4V+I/ak6oRiSp4j+8BsfLD/viPw6/5VD7TOM/YHcE1uae4z+yLyNb0vDjPwToQeC9QuQ/VqBgZamU5D+oWH/qlObkP/oQnm+AOOU/S8m89GuK5T+dgdt5V9zlP+85+v5CLuY/QfIYhC6A5j+TqjcJGtLmP+ViVo4FJOc/Nxt1E/F15z+J05OY3MfnP9uLsh3IGeg/LUTRorNr6D9+/O8nn73oP9C0Dq2KD+k/Im0tMnZh6T90JUy3YbPpP8bdajxNBeo/GJaJwThX6j9qTqhGJKnqP7wGx8sP++o/Dr/lUPtM6z9gdwTW5p7rP7IvI1vS8Os/BOhB4L1C7D9WoGBlqZTsP6dYf+qU5uw/+RCeb4A47T9Lybz0a4rtP52B23lX3O0/7zn6/kIu7j9B8hiELoDuP5OqNwka0u4/5WJWjgUk7z83G3UT8XXvP4nTk5jcx+8/7kXZDuQM8D8WomjR2TXwP0D+95PPXvA/aFqHVsWH8D+RthYZu7DwP7oSptuw2fA/4241nqYC8T8My8RgnCvxPzUnVCOSVPE/XoPj5Yd98T+H33KofabxP7A7Amtzz/E/2ZeRLWn48T8C9CDwXiHyPytQsLJUSvI/VKw/dUpz8j98CM83QJzyP6ZkXvo1xfI/zsDtvCvu8j8=\",\"dtype\":\"float64\",\"order\":\"little\",\"shape\":[100]},\"right\":{\"__ndarray__\":\"BMljELoAyj9Lqt4kaEjLP5OLWTkWkMw/22zUTcTXzT8iTk9ich/PP7UXZTuQM9A/WYiiRWfX0D/9+N9PPnvRP6BpHVoVH9I/RNpaZOzC0j/oSphuw2bTP4y71XiaCtQ/MCwTg3Gu1D/UnFCNSFLVP3gNjpcf9tU/HH7LofaZ1j/A7giszT3XP2NfRrak4dc/B9CDwHuF2D+rQMHKUinZP06x/tQpzdk/8iE83wBx2j+Wknnp1xTbPzoDt/OuuNs/3nP0/YVc3D+C5DEIXQDdPyZVbxI0pN0/ysWsHAtI3j9tNuom4uvePxGnJzG5j98/2ouyHcgZ4D8sRNGis2vgP3787yefveA/0LQOrYoP4T8ibS0ydmHhP3QlTLdhs+E/xt1qPE0F4j8YlonBOFfiP2pOqEYkqeI/vAbHyw/74j8Ov+VQ+0zjP2B3BNbmnuM/si8jW9Lw4z8E6EHgvULkP1agYGWplOQ/qFh/6pTm5D/6EJ5vgDjlP0vJvPRriuU/nYHbeVfc5T/vOfr+Qi7mP0HyGIQugOY/k6o3CRrS5j/lYlaOBSTnPzcbdRPxdec/idOTmNzH5z/bi7IdyBnoPy1E0aKza+g/fvzvJ5+96D/QtA6tig/pPyJtLTJ2Yek/dCVMt2Gz6T/G3Wo8TQXqPxiWicE4V+o/ak6oRiSp6j+8BsfLD/vqPw6/5VD7TOs/YHcE1uae6z+yLyNb0vDrPwToQeC9Quw/VqBgZamU7D+nWH/qlObsP/kQnm+AOO0/S8m89GuK7T+dgdt5V9ztP+85+v5CLu4/QfIYhC6A7j+TqjcJGtLuP+ViVo4FJO8/Nxt1E/F17z+J05OY3MfvP+5F2Q7kDPA/FqJo0dk18D9A/veTz17wP2hah1bFh/A/kbYWGbuw8D+6EqbbsNnwP+NuNZ6mAvE/DMvEYJwr8T81J1QjklTxP16D4+WHffE/h99yqH2m8T+wOwJrc8/xP9mXkS1p+PE/AvQg8F4h8j8rULCyVEryP1SsP3VKc/I/fAjPN0Cc8j+mZF76NcXyP87A7bwr7vI/+Bx9fyEX8z8=\",\"dtype\":\"float64\",\"order\":\"little\",\"shape\":[100]},\"top\":{\"__ndarray__\":\"AAAAAAAAAAAAAAAAAAAAAAAAAAAAAAAAAAAAAAAAAAAAAAAAAAAAAAAAAAAAAAAAAAAAAAAAAAAAAAAAAAAAAAAAAAAAAAAAAAAAAAAAAAAAAAAAAAAAAAAAAAAAAAAAAAAAAAAAAAAAAAAAAAAAAAAAAAAAAAAAAAAAAAAAAAAAAAAAAAAAAAAAAAAAAAAAAAAAAAAAAAAAAAAAAAAAAAAAAAAAAAAAAAAAAAAAAAAAAAAAAAAAAAAAAAAAAAAAAAAAAAAAAAAAAAAAAAAAAAAAAAAAAAAAAAAAAAAAAAAAAAAAAAAAAAAAAAAAAAAAAAAAAAAAAAAAAAAAAAAAAAAAAAAAAAAAAAAAAAAAAAAAAAAAAAAAAAAAAAAAAAAAAAAAAAAAAAAAAAAAAAAAAAAAAAAAAAAAAAAAAAAAAAAAAAAAAAAAAAAAAAAAAAAAAAAAAAAAAAAAAAAAAAAAAAAAAAAAAAAAAAAAAAAAAAAAAAAAAAAAAAAAAAAAAAAAAAAAAAAAAAAAAAAAAAAAAPn//////1hAAAAAAAAAAAAAAAAAAAAAAAAAAAAAAAAAAAAAAAAAAAAAAAAAAAAAAAAAAAAAAAAAAAAAAAAAAAAAAAAAAAAAAAAAAAAAAAAAAAAAAAAAAAAAAAAAAAAAAAAAAAAAAAAAAAAAAAAAAAAAAAAAAAAAAAAAAAAAAAAAAAAAAAAAAAAAAAAAAAAAAAAAAAAAAAAAAAAAAAAAAAAAAAAAAAAAAAAAAAAAAAAAAAAAAAAAAAAAAAAAAAAAAAAAAAAAAAAAAAAAAAAAAAAAAAAAAAAAAAAAAAAAAAAAAAAAAAAAAAAAAAAAAAAAAAAAAAAAAAAAAAAAAAAAAAAAAAAAAAAAAAAAAAAAAAAAAAAAAAAAAAAAAAAAAAAAAAAAAAAAAAAAAAAAAAAAAAAAAAAAAAAAAAAAAAAAAAAAAAAAAAAAAAAAAAAAAAAAAAAAAAAAAAAAAAAAAAAAAAAAAAAAAAAAAAAAAAAAAAAAAAAAAAAAAAAAAAAAAAAAAAAAAAAAAAAAAAAAAAAAAAA=\",\"dtype\":\"float64\",\"order\":\"little\",\"shape\":[100]}},\"selected\":{\"id\":\"4427\"},\"selection_policy\":{\"id\":\"4426\"}},\"id\":\"4242\",\"type\":\"ColumnDataSource\"},{\"attributes\":{},\"id\":\"4226\",\"type\":\"BasicTicker\"},{\"attributes\":{},\"id\":\"4427\",\"type\":\"Selection\"},{\"attributes\":{\"coordinates\":null,\"data_source\":{\"id\":\"4242\"},\"glyph\":{\"id\":\"4243\"},\"group\":null,\"hover_glyph\":null,\"muted_glyph\":{\"id\":\"4245\"},\"nonselection_glyph\":{\"id\":\"4244\"},\"view\":{\"id\":\"4247\"}},\"id\":\"4246\",\"type\":\"GlyphRenderer\"},{\"attributes\":{\"coordinates\":null,\"formatter\":{\"id\":\"4424\"},\"group\":null,\"major_label_policy\":{\"id\":\"4425\"},\"ticker\":{\"id\":\"4226\"}},\"id\":\"4225\",\"type\":\"LinearAxis\"},{\"attributes\":{\"bottom\":{\"value\":0},\"fill_alpha\":{\"value\":0.1},\"fill_color\":{\"value\":\"#1f77b4\"},\"hatch_alpha\":{\"value\":0.1},\"left\":{\"field\":\"left\"},\"line_alpha\":{\"value\":0.1},\"line_color\":{\"value\":\"#555555\"},\"right\":{\"field\":\"right\"},\"top\":{\"field\":\"top\"}},\"id\":\"4244\",\"type\":\"Quad\"},{\"attributes\":{},\"id\":\"4422\",\"type\":\"AllLabels\"},{\"attributes\":{},\"id\":\"4233\",\"type\":\"PanTool\"},{\"attributes\":{\"bottom\":{\"value\":0},\"fill_alpha\":{\"value\":0.2},\"fill_color\":{\"value\":\"#1f77b4\"},\"hatch_alpha\":{\"value\":0.2},\"left\":{\"field\":\"left\"},\"line_alpha\":{\"value\":0.2},\"line_color\":{\"value\":\"#555555\"},\"right\":{\"field\":\"right\"},\"top\":{\"field\":\"top\"}},\"id\":\"4245\",\"type\":\"Quad\"},{\"attributes\":{\"source\":{\"id\":\"4242\"}},\"id\":\"4247\",\"type\":\"CDSView\"},{\"attributes\":{\"tools\":[{\"id\":\"4233\"},{\"id\":\"4234\"},{\"id\":\"4235\"},{\"id\":\"4236\"}]},\"id\":\"4237\",\"type\":\"Toolbar\"},{\"attributes\":{},\"id\":\"4219\",\"type\":\"DataRange1d\"},{\"attributes\":{},\"id\":\"4223\",\"type\":\"LinearScale\"},{\"attributes\":{},\"id\":\"4235\",\"type\":\"ResetTool\"},{\"attributes\":{},\"id\":\"4236\",\"type\":\"SaveTool\"},{\"attributes\":{},\"id\":\"4234\",\"type\":\"WheelZoomTool\"},{\"attributes\":{\"coordinates\":null,\"group\":null,\"text\":\"LB Terms Ratios Affinity Distribution\"},\"id\":\"4215\",\"type\":\"Title\"},{\"attributes\":{},\"id\":\"4425\",\"type\":\"AllLabels\"},{\"attributes\":{\"axis\":{\"id\":\"4229\"},\"coordinates\":null,\"dimension\":1,\"group\":null,\"ticker\":null},\"id\":\"4232\",\"type\":\"Grid\"},{\"attributes\":{},\"id\":\"4424\",\"type\":\"BasicTickFormatter\"}],\"root_ids\":[\"4214\"]},\"title\":\"Bokeh Application\",\"version\":\"2.4.2\"}};\n",
       "  const render_items = [{\"docid\":\"65021bdb-2a6f-4731-9b12-a5419b97d071\",\"root_ids\":[\"4214\"],\"roots\":{\"4214\":\"39693897-f743-4fe8-a190-d65274ea1673\"}}];\n",
       "  root.Bokeh.embed.embed_items_notebook(docs_json, render_items);\n",
       "\n",
       "  }\n",
       "  if (root.Bokeh !== undefined) {\n",
       "    embed_document(root);\n",
       "  } else {\n",
       "    let attempts = 0;\n",
       "    const timer = setInterval(function(root) {\n",
       "      if (root.Bokeh !== undefined) {\n",
       "        clearInterval(timer);\n",
       "        embed_document(root);\n",
       "      } else {\n",
       "        attempts++;\n",
       "        if (attempts > 100) {\n",
       "          clearInterval(timer);\n",
       "          console.log(\"Bokeh: ERROR: Unable to run BokehJS code because BokehJS library is missing\");\n",
       "        }\n",
       "      }\n",
       "    }, 10, root)\n",
       "  }\n",
       "})(window);"
      ],
      "application/vnd.bokehjs_exec.v0+json": ""
     },
     "metadata": {
      "application/vnd.bokehjs_exec.v0+json": {
       "id": "4214"
      }
     },
     "output_type": "display_data"
    },
    {
     "data": {
      "text/html": [
       "\n",
       "\n",
       "\n",
       "\n",
       "\n",
       "\n",
       "  <div class=\"bk-root\" id=\"5d77dfe7-d629-4bab-b414-f938c0c5d6ca\" data-root-id=\"4473\"></div>\n"
      ]
     },
     "metadata": {},
     "output_type": "display_data"
    },
    {
     "data": {
      "application/javascript": [
       "(function(root) {\n",
       "  function embed_document(root) {\n",
       "    \n",
       "  const docs_json = {\"27a1aff6-3867-428c-854c-9c330136f151\":{\"defs\":[],\"roots\":{\"references\":[{\"attributes\":{\"below\":[{\"id\":\"4484\"}],\"center\":[{\"id\":\"4487\"},{\"id\":\"4491\"}],\"left\":[{\"id\":\"4488\"}],\"renderers\":[{\"id\":\"4505\"}],\"title\":{\"id\":\"4474\"},\"toolbar\":{\"id\":\"4496\"},\"toolbar_location\":\"above\",\"x_range\":{\"id\":\"4476\"},\"x_scale\":{\"id\":\"4480\"},\"y_range\":{\"id\":\"4478\"},\"y_scale\":{\"id\":\"4482\"}},\"id\":\"4473\",\"subtype\":\"Figure\",\"type\":\"Plot\"},{\"attributes\":{\"bottom\":{\"value\":0},\"fill_color\":{\"value\":\"#1f77b4\"},\"left\":{\"field\":\"left\"},\"line_color\":{\"value\":\"#555555\"},\"right\":{\"field\":\"right\"},\"top\":{\"field\":\"top\"}},\"id\":\"4502\",\"type\":\"Quad\"},{\"attributes\":{\"coordinates\":null,\"formatter\":{\"id\":\"4689\"},\"group\":null,\"major_label_policy\":{\"id\":\"4690\"},\"ticker\":{\"id\":\"4489\"}},\"id\":\"4488\",\"type\":\"LinearAxis\"},{\"attributes\":{},\"id\":\"4689\",\"type\":\"BasicTickFormatter\"},{\"attributes\":{},\"id\":\"4695\",\"type\":\"Selection\"},{\"attributes\":{},\"id\":\"4690\",\"type\":\"AllLabels\"},{\"attributes\":{},\"id\":\"4694\",\"type\":\"UnionRenderers\"},{\"attributes\":{},\"id\":\"4493\",\"type\":\"WheelZoomTool\"},{\"attributes\":{},\"id\":\"4482\",\"type\":\"LinearScale\"},{\"attributes\":{\"tools\":[{\"id\":\"4492\"},{\"id\":\"4493\"},{\"id\":\"4494\"},{\"id\":\"4495\"}]},\"id\":\"4496\",\"type\":\"Toolbar\"},{\"attributes\":{},\"id\":\"4476\",\"type\":\"DataRange1d\"},{\"attributes\":{},\"id\":\"4492\",\"type\":\"PanTool\"},{\"attributes\":{},\"id\":\"4494\",\"type\":\"ResetTool\"},{\"attributes\":{},\"id\":\"4489\",\"type\":\"BasicTicker\"},{\"attributes\":{},\"id\":\"4480\",\"type\":\"LinearScale\"},{\"attributes\":{},\"id\":\"4693\",\"type\":\"AllLabels\"},{\"attributes\":{},\"id\":\"4495\",\"type\":\"SaveTool\"},{\"attributes\":{},\"id\":\"4692\",\"type\":\"BasicTickFormatter\"},{\"attributes\":{\"axis\":{\"id\":\"4484\"},\"coordinates\":null,\"group\":null,\"ticker\":null},\"id\":\"4487\",\"type\":\"Grid\"},{\"attributes\":{\"coordinates\":null,\"group\":null,\"text\":\"PL Terms Ratios Affinity Distribution\"},\"id\":\"4474\",\"type\":\"Title\"},{\"attributes\":{\"axis\":{\"id\":\"4488\"},\"coordinates\":null,\"dimension\":1,\"group\":null,\"ticker\":null},\"id\":\"4491\",\"type\":\"Grid\"},{\"attributes\":{\"coordinates\":null,\"formatter\":{\"id\":\"4692\"},\"group\":null,\"major_label_policy\":{\"id\":\"4693\"},\"ticker\":{\"id\":\"4485\"}},\"id\":\"4484\",\"type\":\"LinearAxis\"},{\"attributes\":{\"source\":{\"id\":\"4501\"}},\"id\":\"4506\",\"type\":\"CDSView\"},{\"attributes\":{\"data\":{\"left\":{\"__ndarray__\":\"vOfo+wu5yD8EyWMQugDKP0uq3iRoSMs/k4tZORaQzD/bbNRNxNfNPyJOT2JyH88/tRdlO5Az0D9ZiKJFZ9fQP/34308+e9E/oGkdWhUf0j9E2lpk7MLSP+hKmG7DZtM/jLvVeJoK1D8wLBODca7UP9ScUI1IUtU/eA2Olx/21T8cfsuh9pnWP8DuCKzNPdc/Y19GtqTh1z8H0IPAe4XYP6tAwcpSKdk/TrH+1CnN2T/yITzfAHHaP5aSeenXFNs/OgO386642z/ec/T9hVzcP4LkMQhdAN0/JlVvEjSk3T/KxawcC0jeP2026ibi694/EacnMbmP3z/ai7IdyBngPyxE0aKza+A/fvzvJ5+94D/QtA6tig/hPyJtLTJ2YeE/dCVMt2Gz4T/G3Wo8TQXiPxiWicE4V+I/ak6oRiSp4j+8BsfLD/viPw6/5VD7TOM/YHcE1uae4z+yLyNb0vDjPwToQeC9QuQ/VqBgZamU5D+oWH/qlObkP/oQnm+AOOU/S8m89GuK5T+dgdt5V9zlP+85+v5CLuY/QfIYhC6A5j+TqjcJGtLmP+ViVo4FJOc/Nxt1E/F15z+J05OY3MfnP9uLsh3IGeg/LUTRorNr6D9+/O8nn73oP9C0Dq2KD+k/Im0tMnZh6T90JUy3YbPpP8bdajxNBeo/GJaJwThX6j9qTqhGJKnqP7wGx8sP++o/Dr/lUPtM6z9gdwTW5p7rP7IvI1vS8Os/BOhB4L1C7D9WoGBlqZTsP6dYf+qU5uw/+RCeb4A47T9Lybz0a4rtP52B23lX3O0/7zn6/kIu7j9B8hiELoDuP5OqNwka0u4/5WJWjgUk7z83G3UT8XXvP4nTk5jcx+8/7kXZDuQM8D8WomjR2TXwP0D+95PPXvA/aFqHVsWH8D+RthYZu7DwP7oSptuw2fA/4241nqYC8T8My8RgnCvxPzUnVCOSVPE/XoPj5Yd98T+H33KofabxP7A7Amtzz/E/2ZeRLWn48T8C9CDwXiHyPytQsLJUSvI/VKw/dUpz8j98CM83QJzyP6ZkXvo1xfI/zsDtvCvu8j8=\",\"dtype\":\"float64\",\"order\":\"little\",\"shape\":[100]},\"right\":{\"__ndarray__\":\"BMljELoAyj9Lqt4kaEjLP5OLWTkWkMw/22zUTcTXzT8iTk9ich/PP7UXZTuQM9A/WYiiRWfX0D/9+N9PPnvRP6BpHVoVH9I/RNpaZOzC0j/oSphuw2bTP4y71XiaCtQ/MCwTg3Gu1D/UnFCNSFLVP3gNjpcf9tU/HH7LofaZ1j/A7giszT3XP2NfRrak4dc/B9CDwHuF2D+rQMHKUinZP06x/tQpzdk/8iE83wBx2j+Wknnp1xTbPzoDt/OuuNs/3nP0/YVc3D+C5DEIXQDdPyZVbxI0pN0/ysWsHAtI3j9tNuom4uvePxGnJzG5j98/2ouyHcgZ4D8sRNGis2vgP3787yefveA/0LQOrYoP4T8ibS0ydmHhP3QlTLdhs+E/xt1qPE0F4j8YlonBOFfiP2pOqEYkqeI/vAbHyw/74j8Ov+VQ+0zjP2B3BNbmnuM/si8jW9Lw4z8E6EHgvULkP1agYGWplOQ/qFh/6pTm5D/6EJ5vgDjlP0vJvPRriuU/nYHbeVfc5T/vOfr+Qi7mP0HyGIQugOY/k6o3CRrS5j/lYlaOBSTnPzcbdRPxdec/idOTmNzH5z/bi7IdyBnoPy1E0aKza+g/fvzvJ5+96D/QtA6tig/pPyJtLTJ2Yek/dCVMt2Gz6T/G3Wo8TQXqPxiWicE4V+o/ak6oRiSp6j+8BsfLD/vqPw6/5VD7TOs/YHcE1uae6z+yLyNb0vDrPwToQeC9Quw/VqBgZamU7D+nWH/qlObsP/kQnm+AOO0/S8m89GuK7T+dgdt5V9ztP+85+v5CLu4/QfIYhC6A7j+TqjcJGtLuP+ViVo4FJO8/Nxt1E/F17z+J05OY3MfvP+5F2Q7kDPA/FqJo0dk18D9A/veTz17wP2hah1bFh/A/kbYWGbuw8D+6EqbbsNnwP+NuNZ6mAvE/DMvEYJwr8T81J1QjklTxP16D4+WHffE/h99yqH2m8T+wOwJrc8/xP9mXkS1p+PE/AvQg8F4h8j8rULCyVEryP1SsP3VKc/I/fAjPN0Cc8j+mZF76NcXyP87A7bwr7vI/+Bx9fyEX8z8=\",\"dtype\":\"float64\",\"order\":\"little\",\"shape\":[100]},\"top\":{\"__ndarray__\":\"AAAAAAAAAAAAAAAAAAAAAAAAAAAAAAAAAAAAAAAAAAAAAAAAAAAAAAAAAAAAAAAAAAAAAAAAAAAAAAAAAAAAAAAAAAAAAAAAAAAAAAAAAAAAAAAAAAAAAAAAAAAAAAAAAAAAAAAAAAAAAAAAAAAAAAAAAAAAAAAAAAAAAAAAAAAAAAAAAAAAAAAAAAAAAAAAAAAAAAAAAAAAAAAAAAAAAAAAAAAAAAAAAAAAAAAAAAAAAAAAAAAAAAAAAAAAAAAAAAAAAAAAAAAAAAAAAAAAAAAAAAAAAAAAAAAAAAAAAAAAAAAAAAAAAAAAAAAAAAAAAAAAAAAAAAAAAAAAAAAAAAAAAAAAAAAAAAAAAAAAAAAAAAAAAAAAAAAAAAAAAAAAAAAAAAAAAAAAAAAAAAAAAAAAAAAAAAAAAAAAAAAAAAAAAAAAAAAAAAAAAAAAAAAAAAAAAAAAAAAAAAAAAAAAAAAAAAAAAAAAAAAAAAAAAAAAAAAAAAAAAAAAAAAAAAAAAAAAAAAAAAAAAAAAAAAAAPr//////1hAAAAAAAAAAAAAAAAAAAAAAAAAAAAAAAAAAAAAAAAAAAAAAAAAAAAAAAAAAAAAAAAAAAAAAAAAAAAAAAAAAAAAAAAAAAAAAAAAAAAAAAAAAAAAAAAAAAAAAAAAAAAAAAAAAAAAAAAAAAAAAAAAAAAAAAAAAAAAAAAAAAAAAAAAAAAAAAAAAAAAAAAAAAAAAAAAAAAAAAAAAAAAAAAAAAAAAAAAAAAAAAAAAAAAAAAAAAAAAAAAAAAAAAAAAAAAAAAAAAAAAAAAAAAAAAAAAAAAAAAAAAAAAAAAAAAAAAAAAAAAAAAAAAAAAAAAAAAAAAAAAAAAAAAAAAAAAAAAAAAAAAAAAAAAAAAAAAAAAAAAAAAAAAAAAAAAAAAAAAAAAAAAAAAAAAAAAAAAAAAAAAAAAAAAAAAAAAAAAAAAAAAAAAAAAAAAAAAAAAAAAAAAAAAAAAAAAAAAAAAAAAAAAAAAAAAAAAAAAAAAAAAAAAAAAAAAAAAAAAAAAAAAAAAAAAAAAAAAAAAAAAA=\",\"dtype\":\"float64\",\"order\":\"little\",\"shape\":[100]}},\"selected\":{\"id\":\"4695\"},\"selection_policy\":{\"id\":\"4694\"}},\"id\":\"4501\",\"type\":\"ColumnDataSource\"},{\"attributes\":{\"bottom\":{\"value\":0},\"fill_alpha\":{\"value\":0.1},\"fill_color\":{\"value\":\"#1f77b4\"},\"hatch_alpha\":{\"value\":0.1},\"left\":{\"field\":\"left\"},\"line_alpha\":{\"value\":0.1},\"line_color\":{\"value\":\"#555555\"},\"right\":{\"field\":\"right\"},\"top\":{\"field\":\"top\"}},\"id\":\"4503\",\"type\":\"Quad\"},{\"attributes\":{\"bottom\":{\"value\":0},\"fill_alpha\":{\"value\":0.2},\"fill_color\":{\"value\":\"#1f77b4\"},\"hatch_alpha\":{\"value\":0.2},\"left\":{\"field\":\"left\"},\"line_alpha\":{\"value\":0.2},\"line_color\":{\"value\":\"#555555\"},\"right\":{\"field\":\"right\"},\"top\":{\"field\":\"top\"}},\"id\":\"4504\",\"type\":\"Quad\"},{\"attributes\":{},\"id\":\"4485\",\"type\":\"BasicTicker\"},{\"attributes\":{\"coordinates\":null,\"data_source\":{\"id\":\"4501\"},\"glyph\":{\"id\":\"4502\"},\"group\":null,\"hover_glyph\":null,\"muted_glyph\":{\"id\":\"4504\"},\"nonselection_glyph\":{\"id\":\"4503\"},\"view\":{\"id\":\"4506\"}},\"id\":\"4505\",\"type\":\"GlyphRenderer\"},{\"attributes\":{},\"id\":\"4478\",\"type\":\"DataRange1d\"}],\"root_ids\":[\"4473\"]},\"title\":\"Bokeh Application\",\"version\":\"2.4.2\"}};\n",
       "  const render_items = [{\"docid\":\"27a1aff6-3867-428c-854c-9c330136f151\",\"root_ids\":[\"4473\"],\"roots\":{\"4473\":\"5d77dfe7-d629-4bab-b414-f938c0c5d6ca\"}}];\n",
       "  root.Bokeh.embed.embed_items_notebook(docs_json, render_items);\n",
       "\n",
       "  }\n",
       "  if (root.Bokeh !== undefined) {\n",
       "    embed_document(root);\n",
       "  } else {\n",
       "    let attempts = 0;\n",
       "    const timer = setInterval(function(root) {\n",
       "      if (root.Bokeh !== undefined) {\n",
       "        clearInterval(timer);\n",
       "        embed_document(root);\n",
       "      } else {\n",
       "        attempts++;\n",
       "        if (attempts > 100) {\n",
       "          clearInterval(timer);\n",
       "          console.log(\"Bokeh: ERROR: Unable to run BokehJS code because BokehJS library is missing\");\n",
       "        }\n",
       "      }\n",
       "    }, 10, root)\n",
       "  }\n",
       "})(window);"
      ],
      "application/vnd.bokehjs_exec.v0+json": ""
     },
     "metadata": {
      "application/vnd.bokehjs_exec.v0+json": {
       "id": "4473"
      }
     },
     "output_type": "display_data"
    },
    {
     "data": {
      "text/html": [
       "\n",
       "\n",
       "\n",
       "\n",
       "\n",
       "\n",
       "  <div class=\"bk-root\" id=\"a8dfd58d-baf5-4277-ade4-2afce6ad86b8\" data-root-id=\"4741\"></div>\n"
      ]
     },
     "metadata": {},
     "output_type": "display_data"
    },
    {
     "data": {
      "application/javascript": [
       "(function(root) {\n",
       "  function embed_document(root) {\n",
       "    \n",
       "  const docs_json = {\"e2522941-4754-4f0d-965c-bbf582c2752f\":{\"defs\":[],\"roots\":{\"references\":[{\"attributes\":{\"below\":[{\"id\":\"4752\"}],\"center\":[{\"id\":\"4755\"},{\"id\":\"4759\"}],\"left\":[{\"id\":\"4756\"}],\"renderers\":[{\"id\":\"4773\"}],\"title\":{\"id\":\"4742\"},\"toolbar\":{\"id\":\"4764\"},\"toolbar_location\":\"above\",\"x_range\":{\"id\":\"4744\"},\"x_scale\":{\"id\":\"4748\"},\"y_range\":{\"id\":\"4746\"},\"y_scale\":{\"id\":\"4750\"}},\"id\":\"4741\",\"subtype\":\"Figure\",\"type\":\"Plot\"},{\"attributes\":{},\"id\":\"4763\",\"type\":\"SaveTool\"},{\"attributes\":{\"data\":{\"left\":{\"__ndarray__\":\"vOfo+wu5yD8EyWMQugDKP0uq3iRoSMs/k4tZORaQzD/bbNRNxNfNPyJOT2JyH88/tRdlO5Az0D9ZiKJFZ9fQP/34308+e9E/oGkdWhUf0j9E2lpk7MLSP+hKmG7DZtM/jLvVeJoK1D8wLBODca7UP9ScUI1IUtU/eA2Olx/21T8cfsuh9pnWP8DuCKzNPdc/Y19GtqTh1z8H0IPAe4XYP6tAwcpSKdk/TrH+1CnN2T/yITzfAHHaP5aSeenXFNs/OgO386642z/ec/T9hVzcP4LkMQhdAN0/JlVvEjSk3T/KxawcC0jeP2026ibi694/EacnMbmP3z/ai7IdyBngPyxE0aKza+A/fvzvJ5+94D/QtA6tig/hPyJtLTJ2YeE/dCVMt2Gz4T/G3Wo8TQXiPxiWicE4V+I/ak6oRiSp4j+8BsfLD/viPw6/5VD7TOM/YHcE1uae4z+yLyNb0vDjPwToQeC9QuQ/VqBgZamU5D+oWH/qlObkP/oQnm+AOOU/S8m89GuK5T+dgdt5V9zlP+85+v5CLuY/QfIYhC6A5j+TqjcJGtLmP+ViVo4FJOc/Nxt1E/F15z+J05OY3MfnP9uLsh3IGeg/LUTRorNr6D9+/O8nn73oP9C0Dq2KD+k/Im0tMnZh6T90JUy3YbPpP8bdajxNBeo/GJaJwThX6j9qTqhGJKnqP7wGx8sP++o/Dr/lUPtM6z9gdwTW5p7rP7IvI1vS8Os/BOhB4L1C7D9WoGBlqZTsP6dYf+qU5uw/+RCeb4A47T9Lybz0a4rtP52B23lX3O0/7zn6/kIu7j9B8hiELoDuP5OqNwka0u4/5WJWjgUk7z83G3UT8XXvP4nTk5jcx+8/7kXZDuQM8D8WomjR2TXwP0D+95PPXvA/aFqHVsWH8D+RthYZu7DwP7oSptuw2fA/4241nqYC8T8My8RgnCvxPzUnVCOSVPE/XoPj5Yd98T+H33KofabxP7A7Amtzz/E/2ZeRLWn48T8C9CDwXiHyPytQsLJUSvI/VKw/dUpz8j98CM83QJzyP6ZkXvo1xfI/zsDtvCvu8j8=\",\"dtype\":\"float64\",\"order\":\"little\",\"shape\":[100]},\"right\":{\"__ndarray__\":\"BMljELoAyj9Lqt4kaEjLP5OLWTkWkMw/22zUTcTXzT8iTk9ich/PP7UXZTuQM9A/WYiiRWfX0D/9+N9PPnvRP6BpHVoVH9I/RNpaZOzC0j/oSphuw2bTP4y71XiaCtQ/MCwTg3Gu1D/UnFCNSFLVP3gNjpcf9tU/HH7LofaZ1j/A7giszT3XP2NfRrak4dc/B9CDwHuF2D+rQMHKUinZP06x/tQpzdk/8iE83wBx2j+Wknnp1xTbPzoDt/OuuNs/3nP0/YVc3D+C5DEIXQDdPyZVbxI0pN0/ysWsHAtI3j9tNuom4uvePxGnJzG5j98/2ouyHcgZ4D8sRNGis2vgP3787yefveA/0LQOrYoP4T8ibS0ydmHhP3QlTLdhs+E/xt1qPE0F4j8YlonBOFfiP2pOqEYkqeI/vAbHyw/74j8Ov+VQ+0zjP2B3BNbmnuM/si8jW9Lw4z8E6EHgvULkP1agYGWplOQ/qFh/6pTm5D/6EJ5vgDjlP0vJvPRriuU/nYHbeVfc5T/vOfr+Qi7mP0HyGIQugOY/k6o3CRrS5j/lYlaOBSTnPzcbdRPxdec/idOTmNzH5z/bi7IdyBnoPy1E0aKza+g/fvzvJ5+96D/QtA6tig/pPyJtLTJ2Yek/dCVMt2Gz6T/G3Wo8TQXqPxiWicE4V+o/ak6oRiSp6j+8BsfLD/vqPw6/5VD7TOs/YHcE1uae6z+yLyNb0vDrPwToQeC9Quw/VqBgZamU7D+nWH/qlObsP/kQnm+AOO0/S8m89GuK7T+dgdt5V9ztP+85+v5CLu4/QfIYhC6A7j+TqjcJGtLuP+ViVo4FJO8/Nxt1E/F17z+J05OY3MfvP+5F2Q7kDPA/FqJo0dk18D9A/veTz17wP2hah1bFh/A/kbYWGbuw8D+6EqbbsNnwP+NuNZ6mAvE/DMvEYJwr8T81J1QjklTxP16D4+WHffE/h99yqH2m8T+wOwJrc8/xP9mXkS1p+PE/AvQg8F4h8j8rULCyVEryP1SsP3VKc/I/fAjPN0Cc8j+mZF76NcXyP87A7bwr7vI/+Bx9fyEX8z8=\",\"dtype\":\"float64\",\"order\":\"little\",\"shape\":[100]},\"top\":{\"__ndarray__\":\"AAAAAAAAAAAAAAAAAAAAAAAAAAAAAAAAAAAAAAAAAAAAAAAAAAAAAAAAAAAAAAAAAAAAAAAAAAAAAAAAAAAAAAAAAAAAAAAAAAAAAAAAAAAAAAAAAAAAAAAAAAAAAAAAAAAAAAAAAAAAAAAAAAAAAAAAAAAAAAAAAAAAAAAAAAAAAAAAAAAAAAAAAAAAAAAAAAAAAAAAAAAAAAAAAAAAAAAAAAAAAAAAAAAAAAAAAAAAAAAAAAAAAAAAAAAAAAAAAAAAAAAAAAAAAAAAAAAAAAAAAAAAAAAAAAAAAAAAAAAAAAAAAAAAAAAAAAAAAAAAAAAAAAAAAAAAAAAAAAAAAAAAAAAAAAAAAAAAAAAAAAAAAAAAAAAAAAAAAAAAAAAAAAAAAAAAAAAAAAAAAAAAAAAAAAAAAAAAAAAAAAAAAAAAAAAAAAAAAAAAAAAAAAAAAAAAAAAAAAAAAAAAAAAAAAAAAAAAAAAAAAAAAAAAAAAAAAAAAAAAAAAAAAAAAAAAAAAAAAAAAAAAAAAAAAAAAPn//////1hAAAAAAAAAAAAAAAAAAAAAAAAAAAAAAAAAAAAAAAAAAAAAAAAAAAAAAAAAAAAAAAAAAAAAAAAAAAAAAAAAAAAAAAAAAAAAAAAAAAAAAAAAAAAAAAAAAAAAAAAAAAAAAAAAAAAAAAAAAAAAAAAAAAAAAAAAAAAAAAAAAAAAAAAAAAAAAAAAAAAAAAAAAAAAAAAAAAAAAAAAAAAAAAAAAAAAAAAAAAAAAAAAAAAAAAAAAAAAAAAAAAAAAAAAAAAAAAAAAAAAAAAAAAAAAAAAAAAAAAAAAAAAAAAAAAAAAAAAAAAAAAAAAAAAAAAAAAAAAAAAAAAAAAAAAAAAAAAAAAAAAAAAAAAAAAAAAAAAAAAAAAAAAAAAAAAAAAAAAAAAAAAAAAAAAAAAAAAAAAAAAAAAAAAAAAAAAAAAAAAAAAAAAAAAAAAAAAAAAAAAAAAAAAAAAAAAAAAAAAAAAAAAAAAAAAAAAAAAAAAAAAAAAAAAAAAAAAAAAAAAAAAAAAAAAAAAAAAAAAAAAAA=\",\"dtype\":\"float64\",\"order\":\"little\",\"shape\":[100]}},\"selected\":{\"id\":\"4972\"},\"selection_policy\":{\"id\":\"4971\"}},\"id\":\"4769\",\"type\":\"ColumnDataSource\"},{\"attributes\":{},\"id\":\"4972\",\"type\":\"Selection\"},{\"attributes\":{},\"id\":\"4744\",\"type\":\"DataRange1d\"},{\"attributes\":{\"bottom\":{\"value\":0},\"fill_alpha\":{\"value\":0.1},\"fill_color\":{\"value\":\"#1f77b4\"},\"hatch_alpha\":{\"value\":0.1},\"left\":{\"field\":\"left\"},\"line_alpha\":{\"value\":0.1},\"line_color\":{\"value\":\"#555555\"},\"right\":{\"field\":\"right\"},\"top\":{\"field\":\"top\"}},\"id\":\"4771\",\"type\":\"Quad\"},{\"attributes\":{},\"id\":\"4760\",\"type\":\"PanTool\"},{\"attributes\":{},\"id\":\"4761\",\"type\":\"WheelZoomTool\"},{\"attributes\":{},\"id\":\"4762\",\"type\":\"ResetTool\"},{\"attributes\":{},\"id\":\"4757\",\"type\":\"BasicTicker\"},{\"attributes\":{},\"id\":\"4971\",\"type\":\"UnionRenderers\"},{\"attributes\":{\"coordinates\":null,\"data_source\":{\"id\":\"4769\"},\"glyph\":{\"id\":\"4770\"},\"group\":null,\"hover_glyph\":null,\"muted_glyph\":{\"id\":\"4772\"},\"nonselection_glyph\":{\"id\":\"4771\"},\"view\":{\"id\":\"4774\"}},\"id\":\"4773\",\"type\":\"GlyphRenderer\"},{\"attributes\":{\"bottom\":{\"value\":0},\"fill_alpha\":{\"value\":0.2},\"fill_color\":{\"value\":\"#1f77b4\"},\"hatch_alpha\":{\"value\":0.2},\"left\":{\"field\":\"left\"},\"line_alpha\":{\"value\":0.2},\"line_color\":{\"value\":\"#555555\"},\"right\":{\"field\":\"right\"},\"top\":{\"field\":\"top\"}},\"id\":\"4772\",\"type\":\"Quad\"},{\"attributes\":{\"axis\":{\"id\":\"4756\"},\"coordinates\":null,\"dimension\":1,\"group\":null,\"ticker\":null},\"id\":\"4759\",\"type\":\"Grid\"},{\"attributes\":{},\"id\":\"4969\",\"type\":\"BasicTickFormatter\"},{\"attributes\":{\"coordinates\":null,\"group\":null,\"text\":\"JO Terms Ratios Affinity Distribution\"},\"id\":\"4742\",\"type\":\"Title\"},{\"attributes\":{\"coordinates\":null,\"formatter\":{\"id\":\"4969\"},\"group\":null,\"major_label_policy\":{\"id\":\"4970\"},\"ticker\":{\"id\":\"4753\"}},\"id\":\"4752\",\"type\":\"LinearAxis\"},{\"attributes\":{\"axis\":{\"id\":\"4752\"},\"coordinates\":null,\"group\":null,\"ticker\":null},\"id\":\"4755\",\"type\":\"Grid\"},{\"attributes\":{\"source\":{\"id\":\"4769\"}},\"id\":\"4774\",\"type\":\"CDSView\"},{\"attributes\":{},\"id\":\"4966\",\"type\":\"BasicTickFormatter\"},{\"attributes\":{},\"id\":\"4748\",\"type\":\"LinearScale\"},{\"attributes\":{},\"id\":\"4967\",\"type\":\"AllLabels\"},{\"attributes\":{\"bottom\":{\"value\":0},\"fill_color\":{\"value\":\"#1f77b4\"},\"left\":{\"field\":\"left\"},\"line_color\":{\"value\":\"#555555\"},\"right\":{\"field\":\"right\"},\"top\":{\"field\":\"top\"}},\"id\":\"4770\",\"type\":\"Quad\"},{\"attributes\":{},\"id\":\"4753\",\"type\":\"BasicTicker\"},{\"attributes\":{\"coordinates\":null,\"formatter\":{\"id\":\"4966\"},\"group\":null,\"major_label_policy\":{\"id\":\"4967\"},\"ticker\":{\"id\":\"4757\"}},\"id\":\"4756\",\"type\":\"LinearAxis\"},{\"attributes\":{},\"id\":\"4746\",\"type\":\"DataRange1d\"},{\"attributes\":{},\"id\":\"4970\",\"type\":\"AllLabels\"},{\"attributes\":{},\"id\":\"4750\",\"type\":\"LinearScale\"},{\"attributes\":{\"tools\":[{\"id\":\"4760\"},{\"id\":\"4761\"},{\"id\":\"4762\"},{\"id\":\"4763\"}]},\"id\":\"4764\",\"type\":\"Toolbar\"}],\"root_ids\":[\"4741\"]},\"title\":\"Bokeh Application\",\"version\":\"2.4.2\"}};\n",
       "  const render_items = [{\"docid\":\"e2522941-4754-4f0d-965c-bbf582c2752f\",\"root_ids\":[\"4741\"],\"roots\":{\"4741\":\"a8dfd58d-baf5-4277-ade4-2afce6ad86b8\"}}];\n",
       "  root.Bokeh.embed.embed_items_notebook(docs_json, render_items);\n",
       "\n",
       "  }\n",
       "  if (root.Bokeh !== undefined) {\n",
       "    embed_document(root);\n",
       "  } else {\n",
       "    let attempts = 0;\n",
       "    const timer = setInterval(function(root) {\n",
       "      if (root.Bokeh !== undefined) {\n",
       "        clearInterval(timer);\n",
       "        embed_document(root);\n",
       "      } else {\n",
       "        attempts++;\n",
       "        if (attempts > 100) {\n",
       "          clearInterval(timer);\n",
       "          console.log(\"Bokeh: ERROR: Unable to run BokehJS code because BokehJS library is missing\");\n",
       "        }\n",
       "      }\n",
       "    }, 10, root)\n",
       "  }\n",
       "})(window);"
      ],
      "application/vnd.bokehjs_exec.v0+json": ""
     },
     "metadata": {
      "application/vnd.bokehjs_exec.v0+json": {
       "id": "4741"
      }
     },
     "output_type": "display_data"
    },
    {
     "data": {
      "text/html": [
       "\n",
       "\n",
       "\n",
       "\n",
       "\n",
       "\n",
       "  <div class=\"bk-root\" id=\"d01cc4e7-dadd-4e0a-b937-e30eaa0646ec\" data-root-id=\"5018\"></div>\n"
      ]
     },
     "metadata": {},
     "output_type": "display_data"
    },
    {
     "data": {
      "application/javascript": [
       "(function(root) {\n",
       "  function embed_document(root) {\n",
       "    \n",
       "  const docs_json = {\"e3dbfb23-8c1f-4955-84d9-ce167f6b1af7\":{\"defs\":[],\"roots\":{\"references\":[{\"attributes\":{\"below\":[{\"id\":\"5029\"}],\"center\":[{\"id\":\"5032\"},{\"id\":\"5036\"}],\"left\":[{\"id\":\"5033\"}],\"renderers\":[{\"id\":\"5050\"}],\"title\":{\"id\":\"5019\"},\"toolbar\":{\"id\":\"5041\"},\"toolbar_location\":\"above\",\"x_range\":{\"id\":\"5021\"},\"x_scale\":{\"id\":\"5025\"},\"y_range\":{\"id\":\"5023\"},\"y_scale\":{\"id\":\"5027\"}},\"id\":\"5018\",\"subtype\":\"Figure\",\"type\":\"Plot\"},{\"attributes\":{\"bottom\":{\"value\":0},\"fill_alpha\":{\"value\":0.2},\"fill_color\":{\"value\":\"#1f77b4\"},\"hatch_alpha\":{\"value\":0.2},\"left\":{\"field\":\"left\"},\"line_alpha\":{\"value\":0.2},\"line_color\":{\"value\":\"#555555\"},\"right\":{\"field\":\"right\"},\"top\":{\"field\":\"top\"}},\"id\":\"5049\",\"type\":\"Quad\"},{\"attributes\":{\"source\":{\"id\":\"5046\"}},\"id\":\"5051\",\"type\":\"CDSView\"},{\"attributes\":{\"bottom\":{\"value\":0},\"fill_color\":{\"value\":\"#1f77b4\"},\"left\":{\"field\":\"left\"},\"line_color\":{\"value\":\"#555555\"},\"right\":{\"field\":\"right\"},\"top\":{\"field\":\"top\"}},\"id\":\"5047\",\"type\":\"Quad\"},{\"attributes\":{\"coordinates\":null,\"formatter\":{\"id\":\"5252\"},\"group\":null,\"major_label_policy\":{\"id\":\"5253\"},\"ticker\":{\"id\":\"5034\"}},\"id\":\"5033\",\"type\":\"LinearAxis\"},{\"attributes\":{},\"id\":\"5252\",\"type\":\"BasicTickFormatter\"},{\"attributes\":{},\"id\":\"5021\",\"type\":\"DataRange1d\"},{\"attributes\":{\"axis\":{\"id\":\"5033\"},\"coordinates\":null,\"dimension\":1,\"group\":null,\"ticker\":null},\"id\":\"5036\",\"type\":\"Grid\"},{\"attributes\":{\"data\":{\"left\":{\"__ndarray__\":\"vOfo+wu5yD8EyWMQugDKP0uq3iRoSMs/k4tZORaQzD/bbNRNxNfNPyJOT2JyH88/tRdlO5Az0D9ZiKJFZ9fQP/34308+e9E/oGkdWhUf0j9E2lpk7MLSP+hKmG7DZtM/jLvVeJoK1D8wLBODca7UP9ScUI1IUtU/eA2Olx/21T8cfsuh9pnWP8DuCKzNPdc/Y19GtqTh1z8H0IPAe4XYP6tAwcpSKdk/TrH+1CnN2T/yITzfAHHaP5aSeenXFNs/OgO386642z/ec/T9hVzcP4LkMQhdAN0/JlVvEjSk3T/KxawcC0jeP2026ibi694/EacnMbmP3z/ai7IdyBngPyxE0aKza+A/fvzvJ5+94D/QtA6tig/hPyJtLTJ2YeE/dCVMt2Gz4T/G3Wo8TQXiPxiWicE4V+I/ak6oRiSp4j+8BsfLD/viPw6/5VD7TOM/YHcE1uae4z+yLyNb0vDjPwToQeC9QuQ/VqBgZamU5D+oWH/qlObkP/oQnm+AOOU/S8m89GuK5T+dgdt5V9zlP+85+v5CLuY/QfIYhC6A5j+TqjcJGtLmP+ViVo4FJOc/Nxt1E/F15z+J05OY3MfnP9uLsh3IGeg/LUTRorNr6D9+/O8nn73oP9C0Dq2KD+k/Im0tMnZh6T90JUy3YbPpP8bdajxNBeo/GJaJwThX6j9qTqhGJKnqP7wGx8sP++o/Dr/lUPtM6z9gdwTW5p7rP7IvI1vS8Os/BOhB4L1C7D9WoGBlqZTsP6dYf+qU5uw/+RCeb4A47T9Lybz0a4rtP52B23lX3O0/7zn6/kIu7j9B8hiELoDuP5OqNwka0u4/5WJWjgUk7z83G3UT8XXvP4nTk5jcx+8/7kXZDuQM8D8WomjR2TXwP0D+95PPXvA/aFqHVsWH8D+RthYZu7DwP7oSptuw2fA/4241nqYC8T8My8RgnCvxPzUnVCOSVPE/XoPj5Yd98T+H33KofabxP7A7Amtzz/E/2ZeRLWn48T8C9CDwXiHyPytQsLJUSvI/VKw/dUpz8j98CM83QJzyP6ZkXvo1xfI/zsDtvCvu8j8=\",\"dtype\":\"float64\",\"order\":\"little\",\"shape\":[100]},\"right\":{\"__ndarray__\":\"BMljELoAyj9Lqt4kaEjLP5OLWTkWkMw/22zUTcTXzT8iTk9ich/PP7UXZTuQM9A/WYiiRWfX0D/9+N9PPnvRP6BpHVoVH9I/RNpaZOzC0j/oSphuw2bTP4y71XiaCtQ/MCwTg3Gu1D/UnFCNSFLVP3gNjpcf9tU/HH7LofaZ1j/A7giszT3XP2NfRrak4dc/B9CDwHuF2D+rQMHKUinZP06x/tQpzdk/8iE83wBx2j+Wknnp1xTbPzoDt/OuuNs/3nP0/YVc3D+C5DEIXQDdPyZVbxI0pN0/ysWsHAtI3j9tNuom4uvePxGnJzG5j98/2ouyHcgZ4D8sRNGis2vgP3787yefveA/0LQOrYoP4T8ibS0ydmHhP3QlTLdhs+E/xt1qPE0F4j8YlonBOFfiP2pOqEYkqeI/vAbHyw/74j8Ov+VQ+0zjP2B3BNbmnuM/si8jW9Lw4z8E6EHgvULkP1agYGWplOQ/qFh/6pTm5D/6EJ5vgDjlP0vJvPRriuU/nYHbeVfc5T/vOfr+Qi7mP0HyGIQugOY/k6o3CRrS5j/lYlaOBSTnPzcbdRPxdec/idOTmNzH5z/bi7IdyBnoPy1E0aKza+g/fvzvJ5+96D/QtA6tig/pPyJtLTJ2Yek/dCVMt2Gz6T/G3Wo8TQXqPxiWicE4V+o/ak6oRiSp6j+8BsfLD/vqPw6/5VD7TOs/YHcE1uae6z+yLyNb0vDrPwToQeC9Quw/VqBgZamU7D+nWH/qlObsP/kQnm+AOO0/S8m89GuK7T+dgdt5V9ztP+85+v5CLu4/QfIYhC6A7j+TqjcJGtLuP+ViVo4FJO8/Nxt1E/F17z+J05OY3MfvP+5F2Q7kDPA/FqJo0dk18D9A/veTz17wP2hah1bFh/A/kbYWGbuw8D+6EqbbsNnwP+NuNZ6mAvE/DMvEYJwr8T81J1QjklTxP16D4+WHffE/h99yqH2m8T+wOwJrc8/xP9mXkS1p+PE/AvQg8F4h8j8rULCyVEryP1SsP3VKc/I/fAjPN0Cc8j+mZF76NcXyP87A7bwr7vI/+Bx9fyEX8z8=\",\"dtype\":\"float64\",\"order\":\"little\",\"shape\":[100]},\"top\":{\"__ndarray__\":\"AAAAAAAAAAAAAAAAAAAAAAAAAAAAAAAAAAAAAAAAAAAAAAAAAAAAAAAAAAAAAAAAAAAAAAAAAAAAAAAAAAAAAAAAAAAAAAAAAAAAAAAAAAAAAAAAAAAAAAAAAAAAAAAAAAAAAAAAAAAAAAAAAAAAAAAAAAAAAAAAAAAAAAAAAAAAAAAAAAAAAAAAAAAAAAAAAAAAAAAAAAAAAAAAAAAAAAAAAAAAAAAAAAAAAAAAAAAAAAAAAAAAAAAAAAAAAAAAAAAAAAAAAAAAAAAAAAAAAAAAAAAAAAAAAAAAAAAAAAAAAAAAAAAAAAAAAAAAAAAAAAAAAAAAAAAAAAAAAAAAAAAAAAAAAAAAAAAAAAAAAAAAAAAAAAAAAAAAAAAAAAAAAAAAAAAAAAAAAAAAAAAAAAAAAAAAAAAAAAAAAAAAAAAAAAAAAAAAAAAAAAAAAAAAAAAAAAAAAAAAAAAAAAAAAAAAAAAAAAAAAAAAAAAAAAAAAAAAAAAAAAAAAAAAAAAAAAAAAAAAAAAAAAAAAAAAAPr//////1hAAAAAAAAAAAAAAAAAAAAAAAAAAAAAAAAAAAAAAAAAAAAAAAAAAAAAAAAAAAAAAAAAAAAAAAAAAAAAAAAAAAAAAAAAAAAAAAAAAAAAAAAAAAAAAAAAAAAAAAAAAAAAAAAAAAAAAAAAAAAAAAAAAAAAAAAAAAAAAAAAAAAAAAAAAAAAAAAAAAAAAAAAAAAAAAAAAAAAAAAAAAAAAAAAAAAAAAAAAAAAAAAAAAAAAAAAAAAAAAAAAAAAAAAAAAAAAAAAAAAAAAAAAAAAAAAAAAAAAAAAAAAAAAAAAAAAAAAAAAAAAAAAAAAAAAAAAAAAAAAAAAAAAAAAAAAAAAAAAAAAAAAAAAAAAAAAAAAAAAAAAAAAAAAAAAAAAAAAAAAAAAAAAAAAAAAAAAAAAAAAAAAAAAAAAAAAAAAAAAAAAAAAAAAAAAAAAAAAAAAAAAAAAAAAAAAAAAAAAAAAAAAAAAAAAAAAAAAAAAAAAAAAAAAAAAAAAAAAAAAAAAAAAAAAAAAAAAAAAAAAAAA=\",\"dtype\":\"float64\",\"order\":\"little\",\"shape\":[100]}},\"selected\":{\"id\":\"5258\"},\"selection_policy\":{\"id\":\"5257\"}},\"id\":\"5046\",\"type\":\"ColumnDataSource\"},{\"attributes\":{},\"id\":\"5030\",\"type\":\"BasicTicker\"},{\"attributes\":{\"axis\":{\"id\":\"5029\"},\"coordinates\":null,\"group\":null,\"ticker\":null},\"id\":\"5032\",\"type\":\"Grid\"},{\"attributes\":{\"coordinates\":null,\"formatter\":{\"id\":\"5255\"},\"group\":null,\"major_label_policy\":{\"id\":\"5256\"},\"ticker\":{\"id\":\"5030\"}},\"id\":\"5029\",\"type\":\"LinearAxis\"},{\"attributes\":{},\"id\":\"5257\",\"type\":\"UnionRenderers\"},{\"attributes\":{},\"id\":\"5023\",\"type\":\"DataRange1d\"},{\"attributes\":{\"coordinates\":null,\"group\":null,\"text\":\"KW Terms Ratios Affinity Distribution\"},\"id\":\"5019\",\"type\":\"Title\"},{\"attributes\":{},\"id\":\"5027\",\"type\":\"LinearScale\"},{\"attributes\":{},\"id\":\"5255\",\"type\":\"BasicTickFormatter\"},{\"attributes\":{},\"id\":\"5258\",\"type\":\"Selection\"},{\"attributes\":{},\"id\":\"5037\",\"type\":\"PanTool\"},{\"attributes\":{},\"id\":\"5039\",\"type\":\"ResetTool\"},{\"attributes\":{},\"id\":\"5025\",\"type\":\"LinearScale\"},{\"attributes\":{\"coordinates\":null,\"data_source\":{\"id\":\"5046\"},\"glyph\":{\"id\":\"5047\"},\"group\":null,\"hover_glyph\":null,\"muted_glyph\":{\"id\":\"5049\"},\"nonselection_glyph\":{\"id\":\"5048\"},\"view\":{\"id\":\"5051\"}},\"id\":\"5050\",\"type\":\"GlyphRenderer\"},{\"attributes\":{},\"id\":\"5038\",\"type\":\"WheelZoomTool\"},{\"attributes\":{},\"id\":\"5256\",\"type\":\"AllLabels\"},{\"attributes\":{},\"id\":\"5034\",\"type\":\"BasicTicker\"},{\"attributes\":{\"bottom\":{\"value\":0},\"fill_alpha\":{\"value\":0.1},\"fill_color\":{\"value\":\"#1f77b4\"},\"hatch_alpha\":{\"value\":0.1},\"left\":{\"field\":\"left\"},\"line_alpha\":{\"value\":0.1},\"line_color\":{\"value\":\"#555555\"},\"right\":{\"field\":\"right\"},\"top\":{\"field\":\"top\"}},\"id\":\"5048\",\"type\":\"Quad\"},{\"attributes\":{},\"id\":\"5040\",\"type\":\"SaveTool\"},{\"attributes\":{},\"id\":\"5253\",\"type\":\"AllLabels\"},{\"attributes\":{\"tools\":[{\"id\":\"5037\"},{\"id\":\"5038\"},{\"id\":\"5039\"},{\"id\":\"5040\"}]},\"id\":\"5041\",\"type\":\"Toolbar\"}],\"root_ids\":[\"5018\"]},\"title\":\"Bokeh Application\",\"version\":\"2.4.2\"}};\n",
       "  const render_items = [{\"docid\":\"e3dbfb23-8c1f-4955-84d9-ce167f6b1af7\",\"root_ids\":[\"5018\"],\"roots\":{\"5018\":\"d01cc4e7-dadd-4e0a-b937-e30eaa0646ec\"}}];\n",
       "  root.Bokeh.embed.embed_items_notebook(docs_json, render_items);\n",
       "\n",
       "  }\n",
       "  if (root.Bokeh !== undefined) {\n",
       "    embed_document(root);\n",
       "  } else {\n",
       "    let attempts = 0;\n",
       "    const timer = setInterval(function(root) {\n",
       "      if (root.Bokeh !== undefined) {\n",
       "        clearInterval(timer);\n",
       "        embed_document(root);\n",
       "      } else {\n",
       "        attempts++;\n",
       "        if (attempts > 100) {\n",
       "          clearInterval(timer);\n",
       "          console.log(\"Bokeh: ERROR: Unable to run BokehJS code because BokehJS library is missing\");\n",
       "        }\n",
       "      }\n",
       "    }, 10, root)\n",
       "  }\n",
       "})(window);"
      ],
      "application/vnd.bokehjs_exec.v0+json": ""
     },
     "metadata": {
      "application/vnd.bokehjs_exec.v0+json": {
       "id": "5018"
      }
     },
     "output_type": "display_data"
    },
    {
     "data": {
      "text/html": [
       "\n",
       "\n",
       "\n",
       "\n",
       "\n",
       "\n",
       "  <div class=\"bk-root\" id=\"6ef503ce-290d-4509-87c7-b4c84e5e2689\" data-root-id=\"5304\"></div>\n"
      ]
     },
     "metadata": {},
     "output_type": "display_data"
    },
    {
     "data": {
      "application/javascript": [
       "(function(root) {\n",
       "  function embed_document(root) {\n",
       "    \n",
       "  const docs_json = {\"87402fe7-b6c6-4a45-88a2-18f42008d2f4\":{\"defs\":[],\"roots\":{\"references\":[{\"attributes\":{\"below\":[{\"id\":\"5315\"}],\"center\":[{\"id\":\"5318\"},{\"id\":\"5322\"}],\"left\":[{\"id\":\"5319\"}],\"renderers\":[{\"id\":\"5336\"}],\"title\":{\"id\":\"5305\"},\"toolbar\":{\"id\":\"5327\"},\"toolbar_location\":\"above\",\"x_range\":{\"id\":\"5307\"},\"x_scale\":{\"id\":\"5311\"},\"y_range\":{\"id\":\"5309\"},\"y_scale\":{\"id\":\"5313\"}},\"id\":\"5304\",\"subtype\":\"Figure\",\"type\":\"Plot\"},{\"attributes\":{},\"id\":\"5326\",\"type\":\"SaveTool\"},{\"attributes\":{\"axis\":{\"id\":\"5319\"},\"coordinates\":null,\"dimension\":1,\"group\":null,\"ticker\":null},\"id\":\"5322\",\"type\":\"Grid\"},{\"attributes\":{\"axis\":{\"id\":\"5315\"},\"coordinates\":null,\"group\":null,\"ticker\":null},\"id\":\"5318\",\"type\":\"Grid\"},{\"attributes\":{\"bottom\":{\"value\":0},\"fill_alpha\":{\"value\":0.1},\"fill_color\":{\"value\":\"#1f77b4\"},\"hatch_alpha\":{\"value\":0.1},\"left\":{\"field\":\"left\"},\"line_alpha\":{\"value\":0.1},\"line_color\":{\"value\":\"#555555\"},\"right\":{\"field\":\"right\"},\"top\":{\"field\":\"top\"}},\"id\":\"5334\",\"type\":\"Quad\"},{\"attributes\":{},\"id\":\"5307\",\"type\":\"DataRange1d\"},{\"attributes\":{},\"id\":\"5548\",\"type\":\"AllLabels\"},{\"attributes\":{},\"id\":\"5551\",\"type\":\"AllLabels\"},{\"attributes\":{\"bottom\":{\"value\":0},\"fill_color\":{\"value\":\"#1f77b4\"},\"left\":{\"field\":\"left\"},\"line_color\":{\"value\":\"#555555\"},\"right\":{\"field\":\"right\"},\"top\":{\"field\":\"top\"}},\"id\":\"5333\",\"type\":\"Quad\"},{\"attributes\":{\"coordinates\":null,\"data_source\":{\"id\":\"5332\"},\"glyph\":{\"id\":\"5333\"},\"group\":null,\"hover_glyph\":null,\"muted_glyph\":{\"id\":\"5335\"},\"nonselection_glyph\":{\"id\":\"5334\"},\"view\":{\"id\":\"5337\"}},\"id\":\"5336\",\"type\":\"GlyphRenderer\"},{\"attributes\":{},\"id\":\"5325\",\"type\":\"ResetTool\"},{\"attributes\":{\"bottom\":{\"value\":0},\"fill_alpha\":{\"value\":0.2},\"fill_color\":{\"value\":\"#1f77b4\"},\"hatch_alpha\":{\"value\":0.2},\"left\":{\"field\":\"left\"},\"line_alpha\":{\"value\":0.2},\"line_color\":{\"value\":\"#555555\"},\"right\":{\"field\":\"right\"},\"top\":{\"field\":\"top\"}},\"id\":\"5335\",\"type\":\"Quad\"},{\"attributes\":{\"data\":{\"left\":{\"__ndarray__\":\"vOfo+wu5yD8EyWMQugDKP0uq3iRoSMs/k4tZORaQzD/bbNRNxNfNPyJOT2JyH88/tRdlO5Az0D9ZiKJFZ9fQP/34308+e9E/oGkdWhUf0j9E2lpk7MLSP+hKmG7DZtM/jLvVeJoK1D8wLBODca7UP9ScUI1IUtU/eA2Olx/21T8cfsuh9pnWP8DuCKzNPdc/Y19GtqTh1z8H0IPAe4XYP6tAwcpSKdk/TrH+1CnN2T/yITzfAHHaP5aSeenXFNs/OgO386642z/ec/T9hVzcP4LkMQhdAN0/JlVvEjSk3T/KxawcC0jeP2026ibi694/EacnMbmP3z/ai7IdyBngPyxE0aKza+A/fvzvJ5+94D/QtA6tig/hPyJtLTJ2YeE/dCVMt2Gz4T/G3Wo8TQXiPxiWicE4V+I/ak6oRiSp4j+8BsfLD/viPw6/5VD7TOM/YHcE1uae4z+yLyNb0vDjPwToQeC9QuQ/VqBgZamU5D+oWH/qlObkP/oQnm+AOOU/S8m89GuK5T+dgdt5V9zlP+85+v5CLuY/QfIYhC6A5j+TqjcJGtLmP+ViVo4FJOc/Nxt1E/F15z+J05OY3MfnP9uLsh3IGeg/LUTRorNr6D9+/O8nn73oP9C0Dq2KD+k/Im0tMnZh6T90JUy3YbPpP8bdajxNBeo/GJaJwThX6j9qTqhGJKnqP7wGx8sP++o/Dr/lUPtM6z9gdwTW5p7rP7IvI1vS8Os/BOhB4L1C7D9WoGBlqZTsP6dYf+qU5uw/+RCeb4A47T9Lybz0a4rtP52B23lX3O0/7zn6/kIu7j9B8hiELoDuP5OqNwka0u4/5WJWjgUk7z83G3UT8XXvP4nTk5jcx+8/7kXZDuQM8D8WomjR2TXwP0D+95PPXvA/aFqHVsWH8D+RthYZu7DwP7oSptuw2fA/4241nqYC8T8My8RgnCvxPzUnVCOSVPE/XoPj5Yd98T+H33KofabxP7A7Amtzz/E/2ZeRLWn48T8C9CDwXiHyPytQsLJUSvI/VKw/dUpz8j98CM83QJzyP6ZkXvo1xfI/zsDtvCvu8j8=\",\"dtype\":\"float64\",\"order\":\"little\",\"shape\":[100]},\"right\":{\"__ndarray__\":\"BMljELoAyj9Lqt4kaEjLP5OLWTkWkMw/22zUTcTXzT8iTk9ich/PP7UXZTuQM9A/WYiiRWfX0D/9+N9PPnvRP6BpHVoVH9I/RNpaZOzC0j/oSphuw2bTP4y71XiaCtQ/MCwTg3Gu1D/UnFCNSFLVP3gNjpcf9tU/HH7LofaZ1j/A7giszT3XP2NfRrak4dc/B9CDwHuF2D+rQMHKUinZP06x/tQpzdk/8iE83wBx2j+Wknnp1xTbPzoDt/OuuNs/3nP0/YVc3D+C5DEIXQDdPyZVbxI0pN0/ysWsHAtI3j9tNuom4uvePxGnJzG5j98/2ouyHcgZ4D8sRNGis2vgP3787yefveA/0LQOrYoP4T8ibS0ydmHhP3QlTLdhs+E/xt1qPE0F4j8YlonBOFfiP2pOqEYkqeI/vAbHyw/74j8Ov+VQ+0zjP2B3BNbmnuM/si8jW9Lw4z8E6EHgvULkP1agYGWplOQ/qFh/6pTm5D/6EJ5vgDjlP0vJvPRriuU/nYHbeVfc5T/vOfr+Qi7mP0HyGIQugOY/k6o3CRrS5j/lYlaOBSTnPzcbdRPxdec/idOTmNzH5z/bi7IdyBnoPy1E0aKza+g/fvzvJ5+96D/QtA6tig/pPyJtLTJ2Yek/dCVMt2Gz6T/G3Wo8TQXqPxiWicE4V+o/ak6oRiSp6j+8BsfLD/vqPw6/5VD7TOs/YHcE1uae6z+yLyNb0vDrPwToQeC9Quw/VqBgZamU7D+nWH/qlObsP/kQnm+AOO0/S8m89GuK7T+dgdt5V9ztP+85+v5CLu4/QfIYhC6A7j+TqjcJGtLuP+ViVo4FJO8/Nxt1E/F17z+J05OY3MfvP+5F2Q7kDPA/FqJo0dk18D9A/veTz17wP2hah1bFh/A/kbYWGbuw8D+6EqbbsNnwP+NuNZ6mAvE/DMvEYJwr8T81J1QjklTxP16D4+WHffE/h99yqH2m8T+wOwJrc8/xP9mXkS1p+PE/AvQg8F4h8j8rULCyVEryP1SsP3VKc/I/fAjPN0Cc8j+mZF76NcXyP87A7bwr7vI/+Bx9fyEX8z8=\",\"dtype\":\"float64\",\"order\":\"little\",\"shape\":[100]},\"top\":{\"__ndarray__\":\"AAAAAAAAAAAAAAAAAAAAAAAAAAAAAAAAAAAAAAAAAAAAAAAAAAAAAAAAAAAAAAAAAAAAAAAAAAAAAAAAAAAAAAAAAAAAAAAAAAAAAAAAAAAAAAAAAAAAAAAAAAAAAAAAAAAAAAAAAAAAAAAAAAAAAAAAAAAAAAAAAAAAAAAAAAAAAAAAAAAAAAAAAAAAAAAAAAAAAAAAAAAAAAAAAAAAAAAAAAAAAAAAAAAAAAAAAAAAAAAAAAAAAAAAAAAAAAAAAAAAAAAAAAAAAAAAAAAAAAAAAAAAAAAAAAAAAAAAAAAAAAAAAAAAAAAAAAAAAAAAAAAAAAAAAAAAAAAAAAAAAAAAAAAAAAAAAAAAAAAAAAAAAAAAAAAAAAAAAAAAAAAAAAAAAAAAAAAAAAAAAAAAAAAAAAAAAAAAAAAAAAAAAAAAAAAAAAAAAAAAAAAAAAAAAAAAAAAAAAAAAAAAAAAAAAAAAAAAAAAAAAAAAAAAAAAAAAAAAAAAAAAAAAAAAAAAAAAAAAAAAAAAAAAAAAAAAPr//////1hAAAAAAAAAAAAAAAAAAAAAAAAAAAAAAAAAAAAAAAAAAAAAAAAAAAAAAAAAAAAAAAAAAAAAAAAAAAAAAAAAAAAAAAAAAAAAAAAAAAAAAAAAAAAAAAAAAAAAAAAAAAAAAAAAAAAAAAAAAAAAAAAAAAAAAAAAAAAAAAAAAAAAAAAAAAAAAAAAAAAAAAAAAAAAAAAAAAAAAAAAAAAAAAAAAAAAAAAAAAAAAAAAAAAAAAAAAAAAAAAAAAAAAAAAAAAAAAAAAAAAAAAAAAAAAAAAAAAAAAAAAAAAAAAAAAAAAAAAAAAAAAAAAAAAAAAAAAAAAAAAAAAAAAAAAAAAAAAAAAAAAAAAAAAAAAAAAAAAAAAAAAAAAAAAAAAAAAAAAAAAAAAAAAAAAAAAAAAAAAAAAAAAAAAAAAAAAAAAAAAAAAAAAAAAAAAAAAAAAAAAAAAAAAAAAAAAAAAAAAAAAAAAAAAAAAAAAAAAAAAAAAAAAAAAAAAAAAAAAAAAAAAAAAAAAAAAAAAAAAAAAAA=\",\"dtype\":\"float64\",\"order\":\"little\",\"shape\":[100]}},\"selected\":{\"id\":\"5553\"},\"selection_policy\":{\"id\":\"5552\"}},\"id\":\"5332\",\"type\":\"ColumnDataSource\"},{\"attributes\":{},\"id\":\"5323\",\"type\":\"PanTool\"},{\"attributes\":{},\"id\":\"5313\",\"type\":\"LinearScale\"},{\"attributes\":{\"coordinates\":null,\"group\":null,\"text\":\"LY Terms Ratios Affinity Distribution\"},\"id\":\"5305\",\"type\":\"Title\"},{\"attributes\":{},\"id\":\"5316\",\"type\":\"BasicTicker\"},{\"attributes\":{},\"id\":\"5311\",\"type\":\"LinearScale\"},{\"attributes\":{\"coordinates\":null,\"formatter\":{\"id\":\"5547\"},\"group\":null,\"major_label_policy\":{\"id\":\"5548\"},\"ticker\":{\"id\":\"5320\"}},\"id\":\"5319\",\"type\":\"LinearAxis\"},{\"attributes\":{},\"id\":\"5324\",\"type\":\"WheelZoomTool\"},{\"attributes\":{\"source\":{\"id\":\"5332\"}},\"id\":\"5337\",\"type\":\"CDSView\"},{\"attributes\":{},\"id\":\"5550\",\"type\":\"BasicTickFormatter\"},{\"attributes\":{},\"id\":\"5552\",\"type\":\"UnionRenderers\"},{\"attributes\":{\"coordinates\":null,\"formatter\":{\"id\":\"5550\"},\"group\":null,\"major_label_policy\":{\"id\":\"5551\"},\"ticker\":{\"id\":\"5316\"}},\"id\":\"5315\",\"type\":\"LinearAxis\"},{\"attributes\":{},\"id\":\"5309\",\"type\":\"DataRange1d\"},{\"attributes\":{},\"id\":\"5547\",\"type\":\"BasicTickFormatter\"},{\"attributes\":{},\"id\":\"5320\",\"type\":\"BasicTicker\"},{\"attributes\":{},\"id\":\"5553\",\"type\":\"Selection\"},{\"attributes\":{\"tools\":[{\"id\":\"5323\"},{\"id\":\"5324\"},{\"id\":\"5325\"},{\"id\":\"5326\"}]},\"id\":\"5327\",\"type\":\"Toolbar\"}],\"root_ids\":[\"5304\"]},\"title\":\"Bokeh Application\",\"version\":\"2.4.2\"}};\n",
       "  const render_items = [{\"docid\":\"87402fe7-b6c6-4a45-88a2-18f42008d2f4\",\"root_ids\":[\"5304\"],\"roots\":{\"5304\":\"6ef503ce-290d-4509-87c7-b4c84e5e2689\"}}];\n",
       "  root.Bokeh.embed.embed_items_notebook(docs_json, render_items);\n",
       "\n",
       "  }\n",
       "  if (root.Bokeh !== undefined) {\n",
       "    embed_document(root);\n",
       "  } else {\n",
       "    let attempts = 0;\n",
       "    const timer = setInterval(function(root) {\n",
       "      if (root.Bokeh !== undefined) {\n",
       "        clearInterval(timer);\n",
       "        embed_document(root);\n",
       "      } else {\n",
       "        attempts++;\n",
       "        if (attempts > 100) {\n",
       "          clearInterval(timer);\n",
       "          console.log(\"Bokeh: ERROR: Unable to run BokehJS code because BokehJS library is missing\");\n",
       "        }\n",
       "      }\n",
       "    }, 10, root)\n",
       "  }\n",
       "})(window);"
      ],
      "application/vnd.bokehjs_exec.v0+json": ""
     },
     "metadata": {
      "application/vnd.bokehjs_exec.v0+json": {
       "id": "5304"
      }
     },
     "output_type": "display_data"
    },
    {
     "data": {
      "text/html": [
       "\n",
       "\n",
       "\n",
       "\n",
       "\n",
       "\n",
       "  <div class=\"bk-root\" id=\"7c439d3c-3b96-40f3-b26e-d94415c4c3f1\" data-root-id=\"5599\"></div>\n"
      ]
     },
     "metadata": {},
     "output_type": "display_data"
    },
    {
     "data": {
      "application/javascript": [
       "(function(root) {\n",
       "  function embed_document(root) {\n",
       "    \n",
       "  const docs_json = {\"2d1591dc-a7eb-478e-adf3-5aa70cbc2363\":{\"defs\":[],\"roots\":{\"references\":[{\"attributes\":{\"below\":[{\"id\":\"5610\"}],\"center\":[{\"id\":\"5613\"},{\"id\":\"5617\"}],\"left\":[{\"id\":\"5614\"}],\"renderers\":[{\"id\":\"5631\"}],\"title\":{\"id\":\"5600\"},\"toolbar\":{\"id\":\"5622\"},\"toolbar_location\":\"above\",\"x_range\":{\"id\":\"5602\"},\"x_scale\":{\"id\":\"5606\"},\"y_range\":{\"id\":\"5604\"},\"y_scale\":{\"id\":\"5608\"}},\"id\":\"5599\",\"subtype\":\"Figure\",\"type\":\"Plot\"},{\"attributes\":{\"bottom\":{\"value\":0},\"fill_color\":{\"value\":\"#1f77b4\"},\"left\":{\"field\":\"left\"},\"line_color\":{\"value\":\"#555555\"},\"right\":{\"field\":\"right\"},\"top\":{\"field\":\"top\"}},\"id\":\"5628\",\"type\":\"Quad\"},{\"attributes\":{},\"id\":\"5602\",\"type\":\"DataRange1d\"},{\"attributes\":{},\"id\":\"5618\",\"type\":\"PanTool\"},{\"attributes\":{\"coordinates\":null,\"group\":null,\"text\":\"AE Terms Ratios Affinity Distribution\"},\"id\":\"5600\",\"type\":\"Title\"},{\"attributes\":{},\"id\":\"5606\",\"type\":\"LinearScale\"},{\"attributes\":{\"coordinates\":null,\"formatter\":{\"id\":\"5854\"},\"group\":null,\"major_label_policy\":{\"id\":\"5855\"},\"ticker\":{\"id\":\"5611\"}},\"id\":\"5610\",\"type\":\"LinearAxis\"},{\"attributes\":{},\"id\":\"5611\",\"type\":\"BasicTicker\"},{\"attributes\":{\"source\":{\"id\":\"5627\"}},\"id\":\"5632\",\"type\":\"CDSView\"},{\"attributes\":{\"tools\":[{\"id\":\"5618\"},{\"id\":\"5619\"},{\"id\":\"5620\"},{\"id\":\"5621\"}]},\"id\":\"5622\",\"type\":\"Toolbar\"},{\"attributes\":{\"bottom\":{\"value\":0},\"fill_alpha\":{\"value\":0.2},\"fill_color\":{\"value\":\"#1f77b4\"},\"hatch_alpha\":{\"value\":0.2},\"left\":{\"field\":\"left\"},\"line_alpha\":{\"value\":0.2},\"line_color\":{\"value\":\"#555555\"},\"right\":{\"field\":\"right\"},\"top\":{\"field\":\"top\"}},\"id\":\"5630\",\"type\":\"Quad\"},{\"attributes\":{\"data\":{\"left\":{\"__ndarray__\":\"vOfo+wu5yD8EyWMQugDKP0uq3iRoSMs/k4tZORaQzD/bbNRNxNfNPyJOT2JyH88/tRdlO5Az0D9ZiKJFZ9fQP/34308+e9E/oGkdWhUf0j9E2lpk7MLSP+hKmG7DZtM/jLvVeJoK1D8wLBODca7UP9ScUI1IUtU/eA2Olx/21T8cfsuh9pnWP8DuCKzNPdc/Y19GtqTh1z8H0IPAe4XYP6tAwcpSKdk/TrH+1CnN2T/yITzfAHHaP5aSeenXFNs/OgO386642z/ec/T9hVzcP4LkMQhdAN0/JlVvEjSk3T/KxawcC0jeP2026ibi694/EacnMbmP3z/ai7IdyBngPyxE0aKza+A/fvzvJ5+94D/QtA6tig/hPyJtLTJ2YeE/dCVMt2Gz4T/G3Wo8TQXiPxiWicE4V+I/ak6oRiSp4j+8BsfLD/viPw6/5VD7TOM/YHcE1uae4z+yLyNb0vDjPwToQeC9QuQ/VqBgZamU5D+oWH/qlObkP/oQnm+AOOU/S8m89GuK5T+dgdt5V9zlP+85+v5CLuY/QfIYhC6A5j+TqjcJGtLmP+ViVo4FJOc/Nxt1E/F15z+J05OY3MfnP9uLsh3IGeg/LUTRorNr6D9+/O8nn73oP9C0Dq2KD+k/Im0tMnZh6T90JUy3YbPpP8bdajxNBeo/GJaJwThX6j9qTqhGJKnqP7wGx8sP++o/Dr/lUPtM6z9gdwTW5p7rP7IvI1vS8Os/BOhB4L1C7D9WoGBlqZTsP6dYf+qU5uw/+RCeb4A47T9Lybz0a4rtP52B23lX3O0/7zn6/kIu7j9B8hiELoDuP5OqNwka0u4/5WJWjgUk7z83G3UT8XXvP4nTk5jcx+8/7kXZDuQM8D8WomjR2TXwP0D+95PPXvA/aFqHVsWH8D+RthYZu7DwP7oSptuw2fA/4241nqYC8T8My8RgnCvxPzUnVCOSVPE/XoPj5Yd98T+H33KofabxP7A7Amtzz/E/2ZeRLWn48T8C9CDwXiHyPytQsLJUSvI/VKw/dUpz8j98CM83QJzyP6ZkXvo1xfI/zsDtvCvu8j8=\",\"dtype\":\"float64\",\"order\":\"little\",\"shape\":[100]},\"right\":{\"__ndarray__\":\"BMljELoAyj9Lqt4kaEjLP5OLWTkWkMw/22zUTcTXzT8iTk9ich/PP7UXZTuQM9A/WYiiRWfX0D/9+N9PPnvRP6BpHVoVH9I/RNpaZOzC0j/oSphuw2bTP4y71XiaCtQ/MCwTg3Gu1D/UnFCNSFLVP3gNjpcf9tU/HH7LofaZ1j/A7giszT3XP2NfRrak4dc/B9CDwHuF2D+rQMHKUinZP06x/tQpzdk/8iE83wBx2j+Wknnp1xTbPzoDt/OuuNs/3nP0/YVc3D+C5DEIXQDdPyZVbxI0pN0/ysWsHAtI3j9tNuom4uvePxGnJzG5j98/2ouyHcgZ4D8sRNGis2vgP3787yefveA/0LQOrYoP4T8ibS0ydmHhP3QlTLdhs+E/xt1qPE0F4j8YlonBOFfiP2pOqEYkqeI/vAbHyw/74j8Ov+VQ+0zjP2B3BNbmnuM/si8jW9Lw4z8E6EHgvULkP1agYGWplOQ/qFh/6pTm5D/6EJ5vgDjlP0vJvPRriuU/nYHbeVfc5T/vOfr+Qi7mP0HyGIQugOY/k6o3CRrS5j/lYlaOBSTnPzcbdRPxdec/idOTmNzH5z/bi7IdyBnoPy1E0aKza+g/fvzvJ5+96D/QtA6tig/pPyJtLTJ2Yek/dCVMt2Gz6T/G3Wo8TQXqPxiWicE4V+o/ak6oRiSp6j+8BsfLD/vqPw6/5VD7TOs/YHcE1uae6z+yLyNb0vDrPwToQeC9Quw/VqBgZamU7D+nWH/qlObsP/kQnm+AOO0/S8m89GuK7T+dgdt5V9ztP+85+v5CLu4/QfIYhC6A7j+TqjcJGtLuP+ViVo4FJO8/Nxt1E/F17z+J05OY3MfvP+5F2Q7kDPA/FqJo0dk18D9A/veTz17wP2hah1bFh/A/kbYWGbuw8D+6EqbbsNnwP+NuNZ6mAvE/DMvEYJwr8T81J1QjklTxP16D4+WHffE/h99yqH2m8T+wOwJrc8/xP9mXkS1p+PE/AvQg8F4h8j8rULCyVEryP1SsP3VKc/I/fAjPN0Cc8j+mZF76NcXyP87A7bwr7vI/+Bx9fyEX8z8=\",\"dtype\":\"float64\",\"order\":\"little\",\"shape\":[100]},\"top\":{\"__ndarray__\":\"AAAAAAAAAAAAAAAAAAAAAAAAAAAAAAAAAAAAAAAAAAAAAAAAAAAAAAAAAAAAAAAAAAAAAAAAAAAAAAAAAAAAAAAAAAAAAAAAAAAAAAAAAAAAAAAAAAAAAAAAAAAAAAAAAAAAAAAAAAAAAAAAAAAAAAAAAAAAAAAAAAAAAAAAAAAAAAAAAAAAAAAAAAAAAAAAAAAAAAAAAAAAAAAAAAAAAAAAAAAAAAAAAAAAAAAAAAAAAAAAAAAAAAAAAAAAAAAAAAAAAAAAAAAAAAAAAAAAAAAAAAAAAAAAAAAAAAAAAAAAAAAAAAAAAAAAAAAAAAAAAAAAAAAAAAAAAAAAAAAAAAAAAAAAAAAAAAAAAAAAAAAAAAAAAAAAAAAAAAAAAAAAAAAAAAAAAAAAAAAAAAAAAAAAAAAAAAAAAAAAAAAAAAAAAAAAAAAAAAAAAAAAAAAAAAAAAAAAAAAAAAAAAAAAAAAAAAAAAAAAAAAAAAAAAAAAAAAAAAAAAAAAAAAAAAAAAAAAAAAAAAAAAAAAAAAAAPr//////1hAAAAAAAAAAAAAAAAAAAAAAAAAAAAAAAAAAAAAAAAAAAAAAAAAAAAAAAAAAAAAAAAAAAAAAAAAAAAAAAAAAAAAAAAAAAAAAAAAAAAAAAAAAAAAAAAAAAAAAAAAAAAAAAAAAAAAAAAAAAAAAAAAAAAAAAAAAAAAAAAAAAAAAAAAAAAAAAAAAAAAAAAAAAAAAAAAAAAAAAAAAAAAAAAAAAAAAAAAAAAAAAAAAAAAAAAAAAAAAAAAAAAAAAAAAAAAAAAAAAAAAAAAAAAAAAAAAAAAAAAAAAAAAAAAAAAAAAAAAAAAAAAAAAAAAAAAAAAAAAAAAAAAAAAAAAAAAAAAAAAAAAAAAAAAAAAAAAAAAAAAAAAAAAAAAAAAAAAAAAAAAAAAAAAAAAAAAAAAAAAAAAAAAAAAAAAAAAAAAAAAAAAAAAAAAAAAAAAAAAAAAAAAAAAAAAAAAAAAAAAAAAAAAAAAAAAAAAAAAAAAAAAAAAAAAAAAAAAAAAAAAAAAAAAAAAAAAAAAAAAAAAA=\",\"dtype\":\"float64\",\"order\":\"little\",\"shape\":[100]}},\"selected\":{\"id\":\"5857\"},\"selection_policy\":{\"id\":\"5856\"}},\"id\":\"5627\",\"type\":\"ColumnDataSource\"},{\"attributes\":{},\"id\":\"5608\",\"type\":\"LinearScale\"},{\"attributes\":{\"axis\":{\"id\":\"5614\"},\"coordinates\":null,\"dimension\":1,\"group\":null,\"ticker\":null},\"id\":\"5617\",\"type\":\"Grid\"},{\"attributes\":{},\"id\":\"5851\",\"type\":\"BasicTickFormatter\"},{\"attributes\":{},\"id\":\"5620\",\"type\":\"ResetTool\"},{\"attributes\":{},\"id\":\"5854\",\"type\":\"BasicTickFormatter\"},{\"attributes\":{\"bottom\":{\"value\":0},\"fill_alpha\":{\"value\":0.1},\"fill_color\":{\"value\":\"#1f77b4\"},\"hatch_alpha\":{\"value\":0.1},\"left\":{\"field\":\"left\"},\"line_alpha\":{\"value\":0.1},\"line_color\":{\"value\":\"#555555\"},\"right\":{\"field\":\"right\"},\"top\":{\"field\":\"top\"}},\"id\":\"5629\",\"type\":\"Quad\"},{\"attributes\":{\"axis\":{\"id\":\"5610\"},\"coordinates\":null,\"group\":null,\"ticker\":null},\"id\":\"5613\",\"type\":\"Grid\"},{\"attributes\":{},\"id\":\"5852\",\"type\":\"AllLabels\"},{\"attributes\":{},\"id\":\"5857\",\"type\":\"Selection\"},{\"attributes\":{\"coordinates\":null,\"formatter\":{\"id\":\"5851\"},\"group\":null,\"major_label_policy\":{\"id\":\"5852\"},\"ticker\":{\"id\":\"5615\"}},\"id\":\"5614\",\"type\":\"LinearAxis\"},{\"attributes\":{\"coordinates\":null,\"data_source\":{\"id\":\"5627\"},\"glyph\":{\"id\":\"5628\"},\"group\":null,\"hover_glyph\":null,\"muted_glyph\":{\"id\":\"5630\"},\"nonselection_glyph\":{\"id\":\"5629\"},\"view\":{\"id\":\"5632\"}},\"id\":\"5631\",\"type\":\"GlyphRenderer\"},{\"attributes\":{},\"id\":\"5604\",\"type\":\"DataRange1d\"},{\"attributes\":{},\"id\":\"5615\",\"type\":\"BasicTicker\"},{\"attributes\":{},\"id\":\"5619\",\"type\":\"WheelZoomTool\"},{\"attributes\":{},\"id\":\"5855\",\"type\":\"AllLabels\"},{\"attributes\":{},\"id\":\"5856\",\"type\":\"UnionRenderers\"},{\"attributes\":{},\"id\":\"5621\",\"type\":\"SaveTool\"}],\"root_ids\":[\"5599\"]},\"title\":\"Bokeh Application\",\"version\":\"2.4.2\"}};\n",
       "  const render_items = [{\"docid\":\"2d1591dc-a7eb-478e-adf3-5aa70cbc2363\",\"root_ids\":[\"5599\"],\"roots\":{\"5599\":\"7c439d3c-3b96-40f3-b26e-d94415c4c3f1\"}}];\n",
       "  root.Bokeh.embed.embed_items_notebook(docs_json, render_items);\n",
       "\n",
       "  }\n",
       "  if (root.Bokeh !== undefined) {\n",
       "    embed_document(root);\n",
       "  } else {\n",
       "    let attempts = 0;\n",
       "    const timer = setInterval(function(root) {\n",
       "      if (root.Bokeh !== undefined) {\n",
       "        clearInterval(timer);\n",
       "        embed_document(root);\n",
       "      } else {\n",
       "        attempts++;\n",
       "        if (attempts > 100) {\n",
       "          clearInterval(timer);\n",
       "          console.log(\"Bokeh: ERROR: Unable to run BokehJS code because BokehJS library is missing\");\n",
       "        }\n",
       "      }\n",
       "    }, 10, root)\n",
       "  }\n",
       "})(window);"
      ],
      "application/vnd.bokehjs_exec.v0+json": ""
     },
     "metadata": {
      "application/vnd.bokehjs_exec.v0+json": {
       "id": "5599"
      }
     },
     "output_type": "display_data"
    },
    {
     "data": {
      "text/html": [
       "\n",
       "\n",
       "\n",
       "\n",
       "\n",
       "\n",
       "  <div class=\"bk-root\" id=\"4bf0eb96-5f10-4278-ac4c-cb5234a62080\" data-root-id=\"5903\"></div>\n"
      ]
     },
     "metadata": {},
     "output_type": "display_data"
    },
    {
     "data": {
      "application/javascript": [
       "(function(root) {\n",
       "  function embed_document(root) {\n",
       "    \n",
       "  const docs_json = {\"65f7aced-77b9-4905-a1be-5fbc5307ca26\":{\"defs\":[],\"roots\":{\"references\":[{\"attributes\":{\"below\":[{\"id\":\"5914\"}],\"center\":[{\"id\":\"5917\"},{\"id\":\"5921\"}],\"left\":[{\"id\":\"5918\"}],\"renderers\":[{\"id\":\"5935\"}],\"title\":{\"id\":\"5904\"},\"toolbar\":{\"id\":\"5926\"},\"toolbar_location\":\"above\",\"x_range\":{\"id\":\"5906\"},\"x_scale\":{\"id\":\"5910\"},\"y_range\":{\"id\":\"5908\"},\"y_scale\":{\"id\":\"5912\"}},\"id\":\"5903\",\"subtype\":\"Figure\",\"type\":\"Plot\"},{\"attributes\":{\"coordinates\":null,\"group\":null,\"text\":\"EG Terms Ratios Affinity Distribution\"},\"id\":\"5904\",\"type\":\"Title\"},{\"attributes\":{},\"id\":\"5908\",\"type\":\"DataRange1d\"},{\"attributes\":{},\"id\":\"5922\",\"type\":\"PanTool\"},{\"attributes\":{\"coordinates\":null,\"formatter\":{\"id\":\"6167\"},\"group\":null,\"major_label_policy\":{\"id\":\"6168\"},\"ticker\":{\"id\":\"5915\"}},\"id\":\"5914\",\"type\":\"LinearAxis\"},{\"attributes\":{},\"id\":\"5924\",\"type\":\"ResetTool\"},{\"attributes\":{},\"id\":\"5925\",\"type\":\"SaveTool\"},{\"attributes\":{\"tools\":[{\"id\":\"5922\"},{\"id\":\"5923\"},{\"id\":\"5924\"},{\"id\":\"5925\"}]},\"id\":\"5926\",\"type\":\"Toolbar\"},{\"attributes\":{},\"id\":\"5912\",\"type\":\"LinearScale\"},{\"attributes\":{},\"id\":\"6168\",\"type\":\"AllLabels\"},{\"attributes\":{},\"id\":\"6165\",\"type\":\"AllLabels\"},{\"attributes\":{},\"id\":\"5906\",\"type\":\"DataRange1d\"},{\"attributes\":{},\"id\":\"6164\",\"type\":\"BasicTickFormatter\"},{\"attributes\":{\"source\":{\"id\":\"5931\"}},\"id\":\"5936\",\"type\":\"CDSView\"},{\"attributes\":{\"bottom\":{\"value\":0},\"fill_alpha\":{\"value\":0.1},\"fill_color\":{\"value\":\"#1f77b4\"},\"hatch_alpha\":{\"value\":0.1},\"left\":{\"field\":\"left\"},\"line_alpha\":{\"value\":0.1},\"line_color\":{\"value\":\"#555555\"},\"right\":{\"field\":\"right\"},\"top\":{\"field\":\"top\"}},\"id\":\"5933\",\"type\":\"Quad\"},{\"attributes\":{},\"id\":\"5910\",\"type\":\"LinearScale\"},{\"attributes\":{\"coordinates\":null,\"data_source\":{\"id\":\"5931\"},\"glyph\":{\"id\":\"5932\"},\"group\":null,\"hover_glyph\":null,\"muted_glyph\":{\"id\":\"5934\"},\"nonselection_glyph\":{\"id\":\"5933\"},\"view\":{\"id\":\"5936\"}},\"id\":\"5935\",\"type\":\"GlyphRenderer\"},{\"attributes\":{\"coordinates\":null,\"formatter\":{\"id\":\"6164\"},\"group\":null,\"major_label_policy\":{\"id\":\"6165\"},\"ticker\":{\"id\":\"5919\"}},\"id\":\"5918\",\"type\":\"LinearAxis\"},{\"attributes\":{\"data\":{\"left\":{\"__ndarray__\":\"vOfo+wu5yD8EyWMQugDKP0uq3iRoSMs/k4tZORaQzD/bbNRNxNfNPyJOT2JyH88/tRdlO5Az0D9ZiKJFZ9fQP/34308+e9E/oGkdWhUf0j9E2lpk7MLSP+hKmG7DZtM/jLvVeJoK1D8wLBODca7UP9ScUI1IUtU/eA2Olx/21T8cfsuh9pnWP8DuCKzNPdc/Y19GtqTh1z8H0IPAe4XYP6tAwcpSKdk/TrH+1CnN2T/yITzfAHHaP5aSeenXFNs/OgO386642z/ec/T9hVzcP4LkMQhdAN0/JlVvEjSk3T/KxawcC0jeP2026ibi694/EacnMbmP3z/ai7IdyBngPyxE0aKza+A/fvzvJ5+94D/QtA6tig/hPyJtLTJ2YeE/dCVMt2Gz4T/G3Wo8TQXiPxiWicE4V+I/ak6oRiSp4j+8BsfLD/viPw6/5VD7TOM/YHcE1uae4z+yLyNb0vDjPwToQeC9QuQ/VqBgZamU5D+oWH/qlObkP/oQnm+AOOU/S8m89GuK5T+dgdt5V9zlP+85+v5CLuY/QfIYhC6A5j+TqjcJGtLmP+ViVo4FJOc/Nxt1E/F15z+J05OY3MfnP9uLsh3IGeg/LUTRorNr6D9+/O8nn73oP9C0Dq2KD+k/Im0tMnZh6T90JUy3YbPpP8bdajxNBeo/GJaJwThX6j9qTqhGJKnqP7wGx8sP++o/Dr/lUPtM6z9gdwTW5p7rP7IvI1vS8Os/BOhB4L1C7D9WoGBlqZTsP6dYf+qU5uw/+RCeb4A47T9Lybz0a4rtP52B23lX3O0/7zn6/kIu7j9B8hiELoDuP5OqNwka0u4/5WJWjgUk7z83G3UT8XXvP4nTk5jcx+8/7kXZDuQM8D8WomjR2TXwP0D+95PPXvA/aFqHVsWH8D+RthYZu7DwP7oSptuw2fA/4241nqYC8T8My8RgnCvxPzUnVCOSVPE/XoPj5Yd98T+H33KofabxP7A7Amtzz/E/2ZeRLWn48T8C9CDwXiHyPytQsLJUSvI/VKw/dUpz8j98CM83QJzyP6ZkXvo1xfI/zsDtvCvu8j8=\",\"dtype\":\"float64\",\"order\":\"little\",\"shape\":[100]},\"right\":{\"__ndarray__\":\"BMljELoAyj9Lqt4kaEjLP5OLWTkWkMw/22zUTcTXzT8iTk9ich/PP7UXZTuQM9A/WYiiRWfX0D/9+N9PPnvRP6BpHVoVH9I/RNpaZOzC0j/oSphuw2bTP4y71XiaCtQ/MCwTg3Gu1D/UnFCNSFLVP3gNjpcf9tU/HH7LofaZ1j/A7giszT3XP2NfRrak4dc/B9CDwHuF2D+rQMHKUinZP06x/tQpzdk/8iE83wBx2j+Wknnp1xTbPzoDt/OuuNs/3nP0/YVc3D+C5DEIXQDdPyZVbxI0pN0/ysWsHAtI3j9tNuom4uvePxGnJzG5j98/2ouyHcgZ4D8sRNGis2vgP3787yefveA/0LQOrYoP4T8ibS0ydmHhP3QlTLdhs+E/xt1qPE0F4j8YlonBOFfiP2pOqEYkqeI/vAbHyw/74j8Ov+VQ+0zjP2B3BNbmnuM/si8jW9Lw4z8E6EHgvULkP1agYGWplOQ/qFh/6pTm5D/6EJ5vgDjlP0vJvPRriuU/nYHbeVfc5T/vOfr+Qi7mP0HyGIQugOY/k6o3CRrS5j/lYlaOBSTnPzcbdRPxdec/idOTmNzH5z/bi7IdyBnoPy1E0aKza+g/fvzvJ5+96D/QtA6tig/pPyJtLTJ2Yek/dCVMt2Gz6T/G3Wo8TQXqPxiWicE4V+o/ak6oRiSp6j+8BsfLD/vqPw6/5VD7TOs/YHcE1uae6z+yLyNb0vDrPwToQeC9Quw/VqBgZamU7D+nWH/qlObsP/kQnm+AOO0/S8m89GuK7T+dgdt5V9ztP+85+v5CLu4/QfIYhC6A7j+TqjcJGtLuP+ViVo4FJO8/Nxt1E/F17z+J05OY3MfvP+5F2Q7kDPA/FqJo0dk18D9A/veTz17wP2hah1bFh/A/kbYWGbuw8D+6EqbbsNnwP+NuNZ6mAvE/DMvEYJwr8T81J1QjklTxP16D4+WHffE/h99yqH2m8T+wOwJrc8/xP9mXkS1p+PE/AvQg8F4h8j8rULCyVEryP1SsP3VKc/I/fAjPN0Cc8j+mZF76NcXyP87A7bwr7vI/+Bx9fyEX8z8=\",\"dtype\":\"float64\",\"order\":\"little\",\"shape\":[100]},\"top\":{\"__ndarray__\":\"AAAAAAAAAAAAAAAAAAAAAAAAAAAAAAAAAAAAAAAAAAAAAAAAAAAAAAAAAAAAAAAAAAAAAAAAAAAAAAAAAAAAAAAAAAAAAAAAAAAAAAAAAAAAAAAAAAAAAAAAAAAAAAAAAAAAAAAAAAAAAAAAAAAAAAAAAAAAAAAAAAAAAAAAAAAAAAAAAAAAAAAAAAAAAAAAAAAAAAAAAAAAAAAAAAAAAAAAAAAAAAAAAAAAAAAAAAAAAAAAAAAAAAAAAAAAAAAAAAAAAAAAAAAAAAAAAAAAAAAAAAAAAAAAAAAAAAAAAAAAAAAAAAAAAAAAAAAAAAAAAAAAAAAAAAAAAAAAAAAAAAAAAAAAAAAAAAAAAAAAAAAAAAAAAAAAAAAAAAAAAAAAAAAAAAAAAAAAAAAAAAAAAAAAAAAAAAAAAAAAAAAAAAAAAAAAAAAAAAAAAAAAAAAAAAAAAAAAAAAAAAAAAAAAAAAAAAAAAAAAAAAAAAAAAAAAAAAAAAAAAAAAAAAAAAAAAAAAAAAAAAAAAAAAAAAAAPn//////1hAAAAAAAAAAAAAAAAAAAAAAAAAAAAAAAAAAAAAAAAAAAAAAAAAAAAAAAAAAAAAAAAAAAAAAAAAAAAAAAAAAAAAAAAAAAAAAAAAAAAAAAAAAAAAAAAAAAAAAAAAAAAAAAAAAAAAAAAAAAAAAAAAAAAAAAAAAAAAAAAAAAAAAAAAAAAAAAAAAAAAAAAAAAAAAAAAAAAAAAAAAAAAAAAAAAAAAAAAAAAAAAAAAAAAAAAAAAAAAAAAAAAAAAAAAAAAAAAAAAAAAAAAAAAAAAAAAAAAAAAAAAAAAAAAAAAAAAAAAAAAAAAAAAAAAAAAAAAAAAAAAAAAAAAAAAAAAAAAAAAAAAAAAAAAAAAAAAAAAAAAAAAAAAAAAAAAAAAAAAAAAAAAAAAAAAAAAAAAAAAAAAAAAAAAAAAAAAAAAAAAAAAAAAAAAAAAAAAAAAAAAAAAAAAAAAAAAAAAAAAAAAAAAAAAAAAAAAAAAAAAAAAAAAAAAAAAAAAAAAAAAAAAAAAAAAAAAAAAAAAAAAA=\",\"dtype\":\"float64\",\"order\":\"little\",\"shape\":[100]}},\"selected\":{\"id\":\"6170\"},\"selection_policy\":{\"id\":\"6169\"}},\"id\":\"5931\",\"type\":\"ColumnDataSource\"},{\"attributes\":{\"bottom\":{\"value\":0},\"fill_alpha\":{\"value\":0.2},\"fill_color\":{\"value\":\"#1f77b4\"},\"hatch_alpha\":{\"value\":0.2},\"left\":{\"field\":\"left\"},\"line_alpha\":{\"value\":0.2},\"line_color\":{\"value\":\"#555555\"},\"right\":{\"field\":\"right\"},\"top\":{\"field\":\"top\"}},\"id\":\"5934\",\"type\":\"Quad\"},{\"attributes\":{},\"id\":\"5915\",\"type\":\"BasicTicker\"},{\"attributes\":{},\"id\":\"6170\",\"type\":\"Selection\"},{\"attributes\":{\"axis\":{\"id\":\"5914\"},\"coordinates\":null,\"group\":null,\"ticker\":null},\"id\":\"5917\",\"type\":\"Grid\"},{\"attributes\":{\"axis\":{\"id\":\"5918\"},\"coordinates\":null,\"dimension\":1,\"group\":null,\"ticker\":null},\"id\":\"5921\",\"type\":\"Grid\"},{\"attributes\":{},\"id\":\"5919\",\"type\":\"BasicTicker\"},{\"attributes\":{},\"id\":\"6169\",\"type\":\"UnionRenderers\"},{\"attributes\":{},\"id\":\"6167\",\"type\":\"BasicTickFormatter\"},{\"attributes\":{\"bottom\":{\"value\":0},\"fill_color\":{\"value\":\"#1f77b4\"},\"left\":{\"field\":\"left\"},\"line_color\":{\"value\":\"#555555\"},\"right\":{\"field\":\"right\"},\"top\":{\"field\":\"top\"}},\"id\":\"5932\",\"type\":\"Quad\"},{\"attributes\":{},\"id\":\"5923\",\"type\":\"WheelZoomTool\"}],\"root_ids\":[\"5903\"]},\"title\":\"Bokeh Application\",\"version\":\"2.4.2\"}};\n",
       "  const render_items = [{\"docid\":\"65f7aced-77b9-4905-a1be-5fbc5307ca26\",\"root_ids\":[\"5903\"],\"roots\":{\"5903\":\"4bf0eb96-5f10-4278-ac4c-cb5234a62080\"}}];\n",
       "  root.Bokeh.embed.embed_items_notebook(docs_json, render_items);\n",
       "\n",
       "  }\n",
       "  if (root.Bokeh !== undefined) {\n",
       "    embed_document(root);\n",
       "  } else {\n",
       "    let attempts = 0;\n",
       "    const timer = setInterval(function(root) {\n",
       "      if (root.Bokeh !== undefined) {\n",
       "        clearInterval(timer);\n",
       "        embed_document(root);\n",
       "      } else {\n",
       "        attempts++;\n",
       "        if (attempts > 100) {\n",
       "          clearInterval(timer);\n",
       "          console.log(\"Bokeh: ERROR: Unable to run BokehJS code because BokehJS library is missing\");\n",
       "        }\n",
       "      }\n",
       "    }, 10, root)\n",
       "  }\n",
       "})(window);"
      ],
      "application/vnd.bokehjs_exec.v0+json": ""
     },
     "metadata": {
      "application/vnd.bokehjs_exec.v0+json": {
       "id": "5903"
      }
     },
     "output_type": "display_data"
    },
    {
     "data": {
      "text/html": [
       "\n",
       "\n",
       "\n",
       "\n",
       "\n",
       "\n",
       "  <div class=\"bk-root\" id=\"1d472235-6bef-45fc-97a9-18d2d4e03760\" data-root-id=\"6216\"></div>\n"
      ]
     },
     "metadata": {},
     "output_type": "display_data"
    },
    {
     "data": {
      "application/javascript": [
       "(function(root) {\n",
       "  function embed_document(root) {\n",
       "    \n",
       "  const docs_json = {\"a0ba8f11-1bbc-4b93-9c8b-87f198428233\":{\"defs\":[],\"roots\":{\"references\":[{\"attributes\":{\"below\":[{\"id\":\"6227\"}],\"center\":[{\"id\":\"6230\"},{\"id\":\"6234\"}],\"left\":[{\"id\":\"6231\"}],\"renderers\":[{\"id\":\"6248\"}],\"title\":{\"id\":\"6217\"},\"toolbar\":{\"id\":\"6239\"},\"toolbar_location\":\"above\",\"x_range\":{\"id\":\"6219\"},\"x_scale\":{\"id\":\"6223\"},\"y_range\":{\"id\":\"6221\"},\"y_scale\":{\"id\":\"6225\"}},\"id\":\"6216\",\"subtype\":\"Figure\",\"type\":\"Plot\"},{\"attributes\":{},\"id\":\"6490\",\"type\":\"AllLabels\"},{\"attributes\":{},\"id\":\"6223\",\"type\":\"LinearScale\"},{\"attributes\":{},\"id\":\"6221\",\"type\":\"DataRange1d\"},{\"attributes\":{\"bottom\":{\"value\":0},\"fill_alpha\":{\"value\":0.1},\"fill_color\":{\"value\":\"#1f77b4\"},\"hatch_alpha\":{\"value\":0.1},\"left\":{\"field\":\"left\"},\"line_alpha\":{\"value\":0.1},\"line_color\":{\"value\":\"#555555\"},\"right\":{\"field\":\"right\"},\"top\":{\"field\":\"top\"}},\"id\":\"6246\",\"type\":\"Quad\"},{\"attributes\":{},\"id\":\"6228\",\"type\":\"BasicTicker\"},{\"attributes\":{},\"id\":\"6237\",\"type\":\"ResetTool\"},{\"attributes\":{\"coordinates\":null,\"formatter\":{\"id\":\"6486\"},\"group\":null,\"major_label_policy\":{\"id\":\"6487\"},\"ticker\":{\"id\":\"6232\"}},\"id\":\"6231\",\"type\":\"LinearAxis\"},{\"attributes\":{},\"id\":\"6236\",\"type\":\"WheelZoomTool\"},{\"attributes\":{},\"id\":\"6491\",\"type\":\"UnionRenderers\"},{\"attributes\":{},\"id\":\"6219\",\"type\":\"DataRange1d\"},{\"attributes\":{\"source\":{\"id\":\"6244\"}},\"id\":\"6249\",\"type\":\"CDSView\"},{\"attributes\":{},\"id\":\"6492\",\"type\":\"Selection\"},{\"attributes\":{\"data\":{\"left\":{\"__ndarray__\":\"vOfo+wu5yD8EyWMQugDKP0uq3iRoSMs/k4tZORaQzD/bbNRNxNfNPyJOT2JyH88/tRdlO5Az0D9ZiKJFZ9fQP/34308+e9E/oGkdWhUf0j9E2lpk7MLSP+hKmG7DZtM/jLvVeJoK1D8wLBODca7UP9ScUI1IUtU/eA2Olx/21T8cfsuh9pnWP8DuCKzNPdc/Y19GtqTh1z8H0IPAe4XYP6tAwcpSKdk/TrH+1CnN2T/yITzfAHHaP5aSeenXFNs/OgO386642z/ec/T9hVzcP4LkMQhdAN0/JlVvEjSk3T/KxawcC0jeP2026ibi694/EacnMbmP3z/ai7IdyBngPyxE0aKza+A/fvzvJ5+94D/QtA6tig/hPyJtLTJ2YeE/dCVMt2Gz4T/G3Wo8TQXiPxiWicE4V+I/ak6oRiSp4j+8BsfLD/viPw6/5VD7TOM/YHcE1uae4z+yLyNb0vDjPwToQeC9QuQ/VqBgZamU5D+oWH/qlObkP/oQnm+AOOU/S8m89GuK5T+dgdt5V9zlP+85+v5CLuY/QfIYhC6A5j+TqjcJGtLmP+ViVo4FJOc/Nxt1E/F15z+J05OY3MfnP9uLsh3IGeg/LUTRorNr6D9+/O8nn73oP9C0Dq2KD+k/Im0tMnZh6T90JUy3YbPpP8bdajxNBeo/GJaJwThX6j9qTqhGJKnqP7wGx8sP++o/Dr/lUPtM6z9gdwTW5p7rP7IvI1vS8Os/BOhB4L1C7D9WoGBlqZTsP6dYf+qU5uw/+RCeb4A47T9Lybz0a4rtP52B23lX3O0/7zn6/kIu7j9B8hiELoDuP5OqNwka0u4/5WJWjgUk7z83G3UT8XXvP4nTk5jcx+8/7kXZDuQM8D8WomjR2TXwP0D+95PPXvA/aFqHVsWH8D+RthYZu7DwP7oSptuw2fA/4241nqYC8T8My8RgnCvxPzUnVCOSVPE/XoPj5Yd98T+H33KofabxP7A7Amtzz/E/2ZeRLWn48T8C9CDwXiHyPytQsLJUSvI/VKw/dUpz8j98CM83QJzyP6ZkXvo1xfI/zsDtvCvu8j8=\",\"dtype\":\"float64\",\"order\":\"little\",\"shape\":[100]},\"right\":{\"__ndarray__\":\"BMljELoAyj9Lqt4kaEjLP5OLWTkWkMw/22zUTcTXzT8iTk9ich/PP7UXZTuQM9A/WYiiRWfX0D/9+N9PPnvRP6BpHVoVH9I/RNpaZOzC0j/oSphuw2bTP4y71XiaCtQ/MCwTg3Gu1D/UnFCNSFLVP3gNjpcf9tU/HH7LofaZ1j/A7giszT3XP2NfRrak4dc/B9CDwHuF2D+rQMHKUinZP06x/tQpzdk/8iE83wBx2j+Wknnp1xTbPzoDt/OuuNs/3nP0/YVc3D+C5DEIXQDdPyZVbxI0pN0/ysWsHAtI3j9tNuom4uvePxGnJzG5j98/2ouyHcgZ4D8sRNGis2vgP3787yefveA/0LQOrYoP4T8ibS0ydmHhP3QlTLdhs+E/xt1qPE0F4j8YlonBOFfiP2pOqEYkqeI/vAbHyw/74j8Ov+VQ+0zjP2B3BNbmnuM/si8jW9Lw4z8E6EHgvULkP1agYGWplOQ/qFh/6pTm5D/6EJ5vgDjlP0vJvPRriuU/nYHbeVfc5T/vOfr+Qi7mP0HyGIQugOY/k6o3CRrS5j/lYlaOBSTnPzcbdRPxdec/idOTmNzH5z/bi7IdyBnoPy1E0aKza+g/fvzvJ5+96D/QtA6tig/pPyJtLTJ2Yek/dCVMt2Gz6T/G3Wo8TQXqPxiWicE4V+o/ak6oRiSp6j+8BsfLD/vqPw6/5VD7TOs/YHcE1uae6z+yLyNb0vDrPwToQeC9Quw/VqBgZamU7D+nWH/qlObsP/kQnm+AOO0/S8m89GuK7T+dgdt5V9ztP+85+v5CLu4/QfIYhC6A7j+TqjcJGtLuP+ViVo4FJO8/Nxt1E/F17z+J05OY3MfvP+5F2Q7kDPA/FqJo0dk18D9A/veTz17wP2hah1bFh/A/kbYWGbuw8D+6EqbbsNnwP+NuNZ6mAvE/DMvEYJwr8T81J1QjklTxP16D4+WHffE/h99yqH2m8T+wOwJrc8/xP9mXkS1p+PE/AvQg8F4h8j8rULCyVEryP1SsP3VKc/I/fAjPN0Cc8j+mZF76NcXyP87A7bwr7vI/+Bx9fyEX8z8=\",\"dtype\":\"float64\",\"order\":\"little\",\"shape\":[100]},\"top\":{\"__ndarray__\":\"AAAAAAAAAAAAAAAAAAAAAAAAAAAAAAAAAAAAAAAAAAAAAAAAAAAAAAAAAAAAAAAAAAAAAAAAAAAAAAAAAAAAAAAAAAAAAAAAAAAAAAAAAAAAAAAAAAAAAAAAAAAAAAAAAAAAAAAAAAAAAAAAAAAAAAAAAAAAAAAAAAAAAAAAAAAAAAAAAAAAAAAAAAAAAAAAAAAAAAAAAAAAAAAAAAAAAAAAAAAAAAAAAAAAAAAAAAAAAAAAAAAAAAAAAAAAAAAAAAAAAAAAAAAAAAAAAAAAAAAAAAAAAAAAAAAAAAAAAAAAAAAAAAAAAAAAAAAAAAAAAAAAAAAAAAAAAAAAAAAAAAAAAAAAAAAAAAAAAAAAAAAAAAAAAAAAAAAAAAAAAAAAAAAAAAAAAAAAAAAAAAAAAAAAAAAAAAAAAAAAAAAAAAAAAAAAAAAAAAAAAAAAAAAAAAAAAAAAAAAAAAAAAAAAAAAAAAAAAAAAAAAAAAAAAAAAAAAAAAAAAAAAAAAAAAAAAAAAAAAAAAAAAAAAAAAAAPr//////1hAAAAAAAAAAAAAAAAAAAAAAAAAAAAAAAAAAAAAAAAAAAAAAAAAAAAAAAAAAAAAAAAAAAAAAAAAAAAAAAAAAAAAAAAAAAAAAAAAAAAAAAAAAAAAAAAAAAAAAAAAAAAAAAAAAAAAAAAAAAAAAAAAAAAAAAAAAAAAAAAAAAAAAAAAAAAAAAAAAAAAAAAAAAAAAAAAAAAAAAAAAAAAAAAAAAAAAAAAAAAAAAAAAAAAAAAAAAAAAAAAAAAAAAAAAAAAAAAAAAAAAAAAAAAAAAAAAAAAAAAAAAAAAAAAAAAAAAAAAAAAAAAAAAAAAAAAAAAAAAAAAAAAAAAAAAAAAAAAAAAAAAAAAAAAAAAAAAAAAAAAAAAAAAAAAAAAAAAAAAAAAAAAAAAAAAAAAAAAAAAAAAAAAAAAAAAAAAAAAAAAAAAAAAAAAAAAAAAAAAAAAAAAAAAAAAAAAAAAAAAAAAAAAAAAAAAAAAAAAAAAAAAAAAAAAAAAAAAAAAAAAAAAAAAAAAAAAAAAAAAAAAA=\",\"dtype\":\"float64\",\"order\":\"little\",\"shape\":[100]}},\"selected\":{\"id\":\"6492\"},\"selection_policy\":{\"id\":\"6491\"}},\"id\":\"6244\",\"type\":\"ColumnDataSource\"},{\"attributes\":{},\"id\":\"6238\",\"type\":\"SaveTool\"},{\"attributes\":{\"coordinates\":null,\"group\":null,\"text\":\"SA Terms Ratios Affinity Distribution\"},\"id\":\"6217\",\"type\":\"Title\"},{\"attributes\":{},\"id\":\"6225\",\"type\":\"LinearScale\"},{\"attributes\":{\"coordinates\":null,\"data_source\":{\"id\":\"6244\"},\"glyph\":{\"id\":\"6245\"},\"group\":null,\"hover_glyph\":null,\"muted_glyph\":{\"id\":\"6247\"},\"nonselection_glyph\":{\"id\":\"6246\"},\"view\":{\"id\":\"6249\"}},\"id\":\"6248\",\"type\":\"GlyphRenderer\"},{\"attributes\":{\"bottom\":{\"value\":0},\"fill_color\":{\"value\":\"#1f77b4\"},\"left\":{\"field\":\"left\"},\"line_color\":{\"value\":\"#555555\"},\"right\":{\"field\":\"right\"},\"top\":{\"field\":\"top\"}},\"id\":\"6245\",\"type\":\"Quad\"},{\"attributes\":{},\"id\":\"6235\",\"type\":\"PanTool\"},{\"attributes\":{\"axis\":{\"id\":\"6227\"},\"coordinates\":null,\"group\":null,\"ticker\":null},\"id\":\"6230\",\"type\":\"Grid\"},{\"attributes\":{\"coordinates\":null,\"formatter\":{\"id\":\"6489\"},\"group\":null,\"major_label_policy\":{\"id\":\"6490\"},\"ticker\":{\"id\":\"6228\"}},\"id\":\"6227\",\"type\":\"LinearAxis\"},{\"attributes\":{\"tools\":[{\"id\":\"6235\"},{\"id\":\"6236\"},{\"id\":\"6237\"},{\"id\":\"6238\"}]},\"id\":\"6239\",\"type\":\"Toolbar\"},{\"attributes\":{},\"id\":\"6486\",\"type\":\"BasicTickFormatter\"},{\"attributes\":{\"bottom\":{\"value\":0},\"fill_alpha\":{\"value\":0.2},\"fill_color\":{\"value\":\"#1f77b4\"},\"hatch_alpha\":{\"value\":0.2},\"left\":{\"field\":\"left\"},\"line_alpha\":{\"value\":0.2},\"line_color\":{\"value\":\"#555555\"},\"right\":{\"field\":\"right\"},\"top\":{\"field\":\"top\"}},\"id\":\"6247\",\"type\":\"Quad\"},{\"attributes\":{},\"id\":\"6487\",\"type\":\"AllLabels\"},{\"attributes\":{\"axis\":{\"id\":\"6231\"},\"coordinates\":null,\"dimension\":1,\"group\":null,\"ticker\":null},\"id\":\"6234\",\"type\":\"Grid\"},{\"attributes\":{},\"id\":\"6489\",\"type\":\"BasicTickFormatter\"},{\"attributes\":{},\"id\":\"6232\",\"type\":\"BasicTicker\"}],\"root_ids\":[\"6216\"]},\"title\":\"Bokeh Application\",\"version\":\"2.4.2\"}};\n",
       "  const render_items = [{\"docid\":\"a0ba8f11-1bbc-4b93-9c8b-87f198428233\",\"root_ids\":[\"6216\"],\"roots\":{\"6216\":\"1d472235-6bef-45fc-97a9-18d2d4e03760\"}}];\n",
       "  root.Bokeh.embed.embed_items_notebook(docs_json, render_items);\n",
       "\n",
       "  }\n",
       "  if (root.Bokeh !== undefined) {\n",
       "    embed_document(root);\n",
       "  } else {\n",
       "    let attempts = 0;\n",
       "    const timer = setInterval(function(root) {\n",
       "      if (root.Bokeh !== undefined) {\n",
       "        clearInterval(timer);\n",
       "        embed_document(root);\n",
       "      } else {\n",
       "        attempts++;\n",
       "        if (attempts > 100) {\n",
       "          clearInterval(timer);\n",
       "          console.log(\"Bokeh: ERROR: Unable to run BokehJS code because BokehJS library is missing\");\n",
       "        }\n",
       "      }\n",
       "    }, 10, root)\n",
       "  }\n",
       "})(window);"
      ],
      "application/vnd.bokehjs_exec.v0+json": ""
     },
     "metadata": {
      "application/vnd.bokehjs_exec.v0+json": {
       "id": "6216"
      }
     },
     "output_type": "display_data"
    },
    {
     "data": {
      "text/html": [
       "\n",
       "\n",
       "\n",
       "\n",
       "\n",
       "\n",
       "  <div class=\"bk-root\" id=\"6b9a552f-f24b-4151-8d36-169a5a97500b\" data-root-id=\"6538\"></div>\n"
      ]
     },
     "metadata": {},
     "output_type": "display_data"
    },
    {
     "data": {
      "application/javascript": [
       "(function(root) {\n",
       "  function embed_document(root) {\n",
       "    \n",
       "  const docs_json = {\"d8dbec59-98a2-47bb-8d0c-318e1d2f8213\":{\"defs\":[],\"roots\":{\"references\":[{\"attributes\":{\"below\":[{\"id\":\"6549\"}],\"center\":[{\"id\":\"6552\"},{\"id\":\"6556\"}],\"left\":[{\"id\":\"6553\"}],\"renderers\":[{\"id\":\"6570\"}],\"title\":{\"id\":\"6539\"},\"toolbar\":{\"id\":\"6561\"},\"toolbar_location\":\"above\",\"x_range\":{\"id\":\"6541\"},\"x_scale\":{\"id\":\"6545\"},\"y_range\":{\"id\":\"6543\"},\"y_scale\":{\"id\":\"6547\"}},\"id\":\"6538\",\"subtype\":\"Figure\",\"type\":\"Plot\"},{\"attributes\":{\"bottom\":{\"value\":0},\"fill_color\":{\"value\":\"#1f77b4\"},\"left\":{\"field\":\"left\"},\"line_color\":{\"value\":\"#555555\"},\"right\":{\"field\":\"right\"},\"top\":{\"field\":\"top\"}},\"id\":\"6567\",\"type\":\"Quad\"},{\"attributes\":{\"bottom\":{\"value\":0},\"fill_alpha\":{\"value\":0.2},\"fill_color\":{\"value\":\"#1f77b4\"},\"hatch_alpha\":{\"value\":0.2},\"left\":{\"field\":\"left\"},\"line_alpha\":{\"value\":0.2},\"line_color\":{\"value\":\"#555555\"},\"right\":{\"field\":\"right\"},\"top\":{\"field\":\"top\"}},\"id\":\"6569\",\"type\":\"Quad\"},{\"attributes\":{},\"id\":\"6817\",\"type\":\"BasicTickFormatter\"},{\"attributes\":{},\"id\":\"6818\",\"type\":\"AllLabels\"},{\"attributes\":{},\"id\":\"6820\",\"type\":\"BasicTickFormatter\"},{\"attributes\":{},\"id\":\"6541\",\"type\":\"DataRange1d\"},{\"attributes\":{\"coordinates\":null,\"formatter\":{\"id\":\"6817\"},\"group\":null,\"major_label_policy\":{\"id\":\"6818\"},\"ticker\":{\"id\":\"6554\"}},\"id\":\"6553\",\"type\":\"LinearAxis\"},{\"attributes\":{},\"id\":\"6821\",\"type\":\"AllLabels\"},{\"attributes\":{\"coordinates\":null,\"formatter\":{\"id\":\"6820\"},\"group\":null,\"major_label_policy\":{\"id\":\"6821\"},\"ticker\":{\"id\":\"6550\"}},\"id\":\"6549\",\"type\":\"LinearAxis\"},{\"attributes\":{},\"id\":\"6550\",\"type\":\"BasicTicker\"},{\"attributes\":{\"coordinates\":null,\"data_source\":{\"id\":\"6566\"},\"glyph\":{\"id\":\"6567\"},\"group\":null,\"hover_glyph\":null,\"muted_glyph\":{\"id\":\"6569\"},\"nonselection_glyph\":{\"id\":\"6568\"},\"view\":{\"id\":\"6571\"}},\"id\":\"6570\",\"type\":\"GlyphRenderer\"},{\"attributes\":{},\"id\":\"6545\",\"type\":\"LinearScale\"},{\"attributes\":{\"axis\":{\"id\":\"6549\"},\"coordinates\":null,\"group\":null,\"ticker\":null},\"id\":\"6552\",\"type\":\"Grid\"},{\"attributes\":{\"axis\":{\"id\":\"6553\"},\"coordinates\":null,\"dimension\":1,\"group\":null,\"ticker\":null},\"id\":\"6556\",\"type\":\"Grid\"},{\"attributes\":{},\"id\":\"6554\",\"type\":\"BasicTicker\"},{\"attributes\":{},\"id\":\"6822\",\"type\":\"UnionRenderers\"},{\"attributes\":{},\"id\":\"6547\",\"type\":\"LinearScale\"},{\"attributes\":{},\"id\":\"6558\",\"type\":\"WheelZoomTool\"},{\"attributes\":{\"coordinates\":null,\"group\":null,\"text\":\"QA Terms Ratios Affinity Distribution\"},\"id\":\"6539\",\"type\":\"Title\"},{\"attributes\":{},\"id\":\"6557\",\"type\":\"PanTool\"},{\"attributes\":{},\"id\":\"6823\",\"type\":\"Selection\"},{\"attributes\":{},\"id\":\"6559\",\"type\":\"ResetTool\"},{\"attributes\":{\"tools\":[{\"id\":\"6557\"},{\"id\":\"6558\"},{\"id\":\"6559\"},{\"id\":\"6560\"}]},\"id\":\"6561\",\"type\":\"Toolbar\"},{\"attributes\":{},\"id\":\"6560\",\"type\":\"SaveTool\"},{\"attributes\":{},\"id\":\"6543\",\"type\":\"DataRange1d\"},{\"attributes\":{\"bottom\":{\"value\":0},\"fill_alpha\":{\"value\":0.1},\"fill_color\":{\"value\":\"#1f77b4\"},\"hatch_alpha\":{\"value\":0.1},\"left\":{\"field\":\"left\"},\"line_alpha\":{\"value\":0.1},\"line_color\":{\"value\":\"#555555\"},\"right\":{\"field\":\"right\"},\"top\":{\"field\":\"top\"}},\"id\":\"6568\",\"type\":\"Quad\"},{\"attributes\":{\"source\":{\"id\":\"6566\"}},\"id\":\"6571\",\"type\":\"CDSView\"},{\"attributes\":{\"data\":{\"left\":{\"__ndarray__\":\"vOfo+wu5yD8EyWMQugDKP0uq3iRoSMs/k4tZORaQzD/bbNRNxNfNPyJOT2JyH88/tRdlO5Az0D9ZiKJFZ9fQP/34308+e9E/oGkdWhUf0j9E2lpk7MLSP+hKmG7DZtM/jLvVeJoK1D8wLBODca7UP9ScUI1IUtU/eA2Olx/21T8cfsuh9pnWP8DuCKzNPdc/Y19GtqTh1z8H0IPAe4XYP6tAwcpSKdk/TrH+1CnN2T/yITzfAHHaP5aSeenXFNs/OgO386642z/ec/T9hVzcP4LkMQhdAN0/JlVvEjSk3T/KxawcC0jeP2026ibi694/EacnMbmP3z/ai7IdyBngPyxE0aKza+A/fvzvJ5+94D/QtA6tig/hPyJtLTJ2YeE/dCVMt2Gz4T/G3Wo8TQXiPxiWicE4V+I/ak6oRiSp4j+8BsfLD/viPw6/5VD7TOM/YHcE1uae4z+yLyNb0vDjPwToQeC9QuQ/VqBgZamU5D+oWH/qlObkP/oQnm+AOOU/S8m89GuK5T+dgdt5V9zlP+85+v5CLuY/QfIYhC6A5j+TqjcJGtLmP+ViVo4FJOc/Nxt1E/F15z+J05OY3MfnP9uLsh3IGeg/LUTRorNr6D9+/O8nn73oP9C0Dq2KD+k/Im0tMnZh6T90JUy3YbPpP8bdajxNBeo/GJaJwThX6j9qTqhGJKnqP7wGx8sP++o/Dr/lUPtM6z9gdwTW5p7rP7IvI1vS8Os/BOhB4L1C7D9WoGBlqZTsP6dYf+qU5uw/+RCeb4A47T9Lybz0a4rtP52B23lX3O0/7zn6/kIu7j9B8hiELoDuP5OqNwka0u4/5WJWjgUk7z83G3UT8XXvP4nTk5jcx+8/7kXZDuQM8D8WomjR2TXwP0D+95PPXvA/aFqHVsWH8D+RthYZu7DwP7oSptuw2fA/4241nqYC8T8My8RgnCvxPzUnVCOSVPE/XoPj5Yd98T+H33KofabxP7A7Amtzz/E/2ZeRLWn48T8C9CDwXiHyPytQsLJUSvI/VKw/dUpz8j98CM83QJzyP6ZkXvo1xfI/zsDtvCvu8j8=\",\"dtype\":\"float64\",\"order\":\"little\",\"shape\":[100]},\"right\":{\"__ndarray__\":\"BMljELoAyj9Lqt4kaEjLP5OLWTkWkMw/22zUTcTXzT8iTk9ich/PP7UXZTuQM9A/WYiiRWfX0D/9+N9PPnvRP6BpHVoVH9I/RNpaZOzC0j/oSphuw2bTP4y71XiaCtQ/MCwTg3Gu1D/UnFCNSFLVP3gNjpcf9tU/HH7LofaZ1j/A7giszT3XP2NfRrak4dc/B9CDwHuF2D+rQMHKUinZP06x/tQpzdk/8iE83wBx2j+Wknnp1xTbPzoDt/OuuNs/3nP0/YVc3D+C5DEIXQDdPyZVbxI0pN0/ysWsHAtI3j9tNuom4uvePxGnJzG5j98/2ouyHcgZ4D8sRNGis2vgP3787yefveA/0LQOrYoP4T8ibS0ydmHhP3QlTLdhs+E/xt1qPE0F4j8YlonBOFfiP2pOqEYkqeI/vAbHyw/74j8Ov+VQ+0zjP2B3BNbmnuM/si8jW9Lw4z8E6EHgvULkP1agYGWplOQ/qFh/6pTm5D/6EJ5vgDjlP0vJvPRriuU/nYHbeVfc5T/vOfr+Qi7mP0HyGIQugOY/k6o3CRrS5j/lYlaOBSTnPzcbdRPxdec/idOTmNzH5z/bi7IdyBnoPy1E0aKza+g/fvzvJ5+96D/QtA6tig/pPyJtLTJ2Yek/dCVMt2Gz6T/G3Wo8TQXqPxiWicE4V+o/ak6oRiSp6j+8BsfLD/vqPw6/5VD7TOs/YHcE1uae6z+yLyNb0vDrPwToQeC9Quw/VqBgZamU7D+nWH/qlObsP/kQnm+AOO0/S8m89GuK7T+dgdt5V9ztP+85+v5CLu4/QfIYhC6A7j+TqjcJGtLuP+ViVo4FJO8/Nxt1E/F17z+J05OY3MfvP+5F2Q7kDPA/FqJo0dk18D9A/veTz17wP2hah1bFh/A/kbYWGbuw8D+6EqbbsNnwP+NuNZ6mAvE/DMvEYJwr8T81J1QjklTxP16D4+WHffE/h99yqH2m8T+wOwJrc8/xP9mXkS1p+PE/AvQg8F4h8j8rULCyVEryP1SsP3VKc/I/fAjPN0Cc8j+mZF76NcXyP87A7bwr7vI/+Bx9fyEX8z8=\",\"dtype\":\"float64\",\"order\":\"little\",\"shape\":[100]},\"top\":{\"__ndarray__\":\"AAAAAAAAAAAAAAAAAAAAAAAAAAAAAAAAAAAAAAAAAAAAAAAAAAAAAAAAAAAAAAAAAAAAAAAAAAAAAAAAAAAAAAAAAAAAAAAAAAAAAAAAAAAAAAAAAAAAAAAAAAAAAAAAAAAAAAAAAAAAAAAAAAAAAAAAAAAAAAAAAAAAAAAAAAAAAAAAAAAAAAAAAAAAAAAAAAAAAAAAAAAAAAAAAAAAAAAAAAAAAAAAAAAAAAAAAAAAAAAAAAAAAAAAAAAAAAAAAAAAAAAAAAAAAAAAAAAAAAAAAAAAAAAAAAAAAAAAAAAAAAAAAAAAAAAAAAAAAAAAAAAAAAAAAAAAAAAAAAAAAAAAAAAAAAAAAAAAAAAAAAAAAAAAAAAAAAAAAAAAAAAAAAAAAAAAAAAAAAAAAAAAAAAAAAAAAAAAAAAAAAAAAAAAAAAAAAAAAAAAAAAAAAAAAAAAAAAAAAAAAAAAAAAAAAAAAAAAAAAAAAAAAAAAAAAAAAAAAAAAAAAAAAAAAAAAAAAAAAAAAAAAAAAAAAAAAPr//////1hAAAAAAAAAAAAAAAAAAAAAAAAAAAAAAAAAAAAAAAAAAAAAAAAAAAAAAAAAAAAAAAAAAAAAAAAAAAAAAAAAAAAAAAAAAAAAAAAAAAAAAAAAAAAAAAAAAAAAAAAAAAAAAAAAAAAAAAAAAAAAAAAAAAAAAAAAAAAAAAAAAAAAAAAAAAAAAAAAAAAAAAAAAAAAAAAAAAAAAAAAAAAAAAAAAAAAAAAAAAAAAAAAAAAAAAAAAAAAAAAAAAAAAAAAAAAAAAAAAAAAAAAAAAAAAAAAAAAAAAAAAAAAAAAAAAAAAAAAAAAAAAAAAAAAAAAAAAAAAAAAAAAAAAAAAAAAAAAAAAAAAAAAAAAAAAAAAAAAAAAAAAAAAAAAAAAAAAAAAAAAAAAAAAAAAAAAAAAAAAAAAAAAAAAAAAAAAAAAAAAAAAAAAAAAAAAAAAAAAAAAAAAAAAAAAAAAAAAAAAAAAAAAAAAAAAAAAAAAAAAAAAAAAAAAAAAAAAAAAAAAAAAAAAAAAAAAAAAAAAAAAAA=\",\"dtype\":\"float64\",\"order\":\"little\",\"shape\":[100]}},\"selected\":{\"id\":\"6823\"},\"selection_policy\":{\"id\":\"6822\"}},\"id\":\"6566\",\"type\":\"ColumnDataSource\"}],\"root_ids\":[\"6538\"]},\"title\":\"Bokeh Application\",\"version\":\"2.4.2\"}};\n",
       "  const render_items = [{\"docid\":\"d8dbec59-98a2-47bb-8d0c-318e1d2f8213\",\"root_ids\":[\"6538\"],\"roots\":{\"6538\":\"6b9a552f-f24b-4151-8d36-169a5a97500b\"}}];\n",
       "  root.Bokeh.embed.embed_items_notebook(docs_json, render_items);\n",
       "\n",
       "  }\n",
       "  if (root.Bokeh !== undefined) {\n",
       "    embed_document(root);\n",
       "  } else {\n",
       "    let attempts = 0;\n",
       "    const timer = setInterval(function(root) {\n",
       "      if (root.Bokeh !== undefined) {\n",
       "        clearInterval(timer);\n",
       "        embed_document(root);\n",
       "      } else {\n",
       "        attempts++;\n",
       "        if (attempts > 100) {\n",
       "          clearInterval(timer);\n",
       "          console.log(\"Bokeh: ERROR: Unable to run BokehJS code because BokehJS library is missing\");\n",
       "        }\n",
       "      }\n",
       "    }, 10, root)\n",
       "  }\n",
       "})(window);"
      ],
      "application/vnd.bokehjs_exec.v0+json": ""
     },
     "metadata": {
      "application/vnd.bokehjs_exec.v0+json": {
       "id": "6538"
      }
     },
     "output_type": "display_data"
    },
    {
     "data": {
      "text/html": [
       "\n",
       "\n",
       "\n",
       "\n",
       "\n",
       "\n",
       "  <div class=\"bk-root\" id=\"6b58b46d-dd64-40a9-b673-efaf13d81fe3\" data-root-id=\"6869\"></div>\n"
      ]
     },
     "metadata": {},
     "output_type": "display_data"
    },
    {
     "data": {
      "application/javascript": [
       "(function(root) {\n",
       "  function embed_document(root) {\n",
       "    \n",
       "  const docs_json = {\"0e9c020d-813d-4f56-a218-58947b5da374\":{\"defs\":[],\"roots\":{\"references\":[{\"attributes\":{\"below\":[{\"id\":\"6880\"}],\"center\":[{\"id\":\"6883\"},{\"id\":\"6887\"}],\"left\":[{\"id\":\"6884\"}],\"renderers\":[{\"id\":\"6901\"}],\"title\":{\"id\":\"6870\"},\"toolbar\":{\"id\":\"6892\"},\"toolbar_location\":\"above\",\"x_range\":{\"id\":\"6872\"},\"x_scale\":{\"id\":\"6876\"},\"y_range\":{\"id\":\"6874\"},\"y_scale\":{\"id\":\"6878\"}},\"id\":\"6869\",\"subtype\":\"Figure\",\"type\":\"Plot\"},{\"attributes\":{},\"id\":\"7162\",\"type\":\"UnionRenderers\"},{\"attributes\":{},\"id\":\"7163\",\"type\":\"Selection\"},{\"attributes\":{},\"id\":\"6890\",\"type\":\"ResetTool\"},{\"attributes\":{},\"id\":\"6891\",\"type\":\"SaveTool\"},{\"attributes\":{\"source\":{\"id\":\"6897\"}},\"id\":\"6902\",\"type\":\"CDSView\"},{\"attributes\":{\"bottom\":{\"value\":0},\"fill_color\":{\"value\":\"#1f77b4\"},\"left\":{\"field\":\"left\"},\"line_color\":{\"value\":\"#555555\"},\"right\":{\"field\":\"right\"},\"top\":{\"field\":\"top\"}},\"id\":\"6898\",\"type\":\"Quad\"},{\"attributes\":{\"bottom\":{\"value\":0},\"fill_alpha\":{\"value\":0.2},\"fill_color\":{\"value\":\"#1f77b4\"},\"hatch_alpha\":{\"value\":0.2},\"left\":{\"field\":\"left\"},\"line_alpha\":{\"value\":0.2},\"line_color\":{\"value\":\"#555555\"},\"right\":{\"field\":\"right\"},\"top\":{\"field\":\"top\"}},\"id\":\"6900\",\"type\":\"Quad\"},{\"attributes\":{},\"id\":\"6889\",\"type\":\"WheelZoomTool\"},{\"attributes\":{},\"id\":\"6885\",\"type\":\"BasicTicker\"},{\"attributes\":{},\"id\":\"6872\",\"type\":\"DataRange1d\"},{\"attributes\":{},\"id\":\"7160\",\"type\":\"BasicTickFormatter\"},{\"attributes\":{\"tools\":[{\"id\":\"6888\"},{\"id\":\"6889\"},{\"id\":\"6890\"},{\"id\":\"6891\"}]},\"id\":\"6892\",\"type\":\"Toolbar\"},{\"attributes\":{\"coordinates\":null,\"data_source\":{\"id\":\"6897\"},\"glyph\":{\"id\":\"6898\"},\"group\":null,\"hover_glyph\":null,\"muted_glyph\":{\"id\":\"6900\"},\"nonselection_glyph\":{\"id\":\"6899\"},\"view\":{\"id\":\"6902\"}},\"id\":\"6901\",\"type\":\"GlyphRenderer\"},{\"attributes\":{},\"id\":\"7158\",\"type\":\"AllLabels\"},{\"attributes\":{\"coordinates\":null,\"formatter\":{\"id\":\"7157\"},\"group\":null,\"major_label_policy\":{\"id\":\"7158\"},\"ticker\":{\"id\":\"6885\"}},\"id\":\"6884\",\"type\":\"LinearAxis\"},{\"attributes\":{},\"id\":\"7157\",\"type\":\"BasicTickFormatter\"},{\"attributes\":{\"coordinates\":null,\"group\":null,\"text\":\"MA Terms Ratios Affinity Distribution\"},\"id\":\"6870\",\"type\":\"Title\"},{\"attributes\":{},\"id\":\"6878\",\"type\":\"LinearScale\"},{\"attributes\":{},\"id\":\"6874\",\"type\":\"DataRange1d\"},{\"attributes\":{\"coordinates\":null,\"formatter\":{\"id\":\"7160\"},\"group\":null,\"major_label_policy\":{\"id\":\"7161\"},\"ticker\":{\"id\":\"6881\"}},\"id\":\"6880\",\"type\":\"LinearAxis\"},{\"attributes\":{},\"id\":\"6888\",\"type\":\"PanTool\"},{\"attributes\":{\"data\":{\"left\":{\"__ndarray__\":\"vOfo+wu5yD8EyWMQugDKP0uq3iRoSMs/k4tZORaQzD/bbNRNxNfNPyJOT2JyH88/tRdlO5Az0D9ZiKJFZ9fQP/34308+e9E/oGkdWhUf0j9E2lpk7MLSP+hKmG7DZtM/jLvVeJoK1D8wLBODca7UP9ScUI1IUtU/eA2Olx/21T8cfsuh9pnWP8DuCKzNPdc/Y19GtqTh1z8H0IPAe4XYP6tAwcpSKdk/TrH+1CnN2T/yITzfAHHaP5aSeenXFNs/OgO386642z/ec/T9hVzcP4LkMQhdAN0/JlVvEjSk3T/KxawcC0jeP2026ibi694/EacnMbmP3z/ai7IdyBngPyxE0aKza+A/fvzvJ5+94D/QtA6tig/hPyJtLTJ2YeE/dCVMt2Gz4T/G3Wo8TQXiPxiWicE4V+I/ak6oRiSp4j+8BsfLD/viPw6/5VD7TOM/YHcE1uae4z+yLyNb0vDjPwToQeC9QuQ/VqBgZamU5D+oWH/qlObkP/oQnm+AOOU/S8m89GuK5T+dgdt5V9zlP+85+v5CLuY/QfIYhC6A5j+TqjcJGtLmP+ViVo4FJOc/Nxt1E/F15z+J05OY3MfnP9uLsh3IGeg/LUTRorNr6D9+/O8nn73oP9C0Dq2KD+k/Im0tMnZh6T90JUy3YbPpP8bdajxNBeo/GJaJwThX6j9qTqhGJKnqP7wGx8sP++o/Dr/lUPtM6z9gdwTW5p7rP7IvI1vS8Os/BOhB4L1C7D9WoGBlqZTsP6dYf+qU5uw/+RCeb4A47T9Lybz0a4rtP52B23lX3O0/7zn6/kIu7j9B8hiELoDuP5OqNwka0u4/5WJWjgUk7z83G3UT8XXvP4nTk5jcx+8/7kXZDuQM8D8WomjR2TXwP0D+95PPXvA/aFqHVsWH8D+RthYZu7DwP7oSptuw2fA/4241nqYC8T8My8RgnCvxPzUnVCOSVPE/XoPj5Yd98T+H33KofabxP7A7Amtzz/E/2ZeRLWn48T8C9CDwXiHyPytQsLJUSvI/VKw/dUpz8j98CM83QJzyP6ZkXvo1xfI/zsDtvCvu8j8=\",\"dtype\":\"float64\",\"order\":\"little\",\"shape\":[100]},\"right\":{\"__ndarray__\":\"BMljELoAyj9Lqt4kaEjLP5OLWTkWkMw/22zUTcTXzT8iTk9ich/PP7UXZTuQM9A/WYiiRWfX0D/9+N9PPnvRP6BpHVoVH9I/RNpaZOzC0j/oSphuw2bTP4y71XiaCtQ/MCwTg3Gu1D/UnFCNSFLVP3gNjpcf9tU/HH7LofaZ1j/A7giszT3XP2NfRrak4dc/B9CDwHuF2D+rQMHKUinZP06x/tQpzdk/8iE83wBx2j+Wknnp1xTbPzoDt/OuuNs/3nP0/YVc3D+C5DEIXQDdPyZVbxI0pN0/ysWsHAtI3j9tNuom4uvePxGnJzG5j98/2ouyHcgZ4D8sRNGis2vgP3787yefveA/0LQOrYoP4T8ibS0ydmHhP3QlTLdhs+E/xt1qPE0F4j8YlonBOFfiP2pOqEYkqeI/vAbHyw/74j8Ov+VQ+0zjP2B3BNbmnuM/si8jW9Lw4z8E6EHgvULkP1agYGWplOQ/qFh/6pTm5D/6EJ5vgDjlP0vJvPRriuU/nYHbeVfc5T/vOfr+Qi7mP0HyGIQugOY/k6o3CRrS5j/lYlaOBSTnPzcbdRPxdec/idOTmNzH5z/bi7IdyBnoPy1E0aKza+g/fvzvJ5+96D/QtA6tig/pPyJtLTJ2Yek/dCVMt2Gz6T/G3Wo8TQXqPxiWicE4V+o/ak6oRiSp6j+8BsfLD/vqPw6/5VD7TOs/YHcE1uae6z+yLyNb0vDrPwToQeC9Quw/VqBgZamU7D+nWH/qlObsP/kQnm+AOO0/S8m89GuK7T+dgdt5V9ztP+85+v5CLu4/QfIYhC6A7j+TqjcJGtLuP+ViVo4FJO8/Nxt1E/F17z+J05OY3MfvP+5F2Q7kDPA/FqJo0dk18D9A/veTz17wP2hah1bFh/A/kbYWGbuw8D+6EqbbsNnwP+NuNZ6mAvE/DMvEYJwr8T81J1QjklTxP16D4+WHffE/h99yqH2m8T+wOwJrc8/xP9mXkS1p+PE/AvQg8F4h8j8rULCyVEryP1SsP3VKc/I/fAjPN0Cc8j+mZF76NcXyP87A7bwr7vI/+Bx9fyEX8z8=\",\"dtype\":\"float64\",\"order\":\"little\",\"shape\":[100]},\"top\":{\"__ndarray__\":\"AAAAAAAAAAAAAAAAAAAAAAAAAAAAAAAAAAAAAAAAAAAAAAAAAAAAAAAAAAAAAAAAAAAAAAAAAAAAAAAAAAAAAAAAAAAAAAAAAAAAAAAAAAAAAAAAAAAAAAAAAAAAAAAAAAAAAAAAAAAAAAAAAAAAAAAAAAAAAAAAAAAAAAAAAAAAAAAAAAAAAAAAAAAAAAAAAAAAAAAAAAAAAAAAAAAAAAAAAAAAAAAAAAAAAAAAAAAAAAAAAAAAAAAAAAAAAAAAAAAAAAAAAAAAAAAAAAAAAAAAAAAAAAAAAAAAAAAAAAAAAAAAAAAAAAAAAAAAAAAAAAAAAAAAAAAAAAAAAAAAAAAAAAAAAAAAAAAAAAAAAAAAAAAAAAAAAAAAAAAAAAAAAAAAAAAAAAAAAAAAAAAAAAAAAAAAAAAAAAAAAAAAAAAAAAAAAAAAAAAAAAAAAAAAAAAAAAAAAAAAAAAAAAAAAAAAAAAAAAAAAAAAAAAAAAAAAAAAAAAAAAAAAAAAAAAAAAAAAAAAAAAAAAAAAAAAAPr//////1hAAAAAAAAAAAAAAAAAAAAAAAAAAAAAAAAAAAAAAAAAAAAAAAAAAAAAAAAAAAAAAAAAAAAAAAAAAAAAAAAAAAAAAAAAAAAAAAAAAAAAAAAAAAAAAAAAAAAAAAAAAAAAAAAAAAAAAAAAAAAAAAAAAAAAAAAAAAAAAAAAAAAAAAAAAAAAAAAAAAAAAAAAAAAAAAAAAAAAAAAAAAAAAAAAAAAAAAAAAAAAAAAAAAAAAAAAAAAAAAAAAAAAAAAAAAAAAAAAAAAAAAAAAAAAAAAAAAAAAAAAAAAAAAAAAAAAAAAAAAAAAAAAAAAAAAAAAAAAAAAAAAAAAAAAAAAAAAAAAAAAAAAAAAAAAAAAAAAAAAAAAAAAAAAAAAAAAAAAAAAAAAAAAAAAAAAAAAAAAAAAAAAAAAAAAAAAAAAAAAAAAAAAAAAAAAAAAAAAAAAAAAAAAAAAAAAAAAAAAAAAAAAAAAAAAAAAAAAAAAAAAAAAAAAAAAAAAAAAAAAAAAAAAAAAAAAAAAAAAAAAAAA=\",\"dtype\":\"float64\",\"order\":\"little\",\"shape\":[100]}},\"selected\":{\"id\":\"7163\"},\"selection_policy\":{\"id\":\"7162\"}},\"id\":\"6897\",\"type\":\"ColumnDataSource\"},{\"attributes\":{},\"id\":\"7161\",\"type\":\"AllLabels\"},{\"attributes\":{},\"id\":\"6876\",\"type\":\"LinearScale\"},{\"attributes\":{\"bottom\":{\"value\":0},\"fill_alpha\":{\"value\":0.1},\"fill_color\":{\"value\":\"#1f77b4\"},\"hatch_alpha\":{\"value\":0.1},\"left\":{\"field\":\"left\"},\"line_alpha\":{\"value\":0.1},\"line_color\":{\"value\":\"#555555\"},\"right\":{\"field\":\"right\"},\"top\":{\"field\":\"top\"}},\"id\":\"6899\",\"type\":\"Quad\"},{\"attributes\":{\"axis\":{\"id\":\"6884\"},\"coordinates\":null,\"dimension\":1,\"group\":null,\"ticker\":null},\"id\":\"6887\",\"type\":\"Grid\"},{\"attributes\":{\"axis\":{\"id\":\"6880\"},\"coordinates\":null,\"group\":null,\"ticker\":null},\"id\":\"6883\",\"type\":\"Grid\"},{\"attributes\":{},\"id\":\"6881\",\"type\":\"BasicTicker\"}],\"root_ids\":[\"6869\"]},\"title\":\"Bokeh Application\",\"version\":\"2.4.2\"}};\n",
       "  const render_items = [{\"docid\":\"0e9c020d-813d-4f56-a218-58947b5da374\",\"root_ids\":[\"6869\"],\"roots\":{\"6869\":\"6b58b46d-dd64-40a9-b673-efaf13d81fe3\"}}];\n",
       "  root.Bokeh.embed.embed_items_notebook(docs_json, render_items);\n",
       "\n",
       "  }\n",
       "  if (root.Bokeh !== undefined) {\n",
       "    embed_document(root);\n",
       "  } else {\n",
       "    let attempts = 0;\n",
       "    const timer = setInterval(function(root) {\n",
       "      if (root.Bokeh !== undefined) {\n",
       "        clearInterval(timer);\n",
       "        embed_document(root);\n",
       "      } else {\n",
       "        attempts++;\n",
       "        if (attempts > 100) {\n",
       "          clearInterval(timer);\n",
       "          console.log(\"Bokeh: ERROR: Unable to run BokehJS code because BokehJS library is missing\");\n",
       "        }\n",
       "      }\n",
       "    }, 10, root)\n",
       "  }\n",
       "})(window);"
      ],
      "application/vnd.bokehjs_exec.v0+json": ""
     },
     "metadata": {
      "application/vnd.bokehjs_exec.v0+json": {
       "id": "6869"
      }
     },
     "output_type": "display_data"
    },
    {
     "data": {
      "text/html": [
       "\n",
       "\n",
       "\n",
       "\n",
       "\n",
       "\n",
       "  <div class=\"bk-root\" id=\"b7337a0e-9825-468b-8b55-d4c534eb518b\" data-root-id=\"7209\"></div>\n"
      ]
     },
     "metadata": {},
     "output_type": "display_data"
    },
    {
     "data": {
      "application/javascript": [
       "(function(root) {\n",
       "  function embed_document(root) {\n",
       "    \n",
       "  const docs_json = {\"fb4904b1-1535-4e0a-8dee-cf211a9562bd\":{\"defs\":[],\"roots\":{\"references\":[{\"attributes\":{\"below\":[{\"id\":\"7220\"}],\"center\":[{\"id\":\"7223\"},{\"id\":\"7227\"}],\"left\":[{\"id\":\"7224\"}],\"renderers\":[{\"id\":\"7241\"}],\"title\":{\"id\":\"7210\"},\"toolbar\":{\"id\":\"7232\"},\"toolbar_location\":\"above\",\"x_range\":{\"id\":\"7212\"},\"x_scale\":{\"id\":\"7216\"},\"y_range\":{\"id\":\"7214\"},\"y_scale\":{\"id\":\"7218\"}},\"id\":\"7209\",\"subtype\":\"Figure\",\"type\":\"Plot\"},{\"attributes\":{\"coordinates\":null,\"formatter\":{\"id\":\"7506\"},\"group\":null,\"major_label_policy\":{\"id\":\"7507\"},\"ticker\":{\"id\":\"7225\"}},\"id\":\"7224\",\"type\":\"LinearAxis\"},{\"attributes\":{},\"id\":\"7510\",\"type\":\"AllLabels\"},{\"attributes\":{\"data\":{\"left\":{\"__ndarray__\":\"vOfo+wu5yD8EyWMQugDKP0uq3iRoSMs/k4tZORaQzD/bbNRNxNfNPyJOT2JyH88/tRdlO5Az0D9ZiKJFZ9fQP/34308+e9E/oGkdWhUf0j9E2lpk7MLSP+hKmG7DZtM/jLvVeJoK1D8wLBODca7UP9ScUI1IUtU/eA2Olx/21T8cfsuh9pnWP8DuCKzNPdc/Y19GtqTh1z8H0IPAe4XYP6tAwcpSKdk/TrH+1CnN2T/yITzfAHHaP5aSeenXFNs/OgO386642z/ec/T9hVzcP4LkMQhdAN0/JlVvEjSk3T/KxawcC0jeP2026ibi694/EacnMbmP3z/ai7IdyBngPyxE0aKza+A/fvzvJ5+94D/QtA6tig/hPyJtLTJ2YeE/dCVMt2Gz4T/G3Wo8TQXiPxiWicE4V+I/ak6oRiSp4j+8BsfLD/viPw6/5VD7TOM/YHcE1uae4z+yLyNb0vDjPwToQeC9QuQ/VqBgZamU5D+oWH/qlObkP/oQnm+AOOU/S8m89GuK5T+dgdt5V9zlP+85+v5CLuY/QfIYhC6A5j+TqjcJGtLmP+ViVo4FJOc/Nxt1E/F15z+J05OY3MfnP9uLsh3IGeg/LUTRorNr6D9+/O8nn73oP9C0Dq2KD+k/Im0tMnZh6T90JUy3YbPpP8bdajxNBeo/GJaJwThX6j9qTqhGJKnqP7wGx8sP++o/Dr/lUPtM6z9gdwTW5p7rP7IvI1vS8Os/BOhB4L1C7D9WoGBlqZTsP6dYf+qU5uw/+RCeb4A47T9Lybz0a4rtP52B23lX3O0/7zn6/kIu7j9B8hiELoDuP5OqNwka0u4/5WJWjgUk7z83G3UT8XXvP4nTk5jcx+8/7kXZDuQM8D8WomjR2TXwP0D+95PPXvA/aFqHVsWH8D+RthYZu7DwP7oSptuw2fA/4241nqYC8T8My8RgnCvxPzUnVCOSVPE/XoPj5Yd98T+H33KofabxP7A7Amtzz/E/2ZeRLWn48T8C9CDwXiHyPytQsLJUSvI/VKw/dUpz8j98CM83QJzyP6ZkXvo1xfI/zsDtvCvu8j8=\",\"dtype\":\"float64\",\"order\":\"little\",\"shape\":[100]},\"right\":{\"__ndarray__\":\"BMljELoAyj9Lqt4kaEjLP5OLWTkWkMw/22zUTcTXzT8iTk9ich/PP7UXZTuQM9A/WYiiRWfX0D/9+N9PPnvRP6BpHVoVH9I/RNpaZOzC0j/oSphuw2bTP4y71XiaCtQ/MCwTg3Gu1D/UnFCNSFLVP3gNjpcf9tU/HH7LofaZ1j/A7giszT3XP2NfRrak4dc/B9CDwHuF2D+rQMHKUinZP06x/tQpzdk/8iE83wBx2j+Wknnp1xTbPzoDt/OuuNs/3nP0/YVc3D+C5DEIXQDdPyZVbxI0pN0/ysWsHAtI3j9tNuom4uvePxGnJzG5j98/2ouyHcgZ4D8sRNGis2vgP3787yefveA/0LQOrYoP4T8ibS0ydmHhP3QlTLdhs+E/xt1qPE0F4j8YlonBOFfiP2pOqEYkqeI/vAbHyw/74j8Ov+VQ+0zjP2B3BNbmnuM/si8jW9Lw4z8E6EHgvULkP1agYGWplOQ/qFh/6pTm5D/6EJ5vgDjlP0vJvPRriuU/nYHbeVfc5T/vOfr+Qi7mP0HyGIQugOY/k6o3CRrS5j/lYlaOBSTnPzcbdRPxdec/idOTmNzH5z/bi7IdyBnoPy1E0aKza+g/fvzvJ5+96D/QtA6tig/pPyJtLTJ2Yek/dCVMt2Gz6T/G3Wo8TQXqPxiWicE4V+o/ak6oRiSp6j+8BsfLD/vqPw6/5VD7TOs/YHcE1uae6z+yLyNb0vDrPwToQeC9Quw/VqBgZamU7D+nWH/qlObsP/kQnm+AOO0/S8m89GuK7T+dgdt5V9ztP+85+v5CLu4/QfIYhC6A7j+TqjcJGtLuP+ViVo4FJO8/Nxt1E/F17z+J05OY3MfvP+5F2Q7kDPA/FqJo0dk18D9A/veTz17wP2hah1bFh/A/kbYWGbuw8D+6EqbbsNnwP+NuNZ6mAvE/DMvEYJwr8T81J1QjklTxP16D4+WHffE/h99yqH2m8T+wOwJrc8/xP9mXkS1p+PE/AvQg8F4h8j8rULCyVEryP1SsP3VKc/I/fAjPN0Cc8j+mZF76NcXyP87A7bwr7vI/+Bx9fyEX8z8=\",\"dtype\":\"float64\",\"order\":\"little\",\"shape\":[100]},\"top\":{\"__ndarray__\":\"AAAAAAAAAAAAAAAAAAAAAAAAAAAAAAAAAAAAAAAAAAAAAAAAAAAAAAAAAAAAAAAAAAAAAAAAAAAAAAAAAAAAAAAAAAAAAAAAAAAAAAAAAAAAAAAAAAAAAAAAAAAAAAAAAAAAAAAAAAAAAAAAAAAAAAAAAAAAAAAAAAAAAAAAAAAAAAAAAAAAAAAAAAAAAAAAAAAAAAAAAAAAAAAAAAAAAAAAAAAAAAAAAAAAAAAAAAAAAAAAAAAAAAAAAAAAAAAAAAAAAAAAAAAAAAAAAAAAAAAAAAAAAAAAAAAAAAAAAAAAAAAAAAAAAAAAAAAAAAAAAAAAAAAAAAAAAAAAAAAAAAAAAAAAAAAAAAAAAAAAAAAAAAAAAAAAAAAAAAAAAAAAAAAAAAAAAAAAAAAAAAAAAAAAAAAAAAAAAAAAAAAAAAAAAAAAAAAAAAAAAAAAAAAAAAAAAAAAAAAAAAAAAAAAAAAAAAAAAAAAAAAAAAAAAAAAAAAAAAAAAAAAAAAAAAAAAAAAAAAAAAAAAAAAAAAAAPn//////1hAAAAAAAAAAAAAAAAAAAAAAAAAAAAAAAAAAAAAAAAAAAAAAAAAAAAAAAAAAAAAAAAAAAAAAAAAAAAAAAAAAAAAAAAAAAAAAAAAAAAAAAAAAAAAAAAAAAAAAAAAAAAAAAAAAAAAAAAAAAAAAAAAAAAAAAAAAAAAAAAAAAAAAAAAAAAAAAAAAAAAAAAAAAAAAAAAAAAAAAAAAAAAAAAAAAAAAAAAAAAAAAAAAAAAAAAAAAAAAAAAAAAAAAAAAAAAAAAAAAAAAAAAAAAAAAAAAAAAAAAAAAAAAAAAAAAAAAAAAAAAAAAAAAAAAAAAAAAAAAAAAAAAAAAAAAAAAAAAAAAAAAAAAAAAAAAAAAAAAAAAAAAAAAAAAAAAAAAAAAAAAAAAAAAAAAAAAAAAAAAAAAAAAAAAAAAAAAAAAAAAAAAAAAAAAAAAAAAAAAAAAAAAAAAAAAAAAAAAAAAAAAAAAAAAAAAAAAAAAAAAAAAAAAAAAAAAAAAAAAAAAAAAAAAAAAAAAAAAAAAAAAA=\",\"dtype\":\"float64\",\"order\":\"little\",\"shape\":[100]}},\"selected\":{\"id\":\"7512\"},\"selection_policy\":{\"id\":\"7511\"}},\"id\":\"7237\",\"type\":\"ColumnDataSource\"},{\"attributes\":{},\"id\":\"7221\",\"type\":\"BasicTicker\"},{\"attributes\":{\"axis\":{\"id\":\"7220\"},\"coordinates\":null,\"group\":null,\"ticker\":null},\"id\":\"7223\",\"type\":\"Grid\"},{\"attributes\":{\"axis\":{\"id\":\"7224\"},\"coordinates\":null,\"dimension\":1,\"group\":null,\"ticker\":null},\"id\":\"7227\",\"type\":\"Grid\"},{\"attributes\":{},\"id\":\"7229\",\"type\":\"WheelZoomTool\"},{\"attributes\":{},\"id\":\"7511\",\"type\":\"UnionRenderers\"},{\"attributes\":{},\"id\":\"7225\",\"type\":\"BasicTicker\"},{\"attributes\":{\"bottom\":{\"value\":0},\"fill_alpha\":{\"value\":0.1},\"fill_color\":{\"value\":\"#1f77b4\"},\"hatch_alpha\":{\"value\":0.1},\"left\":{\"field\":\"left\"},\"line_alpha\":{\"value\":0.1},\"line_color\":{\"value\":\"#555555\"},\"right\":{\"field\":\"right\"},\"top\":{\"field\":\"top\"}},\"id\":\"7239\",\"type\":\"Quad\"},{\"attributes\":{\"coordinates\":null,\"group\":null,\"text\":\"BH Terms Ratios Affinity Distribution\"},\"id\":\"7210\",\"type\":\"Title\"},{\"attributes\":{},\"id\":\"7228\",\"type\":\"PanTool\"},{\"attributes\":{},\"id\":\"7512\",\"type\":\"Selection\"},{\"attributes\":{},\"id\":\"7230\",\"type\":\"ResetTool\"},{\"attributes\":{},\"id\":\"7216\",\"type\":\"LinearScale\"},{\"attributes\":{},\"id\":\"7231\",\"type\":\"SaveTool\"},{\"attributes\":{},\"id\":\"7218\",\"type\":\"LinearScale\"},{\"attributes\":{},\"id\":\"7212\",\"type\":\"DataRange1d\"},{\"attributes\":{\"coordinates\":null,\"data_source\":{\"id\":\"7237\"},\"glyph\":{\"id\":\"7238\"},\"group\":null,\"hover_glyph\":null,\"muted_glyph\":{\"id\":\"7240\"},\"nonselection_glyph\":{\"id\":\"7239\"},\"view\":{\"id\":\"7242\"}},\"id\":\"7241\",\"type\":\"GlyphRenderer\"},{\"attributes\":{\"coordinates\":null,\"formatter\":{\"id\":\"7509\"},\"group\":null,\"major_label_policy\":{\"id\":\"7510\"},\"ticker\":{\"id\":\"7221\"}},\"id\":\"7220\",\"type\":\"LinearAxis\"},{\"attributes\":{},\"id\":\"7214\",\"type\":\"DataRange1d\"},{\"attributes\":{\"source\":{\"id\":\"7237\"}},\"id\":\"7242\",\"type\":\"CDSView\"},{\"attributes\":{\"bottom\":{\"value\":0},\"fill_color\":{\"value\":\"#1f77b4\"},\"left\":{\"field\":\"left\"},\"line_color\":{\"value\":\"#555555\"},\"right\":{\"field\":\"right\"},\"top\":{\"field\":\"top\"}},\"id\":\"7238\",\"type\":\"Quad\"},{\"attributes\":{\"bottom\":{\"value\":0},\"fill_alpha\":{\"value\":0.2},\"fill_color\":{\"value\":\"#1f77b4\"},\"hatch_alpha\":{\"value\":0.2},\"left\":{\"field\":\"left\"},\"line_alpha\":{\"value\":0.2},\"line_color\":{\"value\":\"#555555\"},\"right\":{\"field\":\"right\"},\"top\":{\"field\":\"top\"}},\"id\":\"7240\",\"type\":\"Quad\"},{\"attributes\":{},\"id\":\"7506\",\"type\":\"BasicTickFormatter\"},{\"attributes\":{},\"id\":\"7507\",\"type\":\"AllLabels\"},{\"attributes\":{},\"id\":\"7509\",\"type\":\"BasicTickFormatter\"},{\"attributes\":{\"tools\":[{\"id\":\"7228\"},{\"id\":\"7229\"},{\"id\":\"7230\"},{\"id\":\"7231\"}]},\"id\":\"7232\",\"type\":\"Toolbar\"}],\"root_ids\":[\"7209\"]},\"title\":\"Bokeh Application\",\"version\":\"2.4.2\"}};\n",
       "  const render_items = [{\"docid\":\"fb4904b1-1535-4e0a-8dee-cf211a9562bd\",\"root_ids\":[\"7209\"],\"roots\":{\"7209\":\"b7337a0e-9825-468b-8b55-d4c534eb518b\"}}];\n",
       "  root.Bokeh.embed.embed_items_notebook(docs_json, render_items);\n",
       "\n",
       "  }\n",
       "  if (root.Bokeh !== undefined) {\n",
       "    embed_document(root);\n",
       "  } else {\n",
       "    let attempts = 0;\n",
       "    const timer = setInterval(function(root) {\n",
       "      if (root.Bokeh !== undefined) {\n",
       "        clearInterval(timer);\n",
       "        embed_document(root);\n",
       "      } else {\n",
       "        attempts++;\n",
       "        if (attempts > 100) {\n",
       "          clearInterval(timer);\n",
       "          console.log(\"Bokeh: ERROR: Unable to run BokehJS code because BokehJS library is missing\");\n",
       "        }\n",
       "      }\n",
       "    }, 10, root)\n",
       "  }\n",
       "})(window);"
      ],
      "application/vnd.bokehjs_exec.v0+json": ""
     },
     "metadata": {
      "application/vnd.bokehjs_exec.v0+json": {
       "id": "7209"
      }
     },
     "output_type": "display_data"
    },
    {
     "data": {
      "text/html": [
       "\n",
       "\n",
       "\n",
       "\n",
       "\n",
       "\n",
       "  <div class=\"bk-root\" id=\"ff0db670-721f-426c-8042-bd35dfc31713\" data-root-id=\"7558\"></div>\n"
      ]
     },
     "metadata": {},
     "output_type": "display_data"
    },
    {
     "data": {
      "application/javascript": [
       "(function(root) {\n",
       "  function embed_document(root) {\n",
       "    \n",
       "  const docs_json = {\"354669ff-f2ca-4d53-b39f-2ba6234e0a59\":{\"defs\":[],\"roots\":{\"references\":[{\"attributes\":{\"below\":[{\"id\":\"7569\"}],\"center\":[{\"id\":\"7572\"},{\"id\":\"7576\"}],\"left\":[{\"id\":\"7573\"}],\"renderers\":[{\"id\":\"7590\"}],\"title\":{\"id\":\"7559\"},\"toolbar\":{\"id\":\"7581\"},\"toolbar_location\":\"above\",\"x_range\":{\"id\":\"7561\"},\"x_scale\":{\"id\":\"7565\"},\"y_range\":{\"id\":\"7563\"},\"y_scale\":{\"id\":\"7567\"}},\"id\":\"7558\",\"subtype\":\"Figure\",\"type\":\"Plot\"},{\"attributes\":{\"data\":{\"left\":{\"__ndarray__\":\"vOfo+wu5yD8EyWMQugDKP0uq3iRoSMs/k4tZORaQzD/bbNRNxNfNPyJOT2JyH88/tRdlO5Az0D9ZiKJFZ9fQP/34308+e9E/oGkdWhUf0j9E2lpk7MLSP+hKmG7DZtM/jLvVeJoK1D8wLBODca7UP9ScUI1IUtU/eA2Olx/21T8cfsuh9pnWP8DuCKzNPdc/Y19GtqTh1z8H0IPAe4XYP6tAwcpSKdk/TrH+1CnN2T/yITzfAHHaP5aSeenXFNs/OgO386642z/ec/T9hVzcP4LkMQhdAN0/JlVvEjSk3T/KxawcC0jeP2026ibi694/EacnMbmP3z/ai7IdyBngPyxE0aKza+A/fvzvJ5+94D/QtA6tig/hPyJtLTJ2YeE/dCVMt2Gz4T/G3Wo8TQXiPxiWicE4V+I/ak6oRiSp4j+8BsfLD/viPw6/5VD7TOM/YHcE1uae4z+yLyNb0vDjPwToQeC9QuQ/VqBgZamU5D+oWH/qlObkP/oQnm+AOOU/S8m89GuK5T+dgdt5V9zlP+85+v5CLuY/QfIYhC6A5j+TqjcJGtLmP+ViVo4FJOc/Nxt1E/F15z+J05OY3MfnP9uLsh3IGeg/LUTRorNr6D9+/O8nn73oP9C0Dq2KD+k/Im0tMnZh6T90JUy3YbPpP8bdajxNBeo/GJaJwThX6j9qTqhGJKnqP7wGx8sP++o/Dr/lUPtM6z9gdwTW5p7rP7IvI1vS8Os/BOhB4L1C7D9WoGBlqZTsP6dYf+qU5uw/+RCeb4A47T9Lybz0a4rtP52B23lX3O0/7zn6/kIu7j9B8hiELoDuP5OqNwka0u4/5WJWjgUk7z83G3UT8XXvP4nTk5jcx+8/7kXZDuQM8D8WomjR2TXwP0D+95PPXvA/aFqHVsWH8D+RthYZu7DwP7oSptuw2fA/4241nqYC8T8My8RgnCvxPzUnVCOSVPE/XoPj5Yd98T+H33KofabxP7A7Amtzz/E/2ZeRLWn48T8C9CDwXiHyPytQsLJUSvI/VKw/dUpz8j98CM83QJzyP6ZkXvo1xfI/zsDtvCvu8j8=\",\"dtype\":\"float64\",\"order\":\"little\",\"shape\":[100]},\"right\":{\"__ndarray__\":\"BMljELoAyj9Lqt4kaEjLP5OLWTkWkMw/22zUTcTXzT8iTk9ich/PP7UXZTuQM9A/WYiiRWfX0D/9+N9PPnvRP6BpHVoVH9I/RNpaZOzC0j/oSphuw2bTP4y71XiaCtQ/MCwTg3Gu1D/UnFCNSFLVP3gNjpcf9tU/HH7LofaZ1j/A7giszT3XP2NfRrak4dc/B9CDwHuF2D+rQMHKUinZP06x/tQpzdk/8iE83wBx2j+Wknnp1xTbPzoDt/OuuNs/3nP0/YVc3D+C5DEIXQDdPyZVbxI0pN0/ysWsHAtI3j9tNuom4uvePxGnJzG5j98/2ouyHcgZ4D8sRNGis2vgP3787yefveA/0LQOrYoP4T8ibS0ydmHhP3QlTLdhs+E/xt1qPE0F4j8YlonBOFfiP2pOqEYkqeI/vAbHyw/74j8Ov+VQ+0zjP2B3BNbmnuM/si8jW9Lw4z8E6EHgvULkP1agYGWplOQ/qFh/6pTm5D/6EJ5vgDjlP0vJvPRriuU/nYHbeVfc5T/vOfr+Qi7mP0HyGIQugOY/k6o3CRrS5j/lYlaOBSTnPzcbdRPxdec/idOTmNzH5z/bi7IdyBnoPy1E0aKza+g/fvzvJ5+96D/QtA6tig/pPyJtLTJ2Yek/dCVMt2Gz6T/G3Wo8TQXqPxiWicE4V+o/ak6oRiSp6j+8BsfLD/vqPw6/5VD7TOs/YHcE1uae6z+yLyNb0vDrPwToQeC9Quw/VqBgZamU7D+nWH/qlObsP/kQnm+AOO0/S8m89GuK7T+dgdt5V9ztP+85+v5CLu4/QfIYhC6A7j+TqjcJGtLuP+ViVo4FJO8/Nxt1E/F17z+J05OY3MfvP+5F2Q7kDPA/FqJo0dk18D9A/veTz17wP2hah1bFh/A/kbYWGbuw8D+6EqbbsNnwP+NuNZ6mAvE/DMvEYJwr8T81J1QjklTxP16D4+WHffE/h99yqH2m8T+wOwJrc8/xP9mXkS1p+PE/AvQg8F4h8j8rULCyVEryP1SsP3VKc/I/fAjPN0Cc8j+mZF76NcXyP87A7bwr7vI/+Bx9fyEX8z8=\",\"dtype\":\"float64\",\"order\":\"little\",\"shape\":[100]},\"top\":{\"__ndarray__\":\"AAAAAAAAAAAAAAAAAAAAAAAAAAAAAAAAAAAAAAAAAAAAAAAAAAAAAAAAAAAAAAAAAAAAAAAAAAAAAAAAAAAAAAAAAAAAAAAAAAAAAAAAAAAAAAAAAAAAAAAAAAAAAAAAAAAAAAAAAAAAAAAAAAAAAAAAAAAAAAAAAAAAAAAAAAAAAAAAAAAAAAAAAAAAAAAAAAAAAAAAAAAAAAAAAAAAAAAAAAAAAAAAAAAAAAAAAAAAAAAAAAAAAAAAAAAAAAAAAAAAAAAAAAAAAAAAAAAAAAAAAAAAAAAAAAAAAAAAAAAAAAAAAAAAAAAAAAAAAAAAAAAAAAAAAAAAAAAAAAAAAAAAAAAAAAAAAAAAAAAAAAAAAAAAAAAAAAAAAAAAAAAAAAAAAAAAAAAAAAAAAAAAAAAAAAAAAAAAAAAAAAAAAAAAAAAAAAAAAAAAAAAAAAAAAAAAAAAAAAAAAAAAAAAAAAAAAAAAAAAAAAAAAAAAAAAAAAAAAAAAAAAAAAAAAAAAAAAAAAAAAAAAAAAAAAAAAPr//////1hAAAAAAAAAAAAAAAAAAAAAAAAAAAAAAAAAAAAAAAAAAAAAAAAAAAAAAAAAAAAAAAAAAAAAAAAAAAAAAAAAAAAAAAAAAAAAAAAAAAAAAAAAAAAAAAAAAAAAAAAAAAAAAAAAAAAAAAAAAAAAAAAAAAAAAAAAAAAAAAAAAAAAAAAAAAAAAAAAAAAAAAAAAAAAAAAAAAAAAAAAAAAAAAAAAAAAAAAAAAAAAAAAAAAAAAAAAAAAAAAAAAAAAAAAAAAAAAAAAAAAAAAAAAAAAAAAAAAAAAAAAAAAAAAAAAAAAAAAAAAAAAAAAAAAAAAAAAAAAAAAAAAAAAAAAAAAAAAAAAAAAAAAAAAAAAAAAAAAAAAAAAAAAAAAAAAAAAAAAAAAAAAAAAAAAAAAAAAAAAAAAAAAAAAAAAAAAAAAAAAAAAAAAAAAAAAAAAAAAAAAAAAAAAAAAAAAAAAAAAAAAAAAAAAAAAAAAAAAAAAAAAAAAAAAAAAAAAAAAAAAAAAAAAAAAAAAAAAAAAAAAAA=\",\"dtype\":\"float64\",\"order\":\"little\",\"shape\":[100]}},\"selected\":{\"id\":\"7870\"},\"selection_policy\":{\"id\":\"7869\"}},\"id\":\"7586\",\"type\":\"ColumnDataSource\"},{\"attributes\":{},\"id\":\"7561\",\"type\":\"DataRange1d\"},{\"attributes\":{\"bottom\":{\"value\":0},\"fill_alpha\":{\"value\":0.2},\"fill_color\":{\"value\":\"#1f77b4\"},\"hatch_alpha\":{\"value\":0.2},\"left\":{\"field\":\"left\"},\"line_alpha\":{\"value\":0.2},\"line_color\":{\"value\":\"#555555\"},\"right\":{\"field\":\"right\"},\"top\":{\"field\":\"top\"}},\"id\":\"7589\",\"type\":\"Quad\"},{\"attributes\":{},\"id\":\"7864\",\"type\":\"BasicTickFormatter\"},{\"attributes\":{},\"id\":\"7865\",\"type\":\"AllLabels\"},{\"attributes\":{\"bottom\":{\"value\":0},\"fill_color\":{\"value\":\"#1f77b4\"},\"left\":{\"field\":\"left\"},\"line_color\":{\"value\":\"#555555\"},\"right\":{\"field\":\"right\"},\"top\":{\"field\":\"top\"}},\"id\":\"7587\",\"type\":\"Quad\"},{\"attributes\":{},\"id\":\"7867\",\"type\":\"BasicTickFormatter\"},{\"attributes\":{\"coordinates\":null,\"formatter\":{\"id\":\"7864\"},\"group\":null,\"major_label_policy\":{\"id\":\"7865\"},\"ticker\":{\"id\":\"7574\"}},\"id\":\"7573\",\"type\":\"LinearAxis\"},{\"attributes\":{},\"id\":\"7868\",\"type\":\"AllLabels\"},{\"attributes\":{\"coordinates\":null,\"data_source\":{\"id\":\"7586\"},\"glyph\":{\"id\":\"7587\"},\"group\":null,\"hover_glyph\":null,\"muted_glyph\":{\"id\":\"7589\"},\"nonselection_glyph\":{\"id\":\"7588\"},\"view\":{\"id\":\"7591\"}},\"id\":\"7590\",\"type\":\"GlyphRenderer\"},{\"attributes\":{},\"id\":\"7570\",\"type\":\"BasicTicker\"},{\"attributes\":{\"axis\":{\"id\":\"7569\"},\"coordinates\":null,\"group\":null,\"ticker\":null},\"id\":\"7572\",\"type\":\"Grid\"},{\"attributes\":{\"axis\":{\"id\":\"7573\"},\"coordinates\":null,\"dimension\":1,\"group\":null,\"ticker\":null},\"id\":\"7576\",\"type\":\"Grid\"},{\"attributes\":{},\"id\":\"7574\",\"type\":\"BasicTicker\"},{\"attributes\":{},\"id\":\"7869\",\"type\":\"UnionRenderers\"},{\"attributes\":{},\"id\":\"7578\",\"type\":\"WheelZoomTool\"},{\"attributes\":{},\"id\":\"7563\",\"type\":\"DataRange1d\"},{\"attributes\":{},\"id\":\"7577\",\"type\":\"PanTool\"},{\"attributes\":{},\"id\":\"7870\",\"type\":\"Selection\"},{\"attributes\":{},\"id\":\"7579\",\"type\":\"ResetTool\"},{\"attributes\":{\"coordinates\":null,\"formatter\":{\"id\":\"7867\"},\"group\":null,\"major_label_policy\":{\"id\":\"7868\"},\"ticker\":{\"id\":\"7570\"}},\"id\":\"7569\",\"type\":\"LinearAxis\"},{\"attributes\":{\"tools\":[{\"id\":\"7577\"},{\"id\":\"7578\"},{\"id\":\"7579\"},{\"id\":\"7580\"}]},\"id\":\"7581\",\"type\":\"Toolbar\"},{\"attributes\":{},\"id\":\"7580\",\"type\":\"SaveTool\"},{\"attributes\":{},\"id\":\"7565\",\"type\":\"LinearScale\"},{\"attributes\":{\"bottom\":{\"value\":0},\"fill_alpha\":{\"value\":0.1},\"fill_color\":{\"value\":\"#1f77b4\"},\"hatch_alpha\":{\"value\":0.1},\"left\":{\"field\":\"left\"},\"line_alpha\":{\"value\":0.1},\"line_color\":{\"value\":\"#555555\"},\"right\":{\"field\":\"right\"},\"top\":{\"field\":\"top\"}},\"id\":\"7588\",\"type\":\"Quad\"},{\"attributes\":{},\"id\":\"7567\",\"type\":\"LinearScale\"},{\"attributes\":{\"source\":{\"id\":\"7586\"}},\"id\":\"7591\",\"type\":\"CDSView\"},{\"attributes\":{\"coordinates\":null,\"group\":null,\"text\":\"DZ Terms Ratios Affinity Distribution\"},\"id\":\"7559\",\"type\":\"Title\"}],\"root_ids\":[\"7558\"]},\"title\":\"Bokeh Application\",\"version\":\"2.4.2\"}};\n",
       "  const render_items = [{\"docid\":\"354669ff-f2ca-4d53-b39f-2ba6234e0a59\",\"root_ids\":[\"7558\"],\"roots\":{\"7558\":\"ff0db670-721f-426c-8042-bd35dfc31713\"}}];\n",
       "  root.Bokeh.embed.embed_items_notebook(docs_json, render_items);\n",
       "\n",
       "  }\n",
       "  if (root.Bokeh !== undefined) {\n",
       "    embed_document(root);\n",
       "  } else {\n",
       "    let attempts = 0;\n",
       "    const timer = setInterval(function(root) {\n",
       "      if (root.Bokeh !== undefined) {\n",
       "        clearInterval(timer);\n",
       "        embed_document(root);\n",
       "      } else {\n",
       "        attempts++;\n",
       "        if (attempts > 100) {\n",
       "          clearInterval(timer);\n",
       "          console.log(\"Bokeh: ERROR: Unable to run BokehJS code because BokehJS library is missing\");\n",
       "        }\n",
       "      }\n",
       "    }, 10, root)\n",
       "  }\n",
       "})(window);"
      ],
      "application/vnd.bokehjs_exec.v0+json": ""
     },
     "metadata": {
      "application/vnd.bokehjs_exec.v0+json": {
       "id": "7558"
      }
     },
     "output_type": "display_data"
    },
    {
     "data": {
      "text/html": [
       "\n",
       "\n",
       "\n",
       "\n",
       "\n",
       "\n",
       "  <div class=\"bk-root\" id=\"2236a9ba-15a3-4b03-bec9-cfa0f10db446\" data-root-id=\"7916\"></div>\n"
      ]
     },
     "metadata": {},
     "output_type": "display_data"
    },
    {
     "data": {
      "application/javascript": [
       "(function(root) {\n",
       "  function embed_document(root) {\n",
       "    \n",
       "  const docs_json = {\"8671bab3-8365-469d-953b-4f76424d0a0b\":{\"defs\":[],\"roots\":{\"references\":[{\"attributes\":{\"below\":[{\"id\":\"7927\"}],\"center\":[{\"id\":\"7930\"},{\"id\":\"7934\"}],\"left\":[{\"id\":\"7931\"}],\"renderers\":[{\"id\":\"7948\"}],\"title\":{\"id\":\"7917\"},\"toolbar\":{\"id\":\"7939\"},\"toolbar_location\":\"above\",\"x_range\":{\"id\":\"7919\"},\"x_scale\":{\"id\":\"7923\"},\"y_range\":{\"id\":\"7921\"},\"y_scale\":{\"id\":\"7925\"}},\"id\":\"7916\",\"subtype\":\"Figure\",\"type\":\"Plot\"},{\"attributes\":{\"axis\":{\"id\":\"7931\"},\"coordinates\":null,\"dimension\":1,\"group\":null,\"ticker\":null},\"id\":\"7934\",\"type\":\"Grid\"},{\"attributes\":{},\"id\":\"8236\",\"type\":\"UnionRenderers\"},{\"attributes\":{},\"id\":\"7919\",\"type\":\"DataRange1d\"},{\"attributes\":{},\"id\":\"8237\",\"type\":\"Selection\"},{\"attributes\":{},\"id\":\"7937\",\"type\":\"ResetTool\"},{\"attributes\":{},\"id\":\"7938\",\"type\":\"SaveTool\"},{\"attributes\":{\"source\":{\"id\":\"7944\"}},\"id\":\"7949\",\"type\":\"CDSView\"},{\"attributes\":{\"bottom\":{\"value\":0},\"fill_alpha\":{\"value\":0.2},\"fill_color\":{\"value\":\"#1f77b4\"},\"hatch_alpha\":{\"value\":0.2},\"left\":{\"field\":\"left\"},\"line_alpha\":{\"value\":0.2},\"line_color\":{\"value\":\"#555555\"},\"right\":{\"field\":\"right\"},\"top\":{\"field\":\"top\"}},\"id\":\"7947\",\"type\":\"Quad\"},{\"attributes\":{},\"id\":\"7921\",\"type\":\"DataRange1d\"},{\"attributes\":{},\"id\":\"7936\",\"type\":\"WheelZoomTool\"},{\"attributes\":{},\"id\":\"7932\",\"type\":\"BasicTicker\"},{\"attributes\":{},\"id\":\"8234\",\"type\":\"BasicTickFormatter\"},{\"attributes\":{\"tools\":[{\"id\":\"7935\"},{\"id\":\"7936\"},{\"id\":\"7937\"},{\"id\":\"7938\"}]},\"id\":\"7939\",\"type\":\"Toolbar\"},{\"attributes\":{\"coordinates\":null,\"data_source\":{\"id\":\"7944\"},\"glyph\":{\"id\":\"7945\"},\"group\":null,\"hover_glyph\":null,\"muted_glyph\":{\"id\":\"7947\"},\"nonselection_glyph\":{\"id\":\"7946\"},\"view\":{\"id\":\"7949\"}},\"id\":\"7948\",\"type\":\"GlyphRenderer\"},{\"attributes\":{},\"id\":\"8232\",\"type\":\"AllLabels\"},{\"attributes\":{\"bottom\":{\"value\":0},\"fill_color\":{\"value\":\"#1f77b4\"},\"left\":{\"field\":\"left\"},\"line_color\":{\"value\":\"#555555\"},\"right\":{\"field\":\"right\"},\"top\":{\"field\":\"top\"}},\"id\":\"7945\",\"type\":\"Quad\"},{\"attributes\":{\"coordinates\":null,\"formatter\":{\"id\":\"8231\"},\"group\":null,\"major_label_policy\":{\"id\":\"8232\"},\"ticker\":{\"id\":\"7932\"}},\"id\":\"7931\",\"type\":\"LinearAxis\"},{\"attributes\":{},\"id\":\"8231\",\"type\":\"BasicTickFormatter\"},{\"attributes\":{},\"id\":\"7925\",\"type\":\"LinearScale\"},{\"attributes\":{\"coordinates\":null,\"group\":null,\"text\":\"YE Terms Ratios Affinity Distribution\"},\"id\":\"7917\",\"type\":\"Title\"},{\"attributes\":{\"axis\":{\"id\":\"7927\"},\"coordinates\":null,\"group\":null,\"ticker\":null},\"id\":\"7930\",\"type\":\"Grid\"},{\"attributes\":{},\"id\":\"7935\",\"type\":\"PanTool\"},{\"attributes\":{\"bottom\":{\"value\":0},\"fill_alpha\":{\"value\":0.1},\"fill_color\":{\"value\":\"#1f77b4\"},\"hatch_alpha\":{\"value\":0.1},\"left\":{\"field\":\"left\"},\"line_alpha\":{\"value\":0.1},\"line_color\":{\"value\":\"#555555\"},\"right\":{\"field\":\"right\"},\"top\":{\"field\":\"top\"}},\"id\":\"7946\",\"type\":\"Quad\"},{\"attributes\":{},\"id\":\"8235\",\"type\":\"AllLabels\"},{\"attributes\":{\"coordinates\":null,\"formatter\":{\"id\":\"8234\"},\"group\":null,\"major_label_policy\":{\"id\":\"8235\"},\"ticker\":{\"id\":\"7928\"}},\"id\":\"7927\",\"type\":\"LinearAxis\"},{\"attributes\":{},\"id\":\"7928\",\"type\":\"BasicTicker\"},{\"attributes\":{\"data\":{\"left\":{\"__ndarray__\":\"vOfo+wu5yD8EyWMQugDKP0uq3iRoSMs/k4tZORaQzD/bbNRNxNfNPyJOT2JyH88/tRdlO5Az0D9ZiKJFZ9fQP/34308+e9E/oGkdWhUf0j9E2lpk7MLSP+hKmG7DZtM/jLvVeJoK1D8wLBODca7UP9ScUI1IUtU/eA2Olx/21T8cfsuh9pnWP8DuCKzNPdc/Y19GtqTh1z8H0IPAe4XYP6tAwcpSKdk/TrH+1CnN2T/yITzfAHHaP5aSeenXFNs/OgO386642z/ec/T9hVzcP4LkMQhdAN0/JlVvEjSk3T/KxawcC0jeP2026ibi694/EacnMbmP3z/ai7IdyBngPyxE0aKza+A/fvzvJ5+94D/QtA6tig/hPyJtLTJ2YeE/dCVMt2Gz4T/G3Wo8TQXiPxiWicE4V+I/ak6oRiSp4j+8BsfLD/viPw6/5VD7TOM/YHcE1uae4z+yLyNb0vDjPwToQeC9QuQ/VqBgZamU5D+oWH/qlObkP/oQnm+AOOU/S8m89GuK5T+dgdt5V9zlP+85+v5CLuY/QfIYhC6A5j+TqjcJGtLmP+ViVo4FJOc/Nxt1E/F15z+J05OY3MfnP9uLsh3IGeg/LUTRorNr6D9+/O8nn73oP9C0Dq2KD+k/Im0tMnZh6T90JUy3YbPpP8bdajxNBeo/GJaJwThX6j9qTqhGJKnqP7wGx8sP++o/Dr/lUPtM6z9gdwTW5p7rP7IvI1vS8Os/BOhB4L1C7D9WoGBlqZTsP6dYf+qU5uw/+RCeb4A47T9Lybz0a4rtP52B23lX3O0/7zn6/kIu7j9B8hiELoDuP5OqNwka0u4/5WJWjgUk7z83G3UT8XXvP4nTk5jcx+8/7kXZDuQM8D8WomjR2TXwP0D+95PPXvA/aFqHVsWH8D+RthYZu7DwP7oSptuw2fA/4241nqYC8T8My8RgnCvxPzUnVCOSVPE/XoPj5Yd98T+H33KofabxP7A7Amtzz/E/2ZeRLWn48T8C9CDwXiHyPytQsLJUSvI/VKw/dUpz8j98CM83QJzyP6ZkXvo1xfI/zsDtvCvu8j8=\",\"dtype\":\"float64\",\"order\":\"little\",\"shape\":[100]},\"right\":{\"__ndarray__\":\"BMljELoAyj9Lqt4kaEjLP5OLWTkWkMw/22zUTcTXzT8iTk9ich/PP7UXZTuQM9A/WYiiRWfX0D/9+N9PPnvRP6BpHVoVH9I/RNpaZOzC0j/oSphuw2bTP4y71XiaCtQ/MCwTg3Gu1D/UnFCNSFLVP3gNjpcf9tU/HH7LofaZ1j/A7giszT3XP2NfRrak4dc/B9CDwHuF2D+rQMHKUinZP06x/tQpzdk/8iE83wBx2j+Wknnp1xTbPzoDt/OuuNs/3nP0/YVc3D+C5DEIXQDdPyZVbxI0pN0/ysWsHAtI3j9tNuom4uvePxGnJzG5j98/2ouyHcgZ4D8sRNGis2vgP3787yefveA/0LQOrYoP4T8ibS0ydmHhP3QlTLdhs+E/xt1qPE0F4j8YlonBOFfiP2pOqEYkqeI/vAbHyw/74j8Ov+VQ+0zjP2B3BNbmnuM/si8jW9Lw4z8E6EHgvULkP1agYGWplOQ/qFh/6pTm5D/6EJ5vgDjlP0vJvPRriuU/nYHbeVfc5T/vOfr+Qi7mP0HyGIQugOY/k6o3CRrS5j/lYlaOBSTnPzcbdRPxdec/idOTmNzH5z/bi7IdyBnoPy1E0aKza+g/fvzvJ5+96D/QtA6tig/pPyJtLTJ2Yek/dCVMt2Gz6T/G3Wo8TQXqPxiWicE4V+o/ak6oRiSp6j+8BsfLD/vqPw6/5VD7TOs/YHcE1uae6z+yLyNb0vDrPwToQeC9Quw/VqBgZamU7D+nWH/qlObsP/kQnm+AOO0/S8m89GuK7T+dgdt5V9ztP+85+v5CLu4/QfIYhC6A7j+TqjcJGtLuP+ViVo4FJO8/Nxt1E/F17z+J05OY3MfvP+5F2Q7kDPA/FqJo0dk18D9A/veTz17wP2hah1bFh/A/kbYWGbuw8D+6EqbbsNnwP+NuNZ6mAvE/DMvEYJwr8T81J1QjklTxP16D4+WHffE/h99yqH2m8T+wOwJrc8/xP9mXkS1p+PE/AvQg8F4h8j8rULCyVEryP1SsP3VKc/I/fAjPN0Cc8j+mZF76NcXyP87A7bwr7vI/+Bx9fyEX8z8=\",\"dtype\":\"float64\",\"order\":\"little\",\"shape\":[100]},\"top\":{\"__ndarray__\":\"AAAAAAAAAAAAAAAAAAAAAAAAAAAAAAAAAAAAAAAAAAAAAAAAAAAAAAAAAAAAAAAAAAAAAAAAAAAAAAAAAAAAAAAAAAAAAAAAAAAAAAAAAAAAAAAAAAAAAAAAAAAAAAAAAAAAAAAAAAAAAAAAAAAAAAAAAAAAAAAAAAAAAAAAAAAAAAAAAAAAAAAAAAAAAAAAAAAAAAAAAAAAAAAAAAAAAAAAAAAAAAAAAAAAAAAAAAAAAAAAAAAAAAAAAAAAAAAAAAAAAAAAAAAAAAAAAAAAAAAAAAAAAAAAAAAAAAAAAAAAAAAAAAAAAAAAAAAAAAAAAAAAAAAAAAAAAAAAAAAAAAAAAAAAAAAAAAAAAAAAAAAAAAAAAAAAAAAAAAAAAAAAAAAAAAAAAAAAAAAAAAAAAAAAAAAAAAAAAAAAAAAAAAAAAAAAAAAAAAAAAAAAAAAAAAAAAAAAAAAAAAAAAAAAAAAAAAAAAAAAAAAAAAAAAAAAAAAAAAAAAAAAAAAAAAAAAAAAAAAAAAAAAAAAAAAAAPr//////1hAAAAAAAAAAAAAAAAAAAAAAAAAAAAAAAAAAAAAAAAAAAAAAAAAAAAAAAAAAAAAAAAAAAAAAAAAAAAAAAAAAAAAAAAAAAAAAAAAAAAAAAAAAAAAAAAAAAAAAAAAAAAAAAAAAAAAAAAAAAAAAAAAAAAAAAAAAAAAAAAAAAAAAAAAAAAAAAAAAAAAAAAAAAAAAAAAAAAAAAAAAAAAAAAAAAAAAAAAAAAAAAAAAAAAAAAAAAAAAAAAAAAAAAAAAAAAAAAAAAAAAAAAAAAAAAAAAAAAAAAAAAAAAAAAAAAAAAAAAAAAAAAAAAAAAAAAAAAAAAAAAAAAAAAAAAAAAAAAAAAAAAAAAAAAAAAAAAAAAAAAAAAAAAAAAAAAAAAAAAAAAAAAAAAAAAAAAAAAAAAAAAAAAAAAAAAAAAAAAAAAAAAAAAAAAAAAAAAAAAAAAAAAAAAAAAAAAAAAAAAAAAAAAAAAAAAAAAAAAAAAAAAAAAAAAAAAAAAAAAAAAAAAAAAAAAAAAAAAAAAAAAA=\",\"dtype\":\"float64\",\"order\":\"little\",\"shape\":[100]}},\"selected\":{\"id\":\"8237\"},\"selection_policy\":{\"id\":\"8236\"}},\"id\":\"7944\",\"type\":\"ColumnDataSource\"},{\"attributes\":{},\"id\":\"7923\",\"type\":\"LinearScale\"}],\"root_ids\":[\"7916\"]},\"title\":\"Bokeh Application\",\"version\":\"2.4.2\"}};\n",
       "  const render_items = [{\"docid\":\"8671bab3-8365-469d-953b-4f76424d0a0b\",\"root_ids\":[\"7916\"],\"roots\":{\"7916\":\"2236a9ba-15a3-4b03-bec9-cfa0f10db446\"}}];\n",
       "  root.Bokeh.embed.embed_items_notebook(docs_json, render_items);\n",
       "\n",
       "  }\n",
       "  if (root.Bokeh !== undefined) {\n",
       "    embed_document(root);\n",
       "  } else {\n",
       "    let attempts = 0;\n",
       "    const timer = setInterval(function(root) {\n",
       "      if (root.Bokeh !== undefined) {\n",
       "        clearInterval(timer);\n",
       "        embed_document(root);\n",
       "      } else {\n",
       "        attempts++;\n",
       "        if (attempts > 100) {\n",
       "          clearInterval(timer);\n",
       "          console.log(\"Bokeh: ERROR: Unable to run BokehJS code because BokehJS library is missing\");\n",
       "        }\n",
       "      }\n",
       "    }, 10, root)\n",
       "  }\n",
       "})(window);"
      ],
      "application/vnd.bokehjs_exec.v0+json": ""
     },
     "metadata": {
      "application/vnd.bokehjs_exec.v0+json": {
       "id": "7916"
      }
     },
     "output_type": "display_data"
    },
    {
     "data": {
      "text/html": [
       "\n",
       "\n",
       "\n",
       "\n",
       "\n",
       "\n",
       "  <div class=\"bk-root\" id=\"f72fa0c5-5dd9-460b-8770-8b6b1208302e\" data-root-id=\"8283\"></div>\n"
      ]
     },
     "metadata": {},
     "output_type": "display_data"
    },
    {
     "data": {
      "application/javascript": [
       "(function(root) {\n",
       "  function embed_document(root) {\n",
       "    \n",
       "  const docs_json = {\"bb37ba80-eaf8-441d-ae24-327a99624231\":{\"defs\":[],\"roots\":{\"references\":[{\"attributes\":{\"below\":[{\"id\":\"8294\"}],\"center\":[{\"id\":\"8297\"},{\"id\":\"8301\"}],\"left\":[{\"id\":\"8298\"}],\"renderers\":[{\"id\":\"8315\"}],\"title\":{\"id\":\"8284\"},\"toolbar\":{\"id\":\"8306\"},\"toolbar_location\":\"above\",\"x_range\":{\"id\":\"8286\"},\"x_scale\":{\"id\":\"8290\"},\"y_range\":{\"id\":\"8288\"},\"y_scale\":{\"id\":\"8292\"}},\"id\":\"8283\",\"subtype\":\"Figure\",\"type\":\"Plot\"},{\"attributes\":{\"coordinates\":null,\"formatter\":{\"id\":\"8607\"},\"group\":null,\"major_label_policy\":{\"id\":\"8608\"},\"ticker\":{\"id\":\"8299\"}},\"id\":\"8298\",\"type\":\"LinearAxis\"},{\"attributes\":{},\"id\":\"8611\",\"type\":\"AllLabels\"},{\"attributes\":{},\"id\":\"8295\",\"type\":\"BasicTicker\"},{\"attributes\":{\"axis\":{\"id\":\"8294\"},\"coordinates\":null,\"group\":null,\"ticker\":null},\"id\":\"8297\",\"type\":\"Grid\"},{\"attributes\":{\"axis\":{\"id\":\"8298\"},\"coordinates\":null,\"dimension\":1,\"group\":null,\"ticker\":null},\"id\":\"8301\",\"type\":\"Grid\"},{\"attributes\":{},\"id\":\"8299\",\"type\":\"BasicTicker\"},{\"attributes\":{},\"id\":\"8288\",\"type\":\"DataRange1d\"},{\"attributes\":{\"bottom\":{\"value\":0},\"fill_alpha\":{\"value\":0.1},\"fill_color\":{\"value\":\"#1f77b4\"},\"hatch_alpha\":{\"value\":0.1},\"left\":{\"field\":\"left\"},\"line_alpha\":{\"value\":0.1},\"line_color\":{\"value\":\"#555555\"},\"right\":{\"field\":\"right\"},\"top\":{\"field\":\"top\"}},\"id\":\"8313\",\"type\":\"Quad\"},{\"attributes\":{},\"id\":\"8612\",\"type\":\"UnionRenderers\"},{\"attributes\":{},\"id\":\"8303\",\"type\":\"WheelZoomTool\"},{\"attributes\":{},\"id\":\"8292\",\"type\":\"LinearScale\"},{\"attributes\":{},\"id\":\"8302\",\"type\":\"PanTool\"},{\"attributes\":{},\"id\":\"8613\",\"type\":\"Selection\"},{\"attributes\":{},\"id\":\"8304\",\"type\":\"ResetTool\"},{\"attributes\":{},\"id\":\"8290\",\"type\":\"LinearScale\"},{\"attributes\":{},\"id\":\"8305\",\"type\":\"SaveTool\"},{\"attributes\":{},\"id\":\"8286\",\"type\":\"DataRange1d\"},{\"attributes\":{\"data\":{\"left\":{\"__ndarray__\":\"vOfo+wu5yD8EyWMQugDKP0uq3iRoSMs/k4tZORaQzD/bbNRNxNfNPyJOT2JyH88/tRdlO5Az0D9ZiKJFZ9fQP/34308+e9E/oGkdWhUf0j9E2lpk7MLSP+hKmG7DZtM/jLvVeJoK1D8wLBODca7UP9ScUI1IUtU/eA2Olx/21T8cfsuh9pnWP8DuCKzNPdc/Y19GtqTh1z8H0IPAe4XYP6tAwcpSKdk/TrH+1CnN2T/yITzfAHHaP5aSeenXFNs/OgO386642z/ec/T9hVzcP4LkMQhdAN0/JlVvEjSk3T/KxawcC0jeP2026ibi694/EacnMbmP3z/ai7IdyBngPyxE0aKza+A/fvzvJ5+94D/QtA6tig/hPyJtLTJ2YeE/dCVMt2Gz4T/G3Wo8TQXiPxiWicE4V+I/ak6oRiSp4j+8BsfLD/viPw6/5VD7TOM/YHcE1uae4z+yLyNb0vDjPwToQeC9QuQ/VqBgZamU5D+oWH/qlObkP/oQnm+AOOU/S8m89GuK5T+dgdt5V9zlP+85+v5CLuY/QfIYhC6A5j+TqjcJGtLmP+ViVo4FJOc/Nxt1E/F15z+J05OY3MfnP9uLsh3IGeg/LUTRorNr6D9+/O8nn73oP9C0Dq2KD+k/Im0tMnZh6T90JUy3YbPpP8bdajxNBeo/GJaJwThX6j9qTqhGJKnqP7wGx8sP++o/Dr/lUPtM6z9gdwTW5p7rP7IvI1vS8Os/BOhB4L1C7D9WoGBlqZTsP6dYf+qU5uw/+RCeb4A47T9Lybz0a4rtP52B23lX3O0/7zn6/kIu7j9B8hiELoDuP5OqNwka0u4/5WJWjgUk7z83G3UT8XXvP4nTk5jcx+8/7kXZDuQM8D8WomjR2TXwP0D+95PPXvA/aFqHVsWH8D+RthYZu7DwP7oSptuw2fA/4241nqYC8T8My8RgnCvxPzUnVCOSVPE/XoPj5Yd98T+H33KofabxP7A7Amtzz/E/2ZeRLWn48T8C9CDwXiHyPytQsLJUSvI/VKw/dUpz8j98CM83QJzyP6ZkXvo1xfI/zsDtvCvu8j8=\",\"dtype\":\"float64\",\"order\":\"little\",\"shape\":[100]},\"right\":{\"__ndarray__\":\"BMljELoAyj9Lqt4kaEjLP5OLWTkWkMw/22zUTcTXzT8iTk9ich/PP7UXZTuQM9A/WYiiRWfX0D/9+N9PPnvRP6BpHVoVH9I/RNpaZOzC0j/oSphuw2bTP4y71XiaCtQ/MCwTg3Gu1D/UnFCNSFLVP3gNjpcf9tU/HH7LofaZ1j/A7giszT3XP2NfRrak4dc/B9CDwHuF2D+rQMHKUinZP06x/tQpzdk/8iE83wBx2j+Wknnp1xTbPzoDt/OuuNs/3nP0/YVc3D+C5DEIXQDdPyZVbxI0pN0/ysWsHAtI3j9tNuom4uvePxGnJzG5j98/2ouyHcgZ4D8sRNGis2vgP3787yefveA/0LQOrYoP4T8ibS0ydmHhP3QlTLdhs+E/xt1qPE0F4j8YlonBOFfiP2pOqEYkqeI/vAbHyw/74j8Ov+VQ+0zjP2B3BNbmnuM/si8jW9Lw4z8E6EHgvULkP1agYGWplOQ/qFh/6pTm5D/6EJ5vgDjlP0vJvPRriuU/nYHbeVfc5T/vOfr+Qi7mP0HyGIQugOY/k6o3CRrS5j/lYlaOBSTnPzcbdRPxdec/idOTmNzH5z/bi7IdyBnoPy1E0aKza+g/fvzvJ5+96D/QtA6tig/pPyJtLTJ2Yek/dCVMt2Gz6T/G3Wo8TQXqPxiWicE4V+o/ak6oRiSp6j+8BsfLD/vqPw6/5VD7TOs/YHcE1uae6z+yLyNb0vDrPwToQeC9Quw/VqBgZamU7D+nWH/qlObsP/kQnm+AOO0/S8m89GuK7T+dgdt5V9ztP+85+v5CLu4/QfIYhC6A7j+TqjcJGtLuP+ViVo4FJO8/Nxt1E/F17z+J05OY3MfvP+5F2Q7kDPA/FqJo0dk18D9A/veTz17wP2hah1bFh/A/kbYWGbuw8D+6EqbbsNnwP+NuNZ6mAvE/DMvEYJwr8T81J1QjklTxP16D4+WHffE/h99yqH2m8T+wOwJrc8/xP9mXkS1p+PE/AvQg8F4h8j8rULCyVEryP1SsP3VKc/I/fAjPN0Cc8j+mZF76NcXyP87A7bwr7vI/+Bx9fyEX8z8=\",\"dtype\":\"float64\",\"order\":\"little\",\"shape\":[100]},\"top\":{\"__ndarray__\":\"AAAAAAAAAAAAAAAAAAAAAAAAAAAAAAAAAAAAAAAAAAAAAAAAAAAAAAAAAAAAAAAAAAAAAAAAAAAAAAAAAAAAAAAAAAAAAAAAAAAAAAAAAAAAAAAAAAAAAAAAAAAAAAAAAAAAAAAAAAAAAAAAAAAAAAAAAAAAAAAAAAAAAAAAAAAAAAAAAAAAAAAAAAAAAAAAAAAAAAAAAAAAAAAAAAAAAAAAAAAAAAAAAAAAAAAAAAAAAAAAAAAAAAAAAAAAAAAAAAAAAAAAAAAAAAAAAAAAAAAAAAAAAAAAAAAAAAAAAAAAAAAAAAAAAAAAAAAAAAAAAAAAAAAAAAAAAAAAAAAAAAAAAAAAAAAAAAAAAAAAAAAAAAAAAAAAAAAAAAAAAAAAAAAAAAAAAAAAAAAAAAAAAAAAAAAAAAAAAAAAAAAAAAAAAAAAAAAAAAAAAAAAAAAAAAAAAAAAAAAAAAAAAAAAAAAAAAAAAAAAAAAAAAAAAAAAAAAAAAAAAAAAAAAAAAAAAAAAAAAAAAAAAAAAAAAAAPr//////1hAAAAAAAAAAAAAAAAAAAAAAAAAAAAAAAAAAAAAAAAAAAAAAAAAAAAAAAAAAAAAAAAAAAAAAAAAAAAAAAAAAAAAAAAAAAAAAAAAAAAAAAAAAAAAAAAAAAAAAAAAAAAAAAAAAAAAAAAAAAAAAAAAAAAAAAAAAAAAAAAAAAAAAAAAAAAAAAAAAAAAAAAAAAAAAAAAAAAAAAAAAAAAAAAAAAAAAAAAAAAAAAAAAAAAAAAAAAAAAAAAAAAAAAAAAAAAAAAAAAAAAAAAAAAAAAAAAAAAAAAAAAAAAAAAAAAAAAAAAAAAAAAAAAAAAAAAAAAAAAAAAAAAAAAAAAAAAAAAAAAAAAAAAAAAAAAAAAAAAAAAAAAAAAAAAAAAAAAAAAAAAAAAAAAAAAAAAAAAAAAAAAAAAAAAAAAAAAAAAAAAAAAAAAAAAAAAAAAAAAAAAAAAAAAAAAAAAAAAAAAAAAAAAAAAAAAAAAAAAAAAAAAAAAAAAAAAAAAAAAAAAAAAAAAAAAAAAAAAAAAAAAA=\",\"dtype\":\"float64\",\"order\":\"little\",\"shape\":[100]}},\"selected\":{\"id\":\"8613\"},\"selection_policy\":{\"id\":\"8612\"}},\"id\":\"8311\",\"type\":\"ColumnDataSource\"},{\"attributes\":{\"coordinates\":null,\"data_source\":{\"id\":\"8311\"},\"glyph\":{\"id\":\"8312\"},\"group\":null,\"hover_glyph\":null,\"muted_glyph\":{\"id\":\"8314\"},\"nonselection_glyph\":{\"id\":\"8313\"},\"view\":{\"id\":\"8316\"}},\"id\":\"8315\",\"type\":\"GlyphRenderer\"},{\"attributes\":{\"coordinates\":null,\"formatter\":{\"id\":\"8610\"},\"group\":null,\"major_label_policy\":{\"id\":\"8611\"},\"ticker\":{\"id\":\"8295\"}},\"id\":\"8294\",\"type\":\"LinearAxis\"},{\"attributes\":{\"source\":{\"id\":\"8311\"}},\"id\":\"8316\",\"type\":\"CDSView\"},{\"attributes\":{\"bottom\":{\"value\":0},\"fill_alpha\":{\"value\":0.2},\"fill_color\":{\"value\":\"#1f77b4\"},\"hatch_alpha\":{\"value\":0.2},\"left\":{\"field\":\"left\"},\"line_alpha\":{\"value\":0.2},\"line_color\":{\"value\":\"#555555\"},\"right\":{\"field\":\"right\"},\"top\":{\"field\":\"top\"}},\"id\":\"8314\",\"type\":\"Quad\"},{\"attributes\":{},\"id\":\"8607\",\"type\":\"BasicTickFormatter\"},{\"attributes\":{\"coordinates\":null,\"group\":null,\"text\":\"SY Terms Ratios Affinity Distribution\"},\"id\":\"8284\",\"type\":\"Title\"},{\"attributes\":{},\"id\":\"8608\",\"type\":\"AllLabels\"},{\"attributes\":{\"bottom\":{\"value\":0},\"fill_color\":{\"value\":\"#1f77b4\"},\"left\":{\"field\":\"left\"},\"line_color\":{\"value\":\"#555555\"},\"right\":{\"field\":\"right\"},\"top\":{\"field\":\"top\"}},\"id\":\"8312\",\"type\":\"Quad\"},{\"attributes\":{},\"id\":\"8610\",\"type\":\"BasicTickFormatter\"},{\"attributes\":{\"tools\":[{\"id\":\"8302\"},{\"id\":\"8303\"},{\"id\":\"8304\"},{\"id\":\"8305\"}]},\"id\":\"8306\",\"type\":\"Toolbar\"}],\"root_ids\":[\"8283\"]},\"title\":\"Bokeh Application\",\"version\":\"2.4.2\"}};\n",
       "  const render_items = [{\"docid\":\"bb37ba80-eaf8-441d-ae24-327a99624231\",\"root_ids\":[\"8283\"],\"roots\":{\"8283\":\"f72fa0c5-5dd9-460b-8770-8b6b1208302e\"}}];\n",
       "  root.Bokeh.embed.embed_items_notebook(docs_json, render_items);\n",
       "\n",
       "  }\n",
       "  if (root.Bokeh !== undefined) {\n",
       "    embed_document(root);\n",
       "  } else {\n",
       "    let attempts = 0;\n",
       "    const timer = setInterval(function(root) {\n",
       "      if (root.Bokeh !== undefined) {\n",
       "        clearInterval(timer);\n",
       "        embed_document(root);\n",
       "      } else {\n",
       "        attempts++;\n",
       "        if (attempts > 100) {\n",
       "          clearInterval(timer);\n",
       "          console.log(\"Bokeh: ERROR: Unable to run BokehJS code because BokehJS library is missing\");\n",
       "        }\n",
       "      }\n",
       "    }, 10, root)\n",
       "  }\n",
       "})(window);"
      ],
      "application/vnd.bokehjs_exec.v0+json": ""
     },
     "metadata": {
      "application/vnd.bokehjs_exec.v0+json": {
       "id": "8283"
      }
     },
     "output_type": "display_data"
    },
    {
     "data": {
      "text/html": [
       "\n",
       "\n",
       "\n",
       "\n",
       "\n",
       "\n",
       "  <div class=\"bk-root\" id=\"d916f1a0-9d99-419b-beca-9f36ace4bf70\" data-root-id=\"8659\"></div>\n"
      ]
     },
     "metadata": {},
     "output_type": "display_data"
    },
    {
     "data": {
      "application/javascript": [
       "(function(root) {\n",
       "  function embed_document(root) {\n",
       "    \n",
       "  const docs_json = {\"9c60604c-ef7b-408b-aef9-978cb6e4af5f\":{\"defs\":[],\"roots\":{\"references\":[{\"attributes\":{\"below\":[{\"id\":\"8670\"}],\"center\":[{\"id\":\"8673\"},{\"id\":\"8677\"}],\"left\":[{\"id\":\"8674\"}],\"renderers\":[{\"id\":\"8691\"}],\"title\":{\"id\":\"8660\"},\"toolbar\":{\"id\":\"8682\"},\"toolbar_location\":\"above\",\"x_range\":{\"id\":\"8662\"},\"x_scale\":{\"id\":\"8666\"},\"y_range\":{\"id\":\"8664\"},\"y_scale\":{\"id\":\"8668\"}},\"id\":\"8659\",\"subtype\":\"Figure\",\"type\":\"Plot\"},{\"attributes\":{},\"id\":\"8662\",\"type\":\"DataRange1d\"},{\"attributes\":{\"data\":{\"left\":{\"__ndarray__\":\"vOfo+wu5yD8EyWMQugDKP0uq3iRoSMs/k4tZORaQzD/bbNRNxNfNPyJOT2JyH88/tRdlO5Az0D9ZiKJFZ9fQP/34308+e9E/oGkdWhUf0j9E2lpk7MLSP+hKmG7DZtM/jLvVeJoK1D8wLBODca7UP9ScUI1IUtU/eA2Olx/21T8cfsuh9pnWP8DuCKzNPdc/Y19GtqTh1z8H0IPAe4XYP6tAwcpSKdk/TrH+1CnN2T/yITzfAHHaP5aSeenXFNs/OgO386642z/ec/T9hVzcP4LkMQhdAN0/JlVvEjSk3T/KxawcC0jeP2026ibi694/EacnMbmP3z/ai7IdyBngPyxE0aKza+A/fvzvJ5+94D/QtA6tig/hPyJtLTJ2YeE/dCVMt2Gz4T/G3Wo8TQXiPxiWicE4V+I/ak6oRiSp4j+8BsfLD/viPw6/5VD7TOM/YHcE1uae4z+yLyNb0vDjPwToQeC9QuQ/VqBgZamU5D+oWH/qlObkP/oQnm+AOOU/S8m89GuK5T+dgdt5V9zlP+85+v5CLuY/QfIYhC6A5j+TqjcJGtLmP+ViVo4FJOc/Nxt1E/F15z+J05OY3MfnP9uLsh3IGeg/LUTRorNr6D9+/O8nn73oP9C0Dq2KD+k/Im0tMnZh6T90JUy3YbPpP8bdajxNBeo/GJaJwThX6j9qTqhGJKnqP7wGx8sP++o/Dr/lUPtM6z9gdwTW5p7rP7IvI1vS8Os/BOhB4L1C7D9WoGBlqZTsP6dYf+qU5uw/+RCeb4A47T9Lybz0a4rtP52B23lX3O0/7zn6/kIu7j9B8hiELoDuP5OqNwka0u4/5WJWjgUk7z83G3UT8XXvP4nTk5jcx+8/7kXZDuQM8D8WomjR2TXwP0D+95PPXvA/aFqHVsWH8D+RthYZu7DwP7oSptuw2fA/4241nqYC8T8My8RgnCvxPzUnVCOSVPE/XoPj5Yd98T+H33KofabxP7A7Amtzz/E/2ZeRLWn48T8C9CDwXiHyPytQsLJUSvI/VKw/dUpz8j98CM83QJzyP6ZkXvo1xfI/zsDtvCvu8j8=\",\"dtype\":\"float64\",\"order\":\"little\",\"shape\":[100]},\"right\":{\"__ndarray__\":\"BMljELoAyj9Lqt4kaEjLP5OLWTkWkMw/22zUTcTXzT8iTk9ich/PP7UXZTuQM9A/WYiiRWfX0D/9+N9PPnvRP6BpHVoVH9I/RNpaZOzC0j/oSphuw2bTP4y71XiaCtQ/MCwTg3Gu1D/UnFCNSFLVP3gNjpcf9tU/HH7LofaZ1j/A7giszT3XP2NfRrak4dc/B9CDwHuF2D+rQMHKUinZP06x/tQpzdk/8iE83wBx2j+Wknnp1xTbPzoDt/OuuNs/3nP0/YVc3D+C5DEIXQDdPyZVbxI0pN0/ysWsHAtI3j9tNuom4uvePxGnJzG5j98/2ouyHcgZ4D8sRNGis2vgP3787yefveA/0LQOrYoP4T8ibS0ydmHhP3QlTLdhs+E/xt1qPE0F4j8YlonBOFfiP2pOqEYkqeI/vAbHyw/74j8Ov+VQ+0zjP2B3BNbmnuM/si8jW9Lw4z8E6EHgvULkP1agYGWplOQ/qFh/6pTm5D/6EJ5vgDjlP0vJvPRriuU/nYHbeVfc5T/vOfr+Qi7mP0HyGIQugOY/k6o3CRrS5j/lYlaOBSTnPzcbdRPxdec/idOTmNzH5z/bi7IdyBnoPy1E0aKza+g/fvzvJ5+96D/QtA6tig/pPyJtLTJ2Yek/dCVMt2Gz6T/G3Wo8TQXqPxiWicE4V+o/ak6oRiSp6j+8BsfLD/vqPw6/5VD7TOs/YHcE1uae6z+yLyNb0vDrPwToQeC9Quw/VqBgZamU7D+nWH/qlObsP/kQnm+AOO0/S8m89GuK7T+dgdt5V9ztP+85+v5CLu4/QfIYhC6A7j+TqjcJGtLuP+ViVo4FJO8/Nxt1E/F17z+J05OY3MfvP+5F2Q7kDPA/FqJo0dk18D9A/veTz17wP2hah1bFh/A/kbYWGbuw8D+6EqbbsNnwP+NuNZ6mAvE/DMvEYJwr8T81J1QjklTxP16D4+WHffE/h99yqH2m8T+wOwJrc8/xP9mXkS1p+PE/AvQg8F4h8j8rULCyVEryP1SsP3VKc/I/fAjPN0Cc8j+mZF76NcXyP87A7bwr7vI/+Bx9fyEX8z8=\",\"dtype\":\"float64\",\"order\":\"little\",\"shape\":[100]},\"top\":{\"__ndarray__\":\"AAAAAAAAAAAAAAAAAAAAAAAAAAAAAAAAAAAAAAAAAAAAAAAAAAAAAAAAAAAAAAAAAAAAAAAAAAAAAAAAAAAAAAAAAAAAAAAAAAAAAAAAAAAAAAAAAAAAAAAAAAAAAAAAAAAAAAAAAAAAAAAAAAAAAAAAAAAAAAAAAAAAAAAAAAAAAAAAAAAAAAAAAAAAAAAAAAAAAAAAAAAAAAAAAAAAAAAAAAAAAAAAAAAAAAAAAAAAAAAAAAAAAAAAAAAAAAAAAAAAAAAAAAAAAAAAAAAAAAAAAAAAAAAAAAAAAAAAAAAAAAAAAAAAAAAAAAAAAAAAAAAAAAAAAAAAAAAAAAAAAAAAAAAAAAAAAAAAAAAAAAAAAAAAAAAAAAAAAAAAAAAAAAAAAAAAAAAAAAAAAAAAAAAAAAAAAAAAAAAAAAAAAAAAAAAAAAAAAAAAAAAAAAAAAAAAAAAAAAAAAAAAAAAAAAAAAAAAAAAAAAAAAAAAAAAAAAAAAAAAAAAAAAAAAAAAAAAAAAAAAAAAAAAAAAAAAPn//////1hAAAAAAAAAAAAAAAAAAAAAAAAAAAAAAAAAAAAAAAAAAAAAAAAAAAAAAAAAAAAAAAAAAAAAAAAAAAAAAAAAAAAAAAAAAAAAAAAAAAAAAAAAAAAAAAAAAAAAAAAAAAAAAAAAAAAAAAAAAAAAAAAAAAAAAAAAAAAAAAAAAAAAAAAAAAAAAAAAAAAAAAAAAAAAAAAAAAAAAAAAAAAAAAAAAAAAAAAAAAAAAAAAAAAAAAAAAAAAAAAAAAAAAAAAAAAAAAAAAAAAAAAAAAAAAAAAAAAAAAAAAAAAAAAAAAAAAAAAAAAAAAAAAAAAAAAAAAAAAAAAAAAAAAAAAAAAAAAAAAAAAAAAAAAAAAAAAAAAAAAAAAAAAAAAAAAAAAAAAAAAAAAAAAAAAAAAAAAAAAAAAAAAAAAAAAAAAAAAAAAAAAAAAAAAAAAAAAAAAAAAAAAAAAAAAAAAAAAAAAAAAAAAAAAAAAAAAAAAAAAAAAAAAAAAAAAAAAAAAAAAAAAAAAAAAAAAAAAAAAAAAAA=\",\"dtype\":\"float64\",\"order\":\"little\",\"shape\":[100]}},\"selected\":{\"id\":\"8998\"},\"selection_policy\":{\"id\":\"8997\"}},\"id\":\"8687\",\"type\":\"ColumnDataSource\"},{\"attributes\":{\"bottom\":{\"value\":0},\"fill_alpha\":{\"value\":0.2},\"fill_color\":{\"value\":\"#1f77b4\"},\"hatch_alpha\":{\"value\":0.2},\"left\":{\"field\":\"left\"},\"line_alpha\":{\"value\":0.2},\"line_color\":{\"value\":\"#555555\"},\"right\":{\"field\":\"right\"},\"top\":{\"field\":\"top\"}},\"id\":\"8690\",\"type\":\"Quad\"},{\"attributes\":{},\"id\":\"8992\",\"type\":\"BasicTickFormatter\"},{\"attributes\":{},\"id\":\"8993\",\"type\":\"AllLabels\"},{\"attributes\":{\"bottom\":{\"value\":0},\"fill_color\":{\"value\":\"#1f77b4\"},\"left\":{\"field\":\"left\"},\"line_color\":{\"value\":\"#555555\"},\"right\":{\"field\":\"right\"},\"top\":{\"field\":\"top\"}},\"id\":\"8688\",\"type\":\"Quad\"},{\"attributes\":{},\"id\":\"8995\",\"type\":\"BasicTickFormatter\"},{\"attributes\":{\"coordinates\":null,\"formatter\":{\"id\":\"8992\"},\"group\":null,\"major_label_policy\":{\"id\":\"8993\"},\"ticker\":{\"id\":\"8675\"}},\"id\":\"8674\",\"type\":\"LinearAxis\"},{\"attributes\":{},\"id\":\"8996\",\"type\":\"AllLabels\"},{\"attributes\":{\"coordinates\":null,\"data_source\":{\"id\":\"8687\"},\"glyph\":{\"id\":\"8688\"},\"group\":null,\"hover_glyph\":null,\"muted_glyph\":{\"id\":\"8690\"},\"nonselection_glyph\":{\"id\":\"8689\"},\"view\":{\"id\":\"8692\"}},\"id\":\"8691\",\"type\":\"GlyphRenderer\"},{\"attributes\":{},\"id\":\"8671\",\"type\":\"BasicTicker\"},{\"attributes\":{\"axis\":{\"id\":\"8670\"},\"coordinates\":null,\"group\":null,\"ticker\":null},\"id\":\"8673\",\"type\":\"Grid\"},{\"attributes\":{\"axis\":{\"id\":\"8674\"},\"coordinates\":null,\"dimension\":1,\"group\":null,\"ticker\":null},\"id\":\"8677\",\"type\":\"Grid\"},{\"attributes\":{},\"id\":\"8675\",\"type\":\"BasicTicker\"},{\"attributes\":{},\"id\":\"8679\",\"type\":\"WheelZoomTool\"},{\"attributes\":{},\"id\":\"8997\",\"type\":\"UnionRenderers\"},{\"attributes\":{},\"id\":\"8664\",\"type\":\"DataRange1d\"},{\"attributes\":{},\"id\":\"8678\",\"type\":\"PanTool\"},{\"attributes\":{},\"id\":\"8998\",\"type\":\"Selection\"},{\"attributes\":{},\"id\":\"8680\",\"type\":\"ResetTool\"},{\"attributes\":{\"coordinates\":null,\"formatter\":{\"id\":\"8995\"},\"group\":null,\"major_label_policy\":{\"id\":\"8996\"},\"ticker\":{\"id\":\"8671\"}},\"id\":\"8670\",\"type\":\"LinearAxis\"},{\"attributes\":{\"tools\":[{\"id\":\"8678\"},{\"id\":\"8679\"},{\"id\":\"8680\"},{\"id\":\"8681\"}]},\"id\":\"8682\",\"type\":\"Toolbar\"},{\"attributes\":{},\"id\":\"8681\",\"type\":\"SaveTool\"},{\"attributes\":{},\"id\":\"8666\",\"type\":\"LinearScale\"},{\"attributes\":{\"bottom\":{\"value\":0},\"fill_alpha\":{\"value\":0.1},\"fill_color\":{\"value\":\"#1f77b4\"},\"hatch_alpha\":{\"value\":0.1},\"left\":{\"field\":\"left\"},\"line_alpha\":{\"value\":0.1},\"line_color\":{\"value\":\"#555555\"},\"right\":{\"field\":\"right\"},\"top\":{\"field\":\"top\"}},\"id\":\"8689\",\"type\":\"Quad\"},{\"attributes\":{},\"id\":\"8668\",\"type\":\"LinearScale\"},{\"attributes\":{\"source\":{\"id\":\"8687\"}},\"id\":\"8692\",\"type\":\"CDSView\"},{\"attributes\":{\"coordinates\":null,\"group\":null,\"text\":\"IQ Terms Ratios Affinity Distribution\"},\"id\":\"8660\",\"type\":\"Title\"}],\"root_ids\":[\"8659\"]},\"title\":\"Bokeh Application\",\"version\":\"2.4.2\"}};\n",
       "  const render_items = [{\"docid\":\"9c60604c-ef7b-408b-aef9-978cb6e4af5f\",\"root_ids\":[\"8659\"],\"roots\":{\"8659\":\"d916f1a0-9d99-419b-beca-9f36ace4bf70\"}}];\n",
       "  root.Bokeh.embed.embed_items_notebook(docs_json, render_items);\n",
       "\n",
       "  }\n",
       "  if (root.Bokeh !== undefined) {\n",
       "    embed_document(root);\n",
       "  } else {\n",
       "    let attempts = 0;\n",
       "    const timer = setInterval(function(root) {\n",
       "      if (root.Bokeh !== undefined) {\n",
       "        clearInterval(timer);\n",
       "        embed_document(root);\n",
       "      } else {\n",
       "        attempts++;\n",
       "        if (attempts > 100) {\n",
       "          clearInterval(timer);\n",
       "          console.log(\"Bokeh: ERROR: Unable to run BokehJS code because BokehJS library is missing\");\n",
       "        }\n",
       "      }\n",
       "    }, 10, root)\n",
       "  }\n",
       "})(window);"
      ],
      "application/vnd.bokehjs_exec.v0+json": ""
     },
     "metadata": {
      "application/vnd.bokehjs_exec.v0+json": {
       "id": "8659"
      }
     },
     "output_type": "display_data"
    },
    {
     "data": {
      "text/html": [
       "\n",
       "\n",
       "\n",
       "\n",
       "\n",
       "\n",
       "  <div class=\"bk-root\" id=\"a886c598-6f8c-4dd6-a8fd-8a2e696fb8b5\" data-root-id=\"9044\"></div>\n"
      ]
     },
     "metadata": {},
     "output_type": "display_data"
    },
    {
     "data": {
      "application/javascript": [
       "(function(root) {\n",
       "  function embed_document(root) {\n",
       "    \n",
       "  const docs_json = {\"69191952-bf01-4041-82bf-4f37b2a0c5ab\":{\"defs\":[],\"roots\":{\"references\":[{\"attributes\":{\"below\":[{\"id\":\"9055\"}],\"center\":[{\"id\":\"9058\"},{\"id\":\"9062\"}],\"left\":[{\"id\":\"9059\"}],\"renderers\":[{\"id\":\"9076\"}],\"title\":{\"id\":\"9045\"},\"toolbar\":{\"id\":\"9067\"},\"toolbar_location\":\"above\",\"x_range\":{\"id\":\"9047\"},\"x_scale\":{\"id\":\"9051\"},\"y_range\":{\"id\":\"9049\"},\"y_scale\":{\"id\":\"9053\"}},\"id\":\"9044\",\"subtype\":\"Figure\",\"type\":\"Plot\"},{\"attributes\":{},\"id\":\"9065\",\"type\":\"ResetTool\"},{\"attributes\":{},\"id\":\"9391\",\"type\":\"UnionRenderers\"},{\"attributes\":{},\"id\":\"9066\",\"type\":\"SaveTool\"},{\"attributes\":{},\"id\":\"9392\",\"type\":\"Selection\"},{\"attributes\":{\"source\":{\"id\":\"9072\"}},\"id\":\"9077\",\"type\":\"CDSView\"},{\"attributes\":{\"bottom\":{\"value\":0},\"fill_alpha\":{\"value\":0.2},\"fill_color\":{\"value\":\"#1f77b4\"},\"hatch_alpha\":{\"value\":0.2},\"left\":{\"field\":\"left\"},\"line_alpha\":{\"value\":0.2},\"line_color\":{\"value\":\"#555555\"},\"right\":{\"field\":\"right\"},\"top\":{\"field\":\"top\"}},\"id\":\"9075\",\"type\":\"Quad\"},{\"attributes\":{\"bottom\":{\"value\":0},\"fill_color\":{\"value\":\"#1f77b4\"},\"left\":{\"field\":\"left\"},\"line_color\":{\"value\":\"#555555\"},\"right\":{\"field\":\"right\"},\"top\":{\"field\":\"top\"}},\"id\":\"9073\",\"type\":\"Quad\"},{\"attributes\":{},\"id\":\"9064\",\"type\":\"WheelZoomTool\"},{\"attributes\":{},\"id\":\"9060\",\"type\":\"BasicTicker\"},{\"attributes\":{},\"id\":\"9389\",\"type\":\"BasicTickFormatter\"},{\"attributes\":{\"tools\":[{\"id\":\"9063\"},{\"id\":\"9064\"},{\"id\":\"9065\"},{\"id\":\"9066\"}]},\"id\":\"9067\",\"type\":\"Toolbar\"},{\"attributes\":{\"coordinates\":null,\"data_source\":{\"id\":\"9072\"},\"glyph\":{\"id\":\"9073\"},\"group\":null,\"hover_glyph\":null,\"muted_glyph\":{\"id\":\"9075\"},\"nonselection_glyph\":{\"id\":\"9074\"},\"view\":{\"id\":\"9077\"}},\"id\":\"9076\",\"type\":\"GlyphRenderer\"},{\"attributes\":{},\"id\":\"9387\",\"type\":\"AllLabels\"},{\"attributes\":{\"coordinates\":null,\"formatter\":{\"id\":\"9386\"},\"group\":null,\"major_label_policy\":{\"id\":\"9387\"},\"ticker\":{\"id\":\"9060\"}},\"id\":\"9059\",\"type\":\"LinearAxis\"},{\"attributes\":{},\"id\":\"9386\",\"type\":\"BasicTickFormatter\"},{\"attributes\":{\"coordinates\":null,\"group\":null,\"text\":\"TN Terms Ratios Affinity Distribution\"},\"id\":\"9045\",\"type\":\"Title\"},{\"attributes\":{},\"id\":\"9053\",\"type\":\"LinearScale\"},{\"attributes\":{\"coordinates\":null,\"formatter\":{\"id\":\"9389\"},\"group\":null,\"major_label_policy\":{\"id\":\"9390\"},\"ticker\":{\"id\":\"9056\"}},\"id\":\"9055\",\"type\":\"LinearAxis\"},{\"attributes\":{},\"id\":\"9049\",\"type\":\"DataRange1d\"},{\"attributes\":{},\"id\":\"9063\",\"type\":\"PanTool\"},{\"attributes\":{\"axis\":{\"id\":\"9059\"},\"coordinates\":null,\"dimension\":1,\"group\":null,\"ticker\":null},\"id\":\"9062\",\"type\":\"Grid\"},{\"attributes\":{},\"id\":\"9047\",\"type\":\"DataRange1d\"},{\"attributes\":{},\"id\":\"9390\",\"type\":\"AllLabels\"},{\"attributes\":{},\"id\":\"9051\",\"type\":\"LinearScale\"},{\"attributes\":{\"axis\":{\"id\":\"9055\"},\"coordinates\":null,\"group\":null,\"ticker\":null},\"id\":\"9058\",\"type\":\"Grid\"},{\"attributes\":{\"bottom\":{\"value\":0},\"fill_alpha\":{\"value\":0.1},\"fill_color\":{\"value\":\"#1f77b4\"},\"hatch_alpha\":{\"value\":0.1},\"left\":{\"field\":\"left\"},\"line_alpha\":{\"value\":0.1},\"line_color\":{\"value\":\"#555555\"},\"right\":{\"field\":\"right\"},\"top\":{\"field\":\"top\"}},\"id\":\"9074\",\"type\":\"Quad\"},{\"attributes\":{\"data\":{\"left\":{\"__ndarray__\":\"vOfo+wu5yD8EyWMQugDKP0uq3iRoSMs/k4tZORaQzD/bbNRNxNfNPyJOT2JyH88/tRdlO5Az0D9ZiKJFZ9fQP/34308+e9E/oGkdWhUf0j9E2lpk7MLSP+hKmG7DZtM/jLvVeJoK1D8wLBODca7UP9ScUI1IUtU/eA2Olx/21T8cfsuh9pnWP8DuCKzNPdc/Y19GtqTh1z8H0IPAe4XYP6tAwcpSKdk/TrH+1CnN2T/yITzfAHHaP5aSeenXFNs/OgO386642z/ec/T9hVzcP4LkMQhdAN0/JlVvEjSk3T/KxawcC0jeP2026ibi694/EacnMbmP3z/ai7IdyBngPyxE0aKza+A/fvzvJ5+94D/QtA6tig/hPyJtLTJ2YeE/dCVMt2Gz4T/G3Wo8TQXiPxiWicE4V+I/ak6oRiSp4j+8BsfLD/viPw6/5VD7TOM/YHcE1uae4z+yLyNb0vDjPwToQeC9QuQ/VqBgZamU5D+oWH/qlObkP/oQnm+AOOU/S8m89GuK5T+dgdt5V9zlP+85+v5CLuY/QfIYhC6A5j+TqjcJGtLmP+ViVo4FJOc/Nxt1E/F15z+J05OY3MfnP9uLsh3IGeg/LUTRorNr6D9+/O8nn73oP9C0Dq2KD+k/Im0tMnZh6T90JUy3YbPpP8bdajxNBeo/GJaJwThX6j9qTqhGJKnqP7wGx8sP++o/Dr/lUPtM6z9gdwTW5p7rP7IvI1vS8Os/BOhB4L1C7D9WoGBlqZTsP6dYf+qU5uw/+RCeb4A47T9Lybz0a4rtP52B23lX3O0/7zn6/kIu7j9B8hiELoDuP5OqNwka0u4/5WJWjgUk7z83G3UT8XXvP4nTk5jcx+8/7kXZDuQM8D8WomjR2TXwP0D+95PPXvA/aFqHVsWH8D+RthYZu7DwP7oSptuw2fA/4241nqYC8T8My8RgnCvxPzUnVCOSVPE/XoPj5Yd98T+H33KofabxP7A7Amtzz/E/2ZeRLWn48T8C9CDwXiHyPytQsLJUSvI/VKw/dUpz8j98CM83QJzyP6ZkXvo1xfI/zsDtvCvu8j8=\",\"dtype\":\"float64\",\"order\":\"little\",\"shape\":[100]},\"right\":{\"__ndarray__\":\"BMljELoAyj9Lqt4kaEjLP5OLWTkWkMw/22zUTcTXzT8iTk9ich/PP7UXZTuQM9A/WYiiRWfX0D/9+N9PPnvRP6BpHVoVH9I/RNpaZOzC0j/oSphuw2bTP4y71XiaCtQ/MCwTg3Gu1D/UnFCNSFLVP3gNjpcf9tU/HH7LofaZ1j/A7giszT3XP2NfRrak4dc/B9CDwHuF2D+rQMHKUinZP06x/tQpzdk/8iE83wBx2j+Wknnp1xTbPzoDt/OuuNs/3nP0/YVc3D+C5DEIXQDdPyZVbxI0pN0/ysWsHAtI3j9tNuom4uvePxGnJzG5j98/2ouyHcgZ4D8sRNGis2vgP3787yefveA/0LQOrYoP4T8ibS0ydmHhP3QlTLdhs+E/xt1qPE0F4j8YlonBOFfiP2pOqEYkqeI/vAbHyw/74j8Ov+VQ+0zjP2B3BNbmnuM/si8jW9Lw4z8E6EHgvULkP1agYGWplOQ/qFh/6pTm5D/6EJ5vgDjlP0vJvPRriuU/nYHbeVfc5T/vOfr+Qi7mP0HyGIQugOY/k6o3CRrS5j/lYlaOBSTnPzcbdRPxdec/idOTmNzH5z/bi7IdyBnoPy1E0aKza+g/fvzvJ5+96D/QtA6tig/pPyJtLTJ2Yek/dCVMt2Gz6T/G3Wo8TQXqPxiWicE4V+o/ak6oRiSp6j+8BsfLD/vqPw6/5VD7TOs/YHcE1uae6z+yLyNb0vDrPwToQeC9Quw/VqBgZamU7D+nWH/qlObsP/kQnm+AOO0/S8m89GuK7T+dgdt5V9ztP+85+v5CLu4/QfIYhC6A7j+TqjcJGtLuP+ViVo4FJO8/Nxt1E/F17z+J05OY3MfvP+5F2Q7kDPA/FqJo0dk18D9A/veTz17wP2hah1bFh/A/kbYWGbuw8D+6EqbbsNnwP+NuNZ6mAvE/DMvEYJwr8T81J1QjklTxP16D4+WHffE/h99yqH2m8T+wOwJrc8/xP9mXkS1p+PE/AvQg8F4h8j8rULCyVEryP1SsP3VKc/I/fAjPN0Cc8j+mZF76NcXyP87A7bwr7vI/+Bx9fyEX8z8=\",\"dtype\":\"float64\",\"order\":\"little\",\"shape\":[100]},\"top\":{\"__ndarray__\":\"AAAAAAAAAAAAAAAAAAAAAAAAAAAAAAAAAAAAAAAAAAAAAAAAAAAAAAAAAAAAAAAAAAAAAAAAAAAAAAAAAAAAAAAAAAAAAAAAAAAAAAAAAAAAAAAAAAAAAAAAAAAAAAAAAAAAAAAAAAAAAAAAAAAAAAAAAAAAAAAAAAAAAAAAAAAAAAAAAAAAAAAAAAAAAAAAAAAAAAAAAAAAAAAAAAAAAAAAAAAAAAAAAAAAAAAAAAAAAAAAAAAAAAAAAAAAAAAAAAAAAAAAAAAAAAAAAAAAAAAAAAAAAAAAAAAAAAAAAAAAAAAAAAAAAAAAAAAAAAAAAAAAAAAAAAAAAAAAAAAAAAAAAAAAAAAAAAAAAAAAAAAAAAAAAAAAAAAAAAAAAAAAAAAAAAAAAAAAAAAAAAAAAAAAAAAAAAAAAAAAAAAAAAAAAAAAAAAAAAAAAAAAAAAAAAAAAAAAAAAAAAAAAAAAAAAAAAAAAAAAAAAAAAAAAAAAAAAAAAAAAAAAAAAAAAAAAAAAAAAAAAAAAAAAAAAAAPr//////1hAAAAAAAAAAAAAAAAAAAAAAAAAAAAAAAAAAAAAAAAAAAAAAAAAAAAAAAAAAAAAAAAAAAAAAAAAAAAAAAAAAAAAAAAAAAAAAAAAAAAAAAAAAAAAAAAAAAAAAAAAAAAAAAAAAAAAAAAAAAAAAAAAAAAAAAAAAAAAAAAAAAAAAAAAAAAAAAAAAAAAAAAAAAAAAAAAAAAAAAAAAAAAAAAAAAAAAAAAAAAAAAAAAAAAAAAAAAAAAAAAAAAAAAAAAAAAAAAAAAAAAAAAAAAAAAAAAAAAAAAAAAAAAAAAAAAAAAAAAAAAAAAAAAAAAAAAAAAAAAAAAAAAAAAAAAAAAAAAAAAAAAAAAAAAAAAAAAAAAAAAAAAAAAAAAAAAAAAAAAAAAAAAAAAAAAAAAAAAAAAAAAAAAAAAAAAAAAAAAAAAAAAAAAAAAAAAAAAAAAAAAAAAAAAAAAAAAAAAAAAAAAAAAAAAAAAAAAAAAAAAAAAAAAAAAAAAAAAAAAAAAAAAAAAAAAAAAAAAAAAAAAA=\",\"dtype\":\"float64\",\"order\":\"little\",\"shape\":[100]}},\"selected\":{\"id\":\"9392\"},\"selection_policy\":{\"id\":\"9391\"}},\"id\":\"9072\",\"type\":\"ColumnDataSource\"},{\"attributes\":{},\"id\":\"9056\",\"type\":\"BasicTicker\"}],\"root_ids\":[\"9044\"]},\"title\":\"Bokeh Application\",\"version\":\"2.4.2\"}};\n",
       "  const render_items = [{\"docid\":\"69191952-bf01-4041-82bf-4f37b2a0c5ab\",\"root_ids\":[\"9044\"],\"roots\":{\"9044\":\"a886c598-6f8c-4dd6-a8fd-8a2e696fb8b5\"}}];\n",
       "  root.Bokeh.embed.embed_items_notebook(docs_json, render_items);\n",
       "\n",
       "  }\n",
       "  if (root.Bokeh !== undefined) {\n",
       "    embed_document(root);\n",
       "  } else {\n",
       "    let attempts = 0;\n",
       "    const timer = setInterval(function(root) {\n",
       "      if (root.Bokeh !== undefined) {\n",
       "        clearInterval(timer);\n",
       "        embed_document(root);\n",
       "      } else {\n",
       "        attempts++;\n",
       "        if (attempts > 100) {\n",
       "          clearInterval(timer);\n",
       "          console.log(\"Bokeh: ERROR: Unable to run BokehJS code because BokehJS library is missing\");\n",
       "        }\n",
       "      }\n",
       "    }, 10, root)\n",
       "  }\n",
       "})(window);"
      ],
      "application/vnd.bokehjs_exec.v0+json": ""
     },
     "metadata": {
      "application/vnd.bokehjs_exec.v0+json": {
       "id": "9044"
      }
     },
     "output_type": "display_data"
    },
    {
     "data": {
      "text/html": [
       "\n",
       "\n",
       "\n",
       "\n",
       "\n",
       "\n",
       "  <div class=\"bk-root\" id=\"7d47ea00-cd9e-43a1-8841-9bd5627c2353\" data-root-id=\"9438\"></div>\n"
      ]
     },
     "metadata": {},
     "output_type": "display_data"
    },
    {
     "data": {
      "application/javascript": [
       "(function(root) {\n",
       "  function embed_document(root) {\n",
       "    \n",
       "  const docs_json = {\"6e0eac78-b86c-41af-945e-7125d457460e\":{\"defs\":[],\"roots\":{\"references\":[{\"attributes\":{\"below\":[{\"id\":\"9449\"}],\"center\":[{\"id\":\"9452\"},{\"id\":\"9456\"}],\"left\":[{\"id\":\"9453\"}],\"renderers\":[{\"id\":\"9470\"}],\"title\":{\"id\":\"9439\"},\"toolbar\":{\"id\":\"9461\"},\"toolbar_location\":\"above\",\"x_range\":{\"id\":\"9441\"},\"x_scale\":{\"id\":\"9445\"},\"y_range\":{\"id\":\"9443\"},\"y_scale\":{\"id\":\"9447\"}},\"id\":\"9438\",\"subtype\":\"Figure\",\"type\":\"Plot\"},{\"attributes\":{\"coordinates\":null,\"formatter\":{\"id\":\"9789\"},\"group\":null,\"major_label_policy\":{\"id\":\"9790\"},\"ticker\":{\"id\":\"9454\"}},\"id\":\"9453\",\"type\":\"LinearAxis\"},{\"attributes\":{\"source\":{\"id\":\"9466\"}},\"id\":\"9471\",\"type\":\"CDSView\"},{\"attributes\":{},\"id\":\"9793\",\"type\":\"AllLabels\"},{\"attributes\":{\"data\":{\"left\":{\"__ndarray__\":\"vOfo+wu5yD8EyWMQugDKP0uq3iRoSMs/k4tZORaQzD/bbNRNxNfNPyJOT2JyH88/tRdlO5Az0D9ZiKJFZ9fQP/34308+e9E/oGkdWhUf0j9E2lpk7MLSP+hKmG7DZtM/jLvVeJoK1D8wLBODca7UP9ScUI1IUtU/eA2Olx/21T8cfsuh9pnWP8DuCKzNPdc/Y19GtqTh1z8H0IPAe4XYP6tAwcpSKdk/TrH+1CnN2T/yITzfAHHaP5aSeenXFNs/OgO386642z/ec/T9hVzcP4LkMQhdAN0/JlVvEjSk3T/KxawcC0jeP2026ibi694/EacnMbmP3z/ai7IdyBngPyxE0aKza+A/fvzvJ5+94D/QtA6tig/hPyJtLTJ2YeE/dCVMt2Gz4T/G3Wo8TQXiPxiWicE4V+I/ak6oRiSp4j+8BsfLD/viPw6/5VD7TOM/YHcE1uae4z+yLyNb0vDjPwToQeC9QuQ/VqBgZamU5D+oWH/qlObkP/oQnm+AOOU/S8m89GuK5T+dgdt5V9zlP+85+v5CLuY/QfIYhC6A5j+TqjcJGtLmP+ViVo4FJOc/Nxt1E/F15z+J05OY3MfnP9uLsh3IGeg/LUTRorNr6D9+/O8nn73oP9C0Dq2KD+k/Im0tMnZh6T90JUy3YbPpP8bdajxNBeo/GJaJwThX6j9qTqhGJKnqP7wGx8sP++o/Dr/lUPtM6z9gdwTW5p7rP7IvI1vS8Os/BOhB4L1C7D9WoGBlqZTsP6dYf+qU5uw/+RCeb4A47T9Lybz0a4rtP52B23lX3O0/7zn6/kIu7j9B8hiELoDuP5OqNwka0u4/5WJWjgUk7z83G3UT8XXvP4nTk5jcx+8/7kXZDuQM8D8WomjR2TXwP0D+95PPXvA/aFqHVsWH8D+RthYZu7DwP7oSptuw2fA/4241nqYC8T8My8RgnCvxPzUnVCOSVPE/XoPj5Yd98T+H33KofabxP7A7Amtzz/E/2ZeRLWn48T8C9CDwXiHyPytQsLJUSvI/VKw/dUpz8j98CM83QJzyP6ZkXvo1xfI/zsDtvCvu8j8=\",\"dtype\":\"float64\",\"order\":\"little\",\"shape\":[100]},\"right\":{\"__ndarray__\":\"BMljELoAyj9Lqt4kaEjLP5OLWTkWkMw/22zUTcTXzT8iTk9ich/PP7UXZTuQM9A/WYiiRWfX0D/9+N9PPnvRP6BpHVoVH9I/RNpaZOzC0j/oSphuw2bTP4y71XiaCtQ/MCwTg3Gu1D/UnFCNSFLVP3gNjpcf9tU/HH7LofaZ1j/A7giszT3XP2NfRrak4dc/B9CDwHuF2D+rQMHKUinZP06x/tQpzdk/8iE83wBx2j+Wknnp1xTbPzoDt/OuuNs/3nP0/YVc3D+C5DEIXQDdPyZVbxI0pN0/ysWsHAtI3j9tNuom4uvePxGnJzG5j98/2ouyHcgZ4D8sRNGis2vgP3787yefveA/0LQOrYoP4T8ibS0ydmHhP3QlTLdhs+E/xt1qPE0F4j8YlonBOFfiP2pOqEYkqeI/vAbHyw/74j8Ov+VQ+0zjP2B3BNbmnuM/si8jW9Lw4z8E6EHgvULkP1agYGWplOQ/qFh/6pTm5D/6EJ5vgDjlP0vJvPRriuU/nYHbeVfc5T/vOfr+Qi7mP0HyGIQugOY/k6o3CRrS5j/lYlaOBSTnPzcbdRPxdec/idOTmNzH5z/bi7IdyBnoPy1E0aKza+g/fvzvJ5+96D/QtA6tig/pPyJtLTJ2Yek/dCVMt2Gz6T/G3Wo8TQXqPxiWicE4V+o/ak6oRiSp6j+8BsfLD/vqPw6/5VD7TOs/YHcE1uae6z+yLyNb0vDrPwToQeC9Quw/VqBgZamU7D+nWH/qlObsP/kQnm+AOO0/S8m89GuK7T+dgdt5V9ztP+85+v5CLu4/QfIYhC6A7j+TqjcJGtLuP+ViVo4FJO8/Nxt1E/F17z+J05OY3MfvP+5F2Q7kDPA/FqJo0dk18D9A/veTz17wP2hah1bFh/A/kbYWGbuw8D+6EqbbsNnwP+NuNZ6mAvE/DMvEYJwr8T81J1QjklTxP16D4+WHffE/h99yqH2m8T+wOwJrc8/xP9mXkS1p+PE/AvQg8F4h8j8rULCyVEryP1SsP3VKc/I/fAjPN0Cc8j+mZF76NcXyP87A7bwr7vI/+Bx9fyEX8z8=\",\"dtype\":\"float64\",\"order\":\"little\",\"shape\":[100]},\"top\":{\"__ndarray__\":\"AAAAAAAAAAAAAAAAAAAAAAAAAAAAAAAAAAAAAAAAAAAAAAAAAAAAAAAAAAAAAAAAAAAAAAAAAAAAAAAAAAAAAAAAAAAAAAAAAAAAAAAAAAAAAAAAAAAAAAAAAAAAAAAAAAAAAAAAAAAAAAAAAAAAAAAAAAAAAAAAAAAAAAAAAAAAAAAAAAAAAAAAAAAAAAAAAAAAAAAAAAAAAAAAAAAAAAAAAAAAAAAAAAAAAAAAAAAAAAAAAAAAAAAAAAAAAAAAAAAAAAAAAAAAAAAAAAAAAAAAAAAAAAAAAAAAAAAAAAAAAAAAAAAAAAAAAAAAAAAAAAAAAAAAAAAAAAAAAAAAAAAAAAAAAAAAAAAAAAAAAAAAAAAAAAAAAAAAAAAAAAAAAAAAAAAAAAAAAAAAAAAAAAAAAAAAAAAAAAAAAAAAAAAAAAAAAAAAAAAAAAAAAAAAAAAAAAAAAAAAAAAAAAAAAAAAAAAAAAAAAAAAAAAAAAAAAAAAAAAAAAAAAAAAAAAAAAAAAAAAAAAAAAAAAAAAAPn//////1hAAAAAAAAAAAAAAAAAAAAAAAAAAAAAAAAAAAAAAAAAAAAAAAAAAAAAAAAAAAAAAAAAAAAAAAAAAAAAAAAAAAAAAAAAAAAAAAAAAAAAAAAAAAAAAAAAAAAAAAAAAAAAAAAAAAAAAAAAAAAAAAAAAAAAAAAAAAAAAAAAAAAAAAAAAAAAAAAAAAAAAAAAAAAAAAAAAAAAAAAAAAAAAAAAAAAAAAAAAAAAAAAAAAAAAAAAAAAAAAAAAAAAAAAAAAAAAAAAAAAAAAAAAAAAAAAAAAAAAAAAAAAAAAAAAAAAAAAAAAAAAAAAAAAAAAAAAAAAAAAAAAAAAAAAAAAAAAAAAAAAAAAAAAAAAAAAAAAAAAAAAAAAAAAAAAAAAAAAAAAAAAAAAAAAAAAAAAAAAAAAAAAAAAAAAAAAAAAAAAAAAAAAAAAAAAAAAAAAAAAAAAAAAAAAAAAAAAAAAAAAAAAAAAAAAAAAAAAAAAAAAAAAAAAAAAAAAAAAAAAAAAAAAAAAAAAAAAAAAAAAAAA=\",\"dtype\":\"float64\",\"order\":\"little\",\"shape\":[100]}},\"selected\":{\"id\":\"9795\"},\"selection_policy\":{\"id\":\"9794\"}},\"id\":\"9466\",\"type\":\"ColumnDataSource\"},{\"attributes\":{\"coordinates\":null,\"formatter\":{\"id\":\"9792\"},\"group\":null,\"major_label_policy\":{\"id\":\"9793\"},\"ticker\":{\"id\":\"9450\"}},\"id\":\"9449\",\"type\":\"LinearAxis\"},{\"attributes\":{},\"id\":\"9450\",\"type\":\"BasicTicker\"},{\"attributes\":{\"axis\":{\"id\":\"9449\"},\"coordinates\":null,\"group\":null,\"ticker\":null},\"id\":\"9452\",\"type\":\"Grid\"},{\"attributes\":{\"axis\":{\"id\":\"9453\"},\"coordinates\":null,\"dimension\":1,\"group\":null,\"ticker\":null},\"id\":\"9456\",\"type\":\"Grid\"},{\"attributes\":{},\"id\":\"9454\",\"type\":\"BasicTicker\"},{\"attributes\":{},\"id\":\"9794\",\"type\":\"UnionRenderers\"},{\"attributes\":{\"bottom\":{\"value\":0},\"fill_alpha\":{\"value\":0.2},\"fill_color\":{\"value\":\"#1f77b4\"},\"hatch_alpha\":{\"value\":0.2},\"left\":{\"field\":\"left\"},\"line_alpha\":{\"value\":0.2},\"line_color\":{\"value\":\"#555555\"},\"right\":{\"field\":\"right\"},\"top\":{\"field\":\"top\"}},\"id\":\"9469\",\"type\":\"Quad\"},{\"attributes\":{\"coordinates\":null,\"group\":null,\"text\":\"SD Terms Ratios Affinity Distribution\"},\"id\":\"9439\",\"type\":\"Title\"},{\"attributes\":{},\"id\":\"9458\",\"type\":\"WheelZoomTool\"},{\"attributes\":{},\"id\":\"9457\",\"type\":\"PanTool\"},{\"attributes\":{},\"id\":\"9795\",\"type\":\"Selection\"},{\"attributes\":{},\"id\":\"9459\",\"type\":\"ResetTool\"},{\"attributes\":{},\"id\":\"9460\",\"type\":\"SaveTool\"},{\"attributes\":{},\"id\":\"9443\",\"type\":\"DataRange1d\"},{\"attributes\":{},\"id\":\"9441\",\"type\":\"DataRange1d\"},{\"attributes\":{},\"id\":\"9447\",\"type\":\"LinearScale\"},{\"attributes\":{},\"id\":\"9445\",\"type\":\"LinearScale\"},{\"attributes\":{\"coordinates\":null,\"data_source\":{\"id\":\"9466\"},\"glyph\":{\"id\":\"9467\"},\"group\":null,\"hover_glyph\":null,\"muted_glyph\":{\"id\":\"9469\"},\"nonselection_glyph\":{\"id\":\"9468\"},\"view\":{\"id\":\"9471\"}},\"id\":\"9470\",\"type\":\"GlyphRenderer\"},{\"attributes\":{\"tools\":[{\"id\":\"9457\"},{\"id\":\"9458\"},{\"id\":\"9459\"},{\"id\":\"9460\"}]},\"id\":\"9461\",\"type\":\"Toolbar\"},{\"attributes\":{\"bottom\":{\"value\":0},\"fill_alpha\":{\"value\":0.1},\"fill_color\":{\"value\":\"#1f77b4\"},\"hatch_alpha\":{\"value\":0.1},\"left\":{\"field\":\"left\"},\"line_alpha\":{\"value\":0.1},\"line_color\":{\"value\":\"#555555\"},\"right\":{\"field\":\"right\"},\"top\":{\"field\":\"top\"}},\"id\":\"9468\",\"type\":\"Quad\"},{\"attributes\":{},\"id\":\"9789\",\"type\":\"BasicTickFormatter\"},{\"attributes\":{},\"id\":\"9790\",\"type\":\"AllLabels\"},{\"attributes\":{\"bottom\":{\"value\":0},\"fill_color\":{\"value\":\"#1f77b4\"},\"left\":{\"field\":\"left\"},\"line_color\":{\"value\":\"#555555\"},\"right\":{\"field\":\"right\"},\"top\":{\"field\":\"top\"}},\"id\":\"9467\",\"type\":\"Quad\"},{\"attributes\":{},\"id\":\"9792\",\"type\":\"BasicTickFormatter\"}],\"root_ids\":[\"9438\"]},\"title\":\"Bokeh Application\",\"version\":\"2.4.2\"}};\n",
       "  const render_items = [{\"docid\":\"6e0eac78-b86c-41af-945e-7125d457460e\",\"root_ids\":[\"9438\"],\"roots\":{\"9438\":\"7d47ea00-cd9e-43a1-8841-9bd5627c2353\"}}];\n",
       "  root.Bokeh.embed.embed_items_notebook(docs_json, render_items);\n",
       "\n",
       "  }\n",
       "  if (root.Bokeh !== undefined) {\n",
       "    embed_document(root);\n",
       "  } else {\n",
       "    let attempts = 0;\n",
       "    const timer = setInterval(function(root) {\n",
       "      if (root.Bokeh !== undefined) {\n",
       "        clearInterval(timer);\n",
       "        embed_document(root);\n",
       "      } else {\n",
       "        attempts++;\n",
       "        if (attempts > 100) {\n",
       "          clearInterval(timer);\n",
       "          console.log(\"Bokeh: ERROR: Unable to run BokehJS code because BokehJS library is missing\");\n",
       "        }\n",
       "      }\n",
       "    }, 10, root)\n",
       "  }\n",
       "})(window);"
      ],
      "application/vnd.bokehjs_exec.v0+json": ""
     },
     "metadata": {
      "application/vnd.bokehjs_exec.v0+json": {
       "id": "9438"
      }
     },
     "output_type": "display_data"
    }
   ],
   "source": [
    "for dialect in df['dialect'].unique():\n",
    "    hist, edges = np.histogram(list(map(lambda x:x[1], reversed(logs_of_dialect_words[dialect].most_common()))), \n",
    "                              density=True, bins=100,normed=True)\n",
    "\n",
    "    p = figure(tools='pan,wheel_zoom,reset,save', \n",
    "               toolbar_location='above',\n",
    "               title = dialect+' Terms Ratios Affinity Distribution')\n",
    "\n",
    "    p.quad(top=hist, bottom=0, left=edges[:-1], right=edges[1:], line_color='#555555')\n",
    "    show(p)"
   ]
  },
  {
   "cell_type": "markdown",
   "id": "e640b18b",
   "metadata": {},
   "source": [
    "### Building the Model"
   ]
  },
  {
   "cell_type": "code",
   "execution_count": 23,
   "id": "a45a84af",
   "metadata": {},
   "outputs": [],
   "source": [
    "class ClassifierNetwork:\n",
    "    def __init__(self, data, logs_of_dialect_words, terms_indicies, input_nodes, hidden_nodes=18, learning_rate=0.01):\n",
    "        \n",
    "        # Initialize input variables\n",
    "        self.logs_of_dialect_words = logs_of_dialect_words\n",
    "        self.terms_indicies = terms_indicies\n",
    "        self.text_df = data['text']\n",
    "        self.targets = data['dialect']\n",
    "        self.targets_vector = data[df.columns[-18:]]\n",
    "        \n",
    "        # self.input_nodes = len(self.text_terms)\n",
    "        self.input_nodes = input_nodes\n",
    "        self.output_nodes = 18\n",
    "        self.hidden_nodes = hidden_nodes\n",
    "        self.learning_rate = learning_rate\n",
    "        self.count_margin = 50\n",
    "        self.ratio_margin = 1\n",
    "        \n",
    "        \n",
    "        # Assign a seed to our random number generator to ensure we get\n",
    "        # reproducable results during development \n",
    "        np.random.seed(1)\n",
    "        \n",
    "        # Directly initialize the network layers\n",
    "        self.init_network()\n",
    "    #--------------------------------------------------------------------------------------#\n",
    "     \n",
    "    #--------------------------------------------------------------------------------------#\n",
    "    def init_network(self):\n",
    "        # Initializing the training net\n",
    "        print(\"### Initializing the training net...\")\n",
    "        #--------------------------------------------------------------------------------------#\n",
    "        self.weights_0_1 = np.zeros((self.input_nodes, self.hidden_nodes))\n",
    "        self.weights_1_2 = np.random.normal(0.0, self.output_nodes**-0.5, (self.hidden_nodes, self.output_nodes))\n",
    "        self.layer_1 = np.zeros((1, self.hidden_nodes))\n",
    "        print(\"### Net is ready to be trained...\")\n",
    "    \n",
    "    #--------------------------------------------------------------------------------------#\n",
    "    def update_input(self, input_text):\n",
    "        # Clear previuos inputs\n",
    "        self.input_layer = np.zeros((self.input_nodes, self.hidden_nodes))\n",
    "        self.input_layer *= 0\n",
    "\n",
    "        # Getting the number of words in the text\n",
    "        for term in input_text.split(\" \"):\n",
    "            self.input_layer[0][self.terms_indicies[term]] = 1 # = 1 instead of += 1\n",
    "        return self.input_layer\n",
    "    \n",
    "    #--------------------------------------------------------------------------------------#\n",
    "    def softmax(self, logits):\n",
    "        e_x = np.exp(logits - np.max(logits))\n",
    "        return e_x / e_x.sum()\n",
    "    \n",
    "    #--------------------------------------------------------------------------------------#\n",
    "    def softmax_dervitive(self, softout):\n",
    "        softout = softout.reshape(-1,1)\n",
    "        return np.diagflat(softout) - np.dot(softout, softout.T)\n",
    " \n",
    "\n",
    "    \n",
    "    #--------------------------------------------------------------------------------------#\n",
    "    #--------------------------------------------------------------------------------------#\n",
    "    #--------------------------------------------------------------------------------------#\n",
    "    #--------------------------------------------------------------------------------------#\n",
    "    #--------------------------------------------------------------------------------------#\n",
    "    #--------------------------------------------------------------------------------------#\n",
    "    #--------------------------------------------------------------------------------------#\n",
    "    def train(self, training_size=30000):\n",
    "        # Training net\n",
    "        print(\"### Training net...\")\n",
    "        #--------------------------------------------------------------------------------------#\n",
    "        self.training_size = training_size\n",
    "        self.training_text = self.text_df[:self.training_size]\n",
    "        self.training_targets = self.targets_vector[:self.training_size]\n",
    "        \n",
    "        #--------------------------------------------------------------------------------------#\n",
    "        # Generating the Input Layer\n",
    "        training_terms_indicies = list()\n",
    "        for text in self.training_text:\n",
    "            indicies_of_terms = set()\n",
    "            for term in text.split(\" \"):\n",
    "                if term in self.terms_indicies.keys():\n",
    "                    # Add the index of the term from terms_indicies\n",
    "                    indicies_of_terms.add(self.terms_indicies[term])\n",
    "            training_terms_indicies.append(list(indicies_of_terms))\n",
    "        \n",
    "        # Making sure the training text and targets are equal\n",
    "        assert(len(training_terms_indicies) == len(self.training_targets))\n",
    "        \n",
    "        #--------------------------------------------------------------------------------------#\n",
    "        correct = 0\n",
    "        start_time = time.time()\n",
    "        \n",
    "        #--------------------------------------------------------------------------------------#\n",
    "        # Selecting the input Text & Target\n",
    "        for index, text in enumerate(training_terms_indicies):\n",
    "            text = training_terms_indicies[index]\n",
    "            target = self.training_targets[index:index+1].values\n",
    "            \n",
    "            # Forward Propagation\n",
    "            # Hidden layer\n",
    "            self.layer_1 *= 0\n",
    "            for num in text:\n",
    "                # Adding in only the weights for non-zero terms\n",
    "                self.layer_1 += self.weights_0_1[num]\n",
    "            \n",
    "            # Output layer\n",
    "            layer_2 = self.softmax(self.layer_1.dot(self.weights_1_2))\n",
    "        #--------------------------------------------------------------------------------------#\n",
    "            \n",
    "            # Back Propagation or Backward Pass\n",
    "            # Output error\n",
    "            layer_2_error = target - layer_2\n",
    "            layer_2_delta = layer_2_error * self.softmax_dervitive(layer_2)\n",
    "            \n",
    "            # Backpropagated error\n",
    "            layer_1_error = layer_2_delta.dot(self.weights_1_2.T)\n",
    "            layer_1_delta = layer_1_error\n",
    "            \n",
    "            # Update the weights\n",
    "            self.weights_1_2 += self.layer_1.dot(layer_2_delta) * self.learning_rate\n",
    "            \n",
    "            # Only update the weights that were used in the forward pass\n",
    "            for num in text:\n",
    "                self.weights_0_1[num] += layer_1_delta[0] * self.learning_rate\n",
    "            \n",
    "            # Keep track of correct predictions.\n",
    "            if(np.argmax(target) == np.argmax(layer_2)):\n",
    "                correct += 1\n",
    "#                 print(np.argmax(target), np.argmax(layer_2))\n",
    "                \n",
    "            \n",
    "            # Print out our prediction accuracy and speed \n",
    "            # throughout the training process.\n",
    "            text_per_second = index / (time.time()+1 - start_time)\n",
    "            progress = (100 * index / len(training_terms_indicies))\n",
    "            training_accuracy = correct * 100 / float(index+1)\n",
    "            \n",
    "            sys.stdout.write(\"\\rProgress:\" + str(progress)[:4] \\\n",
    "                              + \"% Speed(cells/sec):\" + str(text_per_second)[0:5] \\\n",
    "                              + \" #Correct:\" + str(correct) + \" #Trained:\" + str(index+1) \\\n",
    "                              + \" Training Accuracy:\" + str(training_accuracy)[:4] + \"%\")\n",
    "            \n",
    "            \n",
    "\n",
    "        end_time = time.time()\n",
    "        training_time = end_time - start_time\n",
    "    \n",
    "    \n",
    "    #--------------------------------------------------------------------------------------#\n",
    "    def test(self):\n",
    "        self.testing_text = self.text_df[-self.training_size:]\n",
    "        self.testing_targets = self.targets[-self.training_size:]\n",
    "        \n",
    "        testing_terms_indicies = list()\n",
    "        for text in self.testing_text:\n",
    "            indicies_of_terms = set()\n",
    "            for term in text.split(\" \"):\n",
    "                if term in self.terms_indicies.keys():\n",
    "                    # Add the index of the term from terms_indicies\n",
    "                    indicies_of_terms.add(self.terms_indicies[term])\n",
    "            testing_terms_indicies.append(list(indicies_of_terms))\n",
    "        \n",
    "        # Making sure the training text and targets are equal\n",
    "        assert(len(testing_terms_indicies) == len(self.testing_targets))\n",
    "        \n",
    "        correct = 0\n",
    "        start_time = time.time()\n",
    "        \n",
    "        for num, text in enumerate(self.testing_text):\n",
    "            text = testing_terms_indicies[num]\n",
    "            target = self.testing_targets[num:num+1].values\n",
    "            predection = self.run(text)\n",
    "            \n",
    "            if(np.argmax(target) == np.argmax(predection)):\n",
    "                correct += 1\n",
    "            \n",
    "                \n",
    "            text_per_second = num / (time.time() - start_time)+1\n",
    "            progress = (100 * num / len(self.testing_text))\n",
    "            training_accuracy = correct * 100 / float(num+1)\n",
    "            \n",
    "            sys.stdout.write(\"\\rProgress:\" + str(progress)[:4] \\\n",
    "                              + \"% Speed(reviews/sec):\" + str(text_per_second)[0:5] \\\n",
    "                              + \" #Correct:\" + str(correct) + \" #Trained:\" + str(num+1) \\\n",
    "                              + \" Training Accuracy:\" + str(training_accuracy)[:4] + \"%\")\n",
    "            \n",
    "            \n",
    "    #--------------------------------------------------------------------------------------#\n",
    "    def run(self, text):\n",
    "        self.update_input(text)\n",
    "        layer_1 = self.input_layer.dot(self.weights_0_1)\n",
    "        layer_2 = self.softmax(self.layer_1.dot(self.weights_1_2))\n",
    "        \n",
    "        return layer_2\n",
    "         "
   ]
  },
  {
   "cell_type": "markdown",
   "id": "dc0429e1",
   "metadata": {},
   "source": [
    "### Defining the Classifier"
   ]
  },
  {
   "cell_type": "code",
   "execution_count": 24,
   "id": "3ac374b1",
   "metadata": {},
   "outputs": [
    {
     "name": "stdout",
     "output_type": "stream",
     "text": [
      "### Initializing the training net...\n",
      "### Net is ready to be trained...\n"
     ]
    }
   ],
   "source": [
    "classifier = ClassifierNetwork(df[df.columns[-20:]], logs_of_dialect_words, terms_indicies, input_nodes, hidden_nodes=18, learning_rate=0.0001)"
   ]
  },
  {
   "cell_type": "markdown",
   "id": "82967e0f",
   "metadata": {},
   "source": [
    "### Training the Classifier "
   ]
  },
  {
   "cell_type": "code",
   "execution_count": 25,
   "id": "13cf3eba",
   "metadata": {},
   "outputs": [
    {
     "name": "stdout",
     "output_type": "stream",
     "text": [
      "### Training net...\n",
      "Progress:99.9% Speed(cells/sec):2145. #Correct:22316 #Trained:400000 Training Accuracy:5.57%"
     ]
    }
   ],
   "source": [
    "classifier.train(training_size = 400000)"
   ]
  },
  {
   "cell_type": "code",
   "execution_count": 26,
   "id": "85f6de5e",
   "metadata": {},
   "outputs": [],
   "source": [
    "# classifier.test()"
   ]
  },
  {
   "cell_type": "markdown",
   "id": "b068cfb2",
   "metadata": {},
   "source": [
    "### Not Finished Yet"
   ]
  },
  {
   "cell_type": "code",
   "execution_count": 27,
   "id": "bff06796",
   "metadata": {},
   "outputs": [],
   "source": [
    "# df['tokenized_text'] = df['text'].apply(simple_word_tokenize)"
   ]
  },
  {
   "cell_type": "code",
   "execution_count": null,
   "id": "6fee6dbd",
   "metadata": {},
   "outputs": [],
   "source": []
  }
 ],
 "metadata": {
  "kernelspec": {
   "display_name": "Python 3 (ipykernel)",
   "language": "python",
   "name": "python3"
  },
  "language_info": {
   "codemirror_mode": {
    "name": "ipython",
    "version": 3
   },
   "file_extension": ".py",
   "mimetype": "text/x-python",
   "name": "python",
   "nbconvert_exporter": "python",
   "pygments_lexer": "ipython3",
   "version": "3.9.5"
  }
 },
 "nbformat": 4,
 "nbformat_minor": 5
}
